{
 "cells": [
  {
   "cell_type": "code",
   "execution_count": 109,
   "metadata": {},
   "outputs": [],
   "source": [
    "import pandas as pd\n",
    "import numpy as np\n",
    "\n",
    "from sklearn.metrics import confusion_matrix\n",
    "from sklearn.metrics import accuracy_score, roc_auc_score\n",
    "\n",
    "from sklearn.model_selection import train_test_split\n",
    "from sklearn.model_selection import KFold\n",
    "from sklearn.model_selection import cross_validate\n",
    "\n",
    "import lightgbm as lgb\n",
    "import xgboost as xgb\n",
    "from catboost import CatBoostClassifier\n",
    "\n"
   ]
  },
  {
   "cell_type": "code",
   "execution_count": 6,
   "metadata": {},
   "outputs": [],
   "source": [
    "tf_seba = pd.read_csv('tp2-datos/tp2-datos/src/features_seba.csv')\n",
    "tf_santi = pd.read_csv('tp2-datos/tp2-datos/src/santi_timefeatures.csv')\n",
    "tf_santi_2 = pd.read_csv('tp2-datos/tp2-datos/src/Santi_FeaturesConEventos.csv')\n",
    "labels = pd.read_csv('../../data/labels_training_set.csv') #las personas de las cuales tengo Info\n",
    "personas =pd.read_csv('../../data/trocafone_kaggle_test.csv') #las personas a las que le tengo que predecir"
   ]
  },
  {
   "cell_type": "code",
   "execution_count": 7,
   "metadata": {},
   "outputs": [],
   "source": [
    "#Datos a entregar\n",
    "santi_seba = pd.merge(tf_santi_2,tf_seba, on = 'person',how = 'inner')\n",
    "datos = pd.merge(personas, santi_seba, on = 'person', how = 'inner')"
   ]
  },
  {
   "cell_type": "code",
   "execution_count": 8,
   "metadata": {},
   "outputs": [],
   "source": [
    "#Datos para entrenar\n",
    "#labels_f = pd.merge(tf_santi_2,tf_seba, on = 'person',how = 'inner')\n",
    "labels_f = pd.merge(labels, santi_seba, on = 'person', how = 'inner')"
   ]
  },
  {
   "cell_type": "code",
   "execution_count": 9,
   "metadata": {},
   "outputs": [],
   "source": [
    "y = labels_f.iloc[:,1:2]\n",
    "X = labels_f.iloc[:,3: 406]"
   ]
  },
  {
   "cell_type": "code",
   "execution_count": 10,
   "metadata": {},
   "outputs": [],
   "source": [
    "X_train, X_test, y_train, y_test = train_test_split(X, y, test_size= 0.2, random_state= 123)"
   ]
  },
  {
   "cell_type": "markdown",
   "metadata": {},
   "source": [
    "xgboost"
   ]
  },
  {
   "cell_type": "code",
   "execution_count": 149,
   "metadata": {},
   "outputs": [
    {
     "name": "stdout",
     "output_type": "stream",
     "text": [
      "ROC auc score:  0.8602808960083497\n"
     ]
    }
   ],
   "source": [
    "xg_reg = xgb.XGBClassifier(objective ='binary:logistic', \n",
    "                colsample_bytree = 0.8, learning_rate = 0.1,\n",
    "                max_depth = 5, n_estimators = 6, scale_pos_weight = 7, min_child_weight=15)\n",
    "\n",
    "xg_reg.fit(X_train, y_train['label'])\n",
    "proba = xg_reg.predict_proba(X_test)[:,1]\n",
    "print(\"ROC auc score: \", roc_auc_score(y_test, proba))"
   ]
  },
  {
   "cell_type": "markdown",
   "metadata": {},
   "source": [
    "lightgbm"
   ]
  },
  {
   "cell_type": "code",
   "execution_count": 150,
   "metadata": {},
   "outputs": [
    {
     "name": "stdout",
     "output_type": "stream",
     "text": [
      "ROC auc score:  0.8760167732127764\n"
     ]
    }
   ],
   "source": [
    "\n",
    "params = {\n",
    "    'objective': 'binary',\n",
    "    'metric': {'roc_auc'},\n",
    "    'num_leaves': 11,\n",
    "    'learning_rate': 0.1,\n",
    "    'feature_fraction': 0.9,\n",
    "    'bagging_fraction': 0.8,\n",
    "    'bagging_freq': 7,\n",
    "    'max_depth': 5,\n",
    "}\n",
    "\n",
    "lgbm = lgb.LGBMClassifier(boosting_type='gbdt', objective='binary', metric='roc_auc', num_leaves=11, learning_rate=0.1,\\\n",
    "                         max_depth=5,)\n",
    "\n",
    "lgbm.fit(X_train, y_train['label'])\n",
    "\n",
    "preds = lgbm.predict_proba(X_test)[:,1]\n",
    "print(\"ROC auc score: \", roc_auc_score(y_test, preds))\n"
   ]
  },
  {
   "cell_type": "markdown",
   "metadata": {},
   "source": [
    "#### Para subir a Kaggle"
   ]
  },
  {
   "cell_type": "code",
   "execution_count": 151,
   "metadata": {},
   "outputs": [
    {
     "data": {
      "text/plain": [
       "LGBMClassifier(boosting_type='gbdt', class_weight=None, colsample_bytree=1.0,\n",
       "        importance_type='split', learning_rate=0.1, max_depth=5,\n",
       "        metric='roc_auc', min_child_samples=20, min_child_weight=0.001,\n",
       "        min_split_gain=0.0, n_estimators=100, n_jobs=-1, num_leaves=11,\n",
       "        objective='binary', random_state=None, reg_alpha=0.0,\n",
       "        reg_lambda=0.0, silent=True, subsample=1.0,\n",
       "        subsample_for_bin=200000, subsample_freq=0)"
      ]
     },
     "execution_count": 151,
     "metadata": {},
     "output_type": "execute_result"
    }
   ],
   "source": [
    "lgbm = lgb.LGBMClassifier(boosting_type='gbdt', objective='binary', metric='roc_auc', num_leaves=11, learning_rate=0.1,\\\n",
    "                         max_depth=5,)\n",
    "\n",
    "lgbm.fit(X, y['label'])\n"
   ]
  },
  {
   "cell_type": "code",
   "execution_count": 152,
   "metadata": {},
   "outputs": [
    {
     "data": {
      "text/html": [
       "<div>\n",
       "<style scoped>\n",
       "    .dataframe tbody tr th:only-of-type {\n",
       "        vertical-align: middle;\n",
       "    }\n",
       "\n",
       "    .dataframe tbody tr th {\n",
       "        vertical-align: top;\n",
       "    }\n",
       "\n",
       "    .dataframe thead th {\n",
       "        text-align: right;\n",
       "    }\n",
       "</style>\n",
       "<table border=\"1\" class=\"dataframe\">\n",
       "  <thead>\n",
       "    <tr style=\"text-align: right;\">\n",
       "      <th></th>\n",
       "      <th>person</th>\n",
       "      <th>ad campaign hit</th>\n",
       "      <th>brand listing</th>\n",
       "      <th>checkout</th>\n",
       "      <th>conversion</th>\n",
       "      <th>generic listing</th>\n",
       "      <th>lead</th>\n",
       "      <th>search engine hit</th>\n",
       "      <th>searched products</th>\n",
       "      <th>staticpage</th>\n",
       "      <th>...</th>\n",
       "      <th>viewed product mes 4</th>\n",
       "      <th>visited site mes 4</th>\n",
       "      <th>distan_dias</th>\n",
       "      <th>nuevo_mes_5</th>\n",
       "      <th>cant_dias_dist</th>\n",
       "      <th>modelos_dist</th>\n",
       "      <th>promedio_por_dia_x</th>\n",
       "      <th>promedio_por_mes</th>\n",
       "      <th>mes_primer_entrada</th>\n",
       "      <th>promedio_por_dia_y</th>\n",
       "    </tr>\n",
       "  </thead>\n",
       "  <tbody>\n",
       "    <tr>\n",
       "      <th>0</th>\n",
       "      <td>4886f805</td>\n",
       "      <td>0.0</td>\n",
       "      <td>0.0</td>\n",
       "      <td>1.0</td>\n",
       "      <td>0.0</td>\n",
       "      <td>1.0</td>\n",
       "      <td>0.0</td>\n",
       "      <td>1.0</td>\n",
       "      <td>1.0</td>\n",
       "      <td>0.0</td>\n",
       "      <td>...</td>\n",
       "      <td>0.0</td>\n",
       "      <td>0.0</td>\n",
       "      <td>0</td>\n",
       "      <td>1.0</td>\n",
       "      <td>1</td>\n",
       "      <td>1</td>\n",
       "      <td>9.000000</td>\n",
       "      <td>9.0</td>\n",
       "      <td>5</td>\n",
       "      <td>9.000000</td>\n",
       "    </tr>\n",
       "    <tr>\n",
       "      <th>1</th>\n",
       "      <td>0297fc1e</td>\n",
       "      <td>29.0</td>\n",
       "      <td>4.0</td>\n",
       "      <td>7.0</td>\n",
       "      <td>0.0</td>\n",
       "      <td>21.0</td>\n",
       "      <td>1.0</td>\n",
       "      <td>0.0</td>\n",
       "      <td>6.0</td>\n",
       "      <td>0.0</td>\n",
       "      <td>...</td>\n",
       "      <td>100.0</td>\n",
       "      <td>22.0</td>\n",
       "      <td>138</td>\n",
       "      <td>0.0</td>\n",
       "      <td>59</td>\n",
       "      <td>15</td>\n",
       "      <td>9.610169</td>\n",
       "      <td>113.4</td>\n",
       "      <td>1</td>\n",
       "      <td>11.533333</td>\n",
       "    </tr>\n",
       "    <tr>\n",
       "      <th>2</th>\n",
       "      <td>2d681dd8</td>\n",
       "      <td>1.0</td>\n",
       "      <td>5.0</td>\n",
       "      <td>1.0</td>\n",
       "      <td>0.0</td>\n",
       "      <td>1.0</td>\n",
       "      <td>0.0</td>\n",
       "      <td>2.0</td>\n",
       "      <td>1.0</td>\n",
       "      <td>0.0</td>\n",
       "      <td>...</td>\n",
       "      <td>0.0</td>\n",
       "      <td>0.0</td>\n",
       "      <td>9</td>\n",
       "      <td>1.0</td>\n",
       "      <td>2</td>\n",
       "      <td>3</td>\n",
       "      <td>13.000000</td>\n",
       "      <td>26.0</td>\n",
       "      <td>5</td>\n",
       "      <td>13.000000</td>\n",
       "    </tr>\n",
       "    <tr>\n",
       "      <th>3</th>\n",
       "      <td>cccea85e</td>\n",
       "      <td>15.0</td>\n",
       "      <td>7.0</td>\n",
       "      <td>1.0</td>\n",
       "      <td>0.0</td>\n",
       "      <td>20.0</td>\n",
       "      <td>0.0</td>\n",
       "      <td>26.0</td>\n",
       "      <td>1.0</td>\n",
       "      <td>5.0</td>\n",
       "      <td>...</td>\n",
       "      <td>0.0</td>\n",
       "      <td>0.0</td>\n",
       "      <td>23</td>\n",
       "      <td>1.0</td>\n",
       "      <td>13</td>\n",
       "      <td>57</td>\n",
       "      <td>64.307692</td>\n",
       "      <td>836.0</td>\n",
       "      <td>5</td>\n",
       "      <td>64.307692</td>\n",
       "    </tr>\n",
       "    <tr>\n",
       "      <th>4</th>\n",
       "      <td>4c8a8b93</td>\n",
       "      <td>14.0</td>\n",
       "      <td>8.0</td>\n",
       "      <td>2.0</td>\n",
       "      <td>0.0</td>\n",
       "      <td>14.0</td>\n",
       "      <td>0.0</td>\n",
       "      <td>13.0</td>\n",
       "      <td>9.0</td>\n",
       "      <td>0.0</td>\n",
       "      <td>...</td>\n",
       "      <td>0.0</td>\n",
       "      <td>0.0</td>\n",
       "      <td>4</td>\n",
       "      <td>1.0</td>\n",
       "      <td>5</td>\n",
       "      <td>9</td>\n",
       "      <td>51.400000</td>\n",
       "      <td>257.0</td>\n",
       "      <td>5</td>\n",
       "      <td>51.400000</td>\n",
       "    </tr>\n",
       "    <tr>\n",
       "      <th>5</th>\n",
       "      <td>29ebb414</td>\n",
       "      <td>4.0</td>\n",
       "      <td>0.0</td>\n",
       "      <td>1.0</td>\n",
       "      <td>0.0</td>\n",
       "      <td>3.0</td>\n",
       "      <td>0.0</td>\n",
       "      <td>4.0</td>\n",
       "      <td>11.0</td>\n",
       "      <td>0.0</td>\n",
       "      <td>...</td>\n",
       "      <td>0.0</td>\n",
       "      <td>0.0</td>\n",
       "      <td>2</td>\n",
       "      <td>1.0</td>\n",
       "      <td>2</td>\n",
       "      <td>3</td>\n",
       "      <td>17.500000</td>\n",
       "      <td>35.0</td>\n",
       "      <td>5</td>\n",
       "      <td>17.500000</td>\n",
       "    </tr>\n",
       "    <tr>\n",
       "      <th>6</th>\n",
       "      <td>3dc1950f</td>\n",
       "      <td>3.0</td>\n",
       "      <td>6.0</td>\n",
       "      <td>3.0</td>\n",
       "      <td>0.0</td>\n",
       "      <td>25.0</td>\n",
       "      <td>0.0</td>\n",
       "      <td>7.0</td>\n",
       "      <td>2.0</td>\n",
       "      <td>1.0</td>\n",
       "      <td>...</td>\n",
       "      <td>347.0</td>\n",
       "      <td>13.0</td>\n",
       "      <td>41</td>\n",
       "      <td>0.0</td>\n",
       "      <td>19</td>\n",
       "      <td>56</td>\n",
       "      <td>35.368421</td>\n",
       "      <td>336.0</td>\n",
       "      <td>4</td>\n",
       "      <td>26.090909</td>\n",
       "    </tr>\n",
       "    <tr>\n",
       "      <th>7</th>\n",
       "      <td>8ea4c165</td>\n",
       "      <td>13.0</td>\n",
       "      <td>5.0</td>\n",
       "      <td>3.0</td>\n",
       "      <td>0.0</td>\n",
       "      <td>8.0</td>\n",
       "      <td>0.0</td>\n",
       "      <td>9.0</td>\n",
       "      <td>17.0</td>\n",
       "      <td>0.0</td>\n",
       "      <td>...</td>\n",
       "      <td>10.0</td>\n",
       "      <td>2.0</td>\n",
       "      <td>20</td>\n",
       "      <td>0.0</td>\n",
       "      <td>5</td>\n",
       "      <td>15</td>\n",
       "      <td>31.800000</td>\n",
       "      <td>79.5</td>\n",
       "      <td>4</td>\n",
       "      <td>43.666667</td>\n",
       "    </tr>\n",
       "    <tr>\n",
       "      <th>8</th>\n",
       "      <td>d8cfe234</td>\n",
       "      <td>0.0</td>\n",
       "      <td>4.0</td>\n",
       "      <td>3.0</td>\n",
       "      <td>1.0</td>\n",
       "      <td>1.0</td>\n",
       "      <td>0.0</td>\n",
       "      <td>2.0</td>\n",
       "      <td>8.0</td>\n",
       "      <td>0.0</td>\n",
       "      <td>...</td>\n",
       "      <td>3.0</td>\n",
       "      <td>1.0</td>\n",
       "      <td>42</td>\n",
       "      <td>0.0</td>\n",
       "      <td>5</td>\n",
       "      <td>7</td>\n",
       "      <td>12.400000</td>\n",
       "      <td>31.0</td>\n",
       "      <td>4</td>\n",
       "      <td>13.250000</td>\n",
       "    </tr>\n",
       "    <tr>\n",
       "      <th>9</th>\n",
       "      <td>d6bc64df</td>\n",
       "      <td>10.0</td>\n",
       "      <td>0.0</td>\n",
       "      <td>2.0</td>\n",
       "      <td>0.0</td>\n",
       "      <td>12.0</td>\n",
       "      <td>0.0</td>\n",
       "      <td>8.0</td>\n",
       "      <td>19.0</td>\n",
       "      <td>0.0</td>\n",
       "      <td>...</td>\n",
       "      <td>90.0</td>\n",
       "      <td>5.0</td>\n",
       "      <td>30</td>\n",
       "      <td>0.0</td>\n",
       "      <td>7</td>\n",
       "      <td>13</td>\n",
       "      <td>30.428571</td>\n",
       "      <td>106.5</td>\n",
       "      <td>4</td>\n",
       "      <td>32.666667</td>\n",
       "    </tr>\n",
       "  </tbody>\n",
       "</table>\n",
       "<p>10 rows × 194 columns</p>\n",
       "</div>"
      ],
      "text/plain": [
       "     person  ad campaign hit  brand listing  checkout  conversion  \\\n",
       "0  4886f805              0.0            0.0       1.0         0.0   \n",
       "1  0297fc1e             29.0            4.0       7.0         0.0   \n",
       "2  2d681dd8              1.0            5.0       1.0         0.0   \n",
       "3  cccea85e             15.0            7.0       1.0         0.0   \n",
       "4  4c8a8b93             14.0            8.0       2.0         0.0   \n",
       "5  29ebb414              4.0            0.0       1.0         0.0   \n",
       "6  3dc1950f              3.0            6.0       3.0         0.0   \n",
       "7  8ea4c165             13.0            5.0       3.0         0.0   \n",
       "8  d8cfe234              0.0            4.0       3.0         1.0   \n",
       "9  d6bc64df             10.0            0.0       2.0         0.0   \n",
       "\n",
       "   generic listing  lead  search engine hit  searched products  staticpage  \\\n",
       "0              1.0   0.0                1.0                1.0         0.0   \n",
       "1             21.0   1.0                0.0                6.0         0.0   \n",
       "2              1.0   0.0                2.0                1.0         0.0   \n",
       "3             20.0   0.0               26.0                1.0         5.0   \n",
       "4             14.0   0.0               13.0                9.0         0.0   \n",
       "5              3.0   0.0                4.0               11.0         0.0   \n",
       "6             25.0   0.0                7.0                2.0         1.0   \n",
       "7              8.0   0.0                9.0               17.0         0.0   \n",
       "8              1.0   0.0                2.0                8.0         0.0   \n",
       "9             12.0   0.0                8.0               19.0         0.0   \n",
       "\n",
       "          ...          viewed product mes 4  visited site mes 4  distan_dias  \\\n",
       "0         ...                           0.0                 0.0            0   \n",
       "1         ...                         100.0                22.0          138   \n",
       "2         ...                           0.0                 0.0            9   \n",
       "3         ...                           0.0                 0.0           23   \n",
       "4         ...                           0.0                 0.0            4   \n",
       "5         ...                           0.0                 0.0            2   \n",
       "6         ...                         347.0                13.0           41   \n",
       "7         ...                          10.0                 2.0           20   \n",
       "8         ...                           3.0                 1.0           42   \n",
       "9         ...                          90.0                 5.0           30   \n",
       "\n",
       "   nuevo_mes_5  cant_dias_dist  modelos_dist  promedio_por_dia_x  \\\n",
       "0          1.0               1             1            9.000000   \n",
       "1          0.0              59            15            9.610169   \n",
       "2          1.0               2             3           13.000000   \n",
       "3          1.0              13            57           64.307692   \n",
       "4          1.0               5             9           51.400000   \n",
       "5          1.0               2             3           17.500000   \n",
       "6          0.0              19            56           35.368421   \n",
       "7          0.0               5            15           31.800000   \n",
       "8          0.0               5             7           12.400000   \n",
       "9          0.0               7            13           30.428571   \n",
       "\n",
       "   promedio_por_mes  mes_primer_entrada  promedio_por_dia_y  \n",
       "0               9.0                   5            9.000000  \n",
       "1             113.4                   1           11.533333  \n",
       "2              26.0                   5           13.000000  \n",
       "3             836.0                   5           64.307692  \n",
       "4             257.0                   5           51.400000  \n",
       "5              35.0                   5           17.500000  \n",
       "6             336.0                   4           26.090909  \n",
       "7              79.5                   4           43.666667  \n",
       "8              31.0                   4           13.250000  \n",
       "9             106.5                   4           32.666667  \n",
       "\n",
       "[10 rows x 194 columns]"
      ]
     },
     "execution_count": 152,
     "metadata": {},
     "output_type": "execute_result"
    }
   ],
   "source": [
    "df_final = datos.filter(items= ['person'] + list(X.columns))\n",
    "df_final_sin_persons= df_final.drop(columns='person')\n",
    "df_final.head(10)"
   ]
  },
  {
   "cell_type": "code",
   "execution_count": 153,
   "metadata": {},
   "outputs": [
    {
     "name": "stderr",
     "output_type": "stream",
     "text": [
      "C:\\Users\\seba\\Anaconda3\\lib\\site-packages\\ipykernel_launcher.py:5: SettingWithCopyWarning: \n",
      "A value is trying to be set on a copy of a slice from a DataFrame.\n",
      "Try using .loc[row_indexer,col_indexer] = value instead\n",
      "\n",
      "See the caveats in the documentation: http://pandas.pydata.org/pandas-docs/stable/indexing.html#indexing-view-versus-copy\n",
      "  \"\"\"\n"
     ]
    }
   ],
   "source": [
    "proba = pd.Series(lgbm.predict_proba(df_final_sin_persons)[:,1])\n",
    "\n",
    "predicciones = df_final[['person']]\n",
    "\n",
    "predicciones['label'] = proba"
   ]
  },
  {
   "cell_type": "code",
   "execution_count": 154,
   "metadata": {},
   "outputs": [],
   "source": [
    "predicciones.to_csv('predicciones_lgbm.csv', encoding='utf-8', index=False)"
   ]
  },
  {
   "cell_type": "code",
   "execution_count": 155,
   "metadata": {},
   "outputs": [
    {
     "data": {
      "text/plain": [
       "(19415, 2)"
      ]
     },
     "execution_count": 155,
     "metadata": {},
     "output_type": "execute_result"
    }
   ],
   "source": [
    "predicciones.shape"
   ]
  },
  {
   "cell_type": "code",
   "execution_count": 163,
   "metadata": {
    "scrolled": true
   },
   "outputs": [
    {
     "data": {
      "text/html": [
       "<div>\n",
       "<style scoped>\n",
       "    .dataframe tbody tr th:only-of-type {\n",
       "        vertical-align: middle;\n",
       "    }\n",
       "\n",
       "    .dataframe tbody tr th {\n",
       "        vertical-align: top;\n",
       "    }\n",
       "\n",
       "    .dataframe thead th {\n",
       "        text-align: right;\n",
       "    }\n",
       "</style>\n",
       "<table border=\"1\" class=\"dataframe\">\n",
       "  <thead>\n",
       "    <tr style=\"text-align: right;\">\n",
       "      <th></th>\n",
       "      <th>person</th>\n",
       "      <th>label</th>\n",
       "    </tr>\n",
       "  </thead>\n",
       "  <tbody>\n",
       "    <tr>\n",
       "      <th>0</th>\n",
       "      <td>4886f805</td>\n",
       "      <td>0.003592</td>\n",
       "    </tr>\n",
       "    <tr>\n",
       "      <th>1</th>\n",
       "      <td>0297fc1e</td>\n",
       "      <td>0.039446</td>\n",
       "    </tr>\n",
       "    <tr>\n",
       "      <th>2</th>\n",
       "      <td>2d681dd8</td>\n",
       "      <td>0.018425</td>\n",
       "    </tr>\n",
       "    <tr>\n",
       "      <th>3</th>\n",
       "      <td>cccea85e</td>\n",
       "      <td>0.051121</td>\n",
       "    </tr>\n",
       "    <tr>\n",
       "      <th>4</th>\n",
       "      <td>4c8a8b93</td>\n",
       "      <td>0.010524</td>\n",
       "    </tr>\n",
       "  </tbody>\n",
       "</table>\n",
       "</div>"
      ],
      "text/plain": [
       "     person     label\n",
       "0  4886f805  0.003592\n",
       "1  0297fc1e  0.039446\n",
       "2  2d681dd8  0.018425\n",
       "3  cccea85e  0.051121\n",
       "4  4c8a8b93  0.010524"
      ]
     },
     "execution_count": 163,
     "metadata": {},
     "output_type": "execute_result"
    }
   ],
   "source": [
    "predicciones.head()"
   ]
  },
  {
   "cell_type": "markdown",
   "metadata": {},
   "source": [
    "# Seleccion de features con RFE"
   ]
  },
  {
   "cell_type": "markdown",
   "metadata": {},
   "source": [
    "### Usando todos los features con XGBoost"
   ]
  },
  {
   "cell_type": "code",
   "execution_count": 3,
   "metadata": {},
   "outputs": [],
   "source": [
    "from sklearn.feature_selection import RFE\n",
    "xg_reg = xgb.XGBClassifier(objective ='binary:logistic', \n",
    "                colsample_bytree = 0.8, learning_rate = 0.1,\n",
    "                max_depth = 5, n_estimators = 6, scale_pos_weight = 7, min_child_weight=15)\n"
   ]
  },
  {
   "cell_type": "code",
   "execution_count": 12,
   "metadata": {},
   "outputs": [
    {
     "name": "stdout",
     "output_type": "stream",
     "text": [
      "n =  43\n"
     ]
    }
   ],
   "source": [
    "n = 43\n",
    "rfe = RFE(xg_reg, n)\n",
    "rfe = rfe.fit(X, y['label'].ravel())\n",
    "   \n",
    "print('n = ', n)\n",
    "   \n",
    "# Selecciono los n features para entrenar\n",
    "mask = rfe.get_support()\n",
    "features_X = X.columns[mask]\n",
    "new_x = X.filter(items=features_X)"
   ]
  },
  {
   "cell_type": "code",
   "execution_count": 31,
   "metadata": {},
   "outputs": [
    {
     "name": "stdout",
     "output_type": "stream",
     "text": [
      "ROC auc score:  0.8659617795374746\n"
     ]
    }
   ],
   "source": [
    "# Entrenamos y predecimos\n",
    "X_train, X_test, y_train, y_test = train_test_split(new_x, y['label'], test_size=0.2, random_state=123)\n",
    "    \n",
    "xg_reg = xgb.XGBClassifier(objective ='binary:logistic', \n",
    "                colsample_bytree = 0.8, learning_rate = 0.1,\n",
    "                max_depth = 5, n_estimators = 6, scale_pos_weight = 7, min_child_weight=15)\n",
    "\n",
    "xg_reg.fit(X_train,y_train)\n",
    "proba = xg_reg.predict_proba(X_test)[:,1]\n",
    "print(\"ROC auc score: \", roc_auc_score(y_test, proba))\n",
    "# con tf_santi_2,tf_seba, y n=43 me da 0.8626966186972823 (Filtrando X) ESTE SUBI A KAGGLE Y DIO 0.86148"
   ]
  },
  {
   "cell_type": "markdown",
   "metadata": {},
   "source": [
    "### Con lightgbm"
   ]
  },
  {
   "cell_type": "code",
   "execution_count": 117,
   "metadata": {},
   "outputs": [],
   "source": [
    "lgbm = lgb.LGBMClassifier(boosting_type='gbdt', objective='binary', metric='roc_auc', num_leaves=11, learning_rate=0.1,\\\n",
    "                         max_depth=5,)"
   ]
  },
  {
   "cell_type": "code",
   "execution_count": 118,
   "metadata": {},
   "outputs": [
    {
     "name": "stdout",
     "output_type": "stream",
     "text": [
      "n =  43\n"
     ]
    }
   ],
   "source": [
    "n = 43\n",
    "rfe = RFE(lgbm, n)\n",
    "rfe = rfe.fit(X, y['label'].ravel())\n",
    "   \n",
    "print('n = ', n)\n",
    "   \n",
    "# Selecciono los n features para entrenar\n",
    "mask = rfe.get_support()\n",
    "features_X = X.columns[mask]\n",
    "new_x = X.filter(items=features_X)"
   ]
  },
  {
   "cell_type": "code",
   "execution_count": 120,
   "metadata": {},
   "outputs": [
    {
     "name": "stdout",
     "output_type": "stream",
     "text": [
      "ROC auc score:  0.8627774500405576\n"
     ]
    }
   ],
   "source": [
    "X_train, X_test, y_train, y_test = train_test_split(new_x, y['label'], test_size=0.2, random_state=123)\n",
    "\n",
    "lgbm.fit(X_train, y_train)\n",
    "\n",
    "preds = lgbm.predict_proba(X_test)[:,1]\n",
    "print(\"ROC auc score: \", roc_auc_score(y_test, preds))\n"
   ]
  },
  {
   "cell_type": "markdown",
   "metadata": {},
   "source": [
    "## RFECV con lightgbm"
   ]
  },
  {
   "cell_type": "code",
   "execution_count": 70,
   "metadata": {},
   "outputs": [
    {
     "name": "stdout",
     "output_type": "stream",
     "text": [
      "Optimal number of features : 46\n"
     ]
    },
    {
     "data": {
      "image/png": "[encoded data removed]",
      "text/plain": [
       "<Figure size 432x288 with 1 Axes>"
      ]
     },
     "metadata": {
      "needs_background": "light"
     },
     "output_type": "display_data"
    }
   ],
   "source": [
    "import matplotlib.pyplot as plt\n",
    "\n",
    "from sklearn.model_selection import StratifiedKFold\n",
    "from sklearn.feature_selection import RFECV\n",
    "\n",
    "lgbm = lgb.LGBMClassifier(boosting_type='gbdt', objective='binary', metric='roc_auc', num_leaves=11, learning_rate=0.1,\\\n",
    "                         max_depth=5,)\n",
    "\n",
    "\n",
    "rfecv = RFECV(estimator=lgbm, step=1, cv=StratifiedKFold(10), n_jobs=3, scoring='roc_auc')\n",
    "\n",
    "rfecv.fit(X, y['label'].ravel())\n",
    "\n",
    "print(\"Optimal number of features : %d\" % rfecv.n_features_)\n",
    "\n",
    "# Plot number of features VS. cross-validation scores\n",
    "plt.figure()\n",
    "plt.xlabel(\"Number of features selected\")\n",
    "plt.ylabel(\"Cross validation score (nb of correct classifications)\")\n",
    "plt.plot(range(1, len(rfecv.grid_scores_) + 1), rfecv.grid_scores_)\n",
    "plt.show()"
   ]
  },
  {
   "cell_type": "code",
   "execution_count": 71,
   "metadata": {},
   "outputs": [
    {
     "name": "stdout",
     "output_type": "stream",
     "text": [
      "ROC auc score con RandomForest:  0.8635595287390877\n",
      "ROC auc score con LightGBM:  0.8703805596365142\n"
     ]
    }
   ],
   "source": [
    "# Selecciono los n features para entrenar\n",
    "mask = rfecv.get_support()\n",
    "features_X = X.columns[mask]\n",
    "new_x = X.filter(items=features_X)\n",
    "\n",
    "# Pruebo\n",
    "X_train, X_test, y_train, y_test = train_test_split(new_x, y['label'], test_size=0.2, random_state=123)\n",
    "\n",
    "rf.fit(X_train, y_train)\n",
    "\n",
    "preds = rf.predict_proba(X_test)[:,1]\n",
    "print(\"ROC auc score con RandomForest: \", roc_auc_score(y_test, preds))\n",
    "\n",
    "lgbm = lgb.LGBMClassifier(boosting_type='gbdt', objective='binary', metric='roc_auc', num_leaves=11, learning_rate=0.1,\\\n",
    "                         max_depth=5,)\n",
    "\n",
    "lgbm.fit(X_train, y_train)\n",
    "\n",
    "preds = lgbm.predict_proba(X_test)[:,1]\n",
    "print(\"ROC auc score con LightGBM: \", roc_auc_score(y_test, preds))\n",
    "\n",
    "xg_reg.fit(X_train,y_train)\n",
    "proba = xg_reg.predict_proba(X_test)[:,1]\n",
    "print(\"ROC auc score con xgboost: \", roc_auc_score(y_test, proba))"
   ]
  },
  {
   "cell_type": "markdown",
   "metadata": {},
   "source": [
    "## RFECV con xgb"
   ]
  },
  {
   "cell_type": "code",
   "execution_count": 110,
   "metadata": {},
   "outputs": [
    {
     "name": "stdout",
     "output_type": "stream",
     "text": [
      "Optimal number of features : 23\n"
     ]
    },
    {
     "data": {
      "image/png": "[encoded data removed]",
      "text/plain": [
       "<Figure size 432x288 with 1 Axes>"
      ]
     },
     "metadata": {
      "needs_background": "light"
     },
     "output_type": "display_data"
    }
   ],
   "source": [
    "import matplotlib.pyplot as plt\n",
    "\n",
    "from sklearn.model_selection import StratifiedKFold\n",
    "from sklearn.feature_selection import RFECV\n",
    "\n",
    "xg_reg = xgb.XGBClassifier(objective ='binary:logistic', \n",
    "                colsample_bytree = 0.8, learning_rate = 0.1,\n",
    "                max_depth = 5, n_estimators = 6, scale_pos_weight = 7, min_child_weight=15)\n",
    "\n",
    "rfecv = RFECV(estimator=xg_reg, step=1, cv=StratifiedKFold(10), n_jobs=3, scoring='roc_auc')\n",
    "\n",
    "rfecv.fit(X, y['label'].ravel())\n",
    "\n",
    "print(\"Optimal number of features : %d\" % rfecv.n_features_)\n",
    "\n",
    "# Plot number of features VS. cross-validation scores\n",
    "plt.figure()\n",
    "plt.xlabel(\"Number of features selected\")\n",
    "plt.ylabel(\"Cross validation score (nb of correct classifications)\")\n",
    "plt.plot(range(1, len(rfecv.grid_scores_) + 1), rfecv.grid_scores_)\n",
    "plt.show()"
   ]
  },
  {
   "cell_type": "code",
   "execution_count": 171,
   "metadata": {},
   "outputs": [
    {
     "name": "stdout",
     "output_type": "stream",
     "text": [
      "ROC auc score con RandomForest:  0.8648308046544139\n",
      "ROC auc score con LightGBM:  0.8682496607869743\n",
      "ROC auc score con xgboost:  0.861951262968902\n",
      "ROC auc score con Catboost:  0.8670634431150035\n"
     ]
    }
   ],
   "source": [
    "# Selecciono los n features para entrenar\n",
    "mask = rfecv.get_support()\n",
    "features_X = X.columns[mask]\n",
    "xgb_x = X.filter(items=features_X)\n",
    "\n",
    "# Pruebo\n",
    "X_train, X_test, y_train, y_test = train_test_split(xgb_x, y['label'], test_size=0.2, random_state=20)\n",
    "\n",
    "rf.fit(X_train, y_train)\n",
    "\n",
    "preds = rf.predict_proba(X_test)[:,1]\n",
    "print(\"ROC auc score con RandomForest: \", roc_auc_score(y_test, preds))\n",
    "\n",
    "lgbm = lgb.LGBMClassifier(boosting_type='gbdt', objective='binary', metric='roc_auc', num_leaves=11, learning_rate=0.1,\\\n",
    "                         max_depth=5,)\n",
    "\n",
    "lgbm.fit(X_train, y_train)\n",
    "\n",
    "preds = lgbm.predict_proba(X_test)[:,1]\n",
    "print(\"ROC auc score con LightGBM: \", roc_auc_score(y_test, preds))\n",
    "\n",
    "xg_reg.fit(X_train,y_train)\n",
    "proba = xg_reg.predict_proba(X_test)[:,1]\n",
    "print(\"ROC auc score con xgboost: \", roc_auc_score(y_test, proba))\n",
    "\n",
    "catb = CatBoostClassifier(learning_rate = 0.1, max_depth = 10, n_estimators = 60, scale_pos_weight = 7,\\\n",
    "                          eval_metric='AUC', verbose=False)\n",
    "\n",
    "\n",
    "catb.fit(X_train, y_train, eval_set=(X_test, y_test), use_best_model=True)\n",
    "\n",
    "proba = catb.predict_proba(X_test)[:,1]\n",
    "print(\"ROC auc score con Catboost: \", roc_auc_score(y_test, proba))\n"
   ]
  },
  {
   "cell_type": "code",
   "execution_count": 172,
   "metadata": {},
   "outputs": [
    {
     "data": {
      "text/plain": [
       "(782, 14749)"
      ]
     },
     "execution_count": 172,
     "metadata": {},
     "output_type": "execute_result"
    }
   ],
   "source": [
    "cant_ceros = np.sum(y_train == 0)\n",
    "cant_unos = np.sum(y_train == 1)\n",
    "cant_unos, cant_ceros"
   ]
  },
  {
   "cell_type": "code",
   "execution_count": 174,
   "metadata": {},
   "outputs": [],
   "source": [
    "from imblearn.over_sampling import RandomOverSampler\n",
    "    \n",
    "ros = RandomOverSampler(random_state=20, sampling_strategy = {0: cant_ceros, 1: 800})\n",
    "X_train_res, y_train_res = ros.fit_sample(X_train, y_train)\n",
    "X_train_res_df = pd.DataFrame(X_train_res)\n",
    "X_train_res_df.columns = X_test.columns"
   ]
  },
  {
   "cell_type": "code",
   "execution_count": 175,
   "metadata": {},
   "outputs": [
    {
     "name": "stdout",
     "output_type": "stream",
     "text": [
      "ROC auc score con RandomForest:  0.8648410838370133\n",
      "ROC auc score con LightGBM:  0.8706070199964365\n",
      "ROC auc score con xgboost:  0.8630161862861998\n",
      "ROC auc score con Catboost:  0.8665063114181161\n"
     ]
    }
   ],
   "source": [
    "rf.fit(X_train_res_df, y_train_res)\n",
    "\n",
    "preds = rf.predict_proba(X_test)[:,1]\n",
    "print(\"ROC auc score con RandomForest: \", roc_auc_score(y_test, preds))\n",
    "\n",
    "lgbm = lgb.LGBMClassifier(boosting_type='gbdt', objective='binary', metric='roc_auc', num_leaves=11, learning_rate=0.1,\\\n",
    "                         max_depth=5,)\n",
    "\n",
    "lgbm.fit(X_train_res_df, y_train_res)\n",
    "\n",
    "preds = lgbm.predict_proba(X_test)[:,1]\n",
    "print(\"ROC auc score con LightGBM: \", roc_auc_score(y_test, preds))\n",
    "\n",
    "xg_reg.fit(X_train_res_df,y_train_res)\n",
    "proba = xg_reg.predict_proba(X_test)[:,1]\n",
    "print(\"ROC auc score con xgboost: \", roc_auc_score(y_test, proba))\n",
    "\n",
    "catb = CatBoostClassifier(learning_rate = 0.1, max_depth = 10, n_estimators = 60, scale_pos_weight = 7,\\\n",
    "                          eval_metric='AUC', verbose=False)\n",
    "\n",
    "\n",
    "catb.fit(X_train_res_df, y_train_res, eval_set=(X_test, y_test), use_best_model=True)\n",
    "\n",
    "proba = catb.predict_proba(X_test)[:,1]\n",
    "print(\"ROC auc score con Catboost: \", roc_auc_score(y_test, proba))\n"
   ]
  },
  {
   "cell_type": "markdown",
   "metadata": {},
   "source": [
    "## Promedio"
   ]
  },
  {
   "cell_type": "code",
   "execution_count": 138,
   "metadata": {},
   "outputs": [
    {
     "name": "stdout",
     "output_type": "stream",
     "text": [
      "ROC auc score LightGBM:  0.8729146931528762\n",
      "ROC auc score XGBoost:  0.8621995768408275\n",
      "ROC auc score RandomForest:  0.8619159580924938\n",
      "ROC auc score con Catboost:  0.8744816867374201\n",
      "ROC auc score promedio:  0.8758692914636429\n"
     ]
    }
   ],
   "source": [
    "lgbm.fit(X_train, y_train)\n",
    "\n",
    "preds_lgbm = lgbm.predict_proba(X_test)[:,1]\n",
    "print(\"ROC auc score LightGBM: \", roc_auc_score(y_test, preds_lgbm))\n",
    "\n",
    "xg_reg.fit(X_train,y_train)\n",
    "preds_xgb = xg_reg.predict_proba(X_test)[:,1]\n",
    "print(\"ROC auc score XGBoost: \", roc_auc_score(y_test, preds_xgb))\n",
    "\n",
    "rf.fit(X_train, y_train)\n",
    "\n",
    "preds_rf = rf.predict_proba(X_test)[:,1]\n",
    "print(\"ROC auc score RandomForest: \", roc_auc_score(y_test, preds_rf))\n",
    "\n",
    "catb.fit(X_train, y_train, eval_set=(X_test, y_test), use_best_model=True)\n",
    "\n",
    "preds_cb = catb.predict_proba(X_test)[:,1]\n",
    "print(\"ROC auc score con Catboost: \", roc_auc_score(y_test, preds_cb))\n",
    "\n",
    "\n",
    "\n",
    "prom_preds = 0.1*preds_xgb + 0.6*preds_lgbm  + 0.3*preds_cb\n",
    "print(\"ROC auc score promedio: \", roc_auc_score(y_test, prom_preds))\n"
   ]
  },
  {
   "cell_type": "markdown",
   "metadata": {},
   "source": [
    "#### Para subir a Kaggle"
   ]
  },
  {
   "cell_type": "code",
   "execution_count": 123,
   "metadata": {},
   "outputs": [
    {
     "data": {
      "text/plain": [
       "<catboost.core.CatBoostClassifier at 0x24cd5615ef0>"
      ]
     },
     "execution_count": 123,
     "metadata": {},
     "output_type": "execute_result"
    }
   ],
   "source": [
    "lgbm.fit(xgb_x, y['label'])\n",
    "\n",
    "xg_reg.fit(xgb_x, y['label'])\n",
    "\n",
    "rf.fit(xgb_x, y['label'])\n",
    "\n",
    "catb = CatBoostClassifier(learning_rate = 0.1, max_depth = 10, n_estimators = 60, scale_pos_weight = 7,\\\n",
    "                          eval_metric='AUC', verbose=False)\n",
    "\n",
    "catb.fit(xgb_x, y['label'])\n"
   ]
  },
  {
   "cell_type": "code",
   "execution_count": 124,
   "metadata": {},
   "outputs": [
    {
     "data": {
      "text/html": [
       "<div>\n",
       "<style scoped>\n",
       "    .dataframe tbody tr th:only-of-type {\n",
       "        vertical-align: middle;\n",
       "    }\n",
       "\n",
       "    .dataframe tbody tr th {\n",
       "        vertical-align: top;\n",
       "    }\n",
       "\n",
       "    .dataframe thead th {\n",
       "        text-align: right;\n",
       "    }\n",
       "</style>\n",
       "<table border=\"1\" class=\"dataframe\">\n",
       "  <thead>\n",
       "    <tr style=\"text-align: right;\">\n",
       "      <th></th>\n",
       "      <th>person</th>\n",
       "      <th>brand listing</th>\n",
       "      <th>checkout</th>\n",
       "      <th>conversion</th>\n",
       "      <th>generic listing</th>\n",
       "      <th>search engine hit</th>\n",
       "      <th>searched products</th>\n",
       "      <th>viewed product</th>\n",
       "      <th>vis_iPhone SE</th>\n",
       "      <th>vis_Samsung Galaxy J7 2016 Metal</th>\n",
       "      <th>...</th>\n",
       "      <th>visitedsite_Computer</th>\n",
       "      <th>visitedsite_Smartphone</th>\n",
       "      <th>checkout mes 5</th>\n",
       "      <th>conversion mes 5</th>\n",
       "      <th>viewed product mes 5</th>\n",
       "      <th>dias_hasta_ultimo</th>\n",
       "      <th>visited site mes 4</th>\n",
       "      <th>distan_dias</th>\n",
       "      <th>promedio_por_dia_x</th>\n",
       "      <th>promedio_por_mes</th>\n",
       "    </tr>\n",
       "  </thead>\n",
       "  <tbody>\n",
       "    <tr>\n",
       "      <th>0</th>\n",
       "      <td>4886f805</td>\n",
       "      <td>0.0</td>\n",
       "      <td>1.0</td>\n",
       "      <td>0.0</td>\n",
       "      <td>1.0</td>\n",
       "      <td>1.0</td>\n",
       "      <td>1.0</td>\n",
       "      <td>4.0</td>\n",
       "      <td>0.0</td>\n",
       "      <td>0.0</td>\n",
       "      <td>...</td>\n",
       "      <td>0.0</td>\n",
       "      <td>1.0</td>\n",
       "      <td>1.0</td>\n",
       "      <td>0.0</td>\n",
       "      <td>4.0</td>\n",
       "      <td>13</td>\n",
       "      <td>0.0</td>\n",
       "      <td>0</td>\n",
       "      <td>9.000000</td>\n",
       "      <td>9.0</td>\n",
       "    </tr>\n",
       "    <tr>\n",
       "      <th>1</th>\n",
       "      <td>0297fc1e</td>\n",
       "      <td>4.0</td>\n",
       "      <td>7.0</td>\n",
       "      <td>0.0</td>\n",
       "      <td>21.0</td>\n",
       "      <td>0.0</td>\n",
       "      <td>6.0</td>\n",
       "      <td>404.0</td>\n",
       "      <td>8.0</td>\n",
       "      <td>0.0</td>\n",
       "      <td>...</td>\n",
       "      <td>0.0</td>\n",
       "      <td>1.0</td>\n",
       "      <td>2.0</td>\n",
       "      <td>0.0</td>\n",
       "      <td>133.0</td>\n",
       "      <td>3</td>\n",
       "      <td>22.0</td>\n",
       "      <td>138</td>\n",
       "      <td>9.610169</td>\n",
       "      <td>113.4</td>\n",
       "    </tr>\n",
       "    <tr>\n",
       "      <th>2</th>\n",
       "      <td>2d681dd8</td>\n",
       "      <td>5.0</td>\n",
       "      <td>1.0</td>\n",
       "      <td>0.0</td>\n",
       "      <td>1.0</td>\n",
       "      <td>2.0</td>\n",
       "      <td>1.0</td>\n",
       "      <td>13.0</td>\n",
       "      <td>0.0</td>\n",
       "      <td>0.0</td>\n",
       "      <td>...</td>\n",
       "      <td>1.0</td>\n",
       "      <td>0.0</td>\n",
       "      <td>1.0</td>\n",
       "      <td>0.0</td>\n",
       "      <td>13.0</td>\n",
       "      <td>4</td>\n",
       "      <td>0.0</td>\n",
       "      <td>9</td>\n",
       "      <td>13.000000</td>\n",
       "      <td>26.0</td>\n",
       "    </tr>\n",
       "    <tr>\n",
       "      <th>3</th>\n",
       "      <td>cccea85e</td>\n",
       "      <td>7.0</td>\n",
       "      <td>1.0</td>\n",
       "      <td>0.0</td>\n",
       "      <td>20.0</td>\n",
       "      <td>26.0</td>\n",
       "      <td>1.0</td>\n",
       "      <td>739.0</td>\n",
       "      <td>0.0</td>\n",
       "      <td>0.0</td>\n",
       "      <td>...</td>\n",
       "      <td>1.0</td>\n",
       "      <td>0.0</td>\n",
       "      <td>1.0</td>\n",
       "      <td>0.0</td>\n",
       "      <td>739.0</td>\n",
       "      <td>0</td>\n",
       "      <td>0.0</td>\n",
       "      <td>23</td>\n",
       "      <td>64.307692</td>\n",
       "      <td>836.0</td>\n",
       "    </tr>\n",
       "    <tr>\n",
       "      <th>4</th>\n",
       "      <td>4c8a8b93</td>\n",
       "      <td>8.0</td>\n",
       "      <td>2.0</td>\n",
       "      <td>0.0</td>\n",
       "      <td>14.0</td>\n",
       "      <td>13.0</td>\n",
       "      <td>9.0</td>\n",
       "      <td>177.0</td>\n",
       "      <td>26.0</td>\n",
       "      <td>0.0</td>\n",
       "      <td>...</td>\n",
       "      <td>0.0</td>\n",
       "      <td>1.0</td>\n",
       "      <td>2.0</td>\n",
       "      <td>0.0</td>\n",
       "      <td>177.0</td>\n",
       "      <td>9</td>\n",
       "      <td>0.0</td>\n",
       "      <td>4</td>\n",
       "      <td>51.400000</td>\n",
       "      <td>257.0</td>\n",
       "    </tr>\n",
       "    <tr>\n",
       "      <th>5</th>\n",
       "      <td>29ebb414</td>\n",
       "      <td>0.0</td>\n",
       "      <td>1.0</td>\n",
       "      <td>0.0</td>\n",
       "      <td>3.0</td>\n",
       "      <td>4.0</td>\n",
       "      <td>11.0</td>\n",
       "      <td>8.0</td>\n",
       "      <td>0.0</td>\n",
       "      <td>0.0</td>\n",
       "      <td>...</td>\n",
       "      <td>0.0</td>\n",
       "      <td>1.0</td>\n",
       "      <td>1.0</td>\n",
       "      <td>0.0</td>\n",
       "      <td>8.0</td>\n",
       "      <td>11</td>\n",
       "      <td>0.0</td>\n",
       "      <td>2</td>\n",
       "      <td>17.500000</td>\n",
       "      <td>35.0</td>\n",
       "    </tr>\n",
       "    <tr>\n",
       "      <th>6</th>\n",
       "      <td>3dc1950f</td>\n",
       "      <td>6.0</td>\n",
       "      <td>3.0</td>\n",
       "      <td>0.0</td>\n",
       "      <td>25.0</td>\n",
       "      <td>7.0</td>\n",
       "      <td>2.0</td>\n",
       "      <td>595.0</td>\n",
       "      <td>0.0</td>\n",
       "      <td>0.0</td>\n",
       "      <td>...</td>\n",
       "      <td>1.0</td>\n",
       "      <td>0.0</td>\n",
       "      <td>2.0</td>\n",
       "      <td>0.0</td>\n",
       "      <td>248.0</td>\n",
       "      <td>2</td>\n",
       "      <td>13.0</td>\n",
       "      <td>41</td>\n",
       "      <td>35.368421</td>\n",
       "      <td>336.0</td>\n",
       "    </tr>\n",
       "    <tr>\n",
       "      <th>7</th>\n",
       "      <td>8ea4c165</td>\n",
       "      <td>5.0</td>\n",
       "      <td>3.0</td>\n",
       "      <td>0.0</td>\n",
       "      <td>8.0</td>\n",
       "      <td>9.0</td>\n",
       "      <td>17.0</td>\n",
       "      <td>97.0</td>\n",
       "      <td>1.0</td>\n",
       "      <td>1.0</td>\n",
       "      <td>...</td>\n",
       "      <td>1.0</td>\n",
       "      <td>0.0</td>\n",
       "      <td>2.0</td>\n",
       "      <td>0.0</td>\n",
       "      <td>87.0</td>\n",
       "      <td>12</td>\n",
       "      <td>2.0</td>\n",
       "      <td>20</td>\n",
       "      <td>31.800000</td>\n",
       "      <td>79.5</td>\n",
       "    </tr>\n",
       "    <tr>\n",
       "      <th>8</th>\n",
       "      <td>d8cfe234</td>\n",
       "      <td>4.0</td>\n",
       "      <td>3.0</td>\n",
       "      <td>1.0</td>\n",
       "      <td>1.0</td>\n",
       "      <td>2.0</td>\n",
       "      <td>8.0</td>\n",
       "      <td>39.0</td>\n",
       "      <td>0.0</td>\n",
       "      <td>0.0</td>\n",
       "      <td>...</td>\n",
       "      <td>1.0</td>\n",
       "      <td>0.0</td>\n",
       "      <td>2.0</td>\n",
       "      <td>1.0</td>\n",
       "      <td>36.0</td>\n",
       "      <td>9</td>\n",
       "      <td>1.0</td>\n",
       "      <td>42</td>\n",
       "      <td>12.400000</td>\n",
       "      <td>31.0</td>\n",
       "    </tr>\n",
       "    <tr>\n",
       "      <th>9</th>\n",
       "      <td>d6bc64df</td>\n",
       "      <td>0.0</td>\n",
       "      <td>2.0</td>\n",
       "      <td>0.0</td>\n",
       "      <td>12.0</td>\n",
       "      <td>8.0</td>\n",
       "      <td>19.0</td>\n",
       "      <td>155.0</td>\n",
       "      <td>25.0</td>\n",
       "      <td>0.0</td>\n",
       "      <td>...</td>\n",
       "      <td>1.0</td>\n",
       "      <td>1.0</td>\n",
       "      <td>1.0</td>\n",
       "      <td>0.0</td>\n",
       "      <td>65.0</td>\n",
       "      <td>13</td>\n",
       "      <td>5.0</td>\n",
       "      <td>30</td>\n",
       "      <td>30.428571</td>\n",
       "      <td>106.5</td>\n",
       "    </tr>\n",
       "  </tbody>\n",
       "</table>\n",
       "<p>10 rows × 24 columns</p>\n",
       "</div>"
      ],
      "text/plain": [
       "     person  brand listing  checkout  conversion  generic listing  \\\n",
       "0  4886f805            0.0       1.0         0.0              1.0   \n",
       "1  0297fc1e            4.0       7.0         0.0             21.0   \n",
       "2  2d681dd8            5.0       1.0         0.0              1.0   \n",
       "3  cccea85e            7.0       1.0         0.0             20.0   \n",
       "4  4c8a8b93            8.0       2.0         0.0             14.0   \n",
       "5  29ebb414            0.0       1.0         0.0              3.0   \n",
       "6  3dc1950f            6.0       3.0         0.0             25.0   \n",
       "7  8ea4c165            5.0       3.0         0.0              8.0   \n",
       "8  d8cfe234            4.0       3.0         1.0              1.0   \n",
       "9  d6bc64df            0.0       2.0         0.0             12.0   \n",
       "\n",
       "   search engine hit  searched products  viewed product  vis_iPhone SE  \\\n",
       "0                1.0                1.0             4.0            0.0   \n",
       "1                0.0                6.0           404.0            8.0   \n",
       "2                2.0                1.0            13.0            0.0   \n",
       "3               26.0                1.0           739.0            0.0   \n",
       "4               13.0                9.0           177.0           26.0   \n",
       "5                4.0               11.0             8.0            0.0   \n",
       "6                7.0                2.0           595.0            0.0   \n",
       "7                9.0               17.0            97.0            1.0   \n",
       "8                2.0                8.0            39.0            0.0   \n",
       "9                8.0               19.0           155.0           25.0   \n",
       "\n",
       "   vis_Samsung Galaxy J7 2016 Metal        ...         visitedsite_Computer  \\\n",
       "0                               0.0        ...                          0.0   \n",
       "1                               0.0        ...                          0.0   \n",
       "2                               0.0        ...                          1.0   \n",
       "3                               0.0        ...                          1.0   \n",
       "4                               0.0        ...                          0.0   \n",
       "5                               0.0        ...                          0.0   \n",
       "6                               0.0        ...                          1.0   \n",
       "7                               1.0        ...                          1.0   \n",
       "8                               0.0        ...                          1.0   \n",
       "9                               0.0        ...                          1.0   \n",
       "\n",
       "   visitedsite_Smartphone  checkout mes 5  conversion mes 5  \\\n",
       "0                     1.0             1.0               0.0   \n",
       "1                     1.0             2.0               0.0   \n",
       "2                     0.0             1.0               0.0   \n",
       "3                     0.0             1.0               0.0   \n",
       "4                     1.0             2.0               0.0   \n",
       "5                     1.0             1.0               0.0   \n",
       "6                     0.0             2.0               0.0   \n",
       "7                     0.0             2.0               0.0   \n",
       "8                     0.0             2.0               1.0   \n",
       "9                     1.0             1.0               0.0   \n",
       "\n",
       "   viewed product mes 5  dias_hasta_ultimo  visited site mes 4  distan_dias  \\\n",
       "0                   4.0                 13                 0.0            0   \n",
       "1                 133.0                  3                22.0          138   \n",
       "2                  13.0                  4                 0.0            9   \n",
       "3                 739.0                  0                 0.0           23   \n",
       "4                 177.0                  9                 0.0            4   \n",
       "5                   8.0                 11                 0.0            2   \n",
       "6                 248.0                  2                13.0           41   \n",
       "7                  87.0                 12                 2.0           20   \n",
       "8                  36.0                  9                 1.0           42   \n",
       "9                  65.0                 13                 5.0           30   \n",
       "\n",
       "   promedio_por_dia_x  promedio_por_mes  \n",
       "0            9.000000               9.0  \n",
       "1            9.610169             113.4  \n",
       "2           13.000000              26.0  \n",
       "3           64.307692             836.0  \n",
       "4           51.400000             257.0  \n",
       "5           17.500000              35.0  \n",
       "6           35.368421             336.0  \n",
       "7           31.800000              79.5  \n",
       "8           12.400000              31.0  \n",
       "9           30.428571             106.5  \n",
       "\n",
       "[10 rows x 24 columns]"
      ]
     },
     "execution_count": 124,
     "metadata": {},
     "output_type": "execute_result"
    }
   ],
   "source": [
    "df_final = datos.filter(items= ['person'] + list(xgb_x.columns))\n",
    "df_final_sin_persons= df_final.drop(columns='person')\n",
    "df_final.head(10)"
   ]
  },
  {
   "cell_type": "code",
   "execution_count": 133,
   "metadata": {},
   "outputs": [
    {
     "name": "stderr",
     "output_type": "stream",
     "text": [
      "C:\\Users\\seba\\Anaconda3\\lib\\site-packages\\ipykernel_launcher.py:7: SettingWithCopyWarning: \n",
      "A value is trying to be set on a copy of a slice from a DataFrame.\n",
      "Try using .loc[row_indexer,col_indexer] = value instead\n",
      "\n",
      "See the caveats in the documentation: http://pandas.pydata.org/pandas-docs/stable/indexing.html#indexing-view-versus-copy\n",
      "  import sys\n"
     ]
    }
   ],
   "source": [
    "proba_lgbm = pd.Series(lgbm.predict_proba(df_final_sin_persons)[:,1])\n",
    "proba_xgb = pd.Series(xg_reg.predict_proba(df_final_sin_persons)[:,1])\n",
    "proba_rf = pd.Series(rf.predict_proba(df_final_sin_persons)[:,1])\n",
    "proba_cb = pd.Series(catb.predict_proba(df_final_sin_persons)[:,1])\n",
    "predicciones = df_final[['person']]\n",
    "\n",
    "predicciones['label'] = 0.2*proba_xgb + 0.7*proba_lgbm + 0.1*proba_cb\n",
    "\n",
    "# El mejor submit fue con 0.1*xgb, 0.8*lgbm y 0.1*catb con RFECV(estimator=xg_reg) kfolds=10 y n=23"
   ]
  },
  {
   "cell_type": "code",
   "execution_count": 136,
   "metadata": {},
   "outputs": [],
   "source": [
    "predicciones.to_csv('predicciones_promedio_catb.csv', encoding='utf-8', index=False)"
   ]
  },
  {
   "cell_type": "code",
   "execution_count": 134,
   "metadata": {},
   "outputs": [
    {
     "data": {
      "text/plain": [
       "(19415, 2)"
      ]
     },
     "execution_count": 134,
     "metadata": {},
     "output_type": "execute_result"
    }
   ],
   "source": [
    "predicciones.shape"
   ]
  },
  {
   "cell_type": "code",
   "execution_count": 135,
   "metadata": {
    "scrolled": true
   },
   "outputs": [
    {
     "data": {
      "text/html": [
       "<div>\n",
       "<style scoped>\n",
       "    .dataframe tbody tr th:only-of-type {\n",
       "        vertical-align: middle;\n",
       "    }\n",
       "\n",
       "    .dataframe tbody tr th {\n",
       "        vertical-align: top;\n",
       "    }\n",
       "\n",
       "    .dataframe thead th {\n",
       "        text-align: right;\n",
       "    }\n",
       "</style>\n",
       "<table border=\"1\" class=\"dataframe\">\n",
       "  <thead>\n",
       "    <tr style=\"text-align: right;\">\n",
       "      <th></th>\n",
       "      <th>person</th>\n",
       "      <th>label</th>\n",
       "    </tr>\n",
       "  </thead>\n",
       "  <tbody>\n",
       "    <tr>\n",
       "      <th>0</th>\n",
       "      <td>4886f805</td>\n",
       "      <td>0.038628</td>\n",
       "    </tr>\n",
       "    <tr>\n",
       "      <th>1</th>\n",
       "      <td>0297fc1e</td>\n",
       "      <td>0.109359</td>\n",
       "    </tr>\n",
       "    <tr>\n",
       "      <th>2</th>\n",
       "      <td>2d681dd8</td>\n",
       "      <td>0.072508</td>\n",
       "    </tr>\n",
       "    <tr>\n",
       "      <th>3</th>\n",
       "      <td>cccea85e</td>\n",
       "      <td>0.073369</td>\n",
       "    </tr>\n",
       "    <tr>\n",
       "      <th>4</th>\n",
       "      <td>4c8a8b93</td>\n",
       "      <td>0.062750</td>\n",
       "    </tr>\n",
       "  </tbody>\n",
       "</table>\n",
       "</div>"
      ],
      "text/plain": [
       "     person     label\n",
       "0  4886f805  0.038628\n",
       "1  0297fc1e  0.109359\n",
       "2  2d681dd8  0.072508\n",
       "3  cccea85e  0.073369\n",
       "4  4c8a8b93  0.062750"
      ]
     },
     "execution_count": 135,
     "metadata": {},
     "output_type": "execute_result"
    }
   ],
   "source": [
    "predicciones.head()"
   ]
  },
  {
   "cell_type": "markdown",
   "metadata": {},
   "source": [
    "# Selección de features pero con los puntajes de Random Forest"
   ]
  },
  {
   "cell_type": "code",
   "execution_count": 2,
   "metadata": {},
   "outputs": [],
   "source": [
    "from sklearn.ensemble import RandomForestClassifier\n"
   ]
  },
  {
   "cell_type": "code",
   "execution_count": 20,
   "metadata": {},
   "outputs": [
    {
     "name": "stdout",
     "output_type": "stream",
     "text": [
      "n =  43\n"
     ]
    }
   ],
   "source": [
    "rf = RandomForestClassifier(n_estimators=100, max_depth=5, random_state=0, class_weight = {0: 1, 1: 15})\n",
    "\n",
    "n = 43\n",
    "rfe = RFE(rf, n)\n",
    "rfe = rfe.fit(X, y['label'].ravel())\n",
    "   \n",
    "print('n = ', n)\n",
    "   \n",
    "# Selecciono los n features para entrenar\n",
    "mask = rfe.get_support()\n",
    "features_X = X.columns[mask]\n",
    "new_x = X.filter(items=features_X)"
   ]
  },
  {
   "cell_type": "code",
   "execution_count": 21,
   "metadata": {},
   "outputs": [
    {
     "name": "stdout",
     "output_type": "stream",
     "text": [
      "ROC auc score con RandomForest:  0.8631539539289705\n",
      "ROC auc score con LightGBM:  0.8663595548320128\n"
     ]
    }
   ],
   "source": [
    "X_train, X_test, y_train, y_test = train_test_split(new_x, y['label'], test_size=0.2, random_state=123)\n",
    "\n",
    "rf.fit(X_train, y_train)\n",
    "\n",
    "preds = rf.predict_proba(X_test)[:,1]\n",
    "print(\"ROC auc score con RandomForest: \", roc_auc_score(y_test, preds))\n",
    "\n",
    "lgbm = lgb.LGBMClassifier(boosting_type='gbdt', objective='binary', metric='roc_auc', num_leaves=11, learning_rate=0.1,\\\n",
    "                         max_depth=5,)\n",
    "\n",
    "lgbm.fit(X_train, y_train)\n",
    "\n",
    "preds = lgbm.predict_proba(X_test)[:,1]\n",
    "print(\"ROC auc score con LightGBM: \", roc_auc_score(y_test, preds))"
   ]
  },
  {
   "cell_type": "markdown",
   "metadata": {},
   "source": [
    "#### Con REFCV"
   ]
  },
  {
   "cell_type": "code",
   "execution_count": 106,
   "metadata": {},
   "outputs": [
    {
     "name": "stdout",
     "output_type": "stream",
     "text": [
      "Optimal number of features : 18\n"
     ]
    },
    {
     "data": {
      "image/png": "[encoded data removed]",
      "text/plain": [
       "<Figure size 432x288 with 1 Axes>"
      ]
     },
     "metadata": {
      "needs_background": "light"
     },
     "output_type": "display_data"
    }
   ],
   "source": [
    "import matplotlib.pyplot as plt\n",
    "\n",
    "from sklearn.model_selection import StratifiedKFold\n",
    "from sklearn.feature_selection import RFECV\n",
    "\n",
    "rf = RandomForestClassifier(n_estimators=100, max_depth=5, random_state=0, class_weight = {0: 1, 1: 15})\n",
    "\n",
    "rfecv = RFECV(estimator=rf, step=1, cv=StratifiedKFold(10), n_jobs=3, scoring='roc_auc')\n",
    "\n",
    "rfecv.fit(X, y['label'].ravel())\n",
    "\n",
    "print(\"Optimal number of features : %d\" % rfecv.n_features_)\n",
    "\n",
    "# Plot number of features VS. cross-validation scores\n",
    "plt.figure()\n",
    "plt.xlabel(\"Number of features selected\")\n",
    "plt.ylabel(\"Cross validation score (nb of correct classifications)\")\n",
    "plt.plot(range(1, len(rfecv.grid_scores_) + 1), rfecv.grid_scores_)\n",
    "plt.show()"
   ]
  },
  {
   "cell_type": "code",
   "execution_count": 86,
   "metadata": {},
   "outputs": [
    {
     "name": "stdout",
     "output_type": "stream",
     "text": [
      "ROC auc score LightGBM:  0.8703805596365142\n",
      "ROC auc score XGBoost:  0.8602270084461664\n",
      "ROC auc score RandomForest:  0.8635595287390877\n",
      "ROC auc score promedio:  0.8705166966357144\n"
     ]
    }
   ],
   "source": [
    "lgbm.fit(X_train, y_train)\n",
    "\n",
    "preds_lgbm = lgbm.predict_proba(X_test)[:,1]\n",
    "print(\"ROC auc score LightGBM: \", roc_auc_score(y_test, preds_lgbm))\n",
    "\n",
    "xg_reg.fit(X_train,y_train)\n",
    "preds_xgb = xg_reg.predict_proba(X_test)[:,1]\n",
    "print(\"ROC auc score XGBoost: \", roc_auc_score(y_test, preds_xgb))\n",
    "\n",
    "rf.fit(X_train, y_train)\n",
    "\n",
    "preds_rf = rf.predict_proba(X_test)[:,1]\n",
    "print(\"ROC auc score RandomForest: \", roc_auc_score(y_test, preds_rf))\n",
    "\n",
    "\n",
    "prom_preds = 0.1*preds_xgb + 0.7*preds_lgbm + 0.2*preds_rf\n",
    "print(\"ROC auc score promedio: \", roc_auc_score(y_test, prom_preds))\n"
   ]
  },
  {
   "cell_type": "code",
   "execution_count": 108,
   "metadata": {},
   "outputs": [
    {
     "name": "stdout",
     "output_type": "stream",
     "text": [
      "ROC auc score con RandomForest:  0.8616961535625351\n",
      "ROC auc score con LightGBM:  0.8628008485872949\n"
     ]
    }
   ],
   "source": [
    "# Selecciono los n features para entrenar\n",
    "mask = rfecv.get_support()\n",
    "features_X = X.columns[mask]\n",
    "rf_x = X.filter(items=features_X)\n",
    "\n",
    "# Pruebo\n",
    "X_train, X_test, y_train, y_test = train_test_split(rf_x, y['label'], test_size=0.2, random_state=123)\n",
    "\n",
    "rf.fit(X_train, y_train)\n",
    "\n",
    "preds = rf.predict_proba(X_test)[:,1]\n",
    "print(\"ROC auc score con RandomForest: \", roc_auc_score(y_test, preds))\n",
    "\n",
    "lgbm = lgb.LGBMClassifier(boosting_type='gbdt', objective='binary', metric='roc_auc', num_leaves=11, learning_rate=0.1,\\\n",
    "                         max_depth=5,)\n",
    "\n",
    "lgbm.fit(X_train, y_train)\n",
    "\n",
    "preds = lgbm.predict_proba(X_test)[:,1]\n",
    "print(\"ROC auc score con LightGBM: \", roc_auc_score(y_test, preds))"
   ]
  },
  {
   "cell_type": "markdown",
   "metadata": {},
   "source": [
    "## Funciones CV"
   ]
  },
  {
   "cell_type": "code",
   "execution_count": 107,
   "metadata": {},
   "outputs": [],
   "source": [
    "from sklearn.model_selection import StratifiedKFold, cross_val_score, cross_val_predict"
   ]
  },
  {
   "cell_type": "code",
   "execution_count": null,
   "metadata": {},
   "outputs": [],
   "source": [
    "def stratifiedCVConRFE(data, n, model):\n",
    "    \n",
    "    df_train = pd.merge(data, labels,how = 'inner', on ='person')\n",
    "    df_train.drop(columns = ['person'],inplace = True)\n",
    "    \n",
    "    X = df_train.drop(columns = ['label'])\n",
    "    y = df_train['label']\n",
    "\n",
    "    \n",
    "    stratifiedKFold = StratifiedKFold(n_splits = 10, random_state = 7)\n",
    "    \n",
    "    #n = 22\n",
    "    rfe = RFE(model, n)\n",
    "    rfe = rfe.fit(X, y.ravel())\n",
    "\n",
    "    # Selecciono los n features para entrenar\n",
    "    mask = rfe.get_support()\n",
    "    features_X = X.columns[mask]\n",
    "    X = X.filter(items = features_X)\n",
    "    \n",
    "    results = cross_val_score(model, X, y, cv = stratifiedKFold, scoring = 'roc_auc')\n",
    "        \n",
    "    print(\"ROC AUC: \",results.mean())\n",
    "    return results.mean()"
   ]
  },
  {
   "cell_type": "code",
   "execution_count": 1,
   "metadata": {},
   "outputs": [],
   "source": [
    "def stratifiedCV(X, y, model):\n",
    "    \n",
    "    stratifiedKFold = StratifiedKFold(n_splits = 10, random_state = 7)\n",
    "    \n",
    "    results = cross_val_score(model, X, y['label'], cv = stratifiedKFold, scoring = 'roc_auc')\n",
    "    #results2 = cross_val_predict(model, X, y, cv = stratifiedKFold, method='predict_proba')\n",
    "    \n",
    "    print(\"ROC AUC: \",results.mean())"
   ]
  },
  {
   "cell_type": "code",
   "execution_count": 129,
   "metadata": {},
   "outputs": [
    {
     "name": "stdout",
     "output_type": "stream",
     "text": [
      "ROC AUC:  0.8630917479017765\n"
     ]
    }
   ],
   "source": [
    "stratifiedCV(X, y, lgbm)"
   ]
  },
  {
   "cell_type": "markdown",
   "metadata": {},
   "source": [
    "features_varios"
   ]
  },
  {
   "cell_type": "code",
   "execution_count": 176,
   "metadata": {},
   "outputs": [],
   "source": [
    "varios = pd.read_csv('tp2-datos/tp2-datos/features_varios.csv')"
   ]
  },
  {
   "cell_type": "code",
   "execution_count": null,
   "metadata": {},
   "outputs": [],
   "source": []
  },
  {
   "cell_type": "code",
   "execution_count": 177,
   "metadata": {},
   "outputs": [],
   "source": [
    "#Datos para entrenar\n",
    "#labels_f = pd.merge(tf_santi_2,tf_seba, on = 'person',how = 'inner')\n",
    "labels_v = pd.merge(labels, varios, on = 'person', how = 'inner')"
   ]
  },
  {
   "cell_type": "code",
   "execution_count": 178,
   "metadata": {},
   "outputs": [],
   "source": [
    "y = labels_v.iloc[:,1:2]\n",
    "X = labels_v.iloc[:,3: 406]"
   ]
  },
  {
   "cell_type": "code",
   "execution_count": 179,
   "metadata": {},
   "outputs": [],
   "source": [
    "X_train, X_test, y_train, y_test = train_test_split(X, y, test_size= 0.2, random_state= 123)"
   ]
  },
  {
   "cell_type": "markdown",
   "metadata": {},
   "source": [
    "xgboost"
   ]
  },
  {
   "cell_type": "code",
   "execution_count": 180,
   "metadata": {},
   "outputs": [
    {
     "name": "stdout",
     "output_type": "stream",
     "text": [
      "ROC auc score:  0.8561138275484563\n"
     ]
    }
   ],
   "source": [
    "xg_reg = xgb.XGBClassifier(objective ='binary:logistic', \n",
    "                colsample_bytree = 0.8, learning_rate = 0.1,\n",
    "                max_depth = 5, n_estimators = 6, scale_pos_weight = 7, min_child_weight=15)\n",
    "\n",
    "xg_reg.fit(X_train, y_train['label'])\n",
    "proba = xg_reg.predict_proba(X_test)[:,1]\n",
    "print(\"ROC auc score: \", roc_auc_score(y_test, proba))"
   ]
  },
  {
   "cell_type": "markdown",
   "metadata": {},
   "source": [
    "lightgbm"
   ]
  },
  {
   "cell_type": "code",
   "execution_count": 181,
   "metadata": {},
   "outputs": [
    {
     "name": "stdout",
     "output_type": "stream",
     "text": [
      "ROC auc score:  0.860977180035509\n"
     ]
    }
   ],
   "source": [
    "\n",
    "params = {\n",
    "    'objective': 'binary',\n",
    "    'metric': {'roc_auc'},\n",
    "    'num_leaves': 11,\n",
    "    'learning_rate': 0.1,\n",
    "    'feature_fraction': 0.9,\n",
    "    'bagging_fraction': 0.8,\n",
    "    'bagging_freq': 7,\n",
    "    'max_depth': 5,\n",
    "}\n",
    "\n",
    "lgbm = lgb.LGBMClassifier(boosting_type='gbdt', objective='binary', metric='roc_auc', num_leaves=11, learning_rate=0.1,\\\n",
    "                         max_depth=5,)\n",
    "\n",
    "lgbm.fit(X_train, y_train['label'])\n",
    "\n",
    "preds = lgbm.predict_proba(X_test)[:,1]\n",
    "print(\"ROC auc score: \", roc_auc_score(y_test, preds))\n"
   ]
  },
  {
   "cell_type": "markdown",
   "metadata": {},
   "source": [
    "## RFECV con xgb"
   ]
  },
  {
   "cell_type": "code",
   "execution_count": 184,
   "metadata": {},
   "outputs": [
    {
     "name": "stdout",
     "output_type": "stream",
     "text": [
      "Optimal number of features : 36\n"
     ]
    },
    {
     "data": {
      "image/png": "[encoded data removed]",
      "text/plain": [
       "<Figure size 432x288 with 1 Axes>"
      ]
     },
     "metadata": {
      "needs_background": "light"
     },
     "output_type": "display_data"
    }
   ],
   "source": [
    "import matplotlib.pyplot as plt\n",
    "\n",
    "from sklearn.model_selection import StratifiedKFold\n",
    "from sklearn.feature_selection import RFECV\n",
    "\n",
    "xg_reg = xgb.XGBClassifier(objective ='binary:logistic', \n",
    "                colsample_bytree = 0.8, learning_rate = 0.1,\n",
    "                max_depth = 5, n_estimators = 6, scale_pos_weight = 7, min_child_weight=15)\n",
    "\n",
    "rfecv = RFECV(estimator=xg_reg, step=1, cv=StratifiedKFold(10), scoring='roc_auc')\n",
    "\n",
    "rfecv.fit(X, y['label'].ravel())\n",
    "\n",
    "print(\"Optimal number of features : %d\" % rfecv.n_features_)\n",
    "\n",
    "# Plot number of features VS. cross-validation scores\n",
    "plt.figure()\n",
    "plt.xlabel(\"Number of features selected\")\n",
    "plt.ylabel(\"Cross validation score (nb of correct classifications)\")\n",
    "plt.plot(range(1, len(rfecv.grid_scores_) + 1), rfecv.grid_scores_)\n",
    "plt.show()"
   ]
  },
  {
   "cell_type": "code",
   "execution_count": 171,
   "metadata": {},
   "outputs": [
    {
     "name": "stdout",
     "output_type": "stream",
     "text": [
      "ROC auc score con RandomForest:  0.8648308046544139\n",
      "ROC auc score con LightGBM:  0.8682496607869743\n",
      "ROC auc score con xgboost:  0.861951262968902\n",
      "ROC auc score con Catboost:  0.8670634431150035\n"
     ]
    }
   ],
   "source": [
    "# Selecciono los n features para entrenar\n",
    "mask = rfecv.get_support()\n",
    "features_X = X.columns[mask]\n",
    "xgb_x = X.filter(items=features_X)\n",
    "\n",
    "# Pruebo\n",
    "X_train, X_test, y_train, y_test = train_test_split(xgb_x, y['label'], test_size=0.2, random_state=20)\n",
    "\n",
    "rf.fit(X_train, y_train)\n",
    "\n",
    "preds = rf.predict_proba(X_test)[:,1]\n",
    "print(\"ROC auc score con RandomForest: \", roc_auc_score(y_test, preds))\n",
    "\n",
    "lgbm = lgb.LGBMClassifier(boosting_type='gbdt', objective='binary', metric='roc_auc', num_leaves=11, learning_rate=0.1,\\\n",
    "                         max_depth=5,)\n",
    "\n",
    "lgbm.fit(X_train, y_train)\n",
    "\n",
    "preds = lgbm.predict_proba(X_test)[:,1]\n",
    "print(\"ROC auc score con LightGBM: \", roc_auc_score(y_test, preds))\n",
    "\n",
    "xg_reg.fit(X_train,y_train)\n",
    "proba = xg_reg.predict_proba(X_test)[:,1]\n",
    "print(\"ROC auc score con xgboost: \", roc_auc_score(y_test, proba))\n",
    "\n",
    "catb = CatBoostClassifier(learning_rate = 0.1, max_depth = 10, n_estimators = 60, scale_pos_weight = 7,\\\n",
    "                          eval_metric='AUC', verbose=False)\n",
    "\n",
    "\n",
    "catb.fit(X_train, y_train, eval_set=(X_test, y_test), use_best_model=True)\n",
    "\n",
    "proba = catb.predict_proba(X_test)[:,1]\n",
    "print(\"ROC auc score con Catboost: \", roc_auc_score(y_test, proba))\n"
   ]
  },
  {
   "cell_type": "code",
   "execution_count": null,
   "metadata": {},
   "outputs": [],
   "source": []
  }
 ],
 "metadata": {
  "kernelspec": {
   "display_name": "Python 3",
   "language": "python",
   "name": "python3"
  },
  "language_info": {
   "codemirror_mode": {
    "name": "ipython",
    "version": 3
   },
   "file_extension": ".py",
   "mimetype": "text/x-python",
   "name": "python",
   "nbconvert_exporter": "python",
   "pygments_lexer": "ipython3",
   "version": "3.6.7"
  }
 },
 "nbformat": 4,
 "nbformat_minor": 2
}
