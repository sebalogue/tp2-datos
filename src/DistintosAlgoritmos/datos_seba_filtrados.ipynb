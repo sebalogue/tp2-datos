{
 "cells": [
  {
   "cell_type": "code",
   "execution_count": null,
   "metadata": {},
   "outputs": [],
   "source": []
  },
  {
   "cell_type": "code",
   "execution_count": 1,
   "metadata": {},
   "outputs": [],
   "source": [
    "\n",
    "import pandas as pd\n",
    "import numpy as np\n",
    "\n",
    "from sklearn.metrics import SCORERS\n",
    "from sklearn.metrics import accuracy_score\n",
    "from sklearn.metrics import confusion_matrix\n",
    "from sklearn.metrics import accuracy_score, roc_auc_score\n",
    "from sklearn.metrics import mean_squared_error\n",
    "\n",
    "from sklearn.ensemble import RandomForestClassifier\n",
    "from sklearn.datasets import make_classification\n",
    "from sklearn.neighbors import KNeighborsClassifier\n",
    "from sklearn.neighbors import DistanceMetric\n",
    "\n",
    "from sklearn.model_selection import train_test_split\n",
    "\n",
    "from imblearn.under_sampling import RandomUnderSampler\n",
    "\n",
    "from sklearn import preprocessing\n",
    "\n",
    "from sklearn.ensemble import RandomForestClassifier\n",
    "from sklearn.ensemble import BaggingClassifier\n",
    "from sklearn.ensemble import GradientBoostingClassifier\n",
    "\n",
    "from sklearn import svm\n",
    "\n",
    "import xgboost as xgb\n",
    "from xgboost.sklearn import XGBClassifier\n",
    "\n",
    "from sklearn.linear_model import SGDClassifier\n",
    "\n",
    "from sklearn.preprocessing import MaxAbsScaler\n",
    "from sklearn.kernel_approximation import RBFSampler\n",
    "\n",
    "from sklearn.neural_network import MLPClassifier\n",
    "\n",
    "from sklearn.ensemble import ExtraTreesClassifier\n",
    "\n",
    "from sklearn.ensemble import AdaBoostClassifier"
   ]
  },
  {
   "cell_type": "code",
   "execution_count": null,
   "metadata": {},
   "outputs": [],
   "source": []
  },
  {
   "cell_type": "code",
   "execution_count": 79,
   "metadata": {},
   "outputs": [],
   "source": [
    "tf = pd.read_csv('../featuresMagui.csv') #mis features \n",
    "tf_1 = pd.read_csv('../features_seba.csv') #los features de Seba\n",
    "tf_2 = pd.read_csv('../santi_timefeatures.csv')\n",
    "tf_3 = pd.read_csv('../Santi_FeaturesConEventos.csv')\n",
    "tf_4 = pd.read_csv('../featuresMagui2.csv')\n",
    "tf_5 = pd.read_csv('../fetures_nuevos_santi.csv')\n",
    "labels = pd.read_csv('../../data/labels_training_set.csv') #las personas de las cuales tengo Info\n",
    "personas =pd.read_csv('../../data/trocafone_kaggle_test.csv') #las personas a las que le tengo que predecir"
   ]
  },
  {
   "cell_type": "code",
   "execution_count": 80,
   "metadata": {},
   "outputs": [],
   "source": [
    "#Datos a entregar\n",
    "datos = pd.merge(tf, tf_1, on = 'person', how = 'inner')\n",
    "datos = pd.merge(datos, tf_2, on = 'person', how = 'inner')\n",
    "datos = pd.merge(datos, tf_3, on = 'person', how = 'inner')\n",
    "datos = pd.merge(datos, tf_4, on = 'person', how = 'inner')\n",
    "datos = pd.merge(datos, tf_5, on = 'person', how = 'inner')\n",
    "datos = pd.merge(personas, datos, on = 'person', how = 'inner')"
   ]
  },
  {
   "cell_type": "markdown",
   "metadata": {},
   "source": [
    "Cargo los features de los csv"
   ]
  },
  {
   "cell_type": "code",
   "execution_count": 81,
   "metadata": {},
   "outputs": [],
   "source": [
    "labels_seba = pd.read_csv('../../data/cuarenta_cols.csv')"
   ]
  },
  {
   "cell_type": "code",
   "execution_count": 82,
   "metadata": {},
   "outputs": [],
   "source": [
    "labels = pd.read_csv('../../data/labels_training_set.csv')"
   ]
  },
  {
   "cell_type": "code",
   "execution_count": 83,
   "metadata": {},
   "outputs": [],
   "source": [
    "labels_seba = pd.merge(labels, labels_seba, on = 'person', how = 'inner')"
   ]
  },
  {
   "cell_type": "code",
   "execution_count": 84,
   "metadata": {},
   "outputs": [],
   "source": [
    "labels_seba =labels_seba.drop('person',axis = 1)"
   ]
  },
  {
   "cell_type": "code",
   "execution_count": 85,
   "metadata": {},
   "outputs": [],
   "source": [
    "atributos = labels_seba.columns.tolist()"
   ]
  },
  {
   "cell_type": "code",
   "execution_count": 86,
   "metadata": {},
   "outputs": [],
   "source": [
    "\n",
    "atributos.remove('label')"
   ]
  },
  {
   "cell_type": "code",
   "execution_count": 87,
   "metadata": {},
   "outputs": [],
   "source": [
    "y = labels_seba['label'].ravel()\n",
    "X = labels_seba.loc[:,atributos]"
   ]
  },
  {
   "cell_type": "code",
   "execution_count": 88,
   "metadata": {},
   "outputs": [],
   "source": [
    "X_train, X_test, y_train, y_test = train_test_split(X, y, test_size= 0.1, random_state= 123)"
   ]
  },
  {
   "cell_type": "code",
   "execution_count": 89,
   "metadata": {},
   "outputs": [],
   "source": [
    "clf = RandomForestClassifier(n_estimators=100, max_depth=2, random_state=0)\n",
    "clf_1 = ExtraTreesClassifier()\n",
    "clf_2 = AdaBoostClassifier()\n",
    "clf_3  = GradientBoostingClassifier()\n",
    "clf_4 = XGBClassifier(learning_rate =0.05,n_estimators=1000,max_depth=5,min_child_weight=1,gamma=0,\n",
    "                           subsample=0.8,colsample_bytree=0.8,objective= 'binary:logistic',nthread=4,\n",
    "                            seed=27)\n",
    "clasificadores = [(clf,False), (clf_1,False), (clf_2,False), (clf_3,False), (clf_4,True)]"
   ]
  },
  {
   "cell_type": "code",
   "execution_count": 90,
   "metadata": {},
   "outputs": [
    {
     "name": "stderr",
     "output_type": "stream",
     "text": [
      "/anaconda3/lib/python3.6/site-packages/sklearn/ensemble/forest.py:246: FutureWarning: The default value of n_estimators will change from 10 in version 0.20 to 100 in 0.22.\n",
      "  \"10 in version 0.20 to 100 in 0.22.\", FutureWarning)\n"
     ]
    },
    {
     "name": "stdout",
     "output_type": "stream",
     "text": [
      "[0]\tvalidation_0-error:0.052008\n",
      "Will train until validation_0-error hasn't improved in 5 rounds.\n",
      "[1]\tvalidation_0-error:0.049434\n",
      "[2]\tvalidation_0-error:0.048404\n",
      "[3]\tvalidation_0-error:0.047374\n",
      "[4]\tvalidation_0-error:0.047374\n",
      "[5]\tvalidation_0-error:0.047889\n",
      "[6]\tvalidation_0-error:0.046859\n",
      "[7]\tvalidation_0-error:0.046859\n",
      "[8]\tvalidation_0-error:0.047374\n",
      "[9]\tvalidation_0-error:0.048919\n",
      "[10]\tvalidation_0-error:0.048919\n",
      "[11]\tvalidation_0-error:0.048404\n",
      "Stopping. Best iteration:\n",
      "[6]\tvalidation_0-error:0.046859\n",
      "\n"
     ]
    }
   ],
   "source": [
    "for clasificador in clasificadores: \n",
    "    if(clasificador[1]):\n",
    "        clasificador[0].fit(X_train, y_train, early_stopping_rounds = 5, eval_set=[(X_test, y_test)])\n",
    "    else:\n",
    "        clasificador[0].fit(X_train, y_train)"
   ]
  },
  {
   "cell_type": "code",
   "execution_count": 91,
   "metadata": {},
   "outputs": [],
   "source": [
    "importanciaPorFeature = []\n",
    "features = X.columns.tolist()\n",
    "for clasificador in clasificadores:        \n",
    "    importanciaPorFeature.append(clasificador[0].feature_importances_) "
   ]
  },
  {
   "cell_type": "code",
   "execution_count": 92,
   "metadata": {},
   "outputs": [],
   "source": [
    "importancia = {}\n",
    "x = 0\n",
    "for i in range(5):\n",
    "    for feature in importanciaPorFeature[i]:\n",
    "        importancia[features[x]] = importancia.get(features[x], 0)\n",
    "        importancia[features[x]]+= feature\n",
    "        x+=1\n",
    "    x=0"
   ]
  },
  {
   "cell_type": "code",
   "execution_count": 93,
   "metadata": {},
   "outputs": [],
   "source": [
    "for importancia_feat in importancia.keys():\n",
    "    importancia[importancia_feat] /= 5"
   ]
  },
  {
   "cell_type": "code",
   "execution_count": 94,
   "metadata": {},
   "outputs": [
    {
     "ename": "SyntaxError",
     "evalue": "unexpected EOF while parsing (<ipython-input-94-d2eee00b72b3>, line 1)",
     "output_type": "error",
     "traceback": [
      "\u001b[0;36m  File \u001b[0;32m\"<ipython-input-94-d2eee00b72b3>\"\u001b[0;36m, line \u001b[0;32m1\u001b[0m\n\u001b[0;31m    [importancia_feat,importancia[importancia_feat]\u001b[0m\n\u001b[0m                                                   ^\u001b[0m\n\u001b[0;31mSyntaxError\u001b[0m\u001b[0;31m:\u001b[0m unexpected EOF while parsing\n"
     ]
    }
   ],
   "source": [
    "[importancia_feat,importancia[importancia_feat]"
   ]
  },
  {
   "cell_type": "code",
   "execution_count": 95,
   "metadata": {},
   "outputs": [],
   "source": [
    "atributos_importantes = []\n",
    "for importancia_feat in importancia.keys():\n",
    "    if importancia[importancia_feat] > 0.01:\n",
    "        atributos_importantes.append(importancia_feat)"
   ]
  },
  {
   "cell_type": "code",
   "execution_count": null,
   "metadata": {},
   "outputs": [],
   "source": []
  },
  {
   "cell_type": "code",
   "execution_count": 96,
   "metadata": {},
   "outputs": [
    {
     "data": {
      "text/plain": [
       "35"
      ]
     },
     "execution_count": 96,
     "metadata": {},
     "output_type": "execute_result"
    }
   ],
   "source": [
    "len(atributos_importantes)"
   ]
  },
  {
   "cell_type": "code",
   "execution_count": 97,
   "metadata": {},
   "outputs": [],
   "source": [
    "#atributos_importantes"
   ]
  },
  {
   "cell_type": "code",
   "execution_count": 98,
   "metadata": {},
   "outputs": [
    {
     "name": "stderr",
     "output_type": "stream",
     "text": [
      "/anaconda3/lib/python3.6/site-packages/pandas/core/indexing.py:1472: FutureWarning: \n",
      "Passing list-likes to .loc or [] with any missing label will raise\n",
      "KeyError in the future, you can use .reindex() as an alternative.\n",
      "\n",
      "See the documentation here:\n",
      "https://pandas.pydata.org/pandas-docs/stable/indexing.html#deprecate-loc-reindex-listlike\n",
      "  return self._getitem_tuple(key)\n"
     ]
    }
   ],
   "source": [
    "atributos_importantes.append('label')\n",
    "atributos_importantes.append('person')\n",
    "#atributos_label = atributos_importantes.append('person')\n",
    "labels_f_filtrado= labels_seba.loc[:,atributos_importantes]"
   ]
  },
  {
   "cell_type": "code",
   "execution_count": 99,
   "metadata": {},
   "outputs": [
    {
     "data": {
      "text/html": [
       "<div>\n",
       "<style scoped>\n",
       "    .dataframe tbody tr th:only-of-type {\n",
       "        vertical-align: middle;\n",
       "    }\n",
       "\n",
       "    .dataframe tbody tr th {\n",
       "        vertical-align: top;\n",
       "    }\n",
       "\n",
       "    .dataframe thead th {\n",
       "        text-align: right;\n",
       "    }\n",
       "</style>\n",
       "<table border=\"1\" class=\"dataframe\">\n",
       "  <thead>\n",
       "    <tr style=\"text-align: right;\">\n",
       "      <th></th>\n",
       "      <th>brand listing</th>\n",
       "      <th>checkout</th>\n",
       "      <th>conversion</th>\n",
       "      <th>generic listing</th>\n",
       "      <th>search engine hit</th>\n",
       "      <th>searched products</th>\n",
       "      <th>staticpage</th>\n",
       "      <th>viewed product</th>\n",
       "      <th>visited site</th>\n",
       "      <th>vis_iPhone 7 Plus</th>\n",
       "      <th>...</th>\n",
       "      <th>dias_hasta_ultimo</th>\n",
       "      <th>viewed product mes 4</th>\n",
       "      <th>visited site mes 4</th>\n",
       "      <th>distan_dias</th>\n",
       "      <th>cant_dias_dist</th>\n",
       "      <th>modelos_dist</th>\n",
       "      <th>promedio_por_dia_x</th>\n",
       "      <th>promedio_por_mes</th>\n",
       "      <th>label</th>\n",
       "      <th>person</th>\n",
       "    </tr>\n",
       "  </thead>\n",
       "  <tbody>\n",
       "    <tr>\n",
       "      <th>0</th>\n",
       "      <td>3.0</td>\n",
       "      <td>1.0</td>\n",
       "      <td>1.0</td>\n",
       "      <td>15.0</td>\n",
       "      <td>1.0</td>\n",
       "      <td>0.0</td>\n",
       "      <td>1.0</td>\n",
       "      <td>23.0</td>\n",
       "      <td>17.0</td>\n",
       "      <td>0.0</td>\n",
       "      <td>...</td>\n",
       "      <td>0</td>\n",
       "      <td>0.0</td>\n",
       "      <td>0.0</td>\n",
       "      <td>8</td>\n",
       "      <td>10</td>\n",
       "      <td>12</td>\n",
       "      <td>6.80</td>\n",
       "      <td>68.0</td>\n",
       "      <td>0</td>\n",
       "      <td>NaN</td>\n",
       "    </tr>\n",
       "    <tr>\n",
       "      <th>1</th>\n",
       "      <td>0.0</td>\n",
       "      <td>0.0</td>\n",
       "      <td>0.0</td>\n",
       "      <td>0.0</td>\n",
       "      <td>0.0</td>\n",
       "      <td>0.0</td>\n",
       "      <td>0.0</td>\n",
       "      <td>0.0</td>\n",
       "      <td>1.0</td>\n",
       "      <td>0.0</td>\n",
       "      <td>...</td>\n",
       "      <td>3</td>\n",
       "      <td>0.0</td>\n",
       "      <td>0.0</td>\n",
       "      <td>0</td>\n",
       "      <td>1</td>\n",
       "      <td>0</td>\n",
       "      <td>2.00</td>\n",
       "      <td>2.0</td>\n",
       "      <td>0</td>\n",
       "      <td>NaN</td>\n",
       "    </tr>\n",
       "    <tr>\n",
       "      <th>2</th>\n",
       "      <td>14.0</td>\n",
       "      <td>1.0</td>\n",
       "      <td>0.0</td>\n",
       "      <td>9.0</td>\n",
       "      <td>4.0</td>\n",
       "      <td>6.0</td>\n",
       "      <td>0.0</td>\n",
       "      <td>31.0</td>\n",
       "      <td>22.0</td>\n",
       "      <td>0.0</td>\n",
       "      <td>...</td>\n",
       "      <td>2</td>\n",
       "      <td>8.0</td>\n",
       "      <td>11.0</td>\n",
       "      <td>108</td>\n",
       "      <td>12</td>\n",
       "      <td>7</td>\n",
       "      <td>8.00</td>\n",
       "      <td>24.0</td>\n",
       "      <td>0</td>\n",
       "      <td>NaN</td>\n",
       "    </tr>\n",
       "    <tr>\n",
       "      <th>3</th>\n",
       "      <td>5.0</td>\n",
       "      <td>0.0</td>\n",
       "      <td>0.0</td>\n",
       "      <td>3.0</td>\n",
       "      <td>1.0</td>\n",
       "      <td>0.0</td>\n",
       "      <td>0.0</td>\n",
       "      <td>24.0</td>\n",
       "      <td>4.0</td>\n",
       "      <td>0.0</td>\n",
       "      <td>...</td>\n",
       "      <td>4</td>\n",
       "      <td>0.0</td>\n",
       "      <td>0.0</td>\n",
       "      <td>8</td>\n",
       "      <td>4</td>\n",
       "      <td>11</td>\n",
       "      <td>9.25</td>\n",
       "      <td>37.0</td>\n",
       "      <td>0</td>\n",
       "      <td>NaN</td>\n",
       "    </tr>\n",
       "    <tr>\n",
       "      <th>4</th>\n",
       "      <td>0.0</td>\n",
       "      <td>2.0</td>\n",
       "      <td>0.0</td>\n",
       "      <td>0.0</td>\n",
       "      <td>0.0</td>\n",
       "      <td>0.0</td>\n",
       "      <td>0.0</td>\n",
       "      <td>9.0</td>\n",
       "      <td>1.0</td>\n",
       "      <td>0.0</td>\n",
       "      <td>...</td>\n",
       "      <td>12</td>\n",
       "      <td>0.0</td>\n",
       "      <td>0.0</td>\n",
       "      <td>0</td>\n",
       "      <td>2</td>\n",
       "      <td>1</td>\n",
       "      <td>8.50</td>\n",
       "      <td>17.0</td>\n",
       "      <td>0</td>\n",
       "      <td>NaN</td>\n",
       "    </tr>\n",
       "  </tbody>\n",
       "</table>\n",
       "<p>5 rows × 37 columns</p>\n",
       "</div>"
      ],
      "text/plain": [
       "   brand listing  checkout  conversion  generic listing  search engine hit  \\\n",
       "0            3.0       1.0         1.0             15.0                1.0   \n",
       "1            0.0       0.0         0.0              0.0                0.0   \n",
       "2           14.0       1.0         0.0              9.0                4.0   \n",
       "3            5.0       0.0         0.0              3.0                1.0   \n",
       "4            0.0       2.0         0.0              0.0                0.0   \n",
       "\n",
       "   searched products  staticpage  viewed product  visited site  \\\n",
       "0                0.0         1.0            23.0          17.0   \n",
       "1                0.0         0.0             0.0           1.0   \n",
       "2                6.0         0.0            31.0          22.0   \n",
       "3                0.0         0.0            24.0           4.0   \n",
       "4                0.0         0.0             9.0           1.0   \n",
       "\n",
       "   vis_iPhone 7 Plus   ...    dias_hasta_ultimo  viewed product mes 4  \\\n",
       "0                0.0   ...                    0                   0.0   \n",
       "1                0.0   ...                    3                   0.0   \n",
       "2                0.0   ...                    2                   8.0   \n",
       "3                0.0   ...                    4                   0.0   \n",
       "4                0.0   ...                   12                   0.0   \n",
       "\n",
       "   visited site mes 4  distan_dias  cant_dias_dist  modelos_dist  \\\n",
       "0                 0.0            8              10            12   \n",
       "1                 0.0            0               1             0   \n",
       "2                11.0          108              12             7   \n",
       "3                 0.0            8               4            11   \n",
       "4                 0.0            0               2             1   \n",
       "\n",
       "   promedio_por_dia_x  promedio_por_mes  label  person  \n",
       "0                6.80              68.0      0     NaN  \n",
       "1                2.00               2.0      0     NaN  \n",
       "2                8.00              24.0      0     NaN  \n",
       "3                9.25              37.0      0     NaN  \n",
       "4                8.50              17.0      0     NaN  \n",
       "\n",
       "[5 rows x 37 columns]"
      ]
     },
     "execution_count": 99,
     "metadata": {},
     "output_type": "execute_result"
    }
   ],
   "source": [
    "labels_f_filtrado.head()"
   ]
  },
  {
   "cell_type": "code",
   "execution_count": 100,
   "metadata": {},
   "outputs": [],
   "source": [
    "labels_f_filtrado.to_csv('labels_seba_filtrado.csv', encoding='utf-8', index=False)"
   ]
  },
  {
   "cell_type": "code",
   "execution_count": null,
   "metadata": {},
   "outputs": [],
   "source": []
  },
  {
   "cell_type": "code",
   "execution_count": 101,
   "metadata": {},
   "outputs": [],
   "source": [
    "atributos_importantes.remove('label')\n"
   ]
  },
  {
   "cell_type": "code",
   "execution_count": 102,
   "metadata": {},
   "outputs": [
    {
     "name": "stderr",
     "output_type": "stream",
     "text": [
      "/anaconda3/lib/python3.6/site-packages/pandas/core/indexing.py:1472: FutureWarning: \n",
      "Passing list-likes to .loc or [] with any missing label will raise\n",
      "KeyError in the future, you can use .reindex() as an alternative.\n",
      "\n",
      "See the documentation here:\n",
      "https://pandas.pydata.org/pandas-docs/stable/indexing.html#deprecate-loc-reindex-listlike\n",
      "  return self._getitem_tuple(key)\n"
     ]
    },
    {
     "data": {
      "text/html": [
       "<div>\n",
       "<style scoped>\n",
       "    .dataframe tbody tr th:only-of-type {\n",
       "        vertical-align: middle;\n",
       "    }\n",
       "\n",
       "    .dataframe tbody tr th {\n",
       "        vertical-align: top;\n",
       "    }\n",
       "\n",
       "    .dataframe thead th {\n",
       "        text-align: right;\n",
       "    }\n",
       "</style>\n",
       "<table border=\"1\" class=\"dataframe\">\n",
       "  <thead>\n",
       "    <tr style=\"text-align: right;\">\n",
       "      <th></th>\n",
       "      <th>brand listing</th>\n",
       "      <th>checkout</th>\n",
       "      <th>conversion</th>\n",
       "      <th>generic listing</th>\n",
       "      <th>search engine hit</th>\n",
       "      <th>searched products</th>\n",
       "      <th>staticpage</th>\n",
       "      <th>viewed product</th>\n",
       "      <th>visited site</th>\n",
       "      <th>vis_iPhone 7 Plus</th>\n",
       "      <th>...</th>\n",
       "      <th>viewed product mes 5</th>\n",
       "      <th>dias_hasta_ultimo</th>\n",
       "      <th>viewed product mes 4</th>\n",
       "      <th>visited site mes 4</th>\n",
       "      <th>distan_dias</th>\n",
       "      <th>cant_dias_dist</th>\n",
       "      <th>modelos_dist</th>\n",
       "      <th>promedio_por_dia_x</th>\n",
       "      <th>promedio_por_mes</th>\n",
       "      <th>person</th>\n",
       "    </tr>\n",
       "  </thead>\n",
       "  <tbody>\n",
       "    <tr>\n",
       "      <th>0</th>\n",
       "      <td>0.0</td>\n",
       "      <td>NaN</td>\n",
       "      <td>0.0</td>\n",
       "      <td>1.0</td>\n",
       "      <td>1.0</td>\n",
       "      <td>1.0</td>\n",
       "      <td>NaN</td>\n",
       "      <td>4.0</td>\n",
       "      <td>1.0</td>\n",
       "      <td>0.0</td>\n",
       "      <td>...</td>\n",
       "      <td>4.0</td>\n",
       "      <td>13</td>\n",
       "      <td>0.0</td>\n",
       "      <td>0.0</td>\n",
       "      <td>0</td>\n",
       "      <td>1</td>\n",
       "      <td>1</td>\n",
       "      <td>9.000000</td>\n",
       "      <td>9.0</td>\n",
       "      <td>4886f805</td>\n",
       "    </tr>\n",
       "    <tr>\n",
       "      <th>1</th>\n",
       "      <td>4.0</td>\n",
       "      <td>NaN</td>\n",
       "      <td>0.0</td>\n",
       "      <td>21.0</td>\n",
       "      <td>0.0</td>\n",
       "      <td>6.0</td>\n",
       "      <td>NaN</td>\n",
       "      <td>404.0</td>\n",
       "      <td>95.0</td>\n",
       "      <td>9.0</td>\n",
       "      <td>...</td>\n",
       "      <td>133.0</td>\n",
       "      <td>3</td>\n",
       "      <td>100.0</td>\n",
       "      <td>22.0</td>\n",
       "      <td>138</td>\n",
       "      <td>59</td>\n",
       "      <td>15</td>\n",
       "      <td>9.610169</td>\n",
       "      <td>113.4</td>\n",
       "      <td>0297fc1e</td>\n",
       "    </tr>\n",
       "    <tr>\n",
       "      <th>2</th>\n",
       "      <td>5.0</td>\n",
       "      <td>NaN</td>\n",
       "      <td>0.0</td>\n",
       "      <td>1.0</td>\n",
       "      <td>2.0</td>\n",
       "      <td>1.0</td>\n",
       "      <td>NaN</td>\n",
       "      <td>13.0</td>\n",
       "      <td>2.0</td>\n",
       "      <td>0.0</td>\n",
       "      <td>...</td>\n",
       "      <td>13.0</td>\n",
       "      <td>4</td>\n",
       "      <td>0.0</td>\n",
       "      <td>0.0</td>\n",
       "      <td>9</td>\n",
       "      <td>2</td>\n",
       "      <td>3</td>\n",
       "      <td>13.000000</td>\n",
       "      <td>26.0</td>\n",
       "      <td>2d681dd8</td>\n",
       "    </tr>\n",
       "    <tr>\n",
       "      <th>3</th>\n",
       "      <td>7.0</td>\n",
       "      <td>NaN</td>\n",
       "      <td>0.0</td>\n",
       "      <td>20.0</td>\n",
       "      <td>26.0</td>\n",
       "      <td>1.0</td>\n",
       "      <td>NaN</td>\n",
       "      <td>739.0</td>\n",
       "      <td>22.0</td>\n",
       "      <td>0.0</td>\n",
       "      <td>...</td>\n",
       "      <td>739.0</td>\n",
       "      <td>0</td>\n",
       "      <td>0.0</td>\n",
       "      <td>0.0</td>\n",
       "      <td>23</td>\n",
       "      <td>13</td>\n",
       "      <td>57</td>\n",
       "      <td>64.307692</td>\n",
       "      <td>836.0</td>\n",
       "      <td>cccea85e</td>\n",
       "    </tr>\n",
       "    <tr>\n",
       "      <th>4</th>\n",
       "      <td>8.0</td>\n",
       "      <td>NaN</td>\n",
       "      <td>0.0</td>\n",
       "      <td>14.0</td>\n",
       "      <td>13.0</td>\n",
       "      <td>9.0</td>\n",
       "      <td>NaN</td>\n",
       "      <td>177.0</td>\n",
       "      <td>20.0</td>\n",
       "      <td>0.0</td>\n",
       "      <td>...</td>\n",
       "      <td>177.0</td>\n",
       "      <td>9</td>\n",
       "      <td>0.0</td>\n",
       "      <td>0.0</td>\n",
       "      <td>4</td>\n",
       "      <td>5</td>\n",
       "      <td>9</td>\n",
       "      <td>51.400000</td>\n",
       "      <td>257.0</td>\n",
       "      <td>4c8a8b93</td>\n",
       "    </tr>\n",
       "  </tbody>\n",
       "</table>\n",
       "<p>5 rows × 36 columns</p>\n",
       "</div>"
      ],
      "text/plain": [
       "   brand listing  checkout  conversion  generic listing  search engine hit  \\\n",
       "0            0.0       NaN         0.0              1.0                1.0   \n",
       "1            4.0       NaN         0.0             21.0                0.0   \n",
       "2            5.0       NaN         0.0              1.0                2.0   \n",
       "3            7.0       NaN         0.0             20.0               26.0   \n",
       "4            8.0       NaN         0.0             14.0               13.0   \n",
       "\n",
       "   searched products  staticpage  viewed product  visited site  \\\n",
       "0                1.0         NaN             4.0           1.0   \n",
       "1                6.0         NaN           404.0          95.0   \n",
       "2                1.0         NaN            13.0           2.0   \n",
       "3                1.0         NaN           739.0          22.0   \n",
       "4                9.0         NaN           177.0          20.0   \n",
       "\n",
       "   vis_iPhone 7 Plus    ...     viewed product mes 5  dias_hasta_ultimo  \\\n",
       "0                0.0    ...                      4.0                 13   \n",
       "1                9.0    ...                    133.0                  3   \n",
       "2                0.0    ...                     13.0                  4   \n",
       "3                0.0    ...                    739.0                  0   \n",
       "4                0.0    ...                    177.0                  9   \n",
       "\n",
       "   viewed product mes 4  visited site mes 4  distan_dias  cant_dias_dist  \\\n",
       "0                   0.0                 0.0            0               1   \n",
       "1                 100.0                22.0          138              59   \n",
       "2                   0.0                 0.0            9               2   \n",
       "3                   0.0                 0.0           23              13   \n",
       "4                   0.0                 0.0            4               5   \n",
       "\n",
       "   modelos_dist  promedio_por_dia_x  promedio_por_mes    person  \n",
       "0             1            9.000000               9.0  4886f805  \n",
       "1            15            9.610169             113.4  0297fc1e  \n",
       "2             3           13.000000              26.0  2d681dd8  \n",
       "3            57           64.307692             836.0  cccea85e  \n",
       "4             9           51.400000             257.0  4c8a8b93  \n",
       "\n",
       "[5 rows x 36 columns]"
      ]
     },
     "execution_count": 102,
     "metadata": {},
     "output_type": "execute_result"
    }
   ],
   "source": [
    "datos_filtrado = datos.loc[:,atributos_importantes]\n",
    "datos_filtrado.head()"
   ]
  },
  {
   "cell_type": "code",
   "execution_count": 103,
   "metadata": {},
   "outputs": [],
   "source": [
    "datos_filtrado.to_csv('datos_filtrado.csv', encoding='utf-8', index=False)"
   ]
  },
  {
   "cell_type": "code",
   "execution_count": null,
   "metadata": {},
   "outputs": [],
   "source": []
  }
 ],
 "metadata": {
  "kernelspec": {
   "display_name": "Python 3",
   "language": "python",
   "name": "python3"
  },
  "language_info": {
   "codemirror_mode": {
    "name": "ipython",
    "version": 3
   },
   "file_extension": ".py",
   "mimetype": "text/x-python",
   "name": "python",
   "nbconvert_exporter": "python",
   "pygments_lexer": "ipython3",
   "version": "3.6.5"
  }
 },
 "nbformat": 4,
 "nbformat_minor": 2
}
