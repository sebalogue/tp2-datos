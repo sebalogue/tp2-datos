{
 "cells": [
  {
   "cell_type": "markdown",
   "metadata": {},
   "source": [
    "# Parameter Tunning RF"
   ]
  },
  {
   "cell_type": "code",
   "execution_count": null,
   "metadata": {},
   "outputs": [],
   "source": []
  },
  {
   "cell_type": "code",
   "execution_count": 13,
   "metadata": {},
   "outputs": [],
   "source": [
    "import pandas as pd\n",
    "import numpy as np\n",
    "from xgboost.sklearn import XGBClassifier\n",
    "from sklearn.preprocessing import MaxAbsScaler\n",
    "from sklearn.model_selection import train_test_split\n",
    "from imblearn.under_sampling import RandomUnderSampler\n",
    "\n",
    "from sklearn.metrics import SCORERS\n",
    "from sklearn.metrics import accuracy_score\n",
    "from sklearn.metrics import confusion_matrix\n",
    "from sklearn.metrics import accuracy_score, roc_auc_score\n",
    "from sklearn.metrics import mean_squared_error\n",
    "\n",
    "import xgboost as xgb\n",
    "\n",
    "# Going to use these 5 base models for the stacking\n",
    "from sklearn.ensemble import (RandomForestClassifier, AdaBoostClassifier, \n",
    "                              GradientBoostingClassifier, ExtraTreesClassifier)\n",
    "from sklearn.neural_network import MLPClassifier\n",
    "from sklearn.svm import SVC\n",
    "from sklearn.model_selection import KFold\n",
    "from sklearn.decomposition import PCA\n",
    "\n",
    "from sklearn.model_selection import StratifiedKFold\n",
    "from sklearn.model_selection import GridSearchCV"
   ]
  },
  {
   "cell_type": "code",
   "execution_count": 14,
   "metadata": {},
   "outputs": [],
   "source": [
    "labels_f = pd.read_csv('../data/labels_f_filtrado.csv')\n",
    "datos = pd.read_csv('../data/datos_filtrado.csv')"
   ]
  },
  {
   "cell_type": "code",
   "execution_count": 15,
   "metadata": {},
   "outputs": [],
   "source": [
    "atributos = labels_f.columns.tolist()"
   ]
  },
  {
   "cell_type": "code",
   "execution_count": 16,
   "metadata": {},
   "outputs": [],
   "source": [
    "atributos.remove('person')\n",
    "atributos.remove('label')"
   ]
  },
  {
   "cell_type": "code",
   "execution_count": 17,
   "metadata": {},
   "outputs": [],
   "source": [
    "y = labels_f['label'].ravel()\n",
    "X = labels_f.loc[:,atributos]"
   ]
  },
  {
   "cell_type": "code",
   "execution_count": 18,
   "metadata": {},
   "outputs": [],
   "source": [
    "X_train, X_test, y_train, y_test = train_test_split(X, y, test_size= 0.1, random_state= 123)"
   ]
  },
  {
   "cell_type": "code",
   "execution_count": 19,
   "metadata": {},
   "outputs": [],
   "source": [
    "def aplicarRus(X_train_p, y_train_p):\n",
    "    rus= RandomUnderSampler(return_indices=True)\n",
    "    #id_rus son los índices\n",
    "    X_rus_train, y_rus_train, id_rus = rus.fit_sample(X_train_p, y_train_p)\n",
    "    return(X_rus_train, y_rus_train)"
   ]
  },
  {
   "cell_type": "code",
   "execution_count": 20,
   "metadata": {},
   "outputs": [],
   "source": [
    "X_train, y_train = aplicarRus(X_train,y_train)"
   ]
  },
  {
   "cell_type": "code",
   "execution_count": 21,
   "metadata": {},
   "outputs": [
    {
     "name": "stdout",
     "output_type": "stream",
     "text": [
      "train acurracy: \n",
      "0.840293453724605\n",
      "test acurracy: \n",
      "0.7749742533470649\n",
      "Matriz de confusión: \n",
      "[[1431  417]\n",
      " [  20   74]]\n",
      "Área bajo la curva: \n",
      "0.8494462098185502\n",
      "\n"
     ]
    }
   ],
   "source": [
    "modelo = RandomForestClassifier(n_estimators =  500, max_depth = 6)\n",
    "\n",
    "modelo.fit(X_train, y_train)\n",
    "    \n",
    "preds = modelo.predict(X_test)\n",
    "preds_prob = modelo.predict_proba(X_test)[:,1]\n",
    "train_accuracy = accuracy_score(y_train, modelo.predict(X_train))\n",
    "test_accuracy = accuracy_score(y_test, preds)\n",
    "area_debajo_de_curva = roc_auc_score(y_test, preds_prob)\n",
    "matriz_de_confusion = confusion_matrix(y_test, preds)\n",
    "print('train acurracy: ')\n",
    "print(train_accuracy)\n",
    "print('test acurracy: ')\n",
    "print(test_accuracy)\n",
    "print('Matriz de confusión: ')\n",
    "print(matriz_de_confusion)\n",
    "print('Área bajo la curva: ')\n",
    "print(area_debajo_de_curva)\n",
    "print()"
   ]
  },
  {
   "cell_type": "code",
   "execution_count": 22,
   "metadata": {},
   "outputs": [],
   "source": [
    "parametros = {'bootstrap': True,\n",
    " 'criterion': 'mse',\n",
    " 'max_depth': None,\n",
    " 'max_features': 'auto',\n",
    " 'max_leaf_nodes': None,\n",
    " 'min_impurity_decrease': 0.0,\n",
    " 'min_impurity_split': None,\n",
    " 'min_samples_leaf': 1,\n",
    " 'min_samples_split': 2,\n",
    " 'min_weight_fraction_leaf': 0.0,\n",
    " 'n_estimators': 10,\n",
    " 'n_jobs': 1,\n",
    " 'oob_score': False,\n",
    " 'random_state': 42,\n",
    " 'verbose': 0,\n",
    " 'warm_start': False}"
   ]
  },
  {
   "cell_type": "code",
   "execution_count": 24,
   "metadata": {},
   "outputs": [
    {
     "name": "stderr",
     "output_type": "stream",
     "text": [
      "/anaconda3/lib/python3.6/site-packages/sklearn/model_selection/_split.py:2053: FutureWarning: You should specify a value for 'cv' instead of relying on the default value. The default value will change from 3 to 5 in version 0.22.\n",
      "  warnings.warn(CV_WARNING, FutureWarning)\n",
      "[Parallel(n_jobs=1)]: Using backend SequentialBackend with 1 concurrent workers.\n"
     ]
    },
    {
     "name": "stdout",
     "output_type": "stream",
     "text": [
      "Fitting 3 folds for each of 50 candidates, totalling 150 fits\n",
      "[CV] max_depth=8, n_estimators=200 ...................................\n",
      "[CV]  max_depth=8, n_estimators=200, score=0.8491485573411249, total=   0.4s\n",
      "[CV] max_depth=8, n_estimators=200 ...................................\n"
     ]
    },
    {
     "name": "stderr",
     "output_type": "stream",
     "text": [
      "[Parallel(n_jobs=1)]: Done   1 out of   1 | elapsed:    0.5s remaining:    0.0s\n"
     ]
    },
    {
     "name": "stdout",
     "output_type": "stream",
     "text": [
      "[CV]  max_depth=8, n_estimators=200, score=0.8575696638896869, total=   0.4s\n",
      "[CV] max_depth=8, n_estimators=200 ...................................\n"
     ]
    },
    {
     "name": "stderr",
     "output_type": "stream",
     "text": [
      "[Parallel(n_jobs=1)]: Done   2 out of   2 | elapsed:    0.9s remaining:    0.0s\n"
     ]
    },
    {
     "name": "stdout",
     "output_type": "stream",
     "text": [
      "[CV]  max_depth=8, n_estimators=200, score=0.8626486641769606, total=   0.4s\n",
      "[CV] max_depth=8, n_estimators=355 ...................................\n"
     ]
    },
    {
     "name": "stderr",
     "output_type": "stream",
     "text": [
      "[Parallel(n_jobs=1)]: Done   3 out of   3 | elapsed:    1.3s remaining:    0.0s\n"
     ]
    },
    {
     "name": "stdout",
     "output_type": "stream",
     "text": [
      "[CV]  max_depth=8, n_estimators=355, score=0.8526981373265157, total=   0.7s\n",
      "[CV] max_depth=8, n_estimators=355 ...................................\n"
     ]
    },
    {
     "name": "stderr",
     "output_type": "stream",
     "text": [
      "[Parallel(n_jobs=1)]: Done   4 out of   4 | elapsed:    2.1s remaining:    0.0s\n"
     ]
    },
    {
     "name": "stdout",
     "output_type": "stream",
     "text": [
      "[CV]  max_depth=8, n_estimators=355, score=0.8582821028440103, total=   0.7s\n",
      "[CV] max_depth=8, n_estimators=355 ...................................\n"
     ]
    },
    {
     "name": "stderr",
     "output_type": "stream",
     "text": [
      "[Parallel(n_jobs=1)]: Done   5 out of   5 | elapsed:    2.9s remaining:    0.0s\n"
     ]
    },
    {
     "name": "stdout",
     "output_type": "stream",
     "text": [
      "[CV]  max_depth=8, n_estimators=355, score=0.8595920712438954, total=   0.7s\n",
      "[CV] max_depth=8, n_estimators=511 ...................................\n"
     ]
    },
    {
     "name": "stderr",
     "output_type": "stream",
     "text": [
      "[Parallel(n_jobs=1)]: Done   6 out of   6 | elapsed:    3.6s remaining:    0.0s\n"
     ]
    },
    {
     "name": "stdout",
     "output_type": "stream",
     "text": [
      "[CV]  max_depth=8, n_estimators=511, score=0.8528465120525932, total=   1.0s\n",
      "[CV] max_depth=8, n_estimators=511 ...................................\n"
     ]
    },
    {
     "name": "stderr",
     "output_type": "stream",
     "text": [
      "[Parallel(n_jobs=1)]: Done   7 out of   7 | elapsed:    4.7s remaining:    0.0s\n"
     ]
    },
    {
     "name": "stdout",
     "output_type": "stream",
     "text": [
      "[CV]  max_depth=8, n_estimators=511, score=0.8604309106578569, total=   1.0s\n",
      "[CV] max_depth=8, n_estimators=511 ...................................\n"
     ]
    },
    {
     "name": "stderr",
     "output_type": "stream",
     "text": [
      "[Parallel(n_jobs=1)]: Done   8 out of   8 | elapsed:    5.8s remaining:    0.0s\n"
     ]
    },
    {
     "name": "stdout",
     "output_type": "stream",
     "text": [
      "[CV]  max_depth=8, n_estimators=511, score=0.8623843723068084, total=   1.0s\n",
      "[CV] max_depth=8, n_estimators=666 ...................................\n"
     ]
    },
    {
     "name": "stderr",
     "output_type": "stream",
     "text": [
      "[Parallel(n_jobs=1)]: Done   9 out of   9 | elapsed:    6.9s remaining:    0.0s\n"
     ]
    },
    {
     "name": "stdout",
     "output_type": "stream",
     "text": [
      "[CV]  max_depth=8, n_estimators=666, score=0.8524812819576333, total=   1.3s\n",
      "[CV] max_depth=8, n_estimators=666 ...................................\n",
      "[CV]  max_depth=8, n_estimators=666, score=0.8591554151106003, total=   1.3s\n",
      "[CV] max_depth=8, n_estimators=666 ...................................\n",
      "[CV]  max_depth=8, n_estimators=666, score=0.8620396437805229, total=   1.3s\n",
      "[CV] max_depth=8, n_estimators=822 ...................................\n",
      "[CV]  max_depth=8, n_estimators=822, score=0.8527552045288532, total=   1.6s\n",
      "[CV] max_depth=8, n_estimators=822 ...................................\n",
      "[CV]  max_depth=8, n_estimators=822, score=0.8593277793737432, total=   1.6s\n",
      "[CV] max_depth=8, n_estimators=822 ...................................\n",
      "[CV]  max_depth=8, n_estimators=822, score=0.8606722206262568, total=   1.6s\n",
      "[CV] max_depth=8, n_estimators=977 ...................................\n",
      "[CV]  max_depth=8, n_estimators=977, score=0.8526524835646458, total=   1.9s\n",
      "[CV] max_depth=8, n_estimators=977 ...................................\n",
      "[CV]  max_depth=8, n_estimators=977, score=0.8592703246193623, total=   1.9s\n",
      "[CV] max_depth=8, n_estimators=977 ...................................\n",
      "[CV]  max_depth=8, n_estimators=977, score=0.8607296753806377, total=   1.8s\n",
      "[CV] max_depth=8, n_estimators=1133 ..................................\n",
      "[CV]  max_depth=8, n_estimators=1133, score=0.8539878560993426, total=   2.2s\n",
      "[CV] max_depth=8, n_estimators=1133 ..................................\n",
      "[CV]  max_depth=8, n_estimators=1133, score=0.8583050847457627, total=   2.2s\n",
      "[CV] max_depth=8, n_estimators=1133 ..................................\n",
      "[CV]  max_depth=8, n_estimators=1133, score=0.8615800057454754, total=   2.2s\n",
      "[CV] max_depth=8, n_estimators=1288 ..................................\n",
      "[CV]  max_depth=8, n_estimators=1288, score=0.8541476442658875, total=   2.6s\n",
      "[CV] max_depth=8, n_estimators=1288 ..................................\n",
      "[CV]  max_depth=8, n_estimators=1288, score=0.8602700373455904, total=   2.6s\n",
      "[CV] max_depth=8, n_estimators=1288 ..................................\n",
      "[CV]  max_depth=8, n_estimators=1288, score=0.861545532892847, total=   2.5s\n",
      "[CV] max_depth=8, n_estimators=1444 ..................................\n",
      "[CV]  max_depth=8, n_estimators=1444, score=0.8543987399561725, total=   2.8s\n",
      "[CV] max_depth=8, n_estimators=1444 ..................................\n",
      "[CV]  max_depth=8, n_estimators=1444, score=0.8603619649525999, total=   2.7s\n",
      "[CV] max_depth=8, n_estimators=1444 ..................................\n",
      "[CV]  max_depth=8, n_estimators=1444, score=0.8618442976156276, total=   2.7s\n",
      "[CV] max_depth=8, n_estimators=1600 ..................................\n",
      "[CV]  max_depth=8, n_estimators=1600, score=0.85441015339664, total=   3.1s\n",
      "[CV] max_depth=8, n_estimators=1600 ..................................\n",
      "[CV]  max_depth=8, n_estimators=1600, score=0.8592818155702385, total=   3.0s\n",
      "[CV] max_depth=8, n_estimators=1600 ..................................\n",
      "[CV]  max_depth=8, n_estimators=1600, score=0.860936512496409, total=   3.1s\n",
      "[CV] max_depth=7, n_estimators=200 ...................................\n",
      "[CV]  max_depth=7, n_estimators=200, score=0.8501643535427319, total=   0.4s\n",
      "[CV] max_depth=7, n_estimators=200 ...................................\n",
      "[CV]  max_depth=7, n_estimators=200, score=0.8586613042229244, total=   0.4s\n",
      "[CV] max_depth=7, n_estimators=200 ...................................\n",
      "[CV]  max_depth=7, n_estimators=200, score=0.8618213157138754, total=   0.4s\n",
      "[CV] max_depth=7, n_estimators=355 ...................................\n",
      "[CV]  max_depth=7, n_estimators=355, score=0.8533487034331629, total=   0.6s\n",
      "[CV] max_depth=7, n_estimators=355 ...................................\n",
      "[CV]  max_depth=7, n_estimators=355, score=0.8572364263142775, total=   0.7s\n",
      "[CV] max_depth=7, n_estimators=355 ...................................\n",
      "[CV]  max_depth=7, n_estimators=355, score=0.861373168629704, total=   0.7s\n",
      "[CV] max_depth=7, n_estimators=511 ...................................\n",
      "[CV]  max_depth=7, n_estimators=511, score=0.851202976625274, total=   0.9s\n",
      "[CV] max_depth=7, n_estimators=511 ...................................\n",
      "[CV]  max_depth=7, n_estimators=511, score=0.859316288422867, total=   0.9s\n",
      "[CV] max_depth=7, n_estimators=511 ...................................\n",
      "[CV]  max_depth=7, n_estimators=511, score=0.8623958632576845, total=   0.9s\n",
      "[CV] max_depth=7, n_estimators=666 ...................................\n",
      "[CV]  max_depth=7, n_estimators=666, score=0.8526867238860483, total=   1.2s\n",
      "[CV] max_depth=7, n_estimators=666 ...................................\n",
      "[CV]  max_depth=7, n_estimators=666, score=0.8576501005458202, total=   1.2s\n",
      "[CV] max_depth=7, n_estimators=666 ...................................\n",
      "[CV]  max_depth=7, n_estimators=666, score=0.8611548405630566, total=   1.2s\n",
      "[CV] max_depth=7, n_estimators=822 ...................................\n",
      "[CV]  max_depth=7, n_estimators=822, score=0.853006300219138, total=   1.5s\n",
      "[CV] max_depth=7, n_estimators=822 ...................................\n",
      "[CV]  max_depth=7, n_estimators=822, score=0.8587072680264292, total=   1.5s\n",
      "[CV] max_depth=7, n_estimators=822 ...................................\n",
      "[CV]  max_depth=7, n_estimators=822, score=0.8611893134156852, total=   1.5s\n",
      "[CV] max_depth=7, n_estimators=977 ...................................\n",
      "[CV]  max_depth=7, n_estimators=977, score=0.8534057706355003, total=   1.8s\n",
      "[CV] max_depth=7, n_estimators=977 ...................................\n",
      "[CV]  max_depth=7, n_estimators=977, score=0.8592588336684861, total=   1.8s\n",
      "[CV] max_depth=7, n_estimators=977 ...................................\n",
      "[CV]  max_depth=7, n_estimators=977, score=0.8609824762999139, total=   1.8s\n",
      "[CV] max_depth=7, n_estimators=1133 ..................................\n",
      "[CV]  max_depth=7, n_estimators=1133, score=0.8528579254930606, total=   2.1s\n",
      "[CV] max_depth=7, n_estimators=1133 ..................................\n",
      "[CV]  max_depth=7, n_estimators=1133, score=0.8590290146509624, total=   2.1s\n",
      "[CV] max_depth=7, n_estimators=1133 ..................................\n",
      "[CV]  max_depth=7, n_estimators=1133, score=0.8619592071243894, total=   2.1s\n",
      "[CV] max_depth=7, n_estimators=1288 ..................................\n",
      "[CV]  max_depth=7, n_estimators=1288, score=0.854113403944485, total=   2.4s\n",
      "[CV] max_depth=7, n_estimators=1288 ..................................\n",
      "[CV]  max_depth=7, n_estimators=1288, score=0.8586842861246767, total=   2.3s\n",
      "[CV] max_depth=7, n_estimators=1288 ..................................\n",
      "[CV]  max_depth=7, n_estimators=1288, score=0.8614765871875898, total=   2.3s\n",
      "[CV] max_depth=7, n_estimators=1444 ..................................\n",
      "[CV]  max_depth=7, n_estimators=1444, score=0.854067750182615, total=   2.6s\n",
      "[CV] max_depth=7, n_estimators=1444 ..................................\n",
      "[CV]  max_depth=7, n_estimators=1444, score=0.8596495259982764, total=   2.7s\n",
      "[CV] max_depth=7, n_estimators=1444 ..................................\n",
      "[CV]  max_depth=7, n_estimators=1444, score=0.8623384085033037, total=   2.7s\n",
      "[CV] max_depth=7, n_estimators=1600 ..................................\n",
      "[CV]  max_depth=7, n_estimators=1600, score=0.8530177136596055, total=   2.9s\n",
      "[CV] max_depth=7, n_estimators=1600 ..................................\n",
      "[CV]  max_depth=7, n_estimators=1600, score=0.8587762137316863, total=   3.0s\n",
      "[CV] max_depth=7, n_estimators=1600 ..................................\n",
      "[CV]  max_depth=7, n_estimators=1600, score=0.861545532892847, total=   2.9s\n",
      "[CV] max_depth=9, n_estimators=200 ...................................\n",
      "[CV]  max_depth=9, n_estimators=200, score=0.8525497626004382, total=   0.4s\n",
      "[CV] max_depth=9, n_estimators=200 ...................................\n",
      "[CV]  max_depth=9, n_estimators=200, score=0.860132145935076, total=   0.5s\n",
      "[CV] max_depth=9, n_estimators=200 ...................................\n",
      "[CV]  max_depth=9, n_estimators=200, score=0.8611778224648089, total=   0.4s\n",
      "[CV] max_depth=9, n_estimators=355 ...................................\n",
      "[CV]  max_depth=9, n_estimators=355, score=0.852013330898466, total=   0.8s\n",
      "[CV] max_depth=9, n_estimators=355 ...................................\n",
      "[CV]  max_depth=9, n_estimators=355, score=0.860373455903476, total=   0.8s\n",
      "[CV] max_depth=9, n_estimators=355 ...................................\n",
      "[CV]  max_depth=9, n_estimators=355, score=0.8622120080436656, total=   0.7s\n",
      "[CV] max_depth=9, n_estimators=511 ...................................\n",
      "[CV]  max_depth=9, n_estimators=511, score=0.8525269357195032, total=   1.0s\n",
      "[CV] max_depth=9, n_estimators=511 ...................................\n",
      "[CV]  max_depth=9, n_estimators=511, score=0.8590749784544671, total=   1.1s\n",
      "[CV] max_depth=9, n_estimators=511 ...................................\n",
      "[CV]  max_depth=9, n_estimators=511, score=0.861430623384085, total=   1.1s\n",
      "[CV] max_depth=9, n_estimators=666 ...................................\n",
      "[CV]  max_depth=9, n_estimators=666, score=0.8537824141709277, total=   1.4s\n",
      "[CV] max_depth=9, n_estimators=666 ...................................\n",
      "[CV]  max_depth=9, n_estimators=666, score=0.8593622522263717, total=   1.4s\n",
      "[CV] max_depth=9, n_estimators=666 ...................................\n",
      "[CV]  max_depth=9, n_estimators=666, score=0.862166044240161, total=   1.4s\n",
      "[CV] max_depth=9, n_estimators=822 ...................................\n",
      "[CV]  max_depth=9, n_estimators=822, score=0.8529035792549305, total=   1.7s\n",
      "[CV] max_depth=9, n_estimators=822 ...................................\n",
      "[CV]  max_depth=9, n_estimators=822, score=0.8587187589773053, total=   1.7s\n",
      "[CV] max_depth=9, n_estimators=822 ...................................\n",
      "[CV]  max_depth=9, n_estimators=822, score=0.8623039356506751, total=   1.8s\n",
      "[CV] max_depth=9, n_estimators=977 ...................................\n",
      "[CV]  max_depth=9, n_estimators=977, score=0.8535541453615778, total=   2.1s\n",
      "[CV] max_depth=9, n_estimators=977 ...................................\n",
      "[CV]  max_depth=9, n_estimators=977, score=0.859821890261419, total=   2.1s\n",
      "[CV] max_depth=9, n_estimators=977 ...................................\n",
      "[CV]  max_depth=9, n_estimators=977, score=0.8616144785981039, total=   2.0s\n",
      "[CV] max_depth=9, n_estimators=1133 ..................................\n",
      "[CV]  max_depth=9, n_estimators=1133, score=0.8534628378378378, total=   2.4s\n",
      "[CV] max_depth=9, n_estimators=1133 ..................................\n",
      "[CV]  max_depth=9, n_estimators=1133, score=0.859063487503591, total=   2.4s\n",
      "[CV] max_depth=9, n_estimators=1133 ..................................\n",
      "[CV]  max_depth=9, n_estimators=1133, score=0.8609480034472853, total=   2.3s\n",
      "[CV] max_depth=9, n_estimators=1288 ..................................\n",
      "[CV]  max_depth=9, n_estimators=1288, score=0.8535997991234479, total=   2.6s\n",
      "[CV] max_depth=9, n_estimators=1288 ..................................\n",
      "[CV]  max_depth=9, n_estimators=1288, score=0.8597069807526573, total=   2.6s\n",
      "[CV] max_depth=9, n_estimators=1288 ..................................\n",
      "[CV]  max_depth=9, n_estimators=1288, score=0.8619477161735134, total=   2.6s\n",
      "[CV] max_depth=9, n_estimators=1444 ..................................\n",
      "[CV]  max_depth=9, n_estimators=1444, score=0.8550264791818846, total=   2.9s\n",
      "[CV] max_depth=9, n_estimators=1444 ..................................\n",
      "[CV]  max_depth=9, n_estimators=1444, score=0.8610744039069234, total=   3.1s\n",
      "[CV] max_depth=9, n_estimators=1444 ..................................\n",
      "[CV]  max_depth=9, n_estimators=1444, score=0.8618787704682562, total=   3.0s\n",
      "[CV] max_depth=9, n_estimators=1600 ..................................\n",
      "[CV]  max_depth=9, n_estimators=1600, score=0.8540449233016801, total=   3.2s\n",
      "[CV] max_depth=9, n_estimators=1600 ..................................\n",
      "[CV]  max_depth=9, n_estimators=1600, score=0.8587417408790577, total=   3.3s\n",
      "[CV] max_depth=9, n_estimators=1600 ..................................\n",
      "[CV]  max_depth=9, n_estimators=1600, score=0.8617178971559898, total=   3.2s\n",
      "[CV] max_depth=10, n_estimators=200 ..................................\n",
      "[CV]  max_depth=10, n_estimators=200, score=0.8540220964207452, total=   0.4s\n",
      "[CV] max_depth=10, n_estimators=200 ..................................\n",
      "[CV]  max_depth=10, n_estimators=200, score=0.861740879057742, total=   0.4s\n",
      "[CV] max_depth=10, n_estimators=200 ..................................\n",
      "[CV]  max_depth=10, n_estimators=200, score=0.8593852341281241, total=   0.5s\n",
      "[CV] max_depth=10, n_estimators=355 ..................................\n",
      "[CV]  max_depth=10, n_estimators=355, score=0.8504953433162893, total=   0.8s\n",
      "[CV] max_depth=10, n_estimators=355 ..................................\n",
      "[CV]  max_depth=10, n_estimators=355, score=0.8585234128124102, total=   0.8s\n",
      "[CV] max_depth=10, n_estimators=355 ..................................\n",
      "[CV]  max_depth=10, n_estimators=355, score=0.8594771617351336, total=   0.8s\n",
      "[CV] max_depth=10, n_estimators=511 ..................................\n",
      "[CV]  max_depth=10, n_estimators=511, score=0.8549694119795471, total=   1.1s\n",
      "[CV] max_depth=10, n_estimators=511 ..................................\n",
      "[CV]  max_depth=10, n_estimators=511, score=0.8579258833668486, total=   1.1s\n",
      "[CV] max_depth=10, n_estimators=511 ..................................\n",
      "[CV]  max_depth=10, n_estimators=511, score=0.8577765010054582, total=   1.1s\n",
      "[CV] max_depth=10, n_estimators=666 ..................................\n",
      "[CV]  max_depth=10, n_estimators=666, score=0.8533144631117604, total=   1.4s\n",
      "[CV] max_depth=10, n_estimators=666 ..................................\n",
      "[CV]  max_depth=10, n_estimators=666, score=0.8584314852054007, total=   1.5s\n",
      "[CV] max_depth=10, n_estimators=666 ..................................\n",
      "[CV]  max_depth=10, n_estimators=666, score=0.8600517092789428, total=   1.4s\n",
      "[CV] max_depth=10, n_estimators=822 ..................................\n",
      "[CV]  max_depth=10, n_estimators=822, score=0.8520361577794011, total=   1.7s\n",
      "[CV] max_depth=10, n_estimators=822 ..................................\n",
      "[CV]  max_depth=10, n_estimators=822, score=0.8579603562194773, total=   1.8s\n",
      "[CV] max_depth=10, n_estimators=822 ..................................\n",
      "[CV]  max_depth=10, n_estimators=822, score=0.8603849468543522, total=   1.8s\n",
      "[CV] max_depth=10, n_estimators=977 ..................................\n",
      "[CV]  max_depth=10, n_estimators=977, score=0.8530291271000731, total=   2.1s\n",
      "[CV] max_depth=10, n_estimators=977 ..................................\n",
      "[CV]  max_depth=10, n_estimators=977, score=0.8585578856650388, total=   2.1s\n",
      "[CV] max_depth=10, n_estimators=977 ..................................\n",
      "[CV]  max_depth=10, n_estimators=977, score=0.8599253088193047, total=   2.1s\n",
      "[CV] max_depth=10, n_estimators=1133 .................................\n",
      "[CV]  max_depth=10, n_estimators=1133, score=0.8526524835646456, total=   2.4s\n",
      "[CV] max_depth=10, n_estimators=1133 .................................\n",
      "[CV]  max_depth=10, n_estimators=1133, score=0.8610744039069231, total=   2.4s\n",
      "[CV] max_depth=10, n_estimators=1133 .................................\n",
      "[CV]  max_depth=10, n_estimators=1133, score=0.8614536052858374, total=   2.5s\n",
      "[CV] max_depth=10, n_estimators=1288 .................................\n",
      "[CV]  max_depth=10, n_estimators=1288, score=0.8523443206720234, total=   2.8s\n",
      "[CV] max_depth=10, n_estimators=1288 .................................\n",
      "[CV]  max_depth=10, n_estimators=1288, score=0.8585463947141625, total=   2.7s\n",
      "[CV] max_depth=10, n_estimators=1288 .................................\n",
      "[CV]  max_depth=10, n_estimators=1288, score=0.8600172364263142, total=   2.7s\n",
      "[CV] max_depth=10, n_estimators=1444 .................................\n",
      "[CV]  max_depth=10, n_estimators=1444, score=0.854250365230095, total=   3.0s\n",
      "[CV] max_depth=10, n_estimators=1444 .................................\n",
      "[CV]  max_depth=10, n_estimators=1444, score=0.8596725079000287, total=   3.0s\n",
      "[CV] max_depth=10, n_estimators=1444 .................................\n",
      "[CV]  max_depth=10, n_estimators=1444, score=0.8625567365699511, total=   3.0s\n",
      "[CV] max_depth=10, n_estimators=1600 .................................\n",
      "[CV]  max_depth=10, n_estimators=1600, score=0.8533144631117604, total=   3.6s\n",
      "[CV] max_depth=10, n_estimators=1600 .................................\n",
      "[CV]  max_depth=10, n_estimators=1600, score=0.8574892272335536, total=   3.4s\n",
      "[CV] max_depth=10, n_estimators=1600 .................................\n",
      "[CV]  max_depth=10, n_estimators=1600, score=0.8609709853490377, total=   3.4s\n",
      "[CV] max_depth=None, n_estimators=200 ................................\n",
      "[CV]  max_depth=None, n_estimators=200, score=0.8526696037253471, total=   0.5s\n",
      "[CV] max_depth=None, n_estimators=200 ................................\n",
      "[CV]  max_depth=None, n_estimators=200, score=0.8585061763860959, total=   0.5s\n",
      "[CV] max_depth=None, n_estimators=200 ................................\n",
      "[CV]  max_depth=None, n_estimators=200, score=0.8576730824475726, total=   0.5s\n",
      "[CV] max_depth=None, n_estimators=355 ................................\n",
      "[CV]  max_depth=None, n_estimators=355, score=0.852241599707816, total=   0.8s\n",
      "[CV] max_depth=None, n_estimators=355 ................................\n",
      "[CV]  max_depth=None, n_estimators=355, score=0.8550531456478023, total=   0.9s\n",
      "[CV] max_depth=None, n_estimators=355 ................................\n",
      "[CV]  max_depth=None, n_estimators=355, score=0.8566963516230968, total=   0.9s\n",
      "[CV] max_depth=None, n_estimators=511 ................................\n",
      "[CV]  max_depth=None, n_estimators=511, score=0.8531432615047481, total=   1.2s\n",
      "[CV] max_depth=None, n_estimators=511 ................................\n",
      "[CV]  max_depth=None, n_estimators=511, score=0.8569089342143063, total=   1.2s\n",
      "[CV] max_depth=None, n_estimators=511 ................................\n",
      "[CV]  max_depth=None, n_estimators=511, score=0.8575179546107441, total=   1.2s\n",
      "[CV] max_depth=None, n_estimators=666 ................................\n",
      "[CV]  max_depth=None, n_estimators=666, score=0.8538166544923301, total=   1.6s\n",
      "[CV] max_depth=None, n_estimators=666 ................................\n",
      "[CV]  max_depth=None, n_estimators=666, score=0.8573053720195346, total=   1.5s\n",
      "[CV] max_depth=None, n_estimators=666 ................................\n",
      "[CV]  max_depth=None, n_estimators=666, score=0.8590232691755243, total=   1.6s\n",
      "[CV] max_depth=None, n_estimators=822 ................................\n",
      "[CV]  max_depth=None, n_estimators=822, score=0.8521445854638422, total=   1.9s\n",
      "[CV] max_depth=None, n_estimators=822 ................................\n",
      "[CV]  max_depth=None, n_estimators=822, score=0.8571157713300777, total=   1.9s\n",
      "[CV] max_depth=None, n_estimators=822 ................................\n",
      "[CV]  max_depth=None, n_estimators=822, score=0.8576558460212582, total=   2.0s\n",
      "[CV] max_depth=None, n_estimators=977 ................................\n",
      "[CV]  max_depth=None, n_estimators=977, score=0.8527209642074507, total=   2.2s\n",
      "[CV] max_depth=None, n_estimators=977 ................................\n",
      "[CV]  max_depth=None, n_estimators=977, score=0.8578167193335248, total=   2.2s\n",
      "[CV] max_depth=None, n_estimators=977 ................................\n",
      "[CV]  max_depth=None, n_estimators=977, score=0.8587359954036196, total=   2.3s\n",
      "[CV] max_depth=None, n_estimators=1133 ...............................\n",
      "[CV]  max_depth=None, n_estimators=1133, score=0.8517337016070123, total=   2.6s\n",
      "[CV] max_depth=None, n_estimators=1133 ...............................\n",
      "[CV]  max_depth=None, n_estimators=1133, score=0.8571559896581442, total=   2.8s\n",
      "[CV] max_depth=None, n_estimators=1133 ...............................\n",
      "[CV]  max_depth=None, n_estimators=1133, score=0.8583912668773341, total=   2.8s\n",
      "[CV] max_depth=None, n_estimators=1288 ...............................\n",
      "[CV]  max_depth=None, n_estimators=1288, score=0.8510774287801315, total=   3.0s\n",
      "[CV] max_depth=None, n_estimators=1288 ...............................\n",
      "[CV]  max_depth=None, n_estimators=1288, score=0.8582303935650675, total=   3.1s\n",
      "[CV] max_depth=None, n_estimators=1288 ...............................\n",
      "[CV]  max_depth=None, n_estimators=1288, score=0.8596552714737145, total=   3.1s\n",
      "[CV] max_depth=None, n_estimators=1444 ...............................\n",
      "[CV]  max_depth=None, n_estimators=1444, score=0.8517964755295837, total=   3.4s\n",
      "[CV] max_depth=None, n_estimators=1444 ...............................\n",
      "[CV]  max_depth=None, n_estimators=1444, score=0.856466532605573, total=   3.5s\n",
      "[CV] max_depth=None, n_estimators=1444 ...............................\n",
      "[CV]  max_depth=None, n_estimators=1444, score=0.8601436368859524, total=   3.6s\n",
      "[CV] max_depth=None, n_estimators=1600 ...............................\n",
      "[CV]  max_depth=None, n_estimators=1600, score=0.8528579254930607, total=   4.0s\n",
      "[CV] max_depth=None, n_estimators=1600 ...............................\n",
      "[CV]  max_depth=None, n_estimators=1600, score=0.8587359954036196, total=   4.0s\n",
      "[CV] max_depth=None, n_estimators=1600 ...............................\n",
      "[CV]  max_depth=None, n_estimators=1600, score=0.8586613042229245, total=   4.1s\n"
     ]
    },
    {
     "name": "stderr",
     "output_type": "stream",
     "text": [
      "[Parallel(n_jobs=1)]: Done 150 out of 150 | elapsed:  5.1min finished\n"
     ]
    },
    {
     "name": "stdout",
     "output_type": "stream",
     "text": [
      "0.859321697831282\n"
     ]
    },
    {
     "ename": "AttributeError",
     "evalue": "'RandomForestClassifier' object has no attribute 'alpha'",
     "output_type": "error",
     "traceback": [
      "\u001b[0;31m---------------------------------------------------------------------------\u001b[0m",
      "\u001b[0;31mAttributeError\u001b[0m                            Traceback (most recent call last)",
      "\u001b[0;32m<ipython-input-24-e0d0e82b6a39>\u001b[0m in \u001b[0;36m<module>\u001b[0;34m()\u001b[0m\n\u001b[1;32m     32\u001b[0m \u001b[0;34m\u001b[0m\u001b[0m\n\u001b[1;32m     33\u001b[0m \u001b[0mprint\u001b[0m\u001b[0;34m(\u001b[0m\u001b[0mclf\u001b[0m\u001b[0;34m.\u001b[0m\u001b[0mbest_score_\u001b[0m\u001b[0;34m)\u001b[0m\u001b[0;34m\u001b[0m\u001b[0m\n\u001b[0;32m---> 34\u001b[0;31m \u001b[0mprint\u001b[0m\u001b[0;34m(\u001b[0m\u001b[0mclf\u001b[0m\u001b[0;34m.\u001b[0m\u001b[0mbest_estimator_\u001b[0m\u001b[0;34m.\u001b[0m\u001b[0malpha\u001b[0m\u001b[0;34m)\u001b[0m\u001b[0;34m\u001b[0m\u001b[0m\n\u001b[0m\u001b[1;32m     35\u001b[0m \u001b[0;34m\u001b[0m\u001b[0m\n\u001b[1;32m     36\u001b[0m \u001b[0mpreds\u001b[0m \u001b[0;34m=\u001b[0m \u001b[0mclf\u001b[0m\u001b[0;34m.\u001b[0m\u001b[0mpredict\u001b[0m\u001b[0;34m(\u001b[0m\u001b[0mX_test\u001b[0m\u001b[0;34m)\u001b[0m\u001b[0;34m\u001b[0m\u001b[0m\n",
      "\u001b[0;31mAttributeError\u001b[0m: 'RandomForestClassifier' object has no attribute 'alpha'"
     ]
    }
   ],
   "source": [
    "model = RandomForestClassifier()\n",
    "# Number of trees in random forest\n",
    "n_estimators = [int(x) for x in np.linspace(start = 200, stop = 1600, num = 10)]\n",
    "\n",
    "# Number of features to consider at every split\n",
    "#max_features = ['auto']\n",
    "\n",
    "# Maximum number of levels in tree\n",
    "max_depth = [8,7,9,10]#[int(x) for x in np.linspace(10, 110, num = 11)]\n",
    "\n",
    "max_depth.append(None)\n",
    "\n",
    "# Minimum number of samples required to split a node\n",
    "#min_samples_split = [2, 5, 10]\n",
    "\n",
    "# Minimum number of samples required at each leaf node\n",
    "#min_samples_leaf = [1, 2, 4]\n",
    "\n",
    "# Method of selecting samples for training each tree\n",
    "#bootstrap = [True]\n",
    "\n",
    "# Create the random grid\n",
    "random_grid = {'n_estimators': n_estimators,\n",
    "               #'max_features': max_features,\n",
    "               'max_depth': max_depth}#,\n",
    "               #'min_samples_split': min_samples_split,\n",
    "               #'min_samples_leaf': min_samples_leaf,\n",
    "               #'bootstrap': bootstrap}\n",
    "\n",
    "clf = GridSearchCV(estimator=model, param_grid=random_grid,verbose = 10, scoring = 'roc_auc')\n",
    "clf.fit(X_train, y_train)\n",
    "\n",
    "print(clf.best_score_)\n",
    "print(clf.best_estimator_.alpha)\n",
    "\n",
    "preds = clf.predict(X_test)\n",
    "preds_prob = clf.predict_proba(X_test)[:,1]\n",
    "train_accuracy = accuracy_score(y_train, clf.predict(X_train))\n",
    "test_accuracy = accuracy_score(y_test, preds)\n",
    "area_debajo_de_curva = roc_auc_score(y_test, preds_prob)\n",
    "matriz_de_confusion = confusion_matrix(y_test, preds)\n",
    "print('train acurracy: ')\n",
    "print(train_accuracy)\n",
    "print('test acurracy: ')\n",
    "print(test_accuracy)\n",
    "print('Matriz de confusión: ')\n",
    "print(matriz_de_confusion)\n",
    "print('Área bajo la curva: ')\n",
    "print(area_debajo_de_curva)\n",
    "print()\n"
   ]
  },
  {
   "cell_type": "code",
   "execution_count": 26,
   "metadata": {},
   "outputs": [
    {
     "name": "stdout",
     "output_type": "stream",
     "text": [
      "0.859321697831282\n",
      "RandomForestClassifier(bootstrap=True, class_weight=None, criterion='gini',\n",
      "            max_depth=9, max_features='auto', max_leaf_nodes=None,\n",
      "            min_impurity_decrease=0.0, min_impurity_split=None,\n",
      "            min_samples_leaf=1, min_samples_split=2,\n",
      "            min_weight_fraction_leaf=0.0, n_estimators=1444, n_jobs=None,\n",
      "            oob_score=False, random_state=None, verbose=0,\n",
      "            warm_start=False)\n",
      "train acurracy: \n",
      "0.9255079006772009\n",
      "test acurracy: \n",
      "0.770854788877446\n",
      "Matriz de confusión: \n",
      "[[1422  426]\n",
      " [  19   75]]\n",
      "Área bajo la curva: \n",
      "0.8526641797918394\n",
      "\n"
     ]
    }
   ],
   "source": [
    "print(clf.best_score_)\n",
    "print(clf.best_estimator_)\n",
    "\n",
    "preds = clf.predict(X_test)\n",
    "preds_prob = clf.predict_proba(X_test)[:,1]\n",
    "train_accuracy = accuracy_score(y_train, clf.predict(X_train))\n",
    "test_accuracy = accuracy_score(y_test, preds)\n",
    "area_debajo_de_curva = roc_auc_score(y_test, preds_prob)\n",
    "matriz_de_confusion = confusion_matrix(y_test, preds)\n",
    "print('train acurracy: ')\n",
    "print(train_accuracy)\n",
    "print('test acurracy: ')\n",
    "print(test_accuracy)\n",
    "print('Matriz de confusión: ')\n",
    "print(matriz_de_confusion)\n",
    "print('Área bajo la curva: ')\n",
    "print(area_debajo_de_curva)\n",
    "print()\n",
    "\n"
   ]
  },
  {
   "cell_type": "code",
   "execution_count": null,
   "metadata": {},
   "outputs": [],
   "source": []
  }
 ],
 "metadata": {
  "kernelspec": {
   "display_name": "Python 3",
   "language": "python",
   "name": "python3"
  },
  "language_info": {
   "codemirror_mode": {
    "name": "ipython",
    "version": 3
   },
   "file_extension": ".py",
   "mimetype": "text/x-python",
   "name": "python",
   "nbconvert_exporter": "python",
   "pygments_lexer": "ipython3",
   "version": "3.6.5"
  }
 },
 "nbformat": 4,
 "nbformat_minor": 2
}
