{
 "cells": [
  {
   "cell_type": "code",
   "execution_count": 187,
   "metadata": {},
   "outputs": [],
   "source": [
    "import pandas as pd  \n",
    "import numpy as np  \n",
    "import matplotlib.pyplot as plt \n",
    "%matplotlib inline\n",
    "\n",
    "from datetime import timedelta\n",
    "\n",
    "from sklearn.model_selection import train_test_split, StratifiedKFold, cross_val_score, cross_val_predict\n",
    "from sklearn.metrics import accuracy_score, roc_auc_score, mean_squared_error, confusion_matrix,\\\n",
    "                            f1_score,precision_score,recall_score,classification_report,cohen_kappa_score\n",
    "import xgboost as xgb\n",
    "from sklearn import preprocessing\n",
    "from sklearn.feature_selection import RFE, SelectKBest, chi2\n"
   ]
  },
  {
   "cell_type": "code",
   "execution_count": 2,
   "metadata": {
    "scrolled": true
   },
   "outputs": [],
   "source": [
    "# df_events información de eventos realizado en la plataforma para un conjunto de usuarios hasta el 31/05/2018\n",
    "df_events = pd.read_csv('../../data/events_up_to_01062018.csv',dtype=object)\n",
    "# df_train archivo labels_training_set.csv indica para un subconjunto de los usuarios incluidos en el set de \n",
    "# eventos events_up_to_01062018.csv si los mismos realizaron una conversión (columna label = 1) o no (columna \n",
    "# label = 0) desde el 01/06/2018 hasta el 15/06/2018\n",
    "df_labels = pd.read_csv('../../data/labels_training_set.csv',dtype=object)\n",
    "# Personas a predecir conversion.\n",
    "df_person = pd.read_csv('../../data/trocafone_kaggle_test.csv')"
   ]
  },
  {
   "cell_type": "code",
   "execution_count": 3,
   "metadata": {
    "scrolled": true
   },
   "outputs": [
    {
     "name": "stdout",
     "output_type": "stream",
     "text": [
      "<class 'pandas.core.frame.DataFrame'>\n",
      "RangeIndex: 19414 entries, 0 to 19413\n",
      "Data columns (total 2 columns):\n",
      "person    19414 non-null object\n",
      "label     19414 non-null int64\n",
      "dtypes: int64(1), object(1)\n",
      "memory usage: 303.4+ KB\n"
     ]
    }
   ],
   "source": [
    "df_labels['label'] = df_labels['label'].astype(int)\n",
    "df_labels.info()"
   ]
  },
  {
   "cell_type": "code",
   "execution_count": 4,
   "metadata": {
    "scrolled": true
   },
   "outputs": [],
   "source": [
    "df_events[\"timestamp\"] = pd.to_datetime(df_events[\"timestamp\"])\n",
    "df_events[\"month\"] = df_events[\"timestamp\"].dt.month\n",
    "df_events[\"day\"] = df_events[\"timestamp\"].dt.day\n",
    "df_events[\"day_of_week\"] = df_events['timestamp'].dt.weekday_name\n",
    "df_events['day_of_year'] = df_events['timestamp'].dt.dayofyear\n",
    "df_events['hour'] = df_events['timestamp'].dt.hour\n",
    "df_events['minute'] = df_events['timestamp'].dt.minute\n",
    "df_events['week_of_year'] = df_events['timestamp'].dt.weekofyear\n",
    "df_events['second'] = df_events['timestamp'].dt.second"
   ]
  },
  {
   "cell_type": "code",
   "execution_count": 5,
   "metadata": {},
   "outputs": [],
   "source": [
    "df_todas_las_personas = df_events[['person']].drop_duplicates()"
   ]
  },
  {
   "cell_type": "code",
   "execution_count": 6,
   "metadata": {},
   "outputs": [],
   "source": [
    "# Me quedo solo con los users que tienen label.\n",
    "df_events_con_labels = pd.merge(df_events,df_labels,on = 'person',how = 'inner')"
   ]
  },
  {
   "cell_type": "code",
   "execution_count": 174,
   "metadata": {},
   "outputs": [],
   "source": [
    "def stratifiedCV(data):\n",
    "    \n",
    "    df_train = pd.merge(data,df_labels,how = 'inner', on ='person')\n",
    "    df_train.drop(columns = ['person'],inplace = True)\n",
    "    \n",
    "    X = df_train.drop(columns = ['label'])\n",
    "    y = df_train['label']\n",
    "    \n",
    "    model = xgb.XGBRegressor(objective ='binary:logistic', \n",
    "                colsample_bytree = 0.8, learning_rate = 0.1,\n",
    "                max_depth = 5, n_estimators = 6, scale_pos_weight = 7, min_child_weight=15)\n",
    "    \n",
    "    stratifiedKFold = StratifiedKFold(n_splits = 10, random_state = 7)\n",
    "    \n",
    "    results = cross_val_score(model, X, y, cv = stratifiedKFold, scoring = 'roc_auc')\n",
    "    #results2 = cross_val_predict(model, X, y, cv = stratifiedKFold, method='predict_proba')\n",
    "    \n",
    "    print(\"ROC AUC: \",results.mean())"
   ]
  },
  {
   "cell_type": "code",
   "execution_count": 266,
   "metadata": {},
   "outputs": [],
   "source": [
    "def stratifiedCVConRFE(data, K):\n",
    "    \n",
    "    df_train = pd.merge(data,df_labels,how = 'inner', on ='person')\n",
    "    df_train.drop(columns = ['person'],inplace = True)\n",
    "    \n",
    "    X = df_train.drop(columns = ['label'])\n",
    "    y = df_train['label']\n",
    "    \n",
    "    model = xgb.XGBRegressor(objective ='binary:logistic', \n",
    "                colsample_bytree = 0.8, learning_rate = 0.1,\n",
    "                max_depth = 5, n_estimators = 6, scale_pos_weight = 7, min_child_weight=15)\n",
    "    \n",
    "    stratifiedKFold = StratifiedKFold(n_splits = 10, random_state = 7)\n",
    "    \n",
    "    rfe = RFE(model, K)\n",
    "    rfe = rfe.fit(X, y.ravel())\n",
    "\n",
    "    # Selecciono los n features para entrenar\n",
    "    mask = rfe.get_support()\n",
    "    features_X = X.columns[mask]\n",
    "    X = X.filter(items = features_X)\n",
    "    \n",
    "    results = cross_val_score(model, X, y, cv = stratifiedKFold, scoring = 'roc_auc')\n",
    "        \n",
    "    print(\"ROC AUC: \",results.mean())"
   ]
  },
  {
   "cell_type": "code",
   "execution_count": 267,
   "metadata": {},
   "outputs": [],
   "source": [
    "def stratifiedCVConKBestChi2(data, K):\n",
    "    \n",
    "    df_train = pd.merge(data,df_labels,how = 'inner', on ='person')\n",
    "    df_train.drop(columns = ['person'],inplace = True)\n",
    "    \n",
    "    X = df_train.drop(columns = ['label'])\n",
    "    y = df_train['label']\n",
    "    \n",
    "    model = xgb.XGBRegressor(objective ='binary:logistic', \n",
    "                colsample_bytree = 0.8, learning_rate = 0.1,\n",
    "                max_depth = 5, n_estimators = 6, scale_pos_weight = 7, min_child_weight=15)\n",
    "    \n",
    "    stratifiedKFold = StratifiedKFold(n_splits = 10, random_state = 7)\n",
    "    \n",
    "    X = SelectKBest(chi2, K = K).fit_transform(X, y)\n",
    "    \n",
    "    results = cross_val_score(model, X, y, cv = stratifiedKFold, scoring = 'roc_auc')\n",
    "        \n",
    "    print(\"ROC AUC: \",results.mean())"
   ]
  },
  {
   "cell_type": "code",
   "execution_count": null,
   "metadata": {},
   "outputs": [],
   "source": []
  },
  {
   "cell_type": "code",
   "execution_count": null,
   "metadata": {},
   "outputs": [],
   "source": [
    "df"
   ]
  },
  {
   "cell_type": "code",
   "execution_count": 29,
   "metadata": {},
   "outputs": [],
   "source": [
    "# 0.845696189422742\n",
    "df_seba = pd.read_csv('../features_varios.csv')"
   ]
  },
  {
   "cell_type": "code",
   "execution_count": 75,
   "metadata": {},
   "outputs": [],
   "source": [
    "# 0.8520506767923741\n",
    "df_seba2 = pd.read_csv('features_seba.csv')"
   ]
  },
  {
   "cell_type": "code",
   "execution_count": 89,
   "metadata": {},
   "outputs": [],
   "source": [
    "# 0.8201881323017529\n",
    "df_laggedFeatures  = pd.read_csv('fetures_nuevos_santi.csv')"
   ]
  },
  {
   "cell_type": "code",
   "execution_count": 91,
   "metadata": {},
   "outputs": [],
   "source": [
    "# 0.8300765707861256\n",
    "df_featuresEventos = pd.read_csv('Santi_FeaturesConEventos.csv')"
   ]
  },
  {
   "cell_type": "code",
   "execution_count": 253,
   "metadata": {},
   "outputs": [],
   "source": [
    "columnas = ['person','checkout_iPhone 6S',\n",
    " 'checkout_Samsung Galaxy J5',\n",
    " 'checkout_Samsung Galaxy J7 Prime',\n",
    " 'checkout_iPhone 7 Plus',\n",
    " 'checkout_iPhone 4G',\n",
    " 'checkout_Samsung Galaxy On 7',\n",
    " 'checkout_Motorola Moto X Play 4G Dual',\n",
    " 'checkout_Samsung Galaxy J7 2016 Metal',\n",
    " 'checkout_iPhone 7',\n",
    " 'checkout_Motorola Moto X2',\n",
    " 'checkout_Samsung Galaxy S7',\n",
    " 'checkout_iPhone 4S',\n",
    " 'checkout_Lenovo Vibe A7010 Dual Chip',\n",
    " 'checkout_Motorola Moto G4 Plus',\n",
    " 'checkout_iPhone 5s',\n",
    " 'viewedproduct_128GB',\n",
    " 'viewedproduct_16GB',\n",
    " 'viewedproduct_256GB',\n",
    " 'viewedproduct_32GB',\n",
    " 'viewedproduct_4GB',\n",
    " 'viewedproduct_512MB',\n",
    " 'viewedproduct_64GB',\n",
    " 'viewedproduct_8GB',\n",
    " 'viewedproduct_Bom',\n",
    " 'viewedproduct_Bom - Sem Touch ID',\n",
    " 'viewedproduct_Excelente',\n",
    " 'viewedproduct_Muito Bom',\n",
    " 'viewedproduct_Novo',\n",
    " 'vuelve',\n",
    " 'visitedsite_Sao Paulo',\n",
    " 'visitedsite_region desconocida',\n",
    " 'visitedsite_Minas Gerais',\n",
    " 'visitedsite_Rio de Janeiro',\n",
    " 'visitedsite_Bahia',\n",
    " 'visitedsite_Pernambuco',\n",
    " 'visitedsite_Ceara',\n",
    " 'visitedsite_Parana',\n",
    " 'visitedsite_Rio Grande do Sul',\n",
    " 'visitedsite_Espirito Santo',\n",
    " 'visitedsite_Federal District',\n",
    " 'visitedsite_Maranhao',\n",
    " 'visitedsite_Goias',\n",
    " 'visitedsite_Santa Catarina',\n",
    " 'visitedsite_Para',\n",
    " 'visitedsite_Rio Grande do Norte',\n",
    " 'visitedsite_Paraíba',\n",
    " 'visitedsite_Piaui',\n",
    " 'visitedsite_Alagoas',\n",
    " 'visitedsite_Sergipe',\n",
    " 'visitedsite_Amazonas',\n",
    " 'visitedsite_Mato Grosso',\n",
    " 'visitedsite_Tocantins',\n",
    " 'visitedsite_Mato Grosso do Sul',\n",
    " 'visitedsite_Rondonia',\n",
    " 'visitedsite_Amapa',\n",
    " 'visitedsite_Acre',\n",
    " 'visitedsite_Roraima',\n",
    " 'visitedsite_Computer',\n",
    " 'visitedsite_Smartphone',\n",
    " 'visitedsite_Tablet',\n",
    " 'visitedsite_device desconocido',\n",
    " 'visitedsite_360x640',\n",
    " 'visitedsite_1366x768',\n",
    " 'visitedsite_320x570',\n",
    " 'visitedsite_1600x900',\n",
    " 'visitedsite_320x534',\n",
    " 'visitedsite_1280x1024',\n",
    " 'visitedsite_320x569',\n",
    " 'visitedsite_1920x1080',\n",
    " 'visitedsite_1024x768',\n",
    " 'visitedsite_1324x745',\n",
    " 'visitedsite_Android 7',\n",
    " 'visitedsite_Windows 7 ',\n",
    " 'visitedsite_Windows 10 ',\n",
    "]"
   ]
  },
  {
   "cell_type": "code",
   "execution_count": 254,
   "metadata": {},
   "outputs": [
    {
     "data": {
      "text/plain": [
       "111"
      ]
     },
     "execution_count": 254,
     "metadata": {},
     "output_type": "execute_result"
    }
   ],
   "source": [
    "len(df_train.columns)"
   ]
  },
  {
   "cell_type": "code",
   "execution_count": 262,
   "metadata": {},
   "outputs": [],
   "source": []
  },
  {
   "cell_type": "code",
   "execution_count": 263,
   "metadata": {},
   "outputs": [],
   "source": []
  },
  {
   "cell_type": "code",
   "execution_count": 264,
   "metadata": {},
   "outputs": [
    {
     "data": {
      "text/plain": [
       "array([[ 0.,  0.,  0., ..., 17.,  0.,  0.],\n",
       "       [ 0.,  0.,  0., ...,  0.,  0.,  0.],\n",
       "       [ 1.,  0.,  0., ..., 13.,  3.,  0.],\n",
       "       ...,\n",
       "       [ 0.,  0.,  0., ...,  0.,  0.,  3.],\n",
       "       [ 0.,  0.,  0., ...,  0.,  0.,  0.],\n",
       "       [ 0.,  0.,  0., ...,  1.,  0.,  0.]])"
      ]
     },
     "execution_count": 264,
     "metadata": {},
     "output_type": "execute_result"
    }
   ],
   "source": [
    "X_new"
   ]
  },
  {
   "cell_type": "code",
   "execution_count": 256,
   "metadata": {},
   "outputs": [],
   "source": [
    "df_train = pd.merge(df_seba2,df_featuresEventos[columnas],on = 'person', how = 'inner')"
   ]
  },
  {
   "cell_type": "code",
   "execution_count": null,
   "metadata": {},
   "outputs": [],
   "source": []
  },
  {
   "cell_type": "code",
   "execution_count": 257,
   "metadata": {},
   "outputs": [
    {
     "name": "stdout",
     "output_type": "stream",
     "text": [
      "ROC AUC:  0.8659158489130127\n"
     ]
    }
   ],
   "source": [
    "stratifiedCVConRFE(df_train)"
   ]
  },
  {
   "cell_type": "code",
   "execution_count": 212,
   "metadata": {},
   "outputs": [
    {
     "name": "stdout",
     "output_type": "stream",
     "text": [
      "ROC AUC:  0.863210183684831\n"
     ]
    }
   ],
   "source": [
    "stratifiedCV(df_train)"
   ]
  },
  {
   "cell_type": "code",
   "execution_count": 194,
   "metadata": {},
   "outputs": [],
   "source": [
    "model = xgb.XGBRegressor(objective ='binary:logistic', \n",
    "                colsample_bytree = 0.8, learning_rate = 0.1,\n",
    "                max_depth = 5, n_estimators = 6, scale_pos_weight = 7, min_child_weight=15)"
   ]
  },
  {
   "cell_type": "code",
   "execution_count": 198,
   "metadata": {},
   "outputs": [
    {
     "name": "stdout",
     "output_type": "stream",
     "text": [
      "n =  43\n"
     ]
    }
   ],
   "source": [
    "n = 43\n",
    "rfe = RFE(model, n)\n",
    "rfe = rfe.fit(X, y.ravel())\n",
    "   \n",
    "print('n = ', n)\n",
    "   \n",
    "# Selecciono los n features para entrenar\n",
    "mask = rfe.get_support()\n",
    "features_X = X.columns[mask]\n",
    "new_x = X.filter(items=features_X)"
   ]
  },
  {
   "cell_type": "code",
   "execution_count": 161,
   "metadata": {
    "scrolled": false
   },
   "outputs": [],
   "source": [
    "#list(df_featuresEventos.columns)"
   ]
  },
  {
   "cell_type": "code",
   "execution_count": 93,
   "metadata": {},
   "outputs": [],
   "source": [
    "# 0.7286368575010472\n",
    "df_timeFeatures = pd.read_csv('santi_timefeatures.csv')"
   ]
  },
  {
   "cell_type": "code",
   "execution_count": 97,
   "metadata": {},
   "outputs": [
    {
     "data": {
      "text/plain": [
       "['person',\n",
       " 'ad campaign hit mes 5',\n",
       " 'brand listing mes 5',\n",
       " 'checkout mes 5',\n",
       " 'conversion mes 5',\n",
       " 'generic listing mes 5',\n",
       " 'lead mes 5',\n",
       " 'search engine hit mes 5',\n",
       " 'searched products mes 5',\n",
       " 'staticpage mes 5',\n",
       " 'viewed product mes 5',\n",
       " 'visited site mes 5',\n",
       " 'dias_hasta_ultimo',\n",
       " 'ad campaign hit mes 4',\n",
       " 'brand listing mes 4',\n",
       " 'checkout mes 4',\n",
       " 'conversion mes 4',\n",
       " 'generic listing mes 4',\n",
       " 'lead mes 4',\n",
       " 'search engine hit mes 4',\n",
       " 'searched products mes 4',\n",
       " 'staticpage mes 4',\n",
       " 'viewed product mes 4',\n",
       " 'visited site mes 4',\n",
       " 'distan_dias',\n",
       " 'nuevo_mes_5',\n",
       " 'cant_dias_dist',\n",
       " 'modelos_dist',\n",
       " 'promedio_por_dia_x',\n",
       " 'promedio_por_mes',\n",
       " 'mes_primer_entrada',\n",
       " 'promedio_por_dia_y']"
      ]
     },
     "execution_count": 97,
     "metadata": {},
     "output_type": "execute_result"
    }
   ],
   "source": [
    "list(df_seba2.columns)"
   ]
  },
  {
   "cell_type": "code",
   "execution_count": null,
   "metadata": {},
   "outputs": [],
   "source": [
    "d"
   ]
  }
 ],
 "metadata": {
  "kernelspec": {
   "display_name": "Python 3",
   "language": "python",
   "name": "python3"
  },
  "language_info": {
   "codemirror_mode": {
    "name": "ipython",
    "version": 3
   },
   "file_extension": ".py",
   "mimetype": "text/x-python",
   "name": "python",
   "nbconvert_exporter": "python",
   "pygments_lexer": "ipython3",
   "version": "3.6.5"
  }
 },
 "nbformat": 4,
 "nbformat_minor": 2
}
