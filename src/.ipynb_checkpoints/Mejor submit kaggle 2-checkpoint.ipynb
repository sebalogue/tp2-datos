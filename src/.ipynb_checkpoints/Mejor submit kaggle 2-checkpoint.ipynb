{
 "cells": [
  {
   "cell_type": "code",
   "execution_count": 1,
   "metadata": {},
   "outputs": [],
   "source": [
    "import pandas as pd  \n",
    "import numpy as np  \n",
    "import matplotlib.pyplot as plt \n",
    "%matplotlib inline\n",
    "\n",
    "from datetime import timedelta\n",
    "\n",
    "from sklearn.model_selection import train_test_split, StratifiedKFold, KFold, cross_val_score, cross_val_predict\n",
    "from sklearn.metrics import accuracy_score, roc_auc_score, mean_squared_error, confusion_matrix,\\\n",
    "                            f1_score,precision_score,recall_score,classification_report,cohen_kappa_score\n",
    "                                                            \n",
    "import xgboost as xgb\n",
    "from sklearn import preprocessing\n",
    "from sklearn.feature_selection import RFE, SelectKBest, chi2\n",
    "from sklearn.ensemble import ExtraTreesClassifier"
   ]
  },
  {
   "cell_type": "code",
   "execution_count": 2,
   "metadata": {
    "scrolled": true
   },
   "outputs": [],
   "source": [
    "# df_events información de eventos realizado en la plataforma para un conjunto de usuarios hasta el 31/05/2018\n",
    "df_events = pd.read_csv('../../data/events_up_to_01062018.csv',dtype=object)\n",
    "# df_train archivo labels_training_set.csv indica para un subconjunto de los usuarios incluidos en el set de \n",
    "# eventos events_up_to_01062018.csv si los mismos realizaron una conversión (columna label = 1) o no (columna \n",
    "# label = 0) desde el 01/06/2018 hasta el 15/06/2018\n",
    "df_labels = pd.read_csv('../../data/labels_training_set.csv',dtype=object)\n",
    "# Personas a predecir conversion.\n",
    "df_person = pd.read_csv('../../data/trocafone_kaggle_test.csv')"
   ]
  },
  {
   "cell_type": "code",
   "execution_count": 3,
   "metadata": {
    "scrolled": true
   },
   "outputs": [
    {
     "name": "stdout",
     "output_type": "stream",
     "text": [
      "<class 'pandas.core.frame.DataFrame'>\n",
      "RangeIndex: 19414 entries, 0 to 19413\n",
      "Data columns (total 2 columns):\n",
      "person    19414 non-null object\n",
      "label     19414 non-null int64\n",
      "dtypes: int64(1), object(1)\n",
      "memory usage: 303.4+ KB\n"
     ]
    }
   ],
   "source": [
    "df_labels['label'] = df_labels['label'].astype(int)\n",
    "df_labels.info()"
   ]
  },
  {
   "cell_type": "code",
   "execution_count": 10,
   "metadata": {},
   "outputs": [],
   "source": [
    "def stratifiedCVConKBestChi2(data, K):\n",
    "    \n",
    "    df_train = pd.merge(data,df_labels,how = 'inner', on ='person')\n",
    "    df_train.drop(columns = ['person'],inplace = True)\n",
    "    \n",
    "    X = df_train.drop(columns = ['label'])\n",
    "    y = df_train['label']\n",
    "    \n",
    "    model = xgb.XGBRegressor(objective ='binary:logistic', \n",
    "                colsample_bytree = 0.8, learning_rate = 0.1,\n",
    "                max_depth = 5, n_estimators = 6, scale_pos_weight = 7, min_child_weight=15)\n",
    "    \n",
    "    stratifiedKFold = StratifiedKFold(n_splits = 10, random_state = 7)\n",
    "    \n",
    "    selector = SelectKBest(chi2, k = K)\n",
    "    selector.fit(X, y)\n",
    "    X_new = selector.transform(X)\n",
    "    \n",
    "    nombre_columnas = list(X.columns[selector.get_support(indices=True)])\n",
    "    \n",
    "    X_new = pd.DataFrame(X_new)\n",
    "    X_new.columns = nombre_columnas\n",
    "    \n",
    "    model.fit(X_new, y)\n",
    "    \n",
    "    df_kaggle_con_personas = pd.merge(df_person, data, how = 'inner', on = 'person')\n",
    "    df_kaggle_sin_personas = df_kaggle_con_personas[list(X.columns[selector.get_support(indices=True)])]\n",
    "    preds = model.predict(df_kaggle_sin_personas)\n",
    "    predicciones = df_kaggle_con_personas[['person']]\n",
    "    predicciones['label'] = preds\n",
    "    \n",
    "    predicciones.to_csv('ultima_prueba.csv', encoding='utf-8', index=False)\n",
    "    \n",
    "    results = cross_val_score(model, X_new, y, cv = stratifiedKFold, scoring = 'roc_auc')   \n",
    "    \n",
    "    print(\"ROC AUC: \",results.mean())"
   ]
  },
  {
   "cell_type": "code",
   "execution_count": 6,
   "metadata": {},
   "outputs": [],
   "source": [
    "df_seba2 = pd.read_csv('features_seba.csv')"
   ]
  },
  {
   "cell_type": "code",
   "execution_count": 11,
   "metadata": {},
   "outputs": [],
   "source": [
    "df_featuresEventos = pd.read_csv('Santi_FeaturesConEventos.csv')\n",
    "df_featuresEventos.drop(columns = ['Unnamed: 0'],inplace = True)"
   ]
  },
  {
   "cell_type": "code",
   "execution_count": 12,
   "metadata": {},
   "outputs": [],
   "source": [
    "df_train = pd.merge(df_seba2,df_featuresEventos, on = 'person', how = 'inner')"
   ]
  },
  {
   "cell_type": "code",
   "execution_count": 13,
   "metadata": {
    "scrolled": true
   },
   "outputs": [
    {
     "name": "stderr",
     "output_type": "stream",
     "text": [
      "/home/santi/anaconda3/lib/python3.6/site-packages/ipykernel_launcher.py:30: SettingWithCopyWarning: \n",
      "A value is trying to be set on a copy of a slice from a DataFrame.\n",
      "Try using .loc[row_indexer,col_indexer] = value instead\n",
      "\n",
      "See the caveats in the documentation: http://pandas.pydata.org/pandas-docs/stable/indexing.html#indexing-view-versus-copy\n"
     ]
    },
    {
     "name": "stdout",
     "output_type": "stream",
     "text": [
      "ROC AUC:  0.867080615221008\n"
     ]
    }
   ],
   "source": [
    "stratifiedCVConKBestChi2(df_train,139)"
   ]
  }
 ],
 "metadata": {
  "kernelspec": {
   "display_name": "Python 3",
   "language": "python",
   "name": "python3"
  },
  "language_info": {
   "codemirror_mode": {
    "name": "ipython",
    "version": 3
   },
   "file_extension": ".py",
   "mimetype": "text/x-python",
   "name": "python",
   "nbconvert_exporter": "python",
   "pygments_lexer": "ipython3",
   "version": "3.6.5"
  }
 },
 "nbformat": 4,
 "nbformat_minor": 2
}
