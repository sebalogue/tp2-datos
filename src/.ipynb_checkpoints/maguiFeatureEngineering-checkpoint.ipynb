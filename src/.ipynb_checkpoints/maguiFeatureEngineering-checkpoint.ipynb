{
 "cells": [
  {
   "cell_type": "markdown",
   "metadata": {},
   "source": [
    "## Búsqueda de features ##\n"
   ]
  },
  {
   "cell_type": "code",
   "execution_count": 2,
   "metadata": {},
   "outputs": [
    {
     "name": "stderr",
     "output_type": "stream",
     "text": [
      "/anaconda3/lib/python3.6/site-packages/IPython/core/interactiveshell.py:2785: DtypeWarning: Columns (3,5,6,7,8,9,10,11,12,13,14,15,16,17,18,19,20,21,22) have mixed types. Specify dtype option on import or set low_memory=False.\n",
      "  interactivity=interactivity, compiler=compiler, result=result)\n"
     ]
    }
   ],
   "source": [
    "import pandas as pd\n",
    "import numpy as np\n",
    "from sklearn.cross_validation import train_test_split\n",
    "from sklearn.metrics import accuracy_score\n",
    "from sklearn.metrics import confusion_matrix\n",
    "from sklearn.metrics import accuracy_score, roc_auc_score\n",
    "from sklearn.metrics import mean_squared_error\n",
    "from sklearn.ensemble import RandomForestClassifier\n",
    "from sklearn.datasets import make_classification\n",
    "from sklearn.neighbors import KNeighborsClassifier\n",
    "from sklearn.neighbors import DistanceMetric\n",
    "\n",
    "from sklearn import preprocessing\n",
    "\n",
    "import xgboost as xgb\n",
    "from sklearn import preprocessing\n",
    "\n",
    "tf = pd.read_csv('../data/events_up_to_01062018.csv')\n",
    "labels = pd.read_csv('../data/labels_training_set.csv')"
   ]
  },
  {
   "cell_type": "markdown",
   "metadata": {},
   "source": [
    "**Divido las fechas**"
   ]
  },
  {
   "cell_type": "code",
   "execution_count": 3,
   "metadata": {},
   "outputs": [],
   "source": [
    "tf[\"timestamp\"] = pd.to_datetime(tf[\"timestamp\"])\n",
    "tf[\"month\"] = tf[\"timestamp\"].dt.month\n",
    "tf[\"day\"] = tf[\"timestamp\"].dt.day\n",
    "tf[\"hour\"] = tf[\"timestamp\"].dt.hour\n",
    "tf['dayOfTheWeek'] = tf['timestamp'].dt.dayofweek"
   ]
  },
  {
   "cell_type": "code",
   "execution_count": 4,
   "metadata": {},
   "outputs": [
    {
     "data": {
      "text/plain": [
       "person    19414\n",
       "label     19414\n",
       "dtype: int64"
      ]
     },
     "execution_count": 4,
     "metadata": {},
     "output_type": "execute_result"
    }
   ],
   "source": [
    "labels.count() #cantidad de labels que tengo"
   ]
  },
  {
   "cell_type": "markdown",
   "metadata": {},
   "source": [
    "**Divido por evento me quedo con las columnas obligatorias por evento**\n",
    "\n",
    "En en análisis exporatorio me había dado cuenta que no todos los eventos tienen la misma información, por lo tanto, intentaré combinar los eventos con el objetivo de encontrar **nuevos features**. \n",
    "\n",
    "Para comenzar divido en distintos DataFrames los distintos eventos, eliminando información que no es útil. "
   ]
  },
  {
   "cell_type": "code",
   "execution_count": 5,
   "metadata": {},
   "outputs": [
    {
     "name": "stderr",
     "output_type": "stream",
     "text": [
      "/anaconda3/lib/python3.6/site-packages/pandas/core/indexing.py:1472: FutureWarning: \n",
      "Passing list-likes to .loc or [] with any missing label will raise\n",
      "KeyError in the future, you can use .reindex() as an alternative.\n",
      "\n",
      "See the documentation here:\n",
      "https://pandas.pydata.org/pandas-docs/stable/indexing.html#deprecate-loc-reindex-listlike\n",
      "  return self._getitem_tuple(key)\n"
     ]
    }
   ],
   "source": [
    "viewedProduct  = tf[tf['event'] == 'viewed product'].loc[:,['dayOfTheWeek','hour','month','day','person','sku','model','condition','storage','color']]\n",
    "brandListing = tf[tf['event'] == 'brand listing'].loc[:,['dayOfTheWeek','hour','month','day','person','skus']]\n",
    "visitedSite = tf[tf['event'] == 'visited site'].loc[:,['dayOfTheWeek','hour','month','day','person','channel','new_vs_returning','city','region','country','device_type',\\\n",
    "                                                       'screen resolution','operating system version','browser version']]\n",
    "adCampaignHit = tf[tf['event'] == 'ad campaign hit'].loc[:,['dayOfTheWeek','hour','month','day','person','url','campaign_source']]\n",
    "genericListing = tf[tf['event'] == 'generic listing'].loc[:,['dayOfTheWeek','hour','month','day','person','skus']]\n",
    "searchedProduct = tf[tf['event'] == 'searched products'].loc[:,['dayOfTheWeek','hour','month','day','person','skus','search_term']]\n",
    "searchEngineHit = tf[tf['event'] == 'search engine hit'].loc[:,['dayOfTheWeek','hour','month','day','person','search engine']]\n",
    "checkout = tf[tf['event'] == 'checkout'].loc[:,['dayOfTheWeek','hour','month','day','person','sku','color','storage','model','condition']]\n",
    "staticPage = tf[tf['event'] == 'staticpage'].loc[:,['dayOfTheWeek','hour','month','day','person','static page']]\n",
    "conversion = tf[tf['event'] == 'conversion'].loc[:,['dayOfTheWeek','hour','month','day','person','sku','model','color','condition','storage']]\n",
    "lead = tf[tf['event'] == 'lead'].loc[:,['dayOfTheWeek','hour','month','day','person','model']]"
   ]
  },
  {
   "cell_type": "markdown",
   "metadata": {},
   "source": [
    "**Buscar atributos de otro evento que no sea conversion**\n"
   ]
  },
  {
   "cell_type": "markdown",
   "metadata": {},
   "source": [
    "La primera instancia que analizaré es si el usuario es nuevo o no, analizando del visited site el atributo 'new_vs_returning'"
   ]
  },
  {
   "cell_type": "markdown",
   "metadata": {},
   "source": [
    "### 1º El usuario realiza un compra habiendo visitado la página una vez ###"
   ]
  },
  {
   "cell_type": "markdown",
   "metadata": {},
   "source": [
    "Intentaré determinar ahora si el usuario que realizó una conversión sólo realizó una única visita al sitio. Para ello debo fijarme en visited site si existe algún valor que sea returning, en tal caso, deja de ser nuevo. "
   ]
  },
  {
   "cell_type": "code",
   "execution_count": 6,
   "metadata": {},
   "outputs": [],
   "source": [
    "newVsReturning = visitedSite.loc[:,['person','new_vs_returning']]\n",
    "newVsReturning = newVsReturning.groupby('person').new_vs_returning.value_counts().to_frame('cantidad')\n",
    "newVsReturning = newVsReturning.unstack().fillna(0)\n",
    "newVsReturning = newVsReturning.reset_index()\n",
    "newVsReturning.columns = ['person','new','returning']\n",
    "newVsReturning['esNuevo'] = newVsReturning['returning'] == 0"
   ]
  },
  {
   "cell_type": "markdown",
   "metadata": {},
   "source": [
    "Agrego este atributo a conversion con un merge"
   ]
  },
  {
   "cell_type": "code",
   "execution_count": 7,
   "metadata": {},
   "outputs": [],
   "source": [
    "labels_f = pd.merge(labels, newVsReturning.loc[:,['esNuevo','person']], how = 'left', on = 'person')"
   ]
  },
  {
   "cell_type": "code",
   "execution_count": 8,
   "metadata": {},
   "outputs": [
    {
     "data": {
      "text/plain": [
       "False    19126\n",
       "True       288\n",
       "Name: esNuevo, dtype: int64"
      ]
     },
     "execution_count": 8,
     "metadata": {},
     "output_type": "execute_result"
    }
   ],
   "source": [
    "labels_f['esNuevo'].isnull().value_counts()"
   ]
  },
  {
   "cell_type": "markdown",
   "metadata": {},
   "source": [
    "### 2º Cantidad de visitas del usuario a la página ###"
   ]
  },
  {
   "cell_type": "markdown",
   "metadata": {},
   "source": [
    "Es decir que tengo 288 labels en los que no se si es nuevo o si ya volvió"
   ]
  },
  {
   "cell_type": "markdown",
   "metadata": {},
   "source": [
    "Analizaré ahora la frecuencia de entradas al sitio de un determinado usuario. Para ello analizaré la relación entre new y returnings (le sumo 1 a la cantidad de returnings). "
   ]
  },
  {
   "cell_type": "code",
   "execution_count": 9,
   "metadata": {},
   "outputs": [],
   "source": [
    "newVsReturning['cantidadDeVisitas'] = (newVsReturning['new'] + newVsReturning['returning']).astype('float32')\n",
    "labels_f = pd.merge(labels_f, newVsReturning.loc[:,['cantidadDeVisitas','person']],how = 'left', on = 'person')"
   ]
  },
  {
   "cell_type": "code",
   "execution_count": 10,
   "metadata": {},
   "outputs": [
    {
     "data": {
      "text/plain": [
       "False    19126\n",
       "True       288\n",
       "Name: cantidadDeVisitas, dtype: int64"
      ]
     },
     "execution_count": 10,
     "metadata": {},
     "output_type": "execute_result"
    }
   ],
   "source": [
    "labels_f['cantidadDeVisitas'].isnull().value_counts()"
   ]
  },
  {
   "cell_type": "code",
   "execution_count": 11,
   "metadata": {},
   "outputs": [
    {
     "name": "stdout",
     "output_type": "stream",
     "text": [
      "<class 'pandas.core.frame.DataFrame'>\n",
      "Int64Index: 19414 entries, 0 to 19413\n",
      "Data columns (total 4 columns):\n",
      "person               19414 non-null object\n",
      "label                19414 non-null int64\n",
      "esNuevo              19126 non-null object\n",
      "cantidadDeVisitas    19126 non-null float32\n",
      "dtypes: float32(1), int64(1), object(2)\n",
      "memory usage: 682.5+ KB\n"
     ]
    }
   ],
   "source": [
    "labels_f['cantidadDeVisitas'] = labels_f['cantidadDeVisitas'].astype('float32')\n",
    "labels_f.info()"
   ]
  },
  {
   "cell_type": "markdown",
   "metadata": {},
   "source": [
    "Me vuelve a dar lo mismo que antes, los resultados son consistentes. "
   ]
  },
  {
   "cell_type": "markdown",
   "metadata": {},
   "source": [
    "**Por lo tanto, el atributo esNuevo y cantidadDeVisitas no pueden aplicarse a 288 labels de 19414**"
   ]
  },
  {
   "cell_type": "markdown",
   "metadata": {},
   "source": [
    "### 3º El usuario ingresó a la página por algún aviso publicitario alguna vez ###"
   ]
  },
  {
   "cell_type": "markdown",
   "metadata": {},
   "source": [
    "Analizaré si el usario ingresó a la página desde una publicidad (en algún momento) para ello usaré el evento ad_campaing_hit."
   ]
  },
  {
   "cell_type": "code",
   "execution_count": 12,
   "metadata": {},
   "outputs": [],
   "source": [
    "personasAdHit = adCampaignHit.loc[:,['person']]\n",
    "personasAdHit['ingresoPorPublicidad'] = True\n",
    "personasAdHit = personasAdHit.drop_duplicates()"
   ]
  },
  {
   "cell_type": "code",
   "execution_count": 13,
   "metadata": {},
   "outputs": [],
   "source": [
    "labels_f = pd.merge(labels_f, personasAdHit, on = 'person', how = 'left')\n",
    "labels_f = labels_f.fillna(False)"
   ]
  },
  {
   "cell_type": "code",
   "execution_count": 14,
   "metadata": {},
   "outputs": [
    {
     "data": {
      "text/plain": [
       "False    19414\n",
       "Name: ingresoPorPublicidad, dtype: int64"
      ]
     },
     "execution_count": 14,
     "metadata": {},
     "output_type": "execute_result"
    }
   ],
   "source": [
    "labels_f['ingresoPorPublicidad'].isnull().value_counts()"
   ]
  },
  {
   "cell_type": "markdown",
   "metadata": {},
   "source": [
    "Supongo que la información que no tengo en ad_campaing_hit de los usuarios, es porque no ingresaron por una campaña publicitaria alguna vez a la página y por lo tanto **este atributo puede usarse para lo 19414 labels**. "
   ]
  },
  {
   "cell_type": "markdown",
   "metadata": {},
   "source": [
    "### 4º Campaña publicitaria por la que ingresó el usuario ###"
   ]
  },
  {
   "cell_type": "markdown",
   "metadata": {},
   "source": [
    "Analizaré por qué campaña ingresaron los usuarios (en algún momento y luego realizaron una conversión), agregando esa información de ad_campaing_hit"
   ]
  },
  {
   "cell_type": "code",
   "execution_count": 15,
   "metadata": {},
   "outputs": [],
   "source": [
    "campaniaPersonasAdHit = adCampaignHit.loc[:,['person','campaign_source']]\n",
    "campaniaPersonasAdHit = campaniaPersonasAdHit.groupby('person').campaign_source.value_counts().to_frame('cantidad')\n",
    "campaniaPersonasAdHit = campaniaPersonasAdHit.unstack().fillna(0).reset_index()\n",
    "campaniaPersonasAdHit.head()\n",
    "campaniaPersonasAdHit.columns=['person','cant_facebook','cant_facebookAds', 'cant_facebookSocial', 'cant_marketing_social', 'cant_afiliado', 'cant_afilio', 'cant_bing', 'cant_blog','cant_buscape', 'cant_criteo', 'cant_datacrush', 'cant_emblue', 'cant_gizmodo', 'cant_google', 'cant_indexa', 'cant_manifest', 'cant_mercadopago', 'cant_onsite', 'cant_rakuten','cant_rtbhouse', 'cant_voxus', 'cant_yotpo', 'cant_zanox']"
   ]
  },
  {
   "cell_type": "markdown",
   "metadata": {},
   "source": [
    "**FALTA COMPLETAR ESTO, SON MUCHAS CAMPAÑAS**"
   ]
  },
  {
   "cell_type": "markdown",
   "metadata": {},
   "source": [
    "### 5º información sobre el dispositivo por el cual se conectaron ###"
   ]
  },
  {
   "cell_type": "markdown",
   "metadata": {},
   "source": [
    "El único evento que posee información sobre el dispositivo al cual se conecto es Visited Site. Se registra un Visited Site cada vez que el usuario ingresa a Trocafone (cualquiera sea el motivo). Repetiré el análisis hecho en el análisis exploratorio en el que mostrábamos que la mayoría de los usuarios se conectaban por un sólo dispositivo.\n"
   ]
  },
  {
   "cell_type": "code",
   "execution_count": 16,
   "metadata": {},
   "outputs": [
    {
     "name": "stdout",
     "output_type": "stream",
     "text": [
      "   porcentaje\n",
      "1    0.959547\n",
      "2    0.039721\n",
      "3    0.000732\n"
     ]
    }
   ],
   "source": [
    "def contar_columnas(x):#(col1,col2,col3,col4):\n",
    "    t=0\n",
    "    if x['tablet']>0:\n",
    "        t += 1\n",
    "    if x['smartphone']>0:\n",
    "        t += 1\n",
    "    if x['computer']>0:\n",
    "        t += 1\n",
    "    if x['unknown']>0:\n",
    "        t += 1\n",
    "    return t\n",
    "\n",
    "\n",
    "#print(visited_site.device_type.value_counts()) -> LOS UNKNOWN SON DESPRECIABLES. \n",
    "dispositivos= visitedSite.groupby('person')['device_type'].value_counts().to_frame('cantidad')\n",
    "dispositivos = dispositivos.unstack().fillna(0).reset_index()\n",
    "dispositivos.columns = ['person','computer','smartphone','tablet','unknown']\n",
    "dispositivos = dispositivos.set_index('person')\n",
    "dispositivos['porcentaje'] = dispositivos.apply(lambda p:contar_columnas(p), axis = 1)\n",
    "\n",
    "\n",
    "print(dispositivos['porcentaje'].value_counts(normalize = True).to_frame())\n",
    "\n",
    "#quito aquellos que se hayan conectado por más de un dispositivo\n",
    "dispositivos = dispositivos[dispositivos['porcentaje'] <= 1]\n",
    "visited_device = visitedSite.loc[:,['person','device_type']].drop_duplicates()\n",
    "dispositivos = dispositivos.reset_index()\n",
    "visited_device = pd.merge(dispositivos.loc[:,['person']],visited_device, on= 'person',how = 'left').drop_duplicates()\n"
   ]
  },
  {
   "cell_type": "markdown",
   "metadata": {},
   "source": [
    "Por lo tanto existe un 96 porciento de los usuarios que se conectaron de un único tipo de dispositivo, por lo tanto, despreciaremos el otro 4 porciento. \n"
   ]
  },
  {
   "cell_type": "code",
   "execution_count": 17,
   "metadata": {},
   "outputs": [],
   "source": [
    "labels_f = pd.merge(labels_f, visited_device, how = 'left', on = 'person')\n",
    "#le cambio el nombre a la columna device type para que no se confunda con lo que compraron"
   ]
  },
  {
   "cell_type": "code",
   "execution_count": 18,
   "metadata": {},
   "outputs": [
    {
     "data": {
      "text/plain": [
       "False    18370\n",
       "True      1044\n",
       "Name: device_type, dtype: int64"
      ]
     },
     "execution_count": 18,
     "metadata": {},
     "output_type": "execute_result"
    }
   ],
   "source": [
    "labels_f.device_type.isnull().value_counts()"
   ]
  },
  {
   "cell_type": "code",
   "execution_count": 19,
   "metadata": {},
   "outputs": [],
   "source": [
    "labels_f['deviceSmartphone'] = labels_f['device_type'] == 'smartphone'\n",
    "labels_f['deviceComputer'] = labels_f['device_type'] == 'computer'\n",
    "labels_f['deviceTablet'] = labels_f['device_type'] == 'tablet'\n",
    "labels_f['deviceUnknown'] = labels_f['device_type'] == 'unknown'"
   ]
  },
  {
   "cell_type": "markdown",
   "metadata": {},
   "source": [
    "Es decir que **de los 19414 labels el atributo device_type presenta información para 18370** entonces 1044 labels no aportan este tipo de información. "
   ]
  },
  {
   "cell_type": "markdown",
   "metadata": {},
   "source": [
    "### 6º Cantidad de veces que el usuario vio un producto ###"
   ]
  },
  {
   "cell_type": "markdown",
   "metadata": {},
   "source": [
    "Analizaré ahora la cantidad de veces que el usuario vio un producto "
   ]
  },
  {
   "cell_type": "code",
   "execution_count": 20,
   "metadata": {},
   "outputs": [],
   "source": [
    "cantidadDeVisitasAProductos = viewedProduct.loc[:,['person']]\n",
    "cantidadDeVisitasAProductos['cantVisitasAVP'] = 1\n",
    "cantidadDeVisitasAProductos = cantidadDeVisitasAProductos.groupby('person').cantVisitasAVP.sum().to_frame()\n"
   ]
  },
  {
   "cell_type": "code",
   "execution_count": 21,
   "metadata": {},
   "outputs": [],
   "source": [
    "labels_f = pd.merge(labels_f, cantidadDeVisitasAProductos, on= 'person', how = 'left')"
   ]
  },
  {
   "cell_type": "code",
   "execution_count": 22,
   "metadata": {},
   "outputs": [
    {
     "data": {
      "text/plain": [
       "False    18570\n",
       "True       844\n",
       "Name: cantVisitasAVP, dtype: int64"
      ]
     },
     "execution_count": 22,
     "metadata": {},
     "output_type": "execute_result"
    }
   ],
   "source": [
    "labels_f.cantVisitasAVP.isnull().value_counts()"
   ]
  },
  {
   "cell_type": "markdown",
   "metadata": {},
   "source": [
    "Supongo que como no tenemos información de 844 labels sobre la cantidad de visitas a productos estos nunca lo hicieron."
   ]
  },
  {
   "cell_type": "code",
   "execution_count": 23,
   "metadata": {},
   "outputs": [],
   "source": [
    "personasSinVisitas = labels_f.loc[:,['person','cantVisitasAVP']]\n",
    "personasSinVisitas = personasSinVisitas.fillna(0)"
   ]
  },
  {
   "cell_type": "code",
   "execution_count": 24,
   "metadata": {},
   "outputs": [],
   "source": [
    "labels_f = pd.merge(labels_f, personasSinVisitas, how = 'left', on = 'person')"
   ]
  },
  {
   "cell_type": "code",
   "execution_count": 25,
   "metadata": {},
   "outputs": [
    {
     "name": "stdout",
     "output_type": "stream",
     "text": [
      "<class 'pandas.core.frame.DataFrame'>\n",
      "Int64Index: 19414 entries, 0 to 19413\n",
      "Data columns (total 12 columns):\n",
      "person                  19414 non-null object\n",
      "label                   19414 non-null int64\n",
      "esNuevo                 19414 non-null bool\n",
      "cantidadDeVisitas       19414 non-null object\n",
      "ingresoPorPublicidad    19414 non-null bool\n",
      "device_type             18370 non-null object\n",
      "deviceSmartphone        19414 non-null bool\n",
      "deviceComputer          19414 non-null bool\n",
      "deviceTablet            19414 non-null bool\n",
      "deviceUnknown           19414 non-null bool\n",
      "cantVisitasAVP_x        18570 non-null float64\n",
      "cantVisitasAVP_y        19414 non-null float64\n",
      "dtypes: bool(6), float64(2), int64(1), object(3)\n",
      "memory usage: 1.1+ MB\n"
     ]
    }
   ],
   "source": [
    "labels_f.info()"
   ]
  },
  {
   "cell_type": "code",
   "execution_count": 26,
   "metadata": {},
   "outputs": [],
   "source": [
    "labels_f = labels_f.loc[:,['person','label','esNuevo','cantidadDeVisitas','ingresoPorPublicidad','deviceSmartphone','deviceComputer','deviceTablet','deviceUnknown','cantVisitasAVP_y']]\n",
    "labels_f.columns = ['person','label','esNuevo','cantidadDeVisitas','ingresoPorPublicidad','deviceSmartphone','deviceComputer','deviceTablet','deviceUnknown','cantVisitasAVP']"
   ]
  },
  {
   "cell_type": "markdown",
   "metadata": {},
   "source": [
    "### 7º Momento del día en el que realizan las visitas ###"
   ]
  },
  {
   "cell_type": "markdown",
   "metadata": {},
   "source": [
    "Usando visitedSite analizaré el momento del día en el que el usuario realizó las visitas. Lo agruparé en las siguientes clases:\n",
    "\n",
    "-Mañana: si el usuario realizó la visita entre las 7 y 12 hs. \n",
    "\n",
    "-Tarde: si el usuario realizó la visita entre las 12 y las 18 hs. \n",
    "\n",
    "-Noche: si el usuario realizó la visita entre las 18 y 24 hs. \n",
    "\n",
    "-Madrugada: si el usuario realizó la visita entre las 24 y 7 hs. "
   ]
  },
  {
   "cell_type": "code",
   "execution_count": 27,
   "metadata": {},
   "outputs": [],
   "source": [
    "momentoDeVisita = visitedSite.loc[:,['person','hour']]\n",
    "momentoDeVisita['maniana'] = ((momentoDeVisita['hour'] < 12 ) & (momentoDeVisita['hour'] >= 7)).astype('int32')\n",
    "momentoDeVisita['tarde'] = ((momentoDeVisita['hour'] < 18 ) & (momentoDeVisita['hour'] >= 12)).astype('int32')\n",
    "momentoDeVisita['noche'] = ((momentoDeVisita['hour'] < 24 ) & (momentoDeVisita['hour'] >= 18)).astype('int32')\n",
    "momentoDeVisita['madrugada'] = ((momentoDeVisita['hour'] < 7 ) & (momentoDeVisita['hour'] >= 24)).astype('int32')\n",
    "momentoDeVisita = momentoDeVisita.groupby('person').sum().reset_index()\n",
    "momentoDeVisita = momentoDeVisita.loc[:,['person','maniana','tarde','noche','madrugada']]"
   ]
  },
  {
   "cell_type": "code",
   "execution_count": 28,
   "metadata": {},
   "outputs": [],
   "source": [
    "labels_f = pd.merge(labels_f,momentoDeVisita, on = 'person', how = 'left') "
   ]
  },
  {
   "cell_type": "code",
   "execution_count": 29,
   "metadata": {},
   "outputs": [
    {
     "data": {
      "text/plain": [
       "False    19126\n",
       "True       288\n",
       "Name: maniana, dtype: int64"
      ]
     },
     "execution_count": 29,
     "metadata": {},
     "output_type": "execute_result"
    }
   ],
   "source": [
    "labels_f['maniana'].isnull().value_counts()"
   ]
  },
  {
   "cell_type": "markdown",
   "metadata": {},
   "source": [
    "Por lo tanto, **los atributos: maniana, tarde, noche y madrugada no fueron asignados para 288 labels**. Esto concuerda con el atributo device type obtenido anterior mentde del mismo evento: visited site."
   ]
  },
  {
   "cell_type": "markdown",
   "metadata": {},
   "source": [
    "### 8º Cantidad de visitas por canal que realiza el usuario###"
   ]
  },
  {
   "cell_type": "markdown",
   "metadata": {},
   "source": [
    "Analizaré el canal por el que el usuario realiza la visita"
   ]
  },
  {
   "cell_type": "code",
   "execution_count": 30,
   "metadata": {},
   "outputs": [],
   "source": [
    "canalDeVisita = visitedSite.loc[:,['person','channel']]\n",
    "canalDeVisita = canalDeVisita.groupby('person').channel.value_counts().to_frame('cantidad')\n",
    "canalDeVisita = canalDeVisita.unstack()\n",
    "canalDeVisita = canalDeVisita.reset_index()\n",
    "canalDeVisita.columns = ['person','cantDirect','cantEmail','cantOrganic','cantPaid','cantReferral',\\\n",
    "                           'cantSocial','cantUnknown']\n",
    "canalDeVisita = canalDeVisita.fillna(0)"
   ]
  },
  {
   "cell_type": "code",
   "execution_count": 31,
   "metadata": {},
   "outputs": [],
   "source": [
    "labels_f = pd.merge(labels_f,canalDeVisita,on = 'person', how = 'left')"
   ]
  },
  {
   "cell_type": "code",
   "execution_count": 32,
   "metadata": {},
   "outputs": [
    {
     "data": {
      "text/plain": [
       "False    19126\n",
       "True       288\n",
       "Name: cantDirect, dtype: int64"
      ]
     },
     "execution_count": 32,
     "metadata": {},
     "output_type": "execute_result"
    }
   ],
   "source": [
    "labels_f['cantDirect'].isnull().value_counts()"
   ]
  },
  {
   "cell_type": "code",
   "execution_count": 33,
   "metadata": {},
   "outputs": [
    {
     "data": {
      "text/plain": [
       "Index(['person', 'label', 'esNuevo', 'cantidadDeVisitas',\n",
       "       'ingresoPorPublicidad', 'deviceSmartphone', 'deviceComputer',\n",
       "       'deviceTablet', 'deviceUnknown', 'cantVisitasAVP', 'maniana', 'tarde',\n",
       "       'noche', 'madrugada', 'cantDirect', 'cantEmail', 'cantOrganic',\n",
       "       'cantPaid', 'cantReferral', 'cantSocial', 'cantUnknown'],\n",
       "      dtype='object')"
      ]
     },
     "execution_count": 33,
     "metadata": {},
     "output_type": "execute_result"
    }
   ],
   "source": [
    "labels_f.columns"
   ]
  },
  {
   "cell_type": "markdown",
   "metadata": {},
   "source": [
    "Por lo tanto, **los atributos: cantDirect, cantEmail, cantOrganic, cantPaid, cant referral, cantSocial, cantUnknown que refieren a la cantidad de accesos hecho por cada canal, no tiene fueron asignados para 288 labels**. Esto concuerda con todos los atributos obteneidos del mismo evento: vistedSite"
   ]
  },
  {
   "cell_type": "markdown",
   "metadata": {},
   "source": [
    "### 9º Cantidad de visitas por día de la semana ###"
   ]
  },
  {
   "cell_type": "markdown",
   "metadata": {},
   "source": [
    "Analizaré la cantidad de visitas que el usuario realiza por día de la semana. Usando el evento visited site. "
   ]
  },
  {
   "cell_type": "code",
   "execution_count": 34,
   "metadata": {},
   "outputs": [],
   "source": [
    "diaSemana = visitedSite.loc[:,['person','dayOfTheWeek']]\n",
    "diaSemana = diaSemana.groupby('person').dayOfTheWeek.value_counts().to_frame('cantidad').unstack()"
   ]
  },
  {
   "cell_type": "code",
   "execution_count": 35,
   "metadata": {},
   "outputs": [
    {
     "data": {
      "text/html": [
       "<div>\n",
       "<style scoped>\n",
       "    .dataframe tbody tr th:only-of-type {\n",
       "        vertical-align: middle;\n",
       "    }\n",
       "\n",
       "    .dataframe tbody tr th {\n",
       "        vertical-align: top;\n",
       "    }\n",
       "\n",
       "    .dataframe thead tr th {\n",
       "        text-align: left;\n",
       "    }\n",
       "\n",
       "    .dataframe thead tr:last-of-type th {\n",
       "        text-align: right;\n",
       "    }\n",
       "</style>\n",
       "<table border=\"1\" class=\"dataframe\">\n",
       "  <thead>\n",
       "    <tr>\n",
       "      <th></th>\n",
       "      <th colspan=\"7\" halign=\"left\">cantidad</th>\n",
       "    </tr>\n",
       "    <tr>\n",
       "      <th>dayOfTheWeek</th>\n",
       "      <th>0</th>\n",
       "      <th>1</th>\n",
       "      <th>2</th>\n",
       "      <th>3</th>\n",
       "      <th>4</th>\n",
       "      <th>5</th>\n",
       "      <th>6</th>\n",
       "    </tr>\n",
       "    <tr>\n",
       "      <th>person</th>\n",
       "      <th></th>\n",
       "      <th></th>\n",
       "      <th></th>\n",
       "      <th></th>\n",
       "      <th></th>\n",
       "      <th></th>\n",
       "      <th></th>\n",
       "    </tr>\n",
       "  </thead>\n",
       "  <tbody>\n",
       "    <tr>\n",
       "      <th>0008ed71</th>\n",
       "      <td>NaN</td>\n",
       "      <td>NaN</td>\n",
       "      <td>NaN</td>\n",
       "      <td>2.0</td>\n",
       "      <td>NaN</td>\n",
       "      <td>NaN</td>\n",
       "      <td>NaN</td>\n",
       "    </tr>\n",
       "    <tr>\n",
       "      <th>00091926</th>\n",
       "      <td>2.0</td>\n",
       "      <td>4.0</td>\n",
       "      <td>3.0</td>\n",
       "      <td>6.0</td>\n",
       "      <td>3.0</td>\n",
       "      <td>5.0</td>\n",
       "      <td>11.0</td>\n",
       "    </tr>\n",
       "    <tr>\n",
       "      <th>00091a7a</th>\n",
       "      <td>1.0</td>\n",
       "      <td>NaN</td>\n",
       "      <td>NaN</td>\n",
       "      <td>NaN</td>\n",
       "      <td>NaN</td>\n",
       "      <td>NaN</td>\n",
       "      <td>NaN</td>\n",
       "    </tr>\n",
       "    <tr>\n",
       "      <th>000ba417</th>\n",
       "      <td>NaN</td>\n",
       "      <td>NaN</td>\n",
       "      <td>NaN</td>\n",
       "      <td>4.0</td>\n",
       "      <td>NaN</td>\n",
       "      <td>2.0</td>\n",
       "      <td>NaN</td>\n",
       "    </tr>\n",
       "    <tr>\n",
       "      <th>000c79fe</th>\n",
       "      <td>NaN</td>\n",
       "      <td>1.0</td>\n",
       "      <td>NaN</td>\n",
       "      <td>NaN</td>\n",
       "      <td>NaN</td>\n",
       "      <td>NaN</td>\n",
       "      <td>NaN</td>\n",
       "    </tr>\n",
       "  </tbody>\n",
       "</table>\n",
       "</div>"
      ],
      "text/plain": [
       "             cantidad                               \n",
       "dayOfTheWeek        0    1    2    3    4    5     6\n",
       "person                                              \n",
       "0008ed71          NaN  NaN  NaN  2.0  NaN  NaN   NaN\n",
       "00091926          2.0  4.0  3.0  6.0  3.0  5.0  11.0\n",
       "00091a7a          1.0  NaN  NaN  NaN  NaN  NaN   NaN\n",
       "000ba417          NaN  NaN  NaN  4.0  NaN  2.0   NaN\n",
       "000c79fe          NaN  1.0  NaN  NaN  NaN  NaN   NaN"
      ]
     },
     "execution_count": 35,
     "metadata": {},
     "output_type": "execute_result"
    }
   ],
   "source": [
    "diaSemana.head()"
   ]
  },
  {
   "cell_type": "markdown",
   "metadata": {},
   "source": [
    "Supongo que los usuarios que no tiene información ese día de la semana es pq no visitaron la página en ese día de la semana. "
   ]
  },
  {
   "cell_type": "code",
   "execution_count": 36,
   "metadata": {},
   "outputs": [],
   "source": [
    "diaSemana = diaSemana.fillna(0)"
   ]
  },
  {
   "cell_type": "code",
   "execution_count": 37,
   "metadata": {},
   "outputs": [],
   "source": [
    "diaSemana = diaSemana.reset_index()"
   ]
  },
  {
   "cell_type": "code",
   "execution_count": 38,
   "metadata": {},
   "outputs": [],
   "source": [
    "diaSemana.columns = ['person','cantVisitasDomingo','cantVisitasLunes',\\\n",
    "                    'cantVisitasMartes', 'cantVisitasMiercoles', \\\n",
    "                    'cantVisitasJueves', 'cantVisitasViernes', \\\n",
    "                    'cantVisitasSabado']"
   ]
  },
  {
   "cell_type": "code",
   "execution_count": 39,
   "metadata": {},
   "outputs": [],
   "source": [
    "labels_f = pd.merge(labels_f,diaSemana, how = 'left', on = 'person')"
   ]
  },
  {
   "cell_type": "code",
   "execution_count": 40,
   "metadata": {},
   "outputs": [
    {
     "data": {
      "text/plain": [
       "False    19126\n",
       "True       288\n",
       "Name: cantVisitasMartes, dtype: int64"
      ]
     },
     "execution_count": 40,
     "metadata": {},
     "output_type": "execute_result"
    }
   ],
   "source": [
    "labels_f['cantVisitasMartes'].isnull().value_counts() "
   ]
  },
  {
   "cell_type": "markdown",
   "metadata": {},
   "source": [
    "El 288 concuerda con los faltantes en visited site. "
   ]
  },
  {
   "cell_type": "markdown",
   "metadata": {},
   "source": [
    "### 10º cantidad de eventos que tiene registrado cada usuario ###"
   ]
  },
  {
   "cell_type": "code",
   "execution_count": 41,
   "metadata": {},
   "outputs": [],
   "source": [
    "cantidadDeEventos = tf.loc[:,['event','person']]\n",
    "cantidadDeEventos = cantidadDeEventos.loc[cantidadDeEventos['event'] != 'conversion']\n",
    "#no tiene sentido este\n",
    "cantidadDeEventos = cantidadDeEventos.groupby('person').event.count().to_frame()\n",
    "cantidadDeEventos = cantidadDeEventos.reset_index()\n",
    "cantidadDeEventos.columns = ['person','cantidadDeEventos']"
   ]
  },
  {
   "cell_type": "code",
   "execution_count": 42,
   "metadata": {},
   "outputs": [],
   "source": [
    "labels_f = pd.merge(labels_f, cantidadDeEventos, on = 'person', how = 'inner' )\n"
   ]
  },
  {
   "cell_type": "markdown",
   "metadata": {},
   "source": [
    "### 11º Cantidad de eventos, discretizado por tipo de evento, que tiene cada usuario ###"
   ]
  },
  {
   "cell_type": "code",
   "execution_count": 43,
   "metadata": {},
   "outputs": [],
   "source": [
    "cantidadDeEventos = tf.loc[:,['event','person']]\n",
    "cantidadDeEventos = cantidadDeEventos.loc[cantidadDeEventos['event'] != 'conversion']\n",
    "#no tiene sentido este\n",
    "cantidadDeEventos = cantidadDeEventos.groupby('person').event.value_counts().to_frame().unstack()\n",
    "cantidadDeEventos = cantidadDeEventos.reset_index()\n",
    "cantidadDeEventos.columns = ['person','cantAdCampaignHit', 'cantBandListing',\\\n",
    "                             'cantCheckout','cantGenericListing','cantLead',\\\n",
    "                            'cantSearchEngineHit', 'cantSearchedProducts',\\\n",
    "                             'cantStaticpage', 'cantViewedProduct', 'cantVisitedSite']"
   ]
  },
  {
   "cell_type": "code",
   "execution_count": 44,
   "metadata": {},
   "outputs": [
    {
     "data": {
      "text/html": [
       "<div>\n",
       "<style scoped>\n",
       "    .dataframe tbody tr th:only-of-type {\n",
       "        vertical-align: middle;\n",
       "    }\n",
       "\n",
       "    .dataframe tbody tr th {\n",
       "        vertical-align: top;\n",
       "    }\n",
       "\n",
       "    .dataframe thead th {\n",
       "        text-align: right;\n",
       "    }\n",
       "</style>\n",
       "<table border=\"1\" class=\"dataframe\">\n",
       "  <thead>\n",
       "    <tr style=\"text-align: right;\">\n",
       "      <th></th>\n",
       "      <th>person</th>\n",
       "      <th>cantAdCampaignHit</th>\n",
       "      <th>cantBandListing</th>\n",
       "      <th>cantCheckout</th>\n",
       "      <th>cantGenericListing</th>\n",
       "      <th>cantLead</th>\n",
       "      <th>cantSearchEngineHit</th>\n",
       "      <th>cantSearchedProducts</th>\n",
       "      <th>cantStaticpage</th>\n",
       "      <th>cantViewedProduct</th>\n",
       "      <th>cantVisitedSite</th>\n",
       "    </tr>\n",
       "  </thead>\n",
       "  <tbody>\n",
       "    <tr>\n",
       "      <th>0</th>\n",
       "      <td>0008ed71</td>\n",
       "      <td>NaN</td>\n",
       "      <td>NaN</td>\n",
       "      <td>3.0</td>\n",
       "      <td>1.0</td>\n",
       "      <td>NaN</td>\n",
       "      <td>NaN</td>\n",
       "      <td>NaN</td>\n",
       "      <td>NaN</td>\n",
       "      <td>NaN</td>\n",
       "      <td>2.0</td>\n",
       "    </tr>\n",
       "    <tr>\n",
       "      <th>1</th>\n",
       "      <td>00091926</td>\n",
       "      <td>15.0</td>\n",
       "      <td>25.0</td>\n",
       "      <td>2.0</td>\n",
       "      <td>NaN</td>\n",
       "      <td>NaN</td>\n",
       "      <td>NaN</td>\n",
       "      <td>NaN</td>\n",
       "      <td>NaN</td>\n",
       "      <td>372.0</td>\n",
       "      <td>34.0</td>\n",
       "    </tr>\n",
       "    <tr>\n",
       "      <th>2</th>\n",
       "      <td>00091a7a</td>\n",
       "      <td>1.0</td>\n",
       "      <td>5.0</td>\n",
       "      <td>NaN</td>\n",
       "      <td>NaN</td>\n",
       "      <td>NaN</td>\n",
       "      <td>NaN</td>\n",
       "      <td>NaN</td>\n",
       "      <td>NaN</td>\n",
       "      <td>3.0</td>\n",
       "      <td>1.0</td>\n",
       "    </tr>\n",
       "    <tr>\n",
       "      <th>3</th>\n",
       "      <td>000ba417</td>\n",
       "      <td>1.0</td>\n",
       "      <td>24.0</td>\n",
       "      <td>6.0</td>\n",
       "      <td>14.0</td>\n",
       "      <td>NaN</td>\n",
       "      <td>1.0</td>\n",
       "      <td>NaN</td>\n",
       "      <td>NaN</td>\n",
       "      <td>153.0</td>\n",
       "      <td>6.0</td>\n",
       "    </tr>\n",
       "    <tr>\n",
       "      <th>4</th>\n",
       "      <td>000c79fe</td>\n",
       "      <td>1.0</td>\n",
       "      <td>NaN</td>\n",
       "      <td>1.0</td>\n",
       "      <td>1.0</td>\n",
       "      <td>NaN</td>\n",
       "      <td>1.0</td>\n",
       "      <td>9.0</td>\n",
       "      <td>NaN</td>\n",
       "      <td>3.0</td>\n",
       "      <td>1.0</td>\n",
       "    </tr>\n",
       "  </tbody>\n",
       "</table>\n",
       "</div>"
      ],
      "text/plain": [
       "     person  cantAdCampaignHit  cantBandListing  cantCheckout  \\\n",
       "0  0008ed71                NaN              NaN           3.0   \n",
       "1  00091926               15.0             25.0           2.0   \n",
       "2  00091a7a                1.0              5.0           NaN   \n",
       "3  000ba417                1.0             24.0           6.0   \n",
       "4  000c79fe                1.0              NaN           1.0   \n",
       "\n",
       "   cantGenericListing  cantLead  cantSearchEngineHit  cantSearchedProducts  \\\n",
       "0                 1.0       NaN                  NaN                   NaN   \n",
       "1                 NaN       NaN                  NaN                   NaN   \n",
       "2                 NaN       NaN                  NaN                   NaN   \n",
       "3                14.0       NaN                  1.0                   NaN   \n",
       "4                 1.0       NaN                  1.0                   9.0   \n",
       "\n",
       "   cantStaticpage  cantViewedProduct  cantVisitedSite  \n",
       "0             NaN                NaN              2.0  \n",
       "1             NaN              372.0             34.0  \n",
       "2             NaN                3.0              1.0  \n",
       "3             NaN              153.0              6.0  \n",
       "4             NaN                3.0              1.0  "
      ]
     },
     "execution_count": 44,
     "metadata": {},
     "output_type": "execute_result"
    }
   ],
   "source": [
    "cantidadDeEventos.head()"
   ]
  },
  {
   "cell_type": "markdown",
   "metadata": {},
   "source": [
    "Supongo que las personas que tiene NaN en un determinado evento es porque nunca lo realizaron, por lo tanto, lo completo con 0. "
   ]
  },
  {
   "cell_type": "code",
   "execution_count": 45,
   "metadata": {},
   "outputs": [],
   "source": [
    "cantidadDeEventos = cantidadDeEventos.fillna(0)"
   ]
  },
  {
   "cell_type": "code",
   "execution_count": 46,
   "metadata": {},
   "outputs": [],
   "source": [
    "labels_f = pd.merge(labels_f,cantidadDeEventos,on = 'person', how = 'left')"
   ]
  },
  {
   "cell_type": "code",
   "execution_count": 47,
   "metadata": {},
   "outputs": [
    {
     "data": {
      "text/html": [
       "<div>\n",
       "<style scoped>\n",
       "    .dataframe tbody tr th:only-of-type {\n",
       "        vertical-align: middle;\n",
       "    }\n",
       "\n",
       "    .dataframe tbody tr th {\n",
       "        vertical-align: top;\n",
       "    }\n",
       "\n",
       "    .dataframe thead th {\n",
       "        text-align: right;\n",
       "    }\n",
       "</style>\n",
       "<table border=\"1\" class=\"dataframe\">\n",
       "  <thead>\n",
       "    <tr style=\"text-align: right;\">\n",
       "      <th></th>\n",
       "      <th>person</th>\n",
       "      <th>label</th>\n",
       "      <th>esNuevo</th>\n",
       "      <th>cantidadDeVisitas</th>\n",
       "      <th>ingresoPorPublicidad</th>\n",
       "      <th>deviceSmartphone</th>\n",
       "      <th>deviceComputer</th>\n",
       "      <th>deviceTablet</th>\n",
       "      <th>deviceUnknown</th>\n",
       "      <th>cantVisitasAVP</th>\n",
       "      <th>...</th>\n",
       "      <th>cantAdCampaignHit</th>\n",
       "      <th>cantBandListing</th>\n",
       "      <th>cantCheckout</th>\n",
       "      <th>cantGenericListing</th>\n",
       "      <th>cantLead</th>\n",
       "      <th>cantSearchEngineHit</th>\n",
       "      <th>cantSearchedProducts</th>\n",
       "      <th>cantStaticpage</th>\n",
       "      <th>cantViewedProduct</th>\n",
       "      <th>cantVisitedSite</th>\n",
       "    </tr>\n",
       "  </thead>\n",
       "  <tbody>\n",
       "    <tr>\n",
       "      <th>0</th>\n",
       "      <td>0566e9c1</td>\n",
       "      <td>0</td>\n",
       "      <td>False</td>\n",
       "      <td>17</td>\n",
       "      <td>True</td>\n",
       "      <td>False</td>\n",
       "      <td>False</td>\n",
       "      <td>False</td>\n",
       "      <td>False</td>\n",
       "      <td>23.0</td>\n",
       "      <td>...</td>\n",
       "      <td>6.0</td>\n",
       "      <td>3.0</td>\n",
       "      <td>1.0</td>\n",
       "      <td>15.0</td>\n",
       "      <td>0.0</td>\n",
       "      <td>1.0</td>\n",
       "      <td>0.0</td>\n",
       "      <td>1.0</td>\n",
       "      <td>23.0</td>\n",
       "      <td>17.0</td>\n",
       "    </tr>\n",
       "    <tr>\n",
       "      <th>1</th>\n",
       "      <td>6ec7ee77</td>\n",
       "      <td>0</td>\n",
       "      <td>True</td>\n",
       "      <td>1</td>\n",
       "      <td>True</td>\n",
       "      <td>False</td>\n",
       "      <td>False</td>\n",
       "      <td>False</td>\n",
       "      <td>False</td>\n",
       "      <td>0.0</td>\n",
       "      <td>...</td>\n",
       "      <td>1.0</td>\n",
       "      <td>0.0</td>\n",
       "      <td>0.0</td>\n",
       "      <td>0.0</td>\n",
       "      <td>0.0</td>\n",
       "      <td>0.0</td>\n",
       "      <td>0.0</td>\n",
       "      <td>0.0</td>\n",
       "      <td>0.0</td>\n",
       "      <td>1.0</td>\n",
       "    </tr>\n",
       "    <tr>\n",
       "      <th>2</th>\n",
       "      <td>abe7a2fb</td>\n",
       "      <td>0</td>\n",
       "      <td>False</td>\n",
       "      <td>22</td>\n",
       "      <td>True</td>\n",
       "      <td>False</td>\n",
       "      <td>False</td>\n",
       "      <td>False</td>\n",
       "      <td>False</td>\n",
       "      <td>31.0</td>\n",
       "      <td>...</td>\n",
       "      <td>9.0</td>\n",
       "      <td>14.0</td>\n",
       "      <td>1.0</td>\n",
       "      <td>9.0</td>\n",
       "      <td>0.0</td>\n",
       "      <td>4.0</td>\n",
       "      <td>6.0</td>\n",
       "      <td>0.0</td>\n",
       "      <td>31.0</td>\n",
       "      <td>22.0</td>\n",
       "    </tr>\n",
       "    <tr>\n",
       "      <th>3</th>\n",
       "      <td>34728364</td>\n",
       "      <td>0</td>\n",
       "      <td>False</td>\n",
       "      <td>4</td>\n",
       "      <td>False</td>\n",
       "      <td>False</td>\n",
       "      <td>False</td>\n",
       "      <td>False</td>\n",
       "      <td>False</td>\n",
       "      <td>24.0</td>\n",
       "      <td>...</td>\n",
       "      <td>0.0</td>\n",
       "      <td>5.0</td>\n",
       "      <td>0.0</td>\n",
       "      <td>3.0</td>\n",
       "      <td>0.0</td>\n",
       "      <td>1.0</td>\n",
       "      <td>0.0</td>\n",
       "      <td>0.0</td>\n",
       "      <td>24.0</td>\n",
       "      <td>4.0</td>\n",
       "    </tr>\n",
       "    <tr>\n",
       "      <th>4</th>\n",
       "      <td>87ed62de</td>\n",
       "      <td>0</td>\n",
       "      <td>True</td>\n",
       "      <td>1</td>\n",
       "      <td>True</td>\n",
       "      <td>False</td>\n",
       "      <td>False</td>\n",
       "      <td>False</td>\n",
       "      <td>False</td>\n",
       "      <td>9.0</td>\n",
       "      <td>...</td>\n",
       "      <td>5.0</td>\n",
       "      <td>0.0</td>\n",
       "      <td>2.0</td>\n",
       "      <td>0.0</td>\n",
       "      <td>0.0</td>\n",
       "      <td>0.0</td>\n",
       "      <td>0.0</td>\n",
       "      <td>0.0</td>\n",
       "      <td>9.0</td>\n",
       "      <td>1.0</td>\n",
       "    </tr>\n",
       "  </tbody>\n",
       "</table>\n",
       "<p>5 rows × 39 columns</p>\n",
       "</div>"
      ],
      "text/plain": [
       "     person  label  esNuevo cantidadDeVisitas  ingresoPorPublicidad  \\\n",
       "0  0566e9c1      0    False                17                  True   \n",
       "1  6ec7ee77      0     True                 1                  True   \n",
       "2  abe7a2fb      0    False                22                  True   \n",
       "3  34728364      0    False                 4                 False   \n",
       "4  87ed62de      0     True                 1                  True   \n",
       "\n",
       "   deviceSmartphone  deviceComputer  deviceTablet  deviceUnknown  \\\n",
       "0             False           False         False          False   \n",
       "1             False           False         False          False   \n",
       "2             False           False         False          False   \n",
       "3             False           False         False          False   \n",
       "4             False           False         False          False   \n",
       "\n",
       "   cantVisitasAVP       ...         cantAdCampaignHit  cantBandListing  \\\n",
       "0            23.0       ...                       6.0              3.0   \n",
       "1             0.0       ...                       1.0              0.0   \n",
       "2            31.0       ...                       9.0             14.0   \n",
       "3            24.0       ...                       0.0              5.0   \n",
       "4             9.0       ...                       5.0              0.0   \n",
       "\n",
       "   cantCheckout  cantGenericListing  cantLead  cantSearchEngineHit  \\\n",
       "0           1.0                15.0       0.0                  1.0   \n",
       "1           0.0                 0.0       0.0                  0.0   \n",
       "2           1.0                 9.0       0.0                  4.0   \n",
       "3           0.0                 3.0       0.0                  1.0   \n",
       "4           2.0                 0.0       0.0                  0.0   \n",
       "\n",
       "   cantSearchedProducts  cantStaticpage  cantViewedProduct  cantVisitedSite  \n",
       "0                   0.0             1.0               23.0             17.0  \n",
       "1                   0.0             0.0                0.0              1.0  \n",
       "2                   6.0             0.0               31.0             22.0  \n",
       "3                   0.0             0.0               24.0              4.0  \n",
       "4                   0.0             0.0                9.0              1.0  \n",
       "\n",
       "[5 rows x 39 columns]"
      ]
     },
     "execution_count": 47,
     "metadata": {},
     "output_type": "execute_result"
    }
   ],
   "source": [
    "labels_f.head()"
   ]
  },
  {
   "cell_type": "markdown",
   "metadata": {},
   "source": [
    "### Agrego features según lo anterior pero en vez de la cantidad indico si lo hizo o no ###"
   ]
  },
  {
   "cell_type": "markdown",
   "metadata": {},
   "source": [
    "### 12º El usuario vio un producto ### "
   ]
  },
  {
   "cell_type": "code",
   "execution_count": 48,
   "metadata": {},
   "outputs": [],
   "source": [
    "visitoUnProducto = viewedProduct.loc[:,['person']]\n",
    "visitoUnProducto['cantVisitasAVP'] = 1\n",
    "visitoUnProducto = visitoUnProducto.groupby('person').cantVisitasAVP.sum().to_frame()"
   ]
  },
  {
   "cell_type": "code",
   "execution_count": 49,
   "metadata": {},
   "outputs": [],
   "source": [
    "visitoUnProducto['visitoUnProducto'] = visitoUnProducto.cantVisitasAVP > 0\n",
    "visitoUnProducto = visitoUnProducto.reset_index()\n",
    "visitoUnProducto = visitoUnProducto.loc[:,['person','visitoUnProducto']]"
   ]
  },
  {
   "cell_type": "code",
   "execution_count": 50,
   "metadata": {},
   "outputs": [],
   "source": [
    "labels_f = pd.merge(labels_f,visitoUnProducto, on = 'person', how = 'left')"
   ]
  },
  {
   "cell_type": "code",
   "execution_count": 51,
   "metadata": {},
   "outputs": [
    {
     "data": {
      "text/plain": [
       "True    18570\n",
       "Name: visitoUnProducto, dtype: int64"
      ]
     },
     "execution_count": 51,
     "metadata": {},
     "output_type": "execute_result"
    }
   ],
   "source": [
    "labels_f.visitoUnProducto.value_counts()"
   ]
  },
  {
   "cell_type": "markdown",
   "metadata": {},
   "source": [
    "**Como todos los usuarios visitaron un producto este feature no sirve.**"
   ]
  },
  {
   "cell_type": "markdown",
   "metadata": {},
   "source": [
    "### 13º El usuario visita la página en un momento determinado del día ###"
   ]
  },
  {
   "cell_type": "code",
   "execution_count": 52,
   "metadata": {},
   "outputs": [
    {
     "name": "stderr",
     "output_type": "stream",
     "text": [
      "/anaconda3/lib/python3.6/site-packages/pandas/core/indexing.py:1472: FutureWarning: \n",
      "Passing list-likes to .loc or [] with any missing label will raise\n",
      "KeyError in the future, you can use .reindex() as an alternative.\n",
      "\n",
      "See the documentation here:\n",
      "https://pandas.pydata.org/pandas-docs/stable/indexing.html#deprecate-loc-reindex-listlike\n",
      "  return self._getitem_tuple(key)\n"
     ]
    }
   ],
   "source": [
    "momentoDeVisita_2 = momentoDeVisita\n",
    "momentoDeVisita_2['visitaALaManiana'] = momentoDeVisita['maniana']>0\n",
    "momentoDeVisita_2['visitaALaTarde'] = momentoDeVisita['tarde']>0\n",
    "momentoDeVisita_2['visitaALaNoche'] = momentoDeVisita['noche']>0\n",
    "momentoDeVisita_2['visitaALaMadrugada'] = momentoDeVisita['madrugada']>0\n",
    "momentoDeVisita_2 = momentoDeVisita_2.loc[:,['person','visitaALaMañana','visitaALaNoche',\\\n",
    "                                         'visitaALaTarde', 'visitaALaMadrugada']]"
   ]
  },
  {
   "cell_type": "markdown",
   "metadata": {},
   "source": [
    "Supongo que aquellos usuarios que no tienen información es porque no visitaron en ese momento. "
   ]
  },
  {
   "cell_type": "code",
   "execution_count": 53,
   "metadata": {},
   "outputs": [],
   "source": [
    "momentoDeVisita_2 = momentoDeVisita_2.fillna(False)"
   ]
  },
  {
   "cell_type": "code",
   "execution_count": 54,
   "metadata": {},
   "outputs": [],
   "source": [
    "labels_f = pd.merge(labels_f, momentoDeVisita_2, on = 'person', how = 'inner')"
   ]
  },
  {
   "cell_type": "markdown",
   "metadata": {},
   "source": [
    "### 14º el usuario visitó la página por determinado canal ###"
   ]
  },
  {
   "cell_type": "code",
   "execution_count": 55,
   "metadata": {},
   "outputs": [],
   "source": [
    "canalDeVisita_2 = canalDeVisita\n",
    "canalDeVisita_2['canalDirect'] = canalDeVisita['cantDirect'] >0 \n",
    "canalDeVisita_2['canalEmail'] = canalDeVisita['cantEmail'] >0 \n",
    "canalDeVisita_2['canalOrganic'] = canalDeVisita['cantOrganic'] >0 \n",
    "canalDeVisita_2['canalPaid'] = canalDeVisita['cantPaid'] >0 \n",
    "canalDeVisita_2['canalRefferal'] = canalDeVisita['cantReferral'] >0 \n",
    "canalDeVisita_2['canalSocial'] = canalDeVisita['cantUnknown'] > 0\n",
    "\n",
    "canalDeVisita_2 = canalDeVisita_2.loc[:,['person','canalDirect', 'canalEmail','canalOrganic',\\\n",
    "                                    'canalPaid','canalRefferal', 'canalSocial']]"
   ]
  },
  {
   "cell_type": "code",
   "execution_count": 56,
   "metadata": {},
   "outputs": [],
   "source": [
    "labels_f = pd.merge(labels_f, canalDeVisita_2, on = 'person', how = 'left')"
   ]
  },
  {
   "cell_type": "markdown",
   "metadata": {},
   "source": [
    "### 15º el usuario realizó determinado evento### "
   ]
  },
  {
   "cell_type": "code",
   "execution_count": 57,
   "metadata": {},
   "outputs": [],
   "source": [
    "cantidadDeEventos_2 = cantidadDeEventos\n",
    "cantidadDeEventos_2['adCampaignHit'] = cantidadDeEventos['cantAdCampaignHit']>0\n",
    "cantidadDeEventos_2['bandListing'] = cantidadDeEventos['cantBandListing']>0\n",
    "cantidadDeEventos_2['checkout'] = cantidadDeEventos['cantCheckout']>0\n",
    "cantidadDeEventos_2['genericListing'] = cantidadDeEventos['cantGenericListing']>0\n",
    "cantidadDeEventos_2['searchEngineHit'] = cantidadDeEventos['cantSearchEngineHit']>0\n",
    "cantidadDeEventos_2['searchedProducts'] = cantidadDeEventos['cantSearchedProducts']>0\n",
    "cantidadDeEventos_2['staticpage'] = cantidadDeEventos['cantStaticpage']>0\n",
    "cantidadDeEventos_2['viewedProduct'] = cantidadDeEventos['cantViewedProduct']>0\n",
    "cantidadDeEventos_2['visitedSite'] = cantidadDeEventos['cantVisitedSite']>0\n"
   ]
  },
  {
   "cell_type": "code",
   "execution_count": 58,
   "metadata": {},
   "outputs": [],
   "source": [
    "cantidadDeEventos_2 = cantidadDeEventos_2.loc[:,['person','adCampaignHit','bandListing','checkout','genericListing','searchEngineHit','searchedProducts','staticpage','viewedProduct','visitedSite']]"
   ]
  },
  {
   "cell_type": "code",
   "execution_count": 59,
   "metadata": {},
   "outputs": [],
   "source": [
    "labels_f = pd.merge(labels_f,cantidadDeEventos_2, on = 'person', how = 'left')"
   ]
  },
  {
   "cell_type": "markdown",
   "metadata": {},
   "source": [
    "### ANÁLISIS DE LOS ELEMENTOS NULL (FALTA HACER POR AHORA DROPPEO) ###"
   ]
  },
  {
   "cell_type": "code",
   "execution_count": 60,
   "metadata": {},
   "outputs": [],
   "source": [
    "labels_f = labels_f.dropna()"
   ]
  },
  {
   "cell_type": "code",
   "execution_count": null,
   "metadata": {},
   "outputs": [],
   "source": []
  },
  {
   "cell_type": "markdown",
   "metadata": {},
   "source": [
    "# Análisis de la importancia de los features #\n",
    "Lo que haré ahora es utilizar distintos features y ver cuales de ellos me aportan más o menos información."
   ]
  },
  {
   "cell_type": "markdown",
   "metadata": {},
   "source": [
    "## 1º Caso: todos los features ##"
   ]
  },
  {
   "cell_type": "markdown",
   "metadata": {},
   "source": [
    "### Random Forest ###"
   ]
  },
  {
   "cell_type": "code",
   "execution_count": 61,
   "metadata": {},
   "outputs": [],
   "source": [
    "labels_f['cantidadDeVisitas'] = labels_f['cantidadDeVisitas'].astype('float64')"
   ]
  },
  {
   "cell_type": "code",
   "execution_count": 160,
   "metadata": {},
   "outputs": [
    {
     "name": "stdout",
     "output_type": "stream",
     "text": [
      "<class 'pandas.core.frame.DataFrame'>\n",
      "Int64Index: 18468 entries, 0 to 19125\n",
      "Data columns (total 59 columns):\n",
      "person                  18468 non-null object\n",
      "label                   18468 non-null int64\n",
      "esNuevo                 18468 non-null bool\n",
      "cantidadDeVisitas       18468 non-null float64\n",
      "ingresoPorPublicidad    18468 non-null bool\n",
      "deviceSmartphone        18468 non-null bool\n",
      "deviceComputer          18468 non-null bool\n",
      "deviceTablet            18468 non-null bool\n",
      "deviceUnknown           18468 non-null bool\n",
      "cantVisitasAVP          18468 non-null float64\n",
      "maniana                 18468 non-null float64\n",
      "tarde                   18468 non-null float64\n",
      "noche                   18468 non-null float64\n",
      "madrugada               18468 non-null float64\n",
      "cantDirect              18468 non-null float64\n",
      "cantEmail               18468 non-null float64\n",
      "cantOrganic             18468 non-null float64\n",
      "cantPaid                18468 non-null float64\n",
      "cantReferral            18468 non-null float64\n",
      "cantSocial              18468 non-null float64\n",
      "cantUnknown             18468 non-null float64\n",
      "cantVisitasDomingo      18468 non-null float64\n",
      "cantVisitasLunes        18468 non-null float64\n",
      "cantVisitasMartes       18468 non-null float64\n",
      "cantVisitasMiercoles    18468 non-null float64\n",
      "cantVisitasJueves       18468 non-null float64\n",
      "cantVisitasViernes      18468 non-null float64\n",
      "cantVisitasSabado       18468 non-null float64\n",
      "cantidadDeEventos       18468 non-null int64\n",
      "cantAdCampaignHit       18468 non-null float64\n",
      "cantBandListing         18468 non-null float64\n",
      "cantCheckout            18468 non-null float64\n",
      "cantGenericListing      18468 non-null float64\n",
      "cantLead                18468 non-null float64\n",
      "cantSearchEngineHit     18468 non-null float64\n",
      "cantSearchedProducts    18468 non-null float64\n",
      "cantStaticpage          18468 non-null float64\n",
      "cantViewedProduct       18468 non-null float64\n",
      "cantVisitedSite         18468 non-null float64\n",
      "visitoUnProducto        18468 non-null object\n",
      "visitaALaMañana         18468 non-null bool\n",
      "visitaALaNoche          18468 non-null bool\n",
      "visitaALaTarde          18468 non-null bool\n",
      "visitaALaMadrugada      18468 non-null bool\n",
      "canalDirect             18468 non-null bool\n",
      "canalEmail              18468 non-null bool\n",
      "canalOrganic            18468 non-null bool\n",
      "canalPaid               18468 non-null bool\n",
      "canalRefferal           18468 non-null bool\n",
      "canalSocial             18468 non-null bool\n",
      "adCampaignHit           18468 non-null bool\n",
      "bandListing             18468 non-null bool\n",
      "checkout                18468 non-null bool\n",
      "genericListing          18468 non-null bool\n",
      "searchEngineHit         18468 non-null bool\n",
      "searchedProducts        18468 non-null bool\n",
      "staticpage              18468 non-null bool\n",
      "viewedProduct           18468 non-null bool\n",
      "visitedSite             18468 non-null bool\n",
      "dtypes: bool(25), float64(30), int64(2), object(2)\n",
      "memory usage: 5.4+ MB\n"
     ]
    }
   ],
   "source": [
    "labels_f.info()"
   ]
  },
  {
   "cell_type": "code",
   "execution_count": 151,
   "metadata": {},
   "outputs": [],
   "source": [
    "X = labels_f.loc[:,['esNuevo', 'cantidadDeVisitas',\n",
    "       'ingresoPorPublicidad', 'cantVisitasAVP', 'maniana', 'tarde',\n",
    "       'noche', 'madrugada', 'cantDirect', 'cantEmail', 'cantOrganic',\n",
    "       'cantPaid', 'cantReferral', 'cantSocial', 'cantUnknown',\n",
    "       'cantVisitasDomingo', 'cantVisitasLunes', 'cantVisitasMartes',\n",
    "       'cantVisitasMiercoles', 'cantVisitasJueves', 'cantVisitasViernes',\n",
    "       'cantVisitasSabado', 'cantidadDeEventos', 'cantAdCampaignHit',\n",
    "       'cantBandListing', 'cantCheckout', 'cantGenericListing', 'cantLead',\n",
    "       'cantSearchEngineHit', 'cantSearchedProducts', 'cantStaticpage',\n",
    "       'cantViewedProduct', 'cantVisitedSite',\n",
    "       'visitaALaMañana', 'visitaALaNoche', 'visitaALaTarde',\n",
    "       'visitaALaMadrugada', 'adCampaignHit',\n",
    "       'bandListing', 'genericListing', 'searchEngineHit',\n",
    "       'searchedProducts', 'staticpage', 'viewedProduct', 'visitedSite']]\n",
    "\n",
    "\n",
    "\n",
    "y =labels_f.loc[:,'label']\n",
    "\n",
    "X_train, X_test, y_train, y_test = train_test_split(X, y, test_size=0.20, random_state=123)"
   ]
  },
  {
   "cell_type": "code",
   "execution_count": 171,
   "metadata": {},
   "outputs": [
    {
     "ename": "RuntimeError",
     "evalue": "can't start new thread",
     "output_type": "error",
     "traceback": [
      "\u001b[0;31m---------------------------------------------------------------------------\u001b[0m",
      "\u001b[0;31mRuntimeError\u001b[0m                              Traceback (most recent call last)",
      "\u001b[0;32m<ipython-input-171-2f4b8b1247a0>\u001b[0m in \u001b[0;36m<module>\u001b[0;34m()\u001b[0m\n\u001b[1;32m      1\u001b[0m \u001b[0;34m\u001b[0m\u001b[0m\n\u001b[1;32m      2\u001b[0m \u001b[0mclf\u001b[0m \u001b[0;34m=\u001b[0m \u001b[0mRandomForestClassifier\u001b[0m\u001b[0;34m(\u001b[0m\u001b[0mbootstrap\u001b[0m\u001b[0;34m=\u001b[0m \u001b[0;36m0.20\u001b[0m\u001b[0;34m,\u001b[0m \u001b[0mmax_features\u001b[0m\u001b[0;34m=\u001b[0m \u001b[0;36m45\u001b[0m\u001b[0;34m,\u001b[0m\u001b[0mn_jobs\u001b[0m\u001b[0;34m=\u001b[0m \u001b[0;36m1500\u001b[0m\u001b[0;34m)\u001b[0m\u001b[0;34m\u001b[0m\u001b[0m\n\u001b[0;32m----> 3\u001b[0;31m \u001b[0mclf\u001b[0m\u001b[0;34m.\u001b[0m\u001b[0mfit\u001b[0m\u001b[0;34m(\u001b[0m\u001b[0mX_train\u001b[0m\u001b[0;34m,\u001b[0m\u001b[0my_train\u001b[0m\u001b[0;34m)\u001b[0m\u001b[0;34m\u001b[0m\u001b[0m\n\u001b[0m\u001b[1;32m      4\u001b[0m \u001b[0;34m\u001b[0m\u001b[0m\n\u001b[1;32m      5\u001b[0m \u001b[0;31m#pred = clf.predict(X_test)\u001b[0m\u001b[0;34m\u001b[0m\u001b[0;34m\u001b[0m\u001b[0m\n",
      "\u001b[0;32m/anaconda3/lib/python3.6/site-packages/sklearn/ensemble/forest.py\u001b[0m in \u001b[0;36mfit\u001b[0;34m(self, X, y, sample_weight)\u001b[0m\n\u001b[1;32m    326\u001b[0m                     \u001b[0mt\u001b[0m\u001b[0;34m,\u001b[0m \u001b[0mself\u001b[0m\u001b[0;34m,\u001b[0m \u001b[0mX\u001b[0m\u001b[0;34m,\u001b[0m \u001b[0my\u001b[0m\u001b[0;34m,\u001b[0m \u001b[0msample_weight\u001b[0m\u001b[0;34m,\u001b[0m \u001b[0mi\u001b[0m\u001b[0;34m,\u001b[0m \u001b[0mlen\u001b[0m\u001b[0;34m(\u001b[0m\u001b[0mtrees\u001b[0m\u001b[0;34m)\u001b[0m\u001b[0;34m,\u001b[0m\u001b[0;34m\u001b[0m\u001b[0m\n\u001b[1;32m    327\u001b[0m                     verbose=self.verbose, class_weight=self.class_weight)\n\u001b[0;32m--> 328\u001b[0;31m                 for i, t in enumerate(trees))\n\u001b[0m\u001b[1;32m    329\u001b[0m \u001b[0;34m\u001b[0m\u001b[0m\n\u001b[1;32m    330\u001b[0m             \u001b[0;31m# Collect newly grown trees\u001b[0m\u001b[0;34m\u001b[0m\u001b[0;34m\u001b[0m\u001b[0m\n",
      "\u001b[0;32m/anaconda3/lib/python3.6/site-packages/sklearn/externals/joblib/parallel.py\u001b[0m in \u001b[0;36m__call__\u001b[0;34m(self, iterable)\u001b[0m\n\u001b[1;32m    747\u001b[0m         \u001b[0mself\u001b[0m\u001b[0;34m.\u001b[0m\u001b[0m_aborting\u001b[0m \u001b[0;34m=\u001b[0m \u001b[0;32mFalse\u001b[0m\u001b[0;34m\u001b[0m\u001b[0m\n\u001b[1;32m    748\u001b[0m         \u001b[0;32mif\u001b[0m \u001b[0;32mnot\u001b[0m \u001b[0mself\u001b[0m\u001b[0;34m.\u001b[0m\u001b[0m_managed_backend\u001b[0m\u001b[0;34m:\u001b[0m\u001b[0;34m\u001b[0m\u001b[0m\n\u001b[0;32m--> 749\u001b[0;31m             \u001b[0mn_jobs\u001b[0m \u001b[0;34m=\u001b[0m \u001b[0mself\u001b[0m\u001b[0;34m.\u001b[0m\u001b[0m_initialize_backend\u001b[0m\u001b[0;34m(\u001b[0m\u001b[0;34m)\u001b[0m\u001b[0;34m\u001b[0m\u001b[0m\n\u001b[0m\u001b[1;32m    750\u001b[0m         \u001b[0;32melse\u001b[0m\u001b[0;34m:\u001b[0m\u001b[0;34m\u001b[0m\u001b[0m\n\u001b[1;32m    751\u001b[0m             \u001b[0mn_jobs\u001b[0m \u001b[0;34m=\u001b[0m \u001b[0mself\u001b[0m\u001b[0;34m.\u001b[0m\u001b[0m_effective_n_jobs\u001b[0m\u001b[0;34m(\u001b[0m\u001b[0;34m)\u001b[0m\u001b[0;34m\u001b[0m\u001b[0m\n",
      "\u001b[0;32m/anaconda3/lib/python3.6/site-packages/sklearn/externals/joblib/parallel.py\u001b[0m in \u001b[0;36m_initialize_backend\u001b[0;34m(self)\u001b[0m\n\u001b[1;32m    545\u001b[0m         \u001b[0;32mtry\u001b[0m\u001b[0;34m:\u001b[0m\u001b[0;34m\u001b[0m\u001b[0m\n\u001b[1;32m    546\u001b[0m             n_jobs = self._backend.configure(n_jobs=self.n_jobs, parallel=self,\n\u001b[0;32m--> 547\u001b[0;31m                                              **self._backend_args)\n\u001b[0m\u001b[1;32m    548\u001b[0m             \u001b[0;32mif\u001b[0m \u001b[0mself\u001b[0m\u001b[0;34m.\u001b[0m\u001b[0mtimeout\u001b[0m \u001b[0;32mis\u001b[0m \u001b[0;32mnot\u001b[0m \u001b[0;32mNone\u001b[0m \u001b[0;32mand\u001b[0m \u001b[0;32mnot\u001b[0m \u001b[0mself\u001b[0m\u001b[0;34m.\u001b[0m\u001b[0m_backend\u001b[0m\u001b[0;34m.\u001b[0m\u001b[0msupports_timeout\u001b[0m\u001b[0;34m:\u001b[0m\u001b[0;34m\u001b[0m\u001b[0m\n\u001b[1;32m    549\u001b[0m                 warnings.warn(\n",
      "\u001b[0;32m/anaconda3/lib/python3.6/site-packages/sklearn/externals/joblib/_parallel_backends.py\u001b[0m in \u001b[0;36mconfigure\u001b[0;34m(self, n_jobs, parallel, **backend_args)\u001b[0m\n\u001b[1;32m    248\u001b[0m             \u001b[0;32mraise\u001b[0m \u001b[0mFallbackToBackend\u001b[0m\u001b[0;34m(\u001b[0m\u001b[0mSequentialBackend\u001b[0m\u001b[0;34m(\u001b[0m\u001b[0;34m)\u001b[0m\u001b[0;34m)\u001b[0m\u001b[0;34m\u001b[0m\u001b[0m\n\u001b[1;32m    249\u001b[0m         \u001b[0mself\u001b[0m\u001b[0;34m.\u001b[0m\u001b[0mparallel\u001b[0m \u001b[0;34m=\u001b[0m \u001b[0mparallel\u001b[0m\u001b[0;34m\u001b[0m\u001b[0m\n\u001b[0;32m--> 250\u001b[0;31m         \u001b[0mself\u001b[0m\u001b[0;34m.\u001b[0m\u001b[0m_pool\u001b[0m \u001b[0;34m=\u001b[0m \u001b[0mThreadPool\u001b[0m\u001b[0;34m(\u001b[0m\u001b[0mn_jobs\u001b[0m\u001b[0;34m)\u001b[0m\u001b[0;34m\u001b[0m\u001b[0m\n\u001b[0m\u001b[1;32m    251\u001b[0m         \u001b[0;32mreturn\u001b[0m \u001b[0mn_jobs\u001b[0m\u001b[0;34m\u001b[0m\u001b[0m\n\u001b[1;32m    252\u001b[0m \u001b[0;34m\u001b[0m\u001b[0m\n",
      "\u001b[0;32m/anaconda3/lib/python3.6/multiprocessing/pool.py\u001b[0m in \u001b[0;36m__init__\u001b[0;34m(self, processes, initializer, initargs)\u001b[0m\n\u001b[1;32m    787\u001b[0m \u001b[0;34m\u001b[0m\u001b[0m\n\u001b[1;32m    788\u001b[0m     \u001b[0;32mdef\u001b[0m \u001b[0m__init__\u001b[0m\u001b[0;34m(\u001b[0m\u001b[0mself\u001b[0m\u001b[0;34m,\u001b[0m \u001b[0mprocesses\u001b[0m\u001b[0;34m=\u001b[0m\u001b[0;32mNone\u001b[0m\u001b[0;34m,\u001b[0m \u001b[0minitializer\u001b[0m\u001b[0;34m=\u001b[0m\u001b[0;32mNone\u001b[0m\u001b[0;34m,\u001b[0m \u001b[0minitargs\u001b[0m\u001b[0;34m=\u001b[0m\u001b[0;34m(\u001b[0m\u001b[0;34m)\u001b[0m\u001b[0;34m)\u001b[0m\u001b[0;34m:\u001b[0m\u001b[0;34m\u001b[0m\u001b[0m\n\u001b[0;32m--> 789\u001b[0;31m         \u001b[0mPool\u001b[0m\u001b[0;34m.\u001b[0m\u001b[0m__init__\u001b[0m\u001b[0;34m(\u001b[0m\u001b[0mself\u001b[0m\u001b[0;34m,\u001b[0m \u001b[0mprocesses\u001b[0m\u001b[0;34m,\u001b[0m \u001b[0minitializer\u001b[0m\u001b[0;34m,\u001b[0m \u001b[0minitargs\u001b[0m\u001b[0;34m)\u001b[0m\u001b[0;34m\u001b[0m\u001b[0m\n\u001b[0m\u001b[1;32m    790\u001b[0m \u001b[0;34m\u001b[0m\u001b[0m\n\u001b[1;32m    791\u001b[0m     \u001b[0;32mdef\u001b[0m \u001b[0m_setup_queues\u001b[0m\u001b[0;34m(\u001b[0m\u001b[0mself\u001b[0m\u001b[0;34m)\u001b[0m\u001b[0;34m:\u001b[0m\u001b[0;34m\u001b[0m\u001b[0m\n",
      "\u001b[0;32m/anaconda3/lib/python3.6/multiprocessing/pool.py\u001b[0m in \u001b[0;36m__init__\u001b[0;34m(self, processes, initializer, initargs, maxtasksperchild, context)\u001b[0m\n\u001b[1;32m    172\u001b[0m         \u001b[0mself\u001b[0m\u001b[0;34m.\u001b[0m\u001b[0m_processes\u001b[0m \u001b[0;34m=\u001b[0m \u001b[0mprocesses\u001b[0m\u001b[0;34m\u001b[0m\u001b[0m\n\u001b[1;32m    173\u001b[0m         \u001b[0mself\u001b[0m\u001b[0;34m.\u001b[0m\u001b[0m_pool\u001b[0m \u001b[0;34m=\u001b[0m \u001b[0;34m[\u001b[0m\u001b[0;34m]\u001b[0m\u001b[0;34m\u001b[0m\u001b[0m\n\u001b[0;32m--> 174\u001b[0;31m         \u001b[0mself\u001b[0m\u001b[0;34m.\u001b[0m\u001b[0m_repopulate_pool\u001b[0m\u001b[0;34m(\u001b[0m\u001b[0;34m)\u001b[0m\u001b[0;34m\u001b[0m\u001b[0m\n\u001b[0m\u001b[1;32m    175\u001b[0m \u001b[0;34m\u001b[0m\u001b[0m\n\u001b[1;32m    176\u001b[0m         self._worker_handler = threading.Thread(\n",
      "\u001b[0;32m/anaconda3/lib/python3.6/multiprocessing/pool.py\u001b[0m in \u001b[0;36m_repopulate_pool\u001b[0;34m(self)\u001b[0m\n\u001b[1;32m    237\u001b[0m             \u001b[0mw\u001b[0m\u001b[0;34m.\u001b[0m\u001b[0mname\u001b[0m \u001b[0;34m=\u001b[0m \u001b[0mw\u001b[0m\u001b[0;34m.\u001b[0m\u001b[0mname\u001b[0m\u001b[0;34m.\u001b[0m\u001b[0mreplace\u001b[0m\u001b[0;34m(\u001b[0m\u001b[0;34m'Process'\u001b[0m\u001b[0;34m,\u001b[0m \u001b[0;34m'PoolWorker'\u001b[0m\u001b[0;34m)\u001b[0m\u001b[0;34m\u001b[0m\u001b[0m\n\u001b[1;32m    238\u001b[0m             \u001b[0mw\u001b[0m\u001b[0;34m.\u001b[0m\u001b[0mdaemon\u001b[0m \u001b[0;34m=\u001b[0m \u001b[0;32mTrue\u001b[0m\u001b[0;34m\u001b[0m\u001b[0m\n\u001b[0;32m--> 239\u001b[0;31m             \u001b[0mw\u001b[0m\u001b[0;34m.\u001b[0m\u001b[0mstart\u001b[0m\u001b[0;34m(\u001b[0m\u001b[0;34m)\u001b[0m\u001b[0;34m\u001b[0m\u001b[0m\n\u001b[0m\u001b[1;32m    240\u001b[0m             \u001b[0mutil\u001b[0m\u001b[0;34m.\u001b[0m\u001b[0mdebug\u001b[0m\u001b[0;34m(\u001b[0m\u001b[0;34m'added worker'\u001b[0m\u001b[0;34m)\u001b[0m\u001b[0;34m\u001b[0m\u001b[0m\n\u001b[1;32m    241\u001b[0m \u001b[0;34m\u001b[0m\u001b[0m\n",
      "\u001b[0;32m/anaconda3/lib/python3.6/multiprocessing/dummy/__init__.py\u001b[0m in \u001b[0;36mstart\u001b[0;34m(self)\u001b[0m\n\u001b[1;32m     46\u001b[0m         \u001b[0;32mif\u001b[0m \u001b[0mhasattr\u001b[0m\u001b[0;34m(\u001b[0m\u001b[0mself\u001b[0m\u001b[0;34m.\u001b[0m\u001b[0m_parent\u001b[0m\u001b[0;34m,\u001b[0m \u001b[0;34m'_children'\u001b[0m\u001b[0;34m)\u001b[0m\u001b[0;34m:\u001b[0m\u001b[0;34m\u001b[0m\u001b[0m\n\u001b[1;32m     47\u001b[0m             \u001b[0mself\u001b[0m\u001b[0;34m.\u001b[0m\u001b[0m_parent\u001b[0m\u001b[0;34m.\u001b[0m\u001b[0m_children\u001b[0m\u001b[0;34m[\u001b[0m\u001b[0mself\u001b[0m\u001b[0;34m]\u001b[0m \u001b[0;34m=\u001b[0m \u001b[0;32mNone\u001b[0m\u001b[0;34m\u001b[0m\u001b[0m\n\u001b[0;32m---> 48\u001b[0;31m         \u001b[0mthreading\u001b[0m\u001b[0;34m.\u001b[0m\u001b[0mThread\u001b[0m\u001b[0;34m.\u001b[0m\u001b[0mstart\u001b[0m\u001b[0;34m(\u001b[0m\u001b[0mself\u001b[0m\u001b[0;34m)\u001b[0m\u001b[0;34m\u001b[0m\u001b[0m\n\u001b[0m\u001b[1;32m     49\u001b[0m \u001b[0;34m\u001b[0m\u001b[0m\n\u001b[1;32m     50\u001b[0m     \u001b[0;34m@\u001b[0m\u001b[0mproperty\u001b[0m\u001b[0;34m\u001b[0m\u001b[0m\n",
      "\u001b[0;32m/anaconda3/lib/python3.6/threading.py\u001b[0m in \u001b[0;36mstart\u001b[0;34m(self)\u001b[0m\n\u001b[1;32m    844\u001b[0m             \u001b[0m_limbo\u001b[0m\u001b[0;34m[\u001b[0m\u001b[0mself\u001b[0m\u001b[0;34m]\u001b[0m \u001b[0;34m=\u001b[0m \u001b[0mself\u001b[0m\u001b[0;34m\u001b[0m\u001b[0m\n\u001b[1;32m    845\u001b[0m         \u001b[0;32mtry\u001b[0m\u001b[0;34m:\u001b[0m\u001b[0;34m\u001b[0m\u001b[0m\n\u001b[0;32m--> 846\u001b[0;31m             \u001b[0m_start_new_thread\u001b[0m\u001b[0;34m(\u001b[0m\u001b[0mself\u001b[0m\u001b[0;34m.\u001b[0m\u001b[0m_bootstrap\u001b[0m\u001b[0;34m,\u001b[0m \u001b[0;34m(\u001b[0m\u001b[0;34m)\u001b[0m\u001b[0;34m)\u001b[0m\u001b[0;34m\u001b[0m\u001b[0m\n\u001b[0m\u001b[1;32m    847\u001b[0m         \u001b[0;32mexcept\u001b[0m \u001b[0mException\u001b[0m\u001b[0;34m:\u001b[0m\u001b[0;34m\u001b[0m\u001b[0m\n\u001b[1;32m    848\u001b[0m             \u001b[0;32mwith\u001b[0m \u001b[0m_active_limbo_lock\u001b[0m\u001b[0;34m:\u001b[0m\u001b[0;34m\u001b[0m\u001b[0m\n",
      "\u001b[0;31mRuntimeError\u001b[0m: can't start new thread"
     ]
    }
   ],
   "source": [
    "\n",
    "clf = RandomForestClassifier(bootstrap= 0.20, max_features= 45,n_jobs= 1500)\n",
    "clf.fit(X_train,y_train)\n",
    "\n",
    "#pred = clf.predict(X_test)\n",
    "#print(accuracy_score(y_test, pred))\n",
    "preds = clf.predict(X_test)\n",
    "train_accuracy = accuracy_score(y_train, clf.predict(X_train))\n",
    "test_accuracy = accuracy_score(y_test, preds)\n",
    "matriz_de_confusion = confusion_matrix(y_test, preds)\n",
    "area_debajo_de_curva = roc_auc_score(y_test, preds)\n",
    "\n",
    "print(\"Train accuracy: \", train_accuracy)\n",
    "print(\"Test acuracy: \", test_accuracy)\n",
    "print(\"ROC auc score: \", area_debajo_de_curva)\n",
    "print(\"Confusion matrix: \")\n",
    "print(matriz_de_confusion)"
   ]
  },
  {
   "cell_type": "markdown",
   "metadata": {},
   "source": []
  },
  {
   "cell_type": "markdown",
   "metadata": {},
   "source": [
    "### XGBOOST ###"
   ]
  },
  {
   "cell_type": "code",
   "execution_count": 153,
   "metadata": {},
   "outputs": [],
   "source": [
    "data_dmatrix = xgb.DMatrix(data=X,label=y)\n",
    "X_train, X_test, y_train, y_test = train_test_split(X, y, test_size=0.1, random_state=1350)"
   ]
  },
  {
   "cell_type": "code",
   "execution_count": 154,
   "metadata": {},
   "outputs": [],
   "source": [
    "xg_reg = xgb.XGBRegressor(objective ='binary:hinge',colsample_bytree = 0.8, learning_rate = 0.1,\n",
    "                max_depth = 5, n_estimators = 6, scale_pos_weight = 0.95, min_child_weight=1)"
   ]
  },
  {
   "cell_type": "code",
   "execution_count": 155,
   "metadata": {
    "scrolled": true
   },
   "outputs": [
    {
     "data": {
      "text/plain": [
       "XGBRegressor(base_score=0.5, booster='gbtree', colsample_bylevel=1,\n",
       "       colsample_bytree=0.8, gamma=0, learning_rate=0.1, max_delta_step=0,\n",
       "       max_depth=5, min_child_weight=1, missing=None, n_estimators=6,\n",
       "       n_jobs=1, nthread=None, objective='binary:hinge', random_state=0,\n",
       "       reg_alpha=0, reg_lambda=1, scale_pos_weight=0.95, seed=None,\n",
       "       silent=True, subsample=1)"
      ]
     },
     "execution_count": 155,
     "metadata": {},
     "output_type": "execute_result"
    }
   ],
   "source": [
    "xg_reg.fit(X_train,y_train)"
   ]
  },
  {
   "cell_type": "code",
   "execution_count": 156,
   "metadata": {},
   "outputs": [],
   "source": [
    "preds = xg_reg.predict(X_test)"
   ]
  },
  {
   "cell_type": "code",
   "execution_count": 157,
   "metadata": {
    "scrolled": true
   },
   "outputs": [
    {
     "name": "stdout",
     "output_type": "stream",
     "text": [
      "Train accuracy:  0.813849948859876\n",
      "Test acuracy:  0.8153762858689767\n",
      "ROC auc score:  0.7711851008663758\n",
      "Confusion matrix: \n",
      "[[1441  316]\n",
      " [  25   65]]\n"
     ]
    }
   ],
   "source": [
    "train_accuracy = accuracy_score(y_train, xg_reg.predict(X_train))\n",
    "test_accuracy = accuracy_score(y_test, preds)\n",
    "matriz_de_confusion = confusion_matrix(y_test, preds)\n",
    "area_debajo_de_curva = roc_auc_score(y_test, preds)\n",
    "\n",
    "print(\"Train accuracy: \", train_accuracy)\n",
    "print(\"Test acuracy: \", test_accuracy)\n",
    "print(\"ROC auc score: \", area_debajo_de_curva)\n",
    "print(\"Confusion matrix: \")\n",
    "print(matriz_de_confusion)"
   ]
  },
  {
   "cell_type": "markdown",
   "metadata": {},
   "source": [
    "### KNN###\n"
   ]
  },
  {
   "cell_type": "code",
   "execution_count": 70,
   "metadata": {},
   "outputs": [
    {
     "name": "stdout",
     "output_type": "stream",
     "text": [
      "Train accuracy:  0.9535527344925094\n",
      "Test acuracy:  0.9491066594477531\n",
      "ROC auc score:  0.49886169607285147\n",
      "Confusion matrix: \n",
      "[[1753    4]\n",
      " [  90    0]]\n"
     ]
    }
   ],
   "source": [
    "\n",
    "knn = KNeighborsClassifier(n_neighbors=2)\n",
    "\n",
    "# FIT (this does nothing in normal KNN)\n",
    "knn.fit(X_train, y_train)\n",
    "\n",
    "# predict the response \n",
    "preds = knn.predict(X_test)\n",
    "\n",
    "train_accuracy = accuracy_score(y_train, knn.predict(X_train))\n",
    "test_accuracy = accuracy_score(y_test, preds)\n",
    "matriz_de_confusion = confusion_matrix(y_test, preds)\n",
    "area_debajo_de_curva = roc_auc_score(y_test, preds)\n",
    "\n",
    "print(\"Train accuracy: \", train_accuracy)\n",
    "print(\"Test acuracy: \", test_accuracy)\n",
    "print(\"ROC auc score: \", area_debajo_de_curva)\n",
    "print(\"Confusion matrix: \")\n",
    "print(matriz_de_confusion)\n"
   ]
  },
  {
   "cell_type": "markdown",
   "metadata": {},
   "source": [
    "** RESULTADOS OBTENIDOS: **\n",
    "\n",
    "XG: 0.4995862068965517\n",
    "\n",
    "RF: 0.4975288303130148\n",
    "\n",
    "KNN:  0.49875862068965515"
   ]
  },
  {
   "cell_type": "code",
   "execution_count": null,
   "metadata": {},
   "outputs": [],
   "source": []
  }
 ],
 "metadata": {
  "kernelspec": {
   "display_name": "Python 3",
   "language": "python",
   "name": "python3"
  },
  "language_info": {
   "codemirror_mode": {
    "name": "ipython",
    "version": 3
   },
   "file_extension": ".py",
   "mimetype": "text/x-python",
   "name": "python",
   "nbconvert_exporter": "python",
   "pygments_lexer": "ipython3",
   "version": "3.6.5"
  }
 },
 "nbformat": 4,
 "nbformat_minor": 2
}
