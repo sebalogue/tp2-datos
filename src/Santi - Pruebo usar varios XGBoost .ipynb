{
 "cells": [
  {
   "cell_type": "code",
   "execution_count": 16,
   "metadata": {},
   "outputs": [],
   "source": [
    "import pandas as pd  \n",
    "import numpy as np  \n",
    "import matplotlib.pyplot as plt \n",
    "%matplotlib inline\n",
    "\n",
    "from datetime import timedelta\n",
    "\n",
    "from sklearn.model_selection import train_test_split\n",
    "from sklearn.metrics import accuracy_score, roc_auc_score, mean_squared_error, confusion_matrix,\\\n",
    "                            f1_score,precision_score,recall_score,classification_report,cohen_kappa_score\n",
    "import xgboost as xgb\n",
    "from sklearn import preprocessing"
   ]
  },
  {
   "cell_type": "code",
   "execution_count": 17,
   "metadata": {
    "scrolled": true
   },
   "outputs": [],
   "source": [
    "# df_events información de eventos realizado en la plataforma para un conjunto de usuarios hasta el 31/05/2018\n",
    "df_events = pd.read_csv('../../data/events_up_to_01062018.csv',dtype=object)\n",
    "# df_train archivo labels_training_set.csv indica para un subconjunto de los usuarios incluidos en el set de \n",
    "# eventos events_up_to_01062018.csv si los mismos realizaron una conversión (columna label = 1) o no (columna \n",
    "# label = 0) desde el 01/06/2018 hasta el 15/06/2018\n",
    "df_labels = pd.read_csv('../../data/labels_training_set.csv',dtype=object)\n",
    "# Personas a predecir conversion.\n",
    "df_person = pd.read_csv('../../data/trocafone_kaggle_test.csv')"
   ]
  },
  {
   "cell_type": "code",
   "execution_count": 18,
   "metadata": {
    "scrolled": true
   },
   "outputs": [
    {
     "name": "stdout",
     "output_type": "stream",
     "text": [
      "<class 'pandas.core.frame.DataFrame'>\n",
      "RangeIndex: 19414 entries, 0 to 19413\n",
      "Data columns (total 2 columns):\n",
      "person    19414 non-null object\n",
      "label     19414 non-null int64\n",
      "dtypes: int64(1), object(1)\n",
      "memory usage: 303.4+ KB\n"
     ]
    }
   ],
   "source": [
    "df_labels['label'] = df_labels['label'].astype(int)\n",
    "df_labels.info()"
   ]
  },
  {
   "cell_type": "code",
   "execution_count": 19,
   "metadata": {
    "scrolled": true
   },
   "outputs": [],
   "source": [
    "df_events[\"timestamp\"] = pd.to_datetime(df_events[\"timestamp\"])\n",
    "df_events[\"month\"] = df_events[\"timestamp\"].dt.month\n",
    "df_events[\"day\"] = df_events[\"timestamp\"].dt.day\n",
    "df_events[\"day_of_week\"] = df_events['timestamp'].dt.weekday_name\n",
    "df_events['day_of_year'] = df_events['timestamp'].dt.dayofyear\n",
    "df_events['hour'] = df_events['timestamp'].dt.hour\n",
    "df_events['minute'] = df_events['timestamp'].dt.minute\n",
    "df_events['week_of_year'] = df_events['timestamp'].dt.weekofyear\n",
    "df_events['second'] = df_events['timestamp'].dt.second"
   ]
  },
  {
   "cell_type": "code",
   "execution_count": 20,
   "metadata": {
    "scrolled": false
   },
   "outputs": [
    {
     "data": {
      "text/plain": [
       "Index(['timestamp', 'event', 'person', 'url', 'sku', 'model', 'condition',\n",
       "       'storage', 'color', 'skus', 'search_term', 'staticpage',\n",
       "       'campaign_source', 'search_engine', 'channel', 'new_vs_returning',\n",
       "       'city', 'region', 'country', 'device_type', 'screen_resolution',\n",
       "       'operating_system_version', 'browser_version', 'month', 'day',\n",
       "       'day_of_week', 'day_of_year', 'hour', 'minute', 'week_of_year',\n",
       "       'second'],\n",
       "      dtype='object')"
      ]
     },
     "execution_count": 20,
     "metadata": {},
     "output_type": "execute_result"
    }
   ],
   "source": [
    "df_events.columns"
   ]
  },
  {
   "cell_type": "code",
   "execution_count": 22,
   "metadata": {},
   "outputs": [],
   "source": [
    "df_todas_las_personas = df_events[['person']].drop_duplicates()"
   ]
  },
  {
   "cell_type": "code",
   "execution_count": 54,
   "metadata": {},
   "outputs": [],
   "source": [
    "def evaluarMetricas(y_test,preds):\n",
    "\n",
    "    meanSquaredError = mean_squared_error(y_test, preds)\n",
    "    areaDebajoDeCurva = roc_auc_score(y_test, preds)\n",
    "\n",
    "\n",
    "    print(\"ROC auc score: \", areaDebajoDeCurva)\n",
    "    print(\"Mean squared error: \", meanSquaredError)\n",
    "    "
   ]
  },
  {
   "cell_type": "code",
   "execution_count": 47,
   "metadata": {},
   "outputs": [],
   "source": [
    "def testSinSubirAKaggle(dfSinLabels):\n",
    "    \n",
    "    df_train_con_labels = pd.merge(dfSinLabels,df_labels,how = 'inner', on ='person')\n",
    "    df_train_con_labels.drop(columns = ['person'],inplace = True)\n",
    "\n",
    "    X = df_train_con_labels.drop(columns = ['label'])\n",
    "    y = df_train_con_labels['label']\n",
    "    \n",
    "    xg = xgb.XGBClassifier(objective ='binary:logistic', \n",
    "                    colsample_bytree = 0.8, learning_rate = 0.1,\n",
    "                    max_depth = 5, n_estimators = 6, scale_pos_weight = 9.5, min_child_weight=1)\n",
    "\n",
    "    X_train, X_test, y_train, y_test = train_test_split(X, y, test_size=0.20, random_state=123)\n",
    "\n",
    "    xg.fit(X_train,y_train)\n",
    "\n",
    "    predsProb1 = pd.DataFrame(xg.predict_proba(X_test))[1]\n",
    "\n",
    "    predsLabel = pd.Series(xg.predict(X_test))\n",
    "\n",
    "    trainAccuracy = accuracy_score(y_train, pd.Series(xg.predict(X_train)))\n",
    "    testAccuracy = accuracy_score(y_test, predsLabel)\n",
    "\n",
    "    cohenKappaScore = cohen_kappa_score(y_test, predsLabel)\n",
    "    classificationReport = classification_report(y_test, predsLabel)\n",
    "    precisionScore = precision_score(y_test, predsLabel)\n",
    "    recallScore = recall_score(y_test, predsLabel)\n",
    "    f1Score = f1_score(y_test, predsLabel)\n",
    "    matrizDeConfusion = confusion_matrix(y_test, predsLabel)\n",
    "\n",
    "    meanSquaredError = mean_squared_error(y_test, predsProb1)\n",
    "    areaDebajoDeCurva = roc_auc_score(y_test, predsProb1)\n",
    "\n",
    "    # Pruebo todas las metricas.\n",
    "    # accuracy_score, roc_auc_score, mean_squared_error, confusion_matrix,\n",
    "    # f1_score,precision_score,recall_score,classification_report,cohen_kappa_score\n",
    "    # brierScoreLoss.\n",
    "    # Hay metricas para la probabilidad de que sea 1 y otras metricas para las predicciones de los labels.\n",
    "\n",
    "\n",
    "    # Metricas con LABELS.\n",
    "\n",
    "    print()\n",
    "    print(\"Metricas con Labels:\")\n",
    "    print()\n",
    "\n",
    "    print(\"Train accuracy: \", trainAccuracy)\n",
    "    print(\"Test acuracy: \", testAccuracy)\n",
    "    print()\n",
    "    print(\"Classification Report:\")\n",
    "    print(classificationReport)\n",
    "    print()\n",
    "    print(\"Precision Score: \",precisionScore)\n",
    "    print(\"Recall Score: \",recallScore)\n",
    "    print(\"F1 Score: \",f1Score)\n",
    "    print(\"Cohen Kappa Score: \",cohenKappaScore)\n",
    "    print()\n",
    "    print(\"Confusion matrix: \")\n",
    "    print(matrizDeConfusion)\n",
    "\n",
    "    # Metricas con PROBABILIDADES. \n",
    "\n",
    "    print()\n",
    "    print(\"Metricas sin Labels:\")\n",
    "    print()\n",
    "\n",
    "    print(\"ROC auc score: \", areaDebajoDeCurva)\n",
    "    print(\"Mean squared error: \", meanSquaredError)\n",
    "    \n",
    "    return predsProb1, y_test"
   ]
  },
  {
   "cell_type": "code",
   "execution_count": null,
   "metadata": {},
   "outputs": [],
   "source": []
  },
  {
   "cell_type": "code",
   "execution_count": 121,
   "metadata": {},
   "outputs": [],
   "source": [
    "df_seba = pd.read_csv('features_seba.csv')\n",
    "df_featuresNuevos = pd.read_csv('fetures_nuevos_santi.csv')"
   ]
  },
  {
   "cell_type": "code",
   "execution_count": 122,
   "metadata": {},
   "outputs": [],
   "source": [
    "df_santiEventos = pd.read_csv('Santi_FeaturesConEventos.csv')"
   ]
  },
  {
   "cell_type": "code",
   "execution_count": 123,
   "metadata": {},
   "outputs": [],
   "source": [
    "df_santiTime = pd.read_csv('santi_timefeatures.csv')"
   ]
  },
  {
   "cell_type": "code",
   "execution_count": 135,
   "metadata": {},
   "outputs": [
    {
     "name": "stdout",
     "output_type": "stream",
     "text": [
      "\n",
      "Metricas con Labels:\n",
      "\n",
      "Train accuracy:  0.9032901938059366\n",
      "Test acuracy:  0.8820499613700746\n",
      "\n",
      "Classification Report:\n",
      "              precision    recall  f1-score   support\n",
      "\n",
      "           0       0.96      0.91      0.94      3692\n",
      "           1       0.14      0.28      0.19       191\n",
      "\n",
      "   micro avg       0.88      0.88      0.88      3883\n",
      "   macro avg       0.55      0.60      0.56      3883\n",
      "weighted avg       0.92      0.88      0.90      3883\n",
      "\n",
      "\n",
      "Precision Score:  0.144\n",
      "Recall Score:  0.28272251308900526\n",
      "F1 Score:  0.19081272084805653\n",
      "Cohen Kappa Score:  0.1343929116565945\n",
      "\n",
      "Confusion matrix: \n",
      "[[3371  321]\n",
      " [ 137   54]]\n",
      "\n",
      "Metricas sin Labels:\n",
      "\n",
      "ROC auc score:  0.7305962233327472\n",
      "Mean squared error:  0.16826066383951369\n"
     ]
    }
   ],
   "source": [
    "predsTime, y_test = testSinSubirAKaggle(df_santiTime)"
   ]
  },
  {
   "cell_type": "code",
   "execution_count": 134,
   "metadata": {},
   "outputs": [
    {
     "name": "stdout",
     "output_type": "stream",
     "text": [
      "\n",
      "Metricas con Labels:\n",
      "\n",
      "Train accuracy:  0.8881591655398879\n",
      "Test acuracy:  0.8750965748132887\n",
      "\n",
      "Classification Report:\n",
      "              precision    recall  f1-score   support\n",
      "\n",
      "           0       0.97      0.89      0.93      3692\n",
      "           1       0.21      0.54      0.30       191\n",
      "\n",
      "   micro avg       0.88      0.88      0.88      3883\n",
      "   macro avg       0.59      0.72      0.61      3883\n",
      "weighted avg       0.94      0.88      0.90      3883\n",
      "\n",
      "\n",
      "Precision Score:  0.206\n",
      "Recall Score:  0.5392670157068062\n",
      "F1 Score:  0.29811866859623737\n",
      "Cohen Kappa Score:  0.24432609073359468\n",
      "\n",
      "Confusion matrix: \n",
      "[[3295  397]\n",
      " [  88  103]]\n",
      "\n",
      "Metricas sin Labels:\n",
      "\n",
      "ROC auc score:  0.8267869399238768\n",
      "Mean squared error:  0.15509996464630738\n"
     ]
    }
   ],
   "source": [
    "predsEventos, y_test = testSinSubirAKaggle(df_santiEventos)"
   ]
  },
  {
   "cell_type": "code",
   "execution_count": 167,
   "metadata": {},
   "outputs": [
    {
     "name": "stdout",
     "output_type": "stream",
     "text": [
      "\n",
      "Metricas con Labels:\n",
      "\n",
      "Train accuracy:  0.860858927306677\n",
      "Test acuracy:  0.8526912181303116\n",
      "\n",
      "Classification Report:\n",
      "              precision    recall  f1-score   support\n",
      "\n",
      "           0       0.97      0.87      0.92      3670\n",
      "           1       0.21      0.60      0.31       213\n",
      "\n",
      "   micro avg       0.85      0.85      0.85      3883\n",
      "   macro avg       0.59      0.73      0.61      3883\n",
      "weighted avg       0.93      0.85      0.88      3883\n",
      "\n",
      "\n",
      "Precision Score:  0.20717781402936378\n",
      "Recall Score:  0.596244131455399\n",
      "F1 Score:  0.3075060532687651\n",
      "Cohen Kappa Score:  0.24612690158915496\n",
      "\n",
      "Confusion matrix: \n",
      "[[3184  486]\n",
      " [  86  127]]\n",
      "\n",
      "Metricas sin Labels:\n",
      "\n",
      "ROC auc score:  0.8519860306251679\n",
      "Mean squared error:  0.1500565326519106\n"
     ]
    }
   ],
   "source": [
    "predsSeba, y_test = testSinSubirAKaggle(df_seba)"
   ]
  },
  {
   "cell_type": "code",
   "execution_count": 126,
   "metadata": {
    "scrolled": true
   },
   "outputs": [
    {
     "name": "stdout",
     "output_type": "stream",
     "text": [
      "\n",
      "Metricas con Labels:\n",
      "\n",
      "Train accuracy:  0.8871933552250338\n",
      "Test acuracy:  0.886170486737059\n",
      "\n",
      "Classification Report:\n",
      "              precision    recall  f1-score   support\n",
      "\n",
      "           0       0.97      0.91      0.94      3692\n",
      "           1       0.21      0.49      0.30       191\n",
      "\n",
      "   micro avg       0.89      0.89      0.89      3883\n",
      "   macro avg       0.59      0.70      0.62      3883\n",
      "weighted avg       0.93      0.89      0.91      3883\n",
      "\n",
      "\n",
      "Precision Score:  0.214123006833713\n",
      "Recall Score:  0.49214659685863876\n",
      "F1 Score:  0.29841269841269846\n",
      "Cohen Kappa Score:  0.24677783473302817\n",
      "\n",
      "Confusion matrix: \n",
      "[[3347  345]\n",
      " [  97   94]]\n",
      "\n",
      "Metricas sin Labels:\n",
      "\n",
      "ROC auc score:  0.8290367456450342\n",
      "Mean squared error:  0.16026689238951006\n"
     ]
    }
   ],
   "source": [
    "predsFeaturesNuevos, y_test = testSinSubirAKaggle(df_featuresNuevos)"
   ]
  },
  {
   "cell_type": "code",
   "execution_count": null,
   "metadata": {},
   "outputs": [],
   "source": []
  },
  {
   "cell_type": "code",
   "execution_count": 205,
   "metadata": {},
   "outputs": [],
   "source": [
    "predsPromedio1 = (0.95*predsSeba + 0.05*predsFeaturesNuevos) / 2"
   ]
  },
  {
   "cell_type": "code",
   "execution_count": 226,
   "metadata": {},
   "outputs": [],
   "source": [
    "predsPromedio = (0.8*predsSeba + 0.10*predsFeaturesNuevos + 0.05*predsEventos + 0.05*predsTime)/4"
   ]
  },
  {
   "cell_type": "markdown",
   "metadata": {},
   "source": [
    "#### 0.8519860306251679"
   ]
  },
  {
   "cell_type": "code",
   "execution_count": 278,
   "metadata": {
    "scrolled": true
   },
   "outputs": [
    {
     "name": "stdout",
     "output_type": "stream",
     "text": [
      "ROC auc score:  0.8501605454708268\n",
      "Mean squared error:  0.05080793616983466\n"
     ]
    }
   ],
   "source": [
    "evaluarMetricas(y_test,predsPromedio)"
   ]
  },
  {
   "cell_type": "code",
   "execution_count": 327,
   "metadata": {},
   "outputs": [],
   "source": [
    "union = pd.merge(df_seba,df_santiEventos[columnas])"
   ]
  },
  {
   "cell_type": "code",
   "execution_count": 328,
   "metadata": {},
   "outputs": [],
   "source": [
    "union = pd.merge(union,df_featuresNuevos[columnasfeaturesNuevos])"
   ]
  },
  {
   "cell_type": "code",
   "execution_count": 329,
   "metadata": {},
   "outputs": [],
   "source": [
    "union = pd.merge(union,df_santiTime[columnasTiempo])"
   ]
  },
  {
   "cell_type": "code",
   "execution_count": 321,
   "metadata": {},
   "outputs": [],
   "source": [
    "columnasfeaturesNuevos = ['person','promedioCadaCuantosDiasVuelve','cadaCuantosDiasEnMes5HaceEventos','cadaCuantasHorasEnUnDiaDelMes5HaceEventos',\n",
    " 'cadaCuantosMinutosHaceEventosEnUnDiaYHoraDelMes5',\n",
    " 'cadaCuantosSegundosHaceEventosEnUnDiaYHoraDelMes5',\n",
    " 'cadaCuantosDiasHaceConversion',\n",
    " 'cadaCuantosDiasHaceCheckout']"
   ]
  },
  {
   "cell_type": "code",
   "execution_count": 314,
   "metadata": {},
   "outputs": [
    {
     "data": {
      "text/plain": [
       "['person',\n",
       " 'promedioCadaCuantosDiasVuelve',\n",
       " 'cadaCuantasHorasHaceEventos',\n",
       " 'cadaCuantosMinutosHaceEventos',\n",
       " 'cadaCuantosDiasEnMes5HaceEventos',\n",
       " 'cadaCuantasHorasEnUnDiaDelMes5HaceEventos',\n",
       " 'cadaCuantosMinutosHaceEventosEnUnDiaYHoraDelMes5',\n",
       " 'cadaCuantosSegundosHaceEventosEnUnDiaYHoraDelMes5',\n",
       " 'cadaCuantasHorasHaceEventosEnSuUltimaConexionDelMes5',\n",
       " 'cadaCuantosMinutosHaceEventosEnSuUltimaConexionDelMes5',\n",
       " 'cadaCuantosSegundosHaceEventosEnSuUltimaConexionDelMes5',\n",
       " 'cadaCuantosDiasHaceConversion',\n",
       " 'cadaCuantosDiasHaceCheckout']"
      ]
     },
     "execution_count": 314,
     "metadata": {},
     "output_type": "execute_result"
    }
   ],
   "source": [
    "list(df_featuresNuevos.columns)"
   ]
  },
  {
   "cell_type": "code",
   "execution_count": 326,
   "metadata": {},
   "outputs": [],
   "source": [
    "columnasTiempo = ['person',\n",
    " 'Friday',\n",
    " 'Monday',\n",
    " 'Saturday',\n",
    " 'Sunday',\n",
    " 'Thursday',\n",
    " 'Tuesday',\n",
    " 'Wednesday',\n",
    "'primer_quincena',\n",
    " 'segunda_quincena',\n",
    "'mes_1',\n",
    " 'mes_2',\n",
    " 'mes_3',\n",
    " 'mes_4',\n",
    " 'mes_5',\n",
    "'hora_rango_0-3',\n",
    " 'hora_rango_4-7',\n",
    " 'hora_rango_8-11',\n",
    " 'hora_rango_12-15',\n",
    " 'hora_rango_16-19',\n",
    " 'hora_rango_20-23']"
   ]
  },
  {
   "cell_type": "code",
   "execution_count": 298,
   "metadata": {},
   "outputs": [
    {
     "data": {
      "text/plain": [
       "['Unnamed: 0',\n",
       " 'person',\n",
       " 'mes_1',\n",
       " 'mes_2',\n",
       " 'mes_3',\n",
       " 'mes_4',\n",
       " 'mes_5',\n",
       " 'dia_1',\n",
       " 'dia_2',\n",
       " 'dia_3',\n",
       " 'dia_4',\n",
       " 'dia_5',\n",
       " 'dia_6',\n",
       " 'dia_7',\n",
       " 'dia_8',\n",
       " 'dia_9',\n",
       " 'dia_10',\n",
       " 'dia_11',\n",
       " 'dia_12',\n",
       " 'dia_13',\n",
       " 'dia_14',\n",
       " 'dia_15',\n",
       " 'dia_16',\n",
       " 'dia_17',\n",
       " 'dia_18',\n",
       " 'dia_19',\n",
       " 'dia_20',\n",
       " 'dia_21',\n",
       " 'dia_22',\n",
       " 'dia_23',\n",
       " 'dia_24',\n",
       " 'dia_25',\n",
       " 'dia_26',\n",
       " 'dia_27',\n",
       " 'dia_28',\n",
       " 'dia_29',\n",
       " 'dia_30',\n",
       " 'dia_31',\n",
       " 'primer_quincena',\n",
       " 'segunda_quincena',\n",
       " 'Friday',\n",
       " 'Monday',\n",
       " 'Saturday',\n",
       " 'Sunday',\n",
       " 'Thursday',\n",
       " 'Tuesday',\n",
       " 'Wednesday',\n",
       " 'fin_de_semana',\n",
       " 'martes_miercoles_jueves',\n",
       " 'hora_0',\n",
       " 'hora_1',\n",
       " 'hora_2',\n",
       " 'hora_3',\n",
       " 'hora_4',\n",
       " 'hora_5',\n",
       " 'hora_6',\n",
       " 'hora_7',\n",
       " 'hora_8',\n",
       " 'hora_9',\n",
       " 'hora_10',\n",
       " 'hora_11',\n",
       " 'hora_12',\n",
       " 'hora_13',\n",
       " 'hora_14',\n",
       " 'hora_15',\n",
       " 'hora_16',\n",
       " 'hora_17',\n",
       " 'hora_18',\n",
       " 'hora_19',\n",
       " 'hora_20',\n",
       " 'hora_21',\n",
       " 'hora_22',\n",
       " 'hora_23',\n",
       " 'hora_rango_0-3',\n",
       " 'hora_rango_4-7',\n",
       " 'hora_rango_8-11',\n",
       " 'hora_rango_12-15',\n",
       " 'hora_rango_16-19',\n",
       " 'hora_rango_20-23',\n",
       " 'Morning',\n",
       " 'Afternoon',\n",
       " 'Evening',\n",
       " 'Night',\n",
       " 'minuto_0-19',\n",
       " 'minuto_20-39',\n",
       " 'minuto_40-59',\n",
       " 'semana_del_anio_21',\n",
       " 'semana_del_anio_20',\n",
       " 'semana_del_anio_22',\n",
       " 'semana_del_anio_19',\n",
       " 'semana_del_anio_18',\n",
       " 'semana_del_anio_17',\n",
       " 'semana_del_anio_16',\n",
       " 'semana_del_anio_15',\n",
       " 'semana_del_anio_14',\n",
       " 'semana_del_anio_13',\n",
       " 'dia_del_anio_149',\n",
       " 'dia_del_anio_150',\n",
       " 'dia_del_anio_151',\n",
       " 'dia_del_anio_148',\n",
       " 'dia_del_anio_142',\n",
       " 'dia_del_anio_144',\n",
       " 'dia_del_anio_143',\n",
       " 'dia_del_anio_141',\n",
       " 'dia_del_anio_136',\n",
       " 'dia_del_anio_135']"
      ]
     },
     "execution_count": 298,
     "metadata": {},
     "output_type": "execute_result"
    }
   ],
   "source": [
    "list(df_santiTime.columns)"
   ]
  },
  {
   "cell_type": "code",
   "execution_count": 304,
   "metadata": {},
   "outputs": [],
   "source": [
    "columnasEventos =  ['person',\n",
    " 'checkout_iPhone 6S',\n",
    " 'checkout_Samsung Galaxy J5',\n",
    " 'checkout_Samsung Galaxy J7 Prime',\n",
    " 'checkout_iPhone 7 Plus',\n",
    " 'checkout_iPhone 4G',\n",
    " 'checkout_Samsung Galaxy On 7',\n",
    " 'checkout_Motorola Moto X Play 4G Dual',\n",
    " 'checkout_Samsung Galaxy J7 2016 Metal',\n",
    " 'checkout_iPhone 7',\n",
    " 'checkout_Motorola Moto X2',\n",
    " 'checkout_Samsung Galaxy S7',\n",
    " 'checkout_iPhone 4S',\n",
    " 'checkout_Lenovo Vibe A7010 Dual Chip',\n",
    " 'checkout_Motorola Moto G4 Plus',\n",
    " 'checkout_iPhone 5s',\n",
    " 'viewedproduct_Cinza espacial',\n",
    " 'viewedproduct_Preto',\n",
    " 'viewedproduct_Branco',\n",
    " 'viewedproduct_Prateado',\n",
    " 'viewedproduct_Ouro Rosa',\n",
    " 'viewedproduct_Prata',\n",
    " 'viewedproduct_Rosa',\n",
    " 'viewedproduct_Dourado',\n",
    " 'viewedproduct_Azul',\n",
    " 'viewedproduct_Ametista',\n",
    " 'viewedproduct_Cinza',\n",
    " 'viewedproduct_Preto Matte',\n",
    " 'viewedproduct_Verde',\n",
    " 'viewedproduct_Vermelho',\n",
    " 'viewedproduct_Preto Brilhante',\n",
    " 'viewedproduct_128GB',\n",
    " 'viewedproduct_16GB',\n",
    " 'viewedproduct_256GB',\n",
    " 'viewedproduct_32GB',\n",
    " 'viewedproduct_4GB',\n",
    " 'viewedproduct_512MB',\n",
    " 'viewedproduct_64GB',\n",
    " 'viewedproduct_8GB',\n",
    " 'viewedproduct_Bom',\n",
    " 'viewedproduct_Bom - Sem Touch ID',\n",
    " 'viewedproduct_Excelente',\n",
    " 'viewedproduct_Muito Bom',\n",
    " 'viewedproduct_Novo',\n",
    " 'vuelve',\n",
    " 'visitedsite_Sao Paulo',\n",
    " 'visitedsite_region desconocida',\n",
    " 'visitedsite_Minas Gerais',\n",
    " 'visitedsite_Rio de Janeiro',\n",
    " 'visitedsite_Bahia',\n",
    " 'visitedsite_Pernambuco',\n",
    " 'visitedsite_Ceara',\n",
    " 'visitedsite_Parana',\n",
    " 'visitedsite_Rio Grande do Sul',\n",
    " 'visitedsite_Espirito Santo',\n",
    " 'visitedsite_Federal District',\n",
    " 'visitedsite_Maranhao',\n",
    " 'visitedsite_Goias',\n",
    " 'visitedsite_Santa Catarina',\n",
    " 'visitedsite_Para',\n",
    " 'visitedsite_Rio Grande do Norte',\n",
    " 'visitedsite_Paraíba',\n",
    " 'visitedsite_Piaui',\n",
    " 'visitedsite_Alagoas',\n",
    " 'visitedsite_Sergipe',\n",
    " 'visitedsite_Amazonas',\n",
    " 'visitedsite_Mato Grosso',\n",
    " 'visitedsite_Tocantins',\n",
    " 'visitedsite_Mato Grosso do Sul',\n",
    " 'visitedsite_Rondonia',\n",
    " 'visitedsite_Amapa',\n",
    " 'visitedsite_Acre',\n",
    " 'visitedsite_Roraima',\n",
    " 'visitedsite_Computer',\n",
    " 'visitedsite_Smartphone',\n",
    " 'visitedsite_Tablet',\n",
    " 'visitedsite_device desconocido',\n",
    " 'visitedsite_360x640',\n",
    " 'visitedsite_1366x768',\n",
    " 'visitedsite_320x570',\n",
    " 'visitedsite_1600x900',\n",
    " 'visitedsite_320x534',\n",
    " 'visitedsite_1280x1024',\n",
    " 'visitedsite_412x732',\n",
    " 'visitedsite_375x667',\n",
    " 'visitedsite_414x736',\n",
    " 'visitedsite_320x490',\n",
    " 'visitedsite_1536x864',\n",
    " 'visitedsite_320x569',\n",
    " 'visitedsite_1920x1080',\n",
    " 'visitedsite_1024x768',\n",
    " 'visitedsite_1324x745',\n",
    " 'visitedsite_Android 7',\n",
    " 'visitedsite_Windows 7 ',\n",
    " 'visitedsite_Windows 10 ',\n",
    " 'visitedsite_Android 5.1',\n",
    " 'visitedsite_Android 6.0.1',\n",
    " 'visitedsite_Android 7.1.1',\n",
    " 'visitedsite_Android 5.0.2',\n",
    " 'visitedsite_Android 6',\n",
    " 'visitedsite_Android 4.4.2',\n",
    " 'visitedsite_iOS 11.2.6',\n",
    " 'visitedsite_Windows Phone 8.1',\n",
    " 'visitedsite_Android 4.1.2',\n",
    " 'visitedsite_Windows Vista ',\n",
    " 'visitedsite_iOS 10.3.3',\n",
    " 'visitedsite_Android 8',\n",
    " 'visitedsite_Chrome Mobile 66.0',\n",
    " 'visitedsite_Chrome 65.0',\n",
    " 'visitedsite_Chrome 66.0',\n",
    " 'visitedsite_Chrome 64.0',\n",
    " 'visitedsite_Chrome 63.0',\n",
    " 'visitedsite_Chrome Mobile 65.0',\n",
    " 'visitedsite_Chrome Mobile 64.0',\n",
    " 'visitedsite_Chrome Mobile 39',\n",
    " 'visitedsite_Chrome Mobile 63.0',\n",
    " 'visitedsite_Samsung Internet 3.3',\n",
    " 'visitedsite_Samsung Internet 6.4',\n",
    " 'visitedsite_Mobile Safari 11',\n",
    " 'visitedsite_IE Mobile 11',\n",
    " 'visitedsite_Edge 16.16299',\n",
    " 'visitedsite_Chrome Mobile 36.0',\n",
    " 'adcampaignhit_rtbhouse',\n",
    " 'adcampaignhit_criteo',\n",
    " 'adcampaignhit_google',\n",
    " 'adcampaignhit_zanox',\n",
    " 'adcampaignhit_manifest',\n",
    " 'adcampaignhit_bing',\n",
    " 'adcampaignhit_afilio',\n",
    " 'adcampaignhit_buscape',\n",
    " 'adcampaignhit_rakuten',\n",
    " 'adcampaignhit_FacebookAds',\n",
    " 'adcampaignhit_indexa',\n",
    " 'adcampaignhit_datacrush',\n",
    " 'adcampaignhit_emblue',\n",
    " 'adcampaignhit_blog',\n",
    " 'adcampaignhit_yotpo']"
   ]
  },
  {
   "cell_type": "code",
   "execution_count": 330,
   "metadata": {
    "scrolled": true
   },
   "outputs": [
    {
     "name": "stdout",
     "output_type": "stream",
     "text": [
      "\n",
      "Metricas con Labels:\n",
      "\n",
      "Train accuracy:  0.8581546584250853\n",
      "Test acuracy:  0.8408447077002318\n",
      "\n",
      "Classification Report:\n",
      "              precision    recall  f1-score   support\n",
      "\n",
      "           0       0.97      0.85      0.91      3670\n",
      "           1       0.20      0.61      0.30       213\n",
      "\n",
      "   micro avg       0.84      0.84      0.84      3883\n",
      "   macro avg       0.58      0.73      0.60      3883\n",
      "weighted avg       0.93      0.84      0.88      3883\n",
      "\n",
      "\n",
      "Precision Score:  0.19548872180451127\n",
      "Recall Score:  0.6103286384976526\n",
      "F1 Score:  0.296127562642369\n",
      "Cohen Kappa Score:  0.23233964089387527\n",
      "\n",
      "Confusion matrix: \n",
      "[[3135  535]\n",
      " [  83  130]]\n",
      "\n",
      "Metricas sin Labels:\n",
      "\n",
      "ROC auc score:  0.8559184352253394\n",
      "Mean squared error:  0.14601759983542648\n"
     ]
    }
   ],
   "source": [
    "a,b = testSinSubirAKaggle(union)"
   ]
  }
 ],
 "metadata": {
  "kernelspec": {
   "display_name": "Python 3",
   "language": "python",
   "name": "python3"
  },
  "language_info": {
   "codemirror_mode": {
    "name": "ipython",
    "version": 3
   },
   "file_extension": ".py",
   "mimetype": "text/x-python",
   "name": "python",
   "nbconvert_exporter": "python",
   "pygments_lexer": "ipython3",
   "version": "3.6.5"
  }
 },
 "nbformat": 4,
 "nbformat_minor": 2
}
