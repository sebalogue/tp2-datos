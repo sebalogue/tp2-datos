{
 "cells": [
  {
   "cell_type": "markdown",
   "metadata": {},
   "source": [
    "## Aplico Algoritmos y busco mejorarlos ##\n"
   ]
  },
  {
   "cell_type": "code",
   "execution_count": 96,
   "metadata": {},
   "outputs": [
    {
     "name": "stderr",
     "output_type": "stream",
     "text": [
      "/anaconda3/lib/python3.6/site-packages/IPython/core/interactiveshell.py:2785: DtypeWarning: Columns (59) have mixed types. Specify dtype option on import or set low_memory=False.\n",
      "  interactivity=interactivity, compiler=compiler, result=result)\n"
     ]
    }
   ],
   "source": [
    "import pandas as pd\n",
    "import numpy as np\n",
    "\n",
    "from sklearn.metrics import accuracy_score\n",
    "from sklearn.metrics import confusion_matrix\n",
    "from sklearn.metrics import accuracy_score, roc_auc_score\n",
    "from sklearn.metrics import mean_squared_error\n",
    "\n",
    "from sklearn.ensemble import RandomForestClassifier\n",
    "from sklearn.datasets import make_classification\n",
    "from sklearn.neighbors import KNeighborsClassifier\n",
    "from sklearn.neighbors import DistanceMetric\n",
    "\n",
    "from sklearn.model_selection import train_test_split\n",
    "from sklearn.model_selection import GridSearchCV \n",
    "from sklearn.model_selection import KFold\n",
    "\n",
    "\n",
    "from sklearn.preprocessing import MaxAbsScaler\n",
    "from sklearn.preprocessing import StandardScaler\n",
    "\n",
    "from imblearn.over_sampling import RandomOverSampler\n",
    "\n",
    "import xgboost as xgb\n",
    "from xgboost.sklearn import XGBClassifier\n",
    "\n",
    "from sklearn import preprocessing\n",
    "\n",
    "\n",
    "tf = pd.read_csv('featuresMagui.csv')\n",
    "labels = pd.read_csv('../data/labels_training_set.csv')"
   ]
  },
  {
   "cell_type": "code",
   "execution_count": 100,
   "metadata": {},
   "outputs": [],
   "source": [
    "tf = tf.loc[:,['person','esNuevo', 'cantidadDeVisitas',\n",
    "       'ingresoPorPublicidad', 'deviceSmartphone', 'deviceComputer',\n",
    "       'deviceTablet', 'deviceUnknown', 'cantVisitasAVP', 'maniana', 'tarde',\n",
    "       'noche', 'madrugada', 'cantDirect', 'cantEmail', 'cantOrganic',\n",
    "       'cantPaid', 'cantReferral', 'cantSocial', 'cantUnknown',\n",
    "       'cantVisitasDomingo', 'cantVisitasLunes', 'cantVisitasMartes',\n",
    "       'cantVisitasMiercoles', 'cantVisitasJueves', 'cantVisitasViernes',\n",
    "       'cantVisitasSabado', 'cantidadDeEventos', 'cantAdCampaignHit',\n",
    "       'cantBandListing', 'cantCheckout', 'cantGenericListing', 'cantLead',\n",
    "       'cantSearchEngineHit', 'cantSearchedProducts', 'cantStaticpage',\n",
    "       'cantViewedProduct', 'cantVisitedSite', 'visitaALaManiana',\n",
    "       'visitaALaNoche', 'visitaALaTarde', 'visitaALaMadrugada', 'canalDirect',\n",
    "       'canalEmail', 'canalOrganic', 'canalPaid', 'canalRefferal',\n",
    "       'canalSocial', 'adCampaignHit', 'bandListing', 'checkout',\n",
    "       'genericListing', 'searchEngineHit', 'searchedProducts', 'staticpage',\n",
    "       'viewedProduct', 'visitedSite', 'lead']]"
   ]
  },
  {
   "cell_type": "code",
   "execution_count": 102,
   "metadata": {},
   "outputs": [
    {
     "data": {
      "text/html": [
       "<div>\n",
       "<style scoped>\n",
       "    .dataframe tbody tr th:only-of-type {\n",
       "        vertical-align: middle;\n",
       "    }\n",
       "\n",
       "    .dataframe tbody tr th {\n",
       "        vertical-align: top;\n",
       "    }\n",
       "\n",
       "    .dataframe thead th {\n",
       "        text-align: right;\n",
       "    }\n",
       "</style>\n",
       "<table border=\"1\" class=\"dataframe\">\n",
       "  <thead>\n",
       "    <tr style=\"text-align: right;\">\n",
       "      <th></th>\n",
       "      <th>person</th>\n",
       "      <th>esNuevo</th>\n",
       "      <th>cantidadDeVisitas</th>\n",
       "      <th>ingresoPorPublicidad</th>\n",
       "      <th>deviceSmartphone</th>\n",
       "      <th>deviceComputer</th>\n",
       "      <th>deviceTablet</th>\n",
       "      <th>deviceUnknown</th>\n",
       "      <th>cantVisitasAVP</th>\n",
       "      <th>maniana</th>\n",
       "      <th>...</th>\n",
       "      <th>adCampaignHit</th>\n",
       "      <th>bandListing</th>\n",
       "      <th>checkout</th>\n",
       "      <th>genericListing</th>\n",
       "      <th>searchEngineHit</th>\n",
       "      <th>searchedProducts</th>\n",
       "      <th>staticpage</th>\n",
       "      <th>viewedProduct</th>\n",
       "      <th>visitedSite</th>\n",
       "      <th>lead</th>\n",
       "    </tr>\n",
       "  </thead>\n",
       "  <tbody>\n",
       "    <tr>\n",
       "      <th>0</th>\n",
       "      <td>4886f805</td>\n",
       "      <td>True</td>\n",
       "      <td>1.0</td>\n",
       "      <td>4886f805</td>\n",
       "      <td>False</td>\n",
       "      <td>False</td>\n",
       "      <td>False</td>\n",
       "      <td>False</td>\n",
       "      <td>4.0</td>\n",
       "      <td>0.0</td>\n",
       "      <td>...</td>\n",
       "      <td>True</td>\n",
       "      <td>True</td>\n",
       "      <td>True</td>\n",
       "      <td>True</td>\n",
       "      <td>True</td>\n",
       "      <td>True</td>\n",
       "      <td>True</td>\n",
       "      <td>True</td>\n",
       "      <td>True</td>\n",
       "      <td>True</td>\n",
       "    </tr>\n",
       "    <tr>\n",
       "      <th>1</th>\n",
       "      <td>ad93850f</td>\n",
       "      <td>False</td>\n",
       "      <td>5.0</td>\n",
       "      <td>ad93850f</td>\n",
       "      <td>False</td>\n",
       "      <td>False</td>\n",
       "      <td>False</td>\n",
       "      <td>False</td>\n",
       "      <td>20.0</td>\n",
       "      <td>0.0</td>\n",
       "      <td>...</td>\n",
       "      <td>True</td>\n",
       "      <td>True</td>\n",
       "      <td>True</td>\n",
       "      <td>True</td>\n",
       "      <td>True</td>\n",
       "      <td>True</td>\n",
       "      <td>True</td>\n",
       "      <td>True</td>\n",
       "      <td>True</td>\n",
       "      <td>True</td>\n",
       "    </tr>\n",
       "    <tr>\n",
       "      <th>2</th>\n",
       "      <td>0297fc1e</td>\n",
       "      <td>False</td>\n",
       "      <td>95.0</td>\n",
       "      <td>0297fc1e</td>\n",
       "      <td>False</td>\n",
       "      <td>False</td>\n",
       "      <td>False</td>\n",
       "      <td>False</td>\n",
       "      <td>404.0</td>\n",
       "      <td>7.0</td>\n",
       "      <td>...</td>\n",
       "      <td>True</td>\n",
       "      <td>True</td>\n",
       "      <td>True</td>\n",
       "      <td>True</td>\n",
       "      <td>True</td>\n",
       "      <td>True</td>\n",
       "      <td>True</td>\n",
       "      <td>True</td>\n",
       "      <td>True</td>\n",
       "      <td>True</td>\n",
       "    </tr>\n",
       "    <tr>\n",
       "      <th>3</th>\n",
       "      <td>2d681dd8</td>\n",
       "      <td>False</td>\n",
       "      <td>2.0</td>\n",
       "      <td>2d681dd8</td>\n",
       "      <td>False</td>\n",
       "      <td>False</td>\n",
       "      <td>False</td>\n",
       "      <td>False</td>\n",
       "      <td>13.0</td>\n",
       "      <td>0.0</td>\n",
       "      <td>...</td>\n",
       "      <td>True</td>\n",
       "      <td>True</td>\n",
       "      <td>True</td>\n",
       "      <td>True</td>\n",
       "      <td>True</td>\n",
       "      <td>True</td>\n",
       "      <td>True</td>\n",
       "      <td>True</td>\n",
       "      <td>True</td>\n",
       "      <td>True</td>\n",
       "    </tr>\n",
       "    <tr>\n",
       "      <th>4</th>\n",
       "      <td>cccea85e</td>\n",
       "      <td>False</td>\n",
       "      <td>22.0</td>\n",
       "      <td>cccea85e</td>\n",
       "      <td>False</td>\n",
       "      <td>False</td>\n",
       "      <td>False</td>\n",
       "      <td>False</td>\n",
       "      <td>739.0</td>\n",
       "      <td>0.0</td>\n",
       "      <td>...</td>\n",
       "      <td>True</td>\n",
       "      <td>True</td>\n",
       "      <td>True</td>\n",
       "      <td>True</td>\n",
       "      <td>True</td>\n",
       "      <td>True</td>\n",
       "      <td>True</td>\n",
       "      <td>True</td>\n",
       "      <td>True</td>\n",
       "      <td>True</td>\n",
       "    </tr>\n",
       "  </tbody>\n",
       "</table>\n",
       "<p>5 rows × 58 columns</p>\n",
       "</div>"
      ],
      "text/plain": [
       "     person  esNuevo  cantidadDeVisitas ingresoPorPublicidad  \\\n",
       "0  4886f805     True                1.0             4886f805   \n",
       "1  ad93850f    False                5.0             ad93850f   \n",
       "2  0297fc1e    False               95.0             0297fc1e   \n",
       "3  2d681dd8    False                2.0             2d681dd8   \n",
       "4  cccea85e    False               22.0             cccea85e   \n",
       "\n",
       "   deviceSmartphone  deviceComputer  deviceTablet  deviceUnknown  \\\n",
       "0             False           False         False          False   \n",
       "1             False           False         False          False   \n",
       "2             False           False         False          False   \n",
       "3             False           False         False          False   \n",
       "4             False           False         False          False   \n",
       "\n",
       "   cantVisitasAVP  maniana  ...   adCampaignHit  bandListing  checkout  \\\n",
       "0             4.0      0.0  ...            True         True      True   \n",
       "1            20.0      0.0  ...            True         True      True   \n",
       "2           404.0      7.0  ...            True         True      True   \n",
       "3            13.0      0.0  ...            True         True      True   \n",
       "4           739.0      0.0  ...            True         True      True   \n",
       "\n",
       "   genericListing  searchEngineHit  searchedProducts  staticpage  \\\n",
       "0            True             True              True        True   \n",
       "1            True             True              True        True   \n",
       "2            True             True              True        True   \n",
       "3            True             True              True        True   \n",
       "4            True             True              True        True   \n",
       "\n",
       "   viewedProduct  visitedSite  lead  \n",
       "0           True         True  True  \n",
       "1           True         True  True  \n",
       "2           True         True  True  \n",
       "3           True         True  True  \n",
       "4           True         True  True  \n",
       "\n",
       "[5 rows x 58 columns]"
      ]
     },
     "execution_count": 102,
     "metadata": {},
     "output_type": "execute_result"
    }
   ],
   "source": [
    "tf.head()"
   ]
  },
  {
   "cell_type": "code",
   "execution_count": 108,
   "metadata": {},
   "outputs": [],
   "source": [
    "columnas = ['esNuevo', 'cantidadDeVisitas',\n",
    "            'deviceSmartphone', 'deviceComputer',\n",
    "       'deviceTablet', 'deviceUnknown', 'cantVisitasAVP', 'maniana', 'tarde',\n",
    "       'noche', 'madrugada', 'cantDirect', 'cantEmail', 'cantOrganic',\n",
    "       'cantPaid', 'cantReferral', 'cantSocial', 'cantUnknown',\n",
    "       'cantVisitasDomingo', 'cantVisitasLunes', 'cantVisitasMartes',\n",
    "       'cantVisitasMiercoles', 'cantVisitasJueves', 'cantVisitasViernes',\n",
    "       'cantVisitasSabado', 'cantidadDeEventos', 'cantAdCampaignHit',\n",
    "       'cantBandListing', 'cantCheckout', 'cantGenericListing', 'cantLead',\n",
    "       'cantSearchEngineHit', 'cantSearchedProducts', 'cantStaticpage',\n",
    "       'cantViewedProduct', 'cantVisitedSite', 'visitaALaMañana',\n",
    "       'visitaALaNoche', 'visitaALaTarde', 'visitaALaMadrugada', 'canalDirect',\n",
    "       'canalEmail', 'canalOrganic', 'canalPaid', 'canalRefferal',\n",
    "       'canalSocial', 'adCampaignHit', 'bandListing', 'checkout',\n",
    "       'genericListing', 'searchEngineHit', 'searchedProducts', 'staticpage',\n",
    "       'viewedProduct', 'visitedSite']"
   ]
  },
  {
   "cell_type": "code",
   "execution_count": 109,
   "metadata": {},
   "outputs": [],
   "source": [
    "labels_f = pd.merge(tf,labels, on = 'person',how = 'inner')"
   ]
  },
  {
   "cell_type": "code",
   "execution_count": 111,
   "metadata": {},
   "outputs": [
    {
     "name": "stderr",
     "output_type": "stream",
     "text": [
      "/anaconda3/lib/python3.6/site-packages/pandas/core/indexing.py:1472: FutureWarning: \n",
      "Passing list-likes to .loc or [] with any missing label will raise\n",
      "KeyError in the future, you can use .reindex() as an alternative.\n",
      "\n",
      "See the documentation here:\n",
      "https://pandas.pydata.org/pandas-docs/stable/indexing.html#deprecate-loc-reindex-listlike\n",
      "  return self._getitem_tuple(key)\n"
     ]
    }
   ],
   "source": [
    "X = labels_f.loc[:,columnas].reset_index()\n",
    "y = labels_f.loc[:,'label']"
   ]
  },
  {
   "cell_type": "code",
   "execution_count": 116,
   "metadata": {},
   "outputs": [
    {
     "name": "stdout",
     "output_type": "stream",
     "text": [
      "0.9946771978021978\n",
      "0.9541709577754892\n",
      "[[1852    3]\n",
      " [  86    1]]\n",
      "0.6343154568268426\n"
     ]
    }
   ],
   "source": [
    "X_train, X_test, y_train, y_test = train_test_split(X, y, test_size= 0.1, random_state= 123)\n",
    "xgboost(X_train, X_test, y_train, y_test)"
   ]
  },
  {
   "cell_type": "code",
   "execution_count": 115,
   "metadata": {},
   "outputs": [],
   "source": [
    "def xgboost(X_train, X_test, y_train, y_test):\n",
    "    data_dmatrix = xgb.DMatrix(data=X,label=y)\n",
    "    xg_reg = xgb.XGBClassifier(learning_rate =0.1,\n",
    "                               n_estimators=1000,\n",
    "                               max_depth=5,\n",
    "                               min_child_weight=1,\n",
    "                               gamma=0,\n",
    "                               subsample=0.8,\n",
    "                               colsample_bytree=0.8,\n",
    "                               objective= 'binary:logistic',\n",
    "                               nthread=4,\n",
    "                               scale_pos_weight=1,\n",
    "                               seed=27)\n",
    "    \n",
    "    \n",
    "    \n",
    "    xg_reg.fit(X_train,y_train)\n",
    "    preds = xg_reg.predict(X_test)\n",
    "    preds_prob = xg_reg.predict_proba(X_test)[:,1]\n",
    "    train_accuracy = accuracy_score(y_train, xg_reg.predict(X_train))\n",
    "    test_accuracy = accuracy_score(y_test, preds)\n",
    "    area_debajo_de_curva = roc_auc_score(y_test, preds_prob)\n",
    "    print(train_accuracy)\n",
    "    print(test_accuracy)\n",
    "    matriz_de_confusion = confusion_matrix(y_test, preds)\n",
    "    print(matriz_de_confusion)\n",
    "    print(area_debajo_de_curva)\n",
    "\n"
   ]
  },
  {
   "cell_type": "code",
   "execution_count": 67,
   "metadata": {},
   "outputs": [],
   "source": [
    "#labels_f = labels_f.dropna()"
   ]
  },
  {
   "cell_type": "markdown",
   "metadata": {},
   "source": []
  },
  {
   "cell_type": "markdown",
   "metadata": {},
   "source": []
  },
  {
   "cell_type": "markdown",
   "metadata": {},
   "source": [
    "Uso la transformación Max Abs Scaler"
   ]
  },
  {
   "cell_type": "markdown",
   "metadata": {},
   "source": []
  },
  {
   "cell_type": "markdown",
   "metadata": {},
   "source": [
    "## Uso overSampling ##"
   ]
  },
  {
   "cell_type": "code",
   "execution_count": 70,
   "metadata": {},
   "outputs": [
    {
     "name": "stdout",
     "output_type": "stream",
     "text": [
      "0    18434\n",
      "1      980\n",
      "Name: label, dtype: int64\n",
      "58\n"
     ]
    }
   ],
   "source": [
    "print(labels.label.value_counts())\n",
    "print(labels_f.columns.size)"
   ]
  },
  {
   "cell_type": "code",
   "execution_count": 95,
   "metadata": {},
   "outputs": [
    {
     "ename": "KeyError",
     "evalue": "'[    1     2     3 ... 19123 19124 19125] not in index'",
     "output_type": "error",
     "traceback": [
      "\u001b[0;31m---------------------------------------------------------------------------\u001b[0m",
      "\u001b[0;31mKeyError\u001b[0m                                  Traceback (most recent call last)",
      "\u001b[0;32m<ipython-input-95-50cba8c687a7>\u001b[0m in \u001b[0;36m<module>\u001b[0;34m()\u001b[0m\n\u001b[1;32m     11\u001b[0m \u001b[0mkf\u001b[0m\u001b[0;34m.\u001b[0m\u001b[0mget_n_splits\u001b[0m\u001b[0;34m(\u001b[0m\u001b[0mX\u001b[0m\u001b[0;34m,\u001b[0m\u001b[0my\u001b[0m \u001b[0;34m=\u001b[0m \u001b[0my\u001b[0m\u001b[0;34m)\u001b[0m\u001b[0;34m\u001b[0m\u001b[0m\n\u001b[1;32m     12\u001b[0m \u001b[0;32mfor\u001b[0m \u001b[0mtrain_index\u001b[0m\u001b[0;34m,\u001b[0m \u001b[0mtest_index\u001b[0m \u001b[0;32min\u001b[0m \u001b[0mkf\u001b[0m\u001b[0;34m.\u001b[0m\u001b[0msplit\u001b[0m\u001b[0;34m(\u001b[0m\u001b[0mX\u001b[0m\u001b[0;34m)\u001b[0m\u001b[0;34m:\u001b[0m\u001b[0;34m\u001b[0m\u001b[0m\n\u001b[0;32m---> 13\u001b[0;31m     \u001b[0mX_train\u001b[0m\u001b[0;34m,\u001b[0m \u001b[0mX_test\u001b[0m \u001b[0;34m=\u001b[0m \u001b[0mX\u001b[0m\u001b[0;34m[\u001b[0m\u001b[0mtrain_index\u001b[0m\u001b[0;34m]\u001b[0m\u001b[0;34m,\u001b[0m \u001b[0mX\u001b[0m\u001b[0;34m[\u001b[0m\u001b[0mtest_index\u001b[0m\u001b[0;34m]\u001b[0m\u001b[0;34m\u001b[0m\u001b[0m\n\u001b[0m\u001b[1;32m     14\u001b[0m     \u001b[0my_train\u001b[0m\u001b[0;34m,\u001b[0m \u001b[0my_test\u001b[0m \u001b[0;34m=\u001b[0m \u001b[0my\u001b[0m\u001b[0;34m[\u001b[0m\u001b[0mtrain_index\u001b[0m\u001b[0;34m]\u001b[0m\u001b[0;34m,\u001b[0m \u001b[0my\u001b[0m\u001b[0;34m[\u001b[0m\u001b[0mtest_index\u001b[0m\u001b[0;34m]\u001b[0m\u001b[0;34m\u001b[0m\u001b[0m\n\u001b[1;32m     15\u001b[0m     \u001b[0mxgboost_aplicar\u001b[0m\u001b[0;34m(\u001b[0m\u001b[0mX_train\u001b[0m\u001b[0;34m,\u001b[0m \u001b[0my_train\u001b[0m\u001b[0;34m,\u001b[0m \u001b[0mX_tests\u001b[0m\u001b[0;34m,\u001b[0m \u001b[0my_tests\u001b[0m\u001b[0;34m)\u001b[0m\u001b[0;34m\u001b[0m\u001b[0m\n",
      "\u001b[0;32m/anaconda3/lib/python3.6/site-packages/pandas/core/frame.py\u001b[0m in \u001b[0;36m__getitem__\u001b[0;34m(self, key)\u001b[0m\n\u001b[1;32m   2677\u001b[0m         \u001b[0;32mif\u001b[0m \u001b[0misinstance\u001b[0m\u001b[0;34m(\u001b[0m\u001b[0mkey\u001b[0m\u001b[0;34m,\u001b[0m \u001b[0;34m(\u001b[0m\u001b[0mSeries\u001b[0m\u001b[0;34m,\u001b[0m \u001b[0mnp\u001b[0m\u001b[0;34m.\u001b[0m\u001b[0mndarray\u001b[0m\u001b[0;34m,\u001b[0m \u001b[0mIndex\u001b[0m\u001b[0;34m,\u001b[0m \u001b[0mlist\u001b[0m\u001b[0;34m)\u001b[0m\u001b[0;34m)\u001b[0m\u001b[0;34m:\u001b[0m\u001b[0;34m\u001b[0m\u001b[0m\n\u001b[1;32m   2678\u001b[0m             \u001b[0;31m# either boolean or fancy integer index\u001b[0m\u001b[0;34m\u001b[0m\u001b[0;34m\u001b[0m\u001b[0m\n\u001b[0;32m-> 2679\u001b[0;31m             \u001b[0;32mreturn\u001b[0m \u001b[0mself\u001b[0m\u001b[0;34m.\u001b[0m\u001b[0m_getitem_array\u001b[0m\u001b[0;34m(\u001b[0m\u001b[0mkey\u001b[0m\u001b[0;34m)\u001b[0m\u001b[0;34m\u001b[0m\u001b[0m\n\u001b[0m\u001b[1;32m   2680\u001b[0m         \u001b[0;32melif\u001b[0m \u001b[0misinstance\u001b[0m\u001b[0;34m(\u001b[0m\u001b[0mkey\u001b[0m\u001b[0;34m,\u001b[0m \u001b[0mDataFrame\u001b[0m\u001b[0;34m)\u001b[0m\u001b[0;34m:\u001b[0m\u001b[0;34m\u001b[0m\u001b[0m\n\u001b[1;32m   2681\u001b[0m             \u001b[0;32mreturn\u001b[0m \u001b[0mself\u001b[0m\u001b[0;34m.\u001b[0m\u001b[0m_getitem_frame\u001b[0m\u001b[0;34m(\u001b[0m\u001b[0mkey\u001b[0m\u001b[0;34m)\u001b[0m\u001b[0;34m\u001b[0m\u001b[0m\n",
      "\u001b[0;32m/anaconda3/lib/python3.6/site-packages/pandas/core/frame.py\u001b[0m in \u001b[0;36m_getitem_array\u001b[0;34m(self, key)\u001b[0m\n\u001b[1;32m   2721\u001b[0m             \u001b[0;32mreturn\u001b[0m \u001b[0mself\u001b[0m\u001b[0;34m.\u001b[0m\u001b[0m_take\u001b[0m\u001b[0;34m(\u001b[0m\u001b[0mindexer\u001b[0m\u001b[0;34m,\u001b[0m \u001b[0maxis\u001b[0m\u001b[0;34m=\u001b[0m\u001b[0;36m0\u001b[0m\u001b[0;34m)\u001b[0m\u001b[0;34m\u001b[0m\u001b[0m\n\u001b[1;32m   2722\u001b[0m         \u001b[0;32melse\u001b[0m\u001b[0;34m:\u001b[0m\u001b[0;34m\u001b[0m\u001b[0m\n\u001b[0;32m-> 2723\u001b[0;31m             \u001b[0mindexer\u001b[0m \u001b[0;34m=\u001b[0m \u001b[0mself\u001b[0m\u001b[0;34m.\u001b[0m\u001b[0mloc\u001b[0m\u001b[0;34m.\u001b[0m\u001b[0m_convert_to_indexer\u001b[0m\u001b[0;34m(\u001b[0m\u001b[0mkey\u001b[0m\u001b[0;34m,\u001b[0m \u001b[0maxis\u001b[0m\u001b[0;34m=\u001b[0m\u001b[0;36m1\u001b[0m\u001b[0;34m)\u001b[0m\u001b[0;34m\u001b[0m\u001b[0m\n\u001b[0m\u001b[1;32m   2724\u001b[0m             \u001b[0;32mreturn\u001b[0m \u001b[0mself\u001b[0m\u001b[0;34m.\u001b[0m\u001b[0m_take\u001b[0m\u001b[0;34m(\u001b[0m\u001b[0mindexer\u001b[0m\u001b[0;34m,\u001b[0m \u001b[0maxis\u001b[0m\u001b[0;34m=\u001b[0m\u001b[0;36m1\u001b[0m\u001b[0;34m)\u001b[0m\u001b[0;34m\u001b[0m\u001b[0m\n\u001b[1;32m   2725\u001b[0m \u001b[0;34m\u001b[0m\u001b[0m\n",
      "\u001b[0;32m/anaconda3/lib/python3.6/site-packages/pandas/core/indexing.py\u001b[0m in \u001b[0;36m_convert_to_indexer\u001b[0;34m(self, obj, axis, is_setter)\u001b[0m\n\u001b[1;32m   1325\u001b[0m                 \u001b[0;32mif\u001b[0m \u001b[0mmask\u001b[0m\u001b[0;34m.\u001b[0m\u001b[0many\u001b[0m\u001b[0;34m(\u001b[0m\u001b[0;34m)\u001b[0m\u001b[0;34m:\u001b[0m\u001b[0;34m\u001b[0m\u001b[0m\n\u001b[1;32m   1326\u001b[0m                     raise KeyError('{mask} not in index'\n\u001b[0;32m-> 1327\u001b[0;31m                                    .format(mask=objarr[mask]))\n\u001b[0m\u001b[1;32m   1328\u001b[0m \u001b[0;34m\u001b[0m\u001b[0m\n\u001b[1;32m   1329\u001b[0m                 \u001b[0;32mreturn\u001b[0m \u001b[0mcom\u001b[0m\u001b[0;34m.\u001b[0m\u001b[0m_values_from_object\u001b[0m\u001b[0;34m(\u001b[0m\u001b[0mindexer\u001b[0m\u001b[0;34m)\u001b[0m\u001b[0;34m\u001b[0m\u001b[0m\n",
      "\u001b[0;31mKeyError\u001b[0m: '[    1     2     3 ... 19123 19124 19125] not in index'"
     ]
    }
   ],
   "source": [
    "X = labels_f.loc[:,columnas].reset_index()\n",
    "\n",
    "\n",
    "\n",
    "y = labels_f.loc[:,'label']\n",
    "\n",
    "\n",
    "#X_train, X_test, y_train, y_test = train_test_split(X, y, test_size= 0.1, random_state= 1300)\n",
    "kf = KFold(3, True, 1)\n",
    "#kf = KFold(n_splits=2)\n",
    "\n",
    "for train_index, test_index in kf.split(X):\n",
    "    X_train, X_test = X[train_index], X[test_index]\n",
    "    y_train, y_test = y[train_index], y[test_index]\n",
    "    xgboost_aplicar(X_train, y_train, X_tests, y_tests)\n",
    "    "
   ]
  },
  {
   "cell_type": "code",
   "execution_count": 79,
   "metadata": {},
   "outputs": [],
   "source": []
  },
  {
   "cell_type": "code",
   "execution_count": null,
   "metadata": {},
   "outputs": [],
   "source": []
  },
  {
   "cell_type": "code",
   "execution_count": 80,
   "metadata": {},
   "outputs": [
    {
     "name": "stdout",
     "output_type": "stream",
     "text": [
      "<class 'pandas.core.frame.DataFrame'>\n",
      "RangeIndex: 32674 entries, 0 to 32673\n",
      "Data columns (total 56 columns):\n",
      "esNuevo                 32674 non-null float32\n",
      "cantidadDeVisitas       32674 non-null float32\n",
      "ingresoPorPublicidad    32674 non-null float32\n",
      "deviceSmartphone        32674 non-null float32\n",
      "deviceComputer          32674 non-null float32\n",
      "deviceTablet            32674 non-null float32\n",
      "deviceUnknown           32674 non-null float32\n",
      "cantVisitasAVP          32674 non-null float32\n",
      "maniana                 32674 non-null float32\n",
      "tarde                   32674 non-null float32\n",
      "noche                   32674 non-null float32\n",
      "madrugada               32674 non-null float32\n",
      "cantDirect              32674 non-null float32\n",
      "cantEmail               32674 non-null float32\n",
      "cantOrganic             32674 non-null float32\n",
      "cantPaid                32674 non-null float32\n",
      "cantReferral            32674 non-null float32\n",
      "cantSocial              32674 non-null float32\n",
      "cantUnknown             32674 non-null float32\n",
      "cantVisitasDomingo      32674 non-null float32\n",
      "cantVisitasLunes        32674 non-null float32\n",
      "cantVisitasMartes       32674 non-null float32\n",
      "cantVisitasMiercoles    32674 non-null float32\n",
      "cantVisitasJueves       32674 non-null float32\n",
      "cantVisitasViernes      32674 non-null float32\n",
      "cantVisitasSabado       32674 non-null float32\n",
      "cantidadDeEventos       32674 non-null float32\n",
      "cantAdCampaignHit       32674 non-null float32\n",
      "cantBandListing         32674 non-null float32\n",
      "cantCheckout            32674 non-null float32\n",
      "cantGenericListing      32674 non-null float32\n",
      "cantLead                32674 non-null float32\n",
      "cantSearchEngineHit     32674 non-null float32\n",
      "cantSearchedProducts    32674 non-null float32\n",
      "cantStaticpage          32674 non-null float32\n",
      "cantViewedProduct       32674 non-null float32\n",
      "cantVisitedSite         32674 non-null float32\n",
      "visitaALaMañana         32674 non-null float32\n",
      "visitaALaNoche          32674 non-null float32\n",
      "visitaALaTarde          32674 non-null float32\n",
      "visitaALaMadrugada      32674 non-null float32\n",
      "canalDirect             32674 non-null float32\n",
      "canalEmail              32674 non-null float32\n",
      "canalOrganic            32674 non-null float32\n",
      "canalPaid               32674 non-null float32\n",
      "canalRefferal           32674 non-null float32\n",
      "canalSocial             32674 non-null float32\n",
      "adCampaignHit           32674 non-null float32\n",
      "bandListing             32674 non-null float32\n",
      "checkout                32674 non-null float32\n",
      "genericListing          32674 non-null float32\n",
      "searchEngineHit         32674 non-null float32\n",
      "searchedProducts        32674 non-null float32\n",
      "staticpage              32674 non-null float32\n",
      "viewedProduct           32674 non-null float32\n",
      "visitedSite             32674 non-null float32\n",
      "dtypes: float32(56)\n",
      "memory usage: 7.0 MB\n",
      "None\n"
     ]
    }
   ],
   "source": []
  },
  {
   "cell_type": "code",
   "execution_count": 92,
   "metadata": {},
   "outputs": [],
   "source": [
    "def xgboost_aplicar(X_train_res_df, y_train_res, X_tests, y_tests):\n",
    "    data_dmatrix = xgb.DMatrix(data=X,label=y)\n",
    "\n",
    "    xg_reg = xgb.XGBClassifier(learning_rate =0.1,\n",
    " n_estimators=1000,\n",
    " max_depth=5,\n",
    " min_child_weight=1,\n",
    " gamma=0,\n",
    " subsample=0.8,\n",
    " colsample_bytree=0.8,\n",
    " objective= 'binary:logistic',\n",
    " nthread=4,\n",
    " scale_pos_weight=1,\n",
    " seed=27)\n",
    "\n",
    "\n",
    "\n",
    "    xg_reg.fit(X_train_res_df,y_train_res)\n",
    "\n",
    "    preds = xg_reg.predict(X_test)\n",
    "    preds_prob = xg_reg.predict_proba(X_test)[:,1]\n",
    "    train_accuracy = accuracy_score(y_train_res, xg_reg.predict(X_train_res_df))\n",
    "    test_accuracy = accuracy_score(y_test, preds)\n",
    "    area_debajo_de_curva = roc_auc_score(y_test, preds_prob)\n",
    "\n",
    "    print(train_accuracy)\n",
    "       \n",
    "    print(test_accuracy)\n",
    "    matriz_de_confusion = confusion_matrix(y_test, preds)\n",
    "    print(matriz_de_confusion)\n",
    "    print(area_debajo_de_curva)\n",
    "\n"
   ]
  },
  {
   "cell_type": "code",
   "execution_count": null,
   "metadata": {},
   "outputs": [],
   "source": [
    "\n",
    "X = labels_f.loc[:,['esNuevo', 'cantidadDeVisitas',\n",
    "       'ingresoPorPublicidad', 'deviceSmartphone', 'deviceComputer',\n",
    "       'deviceTablet', 'deviceUnknown', 'cantVisitasAVP', 'maniana', 'tarde',\n",
    "       'noche', 'madrugada', 'cantDirect', 'cantEmail', 'cantOrganic',\n",
    "       'cantPaid', 'cantReferral', 'cantSocial', 'cantUnknown',\n",
    "       'cantVisitasDomingo', 'cantVisitasLunes', 'cantVisitasMartes',\n",
    "       'cantVisitasMiercoles', 'cantVisitasJueves', 'cantVisitasViernes',\n",
    "       'cantVisitasSabado', 'cantidadDeEventos', 'cantAdCampaignHit',\n",
    "       'cantBandListing', 'cantCheckout', 'cantGenericListing', 'cantLead',\n",
    "       'cantSearchEngineHit', 'cantSearchedProducts', 'cantStaticpage',\n",
    "       'cantViewedProduct', 'cantVisitedSite', 'visitaALaMañana',\n",
    "       'visitaALaNoche', 'visitaALaTarde', 'visitaALaMadrugada', 'canalDirect',\n",
    "       'canalEmail', 'canalOrganic', 'canalPaid', 'canalRefferal',\n",
    "       'canalSocial', 'adCampaignHit', 'bandListing', 'checkout',\n",
    "       'genericListing', 'searchEngineHit', 'searchedProducts', 'staticpage',\n",
    "       'viewedProduct', 'visitedSite']]\n",
    "\n",
    "y = labels_f.loc[:,'label']\n",
    "kfold = KFold(3, True, 1)\n",
    "for X_train, x_test in kfold.split(data):\n",
    "    \n",
    "    ros = RandomOverSampler(random_state=2)\n",
    "    X_train_res, y_train_res = ros.fit_sample(X_train, y_train)\n",
    "\n",
    "    X_train_res_df = pd.DataFrame(X_train_res)\n",
    "    X_train_res_df.columns = X_test.columns\n",
    "\n",
    "    scaler = StandardScaler()\n",
    "    transformer = scaler.fit(X_train_res_df)\n",
    "    X_train_res_df = transformer.transform(X_train_res_df)\n",
    "\n",
    "    X_train_res_df = pd.DataFrame(X_train_res)\n",
    "    X_train_res_df.columns = X_test.columns\n",
    "    print('train: %s, test: %s' % (data[train], data[test]))"
   ]
  },
  {
   "cell_type": "code",
   "execution_count": null,
   "metadata": {},
   "outputs": [],
   "source": []
  },
  {
   "cell_type": "code",
   "execution_count": 78,
   "metadata": {},
   "outputs": [
    {
     "name": "stderr",
     "output_type": "stream",
     "text": [
      "/anaconda3/lib/python3.6/site-packages/sklearn/preprocessing/data.py:625: DataConversionWarning: Data with input dtype object were all converted to float64 by StandardScaler.\n",
      "  return self.partial_fit(X, y)\n",
      "/anaconda3/lib/python3.6/site-packages/ipykernel_launcher.py:32: DataConversionWarning: Data with input dtype object were all converted to float64 by StandardScaler.\n"
     ]
    }
   ],
   "source": [
    "\n",
    "\n",
    "\n"
   ]
  },
  {
   "cell_type": "code",
   "execution_count": 79,
   "metadata": {},
   "outputs": [],
   "source": [
    "X_train_res_df =X_train_res_df[['esNuevo', 'cantidadDeVisitas', 'ingresoPorPublicidad',\n",
    "       'deviceSmartphone', 'deviceComputer', 'deviceTablet', 'deviceUnknown',\n",
    "       'cantVisitasAVP', 'maniana', 'tarde', 'noche', 'madrugada',\n",
    "       'cantDirect', 'cantEmail', 'cantOrganic', 'cantPaid', 'cantReferral',\n",
    "       'cantSocial', 'cantUnknown', 'cantVisitasDomingo', 'cantVisitasLunes',\n",
    "       'cantVisitasMartes', 'cantVisitasMiercoles', 'cantVisitasJueves',\n",
    "       'cantVisitasViernes', 'cantVisitasSabado', 'cantidadDeEventos',\n",
    "       'cantAdCampaignHit', 'cantBandListing', 'cantCheckout',\n",
    "       'cantGenericListing', 'cantLead', 'cantSearchEngineHit',\n",
    "       'cantSearchedProducts', 'cantStaticpage', 'cantViewedProduct',\n",
    "       'cantVisitedSite', 'visitaALaMañana', 'visitaALaNoche',\n",
    "       'visitaALaTarde', 'visitaALaMadrugada', 'canalDirect', 'canalEmail',\n",
    "       'canalOrganic', 'canalPaid', 'canalRefferal', 'canalSocial',\n",
    "       'adCampaignHit', 'bandListing', 'checkout', 'genericListing',\n",
    "       'searchEngineHit', 'searchedProducts', 'staticpage', 'viewedProduct',\n",
    "       'visitedSite']].astype('float32')"
   ]
  },
  {
   "cell_type": "code",
   "execution_count": null,
   "metadata": {},
   "outputs": [],
   "source": []
  },
  {
   "cell_type": "code",
   "execution_count": null,
   "metadata": {},
   "outputs": [],
   "source": [
    "\n",
    "  \n",
    "for i in range(0,4):\n",
    "    ros = RandomOverSampler(random_state=2)\n",
    "    X_train_res, y_train_res = ros.fit_sample(X_train[i], y_train[i])\n",
    "\n",
    "    X_train_res_df = pd.DataFrame(X_train_res)\n",
    "    X_train_res_df.columns = X_test.columns\n",
    "\n",
    "    scaler = StandardScaler()\n",
    "    transformer = scaler.fit(X_train_res_df)\n",
    "    X_train_res_df = transformer.transform(X_train_res_df)\n",
    "\n",
    "    X_train_res_df = pd.DataFrame(X_train_res)\n",
    "    X_train_res_df.columns = X_test.columns\n",
    "    X_train_res_df =X_train_res_df[columnas].astype('float32')"
   ]
  },
  {
   "cell_type": "code",
   "execution_count": null,
   "metadata": {},
   "outputs": [],
   "source": [
    "\n",
    "\n",
    "\n",
    "\n",
    "\n"
   ]
  },
  {
   "cell_type": "code",
   "execution_count": null,
   "metadata": {},
   "outputs": [],
   "source": []
  }
 ],
 "metadata": {
  "kernelspec": {
   "display_name": "Python 3",
   "language": "python",
   "name": "python3"
  },
  "language_info": {
   "codemirror_mode": {
    "name": "ipython",
    "version": 3
   },
   "file_extension": ".py",
   "mimetype": "text/x-python",
   "name": "python",
   "nbconvert_exporter": "python",
   "pygments_lexer": "ipython3",
   "version": "3.6.5"
  }
 },
 "nbformat": 4,
 "nbformat_minor": 2
}
