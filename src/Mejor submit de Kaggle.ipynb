{
 "cells": [
  {
   "cell_type": "markdown",
   "metadata": {},
   "source": [
    "## Imports"
   ]
  },
  {
   "cell_type": "code",
   "execution_count": 18,
   "metadata": {
    "scrolled": false
   },
   "outputs": [],
   "source": [
    "\n",
    "import pandas as pd\n",
    "import numpy as np\n",
    "\n",
    "from sklearn.metrics import accuracy_score, confusion_matrix, accuracy_score, roc_auc_score, cohen_kappa_score\n",
    "from sklearn.metrics import mean_squared_error, classification_report\n",
    "\n",
    "from sklearn.model_selection import train_test_split\n",
    "\n",
    "from imblearn.over_sampling import RandomOverSampler\n",
    "from imblearn.under_sampling import RandomUnderSampler\n",
    "\n",
    "import xgboost as xgb\n",
    "from xgboost.sklearn import XGBClassifier"
   ]
  },
  {
   "cell_type": "markdown",
   "metadata": {},
   "source": [
    "## Se cargan los csv"
   ]
  },
  {
   "cell_type": "code",
   "execution_count": 11,
   "metadata": {},
   "outputs": [],
   "source": [
    "df_featuresMagui = pd.read_csv('featuresMagui.csv')\n",
    "df_featuresSeba = pd.read_csv('features_seba.csv')\n",
    "df_featuresSanti = pd.read_csv('santi_timefeatures.csv')\n",
    "df_featuresSanti2 = pd.read_csv('Santi_FeaturesConEventos.csv')\n",
    "labels = pd.read_csv('../../data/labels_training_set.csv') # Las personas de las cuales tengo Info\n",
    "personas = pd.read_csv('../../data/trocafone_kaggle_test.csv') # Las personas a las que le tengo que predecir"
   ]
  },
  {
   "cell_type": "markdown",
   "metadata": {},
   "source": [
    "## Set de entrenamiento y set para predecir"
   ]
  },
  {
   "cell_type": "code",
   "execution_count": 12,
   "metadata": {},
   "outputs": [],
   "source": [
    "#Datos a entregar\n",
    "df_train = pd.merge(df_featuresSanti2,df_featuresSeba, on = 'person',how = 'inner')\n",
    "datos = pd.merge(personas, df_train, on = 'person', how = 'inner')"
   ]
  },
  {
   "cell_type": "markdown",
   "metadata": {},
   "source": [
    "## Set de entrenamiento"
   ]
  },
  {
   "cell_type": "code",
   "execution_count": 13,
   "metadata": {},
   "outputs": [],
   "source": [
    "#Datos para entrenar\n",
    "df_trainConLabels = pd.merge(labels, df_train, on = 'person', how = 'inner')\n",
    "\n",
    "y = df_trainConLabels.iloc[:,1:2]\n",
    "X = df_trainConLabels.iloc[:,3: 406]"
   ]
  },
  {
   "cell_type": "markdown",
   "metadata": {},
   "source": [
    "## Seleccion de features con RFE"
   ]
  },
  {
   "cell_type": "code",
   "execution_count": 14,
   "metadata": {},
   "outputs": [],
   "source": [
    "from sklearn.feature_selection import RFE\n",
    "\n",
    "#Instanciamos el regresor de XGBoost\n",
    "model = xgb.XGBClassifier(objective ='binary:logistic', \n",
    "                colsample_bytree = 0.8, learning_rate = 0.1,\n",
    "                max_depth = 5, n_estimators = 6, scale_pos_weight = 7, min_child_weight=15)\n",
    "\n",
    "n = 43\n",
    "rfe = RFE(model, n)\n",
    "rfe = rfe.fit(X, y['label'].ravel())\n",
    "   \n",
    "# Selecciono los n features para entrenar\n",
    "\n",
    "mask = rfe.get_support()\n",
    "features_X = X.columns[mask]\n",
    "new_x = X.filter(items=features_X)"
   ]
  },
  {
   "cell_type": "markdown",
   "metadata": {},
   "source": [
    "## Entrenamiento y prediccion"
   ]
  },
  {
   "cell_type": "code",
   "execution_count": 19,
   "metadata": {},
   "outputs": [
    {
     "name": "stdout",
     "output_type": "stream",
     "text": [
      "\n",
      "Metricas con Labels:\n",
      "\n",
      "Train accuracy:  0.902066834073788\n",
      "Test acuracy:  0.8980169971671388\n",
      "\n",
      "Classification Report:\n",
      "              precision    recall  f1-score   support\n",
      "\n",
      "           0       0.97      0.92      0.94      3692\n",
      "           1       0.24      0.50      0.32       191\n",
      "\n",
      "   micro avg       0.90      0.90      0.90      3883\n",
      "   macro avg       0.61      0.71      0.63      3883\n",
      "weighted avg       0.94      0.90      0.91      3883\n",
      "\n",
      "\n",
      "Cohen Kappa Score:  0.2762375808877936\n",
      "\n",
      "Confusion matrix: \n",
      "[[3392  300]\n",
      " [  96   95]]\n",
      "\n",
      "Metricas sin Labels:\n",
      "\n",
      "ROC auc score:  0.8710343008514235\n",
      "Mean squared error:  0.13671487809063365\n"
     ]
    }
   ],
   "source": [
    "X_train, X_test, y_train, y_test = train_test_split(new_x, y['label'], test_size=0.2, random_state=123)\n",
    "\n",
    "model.fit(X_train,y_train)\n",
    "\n",
    "predsProba = model.predict_proba(X_test)[:,1]\n",
    "predsLabel = pd.Series(model.predict(X_test))\n",
    "\n",
    "trainAccuracy = accuracy_score(y_train, pd.Series(model.predict(X_train)))\n",
    "testAccuracy = accuracy_score(y_test, predsLabel)\n",
    "\n",
    "cohenKappaScore = cohen_kappa_score(y_test, predsLabel)\n",
    "classificationReport = classification_report(y_test, predsLabel)\n",
    "matrizDeConfusion = confusion_matrix(y_test, predsLabel)\n",
    "\n",
    "meanSquaredError = mean_squared_error(y_test, predsProba)\n",
    "areaDebajoDeCurva = roc_auc_score(y_test, predsProba)\n",
    "\n",
    "# Metricas con LABELS.\n",
    "\n",
    "print()\n",
    "print(\"Metricas con Labels:\")\n",
    "print()\n",
    "\n",
    "print(\"Train accuracy: \", trainAccuracy)\n",
    "print(\"Test acuracy: \", testAccuracy)\n",
    "print()\n",
    "print(\"Classification Report:\")\n",
    "print(classificationReport)\n",
    "print()\n",
    "print(\"Cohen Kappa Score: \",cohenKappaScore)\n",
    "print()\n",
    "print(\"Confusion matrix: \")\n",
    "print(matrizDeConfusion)\n",
    "\n",
    "# Metricas con PROBABILIDADES. \n",
    "\n",
    "print()\n",
    "print(\"Metricas sin Labels:\")\n",
    "print()\n",
    "\n",
    "print(\"ROC auc score: \", areaDebajoDeCurva)\n",
    "print(\"Mean squared error: \", meanSquaredError)\n",
    "\n",
    "# con df_featuresSanti2,df_featuresSeba, y n=43 me da 0.8626966186972823 (Filtrando X) ESTE SUBI A KAGGLE Y DIO 0.86148"
   ]
  },
  {
   "cell_type": "markdown",
   "metadata": {},
   "source": [
    "## Para subir a Kaggle"
   ]
  },
  {
   "cell_type": "code",
   "execution_count": 26,
   "metadata": {},
   "outputs": [
    {
     "data": {
      "text/plain": [
       "XGBClassifier(base_score=0.5, booster='gbtree', colsample_bylevel=1,\n",
       "       colsample_bytree=0.8, gamma=0, learning_rate=0.1, max_delta_step=0,\n",
       "       max_depth=5, min_child_weight=15, missing=None, n_estimators=6,\n",
       "       n_jobs=1, nthread=None, objective='binary:logistic', random_state=0,\n",
       "       reg_alpha=0, reg_lambda=1, scale_pos_weight=7, seed=None,\n",
       "       silent=True, subsample=1)"
      ]
     },
     "execution_count": 26,
     "metadata": {},
     "output_type": "execute_result"
    }
   ],
   "source": [
    "model = xgb.XGBClassifier(objective ='binary:logistic', \n",
    "                colsample_bytree = 0.8, learning_rate = 0.1,\n",
    "                max_depth = 5, n_estimators = 6, scale_pos_weight = 7, min_child_weight=15)\n",
    "\n",
    "model.fit(new_x,y['label'])"
   ]
  },
  {
   "cell_type": "code",
   "execution_count": 27,
   "metadata": {},
   "outputs": [
    {
     "data": {
      "text/html": [
       "<div>\n",
       "<style scoped>\n",
       "    .dataframe tbody tr th:only-of-type {\n",
       "        vertical-align: middle;\n",
       "    }\n",
       "\n",
       "    .dataframe tbody tr th {\n",
       "        vertical-align: top;\n",
       "    }\n",
       "\n",
       "    .dataframe thead th {\n",
       "        text-align: right;\n",
       "    }\n",
       "</style>\n",
       "<table border=\"1\" class=\"dataframe\">\n",
       "  <thead>\n",
       "    <tr style=\"text-align: right;\">\n",
       "      <th></th>\n",
       "      <th>person</th>\n",
       "      <th>brand listing</th>\n",
       "      <th>checkout</th>\n",
       "      <th>conversion</th>\n",
       "      <th>generic listing</th>\n",
       "      <th>lead</th>\n",
       "      <th>search engine hit</th>\n",
       "      <th>searched products</th>\n",
       "      <th>staticpage</th>\n",
       "      <th>viewed product</th>\n",
       "      <th>...</th>\n",
       "      <th>conversion mes 5</th>\n",
       "      <th>searched products mes 5</th>\n",
       "      <th>viewed product mes 5</th>\n",
       "      <th>dias_hasta_ultimo</th>\n",
       "      <th>viewed product mes 4</th>\n",
       "      <th>distan_dias</th>\n",
       "      <th>cant_dias_dist</th>\n",
       "      <th>modelos_dist</th>\n",
       "      <th>promedio_por_dia_x</th>\n",
       "      <th>promedio_por_mes</th>\n",
       "    </tr>\n",
       "  </thead>\n",
       "  <tbody>\n",
       "    <tr>\n",
       "      <th>0</th>\n",
       "      <td>4886f805</td>\n",
       "      <td>0.0</td>\n",
       "      <td>1.0</td>\n",
       "      <td>0.0</td>\n",
       "      <td>1.0</td>\n",
       "      <td>0.0</td>\n",
       "      <td>1.0</td>\n",
       "      <td>1.0</td>\n",
       "      <td>0.0</td>\n",
       "      <td>4.0</td>\n",
       "      <td>...</td>\n",
       "      <td>0.0</td>\n",
       "      <td>1.0</td>\n",
       "      <td>4.0</td>\n",
       "      <td>13</td>\n",
       "      <td>0.0</td>\n",
       "      <td>0</td>\n",
       "      <td>1</td>\n",
       "      <td>1</td>\n",
       "      <td>9.000000</td>\n",
       "      <td>9.0</td>\n",
       "    </tr>\n",
       "    <tr>\n",
       "      <th>1</th>\n",
       "      <td>0297fc1e</td>\n",
       "      <td>4.0</td>\n",
       "      <td>7.0</td>\n",
       "      <td>0.0</td>\n",
       "      <td>21.0</td>\n",
       "      <td>1.0</td>\n",
       "      <td>0.0</td>\n",
       "      <td>6.0</td>\n",
       "      <td>0.0</td>\n",
       "      <td>404.0</td>\n",
       "      <td>...</td>\n",
       "      <td>0.0</td>\n",
       "      <td>0.0</td>\n",
       "      <td>133.0</td>\n",
       "      <td>3</td>\n",
       "      <td>100.0</td>\n",
       "      <td>138</td>\n",
       "      <td>59</td>\n",
       "      <td>15</td>\n",
       "      <td>9.610169</td>\n",
       "      <td>113.4</td>\n",
       "    </tr>\n",
       "    <tr>\n",
       "      <th>2</th>\n",
       "      <td>2d681dd8</td>\n",
       "      <td>5.0</td>\n",
       "      <td>1.0</td>\n",
       "      <td>0.0</td>\n",
       "      <td>1.0</td>\n",
       "      <td>0.0</td>\n",
       "      <td>2.0</td>\n",
       "      <td>1.0</td>\n",
       "      <td>0.0</td>\n",
       "      <td>13.0</td>\n",
       "      <td>...</td>\n",
       "      <td>0.0</td>\n",
       "      <td>1.0</td>\n",
       "      <td>13.0</td>\n",
       "      <td>4</td>\n",
       "      <td>0.0</td>\n",
       "      <td>9</td>\n",
       "      <td>2</td>\n",
       "      <td>3</td>\n",
       "      <td>13.000000</td>\n",
       "      <td>26.0</td>\n",
       "    </tr>\n",
       "    <tr>\n",
       "      <th>3</th>\n",
       "      <td>cccea85e</td>\n",
       "      <td>7.0</td>\n",
       "      <td>1.0</td>\n",
       "      <td>0.0</td>\n",
       "      <td>20.0</td>\n",
       "      <td>0.0</td>\n",
       "      <td>26.0</td>\n",
       "      <td>1.0</td>\n",
       "      <td>5.0</td>\n",
       "      <td>739.0</td>\n",
       "      <td>...</td>\n",
       "      <td>0.0</td>\n",
       "      <td>1.0</td>\n",
       "      <td>739.0</td>\n",
       "      <td>0</td>\n",
       "      <td>0.0</td>\n",
       "      <td>23</td>\n",
       "      <td>13</td>\n",
       "      <td>57</td>\n",
       "      <td>64.307692</td>\n",
       "      <td>836.0</td>\n",
       "    </tr>\n",
       "    <tr>\n",
       "      <th>4</th>\n",
       "      <td>4c8a8b93</td>\n",
       "      <td>8.0</td>\n",
       "      <td>2.0</td>\n",
       "      <td>0.0</td>\n",
       "      <td>14.0</td>\n",
       "      <td>0.0</td>\n",
       "      <td>13.0</td>\n",
       "      <td>9.0</td>\n",
       "      <td>0.0</td>\n",
       "      <td>177.0</td>\n",
       "      <td>...</td>\n",
       "      <td>0.0</td>\n",
       "      <td>9.0</td>\n",
       "      <td>177.0</td>\n",
       "      <td>9</td>\n",
       "      <td>0.0</td>\n",
       "      <td>4</td>\n",
       "      <td>5</td>\n",
       "      <td>9</td>\n",
       "      <td>51.400000</td>\n",
       "      <td>257.0</td>\n",
       "    </tr>\n",
       "  </tbody>\n",
       "</table>\n",
       "<p>5 rows × 44 columns</p>\n",
       "</div>"
      ],
      "text/plain": [
       "     person  brand listing  checkout  conversion  generic listing  lead  \\\n",
       "0  4886f805            0.0       1.0         0.0              1.0   0.0   \n",
       "1  0297fc1e            4.0       7.0         0.0             21.0   1.0   \n",
       "2  2d681dd8            5.0       1.0         0.0              1.0   0.0   \n",
       "3  cccea85e            7.0       1.0         0.0             20.0   0.0   \n",
       "4  4c8a8b93            8.0       2.0         0.0             14.0   0.0   \n",
       "\n",
       "   search engine hit  searched products  staticpage  viewed product  \\\n",
       "0                1.0                1.0         0.0             4.0   \n",
       "1                0.0                6.0         0.0           404.0   \n",
       "2                2.0                1.0         0.0            13.0   \n",
       "3               26.0                1.0         5.0           739.0   \n",
       "4               13.0                9.0         0.0           177.0   \n",
       "\n",
       "         ...         conversion mes 5  searched products mes 5  \\\n",
       "0        ...                      0.0                      1.0   \n",
       "1        ...                      0.0                      0.0   \n",
       "2        ...                      0.0                      1.0   \n",
       "3        ...                      0.0                      1.0   \n",
       "4        ...                      0.0                      9.0   \n",
       "\n",
       "   viewed product mes 5  dias_hasta_ultimo  viewed product mes 4  distan_dias  \\\n",
       "0                   4.0                 13                   0.0            0   \n",
       "1                 133.0                  3                 100.0          138   \n",
       "2                  13.0                  4                   0.0            9   \n",
       "3                 739.0                  0                   0.0           23   \n",
       "4                 177.0                  9                   0.0            4   \n",
       "\n",
       "   cant_dias_dist  modelos_dist  promedio_por_dia_x  promedio_por_mes  \n",
       "0               1             1            9.000000               9.0  \n",
       "1              59            15            9.610169             113.4  \n",
       "2               2             3           13.000000              26.0  \n",
       "3              13            57           64.307692             836.0  \n",
       "4               5             9           51.400000             257.0  \n",
       "\n",
       "[5 rows x 44 columns]"
      ]
     },
     "execution_count": 27,
     "metadata": {},
     "output_type": "execute_result"
    }
   ],
   "source": [
    "df_final = datos.filter(items= ['person'] + list(features_X))\n",
    "df_finalSinPersonas = df_final.drop(columns='person')\n",
    "df_final.head(5)"
   ]
  },
  {
   "cell_type": "code",
   "execution_count": 28,
   "metadata": {},
   "outputs": [
    {
     "name": "stderr",
     "output_type": "stream",
     "text": [
      "/home/santi/anaconda3/lib/python3.6/site-packages/ipykernel_launcher.py:5: SettingWithCopyWarning: \n",
      "A value is trying to be set on a copy of a slice from a DataFrame.\n",
      "Try using .loc[row_indexer,col_indexer] = value instead\n",
      "\n",
      "See the caveats in the documentation: http://pandas.pydata.org/pandas-docs/stable/indexing.html#indexing-view-versus-copy\n",
      "  \"\"\"\n"
     ]
    }
   ],
   "source": [
    "proba = pd.Series(model.predict_proba(df_finalSinPersonas)[:,1])\n",
    "\n",
    "predicciones = df_final[['person']]\n",
    "\n",
    "predicciones['label'] = proba"
   ]
  },
  {
   "cell_type": "code",
   "execution_count": 29,
   "metadata": {},
   "outputs": [],
   "source": [
    "predicciones.to_csv('predicciones_kaggle.csv', encoding='utf-8', index=False)"
   ]
  },
  {
   "cell_type": "code",
   "execution_count": 30,
   "metadata": {},
   "outputs": [
    {
     "data": {
      "text/plain": [
       "(19415, 2)"
      ]
     },
     "execution_count": 30,
     "metadata": {},
     "output_type": "execute_result"
    }
   ],
   "source": [
    "predicciones.shape"
   ]
  },
  {
   "cell_type": "code",
   "execution_count": 31,
   "metadata": {
    "scrolled": true
   },
   "outputs": [
    {
     "data": {
      "text/html": [
       "<div>\n",
       "<style scoped>\n",
       "    .dataframe tbody tr th:only-of-type {\n",
       "        vertical-align: middle;\n",
       "    }\n",
       "\n",
       "    .dataframe tbody tr th {\n",
       "        vertical-align: top;\n",
       "    }\n",
       "\n",
       "    .dataframe thead th {\n",
       "        text-align: right;\n",
       "    }\n",
       "</style>\n",
       "<table border=\"1\" class=\"dataframe\">\n",
       "  <thead>\n",
       "    <tr style=\"text-align: right;\">\n",
       "      <th></th>\n",
       "      <th>person</th>\n",
       "      <th>label</th>\n",
       "    </tr>\n",
       "  </thead>\n",
       "  <tbody>\n",
       "    <tr>\n",
       "      <th>0</th>\n",
       "      <td>4886f805</td>\n",
       "      <td>0.282464</td>\n",
       "    </tr>\n",
       "    <tr>\n",
       "      <th>1</th>\n",
       "      <td>0297fc1e</td>\n",
       "      <td>0.304237</td>\n",
       "    </tr>\n",
       "    <tr>\n",
       "      <th>2</th>\n",
       "      <td>2d681dd8</td>\n",
       "      <td>0.302778</td>\n",
       "    </tr>\n",
       "    <tr>\n",
       "      <th>3</th>\n",
       "      <td>cccea85e</td>\n",
       "      <td>0.441948</td>\n",
       "    </tr>\n",
       "    <tr>\n",
       "      <th>4</th>\n",
       "      <td>4c8a8b93</td>\n",
       "      <td>0.379345</td>\n",
       "    </tr>\n",
       "  </tbody>\n",
       "</table>\n",
       "</div>"
      ],
      "text/plain": [
       "     person     label\n",
       "0  4886f805  0.282464\n",
       "1  0297fc1e  0.304237\n",
       "2  2d681dd8  0.302778\n",
       "3  cccea85e  0.441948\n",
       "4  4c8a8b93  0.379345"
      ]
     },
     "execution_count": 31,
     "metadata": {},
     "output_type": "execute_result"
    }
   ],
   "source": [
    "predicciones.head()"
   ]
  }
 ],
 "metadata": {
  "kernelspec": {
   "display_name": "Python 3",
   "language": "python",
   "name": "python3"
  },
  "language_info": {
   "codemirror_mode": {
    "name": "ipython",
    "version": 3
   },
   "file_extension": ".py",
   "mimetype": "text/x-python",
   "name": "python",
   "nbconvert_exporter": "python",
   "pygments_lexer": "ipython3",
   "version": "3.6.5"
  }
 },
 "nbformat": 4,
 "nbformat_minor": 2
}
