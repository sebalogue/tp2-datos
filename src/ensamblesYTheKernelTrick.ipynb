{
 "cells": [
  {
   "cell_type": "markdown",
   "metadata": {},
   "source": [
    "# Ensambles #"
   ]
  },
  {
   "cell_type": "code",
   "execution_count": 106,
   "metadata": {},
   "outputs": [],
   "source": [
    "import pandas as pd\n",
    "import numpy as np\n",
    "\n",
    "import pandas as pd\n",
    "import numpy as np\n",
    "\n",
    "from sklearn.metrics import SCORERS\n",
    "from sklearn.metrics import accuracy_score\n",
    "from sklearn.metrics import confusion_matrix\n",
    "from sklearn.metrics import accuracy_score, roc_auc_score\n",
    "from sklearn.metrics import mean_squared_error\n",
    "\n",
    "from sklearn.ensemble import RandomForestClassifier\n",
    "from sklearn.datasets import make_classification\n",
    "from sklearn.neighbors import KNeighborsClassifier\n",
    "from sklearn.neighbors import DistanceMetric\n",
    "\n",
    "from sklearn.model_selection import train_test_split\n",
    "from sklearn.model_selection import GridSearchCV \n",
    "from sklearn.model_selection import KFold\n",
    "from sklearn.model_selection import cross_validate\n",
    "\n",
    "\n",
    "from sklearn.preprocessing import MaxAbsScaler\n",
    "from sklearn.preprocessing import StandardScaler\n",
    "\n",
    "from imblearn.over_sampling import RandomOverSampler\n",
    "from imblearn.under_sampling import RandomUnderSampler\n",
    "from imblearn.under_sampling import TomekLinks\n",
    "from imblearn.under_sampling import ClusterCentroids\n",
    "from imblearn.over_sampling import SMOTE\n",
    "from imblearn.combine import SMOTETomek\n",
    "\n",
    "from sklearn import preprocessing\n",
    "\n",
    "from sklearn.ensemble import RandomForestClassifier\n",
    "from sklearn.ensemble import BaggingClassifier\n",
    "from sklearn.ensemble import GradientBoostingClassifier\n",
    "from mlens.ensemble import SuperLearner \n",
    "\n",
    "from itertools import combinations\n",
    "from sklearn.naive_bayes import GaussianNB\n",
    "from sklearn.neighbors import KNeighborsClassifier\n",
    "from sklearn import svm\n",
    "\n",
    "import xgboost as xgb\n",
    "from xgboost.sklearn import XGBClassifier\n",
    "\n",
    "from sklearn.linear_model import SGDClassifier\n",
    "\n",
    "from sklearn.preprocessing import MaxAbsScaler\n",
    "from sklearn.kernel_approximation import RBFSampler\n",
    "from sklearn.kernel_approximation import AdditiveChi2Sampler\n",
    "from sklearn.kernel_approximation import Nystroem\n",
    "\n",
    "from sklearn.neural_network import MLPClassifier"
   ]
  },
  {
   "cell_type": "code",
   "execution_count": 2,
   "metadata": {},
   "outputs": [],
   "source": [
    "tf = pd.read_csv('featuresMagui.csv') #mis features \n",
    "tf_seba = pd.read_csv('features_seba.csv') #los features de Seba\n",
    "tf_santi = pd.read_csv('santi_timefeatures.csv')\n",
    "tf_santi_2 = pd.read_csv('Santi_FeaturesConEventos.csv')\n",
    "#tf_2 = pd.read_csv('featuresMagui2.csv')\n",
    "labels = pd.read_csv('../data/labels_training_set.csv') #las personas de las cuales tengo Info\n",
    "personas =pd.read_csv('../data/trocafone_kaggle_test.csv') #las personas a las que le tengo que predecir"
   ]
  },
  {
   "cell_type": "code",
   "execution_count": 3,
   "metadata": {},
   "outputs": [],
   "source": [
    "#Datos a entregar\n",
    "datos = pd.merge(tf, tf_seba, on = 'person', how = 'inner')\n",
    "datos = pd.merge(datos, tf_santi, on = 'person', how = 'inner')\n",
    "datos = pd.merge(datos, tf_santi_2, on = 'person', how = 'inner')\n",
    "#datos = pd.merge(datos, tf_2, on = 'person', how = 'inner')\n",
    "datos = pd.merge(personas, datos, on = 'person', how = 'inner')"
   ]
  },
  {
   "cell_type": "code",
   "execution_count": 4,
   "metadata": {},
   "outputs": [],
   "source": [
    "#Datos para entrenar\n",
    "labels_f = pd.merge(tf,tf_seba, on = 'person',how = 'inner')\n",
    "labels_f = pd.merge(labels_f,tf_santi, on = 'person',how = 'inner')\n",
    "labels_f = pd.merge(labels_f,tf_santi_2, on = 'person',how = 'inner')\n",
    "#labels_f = pd.merge(labels_f,tf_2, on = 'person',how = 'inner')\n",
    "labels_f = pd.merge(labels, labels_f, on = 'person', how = 'inner')"
   ]
  },
  {
   "cell_type": "code",
   "execution_count": 5,
   "metadata": {},
   "outputs": [],
   "source": [
    "#labels_f.columns"
   ]
  },
  {
   "cell_type": "code",
   "execution_count": 94,
   "metadata": {},
   "outputs": [],
   "source": [
    "#labels_f  = labels_f.drop('viewed product', axis = 1)\n",
    "#print('viewed product' in labels_f.columns.tolist())\n",
    "y = labels_f.iloc[:,1:2]\n",
    "X = labels_f.iloc[:,3: 1314]"
   ]
  },
  {
   "cell_type": "code",
   "execution_count": 95,
   "metadata": {},
   "outputs": [
    {
     "name": "stdout",
     "output_type": "stream",
     "text": [
      "True\n"
     ]
    }
   ],
   "source": [
    "X = X.drop('device_type', axis = 1)\n",
    "print('viewed product' in X.columns.tolist())"
   ]
  },
  {
   "cell_type": "code",
   "execution_count": 96,
   "metadata": {},
   "outputs": [],
   "source": [
    " atributosImportantes = ['cantidadDeVisitas','FacebookAds','deviceSmartphone','cantVisitasAVP','noche','cantDirect','cantReferral','cantVisitasDomingo','cantVisitasMiercoles','cantidadDeEventos','cantBandListing','cantCheckout','cantStaticpage','cantViewedProduct','cantVisitedSite','checkout_x','searchEngineHit','brand listing mes 5','checkout mes 5','viewed product mes 5','visited site mes 5','dias_hasta_ultimo','ad campaign hit mes 4','brand listing mes 4','generic listing mes 4','search engine hit mes 4','viewed product mes 4','visited site mes 4','distan_dias','nuevo_mes_5','cant_dias_dist','modelos_dist','promedio_por_mes','mes_primer_entrada','promedio_por_dia_y','mes_3','mes_4','mes_5','dia_2','dia_3','dia_5','dia_7','dia_8','dia_9','dia_25','dia_28','dia_30','dia_31','primer_quincena','segunda_quincena','Friday','Thursday','Tuesday','fin_de_semana','martes_miercoles_jueves','hora_10','hora_12','hora_13','hora_15','hora_19','hora_rango_4-7','hora_rango_12-15','hora_rango_20-23','Afternoon','Evening','minuto_0-19','minuto_20-39','minuto_40-59','semana_del_anio_20','semana_del_anio_22','semana_del_anio_17','semana_del_anio_15','semana_del_anio_14','dia_del_anio_151','Unnamed: 0','ad campaign hit','brand listing','checkout_y','conversion','generic listing','staticpage_y','viewed product','visited site','vis_Samsung Galaxy S7 Edge','vis_Samsung Galaxy S6 Flat','vis_Samsung Galaxy S6 Edge','vis_Samsung Galaxy A7 2017','viewedproduct_Preto','viewedproduct_Branco','viewedproduct_Prateado','viewedproduct_Prata','viewedproduct_Rosa','viewedproduct_Cinza','viewedproduct_Verde','viewedproduct_Vermelho','viewedproduct_16GB','viewedproduct_32GB','viewedproduct_8GB','viewedproduct_Bom','viewedproduct_Muito Bom','visitedsite_Computer','visitedsite_Smartphone', 'visitedsite_320x570','visitedsite_1920x1080','visitedsite_Chrome 64.0']"
   ]
  },
  {
   "cell_type": "code",
   "execution_count": 97,
   "metadata": {},
   "outputs": [],
   "source": [
    "X = X.loc[:,atributosImportantes]"
   ]
  },
  {
   "cell_type": "code",
   "execution_count": 98,
   "metadata": {},
   "outputs": [],
   "source": [
    "scaler = preprocessing.MaxAbsScaler().fit(X)\n",
    "X_transformed = scaler.transform(X)"
   ]
  },
  {
   "cell_type": "code",
   "execution_count": 99,
   "metadata": {},
   "outputs": [],
   "source": [
    "X_train, X_test, y_train, y_test = train_test_split(X, y, test_size= 0.1, random_state= 123)"
   ]
  },
  {
   "cell_type": "code",
   "execution_count": 100,
   "metadata": {},
   "outputs": [],
   "source": [
    "rus= RandomUnderSampler(return_indices=True)\n",
    "\n",
    "#id_rus son los índices\n",
    "X_train, y_train, id_rus = rus.fit_sample(X_train, y_train)"
   ]
  },
  {
   "cell_type": "code",
   "execution_count": 101,
   "metadata": {},
   "outputs": [],
   "source": [
    "def aplicarModelo(modelo,X_train, X_test, y_train, y_test):\n",
    "    modelo.fit(X_train, y_train)#, early_stopping_rounds = 5, eval_set=[(X_test, y_test)])\n",
    "    preds = modelo.predict(X_test)\n",
    "    preds_prob = modelo.predict_proba(X_test)[:,1]\n",
    "    train_accuracy = accuracy_score(y_train, modelo.predict(X_train))\n",
    "    test_accuracy = accuracy_score(y_test, preds)\n",
    "    area_debajo_de_curva = roc_auc_score(y_test, preds_prob)\n",
    "    matriz_de_confusion = confusion_matrix(y_test, preds)\n",
    "    print('train acurracy: ')\n",
    "    print(train_accuracy)\n",
    "    print('test acurracy: ')\n",
    "    print(test_accuracy)\n",
    "    print('Matriz de confusión: ')\n",
    "    print(matriz_de_confusion)\n",
    "    print('Área bajo la curva: ')\n",
    "    print(area_debajo_de_curva)"
   ]
  },
  {
   "cell_type": "markdown",
   "metadata": {},
   "source": [
    "Pruebo con un Ensamble: Bagging"
   ]
  },
  {
   "cell_type": "code",
   "execution_count": 102,
   "metadata": {},
   "outputs": [
    {
     "name": "stderr",
     "output_type": "stream",
     "text": [
      "/anaconda3/lib/python3.6/site-packages/sklearn/ensemble/bagging.py:621: DataConversionWarning: A column-vector y was passed when a 1d array was expected. Please change the shape of y to (n_samples, ), for example using ravel().\n",
      "  y = column_or_1d(y, warn=True)\n"
     ]
    },
    {
     "name": "stdout",
     "output_type": "stream",
     "text": [
      "train acurracy: \n",
      "0.8927765237020316\n",
      "test acurracy: \n",
      "0.7590113285272915\n",
      "Matriz de confusión: \n",
      "[[1401  447]\n",
      " [  21   73]]\n",
      "Área bajo la curva: \n",
      "0.8551510546191399\n"
     ]
    }
   ],
   "source": [
    "xg_reg = xgb.XGBClassifier(learning_rate =0.05,n_estimators=100,max_depth=5,min_child_weight=1,gamma=0,\n",
    "                           subsample=0.8,colsample_bytree=0.8,objective= 'binary:logistic',nthread=4,\n",
    "                            seed=27)\n",
    "\n",
    "bag_class =BaggingClassifier(xg_reg)\n",
    "\n",
    "aplicarModelo(bag_class,X_train, X_test, y_train, y_test)"
   ]
  },
  {
   "cell_type": "markdown",
   "metadata": {},
   "source": [
    "Pruebo con una red neuronal."
   ]
  },
  {
   "cell_type": "code",
   "execution_count": 15,
   "metadata": {},
   "outputs": [
    {
     "name": "stderr",
     "output_type": "stream",
     "text": [
      "/anaconda3/lib/python3.6/site-packages/sklearn/neural_network/multilayer_perceptron.py:916: DataConversionWarning: A column-vector y was passed when a 1d array was expected. Please change the shape of y to (n_samples, ), for example using ravel().\n",
      "  y = column_or_1d(y, warn=True)\n"
     ]
    },
    {
     "name": "stdout",
     "output_type": "stream",
     "text": [
      "train acurracy: \n",
      "0.9695259593679458\n",
      "test acurracy: \n",
      "0.7435633367662204\n",
      "Matriz de confusión: \n",
      "[[1374  474]\n",
      " [  24   70]]\n",
      "Área bajo la curva: \n",
      "0.8070254213871235\n"
     ]
    },
    {
     "name": "stderr",
     "output_type": "stream",
     "text": [
      "/anaconda3/lib/python3.6/site-packages/sklearn/neural_network/multilayer_perceptron.py:562: ConvergenceWarning: Stochastic Optimizer: Maximum iterations (200) reached and the optimization hasn't converged yet.\n",
      "  % self.max_iter, ConvergenceWarning)\n"
     ]
    }
   ],
   "source": [
    "nn = MLPClassifier( early_stopping=False, random_state=123)\n",
    "\n",
    "aplicarModelo(nn,X_train, X_test, y_train, y_test)"
   ]
  },
  {
   "cell_type": "markdown",
   "metadata": {},
   "source": [
    "Pruebo con una red neuronal pero antes aumento las dimensiones con un Kernel para que pueda hacerse una separación lineal (the kernel Trick)."
   ]
  },
  {
   "cell_type": "code",
   "execution_count": 86,
   "metadata": {},
   "outputs": [],
   "source": [
    " atributosImportantes = ['cantidadDeVisitas','FacebookAds','deviceSmartphone','cantVisitasAVP','noche','cantDirect','cantReferral','cantVisitasDomingo','cantVisitasMiercoles','cantidadDeEventos','cantBandListing','cantCheckout','cantStaticpage','cantViewedProduct','cantVisitedSite','checkout_x','searchEngineHit','brand listing mes 5','checkout mes 5','viewed product mes 5','visited site mes 5','dias_hasta_ultimo','ad campaign hit mes 4','brand listing mes 4','generic listing mes 4','search engine hit mes 4','viewed product mes 4','visited site mes 4','distan_dias','nuevo_mes_5','cant_dias_dist','modelos_dist','promedio_por_mes','mes_primer_entrada','promedio_por_dia_y','mes_3','mes_4','mes_5','dia_2','dia_3','dia_5','dia_7','dia_8','dia_9','dia_25','dia_28','dia_30','dia_31','primer_quincena','segunda_quincena','Friday','Thursday','Tuesday','fin_de_semana','martes_miercoles_jueves','hora_10','hora_12','hora_13','hora_15','hora_19','hora_rango_4-7','hora_rango_12-15','hora_rango_20-23','Afternoon','Evening','minuto_0-19','minuto_20-39','minuto_40-59','semana_del_anio_20','semana_del_anio_22','semana_del_anio_17','semana_del_anio_15','semana_del_anio_14','dia_del_anio_151','Unnamed: 0','ad campaign hit','brand listing','checkout_y','conversion','generic listing','staticpage_y','viewed product','visited site','vis_Samsung Galaxy S7 Edge','vis_Samsung Galaxy S6 Flat','vis_Samsung Galaxy S6 Edge','vis_Samsung Galaxy A7 2017','viewedproduct_Preto','viewedproduct_Branco','viewedproduct_Prateado','viewedproduct_Prata','viewedproduct_Rosa','viewedproduct_Cinza','viewedproduct_Verde','viewedproduct_Vermelho','viewedproduct_16GB','viewedproduct_32GB','viewedproduct_8GB','viewedproduct_Bom','viewedproduct_Muito Bom','visitedsite_Computer','visitedsite_Smartphone', 'visitedsite_320x570','visitedsite_1920x1080','visitedsite_Chrome 64.0']"
   ]
  },
  {
   "cell_type": "code",
   "execution_count": 87,
   "metadata": {},
   "outputs": [],
   "source": [
    "y = labels_f.iloc[:,1:2]\n",
    "X = labels_f.iloc[:,3: 1314]"
   ]
  },
  {
   "cell_type": "code",
   "execution_count": 88,
   "metadata": {},
   "outputs": [],
   "source": [
    "X = X.loc[:,atributosImportantes]"
   ]
  },
  {
   "cell_type": "code",
   "execution_count": 89,
   "metadata": {},
   "outputs": [],
   "source": [
    "scaler = preprocessing.MaxAbsScaler().fit(X)\n",
    "X_transformed = scaler.transform(X)"
   ]
  },
  {
   "cell_type": "code",
   "execution_count": 90,
   "metadata": {},
   "outputs": [],
   "source": [
    "rbf_feature = RBFSampler(gamma=3,n_components= 100, random_state=123)\n",
    "X_features = rbf_feature.fit_transform(X)"
   ]
  },
  {
   "cell_type": "code",
   "execution_count": 91,
   "metadata": {},
   "outputs": [],
   "source": [
    "X_train, X_test, y_train, y_test = train_test_split(X_features, y, test_size= 0.1, random_state= 123)"
   ]
  },
  {
   "cell_type": "code",
   "execution_count": 92,
   "metadata": {},
   "outputs": [],
   "source": [
    "rus= RandomUnderSampler(return_indices=True)\n",
    "\n",
    "#id_rus son los índices\n",
    "X_train, y_train, id_rus = rus.fit_sample(X_train, y_train)"
   ]
  },
  {
   "cell_type": "code",
   "execution_count": 93,
   "metadata": {},
   "outputs": [
    {
     "name": "stderr",
     "output_type": "stream",
     "text": [
      "/anaconda3/lib/python3.6/site-packages/sklearn/neural_network/multilayer_perceptron.py:916: DataConversionWarning: A column-vector y was passed when a 1d array was expected. Please change the shape of y to (n_samples, ), for example using ravel().\n",
      "  y = column_or_1d(y, warn=True)\n"
     ]
    },
    {
     "name": "stdout",
     "output_type": "stream",
     "text": [
      "train acurracy: \n",
      "1.0\n",
      "test acurracy: \n",
      "0.48094747682801237\n",
      "Matriz de confusión: \n",
      "[[878 970]\n",
      " [ 38  56]]\n",
      "Área bajo la curva: \n",
      "0.5386732062263978\n"
     ]
    },
    {
     "name": "stderr",
     "output_type": "stream",
     "text": [
      "/anaconda3/lib/python3.6/site-packages/sklearn/neural_network/multilayer_perceptron.py:562: ConvergenceWarning: Stochastic Optimizer: Maximum iterations (200) reached and the optimization hasn't converged yet.\n",
      "  % self.max_iter, ConvergenceWarning)\n"
     ]
    }
   ],
   "source": [
    "nn = MLPClassifier( early_stopping=False, random_state=123)\n",
    "\n",
    "aplicarModelo(nn,X_train, X_test, y_train, y_test)"
   ]
  },
  {
   "cell_type": "markdown",
   "metadata": {},
   "source": [
    "Pruebo con SVM y con The Kernel trick"
   ]
  },
  {
   "cell_type": "code",
   "execution_count": 24,
   "metadata": {},
   "outputs": [
    {
     "name": "stderr",
     "output_type": "stream",
     "text": [
      "/anaconda3/lib/python3.6/site-packages/sklearn/utils/validation.py:761: DataConversionWarning: A column-vector y was passed when a 1d array was expected. Please change the shape of y to (n_samples, ), for example using ravel().\n",
      "  y = column_or_1d(y, warn=True)\n"
     ]
    },
    {
     "name": "stdout",
     "output_type": "stream",
     "text": [
      "train acurracy: \n",
      "0.6139954853273137\n",
      "test acurracy: \n",
      "0.529351184346035\n",
      "Matriz de confusión: \n",
      "[[984 864]\n",
      " [ 50  44]]\n",
      "Área bajo la curva: \n",
      "0.5473456065211386\n"
     ]
    }
   ],
   "source": [
    "clf = svm.SVC(gamma='scale', probability = True)\n",
    "\n",
    "aplicarModelo(clf,X_train, X_test, y_train, y_test)"
   ]
  },
  {
   "cell_type": "markdown",
   "metadata": {},
   "source": [
    "Pruebo SVM con pesos y con The Kernel Trick"
   ]
  },
  {
   "cell_type": "code",
   "execution_count": 25,
   "metadata": {},
   "outputs": [
    {
     "name": "stderr",
     "output_type": "stream",
     "text": [
      "/anaconda3/lib/python3.6/site-packages/sklearn/utils/validation.py:761: DataConversionWarning: A column-vector y was passed when a 1d array was expected. Please change the shape of y to (n_samples, ), for example using ravel().\n",
      "  y = column_or_1d(y, warn=True)\n"
     ]
    },
    {
     "name": "stdout",
     "output_type": "stream",
     "text": [
      "train acurracy: \n",
      "0.5\n",
      "test acurracy: \n",
      "0.04840370751802266\n",
      "Matriz de confusión: \n",
      "[[   0 1848]\n",
      " [   0   94]]\n",
      "Área bajo la curva: \n",
      "0.44125909551441467\n"
     ]
    }
   ],
   "source": [
    "# fit the model and get the separating hyperplane using weighted classes\n",
    "wclf = svm.SVC(kernel='linear', class_weight={1: 3, 0: 1}, probability = True)\n",
    "\n",
    "aplicarModelo(wclf,X_train, X_test, y_train, y_test)"
   ]
  },
  {
   "cell_type": "markdown",
   "metadata": {},
   "source": [
    "Pruebo SVM con pesos y con The Kernel Trick (sin undersampling)"
   ]
  },
  {
   "cell_type": "code",
   "execution_count": 81,
   "metadata": {},
   "outputs": [],
   "source": [
    "y = labels_f.iloc[:,1:2]\n",
    "X = labels_f.iloc[:,3: 1314]"
   ]
  },
  {
   "cell_type": "code",
   "execution_count": 82,
   "metadata": {},
   "outputs": [],
   "source": [
    "X = X.loc[:,atributosImportantes]"
   ]
  },
  {
   "cell_type": "code",
   "execution_count": 83,
   "metadata": {},
   "outputs": [],
   "source": [
    "scaler = preprocessing.MaxAbsScaler().fit(X)\n",
    "X_transformed = scaler.transform(X)"
   ]
  },
  {
   "cell_type": "code",
   "execution_count": 84,
   "metadata": {},
   "outputs": [],
   "source": [
    "rbf_feature = RBFSampler(gamma=3,n_components= 100, random_state=123)\n",
    "X_features = rbf_feature.fit_transform(X)"
   ]
  },
  {
   "cell_type": "code",
   "execution_count": 85,
   "metadata": {},
   "outputs": [],
   "source": [
    "X_train, X_test, y_train, y_test = train_test_split(X_features, y, test_size= 0.1, random_state= 123)"
   ]
  },
  {
   "cell_type": "code",
   "execution_count": 31,
   "metadata": {},
   "outputs": [
    {
     "name": "stderr",
     "output_type": "stream",
     "text": [
      "/anaconda3/lib/python3.6/site-packages/sklearn/utils/validation.py:761: DataConversionWarning: A column-vector y was passed when a 1d array was expected. Please change the shape of y to (n_samples, ), for example using ravel().\n",
      "  y = column_or_1d(y, warn=True)\n"
     ]
    },
    {
     "name": "stdout",
     "output_type": "stream",
     "text": [
      "train acurracy: \n",
      "0.949290293040293\n",
      "test acurracy: \n",
      "0.9515962924819773\n",
      "Matriz de confusión: \n",
      "[[1848    0]\n",
      " [  94    0]]\n",
      "Área bajo la curva: \n",
      "0.5470894353873077\n"
     ]
    }
   ],
   "source": [
    "wclf = svm.SVC(kernel='linear', class_weight={1: 7, 0: 1}, probability = True)\n",
    "\n",
    "aplicarModelo(wclf,X_train, X_test, y_train, y_test)"
   ]
  },
  {
   "cell_type": "markdown",
   "metadata": {},
   "source": [
    "Reduzco dimensiones (PCA) y aplico KNN. Esto se debe a que KNN sufre la maldición de la dimensionalidad. "
   ]
  },
  {
   "cell_type": "code",
   "execution_count": 105,
   "metadata": {},
   "outputs": [],
   "source": [
    "from sklearn.decomposition import PCA\n",
    "\n",
    "scaler = preprocessing.MaxAbsScaler().fit(X)\n",
    "X_transformed = scaler.transform(X)\n",
    "\n",
    "pca = PCA(n_components=60).fit(X)\n",
    "X_reduce = pca.transform(X)\n",
    "\n",
    "X_train, X_test, y_train, y_test = train_test_split(X_reduce, y, test_size= 0.1, random_state= 123)\n",
    "\n",
    "\n",
    "\n",
    "rus= RandomUnderSampler(return_indices=True)\n",
    "\n",
    "#id_rus son los índices\n",
    "X_train, y_train, id_rus = rus.fit_sample(X_train, y_train)\n"
   ]
  },
  {
   "cell_type": "code",
   "execution_count": 104,
   "metadata": {},
   "outputs": [
    {
     "name": "stdout",
     "output_type": "stream",
     "text": [
      "train acurracy: \n",
      "0.9485929794023789\n",
      "test acurracy: \n",
      "0.9515962924819773\n",
      "Matriz de confusión: \n",
      "[[1848    0]\n",
      " [  94    0]]\n",
      "Área bajo la curva: \n",
      "0.5012002625034541\n"
     ]
    }
   ],
   "source": [
    "knn = KNeighborsClassifier(n_neighbors= 500)\n",
    "\n",
    "aplicarModelo(knn, X_train, X_test, y_train, y_test)"
   ]
  },
  {
   "cell_type": "markdown",
   "metadata": {},
   "source": [
    "Aplico Bagging a KNN"
   ]
  },
  {
   "cell_type": "code",
   "execution_count": 39,
   "metadata": {},
   "outputs": [
    {
     "name": "stderr",
     "output_type": "stream",
     "text": [
      "/anaconda3/lib/python3.6/site-packages/sklearn/ensemble/bagging.py:621: DataConversionWarning: A column-vector y was passed when a 1d array was expected. Please change the shape of y to (n_samples, ), for example using ravel().\n",
      "  y = column_or_1d(y, warn=True)\n"
     ]
    },
    {
     "name": "stdout",
     "output_type": "stream",
     "text": [
      "train acurracy: \n",
      "0.7618510158013544\n",
      "test acurracy: \n",
      "0.8007209062821833\n",
      "Matriz de confusión: \n",
      "[[1503  345]\n",
      " [  42   52]]\n",
      "Área bajo la curva: \n",
      "0.8025755273095698\n"
     ]
    }
   ],
   "source": [
    "bag_class =BaggingClassifier(knn)\n",
    "aplicarModelo(bag_class,X_train, X_test, y_train, y_test)"
   ]
  },
  {
   "cell_type": "markdown",
   "metadata": {},
   "source": [
    "Aplico RandomForest y PCA"
   ]
  },
  {
   "cell_type": "code",
   "execution_count": 56,
   "metadata": {},
   "outputs": [
    {
     "name": "stderr",
     "output_type": "stream",
     "text": [
      "/anaconda3/lib/python3.6/site-packages/ipykernel_launcher.py:2: DataConversionWarning: A column-vector y was passed when a 1d array was expected. Please change the shape of y to (n_samples,), for example using ravel().\n",
      "  \n"
     ]
    },
    {
     "name": "stdout",
     "output_type": "stream",
     "text": [
      "train acurracy: \n",
      "0.8826185101580135\n",
      "test acurracy: \n",
      "0.7239958805355304\n",
      "Matriz de confusión: \n",
      "[[1329  519]\n",
      " [  17   77]]\n",
      "Área bajo la curva: \n",
      "0.8237369899603944\n"
     ]
    }
   ],
   "source": [
    "clf = RandomForestClassifier(n_estimators=60, max_depth=6, random_state=0)\n",
    "aplicarModelo(clf,X_train, X_test, y_train, y_test)"
   ]
  },
  {
   "cell_type": "markdown",
   "metadata": {},
   "source": [
    "Aplico bagging y random Forest"
   ]
  },
  {
   "cell_type": "code",
   "execution_count": 42,
   "metadata": {},
   "outputs": [
    {
     "name": "stderr",
     "output_type": "stream",
     "text": [
      "/anaconda3/lib/python3.6/site-packages/sklearn/ensemble/bagging.py:621: DataConversionWarning: A column-vector y was passed when a 1d array was expected. Please change the shape of y to (n_samples, ), for example using ravel().\n",
      "  y = column_or_1d(y, warn=True)\n"
     ]
    },
    {
     "name": "stdout",
     "output_type": "stream",
     "text": [
      "train acurracy: \n",
      "0.8594808126410836\n",
      "test acurracy: \n",
      "0.7106076210092688\n",
      "Matriz de confusión: \n",
      "[[1307  541]\n",
      " [  21   73]]\n",
      "Área bajo la curva: \n",
      "0.8255100396057843\n"
     ]
    }
   ],
   "source": [
    "bag_class =BaggingClassifier(clf)\n",
    "aplicarModelo(bag_class,X_train, X_test, y_train, y_test)"
   ]
  },
  {
   "cell_type": "markdown",
   "metadata": {},
   "source": [
    "xgboost y PCA"
   ]
  },
  {
   "cell_type": "code",
   "execution_count": 57,
   "metadata": {},
   "outputs": [
    {
     "name": "stderr",
     "output_type": "stream",
     "text": [
      "/anaconda3/lib/python3.6/site-packages/sklearn/preprocessing/label.py:219: DataConversionWarning: A column-vector y was passed when a 1d array was expected. Please change the shape of y to (n_samples, ), for example using ravel().\n",
      "  y = column_or_1d(y, warn=True)\n",
      "/anaconda3/lib/python3.6/site-packages/sklearn/preprocessing/label.py:252: DataConversionWarning: A column-vector y was passed when a 1d array was expected. Please change the shape of y to (n_samples, ), for example using ravel().\n",
      "  y = column_or_1d(y, warn=True)\n"
     ]
    },
    {
     "name": "stdout",
     "output_type": "stream",
     "text": [
      "train acurracy: \n",
      "0.9514672686230248\n",
      "test acurracy: \n",
      "0.7296601441812565\n",
      "Matriz de confusión: \n",
      "[[1340  508]\n",
      " [  17   77]]\n",
      "Área bajo la curva: \n",
      "0.8173471032513585\n"
     ]
    }
   ],
   "source": [
    "xg_reg = xgb.XGBClassifier(learning_rate =0.05,n_estimators=100,max_depth=5,min_child_weight=1,gamma=0,\n",
    "                           subsample=0.8,colsample_bytree=0.8,objective= 'binary:logistic',nthread=4,\n",
    "                            seed=27)\n",
    "aplicarModelo(xg_reg,X_train, X_test, y_train, y_test)"
   ]
  },
  {
   "cell_type": "code",
   "execution_count": null,
   "metadata": {},
   "outputs": [],
   "source": []
  },
  {
   "cell_type": "code",
   "execution_count": 60,
   "metadata": {},
   "outputs": [
    {
     "name": "stderr",
     "output_type": "stream",
     "text": [
      "/anaconda3/lib/python3.6/site-packages/sklearn/ensemble/bagging.py:621: DataConversionWarning: A column-vector y was passed when a 1d array was expected. Please change the shape of y to (n_samples, ), for example using ravel().\n",
      "  y = column_or_1d(y, warn=True)\n"
     ]
    },
    {
     "name": "stdout",
     "output_type": "stream",
     "text": [
      "train acurracy: \n",
      "0.8809255079006773\n",
      "test acurracy: \n",
      "0.721936148300721\n",
      "Matriz de confusión: \n",
      "[[1323  525]\n",
      " [  15   79]]\n",
      "Área bajo la curva: \n",
      "0.8280890209081697\n"
     ]
    }
   ],
   "source": [
    "bag_class =BaggingClassifier(xg_reg,max_samples = 1000)\n",
    "aplicarModelo(bag_class,X_train, X_test, y_train, y_test)"
   ]
  },
  {
   "cell_type": "markdown",
   "metadata": {},
   "source": [
    "Hago un ensamble de Xgboost usando super learner (este lo sacao pq me dio mal)"
   ]
  },
  {
   "cell_type": "code",
   "execution_count": 65,
   "metadata": {},
   "outputs": [
    {
     "name": "stderr",
     "output_type": "stream",
     "text": [
      "/anaconda3/lib/python3.6/site-packages/sklearn/preprocessing/label.py:219: DataConversionWarning: A column-vector y was passed when a 1d array was expected. Please change the shape of y to (n_samples, ), for example using ravel().\n",
      "  y = column_or_1d(y, warn=True)\n",
      "/anaconda3/lib/python3.6/site-packages/sklearn/preprocessing/label.py:252: DataConversionWarning: A column-vector y was passed when a 1d array was expected. Please change the shape of y to (n_samples, ), for example using ravel().\n",
      "  y = column_or_1d(y, warn=True)\n"
     ]
    },
    {
     "name": "stdout",
     "output_type": "stream",
     "text": [
      "train acurracy: \n",
      "0.9536973443223443\n",
      "test acurracy: \n",
      "0.952626158599382\n",
      "Matriz de confusión: \n",
      "[[1847    1]\n",
      " [  91    3]]\n",
      "Área bajo la curva: \n",
      "0.5156868840379479\n"
     ]
    }
   ],
   "source": [
    "xg_reg = xgb.XGBClassifier(learning_rate =0.05,n_estimators=10,max_depth=5,min_child_weight=1,gamma=0,\n",
    "                           subsample=0.8,colsample_bytree=0.8,objective= 'binary:logistic',nthread=4,\n",
    "                            seed=27)\n",
    "xg_reg_2 = xgb.XGBClassifier(learning_rate =0.01,n_estimators=10,max_depth=5,min_child_weight=1,gamma=0,\n",
    "                           subsample=0.8,colsample_bytree=0.8,objective= 'binary:logistic',nthread=4,\n",
    "                            seed=27)\n",
    "xg_reg_3 = xgb.XGBClassifier(learning_rate =0.1,n_estimators=100,max_depth=5,min_child_weight=1,gamma=0,\n",
    "                           subsample=0.8,colsample_bytree=0.8,objective= 'binary:logistic',nthread=4,\n",
    "                            seed=27)\n",
    "#gaussiano =GaussianNB()\n",
    "\n",
    "#clf = RandomForestClassifier(n_estimators=100, max_depth=2, random_state=0)\n",
    "\n",
    "#knn = KNeighborsClassifier(n_neighbors=4)\n",
    "\n",
    "ensemble = SuperLearner(scorer = accuracy_score, random_state = 123, folds = 10)\n",
    "#ensemble.add(gaussiano)\n",
    "#ensemble.add(clf)\n",
    "#ensemble.add(knn)\n",
    "ensemble.add(xg_reg_2)\n",
    "ensemble.add(xg_reg_3)\n",
    "ensemble.add_meta(xg_reg)"
   ]
  }
 ],
 "metadata": {
  "kernelspec": {
   "display_name": "Python 3",
   "language": "python",
   "name": "python3"
  },
  "language_info": {
   "codemirror_mode": {
    "name": "ipython",
    "version": 3
   },
   "file_extension": ".py",
   "mimetype": "text/x-python",
   "name": "python",
   "nbconvert_exporter": "python",
   "pygments_lexer": "ipython3",
   "version": "3.6.5"
  }
 },
 "nbformat": 4,
 "nbformat_minor": 2
}
