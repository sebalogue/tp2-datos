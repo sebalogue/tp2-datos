{
 "cells": [
  {
   "cell_type": "code",
   "execution_count": 1,
   "metadata": {},
   "outputs": [],
   "source": [
    "import pandas as pd  \n",
    "import numpy as np  \n",
    "import matplotlib.pyplot as plt \n",
    "from datetime import timedelta\n",
    "%matplotlib inline\n",
    "\n",
    "#from sklearn import svm\n",
    "from sklearn.model_selection import train_test_split\n",
    "from sklearn.model_selection import StratifiedKFold\n",
    "from sklearn.ensemble import RandomForestClassifier\n",
    "\n",
    "import xgboost as xgb\n",
    "from sklearn.metrics import accuracy_score, roc_auc_score, mean_squared_error, confusion_matrix,\\\n",
    "                            f1_score,precision_score,recall_score,classification_report,cohen_kappa_score\n",
    "\n",
    "from imblearn.over_sampling import RandomOverSampler\n",
    "\n",
    "from sklearn.feature_selection import RFE"
   ]
  },
  {
   "cell_type": "code",
   "execution_count": 2,
   "metadata": {},
   "outputs": [],
   "source": [
    "labels = pd.read_csv('../data/labels_training_set.csv') #las personas de las cuales tengo Info\n",
    "personas =pd.read_csv('../data/trocafone_kaggle_test.csv') #las personas a las que le tengo que predecir"
   ]
  },
  {
   "cell_type": "markdown",
   "metadata": {},
   "source": [
    "# Todos los features"
   ]
  },
  {
   "cell_type": "code",
   "execution_count": 3,
   "metadata": {},
   "outputs": [],
   "source": [
    "\n",
    "df_santi = pd.read_csv('../features_csv/fetures_nuevos_santi.csv')\n",
    "df_seba =  pd.read_csv('../features_csv/features_finales_seba.csv')\n",
    "    \n",
    "df_santi_eventos = pd.read_csv('Santi_FeaturesConEventos.csv')\n",
    "df_santi_time = pd.read_csv('santi_timefeatures.csv')\n",
    "\n",
    "df_final_features = pd.merge(df_santi, df_santi_eventos, on='person', how='inner')\n",
    "df_final_features = pd.merge(df_final_features, df_santi_time, on='person', how='inner')\n",
    "df_final_features = pd.merge(df_final_features, df_seba, on='person', how='inner')\n",
    "\n",
    "labels_f = pd.merge(df_final_features, labels, on='person', how='inner')"
   ]
  },
  {
   "cell_type": "code",
   "execution_count": 4,
   "metadata": {},
   "outputs": [
    {
     "data": {
      "text/plain": [
       "(19414, 372)"
      ]
     },
     "execution_count": 4,
     "metadata": {},
     "output_type": "execute_result"
    }
   ],
   "source": [
    "y = labels_f[['label']]\n",
    "X = labels_f.drop(columns=['person', 'label'])\n",
    "\n",
    "X_train, X_test, y_train, y_test = train_test_split(X, y, test_size= 0.2, random_state= 123)\n",
    "\n",
    "X.shape"
   ]
  },
  {
   "cell_type": "markdown",
   "metadata": {},
   "source": [
    "## Selección de features"
   ]
  },
  {
   "cell_type": "markdown",
   "metadata": {},
   "source": [
    "### Selección con random forest"
   ]
  },
  {
   "cell_type": "code",
   "execution_count": 5,
   "metadata": {},
   "outputs": [
    {
     "name": "stderr",
     "output_type": "stream",
     "text": [
      "C:\\Users\\seba\\Anaconda3\\lib\\site-packages\\ipykernel_launcher.py:3: DataConversionWarning: A column-vector y was passed when a 1d array was expected. Please change the shape of y to (n_samples,), for example using ravel().\n",
      "  This is separate from the ipykernel package so we can avoid doing imports until\n"
     ]
    },
    {
     "name": "stdout",
     "output_type": "stream",
     "text": [
      "train acurracy: \n",
      "0.8185564355160646\n",
      "test acurracy: \n",
      "0.8202420808653104\n",
      "Matriz de confusión: \n",
      "[[3055  637]\n",
      " [  61  130]]\n",
      "Área bajo la curva: \n",
      "0.8379047948585594\n"
     ]
    }
   ],
   "source": [
    "clf = RandomForestClassifier(n_estimators=100, max_depth=2, random_state=0, class_weight = {0: 1, 1: 15})\n",
    "\n",
    "clf.fit(X_train, y_train)\n",
    "\n",
    "preds = clf.predict(X_test)\n",
    "preds_prob = clf.predict_proba(X_test)[:,1]\n",
    "train_accuracy = accuracy_score(y_train, clf.predict(X_train))\n",
    "test_accuracy = accuracy_score(y_test, preds)\n",
    "area_debajo_de_curva = roc_auc_score(y_test, preds_prob)\n",
    "matriz_de_confusion = confusion_matrix(y_test, preds)\n",
    "print('train acurracy: ')\n",
    "print(train_accuracy)\n",
    "print('test acurracy: ')\n",
    "print(test_accuracy)\n",
    "print('Matriz de confusión: ')\n",
    "print(matriz_de_confusion)\n",
    "print('Área bajo la curva: ')\n",
    "print(area_debajo_de_curva)"
   ]
  },
  {
   "cell_type": "code",
   "execution_count": 6,
   "metadata": {},
   "outputs": [
    {
     "data": {
      "text/plain": [
       "372"
      ]
     },
     "execution_count": 6,
     "metadata": {},
     "output_type": "execute_result"
    }
   ],
   "source": [
    "importancia = clf.feature_importances_\n",
    "len(importancia)"
   ]
  },
  {
   "cell_type": "code",
   "execution_count": 7,
   "metadata": {
    "collapsed": true
   },
   "outputs": [
    {
     "data": {
      "text/plain": [
       "[('checkout mes 5', 0.11868390731635853),\n",
       " ('checkout_y', 0.11514652547724044),\n",
       " ('cadaCuantosDiasHaceCheckout', 0.05509720552969096),\n",
       " ('checkout_x', 0.05293589617093125),\n",
       " ('distan_dias', 0.04632160893023039),\n",
       " ('mes_primer_entrada', 0.045474660812630054),\n",
       " ('mes_5', 0.03331426219173941),\n",
       " ('dias_hasta_ultimo', 0.03177067731019073),\n",
       " ('visited site mes 4', 0.026062153073754174),\n",
       " ('promedio_por_dia_y', 0.021475505122133236),\n",
       " ('search engine hit_y', 0.021282568961384616),\n",
       " ('modelos_dist_mes_5', 0.019677263139934776),\n",
       " ('cadaCuantosMinutosHaceEventos', 0.018718151148828098),\n",
       " ('visited site', 0.01768062984839662),\n",
       " ('nuevo_mes_5', 0.017263066935825314),\n",
       " ('primer_quincena_x', 0.01682758866215167),\n",
       " ('minuto_0-19', 0.016023406041039377),\n",
       " ('cadaCuantosDiasEnMes5HaceEventos', 0.0158435063954833),\n",
       " ('cadaCuantosMinutosHaceEventosEnUnDiaYHoraDelMes5', 0.015223563260718522),\n",
       " ('segunda_quincena_y', 0.013564646075235332),\n",
       " ('mes_4', 0.013272968459879773),\n",
       " ('search engine hit_x', 0.012933957454508054),\n",
       " ('brand listing_x', 0.012568443911747901),\n",
       " ('cant_dias_dist', 0.01196117792915012),\n",
       " ('cant_dias_dist_mes_5', 0.011035634121062494),\n",
       " ('promedioCadaCuantosDiasVuelve', 0.010002397322218986),\n",
       " ('cadaCuantasHorasHaceEventosEnSuUltimaConexionDelMes5',\n",
       "  0.009817963760572555),\n",
       " ('generic listing mes 4', 0.008737066827335944),\n",
       " ('dia_31_x', 0.0085892949843914),\n",
       " ('modelos_dist', 0.008088003260956829),\n",
       " ('minuto_20-39', 0.0076886566262853616),\n",
       " ('minuto_40-59', 0.007115337265882939),\n",
       " ('viewed product mes 5', 0.007092343482186555),\n",
       " ('semana_del_anio_18', 0.007010706576305108),\n",
       " ('visitedsite_Computer', 0.006770420365594473),\n",
       " ('visited site mes 5', 0.006745400484955546),\n",
       " ('cadaCuantosMinutosHaceEventosEnSuUltimaConexionDelMes5',\n",
       "  0.006608051615676356),\n",
       " ('cadaCuantosSegundosHaceEventosEnSuUltimaConexionDelMes5',\n",
       "  0.006564416208531797),\n",
       " ('primer_quincena_y', 0.0063673839607609915),\n",
       " ('dia_2_x', 0.006130333894871725),\n",
       " ('vuelve', 0.005556566324431813),\n",
       " ('search engine hit mes 4', 0.005488420578059231),\n",
       " ('hora_rango_12-15', 0.005088596761331212),\n",
       " ('viewedproduct_Bom', 0.005005009644365605),\n",
       " ('viewedproduct_Preto', 0.004648257682875637),\n",
       " ('cadaCuantasHorasHaceEventos', 0.004295728567357234),\n",
       " ('brand listing_y', 0.004174959032866413),\n",
       " ('segunda_quincena_x', 0.003912645617507537),\n",
       " ('viewedproduct_Dourado', 0.0038868728968970735),\n",
       " ('semana_del_anio_19', 0.0038551677891811255),\n",
       " ('22', 0.0035005195323261455),\n",
       " ('dia_30_x', 0.003383848251924663),\n",
       " ('Afternoon', 0.0033319227419632363),\n",
       " ('viewedproduct_Muito Bom', 0.003230526790045964),\n",
       " ('dia_31_y', 0.002856423703397962),\n",
       " ('martes_miercoles_jueves', 0.0026033580181343895),\n",
       " ('brand listing mes 4', 0.002589479833715882),\n",
       " ('hora_rango_16-19', 0.002448801034505484),\n",
       " ('semana_del_anio_22', 0.0023436473694565985),\n",
       " ('viewed product mes 4', 0.002165489739084996),\n",
       " ('dia_11_x', 0.002142489182858992),\n",
       " ('viewedproduct_16GB', 0.0020255012609436507),\n",
       " ('viewedproduct_Excelente', 0.001900980758813476),\n",
       " ('Thursday', 0.001833262738707968),\n",
       " ('adcampaignhit_criteo', 0.0016041840604778244),\n",
       " ('dia_9_y', 0.0015229170873213545),\n",
       " ('visitedsite_Chrome 65.0', 0.001464708775451364),\n",
       " ('17', 0.0014470972596213189),\n",
       " ('ad campaign hit mes 4', 0.0013704412651114007),\n",
       " ('conversion_y', 0.001313839884543946),\n",
       " ('visitedsite_Windows 10 ', 0.001300974634554436),\n",
       " ('conversion_x', 0.00125525654853902),\n",
       " ('semana_del_anio_21', 0.0011322016656699068),\n",
       " ('dia_del_anio_148', 0.0011057940850103423),\n",
       " ('ad campaign hit mes 5', 0.0009243517160214815),\n",
       " ('20', 0.0008706978098832706),\n",
       " ('Night', 0.0008506319077936141),\n",
       " ('hora_9', 0.0006009602916775125),\n",
       " ('dia_21_x', 0.000592097657604708),\n",
       " ('hora_12', 0.0005476754247194258),\n",
       " ('promedio_por_mes', 0.00048438814364177717),\n",
       " ('viewed product', 0.00047452308593048524),\n",
       " ('dia_23_x', 0.00046951459127657385),\n",
       " ('searched products mes 5', 0.000431294986015992),\n",
       " ('hora_22', 0.0004099203628776183),\n",
       " ('visitedsite_Chrome Mobile 66.0', 0.00037930648592119113),\n",
       " ('viewedproduct_8GB', 0.0003692827961385825),\n",
       " ('viewedproduct_Ametista', 0.0003520156039475919),\n",
       " ('dia_14_x', 0.00035038344439434766),\n",
       " ('vis_Samsung Galaxy J5', 0.00022055418890796002),\n",
       " ('visitedsite_1366x768', 0.00020938739045635313),\n",
       " ('cadaCuantosSegundosHaceEventosEnUnDiaYHoraDelMes5', 0.00020698850155584776),\n",
       " ('dia_26_x', 0.00018105287524893695),\n",
       " ('visitedsite_Smartphone', 0.00017925797710701555),\n",
       " ('dia_9_x', 0.00017490063683570065),\n",
       " ('dia_del_anio_150', 0.00016236850773306536),\n",
       " ('Morning', 0.00015615363042071064),\n",
       " ('searched products mes 4', 0.0001478504052944818),\n",
       " ('visitedsite_Piaui', 0.0001417097102710932),\n",
       " ('cadaCuantosDiasHaceConversion', 0.00013607479756618925),\n",
       " ('dia_16_y', 0.0001289615608848451),\n",
       " ('dia_7_x', 0.00012761665441367347),\n",
       " ('vis_iPhone SE', 0.00012203513022496005),\n",
       " ('viewedproduct_Preto Brilhante', 9.824337481255725e-05),\n",
       " ('semana_del_anio_17', 9.077261619914715e-05),\n",
       " ('visitedsite_375x667', 7.172190622503325e-05),\n",
       " ('viewedproduct_32GB', 6.466379417333904e-05),\n",
       " ('cadaCuantasHorasEnUnDiaDelMes5HaceEventos', 0.0),\n",
       " ('Unnamed: 0_x', 0.0),\n",
       " ('ad campaign hit_x', 0.0),\n",
       " ('generic listing_x', 0.0),\n",
       " ('lead', 0.0),\n",
       " ('searched products_x', 0.0),\n",
       " ('staticpage', 0.0),\n",
       " ('vis_iPhone 6S Plus', 0.0),\n",
       " ('vis_iPhone 7 Plus', 0.0),\n",
       " ('vis_iPhone 6 Plus', 0.0),\n",
       " ('vis_iPhone 6S', 0.0),\n",
       " ('vis_Samsung Galaxy S7 Edge', 0.0),\n",
       " ('vis_Samsung Galaxy S6 Flat', 0.0),\n",
       " ('vis_Samsung Galaxy S6 Edge', 0.0),\n",
       " ('vis_iPhone 5s', 0.0),\n",
       " ('vis_Samsung Galaxy S5', 0.0),\n",
       " ('vis_iPhone 6', 0.0),\n",
       " ('vis_Samsung Galaxy A7 2017', 0.0),\n",
       " ('vis_iPhone 5c', 0.0),\n",
       " ('vis_Samsung Galaxy J7 2016 Metal', 0.0),\n",
       " ('checkout_iPhone 6S', 0.0),\n",
       " ('checkout_Samsung Galaxy J5', 0.0),\n",
       " ('checkout_Samsung Galaxy J7 Prime', 0.0),\n",
       " ('checkout_iPhone 7 Plus', 0.0),\n",
       " ('checkout_iPhone 4G', 0.0),\n",
       " ('checkout_Samsung Galaxy On 7', 0.0),\n",
       " ('checkout_Motorola Moto X Play 4G Dual', 0.0),\n",
       " ('checkout_Samsung Galaxy J7 2016 Metal', 0.0),\n",
       " ('checkout_iPhone 7', 0.0),\n",
       " ('checkout_Motorola Moto X2', 0.0),\n",
       " ('checkout_Samsung Galaxy S7', 0.0),\n",
       " ('checkout_iPhone 4S', 0.0),\n",
       " ('checkout_Lenovo Vibe A7010 Dual Chip', 0.0),\n",
       " ('checkout_Motorola Moto G4 Plus', 0.0),\n",
       " ('checkout_iPhone 5s', 0.0),\n",
       " ('viewedproduct_Cinza espacial', 0.0),\n",
       " ('viewedproduct_Branco', 0.0),\n",
       " ('viewedproduct_Prateado', 0.0),\n",
       " ('viewedproduct_Ouro Rosa', 0.0),\n",
       " ('viewedproduct_Prata', 0.0),\n",
       " ('viewedproduct_Rosa', 0.0),\n",
       " ('viewedproduct_Azul', 0.0),\n",
       " ('viewedproduct_Cinza', 0.0),\n",
       " ('viewedproduct_Preto Matte', 0.0),\n",
       " ('viewedproduct_Verde', 0.0),\n",
       " ('viewedproduct_Vermelho', 0.0),\n",
       " ('viewedproduct_128GB', 0.0),\n",
       " ('viewedproduct_256GB', 0.0),\n",
       " ('viewedproduct_4GB', 0.0),\n",
       " ('viewedproduct_512MB', 0.0),\n",
       " ('viewedproduct_64GB', 0.0),\n",
       " ('viewedproduct_Bom - Sem Touch ID', 0.0),\n",
       " ('viewedproduct_Novo', 0.0),\n",
       " ('visitedsite_Sao Paulo', 0.0),\n",
       " ('visitedsite_region desconocida', 0.0),\n",
       " ('visitedsite_Minas Gerais', 0.0),\n",
       " ('visitedsite_Rio de Janeiro', 0.0),\n",
       " ('visitedsite_Bahia', 0.0),\n",
       " ('visitedsite_Pernambuco', 0.0),\n",
       " ('visitedsite_Ceara', 0.0),\n",
       " ('visitedsite_Parana', 0.0),\n",
       " ('visitedsite_Rio Grande do Sul', 0.0),\n",
       " ('visitedsite_Espirito Santo', 0.0),\n",
       " ('visitedsite_Federal District', 0.0),\n",
       " ('visitedsite_Maranhao', 0.0),\n",
       " ('visitedsite_Goias', 0.0),\n",
       " ('visitedsite_Santa Catarina', 0.0),\n",
       " ('visitedsite_Para', 0.0),\n",
       " ('visitedsite_Rio Grande do Norte', 0.0),\n",
       " ('visitedsite_Paraíba', 0.0),\n",
       " ('visitedsite_Alagoas', 0.0),\n",
       " ('visitedsite_Sergipe', 0.0),\n",
       " ('visitedsite_Amazonas', 0.0),\n",
       " ('visitedsite_Mato Grosso', 0.0),\n",
       " ('visitedsite_Tocantins', 0.0),\n",
       " ('visitedsite_Mato Grosso do Sul', 0.0),\n",
       " ('visitedsite_Rondonia', 0.0),\n",
       " ('visitedsite_Amapa', 0.0),\n",
       " ('visitedsite_Acre', 0.0),\n",
       " ('visitedsite_Roraima', 0.0),\n",
       " ('visitedsite_Tablet', 0.0),\n",
       " ('visitedsite_device desconocido', 0.0),\n",
       " ('visitedsite_360x640', 0.0),\n",
       " ('visitedsite_320x570', 0.0),\n",
       " ('visitedsite_1600x900', 0.0),\n",
       " ('visitedsite_320x534', 0.0),\n",
       " ('visitedsite_1280x1024', 0.0),\n",
       " ('visitedsite_412x732', 0.0),\n",
       " ('visitedsite_414x736', 0.0),\n",
       " ('visitedsite_320x490', 0.0),\n",
       " ('visitedsite_1536x864', 0.0),\n",
       " ('visitedsite_320x569', 0.0),\n",
       " ('visitedsite_1920x1080', 0.0),\n",
       " ('visitedsite_1024x768', 0.0),\n",
       " ('visitedsite_1324x745', 0.0),\n",
       " ('visitedsite_Android 7', 0.0),\n",
       " ('visitedsite_Windows 7 ', 0.0),\n",
       " ('visitedsite_Android 5.1', 0.0),\n",
       " ('visitedsite_Android 6.0.1', 0.0),\n",
       " ('visitedsite_Android 7.1.1', 0.0),\n",
       " ('visitedsite_Android 5.0.2', 0.0),\n",
       " ('visitedsite_Android 6', 0.0),\n",
       " ('visitedsite_Android 4.4.2', 0.0),\n",
       " ('visitedsite_iOS 11.2.6', 0.0),\n",
       " ('visitedsite_Windows Phone 8.1', 0.0),\n",
       " ('visitedsite_Android 4.1.2', 0.0),\n",
       " ('visitedsite_Windows Vista ', 0.0),\n",
       " ('visitedsite_iOS 10.3.3', 0.0),\n",
       " ('visitedsite_Android 8', 0.0),\n",
       " ('visitedsite_Chrome 66.0', 0.0),\n",
       " ('visitedsite_Chrome 64.0', 0.0),\n",
       " ('visitedsite_Chrome 63.0', 0.0),\n",
       " ('visitedsite_Chrome Mobile 65.0', 0.0),\n",
       " ('visitedsite_Chrome Mobile 64.0', 0.0),\n",
       " ('visitedsite_Chrome Mobile 39', 0.0),\n",
       " ('visitedsite_Chrome Mobile 63.0', 0.0),\n",
       " ('visitedsite_Samsung Internet 3.3', 0.0),\n",
       " ('visitedsite_Samsung Internet 6.4', 0.0),\n",
       " ('visitedsite_Mobile Safari 11', 0.0),\n",
       " ('visitedsite_IE Mobile 11', 0.0),\n",
       " ('visitedsite_Edge 16.16299', 0.0),\n",
       " ('visitedsite_Chrome Mobile 36.0', 0.0),\n",
       " ('adcampaignhit_rtbhouse', 0.0),\n",
       " ('adcampaignhit_google', 0.0),\n",
       " ('adcampaignhit_zanox', 0.0),\n",
       " ('adcampaignhit_manifest', 0.0),\n",
       " ('adcampaignhit_bing', 0.0),\n",
       " ('adcampaignhit_afilio', 0.0),\n",
       " ('adcampaignhit_buscape', 0.0),\n",
       " ('adcampaignhit_rakuten', 0.0),\n",
       " ('adcampaignhit_FacebookAds', 0.0),\n",
       " ('adcampaignhit_indexa', 0.0),\n",
       " ('adcampaignhit_datacrush', 0.0),\n",
       " ('adcampaignhit_emblue', 0.0),\n",
       " ('adcampaignhit_blog', 0.0),\n",
       " ('adcampaignhit_yotpo', 0.0),\n",
       " ('Unnamed: 0_y', 0.0),\n",
       " ('mes_1', 0.0),\n",
       " ('mes_2', 0.0),\n",
       " ('mes_3', 0.0),\n",
       " ('dia_1_x', 0.0),\n",
       " ('dia_3_x', 0.0),\n",
       " ('dia_4_x', 0.0),\n",
       " ('dia_5_x', 0.0),\n",
       " ('dia_6_x', 0.0),\n",
       " ('dia_8_x', 0.0),\n",
       " ('dia_10_x', 0.0),\n",
       " ('dia_12_x', 0.0),\n",
       " ('dia_13_x', 0.0),\n",
       " ('dia_15_x', 0.0),\n",
       " ('dia_16_x', 0.0),\n",
       " ('dia_17_x', 0.0),\n",
       " ('dia_18_x', 0.0),\n",
       " ('dia_19_x', 0.0),\n",
       " ('dia_20_x', 0.0),\n",
       " ('dia_22_x', 0.0),\n",
       " ('dia_24_x', 0.0),\n",
       " ('dia_25_x', 0.0),\n",
       " ('dia_27_x', 0.0),\n",
       " ('dia_28_x', 0.0),\n",
       " ('dia_29_x', 0.0),\n",
       " ('Friday', 0.0),\n",
       " ('Monday', 0.0),\n",
       " ('Saturday', 0.0),\n",
       " ('Sunday', 0.0),\n",
       " ('Tuesday', 0.0),\n",
       " ('Wednesday', 0.0),\n",
       " ('fin_de_semana', 0.0),\n",
       " ('hora_0', 0.0),\n",
       " ('hora_1', 0.0),\n",
       " ('hora_2', 0.0),\n",
       " ('hora_3', 0.0),\n",
       " ('hora_4', 0.0),\n",
       " ('hora_5', 0.0),\n",
       " ('hora_6', 0.0),\n",
       " ('hora_7', 0.0),\n",
       " ('hora_8', 0.0),\n",
       " ('hora_10', 0.0),\n",
       " ('hora_11', 0.0),\n",
       " ('hora_13', 0.0),\n",
       " ('hora_14', 0.0),\n",
       " ('hora_15', 0.0),\n",
       " ('hora_16', 0.0),\n",
       " ('hora_17', 0.0),\n",
       " ('hora_18', 0.0),\n",
       " ('hora_19', 0.0),\n",
       " ('hora_20', 0.0),\n",
       " ('hora_21', 0.0),\n",
       " ('hora_23', 0.0),\n",
       " ('hora_rango_0-3', 0.0),\n",
       " ('hora_rango_4-7', 0.0),\n",
       " ('hora_rango_8-11', 0.0),\n",
       " ('hora_rango_20-23', 0.0),\n",
       " ('Evening', 0.0),\n",
       " ('semana_del_anio_20', 0.0),\n",
       " ('semana_del_anio_16', 0.0),\n",
       " ('semana_del_anio_15', 0.0),\n",
       " ('semana_del_anio_14', 0.0),\n",
       " ('semana_del_anio_13', 0.0),\n",
       " ('dia_del_anio_149', 0.0),\n",
       " ('dia_del_anio_151', 0.0),\n",
       " ('dia_del_anio_142', 0.0),\n",
       " ('dia_del_anio_144', 0.0),\n",
       " ('dia_del_anio_143', 0.0),\n",
       " ('dia_del_anio_141', 0.0),\n",
       " ('dia_del_anio_136', 0.0),\n",
       " ('dia_del_anio_135', 0.0),\n",
       " ('ultima_conversion', 0.0),\n",
       " ('checkout mes 4', 0.0),\n",
       " ('conversion mes 4', 0.0),\n",
       " ('lead mes 4', 0.0),\n",
       " ('staticpage mes 4', 0.0),\n",
       " ('brand listing mes 5', 0.0),\n",
       " ('conversion mes 5', 0.0),\n",
       " ('generic listing mes 5', 0.0),\n",
       " ('search engine hit mes 5', 0.0),\n",
       " ('ad campaign hit_y', 0.0),\n",
       " ('generic listing_y', 0.0),\n",
       " ('searched products_y', 0.0),\n",
       " ('dia_1_y', 0.0),\n",
       " ('dia_2_y', 0.0),\n",
       " ('dia_3_y', 0.0),\n",
       " ('dia_4_y', 0.0),\n",
       " ('dia_5_y', 0.0),\n",
       " ('dia_6_y', 0.0),\n",
       " ('dia_7_y', 0.0),\n",
       " ('dia_8_y', 0.0),\n",
       " ('dia_10_y', 0.0),\n",
       " ('dia_11_y', 0.0),\n",
       " ('dia_12_y', 0.0),\n",
       " ('dia_13_y', 0.0),\n",
       " ('dia_14_y', 0.0),\n",
       " ('dia_15_y', 0.0),\n",
       " ('dia_17_y', 0.0),\n",
       " ('dia_18_y', 0.0),\n",
       " ('dia_19_y', 0.0),\n",
       " ('dia_20_y', 0.0),\n",
       " ('dia_21_y', 0.0),\n",
       " ('dia_22_y', 0.0),\n",
       " ('dia_23_y', 0.0),\n",
       " ('dia_24_y', 0.0),\n",
       " ('dia_25_y', 0.0),\n",
       " ('dia_26_y', 0.0),\n",
       " ('dia_27_y', 0.0),\n",
       " ('dia_28_y', 0.0),\n",
       " ('dia_29_y', 0.0),\n",
       " ('dia_30_y', 0.0),\n",
       " ('21', 0.0),\n",
       " ('19', 0.0),\n",
       " ('18', 0.0),\n",
       " ('16', 0.0),\n",
       " ('15', 0.0),\n",
       " ('14', 0.0),\n",
       " ('13', 0.0),\n",
       " ('1024x768', 0.0),\n",
       " ('1360x768', 0.0),\n",
       " ('1366x768', 0.0),\n",
       " ('1440x900', 0.0),\n",
       " ('1600x900', 0.0),\n",
       " ('1920x1080', 0.0),\n",
       " ('320x534', 0.0),\n",
       " ('320x568', 0.0),\n",
       " ('320x570', 0.0),\n",
       " ('360x640', 0.0),\n",
       " ('promedio_por_dia_x', 0.0)]"
      ]
     },
     "execution_count": 7,
     "metadata": {},
     "output_type": "execute_result"
    }
   ],
   "source": [
    "importancia_con_nombre = {}\n",
    "features = X.columns\n",
    "for i in range(372):\n",
    "    importancia_con_nombre[features[i]] = importancia[i]\n",
    "\n",
    "sorted_by_value = sorted(importancia_con_nombre.items(), key=lambda kv: -kv[1])\n",
    "sorted_by_value"
   ]
  },
  {
   "cell_type": "code",
   "execution_count": 8,
   "metadata": {},
   "outputs": [
    {
     "data": {
      "text/plain": [
       "107"
      ]
     },
     "execution_count": 8,
     "metadata": {},
     "output_type": "execute_result"
    }
   ],
   "source": [
    "atributos_importantes = []\n",
    "for clave in importancia_con_nombre.keys():\n",
    "    if importancia_con_nombre[clave] > 0:\n",
    "        atributos_importantes.append(clave)\n",
    "\n",
    "len(atributos_importantes)"
   ]
  },
  {
   "cell_type": "code",
   "execution_count": 9,
   "metadata": {
    "collapsed": true
   },
   "outputs": [
    {
     "name": "stdout",
     "output_type": "stream",
     "text": [
      "['promedioCadaCuantosDiasVuelve', 'cadaCuantasHorasHaceEventos', 'cadaCuantosMinutosHaceEventos', 'cadaCuantosDiasEnMes5HaceEventos', 'cadaCuantosMinutosHaceEventosEnUnDiaYHoraDelMes5', 'cadaCuantosSegundosHaceEventosEnUnDiaYHoraDelMes5', 'cadaCuantasHorasHaceEventosEnSuUltimaConexionDelMes5', 'cadaCuantosMinutosHaceEventosEnSuUltimaConexionDelMes5', 'cadaCuantosSegundosHaceEventosEnSuUltimaConexionDelMes5', 'cadaCuantosDiasHaceConversion', 'cadaCuantosDiasHaceCheckout', 'brand listing_x', 'checkout_x', 'conversion_x', 'search engine hit_x', 'viewed product', 'visited site', 'vis_iPhone SE', 'vis_Samsung Galaxy J5', 'viewedproduct_Preto', 'viewedproduct_Dourado', 'viewedproduct_Ametista', 'viewedproduct_Preto Brilhante', 'viewedproduct_16GB', 'viewedproduct_32GB', 'viewedproduct_8GB', 'viewedproduct_Bom', 'viewedproduct_Excelente', 'viewedproduct_Muito Bom', 'vuelve', 'visitedsite_Piaui', 'visitedsite_Computer', 'visitedsite_Smartphone', 'visitedsite_1366x768', 'visitedsite_375x667', 'visitedsite_Windows 10 ', 'visitedsite_Chrome Mobile 66.0', 'visitedsite_Chrome 65.0', 'adcampaignhit_criteo', 'mes_4', 'mes_5', 'dia_2_x', 'dia_7_x', 'dia_9_x', 'dia_11_x', 'dia_14_x', 'dia_21_x', 'dia_23_x', 'dia_26_x', 'dia_30_x', 'dia_31_x', 'primer_quincena_x', 'segunda_quincena_x', 'Thursday', 'martes_miercoles_jueves', 'hora_9', 'hora_12', 'hora_22', 'hora_rango_12-15', 'hora_rango_16-19', 'Morning', 'Afternoon', 'Night', 'minuto_0-19', 'minuto_20-39', 'minuto_40-59', 'semana_del_anio_21', 'semana_del_anio_22', 'semana_del_anio_19', 'semana_del_anio_18', 'semana_del_anio_17', 'dia_del_anio_150', 'dia_del_anio_148', 'nuevo_mes_5', 'distan_dias', 'mes_primer_entrada', 'ad campaign hit mes 4', 'brand listing mes 4', 'generic listing mes 4', 'search engine hit mes 4', 'searched products mes 4', 'viewed product mes 4', 'visited site mes 4', 'primer_quincena_y', 'segunda_quincena_y', 'ad campaign hit mes 5', 'checkout mes 5', 'searched products mes 5', 'viewed product mes 5', 'visited site mes 5', 'brand listing_y', 'checkout_y', 'conversion_y', 'search engine hit_y', 'dia_9_y', 'dia_16_y', 'dia_31_y', '20', '22', '17', 'dias_hasta_ultimo', 'promedio_por_dia_y', 'promedio_por_mes', 'modelos_dist', 'cant_dias_dist', 'modelos_dist_mes_5', 'cant_dias_dist_mes_5']\n"
     ]
    }
   ],
   "source": [
    "X_importantes = X.filter(items = atributos_importantes)\n",
    "print(atributos_importantes)"
   ]
  },
  {
   "cell_type": "code",
   "execution_count": 11,
   "metadata": {},
   "outputs": [],
   "source": [
    "# Estimador para RFE y RFECV\n",
    "xg_reg = xgb.XGBClassifier(objective ='binary:logistic', \n",
    "                colsample_bytree = 0.8, learning_rate = 0.1,\n",
    "                max_depth = 5, n_estimators = 100, scale_pos_weight = 7, min_child_weight=15)\n"
   ]
  },
  {
   "cell_type": "markdown",
   "metadata": {},
   "source": [
    "### Selección con algoritmo RFE (con features de random forest)"
   ]
  },
  {
   "cell_type": "code",
   "execution_count": 12,
   "metadata": {},
   "outputs": [
    {
     "name": "stdout",
     "output_type": "stream",
     "text": [
      "n =  70\n"
     ]
    }
   ],
   "source": [
    "n = 70\n",
    "rfe = RFE(xg_reg, n)\n",
    "rfe = rfe.fit(X_importantes, y['label'].ravel())\n",
    "   \n",
    "print('n = ', n)\n",
    "   \n",
    "# Selecciono los n features para entrenar\n",
    "mask = rfe.get_support()\n",
    "features_X = X_importantes.columns[mask]\n",
    "new_x = X_importantes.filter(items=features_X)"
   ]
  },
  {
   "cell_type": "code",
   "execution_count": null,
   "metadata": {},
   "outputs": [],
   "source": [
    "# Entrenamos y predecimos\n",
    "X_train, X_test, y_train, y_test = train_test_split(new_x, y['label'], test_size=0.2, random_state=123)\n",
    "    \n",
    "xg_reg = xgb.XGBClassifier(objective ='binary:logistic', \n",
    "                colsample_bytree = 0.8, learning_rate = 0.1,\n",
    "                max_depth = 5, n_estimators = 6, scale_pos_weight = 7, min_child_weight=15)\n",
    "\n",
    "xg_reg.fit(X_train,y_train)\n",
    "proba = xg_reg.predict_proba(X_test)[:,1]\n",
    "print(\"ROC auc score: \", roc_auc_score(y_test, proba))"
   ]
  },
  {
   "cell_type": "markdown",
   "metadata": {},
   "source": [
    "### Selección con RFECV (con los feaures de random forest)"
   ]
  },
  {
   "cell_type": "code",
   "execution_count": null,
   "metadata": {
    "scrolled": false
   },
   "outputs": [],
   "source": [
    "import matplotlib.pyplot as plt\n",
    "\n",
    "from sklearn.model_selection import StratifiedKFold\n",
    "from sklearn.feature_selection import RFECV\n",
    "\n",
    "# The \"accuracy\" scoring is proportional to the number of correct\n",
    "# classifications\n",
    "rfecv = RFECV(estimator=xg_reg, step=1, cv=StratifiedKFold(10),\n",
    "              scoring='roc_auc')\n",
    "\n",
    "rfecv.fit(X_importantes, y['label'].ravel())\n",
    "\n",
    "print(\"Optimal number of features : %d\" % rfecv.n_features_)\n",
    "\n",
    "# Plot number of features VS. cross-validation scores\n",
    "plt.figure()\n",
    "plt.xlabel(\"Number of features selected\")\n",
    "plt.ylabel(\"Cross validation score (nb of correct classifications)\")\n",
    "plt.plot(range(1, len(rfecv.grid_scores_) + 1), rfecv.grid_scores_)\n",
    "plt.show()"
   ]
  },
  {
   "cell_type": "code",
   "execution_count": null,
   "metadata": {},
   "outputs": [],
   "source": [
    "# Selecciono los n features para entrenar\n",
    "mask = rfecv.get_support()\n",
    "features_X = X_importantes.columns[mask]\n",
    "new_x = X_importantes.filter(items=features_X)"
   ]
  },
  {
   "cell_type": "code",
   "execution_count": null,
   "metadata": {},
   "outputs": [],
   "source": [
    "# Entrenamos y predecimos\n",
    "X_train, X_test, y_train, y_test = train_test_split(new_x, y['label'], test_size=0.2, random_state=123)\n",
    "    \n",
    "xg_reg = xgb.XGBClassifier(objective ='binary:logistic', \n",
    "                colsample_bytree = 0.8, learning_rate = 0.1,\n",
    "                max_depth = 5, n_estimators = 6, scale_pos_weight = 7, min_child_weight=15)\n",
    "\n",
    "xg_reg.fit(X_train,y_train)\n",
    "proba = xg_reg.predict_proba(X_test)[:,1]\n",
    "print(\"ROC auc score: \", roc_auc_score(y_test, proba))"
   ]
  },
  {
   "cell_type": "markdown",
   "metadata": {},
   "source": [
    "### Selección con algoritmo RFE (con todos los features)"
   ]
  },
  {
   "cell_type": "code",
   "execution_count": 1,
   "metadata": {},
   "outputs": [
    {
     "ename": "NameError",
     "evalue": "name 'RFE' is not defined",
     "output_type": "error",
     "traceback": [
      "\u001b[1;31m---------------------------------------------------------------------------\u001b[0m",
      "\u001b[1;31mNameError\u001b[0m                                 Traceback (most recent call last)",
      "\u001b[1;32m<ipython-input-1-137ba5c86cc3>\u001b[0m in \u001b[0;36m<module>\u001b[1;34m\u001b[0m\n\u001b[0;32m      1\u001b[0m \u001b[0mn\u001b[0m \u001b[1;33m=\u001b[0m \u001b[1;36m70\u001b[0m\u001b[1;33m\u001b[0m\u001b[1;33m\u001b[0m\u001b[0m\n\u001b[1;32m----> 2\u001b[1;33m \u001b[0mrfe\u001b[0m \u001b[1;33m=\u001b[0m \u001b[0mRFE\u001b[0m\u001b[1;33m(\u001b[0m\u001b[0mxg_reg\u001b[0m\u001b[1;33m,\u001b[0m \u001b[0mn\u001b[0m\u001b[1;33m)\u001b[0m\u001b[1;33m\u001b[0m\u001b[1;33m\u001b[0m\u001b[0m\n\u001b[0m\u001b[0;32m      3\u001b[0m \u001b[0mrfe\u001b[0m \u001b[1;33m=\u001b[0m \u001b[0mrfe\u001b[0m\u001b[1;33m.\u001b[0m\u001b[0mfit\u001b[0m\u001b[1;33m(\u001b[0m\u001b[0mX\u001b[0m\u001b[1;33m,\u001b[0m \u001b[0my\u001b[0m\u001b[1;33m[\u001b[0m\u001b[1;34m'label'\u001b[0m\u001b[1;33m]\u001b[0m\u001b[1;33m.\u001b[0m\u001b[0mravel\u001b[0m\u001b[1;33m(\u001b[0m\u001b[1;33m)\u001b[0m\u001b[1;33m)\u001b[0m\u001b[1;33m\u001b[0m\u001b[1;33m\u001b[0m\u001b[0m\n\u001b[0;32m      4\u001b[0m \u001b[1;33m\u001b[0m\u001b[0m\n\u001b[0;32m      5\u001b[0m \u001b[0mprint\u001b[0m\u001b[1;33m(\u001b[0m\u001b[1;34m'n = '\u001b[0m\u001b[1;33m,\u001b[0m \u001b[0mn\u001b[0m\u001b[1;33m)\u001b[0m\u001b[1;33m\u001b[0m\u001b[1;33m\u001b[0m\u001b[0m\n",
      "\u001b[1;31mNameError\u001b[0m: name 'RFE' is not defined"
     ]
    }
   ],
   "source": [
    "n = 70\n",
    "rfe = RFE(xg_reg, n)\n",
    "rfe = rfe.fit(X, y['label'].ravel())\n",
    "   \n",
    "print('n = ', n)\n",
    "   \n",
    "# Selecciono los n features para entrenar\n",
    "mask = rfe.get_support()\n",
    "features_X = X.columns[mask]\n",
    "new_x = X.filter(items=features_X)"
   ]
  },
  {
   "cell_type": "code",
   "execution_count": null,
   "metadata": {},
   "outputs": [],
   "source": [
    "# Entrenamos y predecimos\n",
    "X_train, X_test, y_train, y_test = train_test_split(new_x, y['label'], test_size=0.2, random_state=123)\n",
    "    \n",
    "xg_reg = xgb.XGBClassifier(objective ='binary:logistic', \n",
    "                colsample_bytree = 0.8, learning_rate = 0.1,\n",
    "                max_depth = 5, n_estimators = 6, scale_pos_weight = 7, min_child_weight=15)\n",
    "\n",
    "xg_reg.fit(X_train,y_train)\n",
    "proba = xg_reg.predict_proba(X_test)[:,1]\n",
    "print(\"ROC auc score: \", roc_auc_score(y_test, proba))"
   ]
  },
  {
   "cell_type": "markdown",
   "metadata": {},
   "source": [
    "### Selección con RFECV (con todos los feaures)"
   ]
  },
  {
   "cell_type": "code",
   "execution_count": null,
   "metadata": {
    "scrolled": true
   },
   "outputs": [],
   "source": [
    "import matplotlib.pyplot as plt\n",
    "\n",
    "from sklearn.model_selection import StratifiedKFold\n",
    "from sklearn.feature_selection import RFECV\n",
    "\n",
    "# The \"accuracy\" scoring is proportional to the number of correct\n",
    "# classifications\n",
    "rfecv = RFECV(estimator=xg_reg, step=1, cv=StratifiedKFold(10),\n",
    "              scoring='roc_auc', n_jobs=4)\n",
    "\n",
    "rfecv.fit(X, y['label'].ravel())\n",
    "\n",
    "print(\"Optimal number of features : %d\" % rfecv.n_features_)\n",
    "\n",
    "# Plot number of features VS. cross-validation scores\n",
    "plt.figure()\n",
    "plt.xlabel(\"Number of features selected\")\n",
    "plt.ylabel(\"Cross validation score (nb of correct classifications)\")\n",
    "plt.plot(range(1, len(rfecv.grid_scores_) + 1), rfecv.grid_scores_)\n",
    "plt.show()"
   ]
  },
  {
   "cell_type": "code",
   "execution_count": null,
   "metadata": {},
   "outputs": [],
   "source": [
    "  # Selecciono los n features para entrenar\n",
    "mask = rfecv.get_support()\n",
    "features_X = X.columns[mask]\n",
    "new_x = X.filter(items=features_X)"
   ]
  },
  {
   "cell_type": "code",
   "execution_count": null,
   "metadata": {},
   "outputs": [],
   "source": [
    "# Entrenamos y predecimos\n",
    "X_train, X_test, y_train, y_test = train_test_split(new_x, y['label'], test_size=0.2, random_state=123)\n",
    "    \n",
    "xg_reg = xgb.XGBClassifier(objective ='binary:logistic', \n",
    "                colsample_bytree = 0.8, learning_rate = 0.1,\n",
    "                max_depth = 5, n_estimators = 6, scale_pos_weight = 7, min_child_weight=15)\n",
    "\n",
    "xg_reg.fit(X_train,y_train)\n",
    "proba = xg_reg.predict_proba(X_test)[:,1]\n",
    "print(\"ROC auc score: \", roc_auc_score(y_test, proba))"
   ]
  }
 ],
 "metadata": {
  "kernelspec": {
   "display_name": "Python 3",
   "language": "python",
   "name": "python3"
  },
  "language_info": {
   "codemirror_mode": {
    "name": "ipython",
    "version": 3
   },
   "file_extension": ".py",
   "mimetype": "text/x-python",
   "name": "python",
   "nbconvert_exporter": "python",
   "pygments_lexer": "ipython3",
   "version": "3.6.7"
  }
 },
 "nbformat": 4,
 "nbformat_minor": 2
}
