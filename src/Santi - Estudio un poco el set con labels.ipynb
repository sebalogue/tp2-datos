{
 "cells": [
  {
   "cell_type": "code",
   "execution_count": 1,
   "metadata": {},
   "outputs": [],
   "source": [
    "import pandas as pd  \n",
    "import numpy as np  \n",
    "import matplotlib.pyplot as plt \n",
    "%matplotlib inline"
   ]
  },
  {
   "cell_type": "code",
   "execution_count": 2,
   "metadata": {
    "scrolled": true
   },
   "outputs": [],
   "source": [
    "# df_events información de eventos realizado en la plataforma para un conjunto de usuarios hasta el 31/05/2018\n",
    "df_events = pd.read_csv('../../data/events_up_to_01062018.csv',dtype=object)\n",
    "# df_train archivo labels_training_set.csv indica para un subconjunto de los usuarios incluidos en el set de \n",
    "# eventos events_up_to_01062018.csv si los mismos realizaron una conversión (columna label = 1) o no (columna \n",
    "# label = 0) desde el 01/06/2018 hasta el 15/06/2018\n",
    "df_labels = pd.read_csv('../../data/labels_training_set.csv',dtype=object)\n",
    "# Personas a predecir conversion.\n",
    "df_person = pd.read_csv('../../data/trocafone_kaggle_test.csv')"
   ]
  },
  {
   "cell_type": "code",
   "execution_count": 3,
   "metadata": {},
   "outputs": [],
   "source": [
    "# Me quedo solo con los users que tienen label.\n",
    "df_events = pd.merge(df_events,df_labels,on = 'person',how = 'inner')"
   ]
  },
  {
   "cell_type": "code",
   "execution_count": 4,
   "metadata": {},
   "outputs": [],
   "source": [
    "df_events[\"timestamp\"] = pd.to_datetime(df_events[\"timestamp\"])\n",
    "df_events[\"month\"] = df_events[\"timestamp\"].dt.month\n",
    "df_events[\"day\"] = df_events[\"timestamp\"].dt.day\n",
    "df_events[\"day_of_week\"] = df_events['timestamp'].dt.weekday_name\n",
    "df_events['day_of_year'] = df_events['timestamp'].dt.dayofyear\n",
    "df_events['hour'] = df_events['timestamp'].dt.hour\n",
    "df_events['minute'] = df_events['timestamp'].dt.minute\n",
    "df_events['week_of_year'] = df_events['timestamp'].dt.weekofyear"
   ]
  },
  {
   "cell_type": "code",
   "execution_count": 5,
   "metadata": {},
   "outputs": [],
   "source": [
    "viewed_product = df_events[df_events['event'] == 'viewed product']\n",
    "brand_listing    = df_events[df_events['event'] == 'brand listing']\n",
    "visited_site =  df_events[df_events['event'] == 'visited site']\n",
    "ad_campaign_hit = df_events[df_events['event'] == 'ad campaign hit']\n",
    "generic_listing = df_events[df_events['event'] == 'generic listing']\n",
    "searched_products = df_events[df_events['event'] == 'searched products']\n",
    "search_engine_hit = df_events[df_events['event'] == 'search engine hit']\n",
    "checkout = df_events[df_events['event'] == 'checkout']\n",
    "staticpage = df_events[df_events['event'] == 'staticpage']\n",
    "conversion = df_events[df_events['event'] == 'conversion']\n",
    "lead = df_events[df_events['event'] == 'lead']"
   ]
  },
  {
   "cell_type": "code",
   "execution_count": 18,
   "metadata": {
    "scrolled": true
   },
   "outputs": [
    {
     "name": "stdout",
     "output_type": "stream",
     "text": [
      "<class 'pandas.core.frame.DataFrame'>\n",
      "Int64Index: 1171886 entries, 0 to 1171885\n",
      "Data columns (total 31 columns):\n",
      "timestamp                   1171886 non-null datetime64[ns]\n",
      "event                       1171886 non-null object\n",
      "person                      1171886 non-null object\n",
      "url                         94875 non-null object\n",
      "sku                         665336 non-null object\n",
      "model                       665767 non-null object\n",
      "condition                   665336 non-null object\n",
      "storage                     665336 non-null object\n",
      "color                       665336 non-null object\n",
      "skus                        249587 non-null object\n",
      "search_term                 55774 non-null object\n",
      "staticpage                  5660 non-null object\n",
      "campaign_source             94940 non-null object\n",
      "search_engine               52829 non-null object\n",
      "channel                     102299 non-null object\n",
      "new_vs_returning            102299 non-null object\n",
      "city                        102299 non-null object\n",
      "region                      102299 non-null object\n",
      "country                     102299 non-null object\n",
      "device_type                 102299 non-null object\n",
      "screen_resolution           102297 non-null object\n",
      "operating_system_version    102299 non-null object\n",
      "browser_version             102299 non-null object\n",
      "label                       1171886 non-null object\n",
      "month                       1171886 non-null int64\n",
      "day                         1171886 non-null int64\n",
      "day_of_week                 1171886 non-null object\n",
      "day_of_year                 1171886 non-null int64\n",
      "hour                        1171886 non-null int64\n",
      "minute                      1171886 non-null int64\n",
      "week_of_year                1171886 non-null int64\n",
      "dtypes: datetime64[ns](1), int64(6), object(24)\n",
      "memory usage: 286.1+ MB\n"
     ]
    }
   ],
   "source": [
    "df_events.info()"
   ]
  },
  {
   "cell_type": "code",
   "execution_count": 19,
   "metadata": {},
   "outputs": [],
   "source": [
    "df_positive = df_events[df_events['label'] == '1']\n",
    "df_negative = df_events[df_events['label'] == '0']"
   ]
  },
  {
   "cell_type": "code",
   "execution_count": 20,
   "metadata": {},
   "outputs": [],
   "source": [
    "# Cantidad de veces que hace un evento"
   ]
  },
  {
   "cell_type": "code",
   "execution_count": 21,
   "metadata": {},
   "outputs": [],
   "source": [
    "top_pos = df_positive['event'].value_counts(normalize = True).head(20)\n",
    "top_neg = df_negative['event'].value_counts(normalize = True).head(20)"
   ]
  },
  {
   "cell_type": "code",
   "execution_count": 22,
   "metadata": {
    "scrolled": true
   },
   "outputs": [
    {
     "data": {
      "image/png": "[encoded data removed]",
      "text/plain": [
       "<Figure size 432x288 with 1 Axes>"
      ]
     },
     "metadata": {},
     "output_type": "display_data"
    }
   ],
   "source": [
    "width = 0.8\n",
    "indices = np.arange(len(top_pos.index))\n",
    "plt.bar(indices,top_pos.values,width = width, color = 'b',label = 'Positivos')\n",
    "plt.bar(indices,top_neg.values,width = 0.6*width, color = 'r',label = 'Negativos',alpha = 0.8)\n",
    "plt.xticks(indices, top_pos.index,rotation = 'vertical')\n",
    "plt.legend()\n",
    "plt.show()"
   ]
  },
  {
   "cell_type": "markdown",
   "metadata": {},
   "source": [
    "Se puede ver que no hay mucha diferencia, excepto en los eventos brand listing, checkout y quizas ad campaign hit, generic listing y search engine hit."
   ]
  },
  {
   "cell_type": "markdown",
   "metadata": {},
   "source": [
    "### model - viewed product"
   ]
  },
  {
   "cell_type": "code",
   "execution_count": 16,
   "metadata": {},
   "outputs": [],
   "source": [
    "# Cantidad de visitas a cada modelo."
   ]
  },
  {
   "cell_type": "code",
   "execution_count": 62,
   "metadata": {
    "scrolled": true
   },
   "outputs": [],
   "source": [
    "a = viewed_product[['model','label','event']].groupby(['model','label']).count().unstack()\n",
    "a.columns = ['neg','pos']\n",
    "a['neg'] = a['neg'] / a['neg'].sum()\n",
    "a['pos'] = a['pos'] / a['pos'].sum()\n",
    "a['dif'] = np.abs(a['pos'] - a['neg'])\n",
    "a.sort_values('dif',ascending = False, inplace = True)"
   ]
  },
  {
   "cell_type": "code",
   "execution_count": 63,
   "metadata": {
    "scrolled": true
   },
   "outputs": [
    {
     "data": {
      "text/html": [
       "<div>\n",
       "<style scoped>\n",
       "    .dataframe tbody tr th:only-of-type {\n",
       "        vertical-align: middle;\n",
       "    }\n",
       "\n",
       "    .dataframe tbody tr th {\n",
       "        vertical-align: top;\n",
       "    }\n",
       "\n",
       "    .dataframe thead th {\n",
       "        text-align: right;\n",
       "    }\n",
       "</style>\n",
       "<table border=\"1\" class=\"dataframe\">\n",
       "  <thead>\n",
       "    <tr style=\"text-align: right;\">\n",
       "      <th></th>\n",
       "      <th>neg</th>\n",
       "      <th>pos</th>\n",
       "      <th>dif</th>\n",
       "    </tr>\n",
       "    <tr>\n",
       "      <th>model</th>\n",
       "      <th></th>\n",
       "      <th></th>\n",
       "      <th></th>\n",
       "    </tr>\n",
       "  </thead>\n",
       "  <tbody>\n",
       "    <tr>\n",
       "      <th>iPhone 6S Plus</th>\n",
       "      <td>0.030800</td>\n",
       "      <td>0.019991</td>\n",
       "      <td>0.010808</td>\n",
       "    </tr>\n",
       "    <tr>\n",
       "      <th>iPhone 7 Plus</th>\n",
       "      <td>0.034755</td>\n",
       "      <td>0.024455</td>\n",
       "      <td>0.010300</td>\n",
       "    </tr>\n",
       "    <tr>\n",
       "      <th>iPhone 6 Plus</th>\n",
       "      <td>0.024806</td>\n",
       "      <td>0.015696</td>\n",
       "      <td>0.009111</td>\n",
       "    </tr>\n",
       "    <tr>\n",
       "      <th>iPhone 6S</th>\n",
       "      <td>0.074426</td>\n",
       "      <td>0.065516</td>\n",
       "      <td>0.008910</td>\n",
       "    </tr>\n",
       "    <tr>\n",
       "      <th>Samsung Galaxy S7 Edge</th>\n",
       "      <td>0.037426</td>\n",
       "      <td>0.046269</td>\n",
       "      <td>0.008843</td>\n",
       "    </tr>\n",
       "    <tr>\n",
       "      <th>Samsung Galaxy S6 Flat</th>\n",
       "      <td>0.019730</td>\n",
       "      <td>0.028304</td>\n",
       "      <td>0.008574</td>\n",
       "    </tr>\n",
       "    <tr>\n",
       "      <th>iPhone SE</th>\n",
       "      <td>0.028886</td>\n",
       "      <td>0.020717</td>\n",
       "      <td>0.008170</td>\n",
       "    </tr>\n",
       "    <tr>\n",
       "      <th>Samsung Galaxy S6 Edge</th>\n",
       "      <td>0.024452</td>\n",
       "      <td>0.031521</td>\n",
       "      <td>0.007070</td>\n",
       "    </tr>\n",
       "    <tr>\n",
       "      <th>iPhone 5s</th>\n",
       "      <td>0.078132</td>\n",
       "      <td>0.071895</td>\n",
       "      <td>0.006237</td>\n",
       "    </tr>\n",
       "    <tr>\n",
       "      <th>Samsung Galaxy S5</th>\n",
       "      <td>0.008708</td>\n",
       "      <td>0.014729</td>\n",
       "      <td>0.006021</td>\n",
       "    </tr>\n",
       "    <tr>\n",
       "      <th>Samsung Galaxy J5</th>\n",
       "      <td>0.020938</td>\n",
       "      <td>0.015826</td>\n",
       "      <td>0.005112</td>\n",
       "    </tr>\n",
       "    <tr>\n",
       "      <th>iPhone 6</th>\n",
       "      <td>0.078692</td>\n",
       "      <td>0.074312</td>\n",
       "      <td>0.004379</td>\n",
       "    </tr>\n",
       "    <tr>\n",
       "      <th>Samsung Galaxy A7 2017</th>\n",
       "      <td>0.011949</td>\n",
       "      <td>0.016161</td>\n",
       "      <td>0.004212</td>\n",
       "    </tr>\n",
       "    <tr>\n",
       "      <th>iPhone 5c</th>\n",
       "      <td>0.020829</td>\n",
       "      <td>0.024417</td>\n",
       "      <td>0.003589</td>\n",
       "    </tr>\n",
       "    <tr>\n",
       "      <th>Samsung Galaxy J7 2016 Metal</th>\n",
       "      <td>0.003535</td>\n",
       "      <td>0.007067</td>\n",
       "      <td>0.003532</td>\n",
       "    </tr>\n",
       "  </tbody>\n",
       "</table>\n",
       "</div>"
      ],
      "text/plain": [
       "                                   neg       pos       dif\n",
       "model                                                     \n",
       "iPhone 6S Plus                0.030800  0.019991  0.010808\n",
       "iPhone 7 Plus                 0.034755  0.024455  0.010300\n",
       "iPhone 6 Plus                 0.024806  0.015696  0.009111\n",
       "iPhone 6S                     0.074426  0.065516  0.008910\n",
       "Samsung Galaxy S7 Edge        0.037426  0.046269  0.008843\n",
       "Samsung Galaxy S6 Flat        0.019730  0.028304  0.008574\n",
       "iPhone SE                     0.028886  0.020717  0.008170\n",
       "Samsung Galaxy S6 Edge        0.024452  0.031521  0.007070\n",
       "iPhone 5s                     0.078132  0.071895  0.006237\n",
       "Samsung Galaxy S5             0.008708  0.014729  0.006021\n",
       "Samsung Galaxy J5             0.020938  0.015826  0.005112\n",
       "iPhone 6                      0.078692  0.074312  0.004379\n",
       "Samsung Galaxy A7 2017        0.011949  0.016161  0.004212\n",
       "iPhone 5c                     0.020829  0.024417  0.003589\n",
       "Samsung Galaxy J7 2016 Metal  0.003535  0.007067  0.003532"
      ]
     },
     "execution_count": 63,
     "metadata": {},
     "output_type": "execute_result"
    }
   ],
   "source": [
    "a.head(15)"
   ]
  },
  {
   "cell_type": "code",
   "execution_count": 65,
   "metadata": {
    "scrolled": false
   },
   "outputs": [
    {
     "data": {
      "text/plain": [
       "Index(['iPhone 6S Plus', 'iPhone 7 Plus', 'iPhone 6 Plus', 'iPhone 6S',\n",
       "       'Samsung Galaxy S7 Edge', 'Samsung Galaxy S6 Flat', 'iPhone SE',\n",
       "       'Samsung Galaxy S6 Edge', 'iPhone 5s', 'Samsung Galaxy S5',\n",
       "       'Samsung Galaxy J5', 'iPhone 6', 'Samsung Galaxy A7 2017', 'iPhone 5c',\n",
       "       'Samsung Galaxy J7 2016 Metal'],\n",
       "      dtype='object', name='model')"
      ]
     },
     "execution_count": 65,
     "metadata": {},
     "output_type": "execute_result"
    }
   ],
   "source": [
    "a.head(15).index"
   ]
  },
  {
   "cell_type": "markdown",
   "metadata": {},
   "source": [
    "### model - checkout"
   ]
  },
  {
   "cell_type": "code",
   "execution_count": 17,
   "metadata": {},
   "outputs": [],
   "source": [
    "# Cantidad de checkout de modelos."
   ]
  },
  {
   "cell_type": "code",
   "execution_count": 66,
   "metadata": {
    "scrolled": true
   },
   "outputs": [],
   "source": [
    "a = checkout[['model','label','event']].groupby(['model','label']).count().unstack()\n",
    "a.columns = ['neg','pos']\n",
    "a['neg'] = a['neg'] / a['neg'].sum()\n",
    "a['pos'] = a['pos'] / a['pos'].sum()\n",
    "a['dif'] = np.abs(a['pos'] - a['neg'])\n",
    "a.sort_values('dif',ascending = False, inplace = True)"
   ]
  },
  {
   "cell_type": "code",
   "execution_count": 67,
   "metadata": {
    "scrolled": true
   },
   "outputs": [
    {
     "data": {
      "text/html": [
       "<div>\n",
       "<style scoped>\n",
       "    .dataframe tbody tr th:only-of-type {\n",
       "        vertical-align: middle;\n",
       "    }\n",
       "\n",
       "    .dataframe tbody tr th {\n",
       "        vertical-align: top;\n",
       "    }\n",
       "\n",
       "    .dataframe thead th {\n",
       "        text-align: right;\n",
       "    }\n",
       "</style>\n",
       "<table border=\"1\" class=\"dataframe\">\n",
       "  <thead>\n",
       "    <tr style=\"text-align: right;\">\n",
       "      <th></th>\n",
       "      <th>neg</th>\n",
       "      <th>pos</th>\n",
       "      <th>dif</th>\n",
       "    </tr>\n",
       "    <tr>\n",
       "      <th>model</th>\n",
       "      <th></th>\n",
       "      <th></th>\n",
       "      <th></th>\n",
       "    </tr>\n",
       "  </thead>\n",
       "  <tbody>\n",
       "    <tr>\n",
       "      <th>iPhone 6S</th>\n",
       "      <td>0.069319</td>\n",
       "      <td>0.033389</td>\n",
       "      <td>0.035930</td>\n",
       "    </tr>\n",
       "    <tr>\n",
       "      <th>Samsung Galaxy J5</th>\n",
       "      <td>0.055722</td>\n",
       "      <td>0.027824</td>\n",
       "      <td>0.027898</td>\n",
       "    </tr>\n",
       "    <tr>\n",
       "      <th>Samsung Galaxy J7 Prime</th>\n",
       "      <td>0.031293</td>\n",
       "      <td>0.011686</td>\n",
       "      <td>0.019607</td>\n",
       "    </tr>\n",
       "    <tr>\n",
       "      <th>iPhone 7 Plus</th>\n",
       "      <td>0.030317</td>\n",
       "      <td>0.013912</td>\n",
       "      <td>0.016405</td>\n",
       "    </tr>\n",
       "    <tr>\n",
       "      <th>iPhone 4G</th>\n",
       "      <td>0.005985</td>\n",
       "      <td>0.021146</td>\n",
       "      <td>0.015161</td>\n",
       "    </tr>\n",
       "    <tr>\n",
       "      <th>Samsung Galaxy On 7</th>\n",
       "      <td>0.000976</td>\n",
       "      <td>0.015582</td>\n",
       "      <td>0.014606</td>\n",
       "    </tr>\n",
       "    <tr>\n",
       "      <th>Motorola Moto X Play 4G Dual</th>\n",
       "      <td>0.006668</td>\n",
       "      <td>0.020033</td>\n",
       "      <td>0.013365</td>\n",
       "    </tr>\n",
       "    <tr>\n",
       "      <th>Samsung Galaxy J7 2016 Metal</th>\n",
       "      <td>0.005725</td>\n",
       "      <td>0.018364</td>\n",
       "      <td>0.012639</td>\n",
       "    </tr>\n",
       "    <tr>\n",
       "      <th>iPhone 7</th>\n",
       "      <td>0.028560</td>\n",
       "      <td>0.016694</td>\n",
       "      <td>0.011866</td>\n",
       "    </tr>\n",
       "    <tr>\n",
       "      <th>Motorola Moto X2</th>\n",
       "      <td>0.007319</td>\n",
       "      <td>0.018364</td>\n",
       "      <td>0.011045</td>\n",
       "    </tr>\n",
       "    <tr>\n",
       "      <th>Samsung Galaxy S7</th>\n",
       "      <td>0.033082</td>\n",
       "      <td>0.022259</td>\n",
       "      <td>0.010822</td>\n",
       "    </tr>\n",
       "    <tr>\n",
       "      <th>iPhone 4S</th>\n",
       "      <td>0.012784</td>\n",
       "      <td>0.023372</td>\n",
       "      <td>0.010588</td>\n",
       "    </tr>\n",
       "    <tr>\n",
       "      <th>Lenovo Vibe A7010 Dual Chip</th>\n",
       "      <td>0.002310</td>\n",
       "      <td>0.012243</td>\n",
       "      <td>0.009933</td>\n",
       "    </tr>\n",
       "    <tr>\n",
       "      <th>Motorola Moto G4 Plus</th>\n",
       "      <td>0.021111</td>\n",
       "      <td>0.011686</td>\n",
       "      <td>0.009425</td>\n",
       "    </tr>\n",
       "    <tr>\n",
       "      <th>iPhone 5s</th>\n",
       "      <td>0.084737</td>\n",
       "      <td>0.094046</td>\n",
       "      <td>0.009308</td>\n",
       "    </tr>\n",
       "  </tbody>\n",
       "</table>\n",
       "</div>"
      ],
      "text/plain": [
       "                                   neg       pos       dif\n",
       "model                                                     \n",
       "iPhone 6S                     0.069319  0.033389  0.035930\n",
       "Samsung Galaxy J5             0.055722  0.027824  0.027898\n",
       "Samsung Galaxy J7 Prime       0.031293  0.011686  0.019607\n",
       "iPhone 7 Plus                 0.030317  0.013912  0.016405\n",
       "iPhone 4G                     0.005985  0.021146  0.015161\n",
       "Samsung Galaxy On 7           0.000976  0.015582  0.014606\n",
       "Motorola Moto X Play 4G Dual  0.006668  0.020033  0.013365\n",
       "Samsung Galaxy J7 2016 Metal  0.005725  0.018364  0.012639\n",
       "iPhone 7                      0.028560  0.016694  0.011866\n",
       "Motorola Moto X2              0.007319  0.018364  0.011045\n",
       "Samsung Galaxy S7             0.033082  0.022259  0.010822\n",
       "iPhone 4S                     0.012784  0.023372  0.010588\n",
       "Lenovo Vibe A7010 Dual Chip   0.002310  0.012243  0.009933\n",
       "Motorola Moto G4 Plus         0.021111  0.011686  0.009425\n",
       "iPhone 5s                     0.084737  0.094046  0.009308"
      ]
     },
     "execution_count": 67,
     "metadata": {},
     "output_type": "execute_result"
    }
   ],
   "source": [
    "a.head(15)"
   ]
  },
  {
   "cell_type": "code",
   "execution_count": 69,
   "metadata": {
    "scrolled": false
   },
   "outputs": [
    {
     "data": {
      "text/plain": [
       "Index(['iPhone 6S', 'Samsung Galaxy J5', 'Samsung Galaxy J7 Prime',\n",
       "       'iPhone 7 Plus', 'iPhone 4G', 'Samsung Galaxy On 7',\n",
       "       'Motorola Moto X Play 4G Dual', 'Samsung Galaxy J7 2016 Metal',\n",
       "       'iPhone 7', 'Motorola Moto X2', 'Samsung Galaxy S7', 'iPhone 4S',\n",
       "       'Lenovo Vibe A7010 Dual Chip', 'Motorola Moto G4 Plus', 'iPhone 5s'],\n",
       "      dtype='object', name='model')"
      ]
     },
     "execution_count": 69,
     "metadata": {},
     "output_type": "execute_result"
    }
   ],
   "source": [
    "a.head(15).index"
   ]
  },
  {
   "cell_type": "markdown",
   "metadata": {},
   "source": [
    "### color - viewed product"
   ]
  },
  {
   "cell_type": "code",
   "execution_count": 17,
   "metadata": {},
   "outputs": [],
   "source": [
    "# Cantidad de visitas a productos segun color."
   ]
  },
  {
   "cell_type": "code",
   "execution_count": null,
   "metadata": {},
   "outputs": [],
   "source": [
    "viewed_product.count()"
   ]
  },
  {
   "cell_type": "code",
   "execution_count": 55,
   "metadata": {
    "scrolled": true
   },
   "outputs": [],
   "source": [
    "a = viewed_product[['color','label','event']].groupby(['color','label']).count().unstack()\n",
    "a.columns = ['neg','pos']\n",
    "a['neg'] = a['neg'] / a['neg'].sum()\n",
    "a['pos'] = a['pos'] / a['pos'].sum()\n",
    "a['dif'] = np.abs(a['pos'] - a['neg'])\n",
    "a.sort_values('dif',ascending = False, inplace = True)"
   ]
  },
  {
   "cell_type": "code",
   "execution_count": 60,
   "metadata": {
    "scrolled": true
   },
   "outputs": [
    {
     "data": {
      "text/html": [
       "<div>\n",
       "<style scoped>\n",
       "    .dataframe tbody tr th:only-of-type {\n",
       "        vertical-align: middle;\n",
       "    }\n",
       "\n",
       "    .dataframe tbody tr th {\n",
       "        vertical-align: top;\n",
       "    }\n",
       "\n",
       "    .dataframe thead th {\n",
       "        text-align: right;\n",
       "    }\n",
       "</style>\n",
       "<table border=\"1\" class=\"dataframe\">\n",
       "  <thead>\n",
       "    <tr style=\"text-align: right;\">\n",
       "      <th></th>\n",
       "      <th>neg</th>\n",
       "      <th>pos</th>\n",
       "      <th>dif</th>\n",
       "    </tr>\n",
       "    <tr>\n",
       "      <th>color</th>\n",
       "      <th></th>\n",
       "      <th></th>\n",
       "      <th></th>\n",
       "    </tr>\n",
       "  </thead>\n",
       "  <tbody>\n",
       "    <tr>\n",
       "      <th>Cinza espacial</th>\n",
       "      <td>0.115826</td>\n",
       "      <td>0.094229</td>\n",
       "      <td>0.021596</td>\n",
       "    </tr>\n",
       "    <tr>\n",
       "      <th>Preto</th>\n",
       "      <td>0.237603</td>\n",
       "      <td>0.257769</td>\n",
       "      <td>0.020166</td>\n",
       "    </tr>\n",
       "    <tr>\n",
       "      <th>Branco</th>\n",
       "      <td>0.094432</td>\n",
       "      <td>0.110130</td>\n",
       "      <td>0.015697</td>\n",
       "    </tr>\n",
       "    <tr>\n",
       "      <th>Prateado</th>\n",
       "      <td>0.088470</td>\n",
       "      <td>0.075019</td>\n",
       "      <td>0.013451</td>\n",
       "    </tr>\n",
       "    <tr>\n",
       "      <th>Ouro Rosa</th>\n",
       "      <td>0.061566</td>\n",
       "      <td>0.048575</td>\n",
       "      <td>0.012992</td>\n",
       "    </tr>\n",
       "    <tr>\n",
       "      <th>Prata</th>\n",
       "      <td>0.027274</td>\n",
       "      <td>0.033679</td>\n",
       "      <td>0.006405</td>\n",
       "    </tr>\n",
       "    <tr>\n",
       "      <th>Rosa</th>\n",
       "      <td>0.032989</td>\n",
       "      <td>0.036171</td>\n",
       "      <td>0.003181</td>\n",
       "    </tr>\n",
       "    <tr>\n",
       "      <th>Dourado</th>\n",
       "      <td>0.205486</td>\n",
       "      <td>0.208209</td>\n",
       "      <td>0.002723</td>\n",
       "    </tr>\n",
       "    <tr>\n",
       "      <th>Azul</th>\n",
       "      <td>0.014946</td>\n",
       "      <td>0.017035</td>\n",
       "      <td>0.002088</td>\n",
       "    </tr>\n",
       "    <tr>\n",
       "      <th>Ametista</th>\n",
       "      <td>0.011563</td>\n",
       "      <td>0.009540</td>\n",
       "      <td>0.002023</td>\n",
       "    </tr>\n",
       "    <tr>\n",
       "      <th>Cinza</th>\n",
       "      <td>0.004798</td>\n",
       "      <td>0.006695</td>\n",
       "      <td>0.001897</td>\n",
       "    </tr>\n",
       "    <tr>\n",
       "      <th>Preto Matte</th>\n",
       "      <td>0.024768</td>\n",
       "      <td>0.023004</td>\n",
       "      <td>0.001764</td>\n",
       "    </tr>\n",
       "    <tr>\n",
       "      <th>Verde</th>\n",
       "      <td>0.004304</td>\n",
       "      <td>0.005821</td>\n",
       "      <td>0.001516</td>\n",
       "    </tr>\n",
       "    <tr>\n",
       "      <th>Vermelho</th>\n",
       "      <td>0.005448</td>\n",
       "      <td>0.004203</td>\n",
       "      <td>0.001245</td>\n",
       "    </tr>\n",
       "    <tr>\n",
       "      <th>Preto Brilhante</th>\n",
       "      <td>0.011652</td>\n",
       "      <td>0.010470</td>\n",
       "      <td>0.001182</td>\n",
       "    </tr>\n",
       "  </tbody>\n",
       "</table>\n",
       "</div>"
      ],
      "text/plain": [
       "                      neg       pos       dif\n",
       "color                                        \n",
       "Cinza espacial   0.115826  0.094229  0.021596\n",
       "Preto            0.237603  0.257769  0.020166\n",
       "Branco           0.094432  0.110130  0.015697\n",
       "Prateado         0.088470  0.075019  0.013451\n",
       "Ouro Rosa        0.061566  0.048575  0.012992\n",
       "Prata            0.027274  0.033679  0.006405\n",
       "Rosa             0.032989  0.036171  0.003181\n",
       "Dourado          0.205486  0.208209  0.002723\n",
       "Azul             0.014946  0.017035  0.002088\n",
       "Ametista         0.011563  0.009540  0.002023\n",
       "Cinza            0.004798  0.006695  0.001897\n",
       "Preto Matte      0.024768  0.023004  0.001764\n",
       "Verde            0.004304  0.005821  0.001516\n",
       "Vermelho         0.005448  0.004203  0.001245\n",
       "Preto Brilhante  0.011652  0.010470  0.001182"
      ]
     },
     "execution_count": 60,
     "metadata": {},
     "output_type": "execute_result"
    }
   ],
   "source": [
    "a.head(15)"
   ]
  },
  {
   "cell_type": "code",
   "execution_count": 59,
   "metadata": {
    "scrolled": false
   },
   "outputs": [
    {
     "data": {
      "text/plain": [
       "Index(['Cinza espacial', 'Preto', 'Branco', 'Prateado', 'Ouro Rosa', 'Prata',\n",
       "       'Rosa', 'Dourado', 'Azul', 'Ametista', 'Cinza', 'Preto Matte', 'Verde',\n",
       "       'Vermelho', 'Preto Brilhante'],\n",
       "      dtype='object', name='color')"
      ]
     },
     "execution_count": 59,
     "metadata": {},
     "output_type": "execute_result"
    }
   ],
   "source": [
    "a.head(15).index"
   ]
  },
  {
   "cell_type": "markdown",
   "metadata": {},
   "source": [
    "### region - visited site"
   ]
  },
  {
   "cell_type": "code",
   "execution_count": 71,
   "metadata": {},
   "outputs": [],
   "source": [
    "# Visito la pagina desde region"
   ]
  },
  {
   "cell_type": "code",
   "execution_count": 74,
   "metadata": {
    "scrolled": true
   },
   "outputs": [
    {
     "data": {
      "text/html": [
       "<div>\n",
       "<style scoped>\n",
       "    .dataframe tbody tr th:only-of-type {\n",
       "        vertical-align: middle;\n",
       "    }\n",
       "\n",
       "    .dataframe tbody tr th {\n",
       "        vertical-align: top;\n",
       "    }\n",
       "\n",
       "    .dataframe thead th {\n",
       "        text-align: right;\n",
       "    }\n",
       "</style>\n",
       "<table border=\"1\" class=\"dataframe\">\n",
       "  <thead>\n",
       "    <tr style=\"text-align: right;\">\n",
       "      <th></th>\n",
       "      <th>neg</th>\n",
       "      <th>pos</th>\n",
       "      <th>dif</th>\n",
       "    </tr>\n",
       "    <tr>\n",
       "      <th>region</th>\n",
       "      <th></th>\n",
       "      <th></th>\n",
       "      <th></th>\n",
       "    </tr>\n",
       "  </thead>\n",
       "  <tbody>\n",
       "    <tr>\n",
       "      <th>Pernambuco</th>\n",
       "      <td>0.032044</td>\n",
       "      <td>0.058810</td>\n",
       "      <td>0.026766</td>\n",
       "    </tr>\n",
       "    <tr>\n",
       "      <th>Sao Paulo</th>\n",
       "      <td>0.281187</td>\n",
       "      <td>0.262350</td>\n",
       "      <td>0.018837</td>\n",
       "    </tr>\n",
       "    <tr>\n",
       "      <th>Minas Gerais</th>\n",
       "      <td>0.094032</td>\n",
       "      <td>0.111460</td>\n",
       "      <td>0.017427</td>\n",
       "    </tr>\n",
       "    <tr>\n",
       "      <th>Espirito Santo</th>\n",
       "      <td>0.020017</td>\n",
       "      <td>0.036294</td>\n",
       "      <td>0.016278</td>\n",
       "    </tr>\n",
       "    <tr>\n",
       "      <th>Bahia</th>\n",
       "      <td>0.073127</td>\n",
       "      <td>0.060491</td>\n",
       "      <td>0.012636</td>\n",
       "    </tr>\n",
       "    <tr>\n",
       "      <th>Para</th>\n",
       "      <td>0.013794</td>\n",
       "      <td>0.025877</td>\n",
       "      <td>0.012082</td>\n",
       "    </tr>\n",
       "    <tr>\n",
       "      <th>Parana</th>\n",
       "      <td>0.029913</td>\n",
       "      <td>0.020836</td>\n",
       "      <td>0.009077</td>\n",
       "    </tr>\n",
       "    <tr>\n",
       "      <th>Paraíba</th>\n",
       "      <td>0.011524</td>\n",
       "      <td>0.002464</td>\n",
       "      <td>0.009059</td>\n",
       "    </tr>\n",
       "    <tr>\n",
       "      <th>Piaui</th>\n",
       "      <td>0.007486</td>\n",
       "      <td>0.016243</td>\n",
       "      <td>0.008757</td>\n",
       "    </tr>\n",
       "    <tr>\n",
       "      <th>Rio de Janeiro</th>\n",
       "      <td>0.083815</td>\n",
       "      <td>0.077294</td>\n",
       "      <td>0.006522</td>\n",
       "    </tr>\n",
       "    <tr>\n",
       "      <th>Maranhao</th>\n",
       "      <td>0.017393</td>\n",
       "      <td>0.023860</td>\n",
       "      <td>0.006467</td>\n",
       "    </tr>\n",
       "    <tr>\n",
       "      <th>Alagoas</th>\n",
       "      <td>0.010089</td>\n",
       "      <td>0.003921</td>\n",
       "      <td>0.006168</td>\n",
       "    </tr>\n",
       "    <tr>\n",
       "      <th>Ceara</th>\n",
       "      <td>0.027289</td>\n",
       "      <td>0.021508</td>\n",
       "      <td>0.005781</td>\n",
       "    </tr>\n",
       "    <tr>\n",
       "      <th>Santa Catarina</th>\n",
       "      <td>0.015733</td>\n",
       "      <td>0.020724</td>\n",
       "      <td>0.004991</td>\n",
       "    </tr>\n",
       "    <tr>\n",
       "      <th>Rio Grande do Sul</th>\n",
       "      <td>0.024761</td>\n",
       "      <td>0.029573</td>\n",
       "      <td>0.004812</td>\n",
       "    </tr>\n",
       "  </tbody>\n",
       "</table>\n",
       "</div>"
      ],
      "text/plain": [
       "                        neg       pos       dif\n",
       "region                                         \n",
       "Pernambuco         0.032044  0.058810  0.026766\n",
       "Sao Paulo          0.281187  0.262350  0.018837\n",
       "Minas Gerais       0.094032  0.111460  0.017427\n",
       "Espirito Santo     0.020017  0.036294  0.016278\n",
       "Bahia              0.073127  0.060491  0.012636\n",
       "Para               0.013794  0.025877  0.012082\n",
       "Parana             0.029913  0.020836  0.009077\n",
       "Paraíba            0.011524  0.002464  0.009059\n",
       "Piaui              0.007486  0.016243  0.008757\n",
       "Rio de Janeiro     0.083815  0.077294  0.006522\n",
       "Maranhao           0.017393  0.023860  0.006467\n",
       "Alagoas            0.010089  0.003921  0.006168\n",
       "Ceara              0.027289  0.021508  0.005781\n",
       "Santa Catarina     0.015733  0.020724  0.004991\n",
       "Rio Grande do Sul  0.024761  0.029573  0.004812"
      ]
     },
     "execution_count": 74,
     "metadata": {},
     "output_type": "execute_result"
    }
   ],
   "source": [
    "a = visited_site[['region','label','event']].groupby(['region','label']).count().unstack()\n",
    "a.columns = ['neg','pos']\n",
    "a['neg'] = a['neg'] / a['neg'].sum()\n",
    "a['pos'] = a['pos'] / a['pos'].sum()\n",
    "a['dif'] = np.abs(a['pos'] - a['neg'])\n",
    "a.sort_values('dif',ascending = False, inplace = True)\n",
    "a.head(15)"
   ]
  },
  {
   "cell_type": "code",
   "execution_count": 75,
   "metadata": {
    "scrolled": false
   },
   "outputs": [
    {
     "data": {
      "text/plain": [
       "Index(['Pernambuco', 'Sao Paulo', 'Minas Gerais', 'Espirito Santo', 'Bahia',\n",
       "       'Para', 'Parana', 'Paraíba', 'Piaui', 'Rio de Janeiro', 'Maranhao',\n",
       "       'Alagoas', 'Ceara', 'Santa Catarina', 'Rio Grande do Sul'],\n",
       "      dtype='object', name='region')"
      ]
     },
     "execution_count": 75,
     "metadata": {},
     "output_type": "execute_result"
    }
   ],
   "source": [
    "a.head(15).index"
   ]
  },
  {
   "cell_type": "markdown",
   "metadata": {},
   "source": [
    "### screen resolution - visited site"
   ]
  },
  {
   "cell_type": "code",
   "execution_count": 78,
   "metadata": {},
   "outputs": [],
   "source": [
    "# Visito la pagina con resolucion"
   ]
  },
  {
   "cell_type": "code",
   "execution_count": 79,
   "metadata": {
    "scrolled": true
   },
   "outputs": [
    {
     "data": {
      "text/html": [
       "<div>\n",
       "<style scoped>\n",
       "    .dataframe tbody tr th:only-of-type {\n",
       "        vertical-align: middle;\n",
       "    }\n",
       "\n",
       "    .dataframe tbody tr th {\n",
       "        vertical-align: top;\n",
       "    }\n",
       "\n",
       "    .dataframe thead th {\n",
       "        text-align: right;\n",
       "    }\n",
       "</style>\n",
       "<table border=\"1\" class=\"dataframe\">\n",
       "  <thead>\n",
       "    <tr style=\"text-align: right;\">\n",
       "      <th></th>\n",
       "      <th>neg</th>\n",
       "      <th>pos</th>\n",
       "      <th>dif</th>\n",
       "    </tr>\n",
       "    <tr>\n",
       "      <th>screen_resolution</th>\n",
       "      <th></th>\n",
       "      <th></th>\n",
       "      <th></th>\n",
       "    </tr>\n",
       "  </thead>\n",
       "  <tbody>\n",
       "    <tr>\n",
       "      <th>360x640</th>\n",
       "      <td>0.376798</td>\n",
       "      <td>0.296325</td>\n",
       "      <td>0.080473</td>\n",
       "    </tr>\n",
       "    <tr>\n",
       "      <th>1366x768</th>\n",
       "      <td>0.234784</td>\n",
       "      <td>0.274927</td>\n",
       "      <td>0.040143</td>\n",
       "    </tr>\n",
       "    <tr>\n",
       "      <th>320x570</th>\n",
       "      <td>0.024419</td>\n",
       "      <td>0.045709</td>\n",
       "      <td>0.021290</td>\n",
       "    </tr>\n",
       "    <tr>\n",
       "      <th>1600x900</th>\n",
       "      <td>0.026978</td>\n",
       "      <td>0.042796</td>\n",
       "      <td>0.015818</td>\n",
       "    </tr>\n",
       "    <tr>\n",
       "      <th>320x534</th>\n",
       "      <td>0.038781</td>\n",
       "      <td>0.023975</td>\n",
       "      <td>0.014806</td>\n",
       "    </tr>\n",
       "    <tr>\n",
       "      <th>1280x1024</th>\n",
       "      <td>0.020124</td>\n",
       "      <td>0.029464</td>\n",
       "      <td>0.009340</td>\n",
       "    </tr>\n",
       "    <tr>\n",
       "      <th>412x732</th>\n",
       "      <td>0.008975</td>\n",
       "      <td>0.000560</td>\n",
       "      <td>0.008415</td>\n",
       "    </tr>\n",
       "    <tr>\n",
       "      <th>375x667</th>\n",
       "      <td>0.011802</td>\n",
       "      <td>0.004929</td>\n",
       "      <td>0.006873</td>\n",
       "    </tr>\n",
       "    <tr>\n",
       "      <th>414x736</th>\n",
       "      <td>0.002003</td>\n",
       "      <td>0.008402</td>\n",
       "      <td>0.006400</td>\n",
       "    </tr>\n",
       "    <tr>\n",
       "      <th>320x490</th>\n",
       "      <td>0.000064</td>\n",
       "      <td>0.005041</td>\n",
       "      <td>0.004977</td>\n",
       "    </tr>\n",
       "    <tr>\n",
       "      <th>1536x864</th>\n",
       "      <td>0.008514</td>\n",
       "      <td>0.013332</td>\n",
       "      <td>0.004817</td>\n",
       "    </tr>\n",
       "    <tr>\n",
       "      <th>320x569</th>\n",
       "      <td>0.005237</td>\n",
       "      <td>0.009635</td>\n",
       "      <td>0.004398</td>\n",
       "    </tr>\n",
       "    <tr>\n",
       "      <th>1920x1080</th>\n",
       "      <td>0.041255</td>\n",
       "      <td>0.045597</td>\n",
       "      <td>0.004342</td>\n",
       "    </tr>\n",
       "    <tr>\n",
       "      <th>1024x768</th>\n",
       "      <td>0.025736</td>\n",
       "      <td>0.030025</td>\n",
       "      <td>0.004289</td>\n",
       "    </tr>\n",
       "    <tr>\n",
       "      <th>1324x745</th>\n",
       "      <td>0.000011</td>\n",
       "      <td>0.004033</td>\n",
       "      <td>0.004022</td>\n",
       "    </tr>\n",
       "  </tbody>\n",
       "</table>\n",
       "</div>"
      ],
      "text/plain": [
       "                        neg       pos       dif\n",
       "screen_resolution                              \n",
       "360x640            0.376798  0.296325  0.080473\n",
       "1366x768           0.234784  0.274927  0.040143\n",
       "320x570            0.024419  0.045709  0.021290\n",
       "1600x900           0.026978  0.042796  0.015818\n",
       "320x534            0.038781  0.023975  0.014806\n",
       "1280x1024          0.020124  0.029464  0.009340\n",
       "412x732            0.008975  0.000560  0.008415\n",
       "375x667            0.011802  0.004929  0.006873\n",
       "414x736            0.002003  0.008402  0.006400\n",
       "320x490            0.000064  0.005041  0.004977\n",
       "1536x864           0.008514  0.013332  0.004817\n",
       "320x569            0.005237  0.009635  0.004398\n",
       "1920x1080          0.041255  0.045597  0.004342\n",
       "1024x768           0.025736  0.030025  0.004289\n",
       "1324x745           0.000011  0.004033  0.004022"
      ]
     },
     "execution_count": 79,
     "metadata": {},
     "output_type": "execute_result"
    }
   ],
   "source": [
    "a = visited_site[['screen_resolution','label','event']].groupby(['screen_resolution','label']).count().unstack()\n",
    "a.columns = ['neg','pos']\n",
    "a['neg'] = a['neg'] / a['neg'].sum()\n",
    "a['pos'] = a['pos'] / a['pos'].sum()\n",
    "a['dif'] = np.abs(a['pos'] - a['neg'])\n",
    "a.sort_values('dif',ascending = False, inplace = True)\n",
    "a.head(15)"
   ]
  },
  {
   "cell_type": "code",
   "execution_count": 80,
   "metadata": {
    "scrolled": false
   },
   "outputs": [
    {
     "data": {
      "text/plain": [
       "Index(['360x640', '1366x768', '320x570', '1600x900', '320x534', '1280x1024',\n",
       "       '412x732', '375x667', '414x736', '320x490', '1536x864', '320x569',\n",
       "       '1920x1080', '1024x768', '1324x745'],\n",
       "      dtype='object', name='screen_resolution')"
      ]
     },
     "execution_count": 80,
     "metadata": {},
     "output_type": "execute_result"
    }
   ],
   "source": [
    "a.head(15).index"
   ]
  },
  {
   "cell_type": "markdown",
   "metadata": {},
   "source": [
    "### operating system version  - visited site"
   ]
  },
  {
   "cell_type": "code",
   "execution_count": 78,
   "metadata": {},
   "outputs": [],
   "source": [
    "# Visito la pagina con operating system version"
   ]
  },
  {
   "cell_type": "code",
   "execution_count": 81,
   "metadata": {
    "scrolled": true
   },
   "outputs": [
    {
     "data": {
      "text/html": [
       "<div>\n",
       "<style scoped>\n",
       "    .dataframe tbody tr th:only-of-type {\n",
       "        vertical-align: middle;\n",
       "    }\n",
       "\n",
       "    .dataframe tbody tr th {\n",
       "        vertical-align: top;\n",
       "    }\n",
       "\n",
       "    .dataframe thead th {\n",
       "        text-align: right;\n",
       "    }\n",
       "</style>\n",
       "<table border=\"1\" class=\"dataframe\">\n",
       "  <thead>\n",
       "    <tr style=\"text-align: right;\">\n",
       "      <th></th>\n",
       "      <th>neg</th>\n",
       "      <th>pos</th>\n",
       "      <th>dif</th>\n",
       "    </tr>\n",
       "    <tr>\n",
       "      <th>operating_system_version</th>\n",
       "      <th></th>\n",
       "      <th></th>\n",
       "      <th></th>\n",
       "    </tr>\n",
       "  </thead>\n",
       "  <tbody>\n",
       "    <tr>\n",
       "      <th>Android 7</th>\n",
       "      <td>0.116202</td>\n",
       "      <td>0.064187</td>\n",
       "      <td>0.052015</td>\n",
       "    </tr>\n",
       "    <tr>\n",
       "      <th>Windows 7</th>\n",
       "      <td>0.217517</td>\n",
       "      <td>0.257981</td>\n",
       "      <td>0.040464</td>\n",
       "    </tr>\n",
       "    <tr>\n",
       "      <th>Windows 10</th>\n",
       "      <td>0.186716</td>\n",
       "      <td>0.227064</td>\n",
       "      <td>0.040348</td>\n",
       "    </tr>\n",
       "    <tr>\n",
       "      <th>Android 5.1</th>\n",
       "      <td>0.014983</td>\n",
       "      <td>0.044808</td>\n",
       "      <td>0.029825</td>\n",
       "    </tr>\n",
       "    <tr>\n",
       "      <th>Android 6.0.1</th>\n",
       "      <td>0.107613</td>\n",
       "      <td>0.083791</td>\n",
       "      <td>0.023822</td>\n",
       "    </tr>\n",
       "    <tr>\n",
       "      <th>Android 7.1.1</th>\n",
       "      <td>0.041244</td>\n",
       "      <td>0.020836</td>\n",
       "      <td>0.020408</td>\n",
       "    </tr>\n",
       "    <tr>\n",
       "      <th>Android 5.0.2</th>\n",
       "      <td>0.020092</td>\n",
       "      <td>0.036294</td>\n",
       "      <td>0.016203</td>\n",
       "    </tr>\n",
       "    <tr>\n",
       "      <th>Android 6</th>\n",
       "      <td>0.076522</td>\n",
       "      <td>0.063851</td>\n",
       "      <td>0.012671</td>\n",
       "    </tr>\n",
       "    <tr>\n",
       "      <th>Android 4.4.2</th>\n",
       "      <td>0.017018</td>\n",
       "      <td>0.010642</td>\n",
       "      <td>0.006376</td>\n",
       "    </tr>\n",
       "    <tr>\n",
       "      <th>iOS 11.2.6</th>\n",
       "      <td>0.003684</td>\n",
       "      <td>0.009858</td>\n",
       "      <td>0.006174</td>\n",
       "    </tr>\n",
       "    <tr>\n",
       "      <th>Windows Phone 8.1</th>\n",
       "      <td>0.001724</td>\n",
       "      <td>0.007505</td>\n",
       "      <td>0.005781</td>\n",
       "    </tr>\n",
       "    <tr>\n",
       "      <th>Android 4.1.2</th>\n",
       "      <td>0.007443</td>\n",
       "      <td>0.002576</td>\n",
       "      <td>0.004867</td>\n",
       "    </tr>\n",
       "    <tr>\n",
       "      <th>Windows Vista</th>\n",
       "      <td>0.000835</td>\n",
       "      <td>0.005489</td>\n",
       "      <td>0.004654</td>\n",
       "    </tr>\n",
       "    <tr>\n",
       "      <th>iOS 10.3.3</th>\n",
       "      <td>0.010389</td>\n",
       "      <td>0.005937</td>\n",
       "      <td>0.004452</td>\n",
       "    </tr>\n",
       "    <tr>\n",
       "      <th>Android 8</th>\n",
       "      <td>0.009210</td>\n",
       "      <td>0.005601</td>\n",
       "      <td>0.003609</td>\n",
       "    </tr>\n",
       "  </tbody>\n",
       "</table>\n",
       "</div>"
      ],
      "text/plain": [
       "                               neg       pos       dif\n",
       "operating_system_version                              \n",
       "Android 7                 0.116202  0.064187  0.052015\n",
       "Windows 7                 0.217517  0.257981  0.040464\n",
       "Windows 10                0.186716  0.227064  0.040348\n",
       "Android 5.1               0.014983  0.044808  0.029825\n",
       "Android 6.0.1             0.107613  0.083791  0.023822\n",
       "Android 7.1.1             0.041244  0.020836  0.020408\n",
       "Android 5.0.2             0.020092  0.036294  0.016203\n",
       "Android 6                 0.076522  0.063851  0.012671\n",
       "Android 4.4.2             0.017018  0.010642  0.006376\n",
       "iOS 11.2.6                0.003684  0.009858  0.006174\n",
       "Windows Phone 8.1         0.001724  0.007505  0.005781\n",
       "Android 4.1.2             0.007443  0.002576  0.004867\n",
       "Windows Vista             0.000835  0.005489  0.004654\n",
       "iOS 10.3.3                0.010389  0.005937  0.004452\n",
       "Android 8                 0.009210  0.005601  0.003609"
      ]
     },
     "execution_count": 81,
     "metadata": {},
     "output_type": "execute_result"
    }
   ],
   "source": [
    "a = visited_site[['operating_system_version','label','event']].groupby(['operating_system_version','label']).count().unstack()\n",
    "a.columns = ['neg','pos']\n",
    "a['neg'] = a['neg'] / a['neg'].sum()\n",
    "a['pos'] = a['pos'] / a['pos'].sum()\n",
    "a['dif'] = np.abs(a['pos'] - a['neg'])\n",
    "a.sort_values('dif',ascending = False, inplace = True)\n",
    "a.head(15)"
   ]
  },
  {
   "cell_type": "code",
   "execution_count": 84,
   "metadata": {
    "scrolled": true
   },
   "outputs": [
    {
     "data": {
      "text/plain": [
       "Index(['Android 7', 'Windows 7 ', 'Windows 10 ', 'Android 5.1',\n",
       "       'Android 6.0.1', 'Android 7.1.1', 'Android 5.0.2', 'Android 6',\n",
       "       'Android 4.4.2', 'iOS 11.2.6', 'Windows Phone 8.1', 'Android 4.1.2',\n",
       "       'Windows Vista ', 'iOS 10.3.3', 'Android 8'],\n",
       "      dtype='object', name='operating_system_version')"
      ]
     },
     "execution_count": 84,
     "metadata": {},
     "output_type": "execute_result"
    }
   ],
   "source": [
    "a.head(15).index"
   ]
  },
  {
   "cell_type": "markdown",
   "metadata": {},
   "source": [
    "### browser version  - visited site"
   ]
  },
  {
   "cell_type": "code",
   "execution_count": 85,
   "metadata": {},
   "outputs": [],
   "source": [
    "# Visito la pagina con browser version"
   ]
  },
  {
   "cell_type": "code",
   "execution_count": 86,
   "metadata": {
    "scrolled": true
   },
   "outputs": [
    {
     "data": {
      "text/html": [
       "<div>\n",
       "<style scoped>\n",
       "    .dataframe tbody tr th:only-of-type {\n",
       "        vertical-align: middle;\n",
       "    }\n",
       "\n",
       "    .dataframe tbody tr th {\n",
       "        vertical-align: top;\n",
       "    }\n",
       "\n",
       "    .dataframe thead th {\n",
       "        text-align: right;\n",
       "    }\n",
       "</style>\n",
       "<table border=\"1\" class=\"dataframe\">\n",
       "  <thead>\n",
       "    <tr style=\"text-align: right;\">\n",
       "      <th></th>\n",
       "      <th>neg</th>\n",
       "      <th>pos</th>\n",
       "      <th>dif</th>\n",
       "    </tr>\n",
       "    <tr>\n",
       "      <th>browser_version</th>\n",
       "      <th></th>\n",
       "      <th></th>\n",
       "      <th></th>\n",
       "    </tr>\n",
       "  </thead>\n",
       "  <tbody>\n",
       "    <tr>\n",
       "      <th>Chrome Mobile 66.0</th>\n",
       "      <td>0.235734</td>\n",
       "      <td>0.147418</td>\n",
       "      <td>0.088317</td>\n",
       "    </tr>\n",
       "    <tr>\n",
       "      <th>Chrome 65.0</th>\n",
       "      <td>0.069646</td>\n",
       "      <td>0.123894</td>\n",
       "      <td>0.054248</td>\n",
       "    </tr>\n",
       "    <tr>\n",
       "      <th>Chrome 66.0</th>\n",
       "      <td>0.278842</td>\n",
       "      <td>0.248684</td>\n",
       "      <td>0.030158</td>\n",
       "    </tr>\n",
       "    <tr>\n",
       "      <th>Chrome 64.0</th>\n",
       "      <td>0.027492</td>\n",
       "      <td>0.048168</td>\n",
       "      <td>0.020676</td>\n",
       "    </tr>\n",
       "    <tr>\n",
       "      <th>Chrome 63.0</th>\n",
       "      <td>0.018732</td>\n",
       "      <td>0.030917</td>\n",
       "      <td>0.012186</td>\n",
       "    </tr>\n",
       "    <tr>\n",
       "      <th>Chrome Mobile 65.0</th>\n",
       "      <td>0.077646</td>\n",
       "      <td>0.088944</td>\n",
       "      <td>0.011297</td>\n",
       "    </tr>\n",
       "    <tr>\n",
       "      <th>Chrome Mobile 64.0</th>\n",
       "      <td>0.038727</td>\n",
       "      <td>0.049737</td>\n",
       "      <td>0.011010</td>\n",
       "    </tr>\n",
       "    <tr>\n",
       "      <th>Chrome Mobile 39</th>\n",
       "      <td>0.010903</td>\n",
       "      <td>0.000112</td>\n",
       "      <td>0.010791</td>\n",
       "    </tr>\n",
       "    <tr>\n",
       "      <th>Chrome Mobile 63.0</th>\n",
       "      <td>0.020531</td>\n",
       "      <td>0.028005</td>\n",
       "      <td>0.007474</td>\n",
       "    </tr>\n",
       "    <tr>\n",
       "      <th>Samsung Internet 3.3</th>\n",
       "      <td>0.003577</td>\n",
       "      <td>0.010754</td>\n",
       "      <td>0.007177</td>\n",
       "    </tr>\n",
       "    <tr>\n",
       "      <th>Samsung Internet 6.4</th>\n",
       "      <td>0.015390</td>\n",
       "      <td>0.008513</td>\n",
       "      <td>0.006877</td>\n",
       "    </tr>\n",
       "    <tr>\n",
       "      <th>Mobile Safari 11</th>\n",
       "      <td>0.023015</td>\n",
       "      <td>0.029573</td>\n",
       "      <td>0.006558</td>\n",
       "    </tr>\n",
       "    <tr>\n",
       "      <th>IE Mobile 11</th>\n",
       "      <td>0.001724</td>\n",
       "      <td>0.007505</td>\n",
       "      <td>0.005781</td>\n",
       "    </tr>\n",
       "    <tr>\n",
       "      <th>Edge 16.16299</th>\n",
       "      <td>0.007069</td>\n",
       "      <td>0.012322</td>\n",
       "      <td>0.005254</td>\n",
       "    </tr>\n",
       "    <tr>\n",
       "      <th>Chrome Mobile 36.0</th>\n",
       "      <td>0.000278</td>\n",
       "      <td>0.005377</td>\n",
       "      <td>0.005098</td>\n",
       "    </tr>\n",
       "  </tbody>\n",
       "</table>\n",
       "</div>"
      ],
      "text/plain": [
       "                           neg       pos       dif\n",
       "browser_version                                   \n",
       "Chrome Mobile 66.0    0.235734  0.147418  0.088317\n",
       "Chrome 65.0           0.069646  0.123894  0.054248\n",
       "Chrome 66.0           0.278842  0.248684  0.030158\n",
       "Chrome 64.0           0.027492  0.048168  0.020676\n",
       "Chrome 63.0           0.018732  0.030917  0.012186\n",
       "Chrome Mobile 65.0    0.077646  0.088944  0.011297\n",
       "Chrome Mobile 64.0    0.038727  0.049737  0.011010\n",
       "Chrome Mobile 39      0.010903  0.000112  0.010791\n",
       "Chrome Mobile 63.0    0.020531  0.028005  0.007474\n",
       "Samsung Internet 3.3  0.003577  0.010754  0.007177\n",
       "Samsung Internet 6.4  0.015390  0.008513  0.006877\n",
       "Mobile Safari 11      0.023015  0.029573  0.006558\n",
       "IE Mobile 11          0.001724  0.007505  0.005781\n",
       "Edge 16.16299         0.007069  0.012322  0.005254\n",
       "Chrome Mobile 36.0    0.000278  0.005377  0.005098"
      ]
     },
     "execution_count": 86,
     "metadata": {},
     "output_type": "execute_result"
    }
   ],
   "source": [
    "a = visited_site[['browser_version','label','event']].groupby(['browser_version','label']).count().unstack()\n",
    "a.columns = ['neg','pos']\n",
    "a['neg'] = a['neg'] / a['neg'].sum()\n",
    "a['pos'] = a['pos'] / a['pos'].sum()\n",
    "a['dif'] = np.abs(a['pos'] - a['neg'])\n",
    "a.sort_values('dif',ascending = False, inplace = True)\n",
    "a.head(15)"
   ]
  },
  {
   "cell_type": "code",
   "execution_count": 87,
   "metadata": {
    "scrolled": true
   },
   "outputs": [
    {
     "data": {
      "text/plain": [
       "Index(['Chrome Mobile 66.0', 'Chrome 65.0', 'Chrome 66.0', 'Chrome 64.0',\n",
       "       'Chrome 63.0', 'Chrome Mobile 65.0', 'Chrome Mobile 64.0',\n",
       "       'Chrome Mobile 39', 'Chrome Mobile 63.0', 'Samsung Internet 3.3',\n",
       "       'Samsung Internet 6.4', 'Mobile Safari 11', 'IE Mobile 11',\n",
       "       'Edge 16.16299', 'Chrome Mobile 36.0'],\n",
       "      dtype='object', name='browser_version')"
      ]
     },
     "execution_count": 87,
     "metadata": {},
     "output_type": "execute_result"
    }
   ],
   "source": [
    "a.head(15).index"
   ]
  },
  {
   "cell_type": "code",
   "execution_count": null,
   "metadata": {},
   "outputs": [],
   "source": []
  },
  {
   "cell_type": "markdown",
   "metadata": {},
   "source": [
    "### campaign source - ad campaign hit"
   ]
  },
  {
   "cell_type": "code",
   "execution_count": 88,
   "metadata": {},
   "outputs": [],
   "source": [
    "# Accedio por campaña publicitaria."
   ]
  },
  {
   "cell_type": "code",
   "execution_count": 89,
   "metadata": {
    "scrolled": true
   },
   "outputs": [],
   "source": [
    "a = ad_campaign_hit[['campaign_source','label','event']].groupby(['campaign_source','label']).count().unstack()\n",
    "a.columns = ['neg','pos']\n",
    "a['neg'] = a['neg'] / a['neg'].sum()\n",
    "a['pos'] = a['pos'] / a['pos'].sum()\n",
    "a['dif'] = np.abs(a['pos'] - a['neg'])\n",
    "a.sort_values('dif',ascending = False, inplace = True)"
   ]
  },
  {
   "cell_type": "code",
   "execution_count": 91,
   "metadata": {
    "scrolled": true
   },
   "outputs": [
    {
     "data": {
      "text/plain": [
       "google              60993\n",
       "criteo              12669\n",
       "rtbhouse            11624\n",
       "zanox                3320\n",
       "emblue               1851\n",
       "manifest              877\n",
       "afilio                862\n",
       "FacebookAds           687\n",
       "voxus                 484\n",
       "rakuten               446\n",
       "bing                  416\n",
       "datacrush             207\n",
       "buscape               146\n",
       "indexa                140\n",
       "Facebook               81\n",
       "afiliado               42\n",
       "blog                   28\n",
       "mercadopago            23\n",
       "yotpo                  17\n",
       "onsite                 10\n",
       "FacebookSocial         10\n",
       "gizmodo                 4\n",
       "MARKETING SOCIAL        3\n",
       "Name: campaign_source, dtype: int64"
      ]
     },
     "execution_count": 91,
     "metadata": {},
     "output_type": "execute_result"
    }
   ],
   "source": [
    "ad_campaign_hit['campaign_source'].value_counts()"
   ]
  },
  {
   "cell_type": "code",
   "execution_count": 90,
   "metadata": {
    "scrolled": true
   },
   "outputs": [
    {
     "data": {
      "text/html": [
       "<div>\n",
       "<style scoped>\n",
       "    .dataframe tbody tr th:only-of-type {\n",
       "        vertical-align: middle;\n",
       "    }\n",
       "\n",
       "    .dataframe tbody tr th {\n",
       "        vertical-align: top;\n",
       "    }\n",
       "\n",
       "    .dataframe thead th {\n",
       "        text-align: right;\n",
       "    }\n",
       "</style>\n",
       "<table border=\"1\" class=\"dataframe\">\n",
       "  <thead>\n",
       "    <tr style=\"text-align: right;\">\n",
       "      <th></th>\n",
       "      <th>neg</th>\n",
       "      <th>pos</th>\n",
       "      <th>dif</th>\n",
       "    </tr>\n",
       "    <tr>\n",
       "      <th>campaign_source</th>\n",
       "      <th></th>\n",
       "      <th></th>\n",
       "      <th></th>\n",
       "    </tr>\n",
       "  </thead>\n",
       "  <tbody>\n",
       "    <tr>\n",
       "      <th>rtbhouse</th>\n",
       "      <td>0.120894</td>\n",
       "      <td>0.144718</td>\n",
       "      <td>0.023824</td>\n",
       "    </tr>\n",
       "    <tr>\n",
       "      <th>criteo</th>\n",
       "      <td>0.134836</td>\n",
       "      <td>0.113300</td>\n",
       "      <td>0.021536</td>\n",
       "    </tr>\n",
       "    <tr>\n",
       "      <th>google</th>\n",
       "      <td>0.641531</td>\n",
       "      <td>0.655543</td>\n",
       "      <td>0.014012</td>\n",
       "    </tr>\n",
       "    <tr>\n",
       "      <th>zanox</th>\n",
       "      <td>0.035564</td>\n",
       "      <td>0.026371</td>\n",
       "      <td>0.009193</td>\n",
       "    </tr>\n",
       "    <tr>\n",
       "      <th>manifest</th>\n",
       "      <td>0.009798</td>\n",
       "      <td>0.001140</td>\n",
       "      <td>0.008658</td>\n",
       "    </tr>\n",
       "    <tr>\n",
       "      <th>bing</th>\n",
       "      <td>0.004110</td>\n",
       "      <td>0.008302</td>\n",
       "      <td>0.004192</td>\n",
       "    </tr>\n",
       "    <tr>\n",
       "      <th>afilio</th>\n",
       "      <td>0.009347</td>\n",
       "      <td>0.005209</td>\n",
       "      <td>0.004138</td>\n",
       "    </tr>\n",
       "    <tr>\n",
       "      <th>buscape</th>\n",
       "      <td>0.001408</td>\n",
       "      <td>0.003419</td>\n",
       "      <td>0.002011</td>\n",
       "    </tr>\n",
       "    <tr>\n",
       "      <th>rakuten</th>\n",
       "      <td>0.004809</td>\n",
       "      <td>0.003093</td>\n",
       "      <td>0.001716</td>\n",
       "    </tr>\n",
       "    <tr>\n",
       "      <th>FacebookAds</th>\n",
       "      <td>0.007331</td>\n",
       "      <td>0.005860</td>\n",
       "      <td>0.001471</td>\n",
       "    </tr>\n",
       "    <tr>\n",
       "      <th>indexa</th>\n",
       "      <td>0.001385</td>\n",
       "      <td>0.002767</td>\n",
       "      <td>0.001382</td>\n",
       "    </tr>\n",
       "    <tr>\n",
       "      <th>datacrush</th>\n",
       "      <td>0.002095</td>\n",
       "      <td>0.003419</td>\n",
       "      <td>0.001324</td>\n",
       "    </tr>\n",
       "    <tr>\n",
       "      <th>emblue</th>\n",
       "      <td>0.019539</td>\n",
       "      <td>0.018883</td>\n",
       "      <td>0.000656</td>\n",
       "    </tr>\n",
       "    <tr>\n",
       "      <th>blog</th>\n",
       "      <td>0.000270</td>\n",
       "      <td>0.000651</td>\n",
       "      <td>0.000381</td>\n",
       "    </tr>\n",
       "    <tr>\n",
       "      <th>yotpo</th>\n",
       "      <td>0.000158</td>\n",
       "      <td>0.000488</td>\n",
       "      <td>0.000331</td>\n",
       "    </tr>\n",
       "  </tbody>\n",
       "</table>\n",
       "</div>"
      ],
      "text/plain": [
       "                      neg       pos       dif\n",
       "campaign_source                              \n",
       "rtbhouse         0.120894  0.144718  0.023824\n",
       "criteo           0.134836  0.113300  0.021536\n",
       "google           0.641531  0.655543  0.014012\n",
       "zanox            0.035564  0.026371  0.009193\n",
       "manifest         0.009798  0.001140  0.008658\n",
       "bing             0.004110  0.008302  0.004192\n",
       "afilio           0.009347  0.005209  0.004138\n",
       "buscape          0.001408  0.003419  0.002011\n",
       "rakuten          0.004809  0.003093  0.001716\n",
       "FacebookAds      0.007331  0.005860  0.001471\n",
       "indexa           0.001385  0.002767  0.001382\n",
       "datacrush        0.002095  0.003419  0.001324\n",
       "emblue           0.019539  0.018883  0.000656\n",
       "blog             0.000270  0.000651  0.000381\n",
       "yotpo            0.000158  0.000488  0.000331"
      ]
     },
     "execution_count": 90,
     "metadata": {},
     "output_type": "execute_result"
    }
   ],
   "source": [
    "a.head(15)"
   ]
  },
  {
   "cell_type": "code",
   "execution_count": 96,
   "metadata": {
    "scrolled": false
   },
   "outputs": [
    {
     "data": {
      "text/plain": [
       "Index(['rtbhouse', 'criteo', 'google', 'zanox', 'manifest', 'bing', 'afilio',\n",
       "       'buscape', 'rakuten', 'FacebookAds', 'indexa', 'datacrush', 'emblue',\n",
       "       'blog', 'yotpo'],\n",
       "      dtype='object', name='campaign_source')"
      ]
     },
     "execution_count": 96,
     "metadata": {},
     "output_type": "execute_result"
    }
   ],
   "source": [
    "a.head(15).index"
   ]
  },
  {
   "cell_type": "code",
   "execution_count": null,
   "metadata": {},
   "outputs": [],
   "source": []
  },
  {
   "cell_type": "code",
   "execution_count": null,
   "metadata": {},
   "outputs": [],
   "source": []
  },
  {
   "cell_type": "code",
   "execution_count": 20,
   "metadata": {},
   "outputs": [],
   "source": [
    "# Cantidad de veces que hace un evento en mes."
   ]
  },
  {
   "cell_type": "code",
   "execution_count": 23,
   "metadata": {},
   "outputs": [],
   "source": [
    "top_pos = df_positive['month'].value_counts(normalize = True).head(20)\n",
    "top_neg = df_negative['month'].value_counts(normalize = True).head(20)"
   ]
  },
  {
   "cell_type": "code",
   "execution_count": 24,
   "metadata": {
    "scrolled": false
   },
   "outputs": [
    {
     "data": {
      "image/png": "[encoded data removed]",
      "text/plain": [
       "<Figure size 432x288 with 1 Axes>"
      ]
     },
     "metadata": {},
     "output_type": "display_data"
    }
   ],
   "source": [
    "width = 0.8\n",
    "indices = np.arange(len(top_pos.index))\n",
    "plt.bar(indices,top_pos.values,width = width, color = 'b',label = 'Positivos')\n",
    "plt.bar(indices,top_neg.values,width = 0.6*width, color = 'r',label = 'Negativos',alpha = 0.8)\n",
    "plt.xticks(indices, top_pos.index,rotation = 'vertical')\n",
    "plt.legend()\n",
    "plt.show()"
   ]
  },
  {
   "cell_type": "code",
   "execution_count": 31,
   "metadata": {},
   "outputs": [],
   "source": [
    "# Cantidad de veces que hace un evento en dia del mes."
   ]
  },
  {
   "cell_type": "code",
   "execution_count": 32,
   "metadata": {},
   "outputs": [],
   "source": [
    "top_pos = df_positive['day'].value_counts(normalize = True)\n",
    "top_neg = df_negative['day'].value_counts(normalize = True)"
   ]
  },
  {
   "cell_type": "code",
   "execution_count": 33,
   "metadata": {
    "scrolled": true
   },
   "outputs": [
    {
     "data": {
      "image/png": "[encoded data removed]",
      "text/plain": [
       "<Figure size 432x288 with 1 Axes>"
      ]
     },
     "metadata": {},
     "output_type": "display_data"
    }
   ],
   "source": [
    "width = 0.8\n",
    "indices = np.arange(len(top_pos.index))\n",
    "plt.bar(indices,top_pos.values,width = width, color = 'b',label = 'Positivos')\n",
    "plt.bar(indices,top_neg.values,width = 0.6*width, color = 'r',label = 'Negativos',alpha = 0.8)\n",
    "plt.xticks(indices, top_pos.index,rotation = 'vertical')\n",
    "plt.legend()\n",
    "plt.show()"
   ]
  },
  {
   "cell_type": "code",
   "execution_count": 20,
   "metadata": {},
   "outputs": [],
   "source": [
    "# Cantidad de veces que hace un evento en dia de semana."
   ]
  },
  {
   "cell_type": "code",
   "execution_count": 29,
   "metadata": {},
   "outputs": [],
   "source": [
    "top_pos = df_positive['day_of_week'].value_counts(normalize = True)\n",
    "top_neg = df_negative['day_of_week'].value_counts(normalize = True)"
   ]
  },
  {
   "cell_type": "code",
   "execution_count": 30,
   "metadata": {
    "scrolled": true
   },
   "outputs": [
    {
     "data": {
      "image/png": "[encoded data removed]",
      "text/plain": [
       "<Figure size 432x288 with 1 Axes>"
      ]
     },
     "metadata": {},
     "output_type": "display_data"
    }
   ],
   "source": [
    "width = 0.8\n",
    "indices = np.arange(len(top_pos.index))\n",
    "plt.bar(indices,top_pos.values,width = width, color = 'b',label = 'Positivos')\n",
    "plt.bar(indices,top_neg.values,width = 0.6*width, color = 'r',label = 'Negativos',alpha = 0.8)\n",
    "plt.xticks(indices, top_pos.index,rotation = 'vertical')\n",
    "plt.legend()\n",
    "plt.show()"
   ]
  },
  {
   "cell_type": "code",
   "execution_count": 34,
   "metadata": {},
   "outputs": [],
   "source": [
    "# Cantidad de veces que hace un evento en dia del año."
   ]
  },
  {
   "cell_type": "code",
   "execution_count": 39,
   "metadata": {},
   "outputs": [],
   "source": [
    "top_pos = df_positive['day_of_year'].value_counts(normalize = True).head(20)\n",
    "top_neg = df_negative['day_of_year'].value_counts(normalize = True).head(20)"
   ]
  },
  {
   "cell_type": "code",
   "execution_count": 40,
   "metadata": {
    "scrolled": false
   },
   "outputs": [
    {
     "data": {
      "image/png": "[encoded data removed]",
      "text/plain": [
       "<Figure size 432x288 with 1 Axes>"
      ]
     },
     "metadata": {},
     "output_type": "display_data"
    }
   ],
   "source": [
    "width = 0.8\n",
    "indices = np.arange(len(top_pos.index))\n",
    "plt.bar(indices,top_pos.values,width = width, color = 'b',label = 'Positivos')\n",
    "plt.bar(indices,top_neg.values,width = 0.6*width, color = 'r',label = 'Negativos',alpha = 0.8)\n",
    "plt.xticks(indices, top_pos.index,rotation = 'vertical')\n",
    "plt.legend()\n",
    "plt.show()"
   ]
  },
  {
   "cell_type": "code",
   "execution_count": 34,
   "metadata": {},
   "outputs": [],
   "source": [
    "# Cantidad de veces que hace un evento en hora."
   ]
  },
  {
   "cell_type": "code",
   "execution_count": 41,
   "metadata": {},
   "outputs": [],
   "source": [
    "top_pos = df_positive['hour'].value_counts(normalize = True).head(20)\n",
    "top_neg = df_negative['hour'].value_counts(normalize = True).head(20)"
   ]
  },
  {
   "cell_type": "code",
   "execution_count": 42,
   "metadata": {
    "scrolled": true
   },
   "outputs": [
    {
     "data": {
      "image/png": "[encoded data removed]",
      "text/plain": [
       "<Figure size 432x288 with 1 Axes>"
      ]
     },
     "metadata": {},
     "output_type": "display_data"
    }
   ],
   "source": [
    "width = 0.8\n",
    "indices = np.arange(len(top_pos.index))\n",
    "plt.bar(indices,top_pos.values,width = width, color = 'b',label = 'Positivos')\n",
    "plt.bar(indices,top_neg.values,width = 0.6*width, color = 'r',label = 'Negativos',alpha = 0.8)\n",
    "plt.xticks(indices, top_pos.index,rotation = 'vertical')\n",
    "plt.legend()\n",
    "plt.show()"
   ]
  },
  {
   "cell_type": "code",
   "execution_count": 34,
   "metadata": {},
   "outputs": [],
   "source": [
    "# Cantidad de veces que hace un evento en minuto."
   ]
  },
  {
   "cell_type": "code",
   "execution_count": 43,
   "metadata": {},
   "outputs": [],
   "source": [
    "top_pos = df_positive['minute'].value_counts(normalize = True).head(20)\n",
    "top_neg = df_negative['minute'].value_counts(normalize = True).head(20)"
   ]
  },
  {
   "cell_type": "code",
   "execution_count": 44,
   "metadata": {
    "scrolled": true
   },
   "outputs": [
    {
     "data": {
      "image/png": "[encoded data removed]",
      "text/plain": [
       "<Figure size 432x288 with 1 Axes>"
      ]
     },
     "metadata": {},
     "output_type": "display_data"
    }
   ],
   "source": [
    "width = 0.8\n",
    "indices = np.arange(len(top_pos.index))\n",
    "plt.bar(indices,top_pos.values,width = width, color = 'b',label = 'Positivos')\n",
    "plt.bar(indices,top_neg.values,width = 0.6*width, color = 'r',label = 'Negativos',alpha = 0.8)\n",
    "plt.xticks(indices, top_pos.index,rotation = 'vertical')\n",
    "plt.legend()\n",
    "plt.show()"
   ]
  },
  {
   "cell_type": "code",
   "execution_count": 34,
   "metadata": {},
   "outputs": [],
   "source": [
    "# Cantidad de veces que hace un evento en semana del año."
   ]
  },
  {
   "cell_type": "code",
   "execution_count": 82,
   "metadata": {},
   "outputs": [],
   "source": [
    "top_pos = df_positive['week_of_year'].value_counts(normalize = True).head(20)\n",
    "top_neg = df_negative['week_of_year'].value_counts(normalize = True).head(20)"
   ]
  },
  {
   "cell_type": "code",
   "execution_count": 83,
   "metadata": {
    "scrolled": false
   },
   "outputs": [
    {
     "data": {
      "image/png": "[encoded data removed]",
      "text/plain": [
       "<Figure size 432x288 with 1 Axes>"
      ]
     },
     "metadata": {},
     "output_type": "display_data"
    }
   ],
   "source": [
    "width = 0.8\n",
    "indices = np.arange(len(top_pos.index))\n",
    "plt.bar(indices,top_pos.values,width = width, color = 'b',label = 'Positivos')\n",
    "plt.bar(indices,top_neg.values,width = 0.6*width, color = 'r',label = 'Negativos',alpha = 0.8)\n",
    "plt.xticks(indices, top_pos.index,rotation = 'vertical')\n",
    "plt.legend()\n",
    "plt.show()"
   ]
  },
  {
   "cell_type": "code",
   "execution_count": 85,
   "metadata": {
    "scrolled": true
   },
   "outputs": [
    {
     "data": {
      "image/png": "[encoded data removed]",
      "text/plain": [
       "<Figure size 432x288 with 1 Axes>"
      ]
     },
     "metadata": {},
     "output_type": "display_data"
    }
   ],
   "source": [
    "diferencia = np.abs(top_pos - top_neg).sort_values(ascending = False)\n",
    "width = 0.8\n",
    "indices = np.arange(len(diferencia.index))\n",
    "plt.bar(indices,diferencia.values,width = width, color = 'b',label = 'Modulo de la diferencia')\n",
    "plt.xticks(indices, diferencia.index,rotation = 'vertical')\n",
    "plt.legend()\n",
    "plt.show()"
   ]
  },
  {
   "cell_type": "code",
   "execution_count": null,
   "metadata": {},
   "outputs": [],
   "source": [
    "diferencia = np.abs(top_pos - top_neg).sort_values(ascending = False)\n",
    "width = 0.8\n",
    "indices = np.arange(len(diferencia.index))\n",
    "plt.bar(indices,diferencia.values,width = width, color = 'b',label = 'Positivos')\n",
    "plt.xticks(indices, diferencia.index,rotation = 'vertical')\n",
    "plt.legend()\n",
    "plt.show()"
   ]
  },
  {
   "cell_type": "code",
   "execution_count": 34,
   "metadata": {},
   "outputs": [],
   "source": [
    "# Device type"
   ]
  },
  {
   "cell_type": "code",
   "execution_count": 58,
   "metadata": {},
   "outputs": [],
   "source": [
    "top_pos = df_positive['device_type'].value_counts(normalize = True)\n",
    "top_neg = df_negative['device_type'].value_counts(normalize = True).head(3)"
   ]
  },
  {
   "cell_type": "code",
   "execution_count": 59,
   "metadata": {
    "scrolled": false
   },
   "outputs": [
    {
     "data": {
      "image/png": "[encoded data removed]",
      "text/plain": [
       "<Figure size 432x288 with 1 Axes>"
      ]
     },
     "metadata": {},
     "output_type": "display_data"
    }
   ],
   "source": [
    "width = 0.8\n",
    "indices = np.arange(len(top_pos.index))\n",
    "plt.bar(indices,top_pos.values,width = width, color = 'b',label = 'Positivos')\n",
    "plt.bar(indices,top_neg.values,width = 0.6*width, color = 'r',label = 'Negativos',alpha = 0.8)\n",
    "plt.xticks(indices, top_pos.index,rotation = 'vertical')\n",
    "plt.legend()\n",
    "plt.show()"
   ]
  },
  {
   "cell_type": "code",
   "execution_count": 34,
   "metadata": {},
   "outputs": [],
   "source": [
    "# Ciudad"
   ]
  },
  {
   "cell_type": "code",
   "execution_count": 65,
   "metadata": {},
   "outputs": [],
   "source": [
    "top_pos = df_positive['city'].value_counts(normalize = True).head(30)\n",
    "top_neg = df_negative['city'].value_counts(normalize = True).head(30)"
   ]
  },
  {
   "cell_type": "code",
   "execution_count": 66,
   "metadata": {
    "scrolled": true
   },
   "outputs": [
    {
     "data": {
      "image/png": "[encoded data removed]",
      "text/plain": [
       "<Figure size 432x288 with 1 Axes>"
      ]
     },
     "metadata": {},
     "output_type": "display_data"
    }
   ],
   "source": [
    "width = 0.8\n",
    "indices = np.arange(len(top_pos.index))\n",
    "plt.bar(indices,top_pos.values,width = width, color = 'b',label = 'Positivos')\n",
    "plt.bar(indices,top_neg.values,width = 0.6*width, color = 'r',label = 'Negativos',alpha = 0.8)\n",
    "plt.xticks(indices, top_pos.index,rotation = 'vertical')\n",
    "plt.legend()\n",
    "plt.show()"
   ]
  },
  {
   "cell_type": "code",
   "execution_count": 34,
   "metadata": {},
   "outputs": [],
   "source": [
    "# Region"
   ]
  },
  {
   "cell_type": "code",
   "execution_count": 67,
   "metadata": {},
   "outputs": [],
   "source": [
    "top_pos = df_positive['region'].value_counts(normalize = True).head(30)\n",
    "top_neg = df_negative['region'].value_counts(normalize = True).head(30)"
   ]
  },
  {
   "cell_type": "code",
   "execution_count": 68,
   "metadata": {
    "scrolled": true
   },
   "outputs": [
    {
     "data": {
      "image/png": "[encoded data removed]",
      "text/plain": [
       "<Figure size 432x288 with 1 Axes>"
      ]
     },
     "metadata": {},
     "output_type": "display_data"
    }
   ],
   "source": [
    "width = 0.8\n",
    "indices = np.arange(len(top_pos.index))\n",
    "plt.bar(indices,top_pos.values,width = width, color = 'b',label = 'Positivos')\n",
    "plt.bar(indices,top_neg.values,width = 0.6*width, color = 'r',label = 'Negativos',alpha = 0.8)\n",
    "plt.xticks(indices, top_pos.index,rotation = 'vertical')\n",
    "plt.legend()\n",
    "plt.show()"
   ]
  },
  {
   "cell_type": "code",
   "execution_count": 34,
   "metadata": {},
   "outputs": [],
   "source": [
    "# Screen resolution"
   ]
  },
  {
   "cell_type": "code",
   "execution_count": 88,
   "metadata": {},
   "outputs": [],
   "source": [
    "top_pos = df_positive['screen_resolution'].value_counts(normalize = True).head(15)\n",
    "top_neg = df_negative['screen_resolution'].value_counts(normalize = True).head(15)"
   ]
  },
  {
   "cell_type": "code",
   "execution_count": 89,
   "metadata": {
    "scrolled": false
   },
   "outputs": [
    {
     "data": {
      "image/png": "[encoded data removed]",
      "text/plain": [
       "<Figure size 432x288 with 1 Axes>"
      ]
     },
     "metadata": {},
     "output_type": "display_data"
    }
   ],
   "source": [
    "width = 0.8\n",
    "indices = np.arange(len(top_pos.index))\n",
    "plt.bar(indices,top_pos.values,width = width, color = 'b',label = 'Positivos')\n",
    "plt.bar(indices,top_neg.values,width = 0.6*width, color = 'r',label = 'Negativos',alpha = 0.8)\n",
    "plt.xticks(indices, top_pos.index,rotation = 'vertical')\n",
    "plt.legend()\n",
    "plt.show()"
   ]
  },
  {
   "cell_type": "code",
   "execution_count": 90,
   "metadata": {
    "scrolled": true
   },
   "outputs": [
    {
     "data": {
      "image/png": "[encoded data removed]",
      "text/plain": [
       "<Figure size 432x288 with 1 Axes>"
      ]
     },
     "metadata": {},
     "output_type": "display_data"
    }
   ],
   "source": [
    "diferencia = np.abs(top_pos - top_neg).sort_values(ascending = False)\n",
    "width = 0.8\n",
    "indices = np.arange(len(diferencia.index))\n",
    "plt.bar(indices,diferencia.values,width = width, color = 'b',label = 'Modulo de la diferencia')\n",
    "plt.xticks(indices, diferencia.index,rotation = 'vertical')\n",
    "plt.legend()\n",
    "plt.show()"
   ]
  },
  {
   "cell_type": "code",
   "execution_count": null,
   "metadata": {},
   "outputs": [],
   "source": []
  },
  {
   "cell_type": "code",
   "execution_count": null,
   "metadata": {},
   "outputs": [],
   "source": []
  },
  {
   "cell_type": "code",
   "execution_count": null,
   "metadata": {},
   "outputs": [],
   "source": []
  },
  {
   "cell_type": "code",
   "execution_count": null,
   "metadata": {},
   "outputs": [],
   "source": [
    "\n",
    "# GRAFICO DE LINEA..\n",
    "(ad_campaign_hit.loc[ad_campaign_hit['campaign_source'] == 'google']).groupby('timestamp_dayofyear')\\\n",
    "                .count().loc[:,'event'].plot(linewidth=2,figsize=(8,4),label = 'Google')\n",
    "(ad_campaign_hit.loc[ad_campaign_hit['campaign_source'] == 'zanox']).groupby('timestamp_dayofyear')\\\n",
    "                .count().loc[:,'event'].plot(linewidth=2,figsize=(8,4), label = 'Zanox')\n",
    "(ad_campaign_hit.loc[ad_campaign_hit['campaign_source'] == 'criteo']).groupby('timestamp_dayofyear')\\\n",
    "                .count().loc[:,'event'].plot(linewidth=2,figsize=(8,4), label = 'Criteo')\n",
    "(ad_campaign_hit.loc[ad_campaign_hit['campaign_source'] == 'rtbhouse']).groupby('timestamp_dayofyear')\\\n",
    "                .count().loc[:,'event'].plot(linewidth=2,figsize=(8,4), label = 'Rtbhouse')\n",
    "(ad_campaign_hit.loc[ad_campaign_hit['campaign_source'] == 'emblue']).groupby('timestamp_dayofyear')\\\n",
    "                .count().loc[:,'event'].plot(linewidth=2,figsize=(8,4), label = 'Emblue')\n",
    "\n",
    "plt.legend(loc='upper left', bbox_to_anchor=(1,1), ncol=1)\n",
    "plt.ylabel('Cantidad de clicks')\n",
    "plt.xlabel('Día del año')\n",
    "plt.title('Cantidad de clicks en el top5 de publiciades según los días del año')"
   ]
  }
 ],
 "metadata": {
  "kernelspec": {
   "display_name": "Python 3",
   "language": "python",
   "name": "python3"
  },
  "language_info": {
   "codemirror_mode": {
    "name": "ipython",
    "version": 3
   },
   "file_extension": ".py",
   "mimetype": "text/x-python",
   "name": "python",
   "nbconvert_exporter": "python",
   "pygments_lexer": "ipython3",
   "version": "3.6.5"
  }
 },
 "nbformat": 4,
 "nbformat_minor": 2
}
