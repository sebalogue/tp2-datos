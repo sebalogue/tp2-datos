{
 "cells": [
  {
   "cell_type": "code",
   "execution_count": null,
   "metadata": {},
   "outputs": [],
   "source": []
  },
  {
   "cell_type": "code",
   "execution_count": 1,
   "metadata": {},
   "outputs": [
    {
     "name": "stderr",
     "output_type": "stream",
     "text": [
      "/anaconda3/lib/python3.6/site-packages/IPython/core/interactiveshell.py:2785: DtypeWarning: Columns (3,5,6,7,8,9,10,11,12,13,14,15,16,17,18,19,20,21,22) have mixed types. Specify dtype option on import or set low_memory=False.\n",
      "  interactivity=interactivity, compiler=compiler, result=result)\n"
     ]
    }
   ],
   "source": [
    "import pandas as pd\n",
    "import numpy as np\n",
    "\n",
    "tf = pd.read_csv('../data/events_up_to_01062018.csv')\n"
   ]
  },
  {
   "cell_type": "markdown",
   "metadata": {},
   "source": [
    "**Divido las fechas**"
   ]
  },
  {
   "cell_type": "code",
   "execution_count": 2,
   "metadata": {},
   "outputs": [],
   "source": [
    "tf[\"timestamp\"] = pd.to_datetime(tf[\"timestamp\"])\n",
    "tf[\"month\"] = tf[\"timestamp\"].dt.month\n",
    "tf[\"day\"] = tf[\"timestamp\"].dt.day\n",
    "tf[\"hour\"] = tf[\"timestamp\"].dt.hour\n",
    "tf['dayOfTheWeek'] = tf['timestamp'].dt.dayofweek"
   ]
  },
  {
   "cell_type": "markdown",
   "metadata": {},
   "source": [
    "** Cantidad de personas que tengo **"
   ]
  },
  {
   "cell_type": "code",
   "execution_count": 3,
   "metadata": {},
   "outputs": [],
   "source": [
    "#tf.person"
   ]
  },
  {
   "cell_type": "code",
   "execution_count": 4,
   "metadata": {},
   "outputs": [
    {
     "data": {
      "text/plain": [
       "person    38829\n",
       "dtype: int64"
      ]
     },
     "execution_count": 4,
     "metadata": {},
     "output_type": "execute_result"
    }
   ],
   "source": [
    "persons = tf.person.drop_duplicates()\n",
    "persons = pd.DataFrame(persons)\n",
    "persons.count()"
   ]
  },
  {
   "cell_type": "markdown",
   "metadata": {},
   "source": [
    "**Divido por evento me quedo con las columnas obligatorias por evento**\n",
    "\n",
    "En en análisis exporatorio me había dado cuenta que no todos los eventos tienen la misma información, por lo tanto, intentaré combinar los eventos con el objetivo de encontrar **nuevos features**. \n",
    "\n",
    "Para comenzar divido en distintos DataFrames los distintos eventos, eliminando información que no es útil. "
   ]
  },
  {
   "cell_type": "code",
   "execution_count": 5,
   "metadata": {},
   "outputs": [
    {
     "name": "stderr",
     "output_type": "stream",
     "text": [
      "/anaconda3/lib/python3.6/site-packages/pandas/core/indexing.py:1472: FutureWarning: \n",
      "Passing list-likes to .loc or [] with any missing label will raise\n",
      "KeyError in the future, you can use .reindex() as an alternative.\n",
      "\n",
      "See the documentation here:\n",
      "https://pandas.pydata.org/pandas-docs/stable/indexing.html#deprecate-loc-reindex-listlike\n",
      "  return self._getitem_tuple(key)\n"
     ]
    }
   ],
   "source": [
    "viewedProduct  = tf[tf['event'] == 'viewed product'].loc[:,['dayOfTheWeek','hour','month','day','person','sku','model','condition','storage','color']]\n",
    "brandListing = tf[tf['event'] == 'brand listing'].loc[:,['dayOfTheWeek','hour','month','day','person','skus']]\n",
    "visitedSite = tf[tf['event'] == 'visited site'].loc[:,['dayOfTheWeek','hour','month','day','person','channel','new_vs_returning','city','region','country','device_type',\\\n",
    "                                                       'screen resolution','operating system version','browser version']]\n",
    "adCampaignHit = tf[tf['event'] == 'ad campaign hit'].loc[:,['dayOfTheWeek','hour','month','day','person','url','campaign_source']]\n",
    "genericListing = tf[tf['event'] == 'generic listing'].loc[:,['dayOfTheWeek','hour','month','day','person','skus']]\n",
    "searchedProduct = tf[tf['event'] == 'searched products'].loc[:,['dayOfTheWeek','hour','month','day','person','skus','search_term']]\n",
    "searchEngineHit = tf[tf['event'] == 'search engine hit'].loc[:,['dayOfTheWeek','hour','month','day','person','search engine']]\n",
    "checkout = tf[tf['event'] == 'checkout'].loc[:,['dayOfTheWeek','hour','month','day','person','sku','color','storage','model','condition']]\n",
    "staticPage = tf[tf['event'] == 'staticpage'].loc[:,['dayOfTheWeek','hour','month','day','person','static page']]\n",
    "conversion = tf[tf['event'] == 'conversion'].loc[:,['dayOfTheWeek','hour','month','day','person','sku','model','color','condition','storage']]\n",
    "lead = tf[tf['event'] == 'lead'].loc[:,['dayOfTheWeek','hour','month','day','person','model']]"
   ]
  },
  {
   "cell_type": "markdown",
   "metadata": {},
   "source": [
    "**Buscar atributos de otro evento que no sea conversion**\n"
   ]
  },
  {
   "cell_type": "markdown",
   "metadata": {},
   "source": [
    "La primera instancia que analizaré es si el usuario es nuevo o no, analizando del visited site el atributo 'new_vs_returning'"
   ]
  },
  {
   "cell_type": "markdown",
   "metadata": {},
   "source": [
    "### 1º El usuario realiza un compra habiendo visitado la página una vez ###"
   ]
  },
  {
   "cell_type": "markdown",
   "metadata": {},
   "source": [
    "Intentaré determinar ahora si el usuario que realizó una conversión sólo realizó una única visita al sitio. Para ello debo fijarme en visited site si existe algún valor que sea returning, en tal caso, deja de ser nuevo. "
   ]
  },
  {
   "cell_type": "code",
   "execution_count": 6,
   "metadata": {},
   "outputs": [],
   "source": [
    "newVsReturning = visitedSite.loc[:,['person','new_vs_returning']]\n",
    "newVsReturning = newVsReturning.groupby('person').new_vs_returning.value_counts().to_frame('cantidad')\n",
    "newVsReturning = newVsReturning.unstack().fillna(0)\n",
    "newVsReturning = newVsReturning.reset_index()\n",
    "newVsReturning.columns = ['person','new','returning']\n",
    "newVsReturning['esNuevo'] = newVsReturning['returning'] == 0"
   ]
  },
  {
   "cell_type": "markdown",
   "metadata": {},
   "source": [
    "Agrego este atributo a conversion con un merge"
   ]
  },
  {
   "cell_type": "code",
   "execution_count": 7,
   "metadata": {},
   "outputs": [],
   "source": [
    "labels_f = pd.merge(persons, newVsReturning.loc[:,['esNuevo','person']], how = 'left', on = 'person')"
   ]
  },
  {
   "cell_type": "code",
   "execution_count": 8,
   "metadata": {},
   "outputs": [
    {
     "data": {
      "text/plain": [
       "False    38242\n",
       "True       587\n",
       "Name: esNuevo, dtype: int64"
      ]
     },
     "execution_count": 8,
     "metadata": {},
     "output_type": "execute_result"
    }
   ],
   "source": [
    "labels_f.esNuevo.isnull().value_counts()"
   ]
  },
  {
   "cell_type": "code",
   "execution_count": 9,
   "metadata": {},
   "outputs": [
    {
     "name": "stdout",
     "output_type": "stream",
     "text": [
      "<class 'bool'>\n"
     ]
    }
   ],
   "source": [
    "moda = labels_f.esNuevo.mode().iloc[0]\n",
    "print(type(moda))\n",
    "labels_f['esNuevo'] = labels_f['esNuevo'].fillna(moda)\n"
   ]
  },
  {
   "cell_type": "code",
   "execution_count": 10,
   "metadata": {},
   "outputs": [
    {
     "data": {
      "text/html": [
       "<div>\n",
       "<style scoped>\n",
       "    .dataframe tbody tr th:only-of-type {\n",
       "        vertical-align: middle;\n",
       "    }\n",
       "\n",
       "    .dataframe tbody tr th {\n",
       "        vertical-align: top;\n",
       "    }\n",
       "\n",
       "    .dataframe thead th {\n",
       "        text-align: right;\n",
       "    }\n",
       "</style>\n",
       "<table border=\"1\" class=\"dataframe\">\n",
       "  <thead>\n",
       "    <tr style=\"text-align: right;\">\n",
       "      <th></th>\n",
       "      <th>person</th>\n",
       "      <th>esNuevo</th>\n",
       "    </tr>\n",
       "  </thead>\n",
       "  <tbody>\n",
       "    <tr>\n",
       "      <th>0</th>\n",
       "      <td>4886f805</td>\n",
       "      <td>True</td>\n",
       "    </tr>\n",
       "    <tr>\n",
       "      <th>1</th>\n",
       "      <td>ad93850f</td>\n",
       "      <td>False</td>\n",
       "    </tr>\n",
       "    <tr>\n",
       "      <th>2</th>\n",
       "      <td>0297fc1e</td>\n",
       "      <td>False</td>\n",
       "    </tr>\n",
       "    <tr>\n",
       "      <th>3</th>\n",
       "      <td>2d681dd8</td>\n",
       "      <td>False</td>\n",
       "    </tr>\n",
       "    <tr>\n",
       "      <th>4</th>\n",
       "      <td>cccea85e</td>\n",
       "      <td>False</td>\n",
       "    </tr>\n",
       "    <tr>\n",
       "      <th>5</th>\n",
       "      <td>4c8a8b93</td>\n",
       "      <td>False</td>\n",
       "    </tr>\n",
       "    <tr>\n",
       "      <th>6</th>\n",
       "      <td>1b9f7cf6</td>\n",
       "      <td>False</td>\n",
       "    </tr>\n",
       "    <tr>\n",
       "      <th>7</th>\n",
       "      <td>29ebb414</td>\n",
       "      <td>False</td>\n",
       "    </tr>\n",
       "    <tr>\n",
       "      <th>8</th>\n",
       "      <td>de8fe91b</td>\n",
       "      <td>False</td>\n",
       "    </tr>\n",
       "    <tr>\n",
       "      <th>9</th>\n",
       "      <td>45baf068</td>\n",
       "      <td>True</td>\n",
       "    </tr>\n",
       "    <tr>\n",
       "      <th>10</th>\n",
       "      <td>99abca5a</td>\n",
       "      <td>False</td>\n",
       "    </tr>\n",
       "    <tr>\n",
       "      <th>11</th>\n",
       "      <td>3dc1950f</td>\n",
       "      <td>False</td>\n",
       "    </tr>\n",
       "    <tr>\n",
       "      <th>12</th>\n",
       "      <td>8ea4c165</td>\n",
       "      <td>False</td>\n",
       "    </tr>\n",
       "    <tr>\n",
       "      <th>13</th>\n",
       "      <td>64f45e8d</td>\n",
       "      <td>False</td>\n",
       "    </tr>\n",
       "    <tr>\n",
       "      <th>14</th>\n",
       "      <td>d8cfe234</td>\n",
       "      <td>False</td>\n",
       "    </tr>\n",
       "    <tr>\n",
       "      <th>15</th>\n",
       "      <td>ade6b3bf</td>\n",
       "      <td>False</td>\n",
       "    </tr>\n",
       "    <tr>\n",
       "      <th>16</th>\n",
       "      <td>d73ae9ef</td>\n",
       "      <td>True</td>\n",
       "    </tr>\n",
       "    <tr>\n",
       "      <th>17</th>\n",
       "      <td>d6bc64df</td>\n",
       "      <td>False</td>\n",
       "    </tr>\n",
       "    <tr>\n",
       "      <th>18</th>\n",
       "      <td>ec9c4059</td>\n",
       "      <td>False</td>\n",
       "    </tr>\n",
       "    <tr>\n",
       "      <th>19</th>\n",
       "      <td>b2cde41a</td>\n",
       "      <td>False</td>\n",
       "    </tr>\n",
       "    <tr>\n",
       "      <th>20</th>\n",
       "      <td>15ea8012</td>\n",
       "      <td>False</td>\n",
       "    </tr>\n",
       "    <tr>\n",
       "      <th>21</th>\n",
       "      <td>43790d8f</td>\n",
       "      <td>False</td>\n",
       "    </tr>\n",
       "    <tr>\n",
       "      <th>22</th>\n",
       "      <td>d21b8e6b</td>\n",
       "      <td>False</td>\n",
       "    </tr>\n",
       "    <tr>\n",
       "      <th>23</th>\n",
       "      <td>2a724d87</td>\n",
       "      <td>True</td>\n",
       "    </tr>\n",
       "    <tr>\n",
       "      <th>24</th>\n",
       "      <td>429c8732</td>\n",
       "      <td>False</td>\n",
       "    </tr>\n",
       "    <tr>\n",
       "      <th>25</th>\n",
       "      <td>686c49c9</td>\n",
       "      <td>False</td>\n",
       "    </tr>\n",
       "    <tr>\n",
       "      <th>26</th>\n",
       "      <td>4e03ed9a</td>\n",
       "      <td>False</td>\n",
       "    </tr>\n",
       "    <tr>\n",
       "      <th>27</th>\n",
       "      <td>a08d42ea</td>\n",
       "      <td>False</td>\n",
       "    </tr>\n",
       "    <tr>\n",
       "      <th>28</th>\n",
       "      <td>16fad36a</td>\n",
       "      <td>False</td>\n",
       "    </tr>\n",
       "    <tr>\n",
       "      <th>29</th>\n",
       "      <td>be32e904</td>\n",
       "      <td>True</td>\n",
       "    </tr>\n",
       "    <tr>\n",
       "      <th>...</th>\n",
       "      <td>...</td>\n",
       "      <td>...</td>\n",
       "    </tr>\n",
       "    <tr>\n",
       "      <th>38799</th>\n",
       "      <td>154d2935</td>\n",
       "      <td>False</td>\n",
       "    </tr>\n",
       "    <tr>\n",
       "      <th>38800</th>\n",
       "      <td>3adf7ca4</td>\n",
       "      <td>False</td>\n",
       "    </tr>\n",
       "    <tr>\n",
       "      <th>38801</th>\n",
       "      <td>c9552fad</td>\n",
       "      <td>False</td>\n",
       "    </tr>\n",
       "    <tr>\n",
       "      <th>38802</th>\n",
       "      <td>2e89874a</td>\n",
       "      <td>False</td>\n",
       "    </tr>\n",
       "    <tr>\n",
       "      <th>38803</th>\n",
       "      <td>ef4e52ab</td>\n",
       "      <td>True</td>\n",
       "    </tr>\n",
       "    <tr>\n",
       "      <th>38804</th>\n",
       "      <td>100f33c8</td>\n",
       "      <td>True</td>\n",
       "    </tr>\n",
       "    <tr>\n",
       "      <th>38805</th>\n",
       "      <td>90251b6a</td>\n",
       "      <td>False</td>\n",
       "    </tr>\n",
       "    <tr>\n",
       "      <th>38806</th>\n",
       "      <td>85e0f62a</td>\n",
       "      <td>False</td>\n",
       "    </tr>\n",
       "    <tr>\n",
       "      <th>38807</th>\n",
       "      <td>0afaecc8</td>\n",
       "      <td>True</td>\n",
       "    </tr>\n",
       "    <tr>\n",
       "      <th>38808</th>\n",
       "      <td>2c209f87</td>\n",
       "      <td>False</td>\n",
       "    </tr>\n",
       "    <tr>\n",
       "      <th>38809</th>\n",
       "      <td>4ddb8c19</td>\n",
       "      <td>True</td>\n",
       "    </tr>\n",
       "    <tr>\n",
       "      <th>38810</th>\n",
       "      <td>9979305a</td>\n",
       "      <td>False</td>\n",
       "    </tr>\n",
       "    <tr>\n",
       "      <th>38811</th>\n",
       "      <td>25bd8078</td>\n",
       "      <td>False</td>\n",
       "    </tr>\n",
       "    <tr>\n",
       "      <th>38812</th>\n",
       "      <td>87d306fc</td>\n",
       "      <td>False</td>\n",
       "    </tr>\n",
       "    <tr>\n",
       "      <th>38813</th>\n",
       "      <td>a2b1e355</td>\n",
       "      <td>True</td>\n",
       "    </tr>\n",
       "    <tr>\n",
       "      <th>38814</th>\n",
       "      <td>fb88a7ea</td>\n",
       "      <td>True</td>\n",
       "    </tr>\n",
       "    <tr>\n",
       "      <th>38815</th>\n",
       "      <td>1315ce31</td>\n",
       "      <td>False</td>\n",
       "    </tr>\n",
       "    <tr>\n",
       "      <th>38816</th>\n",
       "      <td>af3374ad</td>\n",
       "      <td>False</td>\n",
       "    </tr>\n",
       "    <tr>\n",
       "      <th>38817</th>\n",
       "      <td>023581f9</td>\n",
       "      <td>True</td>\n",
       "    </tr>\n",
       "    <tr>\n",
       "      <th>38818</th>\n",
       "      <td>9707cd0e</td>\n",
       "      <td>True</td>\n",
       "    </tr>\n",
       "    <tr>\n",
       "      <th>38819</th>\n",
       "      <td>88b91c5d</td>\n",
       "      <td>True</td>\n",
       "    </tr>\n",
       "    <tr>\n",
       "      <th>38820</th>\n",
       "      <td>6f7632db</td>\n",
       "      <td>True</td>\n",
       "    </tr>\n",
       "    <tr>\n",
       "      <th>38821</th>\n",
       "      <td>a1c2a901</td>\n",
       "      <td>True</td>\n",
       "    </tr>\n",
       "    <tr>\n",
       "      <th>38822</th>\n",
       "      <td>ed3f80d7</td>\n",
       "      <td>True</td>\n",
       "    </tr>\n",
       "    <tr>\n",
       "      <th>38823</th>\n",
       "      <td>2adb3684</td>\n",
       "      <td>True</td>\n",
       "    </tr>\n",
       "    <tr>\n",
       "      <th>38824</th>\n",
       "      <td>39fa45b6</td>\n",
       "      <td>True</td>\n",
       "    </tr>\n",
       "    <tr>\n",
       "      <th>38825</th>\n",
       "      <td>92f2d94b</td>\n",
       "      <td>False</td>\n",
       "    </tr>\n",
       "    <tr>\n",
       "      <th>38826</th>\n",
       "      <td>d8d6b0da</td>\n",
       "      <td>False</td>\n",
       "    </tr>\n",
       "    <tr>\n",
       "      <th>38827</th>\n",
       "      <td>40bf23ab</td>\n",
       "      <td>False</td>\n",
       "    </tr>\n",
       "    <tr>\n",
       "      <th>38828</th>\n",
       "      <td>80aea0a0</td>\n",
       "      <td>False</td>\n",
       "    </tr>\n",
       "  </tbody>\n",
       "</table>\n",
       "<p>38829 rows × 2 columns</p>\n",
       "</div>"
      ],
      "text/plain": [
       "         person  esNuevo\n",
       "0      4886f805     True\n",
       "1      ad93850f    False\n",
       "2      0297fc1e    False\n",
       "3      2d681dd8    False\n",
       "4      cccea85e    False\n",
       "5      4c8a8b93    False\n",
       "6      1b9f7cf6    False\n",
       "7      29ebb414    False\n",
       "8      de8fe91b    False\n",
       "9      45baf068     True\n",
       "10     99abca5a    False\n",
       "11     3dc1950f    False\n",
       "12     8ea4c165    False\n",
       "13     64f45e8d    False\n",
       "14     d8cfe234    False\n",
       "15     ade6b3bf    False\n",
       "16     d73ae9ef     True\n",
       "17     d6bc64df    False\n",
       "18     ec9c4059    False\n",
       "19     b2cde41a    False\n",
       "20     15ea8012    False\n",
       "21     43790d8f    False\n",
       "22     d21b8e6b    False\n",
       "23     2a724d87     True\n",
       "24     429c8732    False\n",
       "25     686c49c9    False\n",
       "26     4e03ed9a    False\n",
       "27     a08d42ea    False\n",
       "28     16fad36a    False\n",
       "29     be32e904     True\n",
       "...         ...      ...\n",
       "38799  154d2935    False\n",
       "38800  3adf7ca4    False\n",
       "38801  c9552fad    False\n",
       "38802  2e89874a    False\n",
       "38803  ef4e52ab     True\n",
       "38804  100f33c8     True\n",
       "38805  90251b6a    False\n",
       "38806  85e0f62a    False\n",
       "38807  0afaecc8     True\n",
       "38808  2c209f87    False\n",
       "38809  4ddb8c19     True\n",
       "38810  9979305a    False\n",
       "38811  25bd8078    False\n",
       "38812  87d306fc    False\n",
       "38813  a2b1e355     True\n",
       "38814  fb88a7ea     True\n",
       "38815  1315ce31    False\n",
       "38816  af3374ad    False\n",
       "38817  023581f9     True\n",
       "38818  9707cd0e     True\n",
       "38819  88b91c5d     True\n",
       "38820  6f7632db     True\n",
       "38821  a1c2a901     True\n",
       "38822  ed3f80d7     True\n",
       "38823  2adb3684     True\n",
       "38824  39fa45b6     True\n",
       "38825  92f2d94b    False\n",
       "38826  d8d6b0da    False\n",
       "38827  40bf23ab    False\n",
       "38828  80aea0a0    False\n",
       "\n",
       "[38829 rows x 2 columns]"
      ]
     },
     "execution_count": 10,
     "metadata": {},
     "output_type": "execute_result"
    }
   ],
   "source": [
    "labels_f"
   ]
  },
  {
   "cell_type": "markdown",
   "metadata": {},
   "source": [
    "### 2º Cantidad de visitas del usuario a la página ###"
   ]
  },
  {
   "cell_type": "markdown",
   "metadata": {},
   "source": [
    "Analizaré ahora la frecuencia de entradas al sitio de un determinado usuario. Para ello analizaré la relación entre new y returnings (le sumo 1 a la cantidad de returnings). "
   ]
  },
  {
   "cell_type": "code",
   "execution_count": 11,
   "metadata": {},
   "outputs": [],
   "source": [
    "newVsReturning['cantidadDeVisitas'] = (newVsReturning['new'] + newVsReturning['returning']).astype('float32')\n",
    "labels_f = pd.merge(labels_f, newVsReturning.loc[:,['cantidadDeVisitas','person']],how = 'left', on = 'person')"
   ]
  },
  {
   "cell_type": "code",
   "execution_count": 12,
   "metadata": {},
   "outputs": [],
   "source": [
    "labels_f['cantidadDeVisitas'] = labels_f['cantidadDeVisitas'].astype('float32')\n",
    "labels_f['cantidadDeVisitas'] = labels_f['cantidadDeVisitas'].fillna(labels_f['cantidadDeVisitas'].mean())"
   ]
  },
  {
   "cell_type": "markdown",
   "metadata": {},
   "source": [
    "### 3º El usuario ingresó a la página por algún aviso publicitario alguna vez ###"
   ]
  },
  {
   "cell_type": "markdown",
   "metadata": {},
   "source": [
    "Analizaré si el usario ingresó a la página desde una publicidad (en algún momento) para ello usaré el evento ad_campaing_hit."
   ]
  },
  {
   "cell_type": "code",
   "execution_count": 13,
   "metadata": {},
   "outputs": [],
   "source": [
    "personasAdHit = adCampaignHit.loc[:,['person']]\n",
    "personasAdHit['ingresoPorPublicidad'] = True\n",
    "personasAdHit = personasAdHit.drop_duplicates()"
   ]
  },
  {
   "cell_type": "code",
   "execution_count": null,
   "metadata": {},
   "outputs": [],
   "source": []
  },
  {
   "cell_type": "code",
   "execution_count": 14,
   "metadata": {},
   "outputs": [],
   "source": [
    "labels_f = pd.merge(labels_f, personasAdHit, on = 'person', how = 'left')\n"
   ]
  },
  {
   "cell_type": "code",
   "execution_count": 15,
   "metadata": {},
   "outputs": [
    {
     "data": {
      "text/plain": [
       "False    31900\n",
       "True      6929\n",
       "Name: ingresoPorPublicidad, dtype: int64"
      ]
     },
     "execution_count": 15,
     "metadata": {},
     "output_type": "execute_result"
    }
   ],
   "source": [
    "labels_f['ingresoPorPublicidad'].isnull().value_counts()"
   ]
  },
  {
   "cell_type": "code",
   "execution_count": 16,
   "metadata": {},
   "outputs": [],
   "source": [
    "labels_f['ingresoPorPublicidad'] = labels_f.fillna(False)"
   ]
  },
  {
   "cell_type": "code",
   "execution_count": 17,
   "metadata": {},
   "outputs": [
    {
     "data": {
      "text/plain": [
       "False    38829\n",
       "Name: ingresoPorPublicidad, dtype: int64"
      ]
     },
     "execution_count": 17,
     "metadata": {},
     "output_type": "execute_result"
    }
   ],
   "source": [
    "labels_f['ingresoPorPublicidad'].isnull().value_counts()"
   ]
  },
  {
   "cell_type": "code",
   "execution_count": 18,
   "metadata": {},
   "outputs": [
    {
     "data": {
      "text/plain": [
       "False    38829\n",
       "Name: esNuevo, dtype: int64"
      ]
     },
     "execution_count": 18,
     "metadata": {},
     "output_type": "execute_result"
    }
   ],
   "source": [
    "labels_f.esNuevo.isnull().value_counts()"
   ]
  },
  {
   "cell_type": "code",
   "execution_count": 92,
   "metadata": {},
   "outputs": [
    {
     "data": {
      "text/plain": [
       "0        4886f805\n",
       "1        ad93850f\n",
       "2        0297fc1e\n",
       "3        2d681dd8\n",
       "4        cccea85e\n",
       "5        4c8a8b93\n",
       "6        1b9f7cf6\n",
       "7        29ebb414\n",
       "8        de8fe91b\n",
       "9        45baf068\n",
       "10       99abca5a\n",
       "11       3dc1950f\n",
       "12       8ea4c165\n",
       "13       64f45e8d\n",
       "14       d8cfe234\n",
       "15       ade6b3bf\n",
       "16       d73ae9ef\n",
       "17       d6bc64df\n",
       "18       ec9c4059\n",
       "19       b2cde41a\n",
       "20       15ea8012\n",
       "21       43790d8f\n",
       "22       d21b8e6b\n",
       "23       2a724d87\n",
       "24       429c8732\n",
       "25       686c49c9\n",
       "26       4e03ed9a\n",
       "27       a08d42ea\n",
       "28       16fad36a\n",
       "29       be32e904\n",
       "           ...   \n",
       "38799    154d2935\n",
       "38800    3adf7ca4\n",
       "38801    c9552fad\n",
       "38802    2e89874a\n",
       "38803    ef4e52ab\n",
       "38804    100f33c8\n",
       "38805    90251b6a\n",
       "38806    85e0f62a\n",
       "38807    0afaecc8\n",
       "38808    2c209f87\n",
       "38809    4ddb8c19\n",
       "38810    9979305a\n",
       "38811    25bd8078\n",
       "38812    87d306fc\n",
       "38813    a2b1e355\n",
       "38814    fb88a7ea\n",
       "38815    1315ce31\n",
       "38816    af3374ad\n",
       "38817    023581f9\n",
       "38818    9707cd0e\n",
       "38819    88b91c5d\n",
       "38820    6f7632db\n",
       "38821    a1c2a901\n",
       "38822    ed3f80d7\n",
       "38823    2adb3684\n",
       "38824    39fa45b6\n",
       "38825    92f2d94b\n",
       "38826    d8d6b0da\n",
       "38827    40bf23ab\n",
       "38828    80aea0a0\n",
       "Name: ingresoPorPublicidad, Length: 38829, dtype: object"
      ]
     },
     "execution_count": 92,
     "metadata": {},
     "output_type": "execute_result"
    }
   ],
   "source": [
    "labels_f.ingresoPorPublicidad"
   ]
  },
  {
   "cell_type": "markdown",
   "metadata": {},
   "source": [
    "Supongo que la información que no tengo en ad_campaing_hit de los usuarios, es porque no ingresaron por una campaña publicitaria alguna vez a la página y por lo tanto **este atributo puede usarse para lo 19414 labels**. "
   ]
  },
  {
   "cell_type": "markdown",
   "metadata": {},
   "source": [
    "### 4º Campaña publicitaria por la que ingresó el usuario ###"
   ]
  },
  {
   "cell_type": "markdown",
   "metadata": {},
   "source": [
    "Analizaré por qué campaña ingresaron los usuarios (en algún momento y luego realizaron una conversión), agregando esa información de ad_campaing_hit"
   ]
  },
  {
   "cell_type": "code",
   "execution_count": 20,
   "metadata": {},
   "outputs": [],
   "source": [
    "campaniaPersonasAdHit = adCampaignHit.loc[:,['person','campaign_source']]\n",
    "campaniaPersonasAdHit = campaniaPersonasAdHit.groupby('person').campaign_source.value_counts().to_frame('cantidad')\n",
    "campaniaPersonasAdHit = campaniaPersonasAdHit.unstack().fillna(0).reset_index()\n",
    "campaniaPersonasAdHit.head()\n",
    "campaniaPersonasAdHit.columns=['person','cant_facebook','cant_facebookAds', 'cant_facebookSocial', 'cant_marketing_social', 'cant_afiliado', 'cant_afilio', 'cant_bing', 'cant_blog','cant_buscape', 'cant_criteo', 'cant_datacrush', 'cant_emblue', 'cant_gizmodo', 'cant_google', 'cant_indexa', 'cant_manifest', 'cant_mercadopago', 'cant_onsite', 'cant_rakuten','cant_rtbhouse', 'cant_voxus', 'cant_yotpo', 'cant_zanox']"
   ]
  },
  {
   "cell_type": "markdown",
   "metadata": {},
   "source": [
    "**FALTA COMPLETAR ESTO, SON MUCHAS CAMPAÑAS**"
   ]
  },
  {
   "cell_type": "markdown",
   "metadata": {},
   "source": [
    "### 5º información sobre el dispositivo por el cual se conectaron ###"
   ]
  },
  {
   "cell_type": "markdown",
   "metadata": {},
   "source": [
    "El único evento que posee información sobre el dispositivo al cual se conecto es Visited Site. Se registra un Visited Site cada vez que el usuario ingresa a Trocafone (cualquiera sea el motivo). Repetiré el análisis hecho en el análisis exploratorio en el que mostrábamos que la mayoría de los usuarios se conectaban por un sólo dispositivo.\n"
   ]
  },
  {
   "cell_type": "code",
   "execution_count": 21,
   "metadata": {},
   "outputs": [
    {
     "name": "stdout",
     "output_type": "stream",
     "text": [
      "   porcentaje\n",
      "1    0.959547\n",
      "2    0.039721\n",
      "3    0.000732\n"
     ]
    }
   ],
   "source": [
    "def contar_columnas(x):#(col1,col2,col3,col4):\n",
    "    t=0\n",
    "    if x['tablet']>0:\n",
    "        t += 1\n",
    "    if x['smartphone']>0:\n",
    "        t += 1\n",
    "    if x['computer']>0:\n",
    "        t += 1\n",
    "    if x['unknown']>0:\n",
    "        t += 1\n",
    "    return t\n",
    "\n",
    "\n",
    "#print(visited_site.device_type.value_counts()) -> LOS UNKNOWN SON DESPRECIABLES. \n",
    "dispositivos= visitedSite.groupby('person')['device_type'].value_counts().to_frame('cantidad')\n",
    "dispositivos = dispositivos.unstack().fillna(0).reset_index()\n",
    "dispositivos.columns = ['person','computer','smartphone','tablet','unknown']\n",
    "dispositivos = dispositivos.set_index('person')\n",
    "dispositivos['porcentaje'] = dispositivos.apply(lambda p:contar_columnas(p), axis = 1)\n",
    "\n",
    "\n",
    "print(dispositivos['porcentaje'].value_counts(normalize = True).to_frame())\n",
    "\n",
    "#quito aquellos que se hayan conectado por más de un dispositivo\n",
    "dispositivos = dispositivos[dispositivos['porcentaje'] <= 1]\n",
    "visited_device = visitedSite.loc[:,['person','device_type']].drop_duplicates()\n",
    "dispositivos = dispositivos.reset_index()\n",
    "visited_device = pd.merge(dispositivos.loc[:,['person']],visited_device, on= 'person',how = 'left').drop_duplicates()\n"
   ]
  },
  {
   "cell_type": "markdown",
   "metadata": {},
   "source": [
    "Por lo tanto existe un 96 porciento de los usuarios que se conectaron de un único tipo de dispositivo, por lo tanto, despreciaremos el otro 4 porciento. \n"
   ]
  },
  {
   "cell_type": "code",
   "execution_count": 22,
   "metadata": {},
   "outputs": [],
   "source": [
    "labels_f = pd.merge(labels_f, visited_device, how = 'left', on = 'person')\n",
    "#le cambio el nombre a la columna device type para que no se confunda con lo que compraron"
   ]
  },
  {
   "cell_type": "code",
   "execution_count": 23,
   "metadata": {},
   "outputs": [
    {
     "data": {
      "text/plain": [
       "False    36695\n",
       "True      2134\n",
       "Name: device_type, dtype: int64"
      ]
     },
     "execution_count": 23,
     "metadata": {},
     "output_type": "execute_result"
    }
   ],
   "source": [
    "labels_f.device_type.isnull().value_counts()"
   ]
  },
  {
   "cell_type": "code",
   "execution_count": 24,
   "metadata": {},
   "outputs": [],
   "source": [
    "labels_f['device_type'] = labels_f['device_type'].fillna(labels_f.device_type.mode().iloc[0])"
   ]
  },
  {
   "cell_type": "code",
   "execution_count": 25,
   "metadata": {},
   "outputs": [
    {
     "data": {
      "text/plain": [
       "False    38829\n",
       "Name: device_type, dtype: int64"
      ]
     },
     "execution_count": 25,
     "metadata": {},
     "output_type": "execute_result"
    }
   ],
   "source": [
    "labels_f.device_type.isnull().value_counts()"
   ]
  },
  {
   "cell_type": "code",
   "execution_count": 26,
   "metadata": {},
   "outputs": [],
   "source": [
    "labels_f['deviceSmartphone'] = labels_f['device_type'] == 'smartphone'\n",
    "labels_f['deviceComputer'] = labels_f['device_type'] == 'computer'\n",
    "labels_f['deviceTablet'] = labels_f['device_type'] == 'tablet'\n",
    "labels_f['deviceUnknown'] = labels_f['device_type'] == 'unknown'"
   ]
  },
  {
   "cell_type": "markdown",
   "metadata": {},
   "source": [
    "Es decir que **de los 19414 labels el atributo device_type presenta información para 18370** entonces 1044 labels no aportan este tipo de información. "
   ]
  },
  {
   "cell_type": "code",
   "execution_count": null,
   "metadata": {},
   "outputs": [],
   "source": []
  },
  {
   "cell_type": "markdown",
   "metadata": {},
   "source": [
    "### 6º Cantidad de veces que el usuario vio un producto ###"
   ]
  },
  {
   "cell_type": "markdown",
   "metadata": {},
   "source": [
    "Analizaré ahora la cantidad de veces que el usuario vio un producto "
   ]
  },
  {
   "cell_type": "code",
   "execution_count": 27,
   "metadata": {},
   "outputs": [],
   "source": [
    "cantidadDeVisitasAProductos = viewedProduct.loc[:,['person']]\n",
    "cantidadDeVisitasAProductos['cantVisitasAVP'] = 1\n",
    "cantidadDeVisitasAProductos = cantidadDeVisitasAProductos.groupby('person').cantVisitasAVP.sum().to_frame()\n"
   ]
  },
  {
   "cell_type": "code",
   "execution_count": 28,
   "metadata": {},
   "outputs": [],
   "source": [
    "labels_f = pd.merge(labels_f, cantidadDeVisitasAProductos, on= 'person', how = 'left')"
   ]
  },
  {
   "cell_type": "code",
   "execution_count": 29,
   "metadata": {},
   "outputs": [
    {
     "data": {
      "text/plain": [
       "False    37130\n",
       "True      1699\n",
       "Name: cantVisitasAVP, dtype: int64"
      ]
     },
     "execution_count": 29,
     "metadata": {},
     "output_type": "execute_result"
    }
   ],
   "source": [
    "labels_f.cantVisitasAVP.isnull().value_counts()"
   ]
  },
  {
   "cell_type": "markdown",
   "metadata": {},
   "source": [
    "Supongo que como no tenemos información de 1699 labels sobre la cantidad de visitas a productos estos nunca lo hicieron."
   ]
  },
  {
   "cell_type": "code",
   "execution_count": 30,
   "metadata": {},
   "outputs": [],
   "source": [
    "personasSinVisitas = labels_f.loc[:,['person','cantVisitasAVP']]\n",
    "personasSinVisitas = personasSinVisitas.fillna(0)"
   ]
  },
  {
   "cell_type": "code",
   "execution_count": 31,
   "metadata": {},
   "outputs": [],
   "source": [
    "labels_f = pd.merge(labels_f, personasSinVisitas, how = 'left', on = 'person')"
   ]
  },
  {
   "cell_type": "code",
   "execution_count": 32,
   "metadata": {},
   "outputs": [
    {
     "name": "stdout",
     "output_type": "stream",
     "text": [
      "<class 'pandas.core.frame.DataFrame'>\n",
      "Int64Index: 38829 entries, 0 to 38828\n",
      "Data columns (total 11 columns):\n",
      "person                  38829 non-null object\n",
      "esNuevo                 38829 non-null bool\n",
      "cantidadDeVisitas       38829 non-null float32\n",
      "ingresoPorPublicidad    38829 non-null object\n",
      "device_type             38829 non-null object\n",
      "deviceSmartphone        38829 non-null bool\n",
      "deviceComputer          38829 non-null bool\n",
      "deviceTablet            38829 non-null bool\n",
      "deviceUnknown           38829 non-null bool\n",
      "cantVisitasAVP_x        37130 non-null float64\n",
      "cantVisitasAVP_y        38829 non-null float64\n",
      "dtypes: bool(5), float32(1), float64(2), object(3)\n",
      "memory usage: 2.1+ MB\n"
     ]
    }
   ],
   "source": [
    "labels_f.info()"
   ]
  },
  {
   "cell_type": "code",
   "execution_count": 33,
   "metadata": {},
   "outputs": [
    {
     "name": "stderr",
     "output_type": "stream",
     "text": [
      "/anaconda3/lib/python3.6/site-packages/pandas/core/indexing.py:1472: FutureWarning: \n",
      "Passing list-likes to .loc or [] with any missing label will raise\n",
      "KeyError in the future, you can use .reindex() as an alternative.\n",
      "\n",
      "See the documentation here:\n",
      "https://pandas.pydata.org/pandas-docs/stable/indexing.html#deprecate-loc-reindex-listlike\n",
      "  return self._getitem_tuple(key)\n"
     ]
    }
   ],
   "source": [
    "labels_f = labels_f.loc[:,['person','label','esNuevo','cantidadDeVisitas','ingresoPorPublicidad','deviceSmartphone','deviceComputer','deviceTablet','deviceUnknown','cantVisitasAVP_y']]\n",
    "labels_f.columns = ['person','label','esNuevo','cantidadDeVisitas','ingresoPorPublicidad','deviceSmartphone','deviceComputer','deviceTablet','deviceUnknown','cantVisitasAVP']"
   ]
  },
  {
   "cell_type": "code",
   "execution_count": 34,
   "metadata": {},
   "outputs": [
    {
     "data": {
      "text/plain": [
       "False    38829\n",
       "Name: cantVisitasAVP, dtype: int64"
      ]
     },
     "execution_count": 34,
     "metadata": {},
     "output_type": "execute_result"
    }
   ],
   "source": [
    "labels_f.cantVisitasAVP.isnull().value_counts()"
   ]
  },
  {
   "cell_type": "code",
   "execution_count": null,
   "metadata": {},
   "outputs": [],
   "source": []
  },
  {
   "cell_type": "markdown",
   "metadata": {},
   "source": [
    "### 7º Momento del día en el que realizan las visitas ###"
   ]
  },
  {
   "cell_type": "markdown",
   "metadata": {},
   "source": [
    "Usando visitedSite analizaré el momento del día en el que el usuario realizó las visitas. Lo agruparé en las siguientes clases:\n",
    "\n",
    "-Mañana: si el usuario realizó la visita entre las 7 y 12 hs. \n",
    "\n",
    "-Tarde: si el usuario realizó la visita entre las 12 y las 18 hs. \n",
    "\n",
    "-Noche: si el usuario realizó la visita entre las 18 y 24 hs. \n",
    "\n",
    "-Madrugada: si el usuario realizó la visita entre las 24 y 7 hs. "
   ]
  },
  {
   "cell_type": "code",
   "execution_count": 35,
   "metadata": {},
   "outputs": [],
   "source": [
    "momentoDeVisita = visitedSite.loc[:,['person','hour']]\n",
    "momentoDeVisita['maniana'] = ((momentoDeVisita['hour'] < 12 ) & (momentoDeVisita['hour'] >= 7)).astype('int32')\n",
    "momentoDeVisita['tarde'] = ((momentoDeVisita['hour'] < 18 ) & (momentoDeVisita['hour'] >= 12)).astype('int32')\n",
    "momentoDeVisita['noche'] = ((momentoDeVisita['hour'] < 24 ) & (momentoDeVisita['hour'] >= 18)).astype('int32')\n",
    "momentoDeVisita['madrugada'] = ((momentoDeVisita['hour'] < 7 ) & (momentoDeVisita['hour'] >= 24)).astype('int32')\n",
    "momentoDeVisita = momentoDeVisita.groupby('person').sum().reset_index()\n",
    "momentoDeVisita = momentoDeVisita.loc[:,['person','maniana','tarde','noche','madrugada']]"
   ]
  },
  {
   "cell_type": "code",
   "execution_count": 36,
   "metadata": {},
   "outputs": [],
   "source": [
    "labels_f = pd.merge(labels_f,momentoDeVisita, on = 'person', how = 'left') "
   ]
  },
  {
   "cell_type": "code",
   "execution_count": 37,
   "metadata": {},
   "outputs": [
    {
     "data": {
      "text/plain": [
       "False    38242\n",
       "True       587\n",
       "Name: maniana, dtype: int64"
      ]
     },
     "execution_count": 37,
     "metadata": {},
     "output_type": "execute_result"
    }
   ],
   "source": [
    "labels_f['maniana'].isnull().value_counts()"
   ]
  },
  {
   "cell_type": "markdown",
   "metadata": {},
   "source": [
    "Por lo tanto, **los atributos: maniana, tarde, noche y madrugada no fueron asignados para 288 labels**. Esto concuerda con el atributo device type obtenido anterior mentde del mismo evento: visited site."
   ]
  },
  {
   "cell_type": "code",
   "execution_count": 38,
   "metadata": {},
   "outputs": [],
   "source": [
    "labels_f['maniana'] = labels_f['maniana'].fillna(labels_f['maniana'].median())\n",
    "labels_f['tarde'] = labels_f['tarde'].fillna(labels_f['tarde'].median())\n",
    "labels_f['noche'] = labels_f['noche'].fillna(labels_f['noche'].median())\n",
    "labels_f['madrugada'] = labels_f['madrugada'].fillna(labels_f['madrugada'].median())"
   ]
  },
  {
   "cell_type": "code",
   "execution_count": 39,
   "metadata": {},
   "outputs": [
    {
     "data": {
      "text/plain": [
       "False    38829\n",
       "Name: maniana, dtype: int64"
      ]
     },
     "execution_count": 39,
     "metadata": {},
     "output_type": "execute_result"
    }
   ],
   "source": [
    "labels_f.maniana.isnull().value_counts()"
   ]
  },
  {
   "cell_type": "markdown",
   "metadata": {},
   "source": [
    "### 8º Cantidad de visitas por canal que realiza el usuario###"
   ]
  },
  {
   "cell_type": "markdown",
   "metadata": {},
   "source": [
    "Analizaré el canal por el que el usuario realiza la visita"
   ]
  },
  {
   "cell_type": "code",
   "execution_count": 40,
   "metadata": {},
   "outputs": [],
   "source": [
    "canalDeVisita = visitedSite.loc[:,['person','channel']]\n",
    "canalDeVisita = canalDeVisita.groupby('person').channel.value_counts().to_frame('cantidad')\n",
    "canalDeVisita = canalDeVisita.unstack()\n",
    "canalDeVisita = canalDeVisita.reset_index()\n",
    "canalDeVisita.columns = ['person','cantDirect','cantEmail','cantOrganic','cantPaid','cantReferral',\\\n",
    "                           'cantSocial','cantUnknown']\n",
    "canalDeVisita = canalDeVisita.fillna(0)"
   ]
  },
  {
   "cell_type": "code",
   "execution_count": 41,
   "metadata": {},
   "outputs": [],
   "source": [
    "labels_f = pd.merge(labels_f,canalDeVisita,on = 'person', how = 'left')"
   ]
  },
  {
   "cell_type": "code",
   "execution_count": 42,
   "metadata": {},
   "outputs": [
    {
     "data": {
      "text/plain": [
       "False    38242\n",
       "True       587\n",
       "Name: cantDirect, dtype: int64"
      ]
     },
     "execution_count": 42,
     "metadata": {},
     "output_type": "execute_result"
    }
   ],
   "source": [
    "labels_f['cantDirect'].isnull().value_counts()"
   ]
  },
  {
   "cell_type": "code",
   "execution_count": 43,
   "metadata": {},
   "outputs": [],
   "source": [
    "labels_f['cantDirect'] = labels_f['cantDirect'].fillna(labels_f['cantDirect'].median())\n",
    "labels_f['cantEmail'] = labels_f['cantEmail'].fillna(labels_f['cantEmail'].median())\n",
    "labels_f['cantOrganic'] = labels_f['cantOrganic'].fillna(labels_f['cantOrganic'].median())\n",
    "labels_f['cantPaid'] = labels_f['cantPaid'].fillna(labels_f['cantPaid'].median())\n",
    "labels_f['cantReferral'] = labels_f['cantReferral'].fillna(labels_f['cantReferral'].median())\n",
    "labels_f['cantSocial'] = labels_f['cantSocial'].fillna(labels_f['cantSocial'].median())\n",
    "labels_f['cantUnknown'] = labels_f['cantUnknown'].fillna(labels_f['cantUnknown'].median())"
   ]
  },
  {
   "cell_type": "markdown",
   "metadata": {},
   "source": [
    "Por lo tanto, **los atributos: cantDirect, cantEmail, cantOrganic, cantPaid, cant referral, cantSocial, cantUnknown que refieren a la cantidad de accesos hecho por cada canal, no tiene fueron asignados para 288 labels**. Esto concuerda con todos los atributos obteneidos del mismo evento: vistedSite"
   ]
  },
  {
   "cell_type": "code",
   "execution_count": 44,
   "metadata": {},
   "outputs": [
    {
     "data": {
      "text/plain": [
       "False    38829\n",
       "Name: cantDirect, dtype: int64"
      ]
     },
     "execution_count": 44,
     "metadata": {},
     "output_type": "execute_result"
    }
   ],
   "source": [
    "labels_f.cantDirect.isnull().value_counts()"
   ]
  },
  {
   "cell_type": "markdown",
   "metadata": {},
   "source": [
    "### 9º Cantidad de visitas por día de la semana ###"
   ]
  },
  {
   "cell_type": "markdown",
   "metadata": {},
   "source": [
    "Analizaré la cantidad de visitas que el usuario realiza por día de la semana. Usando el evento visited site. "
   ]
  },
  {
   "cell_type": "code",
   "execution_count": 45,
   "metadata": {},
   "outputs": [],
   "source": [
    "diaSemana = visitedSite.loc[:,['person','dayOfTheWeek']]\n",
    "diaSemana = diaSemana.groupby('person').dayOfTheWeek.value_counts().to_frame('cantidad').unstack()"
   ]
  },
  {
   "cell_type": "code",
   "execution_count": 46,
   "metadata": {},
   "outputs": [
    {
     "data": {
      "text/html": [
       "<div>\n",
       "<style scoped>\n",
       "    .dataframe tbody tr th:only-of-type {\n",
       "        vertical-align: middle;\n",
       "    }\n",
       "\n",
       "    .dataframe tbody tr th {\n",
       "        vertical-align: top;\n",
       "    }\n",
       "\n",
       "    .dataframe thead tr th {\n",
       "        text-align: left;\n",
       "    }\n",
       "\n",
       "    .dataframe thead tr:last-of-type th {\n",
       "        text-align: right;\n",
       "    }\n",
       "</style>\n",
       "<table border=\"1\" class=\"dataframe\">\n",
       "  <thead>\n",
       "    <tr>\n",
       "      <th></th>\n",
       "      <th colspan=\"7\" halign=\"left\">cantidad</th>\n",
       "    </tr>\n",
       "    <tr>\n",
       "      <th>dayOfTheWeek</th>\n",
       "      <th>0</th>\n",
       "      <th>1</th>\n",
       "      <th>2</th>\n",
       "      <th>3</th>\n",
       "      <th>4</th>\n",
       "      <th>5</th>\n",
       "      <th>6</th>\n",
       "    </tr>\n",
       "    <tr>\n",
       "      <th>person</th>\n",
       "      <th></th>\n",
       "      <th></th>\n",
       "      <th></th>\n",
       "      <th></th>\n",
       "      <th></th>\n",
       "      <th></th>\n",
       "      <th></th>\n",
       "    </tr>\n",
       "  </thead>\n",
       "  <tbody>\n",
       "    <tr>\n",
       "      <th>0008ed71</th>\n",
       "      <td>NaN</td>\n",
       "      <td>NaN</td>\n",
       "      <td>NaN</td>\n",
       "      <td>2.0</td>\n",
       "      <td>NaN</td>\n",
       "      <td>NaN</td>\n",
       "      <td>NaN</td>\n",
       "    </tr>\n",
       "    <tr>\n",
       "      <th>00091926</th>\n",
       "      <td>2.0</td>\n",
       "      <td>4.0</td>\n",
       "      <td>3.0</td>\n",
       "      <td>6.0</td>\n",
       "      <td>3.0</td>\n",
       "      <td>5.0</td>\n",
       "      <td>11.0</td>\n",
       "    </tr>\n",
       "    <tr>\n",
       "      <th>00091a7a</th>\n",
       "      <td>1.0</td>\n",
       "      <td>NaN</td>\n",
       "      <td>NaN</td>\n",
       "      <td>NaN</td>\n",
       "      <td>NaN</td>\n",
       "      <td>NaN</td>\n",
       "      <td>NaN</td>\n",
       "    </tr>\n",
       "    <tr>\n",
       "      <th>000ba417</th>\n",
       "      <td>NaN</td>\n",
       "      <td>NaN</td>\n",
       "      <td>NaN</td>\n",
       "      <td>4.0</td>\n",
       "      <td>NaN</td>\n",
       "      <td>2.0</td>\n",
       "      <td>NaN</td>\n",
       "    </tr>\n",
       "    <tr>\n",
       "      <th>000c79fe</th>\n",
       "      <td>NaN</td>\n",
       "      <td>1.0</td>\n",
       "      <td>NaN</td>\n",
       "      <td>NaN</td>\n",
       "      <td>NaN</td>\n",
       "      <td>NaN</td>\n",
       "      <td>NaN</td>\n",
       "    </tr>\n",
       "  </tbody>\n",
       "</table>\n",
       "</div>"
      ],
      "text/plain": [
       "             cantidad                               \n",
       "dayOfTheWeek        0    1    2    3    4    5     6\n",
       "person                                              \n",
       "0008ed71          NaN  NaN  NaN  2.0  NaN  NaN   NaN\n",
       "00091926          2.0  4.0  3.0  6.0  3.0  5.0  11.0\n",
       "00091a7a          1.0  NaN  NaN  NaN  NaN  NaN   NaN\n",
       "000ba417          NaN  NaN  NaN  4.0  NaN  2.0   NaN\n",
       "000c79fe          NaN  1.0  NaN  NaN  NaN  NaN   NaN"
      ]
     },
     "execution_count": 46,
     "metadata": {},
     "output_type": "execute_result"
    }
   ],
   "source": [
    "diaSemana.head()"
   ]
  },
  {
   "cell_type": "markdown",
   "metadata": {},
   "source": [
    "Supongo que los usuarios que no tiene información ese día de la semana es pq no visitaron la página en ese día de la semana. "
   ]
  },
  {
   "cell_type": "code",
   "execution_count": 47,
   "metadata": {},
   "outputs": [],
   "source": [
    "diaSemana = diaSemana.fillna(0)"
   ]
  },
  {
   "cell_type": "code",
   "execution_count": 48,
   "metadata": {},
   "outputs": [],
   "source": [
    "diaSemana = diaSemana.reset_index()"
   ]
  },
  {
   "cell_type": "code",
   "execution_count": 49,
   "metadata": {},
   "outputs": [],
   "source": [
    "diaSemana.columns = ['person','cantVisitasDomingo','cantVisitasLunes',\\\n",
    "                    'cantVisitasMartes', 'cantVisitasMiercoles', \\\n",
    "                    'cantVisitasJueves', 'cantVisitasViernes', \\\n",
    "                    'cantVisitasSabado']"
   ]
  },
  {
   "cell_type": "code",
   "execution_count": 50,
   "metadata": {},
   "outputs": [],
   "source": [
    "labels_f = pd.merge(labels_f,diaSemana, how = 'left', on = 'person')"
   ]
  },
  {
   "cell_type": "code",
   "execution_count": 51,
   "metadata": {},
   "outputs": [
    {
     "data": {
      "text/plain": [
       "False    38242\n",
       "True       587\n",
       "Name: cantVisitasMartes, dtype: int64"
      ]
     },
     "execution_count": 51,
     "metadata": {},
     "output_type": "execute_result"
    }
   ],
   "source": [
    "labels_f['cantVisitasMartes'].isnull().value_counts() "
   ]
  },
  {
   "cell_type": "code",
   "execution_count": 52,
   "metadata": {},
   "outputs": [],
   "source": [
    "labels_f['cantVisitasDomingo'] = labels_f['cantVisitasDomingo'].fillna(labels_f['cantVisitasDomingo'].median())\n",
    "labels_f['cantVisitasLunes'] = labels_f['cantVisitasLunes'].fillna(labels_f['cantVisitasLunes'].median())\n",
    "labels_f['cantVisitasMartes'] = labels_f['cantVisitasMartes'].fillna(labels_f['cantVisitasMartes'].median())\n",
    "labels_f['cantVisitasMiercoles'] = labels_f['cantVisitasMiercoles'].fillna(labels_f['cantVisitasMiercoles'].median())\n",
    "labels_f['cantVisitasJueves'] = labels_f['cantVisitasJueves'].fillna(labels_f['cantVisitasJueves'].median())\n",
    "labels_f['cantVisitasViernes'] = labels_f['cantVisitasViernes'].fillna(labels_f['cantVisitasViernes'].median())\n",
    "labels_f['cantVisitasSabado'] = labels_f['cantVisitasSabado'].fillna(labels_f['cantVisitasSabado'].median())"
   ]
  },
  {
   "cell_type": "code",
   "execution_count": 53,
   "metadata": {},
   "outputs": [
    {
     "data": {
      "text/plain": [
       "False    38829\n",
       "Name: cantVisitasDomingo, dtype: int64"
      ]
     },
     "execution_count": 53,
     "metadata": {},
     "output_type": "execute_result"
    }
   ],
   "source": [
    "labels_f.cantVisitasDomingo.isnull().value_counts()"
   ]
  },
  {
   "cell_type": "markdown",
   "metadata": {},
   "source": [
    "### 10º cantidad de eventos que tiene registrado cada usuario ###"
   ]
  },
  {
   "cell_type": "code",
   "execution_count": 54,
   "metadata": {},
   "outputs": [],
   "source": [
    "cantidadDeEventos = tf.loc[:,['event','person']]\n",
    "cantidadDeEventos = cantidadDeEventos.loc[cantidadDeEventos['event'] != 'conversion']\n",
    "#no tiene sentido este\n",
    "cantidadDeEventos = cantidadDeEventos.groupby('person').event.count().to_frame()\n",
    "cantidadDeEventos = cantidadDeEventos.reset_index()\n",
    "cantidadDeEventos.columns = ['person','cantidadDeEventos']"
   ]
  },
  {
   "cell_type": "code",
   "execution_count": 55,
   "metadata": {},
   "outputs": [],
   "source": [
    "labels_f = pd.merge(labels_f, cantidadDeEventos, on = 'person', how = 'left' )\n"
   ]
  },
  {
   "cell_type": "code",
   "execution_count": 56,
   "metadata": {},
   "outputs": [
    {
     "data": {
      "text/plain": [
       "False    38827\n",
       "True         2\n",
       "Name: cantidadDeEventos, dtype: int64"
      ]
     },
     "execution_count": 56,
     "metadata": {},
     "output_type": "execute_result"
    }
   ],
   "source": [
    "labels_f.cantidadDeEventos.isnull().value_counts()"
   ]
  },
  {
   "cell_type": "code",
   "execution_count": 57,
   "metadata": {},
   "outputs": [],
   "source": [
    "mediana = labels_f.cantidadDeEventos.median()\n",
    "labels_f['cantidadDeEventos'] =labels_f['cantidadDeEventos'].fillna(mediana)"
   ]
  },
  {
   "cell_type": "code",
   "execution_count": 58,
   "metadata": {},
   "outputs": [
    {
     "data": {
      "text/plain": [
       "False    38829\n",
       "Name: cantidadDeEventos, dtype: int64"
      ]
     },
     "execution_count": 58,
     "metadata": {},
     "output_type": "execute_result"
    }
   ],
   "source": [
    "labels_f.cantidadDeEventos.isnull().value_counts()"
   ]
  },
  {
   "cell_type": "markdown",
   "metadata": {},
   "source": [
    "### 11º Cantidad de eventos, discretizado por tipo de evento, que tiene cada usuario ###"
   ]
  },
  {
   "cell_type": "code",
   "execution_count": 59,
   "metadata": {},
   "outputs": [],
   "source": [
    "cantidadDeEventos = tf.loc[:,['event','person']]\n",
    "cantidadDeEventos = cantidadDeEventos.loc[cantidadDeEventos['event'] != 'conversion']\n",
    "#no tiene sentido este\n",
    "cantidadDeEventos = cantidadDeEventos.groupby('person').event.value_counts().to_frame().unstack()\n",
    "cantidadDeEventos = cantidadDeEventos.reset_index()\n",
    "cantidadDeEventos.columns = ['person','cantAdCampaignHit', 'cantBandListing',\\\n",
    "                             'cantCheckout','cantGenericListing','cantLead',\\\n",
    "                            'cantSearchEngineHit', 'cantSearchedProducts',\\\n",
    "                             'cantStaticpage', 'cantViewedProduct', 'cantVisitedSite']"
   ]
  },
  {
   "cell_type": "code",
   "execution_count": 60,
   "metadata": {},
   "outputs": [
    {
     "data": {
      "text/html": [
       "<div>\n",
       "<style scoped>\n",
       "    .dataframe tbody tr th:only-of-type {\n",
       "        vertical-align: middle;\n",
       "    }\n",
       "\n",
       "    .dataframe tbody tr th {\n",
       "        vertical-align: top;\n",
       "    }\n",
       "\n",
       "    .dataframe thead th {\n",
       "        text-align: right;\n",
       "    }\n",
       "</style>\n",
       "<table border=\"1\" class=\"dataframe\">\n",
       "  <thead>\n",
       "    <tr style=\"text-align: right;\">\n",
       "      <th></th>\n",
       "      <th>person</th>\n",
       "      <th>cantAdCampaignHit</th>\n",
       "      <th>cantBandListing</th>\n",
       "      <th>cantCheckout</th>\n",
       "      <th>cantGenericListing</th>\n",
       "      <th>cantLead</th>\n",
       "      <th>cantSearchEngineHit</th>\n",
       "      <th>cantSearchedProducts</th>\n",
       "      <th>cantStaticpage</th>\n",
       "      <th>cantViewedProduct</th>\n",
       "      <th>cantVisitedSite</th>\n",
       "    </tr>\n",
       "  </thead>\n",
       "  <tbody>\n",
       "    <tr>\n",
       "      <th>0</th>\n",
       "      <td>0008ed71</td>\n",
       "      <td>NaN</td>\n",
       "      <td>NaN</td>\n",
       "      <td>3.0</td>\n",
       "      <td>1.0</td>\n",
       "      <td>NaN</td>\n",
       "      <td>NaN</td>\n",
       "      <td>NaN</td>\n",
       "      <td>NaN</td>\n",
       "      <td>NaN</td>\n",
       "      <td>2.0</td>\n",
       "    </tr>\n",
       "    <tr>\n",
       "      <th>1</th>\n",
       "      <td>00091926</td>\n",
       "      <td>15.0</td>\n",
       "      <td>25.0</td>\n",
       "      <td>2.0</td>\n",
       "      <td>NaN</td>\n",
       "      <td>NaN</td>\n",
       "      <td>NaN</td>\n",
       "      <td>NaN</td>\n",
       "      <td>NaN</td>\n",
       "      <td>372.0</td>\n",
       "      <td>34.0</td>\n",
       "    </tr>\n",
       "    <tr>\n",
       "      <th>2</th>\n",
       "      <td>00091a7a</td>\n",
       "      <td>1.0</td>\n",
       "      <td>5.0</td>\n",
       "      <td>NaN</td>\n",
       "      <td>NaN</td>\n",
       "      <td>NaN</td>\n",
       "      <td>NaN</td>\n",
       "      <td>NaN</td>\n",
       "      <td>NaN</td>\n",
       "      <td>3.0</td>\n",
       "      <td>1.0</td>\n",
       "    </tr>\n",
       "    <tr>\n",
       "      <th>3</th>\n",
       "      <td>000ba417</td>\n",
       "      <td>1.0</td>\n",
       "      <td>24.0</td>\n",
       "      <td>6.0</td>\n",
       "      <td>14.0</td>\n",
       "      <td>NaN</td>\n",
       "      <td>1.0</td>\n",
       "      <td>NaN</td>\n",
       "      <td>NaN</td>\n",
       "      <td>153.0</td>\n",
       "      <td>6.0</td>\n",
       "    </tr>\n",
       "    <tr>\n",
       "      <th>4</th>\n",
       "      <td>000c79fe</td>\n",
       "      <td>1.0</td>\n",
       "      <td>NaN</td>\n",
       "      <td>1.0</td>\n",
       "      <td>1.0</td>\n",
       "      <td>NaN</td>\n",
       "      <td>1.0</td>\n",
       "      <td>9.0</td>\n",
       "      <td>NaN</td>\n",
       "      <td>3.0</td>\n",
       "      <td>1.0</td>\n",
       "    </tr>\n",
       "  </tbody>\n",
       "</table>\n",
       "</div>"
      ],
      "text/plain": [
       "     person  cantAdCampaignHit  cantBandListing  cantCheckout  \\\n",
       "0  0008ed71                NaN              NaN           3.0   \n",
       "1  00091926               15.0             25.0           2.0   \n",
       "2  00091a7a                1.0              5.0           NaN   \n",
       "3  000ba417                1.0             24.0           6.0   \n",
       "4  000c79fe                1.0              NaN           1.0   \n",
       "\n",
       "   cantGenericListing  cantLead  cantSearchEngineHit  cantSearchedProducts  \\\n",
       "0                 1.0       NaN                  NaN                   NaN   \n",
       "1                 NaN       NaN                  NaN                   NaN   \n",
       "2                 NaN       NaN                  NaN                   NaN   \n",
       "3                14.0       NaN                  1.0                   NaN   \n",
       "4                 1.0       NaN                  1.0                   9.0   \n",
       "\n",
       "   cantStaticpage  cantViewedProduct  cantVisitedSite  \n",
       "0             NaN                NaN              2.0  \n",
       "1             NaN              372.0             34.0  \n",
       "2             NaN                3.0              1.0  \n",
       "3             NaN              153.0              6.0  \n",
       "4             NaN                3.0              1.0  "
      ]
     },
     "execution_count": 60,
     "metadata": {},
     "output_type": "execute_result"
    }
   ],
   "source": [
    "cantidadDeEventos.head()"
   ]
  },
  {
   "cell_type": "code",
   "execution_count": 61,
   "metadata": {},
   "outputs": [],
   "source": [
    "cantidadDeEventos['cantAdCampaignHit'] = cantidadDeEventos['cantAdCampaignHit'].fillna(cantidadDeEventos['cantAdCampaignHit'].median())\n",
    "cantidadDeEventos['cantBandListing'] = cantidadDeEventos['cantBandListing'].fillna(cantidadDeEventos['cantBandListing'].median())\n",
    "cantidadDeEventos['cantCheckout'] = cantidadDeEventos['cantCheckout'].fillna(cantidadDeEventos['cantCheckout'].median())\n",
    "cantidadDeEventos['cantGenericListing'] = cantidadDeEventos['cantGenericListing'].fillna(cantidadDeEventos['cantGenericListing'].median())\n",
    "cantidadDeEventos['cantLead'] = cantidadDeEventos['cantLead'].fillna(cantidadDeEventos['cantLead'].median())\n",
    "cantidadDeEventos['cantSearchEngineHit'] = cantidadDeEventos['cantSearchEngineHit'].fillna(cantidadDeEventos['cantSearchEngineHit'].median())\n",
    "cantidadDeEventos['cantSearchedProducts'] = cantidadDeEventos['cantSearchedProducts'].fillna(cantidadDeEventos['cantSearchedProducts'].median())\n",
    "cantidadDeEventos['cantStaticpage'] = cantidadDeEventos['cantStaticpage'].fillna(cantidadDeEventos['cantStaticpage'].median())\n",
    "cantidadDeEventos['cantViewedProduct'] = cantidadDeEventos['cantViewedProduct'].fillna(cantidadDeEventos['cantViewedProduct'].median())\n",
    "cantidadDeEventos['cantVisitedSite'] = cantidadDeEventos['cantVisitedSite'].fillna(cantidadDeEventos['cantVisitedSite'].median())\n",
    "\n"
   ]
  },
  {
   "cell_type": "code",
   "execution_count": null,
   "metadata": {},
   "outputs": [],
   "source": []
  },
  {
   "cell_type": "code",
   "execution_count": 62,
   "metadata": {},
   "outputs": [],
   "source": [
    "labels_f = pd.merge(labels_f,cantidadDeEventos,on = 'person', how = 'left')"
   ]
  },
  {
   "cell_type": "code",
   "execution_count": 63,
   "metadata": {},
   "outputs": [],
   "source": [
    "labels_f['cantAdCampaignHit'] = labels_f['cantAdCampaignHit'].fillna(labels_f['cantAdCampaignHit'].median())\n",
    "labels_f['cantBandListing'] = labels_f['cantBandListing'].fillna(labels_f['cantBandListing'].median())\n",
    "labels_f['cantCheckout'] = labels_f['cantCheckout'].fillna(labels_f['cantCheckout'].median())\n",
    "labels_f['cantGenericListing'] = labels_f['cantGenericListing'].fillna(labels_f['cantGenericListing'].median())\n",
    "labels_f['cantLead'] = labels_f['cantLead'].fillna(labels_f['cantLead'].median())\n",
    "labels_f['cantSearchEngineHit'] = labels_f['cantSearchEngineHit'].fillna(labels_f['cantSearchEngineHit'].median())\n",
    "labels_f['cantSearchedProducts'] = labels_f['cantSearchedProducts'].fillna(labels_f['cantSearchedProducts'].median())\n",
    "labels_f['cantStaticpage'] = labels_f['cantStaticpage'].fillna(labels_f['cantStaticpage'].median())\n",
    "labels_f['cantViewedProduct'] = labels_f['cantViewedProduct'].fillna(labels_f['cantViewedProduct'].median())\n",
    "labels_f['cantVisitedSite'] = labels_f['cantVisitedSite'].fillna(labels_f['cantVisitedSite'].median())\n",
    "\n"
   ]
  },
  {
   "cell_type": "code",
   "execution_count": 64,
   "metadata": {},
   "outputs": [
    {
     "data": {
      "text/plain": [
       "False    38829\n",
       "Name: cantAdCampaignHit, dtype: int64"
      ]
     },
     "execution_count": 64,
     "metadata": {},
     "output_type": "execute_result"
    }
   ],
   "source": [
    "labels_f.cantAdCampaignHit.isnull().value_counts()"
   ]
  },
  {
   "cell_type": "markdown",
   "metadata": {},
   "source": [
    "### Agrego features según lo anterior pero en vez de la cantidad indico si lo hizo o no ###"
   ]
  },
  {
   "cell_type": "markdown",
   "metadata": {},
   "source": [
    "### 12º El usuario vio un producto ### "
   ]
  },
  {
   "cell_type": "code",
   "execution_count": 65,
   "metadata": {},
   "outputs": [],
   "source": [
    "visitoUnProducto = viewedProduct.loc[:,['person']]\n",
    "visitoUnProducto['cantVisitasAVP'] = 1\n",
    "visitoUnProducto = visitoUnProducto.groupby('person').cantVisitasAVP.sum().to_frame()"
   ]
  },
  {
   "cell_type": "code",
   "execution_count": 66,
   "metadata": {},
   "outputs": [],
   "source": [
    "visitoUnProducto['visitoUnProducto'] = visitoUnProducto.cantVisitasAVP > 0\n",
    "visitoUnProducto = visitoUnProducto.reset_index()\n",
    "visitoUnProducto = visitoUnProducto.loc[:,['person','visitoUnProducto']]"
   ]
  },
  {
   "cell_type": "code",
   "execution_count": 67,
   "metadata": {},
   "outputs": [],
   "source": [
    "labels_f = pd.merge(labels_f,visitoUnProducto, on = 'person', how = 'left')"
   ]
  },
  {
   "cell_type": "code",
   "execution_count": 68,
   "metadata": {},
   "outputs": [
    {
     "data": {
      "text/plain": [
       "False    37130\n",
       "True      1699\n",
       "Name: visitoUnProducto, dtype: int64"
      ]
     },
     "execution_count": 68,
     "metadata": {},
     "output_type": "execute_result"
    }
   ],
   "source": [
    "labels_f.visitoUnProducto.isnull().value_counts()"
   ]
  },
  {
   "cell_type": "markdown",
   "metadata": {},
   "source": [
    "**Como todos los usuarios visitaron un producto este feature no sirve.**\n",
    "\n",
    "Lo que suscede es que esos 37130 son True y los demás son Nan y si completo con la moda no tiene sentido. "
   ]
  },
  {
   "cell_type": "code",
   "execution_count": 69,
   "metadata": {},
   "outputs": [],
   "source": [
    "labels_f = labels_f.loc[:,['person', 'label', 'esNuevo', 'cantidadDeVisitas',\n",
    "       'ingresoPorPublicidad', 'deviceSmartphone', 'deviceComputer',\n",
    "       'deviceTablet', 'deviceUnknown', 'cantVisitasAVP', 'maniana', 'tarde',\n",
    "       'noche', 'madrugada', 'cantDirect', 'cantEmail', 'cantOrganic',\n",
    "       'cantPaid', 'cantReferral', 'cantSocial', 'cantUnknown',\n",
    "       'cantVisitasDomingo', 'cantVisitasLunes', 'cantVisitasMartes',\n",
    "       'cantVisitasMiercoles', 'cantVisitasJueves', 'cantVisitasViernes',\n",
    "       'cantVisitasSabado', 'cantidadDeEventos', 'cantAdCampaignHit',\n",
    "       'cantBandListing', 'cantCheckout', 'cantGenericListing', 'cantLead',\n",
    "       'cantSearchEngineHit', 'cantSearchedProducts', 'cantStaticpage',\n",
    "       'cantViewedProduct', 'cantVisitedSite']]"
   ]
  },
  {
   "cell_type": "markdown",
   "metadata": {},
   "source": [
    "### 13º El usuario visita la página en un momento determinado del día ###"
   ]
  },
  {
   "cell_type": "code",
   "execution_count": 70,
   "metadata": {},
   "outputs": [],
   "source": [
    "momentoDeVisita_2 = momentoDeVisita\n",
    "momentoDeVisita_2['visitaALaManiana'] = momentoDeVisita['maniana']>0\n",
    "momentoDeVisita_2['visitaALaTarde'] = momentoDeVisita['tarde']>0\n",
    "momentoDeVisita_2['visitaALaNoche'] = momentoDeVisita['noche']>0\n",
    "momentoDeVisita_2['visitaALaMadrugada'] = momentoDeVisita['madrugada']>0\n",
    "momentoDeVisita_2 = momentoDeVisita_2.loc[:,['person','visitaALaManiana','visitaALaNoche',\\\n",
    "                                         'visitaALaTarde', 'visitaALaMadrugada']]"
   ]
  },
  {
   "cell_type": "markdown",
   "metadata": {},
   "source": [
    "Supongo que aquellos usuarios que no tienen información es porque no visitaron en ese momento. "
   ]
  },
  {
   "cell_type": "code",
   "execution_count": 71,
   "metadata": {},
   "outputs": [],
   "source": [
    "momentoDeVisita_2 = momentoDeVisita_2.fillna(False)"
   ]
  },
  {
   "cell_type": "code",
   "execution_count": 72,
   "metadata": {},
   "outputs": [],
   "source": [
    "labels_f = pd.merge(labels_f, momentoDeVisita_2, on = 'person', how = 'left')\n"
   ]
  },
  {
   "cell_type": "code",
   "execution_count": 73,
   "metadata": {},
   "outputs": [],
   "source": [
    "labels_f['visitaALaManiana'] = labels_f['visitaALaManiana'].fillna(labels_f['visitaALaManiana'].mode().iloc[0])\n",
    "labels_f['visitaALaTarde'] = labels_f['visitaALaTarde'].fillna(labels_f['visitaALaTarde'].mode().iloc[0])\n",
    "labels_f['visitaALaNoche'] = labels_f['visitaALaNoche'].fillna(labels_f['visitaALaNoche'].mode().iloc[0])\n",
    "labels_f['visitaALaMadrugada'] = labels_f['visitaALaMadrugada'].fillna(labels_f['visitaALaMadrugada'].mode().iloc[0])"
   ]
  },
  {
   "cell_type": "code",
   "execution_count": 74,
   "metadata": {},
   "outputs": [
    {
     "data": {
      "text/plain": [
       "False    38829\n",
       "Name: visitaALaManiana, dtype: int64"
      ]
     },
     "execution_count": 74,
     "metadata": {},
     "output_type": "execute_result"
    }
   ],
   "source": [
    "labels_f.visitaALaManiana.isnull().value_counts()"
   ]
  },
  {
   "cell_type": "markdown",
   "metadata": {},
   "source": [
    "### 14º el usuario visitó la página por determinado canal ###"
   ]
  },
  {
   "cell_type": "code",
   "execution_count": 75,
   "metadata": {},
   "outputs": [],
   "source": [
    "canalDeVisita_2 = canalDeVisita\n",
    "canalDeVisita_2['canalDirect'] = canalDeVisita['cantDirect'] >0 \n",
    "canalDeVisita_2['canalEmail'] = canalDeVisita['cantEmail'] >0 \n",
    "canalDeVisita_2['canalOrganic'] = canalDeVisita['cantOrganic'] >0 \n",
    "canalDeVisita_2['canalPaid'] = canalDeVisita['cantPaid'] >0 \n",
    "canalDeVisita_2['canalRefferal'] = canalDeVisita['cantReferral'] >0 \n",
    "canalDeVisita_2['canalSocial'] = canalDeVisita['cantUnknown'] > 0\n",
    "\n",
    "canalDeVisita_2 = canalDeVisita_2.loc[:,['person','canalDirect', 'canalEmail','canalOrganic',\\\n",
    "                                    'canalPaid','canalRefferal', 'canalSocial']]"
   ]
  },
  {
   "cell_type": "code",
   "execution_count": 76,
   "metadata": {},
   "outputs": [],
   "source": [
    "labels_f = pd.merge(labels_f, canalDeVisita_2, on = 'person', how = 'left')"
   ]
  },
  {
   "cell_type": "code",
   "execution_count": 77,
   "metadata": {},
   "outputs": [],
   "source": [
    "labels_f['canalDirect'] = labels_f['cantDirect'].fillna(labels_f['cantDirect'].mode().iloc[0]) \n",
    "labels_f['canalEmail'] = labels_f['cantEmail'].fillna(labels_f['cantEmail'].mode().iloc[0]) \n",
    "labels_f['canalOrganic'] = labels_f['cantOrganic'].fillna(labels_f['cantOrganic'].mode().iloc[0]) \n",
    "labels_f['canalPaid'] = labels_f['cantPaid'].fillna(labels_f['cantPaid'].mode().iloc[0]) \n",
    "labels_f['canalRefferal'] = labels_f['cantReferral'].fillna(labels_f['cantReferral'].mode().iloc[0]) \n",
    "labels_f['canalSocial'] = labels_f['cantUnknown'].fillna(labels_f['cantUnknown'].mode().iloc[0])"
   ]
  },
  {
   "cell_type": "code",
   "execution_count": 78,
   "metadata": {},
   "outputs": [
    {
     "data": {
      "text/plain": [
       "False    38829\n",
       "Name: canalDirect, dtype: int64"
      ]
     },
     "execution_count": 78,
     "metadata": {},
     "output_type": "execute_result"
    }
   ],
   "source": [
    "labels_f.canalDirect.isnull().value_counts()"
   ]
  },
  {
   "cell_type": "code",
   "execution_count": null,
   "metadata": {},
   "outputs": [],
   "source": []
  },
  {
   "cell_type": "markdown",
   "metadata": {},
   "source": [
    "### 15º el usuario realizó determinado evento### "
   ]
  },
  {
   "cell_type": "code",
   "execution_count": 82,
   "metadata": {},
   "outputs": [],
   "source": [
    "cantidadDeEventos_2 = cantidadDeEventos\n",
    "cantidadDeEventos_2['adCampaignHit'] = cantidadDeEventos['cantAdCampaignHit']>0\n",
    "cantidadDeEventos_2['bandListing'] = cantidadDeEventos['cantBandListing']>0\n",
    "cantidadDeEventos_2['checkout'] = cantidadDeEventos['cantCheckout']>0\n",
    "cantidadDeEventos_2['genericListing'] = cantidadDeEventos['cantGenericListing']>0\n",
    "cantidadDeEventos_2['searchEngineHit'] = cantidadDeEventos['cantSearchEngineHit']>0\n",
    "cantidadDeEventos_2['searchedProducts'] = cantidadDeEventos['cantSearchedProducts']>0\n",
    "cantidadDeEventos_2['staticpage'] = cantidadDeEventos['cantStaticpage']>0\n",
    "cantidadDeEventos_2['viewedProduct'] = cantidadDeEventos['cantViewedProduct']>0\n",
    "cantidadDeEventos_2['visitedSite'] = cantidadDeEventos['cantVisitedSite']>0\n",
    "cantidadDeEventos_2['lead'] = cantidadDeEventos['cantLead']>0"
   ]
  },
  {
   "cell_type": "code",
   "execution_count": 83,
   "metadata": {},
   "outputs": [],
   "source": [
    "cantidadDeEventos_2 = cantidadDeEventos_2.loc[:,['person','adCampaignHit','bandListing','checkout','genericListing','searchEngineHit','searchedProducts','staticpage','viewedProduct','visitedSite','lead']]"
   ]
  },
  {
   "cell_type": "code",
   "execution_count": 84,
   "metadata": {},
   "outputs": [],
   "source": [
    "labels_f = pd.merge(labels_f,cantidadDeEventos_2, on = 'person', how = 'left')"
   ]
  },
  {
   "cell_type": "code",
   "execution_count": 86,
   "metadata": {},
   "outputs": [],
   "source": [
    "labels_f['adCampaignHit'] = labels_f['adCampaignHit'].fillna(labels_f['adCampaignHit'].mode().iloc[0])\n",
    "labels_f['bandListing'] = labels_f['bandListing'].fillna(labels_f['bandListing'].mode().iloc[0])\n",
    "labels_f['checkout'] = labels_f['checkout'].fillna(labels_f['checkout'].mode().iloc[0])\n",
    "labels_f['genericListing'] = labels_f['genericListing'].fillna(labels_f['genericListing'].mode().iloc[0])\n",
    "labels_f['lead'] = labels_f['lead'].fillna(labels_f['lead'].median())\n",
    "labels_f['searchEngineHit'] = labels_f['searchEngineHit'].fillna(labels_f['searchEngineHit'].mode().iloc[0])\n",
    "labels_f['searchedProducts'] = labels_f['searchedProducts'].fillna(labels_f['searchedProducts'].mode().iloc[0])\n",
    "labels_f['staticpage'] = labels_f['staticpage'].fillna(labels_f['staticpage'].mode().iloc[0])\n",
    "labels_f['viewedProduct'] = labels_f['viewedProduct'].fillna(labels_f['viewedProduct'].mode().iloc[0])\n",
    "labels_f['visitedSite'] = labels_f['visitedSite'].fillna(labels_f['visitedSite'].mode().iloc[0])"
   ]
  },
  {
   "cell_type": "code",
   "execution_count": 87,
   "metadata": {},
   "outputs": [
    {
     "data": {
      "text/plain": [
       "False    38829\n",
       "Name: checkout, dtype: int64"
      ]
     },
     "execution_count": 87,
     "metadata": {},
     "output_type": "execute_result"
    }
   ],
   "source": [
    "labels_f.checkout.isnull().value_counts()"
   ]
  },
  {
   "cell_type": "code",
   "execution_count": 89,
   "metadata": {},
   "outputs": [
    {
     "data": {
      "text/plain": [
       "Index(['person', 'label', 'esNuevo', 'cantidadDeVisitas',\n",
       "       'ingresoPorPublicidad', 'deviceSmartphone', 'deviceComputer',\n",
       "       'deviceTablet', 'deviceUnknown', 'cantVisitasAVP', 'maniana', 'tarde',\n",
       "       'noche', 'madrugada', 'cantDirect', 'cantEmail', 'cantOrganic',\n",
       "       'cantPaid', 'cantReferral', 'cantSocial', 'cantUnknown',\n",
       "       'cantVisitasDomingo', 'cantVisitasLunes', 'cantVisitasMartes',\n",
       "       'cantVisitasMiercoles', 'cantVisitasJueves', 'cantVisitasViernes',\n",
       "       'cantVisitasSabado', 'cantidadDeEventos', 'cantAdCampaignHit',\n",
       "       'cantBandListing', 'cantCheckout', 'cantGenericListing', 'cantLead',\n",
       "       'cantSearchEngineHit', 'cantSearchedProducts', 'cantStaticpage',\n",
       "       'cantViewedProduct', 'cantVisitedSite', 'visitaALaManiana',\n",
       "       'visitaALaNoche', 'visitaALaTarde', 'visitaALaMadrugada', 'canalDirect',\n",
       "       'canalEmail', 'canalOrganic', 'canalPaid', 'canalRefferal',\n",
       "       'canalSocial', 'adCampaignHit', 'bandListing', 'checkout',\n",
       "       'genericListing', 'searchEngineHit', 'searchedProducts', 'staticpage',\n",
       "       'viewedProduct', 'visitedSite', 'lead'],\n",
       "      dtype='object')"
      ]
     },
     "execution_count": 89,
     "metadata": {},
     "output_type": "execute_result"
    }
   ],
   "source": []
  },
  {
   "cell_type": "markdown",
   "metadata": {},
   "source": [
    "### 16º el usuario visitó los productos más populares ###"
   ]
  },
  {
   "cell_type": "code",
   "execution_count": 68,
   "metadata": {},
   "outputs": [
    {
     "data": {
      "text/plain": [
       "['iPhone 6',\n",
       " 'iPhone 5s',\n",
       " 'iPhone 6S',\n",
       " 'iPhone 7',\n",
       " 'Samsung Galaxy S7 Edge',\n",
       " 'iPhone 7 Plus',\n",
       " 'Samsung Galaxy S7',\n",
       " 'iPhone 6S Plus',\n",
       " 'iPhone SE',\n",
       " 'Samsung Galaxy S8']"
      ]
     },
     "execution_count": 68,
     "metadata": {},
     "output_type": "execute_result"
    }
   ],
   "source": [
    "productosMasVistos = viewedProduct['model'].value_counts().reset_index().iloc[0:10,0].tolist()\n",
    "personasYProductosMasVistos = viewedProduct.loc[:,['model','person']]\n",
    "personasYProductosMasVistos['vioUnProductoMasVisto'] = personasYProductosMasVistos['model'].str in productosMasVistos\n",
    "\n",
    "personasYProductosMasVistos.vioUnProductoMasVisto.value_counts()\n",
    "productosMasVistos"
   ]
  },
  {
   "cell_type": "code",
   "execution_count": 69,
   "metadata": {},
   "outputs": [],
   "source": [
    "labels_f['cantidadDeVisitas'] = labels_f['cantidadDeVisitas'].astype('float64')"
   ]
  },
  {
   "cell_type": "code",
   "execution_count": 70,
   "metadata": {},
   "outputs": [
    {
     "name": "stdout",
     "output_type": "stream",
     "text": [
      "<class 'pandas.core.frame.DataFrame'>\n",
      "Int64Index: 38242 entries, 0 to 38241\n",
      "Data columns (total 58 columns):\n",
      "person                  38242 non-null object\n",
      "label                   0 non-null float64\n",
      "esNuevo                 38242 non-null bool\n",
      "cantidadDeVisitas       38242 non-null float64\n",
      "ingresoPorPublicidad    38242 non-null object\n",
      "deviceSmartphone        38242 non-null bool\n",
      "deviceComputer          38242 non-null bool\n",
      "deviceTablet            38242 non-null bool\n",
      "deviceUnknown           38242 non-null bool\n",
      "cantVisitasAVP          38242 non-null float64\n",
      "maniana                 38242 non-null float64\n",
      "tarde                   38242 non-null float64\n",
      "noche                   38242 non-null float64\n",
      "madrugada               38242 non-null float64\n",
      "cantDirect              38242 non-null float64\n",
      "cantEmail               38242 non-null float64\n",
      "cantOrganic             38242 non-null float64\n",
      "cantPaid                38242 non-null float64\n",
      "cantReferral            38242 non-null float64\n",
      "cantSocial              38242 non-null float64\n",
      "cantUnknown             38242 non-null float64\n",
      "cantVisitasDomingo      38242 non-null float64\n",
      "cantVisitasLunes        38242 non-null float64\n",
      "cantVisitasMartes       38242 non-null float64\n",
      "cantVisitasMiercoles    38242 non-null float64\n",
      "cantVisitasJueves       38242 non-null float64\n",
      "cantVisitasViernes      38242 non-null float64\n",
      "cantVisitasSabado       38242 non-null float64\n",
      "cantidadDeEventos       38242 non-null int64\n",
      "cantAdCampaignHit       38242 non-null float64\n",
      "cantBandListing         38242 non-null float64\n",
      "cantCheckout            38242 non-null float64\n",
      "cantGenericListing      38242 non-null float64\n",
      "cantLead                38242 non-null float64\n",
      "cantSearchEngineHit     38242 non-null float64\n",
      "cantSearchedProducts    38242 non-null float64\n",
      "cantStaticpage          38242 non-null float64\n",
      "cantViewedProduct       38242 non-null float64\n",
      "cantVisitedSite         38242 non-null float64\n",
      "visitaALaMañana         38242 non-null bool\n",
      "visitaALaNoche          38242 non-null bool\n",
      "visitaALaTarde          38242 non-null bool\n",
      "visitaALaMadrugada      38242 non-null bool\n",
      "canalDirect             38242 non-null bool\n",
      "canalEmail              38242 non-null bool\n",
      "canalOrganic            38242 non-null bool\n",
      "canalPaid               38242 non-null bool\n",
      "canalRefferal           38242 non-null bool\n",
      "canalSocial             38242 non-null bool\n",
      "adCampaignHit           38242 non-null bool\n",
      "bandListing             38242 non-null bool\n",
      "checkout                38242 non-null bool\n",
      "genericListing          38242 non-null bool\n",
      "searchEngineHit         38242 non-null bool\n",
      "searchedProducts        38242 non-null bool\n",
      "staticpage              38242 non-null bool\n",
      "viewedProduct           38242 non-null bool\n",
      "visitedSite             38242 non-null bool\n",
      "dtypes: bool(24), float64(31), int64(1), object(2)\n",
      "memory usage: 11.1+ MB\n"
     ]
    }
   ],
   "source": [
    "labels_f.info()"
   ]
  },
  {
   "cell_type": "code",
   "execution_count": 71,
   "metadata": {},
   "outputs": [
    {
     "data": {
      "text/plain": [
       "Index(['person', 'label', 'esNuevo', 'cantidadDeVisitas',\n",
       "       'ingresoPorPublicidad', 'deviceSmartphone', 'deviceComputer',\n",
       "       'deviceTablet', 'deviceUnknown', 'cantVisitasAVP', 'maniana', 'tarde',\n",
       "       'noche', 'madrugada', 'cantDirect', 'cantEmail', 'cantOrganic',\n",
       "       'cantPaid', 'cantReferral', 'cantSocial', 'cantUnknown',\n",
       "       'cantVisitasDomingo', 'cantVisitasLunes', 'cantVisitasMartes',\n",
       "       'cantVisitasMiercoles', 'cantVisitasJueves', 'cantVisitasViernes',\n",
       "       'cantVisitasSabado', 'cantidadDeEventos', 'cantAdCampaignHit',\n",
       "       'cantBandListing', 'cantCheckout', 'cantGenericListing', 'cantLead',\n",
       "       'cantSearchEngineHit', 'cantSearchedProducts', 'cantStaticpage',\n",
       "       'cantViewedProduct', 'cantVisitedSite', 'visitaALaMañana',\n",
       "       'visitaALaNoche', 'visitaALaTarde', 'visitaALaMadrugada', 'canalDirect',\n",
       "       'canalEmail', 'canalOrganic', 'canalPaid', 'canalRefferal',\n",
       "       'canalSocial', 'adCampaignHit', 'bandListing', 'checkout',\n",
       "       'genericListing', 'searchEngineHit', 'searchedProducts', 'staticpage',\n",
       "       'viewedProduct', 'visitedSite'],\n",
       "      dtype='object')"
      ]
     },
     "execution_count": 71,
     "metadata": {},
     "output_type": "execute_result"
    }
   ],
   "source": [
    "labels_f.columns"
   ]
  },
  {
   "cell_type": "code",
   "execution_count": 91,
   "metadata": {},
   "outputs": [],
   "source": [
    "labels_f.to_csv('featuresMagui.csv')"
   ]
  },
  {
   "cell_type": "code",
   "execution_count": null,
   "metadata": {},
   "outputs": [],
   "source": []
  },
  {
   "cell_type": "code",
   "execution_count": null,
   "metadata": {},
   "outputs": [],
   "source": []
  }
 ],
 "metadata": {
  "kernelspec": {
   "display_name": "Python 3",
   "language": "python",
   "name": "python3"
  },
  "language_info": {
   "codemirror_mode": {
    "name": "ipython",
    "version": 3
   },
   "file_extension": ".py",
   "mimetype": "text/x-python",
   "name": "python",
   "nbconvert_exporter": "python",
   "pygments_lexer": "ipython3",
   "version": "3.6.5"
  }
 },
 "nbformat": 4,
 "nbformat_minor": 2
}
