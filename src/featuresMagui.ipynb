{
 "cells": [
  {
   "cell_type": "markdown",
   "metadata": {},
   "source": [
    "# Búsqueda de Features #\n",
    "\n",
    "Búsqueda y análisis de los features encontrados"
   ]
  },
  {
   "cell_type": "code",
   "execution_count": 1,
   "metadata": {},
   "outputs": [],
   "source": [
    "import pandas as pd\n",
    "import numpy as np\n",
    "import matplotlib\n",
    "import matplotlib.pyplot as plt\n",
    "#Para completar los valores Nulls\n",
    "from sklearn.impute import SimpleImputer"
   ]
  },
  {
   "cell_type": "code",
   "execution_count": 2,
   "metadata": {},
   "outputs": [
    {
     "name": "stderr",
     "output_type": "stream",
     "text": [
      "/anaconda3/lib/python3.6/site-packages/IPython/core/interactiveshell.py:2785: DtypeWarning: Columns (3,5,6,7,8,9,10,11,12,13,14,15,16,17,18,19,20,21,22) have mixed types. Specify dtype option on import or set low_memory=False.\n",
      "  interactivity=interactivity, compiler=compiler, result=result)\n"
     ]
    }
   ],
   "source": [
    "tf = pd.read_csv('../data/events_up_to_01062018.csv')\n",
    "labels = pd.read_csv('../data/labels_training_set.csv')"
   ]
  },
  {
   "cell_type": "markdown",
   "metadata": {},
   "source": [
    "**Divido las fechas**"
   ]
  },
  {
   "cell_type": "code",
   "execution_count": 3,
   "metadata": {},
   "outputs": [],
   "source": [
    "tf[\"timestamp\"] = pd.to_datetime(tf[\"timestamp\"])\n",
    "tf[\"month\"] = tf[\"timestamp\"].dt.month\n",
    "tf[\"day\"] = tf[\"timestamp\"].dt.day\n",
    "tf[\"hour\"] = tf[\"timestamp\"].dt.hour\n",
    "tf['dayOfTheWeek'] = tf['timestamp'].dt.dayofweek"
   ]
  },
  {
   "cell_type": "markdown",
   "metadata": {},
   "source": [
    "** Cantidad de personas que tengo **"
   ]
  },
  {
   "cell_type": "markdown",
   "metadata": {},
   "source": [
    "Es importante tener este valor en cuenta para evitar perder información."
   ]
  },
  {
   "cell_type": "code",
   "execution_count": 4,
   "metadata": {},
   "outputs": [
    {
     "data": {
      "text/plain": [
       "person    38829\n",
       "dtype: int64"
      ]
     },
     "execution_count": 4,
     "metadata": {},
     "output_type": "execute_result"
    }
   ],
   "source": [
    "persons = tf.person.drop_duplicates()\n",
    "persons = pd.DataFrame(persons)\n",
    "persons.count()"
   ]
  },
  {
   "cell_type": "markdown",
   "metadata": {},
   "source": [
    "**Divido por evento me quedo con las columnas obligatorias por evento**\n",
    "\n",
    "En en análisis exporatorio me había dado cuenta que no todos los eventos tienen la misma información, por lo tanto, intentaré combinar los eventos con el objetivo de encontrar **nuevos features**. \n",
    "\n",
    "Para comenzar divido en distintos DataFrames los distintos eventos, eliminando información que no es útil. "
   ]
  },
  {
   "cell_type": "code",
   "execution_count": 5,
   "metadata": {},
   "outputs": [
    {
     "name": "stderr",
     "output_type": "stream",
     "text": [
      "/anaconda3/lib/python3.6/site-packages/pandas/core/indexing.py:1472: FutureWarning: \n",
      "Passing list-likes to .loc or [] with any missing label will raise\n",
      "KeyError in the future, you can use .reindex() as an alternative.\n",
      "\n",
      "See the documentation here:\n",
      "https://pandas.pydata.org/pandas-docs/stable/indexing.html#deprecate-loc-reindex-listlike\n",
      "  return self._getitem_tuple(key)\n"
     ]
    }
   ],
   "source": [
    "viewedProduct  = tf[tf['event'] == 'viewed product'].loc[:,['dayOfTheWeek','hour','month','day','person','sku','model','condition','storage','color']]\n",
    "brandListing = tf[tf['event'] == 'brand listing'].loc[:,['dayOfTheWeek','hour','month','day','person','skus']]\n",
    "visitedSite = tf[tf['event'] == 'visited site'].loc[:,['dayOfTheWeek','hour','month','day','person','channel','new_vs_returning','city','region','country','device_type',\\\n",
    "                                                       'screen resolution','operating system version','browser version']]\n",
    "adCampaignHit = tf[tf['event'] == 'ad campaign hit'].loc[:,['dayOfTheWeek','hour','month','day','person','url','campaign_source']]\n",
    "genericListing = tf[tf['event'] == 'generic listing'].loc[:,['dayOfTheWeek','hour','month','day','person','skus']]\n",
    "searchedProduct = tf[tf['event'] == 'searched products'].loc[:,['dayOfTheWeek','hour','month','day','person','skus','search_term']]\n",
    "searchEngineHit = tf[tf['event'] == 'search engine hit'].loc[:,['dayOfTheWeek','hour','month','day','person','search engine']]\n",
    "checkout = tf[tf['event'] == 'checkout'].loc[:,['dayOfTheWeek','hour','month','day','person','sku','color','storage','model','condition']]\n",
    "staticPage = tf[tf['event'] == 'staticpage'].loc[:,['dayOfTheWeek','hour','month','day','person','static page']]\n",
    "conversion = tf[tf['event'] == 'conversion'].loc[:,['dayOfTheWeek','hour','month','day','person','sku','model','color','condition','storage']]\n",
    "lead = tf[tf['event'] == 'lead'].loc[:,['dayOfTheWeek','hour','month','day','person','model']]"
   ]
  },
  {
   "cell_type": "markdown",
   "metadata": {},
   "source": [
    "**Buscar atributos de otro evento que no sea conversion**\n"
   ]
  },
  {
   "cell_type": "markdown",
   "metadata": {},
   "source": [
    "La primera instancia que analizaré es si el usuario es nuevo o no, analizando del visited site el atributo 'new_vs_returning'"
   ]
  },
  {
   "cell_type": "markdown",
   "metadata": {},
   "source": [
    "### 1º El usuario realiza un compra habiendo visitado la página una vez ###"
   ]
  },
  {
   "cell_type": "markdown",
   "metadata": {},
   "source": [
    "Intentaré determinar ahora si el usuario que realizó una conversión sólo realizó una única visita al sitio. Para ello debo fijarme en visited site si existe algún valor que sea returning, en tal caso, deja de ser nuevo. "
   ]
  },
  {
   "cell_type": "code",
   "execution_count": 6,
   "metadata": {},
   "outputs": [],
   "source": [
    "newVsReturning = visitedSite.loc[:,['person','new_vs_returning']]\n",
    "newVsReturning = newVsReturning.groupby('person').new_vs_returning.value_counts().to_frame('cantidad')\n",
    "newVsReturning = newVsReturning.unstack().fillna(0)\n",
    "newVsReturning = newVsReturning.reset_index()\n",
    "newVsReturning.columns = ['person','new','returning']\n",
    "newVsReturning['esNuevo'] = newVsReturning['returning'] == 0"
   ]
  },
  {
   "cell_type": "markdown",
   "metadata": {},
   "source": [
    "Agrego este atributo a conversion con un merge"
   ]
  },
  {
   "cell_type": "code",
   "execution_count": 7,
   "metadata": {},
   "outputs": [],
   "source": [
    "labels_f = pd.merge(persons, newVsReturning.loc[:,['esNuevo','person']], how = 'left', on = 'person')"
   ]
  },
  {
   "cell_type": "code",
   "execution_count": 8,
   "metadata": {},
   "outputs": [
    {
     "data": {
      "text/plain": [
       "False    38242\n",
       "True       587\n",
       "Name: esNuevo, dtype: int64"
      ]
     },
     "execution_count": 8,
     "metadata": {},
     "output_type": "execute_result"
    }
   ],
   "source": [
    "labels_f.esNuevo.isnull().value_counts()"
   ]
  },
  {
   "cell_type": "markdown",
   "metadata": {},
   "source": [
    "Lo que trato de hacer acá es ver cómo se distribuyen los labels en función de este feature. "
   ]
  },
  {
   "cell_type": "code",
   "execution_count": 9,
   "metadata": {},
   "outputs": [
    {
     "name": "stdout",
     "output_type": "stream",
     "text": [
      "<class 'bool'>\n"
     ]
    }
   ],
   "source": [
    "moda = labels_f.esNuevo.mode().iloc[0]\n",
    "print(type(moda))\n",
    "labels_f['esNuevo'] = labels_f['esNuevo'].fillna(moda)\n"
   ]
  },
  {
   "cell_type": "markdown",
   "metadata": {},
   "source": [
    "### 2º Cantidad de visitas del usuario a la página ###"
   ]
  },
  {
   "cell_type": "markdown",
   "metadata": {},
   "source": [
    "Analizaré ahora la frecuencia de entradas al sitio de un determinado usuario. Para ello analizaré la relación entre new y returnings (le sumo 1 a la cantidad de returnings). "
   ]
  },
  {
   "cell_type": "code",
   "execution_count": 10,
   "metadata": {},
   "outputs": [],
   "source": [
    "newVsReturning['cantidadDeVisitas'] = (newVsReturning['new'] + newVsReturning['returning']).astype('float32')\n",
    "labels_f = pd.merge(labels_f, newVsReturning.loc[:,['cantidadDeVisitas','person']],how = 'left', on = 'person')"
   ]
  },
  {
   "cell_type": "code",
   "execution_count": 11,
   "metadata": {},
   "outputs": [],
   "source": [
    "labels_f['cantidadDeVisitas'] = labels_f['cantidadDeVisitas'].astype('float32')"
   ]
  },
  {
   "cell_type": "code",
   "execution_count": 12,
   "metadata": {},
   "outputs": [],
   "source": [
    "labels_f['cantidadDeVisitas'] = labels_f['cantidadDeVisitas'].fillna(labels_f['cantidadDeVisitas'].mean())"
   ]
  },
  {
   "cell_type": "markdown",
   "metadata": {},
   "source": [
    "Quiero analizar si las personas que no tiene información sobre este campo aportan información en el momento de la selección."
   ]
  },
  {
   "cell_type": "markdown",
   "metadata": {},
   "source": [
    "De todos los que tienen este campo como nulo sólo 5 compraron y 283 no lo hicieron. "
   ]
  },
  {
   "cell_type": "markdown",
   "metadata": {},
   "source": [
    "### 3º El usuario ingresó a la página por algún aviso publicitario alguna vez ###"
   ]
  },
  {
   "cell_type": "markdown",
   "metadata": {},
   "source": [
    "Analizaré si el usario ingresó a la página desde una publicidad (en algún momento) para ello usaré el evento ad_campaing_hit."
   ]
  },
  {
   "cell_type": "code",
   "execution_count": 13,
   "metadata": {},
   "outputs": [
    {
     "data": {
      "text/html": [
       "<div>\n",
       "<style scoped>\n",
       "    .dataframe tbody tr th:only-of-type {\n",
       "        vertical-align: middle;\n",
       "    }\n",
       "\n",
       "    .dataframe tbody tr th {\n",
       "        vertical-align: top;\n",
       "    }\n",
       "\n",
       "    .dataframe thead th {\n",
       "        text-align: right;\n",
       "    }\n",
       "</style>\n",
       "<table border=\"1\" class=\"dataframe\">\n",
       "  <thead>\n",
       "    <tr style=\"text-align: right;\">\n",
       "      <th></th>\n",
       "      <th>dayOfTheWeek</th>\n",
       "      <th>hour</th>\n",
       "      <th>month</th>\n",
       "      <th>day</th>\n",
       "      <th>person</th>\n",
       "      <th>url</th>\n",
       "      <th>campaign_source</th>\n",
       "    </tr>\n",
       "  </thead>\n",
       "  <tbody>\n",
       "    <tr>\n",
       "      <th>9</th>\n",
       "      <td>4</td>\n",
       "      <td>0</td>\n",
       "      <td>5</td>\n",
       "      <td>18</td>\n",
       "      <td>45baf068</td>\n",
       "      <td>/</td>\n",
       "      <td>google</td>\n",
       "    </tr>\n",
       "    <tr>\n",
       "      <th>14</th>\n",
       "      <td>4</td>\n",
       "      <td>0</td>\n",
       "      <td>5</td>\n",
       "      <td>18</td>\n",
       "      <td>45baf068</td>\n",
       "      <td>/</td>\n",
       "      <td>google</td>\n",
       "    </tr>\n",
       "    <tr>\n",
       "      <th>20</th>\n",
       "      <td>4</td>\n",
       "      <td>0</td>\n",
       "      <td>5</td>\n",
       "      <td>18</td>\n",
       "      <td>29ebb414</td>\n",
       "      <td>/</td>\n",
       "      <td>google</td>\n",
       "    </tr>\n",
       "    <tr>\n",
       "      <th>34</th>\n",
       "      <td>4</td>\n",
       "      <td>0</td>\n",
       "      <td>5</td>\n",
       "      <td>18</td>\n",
       "      <td>2a724d87</td>\n",
       "      <td>/</td>\n",
       "      <td>google</td>\n",
       "    </tr>\n",
       "    <tr>\n",
       "      <th>38</th>\n",
       "      <td>4</td>\n",
       "      <td>0</td>\n",
       "      <td>5</td>\n",
       "      <td>18</td>\n",
       "      <td>15ea8012</td>\n",
       "      <td>/</td>\n",
       "      <td>google</td>\n",
       "    </tr>\n",
       "  </tbody>\n",
       "</table>\n",
       "</div>"
      ],
      "text/plain": [
       "    dayOfTheWeek  hour  month  day    person url campaign_source\n",
       "9              4     0      5   18  45baf068   /          google\n",
       "14             4     0      5   18  45baf068   /          google\n",
       "20             4     0      5   18  29ebb414   /          google\n",
       "34             4     0      5   18  2a724d87   /          google\n",
       "38             4     0      5   18  15ea8012   /          google"
      ]
     },
     "execution_count": 13,
     "metadata": {},
     "output_type": "execute_result"
    }
   ],
   "source": [
    "adCampaignHit.head()"
   ]
  },
  {
   "cell_type": "code",
   "execution_count": 14,
   "metadata": {},
   "outputs": [],
   "source": [
    "personasAdHit = adCampaignHit.loc[:,['person']]\n",
    "personasAdHit['ingresoPorPublicidad'] = True\n",
    "personasAdHit = personasAdHit.drop_duplicates()"
   ]
  },
  {
   "cell_type": "code",
   "execution_count": 15,
   "metadata": {},
   "outputs": [],
   "source": [
    "labels_f = pd.merge(labels_f, personasAdHit, on = 'person', how = 'left')"
   ]
  },
  {
   "cell_type": "code",
   "execution_count": 16,
   "metadata": {},
   "outputs": [
    {
     "data": {
      "text/plain": [
       "False    31900\n",
       "True      6929\n",
       "Name: ingresoPorPublicidad, dtype: int64"
      ]
     },
     "execution_count": 16,
     "metadata": {},
     "output_type": "execute_result"
    }
   ],
   "source": [
    "labels_f['ingresoPorPublicidad'].isnull().value_counts()"
   ]
  },
  {
   "cell_type": "markdown",
   "metadata": {},
   "source": [
    "Es una suposición fuerte decir que como no tengo información sobre si ingresaron por publicidad entonces no ingresaron por publicidad. "
   ]
  },
  {
   "cell_type": "code",
   "execution_count": 17,
   "metadata": {},
   "outputs": [],
   "source": [
    "labels_f['ingresoPorPublicidad'] = labels_f['ingresoPorPublicidad'].fillna(False)"
   ]
  },
  {
   "cell_type": "code",
   "execution_count": 18,
   "metadata": {},
   "outputs": [
    {
     "data": {
      "text/plain": [
       "False    38829\n",
       "Name: ingresoPorPublicidad, dtype: int64"
      ]
     },
     "execution_count": 18,
     "metadata": {},
     "output_type": "execute_result"
    }
   ],
   "source": [
    "labels_f['ingresoPorPublicidad'].isnull().value_counts()"
   ]
  },
  {
   "cell_type": "markdown",
   "metadata": {},
   "source": [
    "### 4º Campaña publicitaria por la que ingresó el usuario ###"
   ]
  },
  {
   "cell_type": "markdown",
   "metadata": {},
   "source": [
    "Analizaré por qué campaña ingresaron los usuarios (en algún momento y luego realizaron una conversión), agregando esa información de ad_campaing_hit"
   ]
  },
  {
   "cell_type": "code",
   "execution_count": 19,
   "metadata": {},
   "outputs": [],
   "source": [
    "campaniaPersonasAdHit = adCampaignHit.loc[:,['person','campaign_source']]\n",
    "campaniaPersonasAdHit = pd.get_dummies(campaniaPersonasAdHit.campaign_source)\n",
    "campaniaPersonasAdHit['person'] = adCampaignHit['person']\n",
    "campaniaPersonasAdHit = campaniaPersonasAdHit.groupby('person').sum().reset_index()"
   ]
  },
  {
   "cell_type": "code",
   "execution_count": 20,
   "metadata": {},
   "outputs": [],
   "source": [
    "labels_f = pd.merge(labels_f, campaniaPersonasAdHit, on = 'person', how = 'left')"
   ]
  },
  {
   "cell_type": "markdown",
   "metadata": {},
   "source": [
    "### 5º información sobre el dispositivo por el cual se conectaron ###"
   ]
  },
  {
   "cell_type": "markdown",
   "metadata": {},
   "source": [
    "El único evento que posee información sobre el dispositivo al cual se conecto es Visited Site. Se registra un Visited Site cada vez que el usuario ingresa a Trocafone (cualquiera sea el motivo). Repetiré el análisis hecho en el análisis exploratorio en el que mostrábamos que la mayoría de los usuarios se conectaban por un sólo dispositivo.\n"
   ]
  },
  {
   "cell_type": "code",
   "execution_count": 21,
   "metadata": {},
   "outputs": [
    {
     "name": "stdout",
     "output_type": "stream",
     "text": [
      "   porcentaje\n",
      "1    0.959547\n",
      "2    0.039721\n",
      "3    0.000732\n"
     ]
    }
   ],
   "source": [
    "def contar_columnas(x):#(col1,col2,col3,col4):\n",
    "    t=0\n",
    "    if x['tablet']>0:\n",
    "        t += 1\n",
    "    if x['smartphone']>0:\n",
    "        t += 1\n",
    "    if x['computer']>0:\n",
    "        t += 1\n",
    "    if x['unknown']>0:\n",
    "        t += 1\n",
    "    return t\n",
    "\n",
    "\n",
    "#print(visited_site.device_type.value_counts()) -> LOS UNKNOWN SON DESPRECIABLES. \n",
    "dispositivos= visitedSite.groupby('person')['device_type'].value_counts().to_frame('cantidad')\n",
    "dispositivos = dispositivos.unstack().fillna(0).reset_index()\n",
    "dispositivos.columns = ['person','computer','smartphone','tablet','unknown']\n",
    "dispositivos = dispositivos.set_index('person')\n",
    "dispositivos['porcentaje'] = dispositivos.apply(lambda p:contar_columnas(p), axis = 1)\n",
    "\n",
    "\n",
    "print(dispositivos['porcentaje'].value_counts(normalize = True).to_frame())\n",
    "\n",
    "#quito aquellos que se hayan conectado por más de un dispositivo\n",
    "dispositivos = dispositivos[dispositivos['porcentaje'] <= 1]\n",
    "visited_device = visitedSite.loc[:,['person','device_type']].drop_duplicates()\n",
    "dispositivos = dispositivos.reset_index()\n",
    "visited_device = pd.merge(dispositivos.loc[:,['person']],visited_device, on= 'person',how = 'left').drop_duplicates()\n"
   ]
  },
  {
   "cell_type": "markdown",
   "metadata": {},
   "source": [
    "Por lo tanto existe un 96 porciento de los usuarios que se conectaron de un único tipo de dispositivo, por lo tanto, despreciaremos el otro 4 porciento. \n"
   ]
  },
  {
   "cell_type": "code",
   "execution_count": 22,
   "metadata": {},
   "outputs": [],
   "source": [
    "labels_f = pd.merge(labels_f, visited_device, how = 'left', on = 'person')\n",
    "#le cambio el nombre a la columna device type para que no se confunda con lo que compraron"
   ]
  },
  {
   "cell_type": "code",
   "execution_count": 23,
   "metadata": {},
   "outputs": [
    {
     "data": {
      "text/plain": [
       "False    36695\n",
       "True      2134\n",
       "Name: device_type, dtype: int64"
      ]
     },
     "execution_count": 23,
     "metadata": {},
     "output_type": "execute_result"
    }
   ],
   "source": [
    "labels_f.device_type.isnull().value_counts()"
   ]
  },
  {
   "cell_type": "code",
   "execution_count": 24,
   "metadata": {},
   "outputs": [],
   "source": [
    "labels_f['device_type'] = labels_f['device_type'].fillna(labels_f.device_type.mode().iloc[0])"
   ]
  },
  {
   "cell_type": "code",
   "execution_count": 25,
   "metadata": {},
   "outputs": [
    {
     "data": {
      "text/plain": [
       "False    38829\n",
       "Name: device_type, dtype: int64"
      ]
     },
     "execution_count": 25,
     "metadata": {},
     "output_type": "execute_result"
    }
   ],
   "source": [
    "labels_f.device_type.isnull().value_counts()"
   ]
  },
  {
   "cell_type": "code",
   "execution_count": 26,
   "metadata": {},
   "outputs": [],
   "source": [
    "labels_f['deviceSmartphone'] = labels_f['device_type'] == 'Smartphone'\n",
    "labels_f['deviceComputer'] = labels_f['device_type'] == 'Computer'\n",
    "labels_f['deviceTablet'] = labels_f['device_type'] == 'Tablet'\n",
    "labels_f['deviceUnknown'] = labels_f['device_type'] == 'Unknown'"
   ]
  },
  {
   "cell_type": "code",
   "execution_count": null,
   "metadata": {},
   "outputs": [],
   "source": []
  },
  {
   "cell_type": "markdown",
   "metadata": {},
   "source": [
    "### 6º Cantidad de veces que el usuario vio un producto ###"
   ]
  },
  {
   "cell_type": "markdown",
   "metadata": {},
   "source": [
    "Analizaré ahora la cantidad de veces que el usuario vio un producto "
   ]
  },
  {
   "cell_type": "code",
   "execution_count": 27,
   "metadata": {},
   "outputs": [],
   "source": [
    "cantidadDeVisitasAProductos = viewedProduct.loc[:,['person']]\n",
    "cantidadDeVisitasAProductos['cantVisitasAVP'] = 1\n",
    "cantidadDeVisitasAProductos = cantidadDeVisitasAProductos.groupby('person').cantVisitasAVP.sum().to_frame()\n"
   ]
  },
  {
   "cell_type": "code",
   "execution_count": 28,
   "metadata": {},
   "outputs": [],
   "source": [
    "labels_f = pd.merge(labels_f, cantidadDeVisitasAProductos, on= 'person', how = 'left')"
   ]
  },
  {
   "cell_type": "code",
   "execution_count": 29,
   "metadata": {},
   "outputs": [
    {
     "data": {
      "text/plain": [
       "False    37130\n",
       "True      1699\n",
       "Name: cantVisitasAVP, dtype: int64"
      ]
     },
     "execution_count": 29,
     "metadata": {},
     "output_type": "execute_result"
    }
   ],
   "source": [
    "labels_f.cantVisitasAVP.isnull().value_counts()"
   ]
  },
  {
   "cell_type": "markdown",
   "metadata": {},
   "source": [
    "Supongo que como no tenemos información de 1699 labels sobre la cantidad de visitas a productos estos nunca lo hicieron."
   ]
  },
  {
   "cell_type": "markdown",
   "metadata": {},
   "source": [
    "### 7º Momento del día en el que realizan las visitas ###"
   ]
  },
  {
   "cell_type": "markdown",
   "metadata": {},
   "source": [
    "Usando visitedSite analizaré el momento del día en el que el usuario realizó las visitas. Lo agruparé en las siguientes clases:\n",
    "\n",
    "-Mañana: si el usuario realizó la visita entre las 7 y 12 hs. \n",
    "\n",
    "-Tarde: si el usuario realizó la visita entre las 12 y las 18 hs. \n",
    "\n",
    "-Noche: si el usuario realizó la visita entre las 18 y 24 hs. \n",
    "\n",
    "-Madrugada: si el usuario realizó la visita entre las 24 y 7 hs. "
   ]
  },
  {
   "cell_type": "code",
   "execution_count": 30,
   "metadata": {},
   "outputs": [],
   "source": [
    "momentoDeVisita = visitedSite.loc[:,['person','hour']]\n",
    "momentoDeVisita['maniana'] = ((momentoDeVisita['hour'] < 12 ) & (momentoDeVisita['hour'] >= 7)).astype('int32')\n",
    "momentoDeVisita['tarde'] = ((momentoDeVisita['hour'] < 18 ) & (momentoDeVisita['hour'] >= 12)).astype('int32')\n",
    "momentoDeVisita['noche'] = ((momentoDeVisita['hour'] < 24 ) & (momentoDeVisita['hour'] >= 18)).astype('int32')\n",
    "momentoDeVisita['madrugada'] = ((momentoDeVisita['hour'] < 7 ) & (momentoDeVisita['hour'] >= 24)).astype('int32')\n",
    "momentoDeVisita = momentoDeVisita.groupby('person').sum().reset_index()\n",
    "momentoDeVisita = momentoDeVisita.loc[:,['person','maniana','tarde','noche','madrugada']]"
   ]
  },
  {
   "cell_type": "code",
   "execution_count": 31,
   "metadata": {},
   "outputs": [],
   "source": [
    "labels_f = pd.merge(labels_f,momentoDeVisita, on = 'person', how = 'left') "
   ]
  },
  {
   "cell_type": "code",
   "execution_count": 32,
   "metadata": {},
   "outputs": [
    {
     "data": {
      "text/plain": [
       "False    38242\n",
       "True       587\n",
       "Name: maniana, dtype: int64"
      ]
     },
     "execution_count": 32,
     "metadata": {},
     "output_type": "execute_result"
    }
   ],
   "source": [
    "labels_f['maniana'].isnull().value_counts()"
   ]
  },
  {
   "cell_type": "markdown",
   "metadata": {},
   "source": [
    "Por lo tanto, **los atributos: maniana, tarde, noche y madrugada no fueron asignados para 288 labels**. Esto concuerda con el atributo device type obtenido anterior mentde del mismo evento: visited site."
   ]
  },
  {
   "cell_type": "code",
   "execution_count": 33,
   "metadata": {},
   "outputs": [],
   "source": [
    "labels_f['maniana'] = labels_f['maniana'].fillna(labels_f['maniana'].median())\n",
    "labels_f['tarde'] = labels_f['tarde'].fillna(labels_f['tarde'].median())\n",
    "labels_f['noche'] = labels_f['noche'].fillna(labels_f['noche'].median())\n",
    "labels_f['madrugada'] = labels_f['madrugada'].fillna(labels_f['madrugada'].median())"
   ]
  },
  {
   "cell_type": "code",
   "execution_count": 34,
   "metadata": {},
   "outputs": [
    {
     "data": {
      "text/plain": [
       "False    38829\n",
       "Name: maniana, dtype: int64"
      ]
     },
     "execution_count": 34,
     "metadata": {},
     "output_type": "execute_result"
    }
   ],
   "source": [
    "labels_f.maniana.isnull().value_counts()"
   ]
  },
  {
   "cell_type": "markdown",
   "metadata": {},
   "source": [
    "### 8º Cantidad de visitas por canal que realiza el usuario###"
   ]
  },
  {
   "cell_type": "markdown",
   "metadata": {},
   "source": [
    "Analizaré el canal por el que el usuario realiza la visita"
   ]
  },
  {
   "cell_type": "code",
   "execution_count": 35,
   "metadata": {},
   "outputs": [],
   "source": [
    "canalDeVisita = visitedSite.loc[:,['person','channel']]\n",
    "canalDeVisita = canalDeVisita.groupby('person').channel.value_counts().to_frame('cantidad')\n",
    "canalDeVisita = canalDeVisita.unstack()\n",
    "canalDeVisita = canalDeVisita.reset_index()\n",
    "canalDeVisita.columns = ['person','cantDirect','cantEmail','cantOrganic','cantPaid','cantReferral',\\\n",
    "                           'cantSocial','cantUnknown']\n",
    "canalDeVisita = canalDeVisita.fillna(0)"
   ]
  },
  {
   "cell_type": "code",
   "execution_count": 36,
   "metadata": {},
   "outputs": [],
   "source": [
    "labels_f = pd.merge(labels_f,canalDeVisita,on = 'person', how = 'left')"
   ]
  },
  {
   "cell_type": "code",
   "execution_count": 37,
   "metadata": {},
   "outputs": [
    {
     "data": {
      "text/plain": [
       "False    38242\n",
       "True       587\n",
       "Name: cantDirect, dtype: int64"
      ]
     },
     "execution_count": 37,
     "metadata": {},
     "output_type": "execute_result"
    }
   ],
   "source": [
    "labels_f['cantDirect'].isnull().value_counts()"
   ]
  },
  {
   "cell_type": "code",
   "execution_count": 38,
   "metadata": {},
   "outputs": [],
   "source": [
    "labels_f['cantDirect'] = labels_f['cantDirect'].fillna(labels_f['cantDirect'].median())\n",
    "labels_f['cantEmail'] = labels_f['cantEmail'].fillna(labels_f['cantEmail'].median())\n",
    "labels_f['cantOrganic'] = labels_f['cantOrganic'].fillna(labels_f['cantOrganic'].median())\n",
    "labels_f['cantPaid'] = labels_f['cantPaid'].fillna(labels_f['cantPaid'].median())\n",
    "labels_f['cantReferral'] = labels_f['cantReferral'].fillna(labels_f['cantReferral'].median())\n",
    "labels_f['cantSocial'] = labels_f['cantSocial'].fillna(labels_f['cantSocial'].median())\n",
    "labels_f['cantUnknown'] = labels_f['cantUnknown'].fillna(labels_f['cantUnknown'].median())"
   ]
  },
  {
   "cell_type": "markdown",
   "metadata": {},
   "source": [
    "Por lo tanto, **los atributos: cantDirect, cantEmail, cantOrganic, cantPaid, cant referral, cantSocial, cantUnknown que refieren a la cantidad de accesos hecho por cada canal, no tiene fueron asignados para 288 labels**. Esto concuerda con todos los atributos obteneidos del mismo evento: vistedSite"
   ]
  },
  {
   "cell_type": "code",
   "execution_count": 39,
   "metadata": {},
   "outputs": [],
   "source": [
    "#labels_f.cantDirect.isnull().value_counts()"
   ]
  },
  {
   "cell_type": "markdown",
   "metadata": {},
   "source": [
    "### 9º Cantidad de visitas por día de la semana ###"
   ]
  },
  {
   "cell_type": "markdown",
   "metadata": {},
   "source": [
    "Analizaré la cantidad de visitas que el usuario realiza por día de la semana. Usando el evento visited site. "
   ]
  },
  {
   "cell_type": "code",
   "execution_count": 40,
   "metadata": {},
   "outputs": [],
   "source": [
    "diaSemana = visitedSite.loc[:,['person','dayOfTheWeek']]\n",
    "diaSemana = diaSemana.groupby('person').dayOfTheWeek.value_counts().to_frame('cantidad').unstack()"
   ]
  },
  {
   "cell_type": "code",
   "execution_count": 41,
   "metadata": {},
   "outputs": [
    {
     "data": {
      "text/html": [
       "<div>\n",
       "<style scoped>\n",
       "    .dataframe tbody tr th:only-of-type {\n",
       "        vertical-align: middle;\n",
       "    }\n",
       "\n",
       "    .dataframe tbody tr th {\n",
       "        vertical-align: top;\n",
       "    }\n",
       "\n",
       "    .dataframe thead tr th {\n",
       "        text-align: left;\n",
       "    }\n",
       "\n",
       "    .dataframe thead tr:last-of-type th {\n",
       "        text-align: right;\n",
       "    }\n",
       "</style>\n",
       "<table border=\"1\" class=\"dataframe\">\n",
       "  <thead>\n",
       "    <tr>\n",
       "      <th></th>\n",
       "      <th colspan=\"7\" halign=\"left\">cantidad</th>\n",
       "    </tr>\n",
       "    <tr>\n",
       "      <th>dayOfTheWeek</th>\n",
       "      <th>0</th>\n",
       "      <th>1</th>\n",
       "      <th>2</th>\n",
       "      <th>3</th>\n",
       "      <th>4</th>\n",
       "      <th>5</th>\n",
       "      <th>6</th>\n",
       "    </tr>\n",
       "    <tr>\n",
       "      <th>person</th>\n",
       "      <th></th>\n",
       "      <th></th>\n",
       "      <th></th>\n",
       "      <th></th>\n",
       "      <th></th>\n",
       "      <th></th>\n",
       "      <th></th>\n",
       "    </tr>\n",
       "  </thead>\n",
       "  <tbody>\n",
       "    <tr>\n",
       "      <th>0008ed71</th>\n",
       "      <td>NaN</td>\n",
       "      <td>NaN</td>\n",
       "      <td>NaN</td>\n",
       "      <td>2.0</td>\n",
       "      <td>NaN</td>\n",
       "      <td>NaN</td>\n",
       "      <td>NaN</td>\n",
       "    </tr>\n",
       "    <tr>\n",
       "      <th>00091926</th>\n",
       "      <td>2.0</td>\n",
       "      <td>4.0</td>\n",
       "      <td>3.0</td>\n",
       "      <td>6.0</td>\n",
       "      <td>3.0</td>\n",
       "      <td>5.0</td>\n",
       "      <td>11.0</td>\n",
       "    </tr>\n",
       "    <tr>\n",
       "      <th>00091a7a</th>\n",
       "      <td>1.0</td>\n",
       "      <td>NaN</td>\n",
       "      <td>NaN</td>\n",
       "      <td>NaN</td>\n",
       "      <td>NaN</td>\n",
       "      <td>NaN</td>\n",
       "      <td>NaN</td>\n",
       "    </tr>\n",
       "    <tr>\n",
       "      <th>000ba417</th>\n",
       "      <td>NaN</td>\n",
       "      <td>NaN</td>\n",
       "      <td>NaN</td>\n",
       "      <td>4.0</td>\n",
       "      <td>NaN</td>\n",
       "      <td>2.0</td>\n",
       "      <td>NaN</td>\n",
       "    </tr>\n",
       "    <tr>\n",
       "      <th>000c79fe</th>\n",
       "      <td>NaN</td>\n",
       "      <td>1.0</td>\n",
       "      <td>NaN</td>\n",
       "      <td>NaN</td>\n",
       "      <td>NaN</td>\n",
       "      <td>NaN</td>\n",
       "      <td>NaN</td>\n",
       "    </tr>\n",
       "  </tbody>\n",
       "</table>\n",
       "</div>"
      ],
      "text/plain": [
       "             cantidad                               \n",
       "dayOfTheWeek        0    1    2    3    4    5     6\n",
       "person                                              \n",
       "0008ed71          NaN  NaN  NaN  2.0  NaN  NaN   NaN\n",
       "00091926          2.0  4.0  3.0  6.0  3.0  5.0  11.0\n",
       "00091a7a          1.0  NaN  NaN  NaN  NaN  NaN   NaN\n",
       "000ba417          NaN  NaN  NaN  4.0  NaN  2.0   NaN\n",
       "000c79fe          NaN  1.0  NaN  NaN  NaN  NaN   NaN"
      ]
     },
     "execution_count": 41,
     "metadata": {},
     "output_type": "execute_result"
    }
   ],
   "source": [
    "diaSemana.head()"
   ]
  },
  {
   "cell_type": "markdown",
   "metadata": {},
   "source": [
    "Supongo que los usuarios que no tiene información ese día de la semana es pq no visitaron la página en ese día de la semana. "
   ]
  },
  {
   "cell_type": "code",
   "execution_count": 42,
   "metadata": {},
   "outputs": [],
   "source": [
    "diaSemana = diaSemana.fillna(0)"
   ]
  },
  {
   "cell_type": "code",
   "execution_count": 43,
   "metadata": {},
   "outputs": [],
   "source": [
    "diaSemana = diaSemana.reset_index()"
   ]
  },
  {
   "cell_type": "code",
   "execution_count": 44,
   "metadata": {},
   "outputs": [],
   "source": [
    "diaSemana.columns = ['person','cantVisitasDomingo','cantVisitasLunes',\\\n",
    "                    'cantVisitasMartes', 'cantVisitasMiercoles', \\\n",
    "                    'cantVisitasJueves', 'cantVisitasViernes', \\\n",
    "                    'cantVisitasSabado']"
   ]
  },
  {
   "cell_type": "code",
   "execution_count": 45,
   "metadata": {},
   "outputs": [],
   "source": [
    "labels_f = pd.merge(labels_f,diaSemana, how = 'left', on = 'person')"
   ]
  },
  {
   "cell_type": "code",
   "execution_count": 46,
   "metadata": {},
   "outputs": [
    {
     "data": {
      "text/plain": [
       "False    38242\n",
       "True       587\n",
       "Name: cantVisitasMartes, dtype: int64"
      ]
     },
     "execution_count": 46,
     "metadata": {},
     "output_type": "execute_result"
    }
   ],
   "source": [
    "labels_f['cantVisitasMartes'].isnull().value_counts() "
   ]
  },
  {
   "cell_type": "code",
   "execution_count": 47,
   "metadata": {},
   "outputs": [],
   "source": [
    "labels_f['cantVisitasDomingo'] = labels_f['cantVisitasDomingo'].fillna(labels_f['cantVisitasDomingo'].median())\n",
    "labels_f['cantVisitasLunes'] = labels_f['cantVisitasLunes'].fillna(labels_f['cantVisitasLunes'].median())\n",
    "labels_f['cantVisitasMartes'] = labels_f['cantVisitasMartes'].fillna(labels_f['cantVisitasMartes'].median())\n",
    "labels_f['cantVisitasMiercoles'] = labels_f['cantVisitasMiercoles'].fillna(labels_f['cantVisitasMiercoles'].median())\n",
    "labels_f['cantVisitasJueves'] = labels_f['cantVisitasJueves'].fillna(labels_f['cantVisitasJueves'].median())\n",
    "labels_f['cantVisitasViernes'] = labels_f['cantVisitasViernes'].fillna(labels_f['cantVisitasViernes'].median())\n",
    "labels_f['cantVisitasSabado'] = labels_f['cantVisitasSabado'].fillna(labels_f['cantVisitasSabado'].median())"
   ]
  },
  {
   "cell_type": "code",
   "execution_count": 48,
   "metadata": {},
   "outputs": [],
   "source": [
    "#labels_f.cantVisitasDomingo.isnull().value_counts()"
   ]
  },
  {
   "cell_type": "markdown",
   "metadata": {},
   "source": [
    "### 10º cantidad de eventos que tiene registrado cada usuario ###"
   ]
  },
  {
   "cell_type": "code",
   "execution_count": 49,
   "metadata": {},
   "outputs": [],
   "source": [
    "cantidadDeEventos = tf.loc[:,['event','person']]\n",
    "cantidadDeEventos = cantidadDeEventos.loc[cantidadDeEventos['event'] != 'conversion']\n",
    "#no tiene sentido este\n",
    "cantidadDeEventos = cantidadDeEventos.groupby('person').event.count().to_frame()\n",
    "cantidadDeEventos = cantidadDeEventos.reset_index()\n",
    "cantidadDeEventos.columns = ['person','cantidadDeEventos']"
   ]
  },
  {
   "cell_type": "markdown",
   "metadata": {},
   "source": [
    "** Creo que se debería quitar CheckOut también**"
   ]
  },
  {
   "cell_type": "code",
   "execution_count": 50,
   "metadata": {},
   "outputs": [],
   "source": [
    "labels_f = pd.merge(labels_f, cantidadDeEventos, on = 'person', how = 'left' )\n"
   ]
  },
  {
   "cell_type": "code",
   "execution_count": 51,
   "metadata": {},
   "outputs": [
    {
     "data": {
      "text/plain": [
       "False    38827\n",
       "True         2\n",
       "Name: cantidadDeEventos, dtype: int64"
      ]
     },
     "execution_count": 51,
     "metadata": {},
     "output_type": "execute_result"
    }
   ],
   "source": [
    "labels_f.cantidadDeEventos.isnull().value_counts()"
   ]
  },
  {
   "cell_type": "code",
   "execution_count": 52,
   "metadata": {},
   "outputs": [],
   "source": [
    "mediana = labels_f.cantidadDeEventos.median()\n",
    "labels_f['cantidadDeEventos'] =labels_f['cantidadDeEventos'].fillna(mediana)"
   ]
  },
  {
   "cell_type": "code",
   "execution_count": 53,
   "metadata": {},
   "outputs": [
    {
     "data": {
      "text/plain": [
       "False    38829\n",
       "Name: cantidadDeEventos, dtype: int64"
      ]
     },
     "execution_count": 53,
     "metadata": {},
     "output_type": "execute_result"
    }
   ],
   "source": [
    "labels_f.cantidadDeEventos.isnull().value_counts()"
   ]
  },
  {
   "cell_type": "markdown",
   "metadata": {},
   "source": [
    "### 11º Cantidad de eventos, discretizado por tipo de evento, que tiene cada usuario ###"
   ]
  },
  {
   "cell_type": "code",
   "execution_count": 54,
   "metadata": {},
   "outputs": [],
   "source": [
    "cantidadDeEventos = tf.loc[:,['event','person']]\n",
    "cantidadDeEventos = cantidadDeEventos.loc[cantidadDeEventos['event'] != 'conversion']\n",
    "#no tiene sentido este\n",
    "cantidadDeEventos = cantidadDeEventos.groupby('person').event.value_counts().to_frame().unstack()\n",
    "cantidadDeEventos = cantidadDeEventos.reset_index()\n",
    "cantidadDeEventos.columns = ['person','cantAdCampaignHit', 'cantBandListing',\\\n",
    "                             'cantCheckout','cantGenericListing','cantLead',\\\n",
    "                            'cantSearchEngineHit', 'cantSearchedProducts',\\\n",
    "                             'cantStaticpage', 'cantViewedProduct', 'cantVisitedSite']"
   ]
  },
  {
   "cell_type": "code",
   "execution_count": 55,
   "metadata": {},
   "outputs": [
    {
     "data": {
      "text/html": [
       "<div>\n",
       "<style scoped>\n",
       "    .dataframe tbody tr th:only-of-type {\n",
       "        vertical-align: middle;\n",
       "    }\n",
       "\n",
       "    .dataframe tbody tr th {\n",
       "        vertical-align: top;\n",
       "    }\n",
       "\n",
       "    .dataframe thead th {\n",
       "        text-align: right;\n",
       "    }\n",
       "</style>\n",
       "<table border=\"1\" class=\"dataframe\">\n",
       "  <thead>\n",
       "    <tr style=\"text-align: right;\">\n",
       "      <th></th>\n",
       "      <th>person</th>\n",
       "      <th>cantAdCampaignHit</th>\n",
       "      <th>cantBandListing</th>\n",
       "      <th>cantCheckout</th>\n",
       "      <th>cantGenericListing</th>\n",
       "      <th>cantLead</th>\n",
       "      <th>cantSearchEngineHit</th>\n",
       "      <th>cantSearchedProducts</th>\n",
       "      <th>cantStaticpage</th>\n",
       "      <th>cantViewedProduct</th>\n",
       "      <th>cantVisitedSite</th>\n",
       "    </tr>\n",
       "  </thead>\n",
       "  <tbody>\n",
       "    <tr>\n",
       "      <th>0</th>\n",
       "      <td>0008ed71</td>\n",
       "      <td>NaN</td>\n",
       "      <td>NaN</td>\n",
       "      <td>3.0</td>\n",
       "      <td>1.0</td>\n",
       "      <td>NaN</td>\n",
       "      <td>NaN</td>\n",
       "      <td>NaN</td>\n",
       "      <td>NaN</td>\n",
       "      <td>NaN</td>\n",
       "      <td>2.0</td>\n",
       "    </tr>\n",
       "    <tr>\n",
       "      <th>1</th>\n",
       "      <td>00091926</td>\n",
       "      <td>15.0</td>\n",
       "      <td>25.0</td>\n",
       "      <td>2.0</td>\n",
       "      <td>NaN</td>\n",
       "      <td>NaN</td>\n",
       "      <td>NaN</td>\n",
       "      <td>NaN</td>\n",
       "      <td>NaN</td>\n",
       "      <td>372.0</td>\n",
       "      <td>34.0</td>\n",
       "    </tr>\n",
       "    <tr>\n",
       "      <th>2</th>\n",
       "      <td>00091a7a</td>\n",
       "      <td>1.0</td>\n",
       "      <td>5.0</td>\n",
       "      <td>NaN</td>\n",
       "      <td>NaN</td>\n",
       "      <td>NaN</td>\n",
       "      <td>NaN</td>\n",
       "      <td>NaN</td>\n",
       "      <td>NaN</td>\n",
       "      <td>3.0</td>\n",
       "      <td>1.0</td>\n",
       "    </tr>\n",
       "    <tr>\n",
       "      <th>3</th>\n",
       "      <td>000ba417</td>\n",
       "      <td>1.0</td>\n",
       "      <td>24.0</td>\n",
       "      <td>6.0</td>\n",
       "      <td>14.0</td>\n",
       "      <td>NaN</td>\n",
       "      <td>1.0</td>\n",
       "      <td>NaN</td>\n",
       "      <td>NaN</td>\n",
       "      <td>153.0</td>\n",
       "      <td>6.0</td>\n",
       "    </tr>\n",
       "    <tr>\n",
       "      <th>4</th>\n",
       "      <td>000c79fe</td>\n",
       "      <td>1.0</td>\n",
       "      <td>NaN</td>\n",
       "      <td>1.0</td>\n",
       "      <td>1.0</td>\n",
       "      <td>NaN</td>\n",
       "      <td>1.0</td>\n",
       "      <td>9.0</td>\n",
       "      <td>NaN</td>\n",
       "      <td>3.0</td>\n",
       "      <td>1.0</td>\n",
       "    </tr>\n",
       "  </tbody>\n",
       "</table>\n",
       "</div>"
      ],
      "text/plain": [
       "     person  cantAdCampaignHit  cantBandListing  cantCheckout  \\\n",
       "0  0008ed71                NaN              NaN           3.0   \n",
       "1  00091926               15.0             25.0           2.0   \n",
       "2  00091a7a                1.0              5.0           NaN   \n",
       "3  000ba417                1.0             24.0           6.0   \n",
       "4  000c79fe                1.0              NaN           1.0   \n",
       "\n",
       "   cantGenericListing  cantLead  cantSearchEngineHit  cantSearchedProducts  \\\n",
       "0                 1.0       NaN                  NaN                   NaN   \n",
       "1                 NaN       NaN                  NaN                   NaN   \n",
       "2                 NaN       NaN                  NaN                   NaN   \n",
       "3                14.0       NaN                  1.0                   NaN   \n",
       "4                 1.0       NaN                  1.0                   9.0   \n",
       "\n",
       "   cantStaticpage  cantViewedProduct  cantVisitedSite  \n",
       "0             NaN                NaN              2.0  \n",
       "1             NaN              372.0             34.0  \n",
       "2             NaN                3.0              1.0  \n",
       "3             NaN              153.0              6.0  \n",
       "4             NaN                3.0              1.0  "
      ]
     },
     "execution_count": 55,
     "metadata": {},
     "output_type": "execute_result"
    }
   ],
   "source": [
    "cantidadDeEventos.head()"
   ]
  },
  {
   "cell_type": "code",
   "execution_count": 56,
   "metadata": {},
   "outputs": [],
   "source": [
    "cantidadDeEventos['cantAdCampaignHit'] = cantidadDeEventos['cantAdCampaignHit'].fillna(0)#cantidadDeEventos['cantAdCampaignHit'].median())\n",
    "cantidadDeEventos['cantBandListing'] = cantidadDeEventos['cantBandListing'].fillna(0)#cantidadDeEventos['cantBandListing'].median())\n",
    "cantidadDeEventos['cantCheckout'] = cantidadDeEventos['cantCheckout'].fillna(0)#cantidadDeEventos['cantCheckout'].median())\n",
    "cantidadDeEventos['cantGenericListing'] = cantidadDeEventos['cantGenericListing'].fillna(0)#cantidadDeEventos['cantGenericListing'].median())\n",
    "cantidadDeEventos['cantLead'] = cantidadDeEventos['cantLead'].fillna(0)#cantidadDeEventos['cantLead'].median())\n",
    "cantidadDeEventos['cantSearchEngineHit'] = cantidadDeEventos['cantSearchEngineHit'].fillna(0)#cantidadDeEventos['cantSearchEngineHit'].median())\n",
    "cantidadDeEventos['cantSearchedProducts'] = cantidadDeEventos['cantSearchedProducts'].fillna(0)#cantidadDeEventos['cantSearchedProducts'].median())\n",
    "cantidadDeEventos['cantStaticpage'] = cantidadDeEventos['cantStaticpage'].fillna(0)#cantidadDeEventos['cantStaticpage'].median())\n",
    "cantidadDeEventos['cantViewedProduct'] = cantidadDeEventos['cantViewedProduct'].fillna(0)#cantidadDeEventos['cantViewedProduct'].median())\n",
    "cantidadDeEventos['cantVisitedSite'] = cantidadDeEventos['cantVisitedSite'].fillna(0)#cantidadDeEventos['cantVisitedSite'].median())\n",
    "\n"
   ]
  },
  {
   "cell_type": "code",
   "execution_count": null,
   "metadata": {},
   "outputs": [],
   "source": []
  },
  {
   "cell_type": "code",
   "execution_count": 57,
   "metadata": {},
   "outputs": [],
   "source": [
    "labels_f = pd.merge(labels_f,cantidadDeEventos,on = 'person', how = 'left')"
   ]
  },
  {
   "cell_type": "code",
   "execution_count": 58,
   "metadata": {},
   "outputs": [],
   "source": [
    "labels_f['cantAdCampaignHit'] = labels_f['cantAdCampaignHit'].fillna(labels_f['cantAdCampaignHit'].median())\n",
    "labels_f['cantBandListing'] = labels_f['cantBandListing'].fillna(labels_f['cantBandListing'].median())\n",
    "labels_f['cantCheckout'] = labels_f['cantCheckout'].fillna(labels_f['cantCheckout'].median())\n",
    "labels_f['cantGenericListing'] = labels_f['cantGenericListing'].fillna(labels_f['cantGenericListing'].median())\n",
    "labels_f['cantLead'] = labels_f['cantLead'].fillna(labels_f['cantLead'].median())\n",
    "labels_f['cantSearchEngineHit'] = labels_f['cantSearchEngineHit'].fillna(labels_f['cantSearchEngineHit'].median())\n",
    "labels_f['cantSearchedProducts'] = labels_f['cantSearchedProducts'].fillna(labels_f['cantSearchedProducts'].median())\n",
    "labels_f['cantStaticpage'] = labels_f['cantStaticpage'].fillna(labels_f['cantStaticpage'].median())\n",
    "labels_f['cantViewedProduct'] = labels_f['cantViewedProduct'].fillna(labels_f['cantViewedProduct'].median())\n",
    "labels_f['cantVisitedSite'] = labels_f['cantVisitedSite'].fillna(labels_f['cantVisitedSite'].median())\n",
    "\n"
   ]
  },
  {
   "cell_type": "code",
   "execution_count": 59,
   "metadata": {},
   "outputs": [
    {
     "data": {
      "text/plain": [
       "False    38829\n",
       "Name: cantAdCampaignHit, dtype: int64"
      ]
     },
     "execution_count": 59,
     "metadata": {},
     "output_type": "execute_result"
    }
   ],
   "source": [
    "labels_f.cantAdCampaignHit.isnull().value_counts()"
   ]
  },
  {
   "cell_type": "markdown",
   "metadata": {},
   "source": [
    "### Agrego features según lo anterior pero en vez de la cantidad indico si lo hizo o no ###"
   ]
  },
  {
   "cell_type": "markdown",
   "metadata": {},
   "source": [
    "### 12º El usuario vio un producto ### "
   ]
  },
  {
   "cell_type": "code",
   "execution_count": 60,
   "metadata": {},
   "outputs": [],
   "source": [
    "visitoUnProducto = viewedProduct.loc[:,['person']]\n",
    "visitoUnProducto['cantVisitasAVP'] = 1\n",
    "visitoUnProducto = visitoUnProducto.groupby('person').cantVisitasAVP.sum().to_frame()"
   ]
  },
  {
   "cell_type": "code",
   "execution_count": 61,
   "metadata": {},
   "outputs": [],
   "source": [
    "visitoUnProducto['visitoUnProducto'] = visitoUnProducto.cantVisitasAVP > 0\n",
    "visitoUnProducto = visitoUnProducto.reset_index()\n",
    "visitoUnProducto = visitoUnProducto.loc[:,['person','visitoUnProducto']]"
   ]
  },
  {
   "cell_type": "code",
   "execution_count": 62,
   "metadata": {},
   "outputs": [],
   "source": [
    "labels_f = pd.merge(labels_f,visitoUnProducto, on = 'person', how = 'left')"
   ]
  },
  {
   "cell_type": "code",
   "execution_count": 63,
   "metadata": {},
   "outputs": [
    {
     "data": {
      "text/plain": [
       "False    37130\n",
       "True      1699\n",
       "Name: visitoUnProducto, dtype: int64"
      ]
     },
     "execution_count": 63,
     "metadata": {},
     "output_type": "execute_result"
    }
   ],
   "source": [
    "labels_f.visitoUnProducto.isnull().value_counts()"
   ]
  },
  {
   "cell_type": "code",
   "execution_count": 64,
   "metadata": {},
   "outputs": [],
   "source": [
    "analisis = pd.merge(labels, labels_f, on = 'person', how = 'left')"
   ]
  },
  {
   "cell_type": "code",
   "execution_count": 65,
   "metadata": {},
   "outputs": [
    {
     "data": {
      "text/plain": [
       "label  visitoUnProducto\n",
       "0      True                17626\n",
       "       False                 808\n",
       "1      True                  944\n",
       "       False                  36\n",
       "Name: visitoUnProducto, dtype: int64"
      ]
     },
     "execution_count": 65,
     "metadata": {},
     "output_type": "execute_result"
    }
   ],
   "source": [
    "analisis.visitoUnProducto = analisis.visitoUnProducto.fillna(False)\n",
    "analisis.groupby('label').visitoUnProducto.value_counts()"
   ]
  },
  {
   "cell_type": "markdown",
   "metadata": {},
   "source": [
    "**Como todos los usuarios vieron un producto este feature no sirve.**\n",
    "\n",
    "Lo que suscede es que esos 37130 son True y los demás son Nan y si completo con la moda no tiene sentido.  Los nulls que reemplacé por false no me aportan info. "
   ]
  },
  {
   "cell_type": "code",
   "execution_count": 66,
   "metadata": {},
   "outputs": [
    {
     "data": {
      "text/plain": [
       "Index(['person', 'esNuevo', 'cantidadDeVisitas', 'ingresoPorPublicidad',\n",
       "       'Facebook', 'FacebookAds', 'FacebookSocial', 'MARKETING SOCIAL',\n",
       "       'afiliado', 'afilio', 'bing', 'blog', 'buscape', 'criteo', 'datacrush',\n",
       "       'emblue', 'gizmodo', 'google', 'indexa', 'manifest', 'mercadopago',\n",
       "       'onsite', 'rakuten', 'rtbhouse', 'voxus', 'yotpo', 'zanox',\n",
       "       'device_type', 'deviceSmartphone', 'deviceComputer', 'deviceTablet',\n",
       "       'deviceUnknown', 'cantVisitasAVP', 'maniana', 'tarde', 'noche',\n",
       "       'madrugada', 'cantDirect', 'cantEmail', 'cantOrganic', 'cantPaid',\n",
       "       'cantReferral', 'cantSocial', 'cantUnknown', 'cantVisitasDomingo',\n",
       "       'cantVisitasLunes', 'cantVisitasMartes', 'cantVisitasMiercoles',\n",
       "       'cantVisitasJueves', 'cantVisitasViernes', 'cantVisitasSabado',\n",
       "       'cantidadDeEventos', 'cantAdCampaignHit', 'cantBandListing',\n",
       "       'cantCheckout', 'cantGenericListing', 'cantLead', 'cantSearchEngineHit',\n",
       "       'cantSearchedProducts', 'cantStaticpage', 'cantViewedProduct',\n",
       "       'cantVisitedSite'],\n",
       "      dtype='object')"
      ]
     },
     "execution_count": 66,
     "metadata": {},
     "output_type": "execute_result"
    }
   ],
   "source": [
    "labels_f = labels_f.drop('visitoUnProducto', axis = 1)\n",
    "labels_f.columns"
   ]
  },
  {
   "cell_type": "code",
   "execution_count": null,
   "metadata": {},
   "outputs": [],
   "source": []
  },
  {
   "cell_type": "markdown",
   "metadata": {},
   "source": [
    "### 13º El usuario visita la página en un momento determinado del día ###"
   ]
  },
  {
   "cell_type": "code",
   "execution_count": 67,
   "metadata": {},
   "outputs": [],
   "source": [
    "momentoDeVisita_2 = momentoDeVisita\n",
    "momentoDeVisita_2['visitaALaManiana'] = momentoDeVisita['maniana']>0\n",
    "momentoDeVisita_2['visitaALaTarde'] = momentoDeVisita['tarde']>0\n",
    "momentoDeVisita_2['visitaALaNoche'] = momentoDeVisita['noche']>0\n",
    "momentoDeVisita_2['visitaALaMadrugada'] = momentoDeVisita['madrugada']>0\n",
    "momentoDeVisita_2 = momentoDeVisita_2.loc[:,['person','visitaALaManiana','visitaALaNoche',\\\n",
    "                                         'visitaALaTarde', 'visitaALaMadrugada']]"
   ]
  },
  {
   "cell_type": "markdown",
   "metadata": {},
   "source": [
    "Supongo que aquellos usuarios que no tienen información es porque no visitaron en ese momento. "
   ]
  },
  {
   "cell_type": "code",
   "execution_count": 68,
   "metadata": {},
   "outputs": [],
   "source": [
    "momentoDeVisita_2 = momentoDeVisita_2.fillna(False)"
   ]
  },
  {
   "cell_type": "code",
   "execution_count": 69,
   "metadata": {},
   "outputs": [],
   "source": [
    "labels_f = pd.merge(labels_f, momentoDeVisita_2, on = 'person', how = 'left')\n"
   ]
  },
  {
   "cell_type": "code",
   "execution_count": 70,
   "metadata": {},
   "outputs": [],
   "source": [
    "labels_f['visitaALaManiana'] = labels_f['visitaALaManiana'].fillna(labels_f['visitaALaManiana'].mode().iloc[0])\n",
    "labels_f['visitaALaTarde'] = labels_f['visitaALaTarde'].fillna(labels_f['visitaALaTarde'].mode().iloc[0])\n",
    "labels_f['visitaALaNoche'] = labels_f['visitaALaNoche'].fillna(labels_f['visitaALaNoche'].mode().iloc[0])\n",
    "labels_f['visitaALaMadrugada'] = labels_f['visitaALaMadrugada'].fillna(labels_f['visitaALaMadrugada'].mode().iloc[0])"
   ]
  },
  {
   "cell_type": "code",
   "execution_count": 71,
   "metadata": {},
   "outputs": [],
   "source": [
    "analisis = pd.merge(labels, labels_f, on = 'person', how = 'left' )"
   ]
  },
  {
   "cell_type": "code",
   "execution_count": 72,
   "metadata": {},
   "outputs": [
    {
     "data": {
      "text/plain": [
       "label  visitaALaManiana\n",
       "0      False               14692\n",
       "       True                 3742\n",
       "1      False                 693\n",
       "       True                  287\n",
       "Name: visitaALaManiana, dtype: int64"
      ]
     },
     "execution_count": 72,
     "metadata": {},
     "output_type": "execute_result"
    }
   ],
   "source": [
    "analisis.groupby('label').visitaALaManiana.value_counts()"
   ]
  },
  {
   "cell_type": "code",
   "execution_count": 73,
   "metadata": {},
   "outputs": [
    {
     "data": {
      "text/plain": [
       "False    38829\n",
       "Name: visitaALaManiana, dtype: int64"
      ]
     },
     "execution_count": 73,
     "metadata": {},
     "output_type": "execute_result"
    }
   ],
   "source": [
    "labels_f.visitaALaManiana.isnull().value_counts()"
   ]
  },
  {
   "cell_type": "code",
   "execution_count": null,
   "metadata": {},
   "outputs": [],
   "source": []
  },
  {
   "cell_type": "markdown",
   "metadata": {},
   "source": [
    "### 14º el usuario visitó la página por determinado canal ###"
   ]
  },
  {
   "cell_type": "code",
   "execution_count": 74,
   "metadata": {},
   "outputs": [],
   "source": [
    "canalDeVisita_2 = canalDeVisita\n",
    "canalDeVisita_2['canalDirect'] = canalDeVisita['cantDirect'] >0 \n",
    "canalDeVisita_2['canalEmail'] = canalDeVisita['cantEmail'] >0 \n",
    "canalDeVisita_2['canalOrganic'] = canalDeVisita['cantOrganic'] >0 \n",
    "canalDeVisita_2['canalPaid'] = canalDeVisita['cantPaid'] >0 \n",
    "canalDeVisita_2['canalRefferal'] = canalDeVisita['cantReferral'] >0 \n",
    "canalDeVisita_2['canalSocial'] = canalDeVisita['cantUnknown'] > 0\n",
    "\n",
    "canalDeVisita_2 = canalDeVisita_2.loc[:,['person','canalDirect', 'canalEmail','canalOrganic',\\\n",
    "                                    'canalPaid','canalRefferal', 'canalSocial']]"
   ]
  },
  {
   "cell_type": "code",
   "execution_count": 75,
   "metadata": {},
   "outputs": [],
   "source": [
    "labels_f = pd.merge(labels_f, canalDeVisita_2, on = 'person', how = 'left')"
   ]
  },
  {
   "cell_type": "code",
   "execution_count": 76,
   "metadata": {},
   "outputs": [],
   "source": [
    "labels_f['canalDirect'] = labels_f['cantDirect'].fillna(labels_f['cantDirect'].mode().iloc[0]) \n",
    "labels_f['canalEmail'] = labels_f['cantEmail'].fillna(labels_f['cantEmail'].mode().iloc[0]) \n",
    "labels_f['canalOrganic'] = labels_f['cantOrganic'].fillna(labels_f['cantOrganic'].mode().iloc[0]) \n",
    "labels_f['canalPaid'] = labels_f['cantPaid'].fillna(labels_f['cantPaid'].mode().iloc[0]) \n",
    "labels_f['canalRefferal'] = labels_f['cantReferral'].fillna(labels_f['cantReferral'].mode().iloc[0]) \n",
    "labels_f['canalSocial'] = labels_f['cantUnknown'].fillna(labels_f['cantUnknown'].mode().iloc[0])"
   ]
  },
  {
   "cell_type": "code",
   "execution_count": 77,
   "metadata": {},
   "outputs": [
    {
     "data": {
      "text/plain": [
       "False    38829\n",
       "Name: canalDirect, dtype: int64"
      ]
     },
     "execution_count": 77,
     "metadata": {},
     "output_type": "execute_result"
    }
   ],
   "source": [
    "labels_f.canalDirect.isnull().value_counts()"
   ]
  },
  {
   "cell_type": "code",
   "execution_count": 78,
   "metadata": {},
   "outputs": [],
   "source": [
    "analisis = pd.merge(labels, labels_f, on = 'person', how = 'left' )"
   ]
  },
  {
   "cell_type": "code",
   "execution_count": 79,
   "metadata": {},
   "outputs": [
    {
     "data": {
      "text/plain": [
       "label  canalOrganic\n",
       "0      0.0             12791\n",
       "       1.0              3614\n",
       "       2.0               973\n",
       "       3.0               402\n",
       "       4.0               236\n",
       "       5.0                90\n",
       "       6.0                78\n",
       "       7.0                55\n",
       "       8.0                33\n",
       "       9.0                23\n",
       "       10.0               23\n",
       "       11.0               17\n",
       "       12.0               15\n",
       "       15.0               10\n",
       "       14.0                9\n",
       "       18.0                9\n",
       "       13.0                8\n",
       "       16.0                6\n",
       "       21.0                6\n",
       "       17.0                5\n",
       "       19.0                4\n",
       "       20.0                4\n",
       "       24.0                3\n",
       "       25.0                2\n",
       "       26.0                2\n",
       "       34.0                2\n",
       "       35.0                2\n",
       "       22.0                1\n",
       "       23.0                1\n",
       "       27.0                1\n",
       "                       ...  \n",
       "       38.0                1\n",
       "       42.0                1\n",
       "       44.0                1\n",
       "       59.0                1\n",
       "       69.0                1\n",
       "1      0.0               543\n",
       "       1.0               235\n",
       "       2.0                92\n",
       "       3.0                39\n",
       "       4.0                21\n",
       "       6.0                11\n",
       "       5.0                 7\n",
       "       7.0                 5\n",
       "       9.0                 5\n",
       "       8.0                 3\n",
       "       10.0                3\n",
       "       15.0                2\n",
       "       19.0                2\n",
       "       11.0                1\n",
       "       12.0                1\n",
       "       13.0                1\n",
       "       14.0                1\n",
       "       16.0                1\n",
       "       20.0                1\n",
       "       21.0                1\n",
       "       22.0                1\n",
       "       24.0                1\n",
       "       31.0                1\n",
       "       41.0                1\n",
       "       57.0                1\n",
       "Name: canalOrganic, Length: 64, dtype: int64"
      ]
     },
     "execution_count": 79,
     "metadata": {},
     "output_type": "execute_result"
    }
   ],
   "source": [
    "analisis.groupby('label').canalOrganic.value_counts()"
   ]
  },
  {
   "cell_type": "markdown",
   "metadata": {},
   "source": [
    "### 15º el usuario realizó determinado evento### "
   ]
  },
  {
   "cell_type": "code",
   "execution_count": 80,
   "metadata": {},
   "outputs": [],
   "source": [
    "cantidadDeEventos_2 = cantidadDeEventos\n",
    "cantidadDeEventos_2['adCampaignHit'] = cantidadDeEventos['cantAdCampaignHit']>0\n",
    "cantidadDeEventos_2['bandListing'] = cantidadDeEventos['cantBandListing']>0\n",
    "cantidadDeEventos_2['checkout'] = cantidadDeEventos['cantCheckout']>0\n",
    "cantidadDeEventos_2['genericListing'] = cantidadDeEventos['cantGenericListing']>0\n",
    "cantidadDeEventos_2['searchEngineHit'] = cantidadDeEventos['cantSearchEngineHit']>0\n",
    "cantidadDeEventos_2['searchedProducts'] = cantidadDeEventos['cantSearchedProducts']>0\n",
    "cantidadDeEventos_2['staticpage'] = cantidadDeEventos['cantStaticpage']>0\n",
    "cantidadDeEventos_2['viewedProduct'] = cantidadDeEventos['cantViewedProduct']>0\n",
    "cantidadDeEventos_2['visitedSite'] = cantidadDeEventos['cantVisitedSite']>0\n",
    "cantidadDeEventos_2['lead'] = cantidadDeEventos['cantLead']>0"
   ]
  },
  {
   "cell_type": "code",
   "execution_count": 81,
   "metadata": {},
   "outputs": [],
   "source": [
    "cantidadDeEventos_2 = cantidadDeEventos_2.loc[:,['person','adCampaignHit','bandListing','checkout','genericListing','searchEngineHit','searchedProducts','staticpage','viewedProduct','visitedSite','lead']]"
   ]
  },
  {
   "cell_type": "code",
   "execution_count": 82,
   "metadata": {},
   "outputs": [],
   "source": [
    "labels_f = pd.merge(labels_f,cantidadDeEventos_2, on = 'person', how = 'left')"
   ]
  },
  {
   "cell_type": "code",
   "execution_count": 83,
   "metadata": {},
   "outputs": [],
   "source": [
    "labels_f['adCampaignHit'] = labels_f['adCampaignHit'].fillna(labels_f['adCampaignHit'].mode().iloc[0])\n",
    "labels_f['bandListing'] = labels_f['bandListing'].fillna(labels_f['bandListing'].mode().iloc[0])\n",
    "labels_f['checkout'] = labels_f['checkout'].fillna(labels_f['checkout'].mode().iloc[0])\n",
    "labels_f['genericListing'] = labels_f['genericListing'].fillna(labels_f['genericListing'].mode().iloc[0])\n",
    "labels_f['lead'] = labels_f['lead'].fillna(labels_f['lead'].median())\n",
    "labels_f['searchEngineHit'] = labels_f['searchEngineHit'].fillna(labels_f['searchEngineHit'].mode().iloc[0])\n",
    "labels_f['searchedProducts'] = labels_f['searchedProducts'].fillna(labels_f['searchedProducts'].mode().iloc[0])\n",
    "labels_f['staticpage'] = labels_f['staticpage'].fillna(labels_f['staticpage'].mode().iloc[0])\n",
    "labels_f['viewedProduct'] = labels_f['viewedProduct'].fillna(labels_f['viewedProduct'].mode().iloc[0])\n",
    "labels_f['visitedSite'] = labels_f['visitedSite'].fillna(labels_f['visitedSite'].mode().iloc[0])"
   ]
  },
  {
   "cell_type": "code",
   "execution_count": 84,
   "metadata": {},
   "outputs": [
    {
     "data": {
      "text/plain": [
       "False    38829\n",
       "Name: checkout, dtype: int64"
      ]
     },
     "execution_count": 84,
     "metadata": {},
     "output_type": "execute_result"
    }
   ],
   "source": [
    "labels_f.checkout.isnull().value_counts()"
   ]
  },
  {
   "cell_type": "code",
   "execution_count": 85,
   "metadata": {},
   "outputs": [
    {
     "data": {
      "text/plain": [
       "Index(['person', 'esNuevo', 'cantidadDeVisitas', 'ingresoPorPublicidad',\n",
       "       'Facebook', 'FacebookAds', 'FacebookSocial', 'MARKETING SOCIAL',\n",
       "       'afiliado', 'afilio', 'bing', 'blog', 'buscape', 'criteo', 'datacrush',\n",
       "       'emblue', 'gizmodo', 'google', 'indexa', 'manifest', 'mercadopago',\n",
       "       'onsite', 'rakuten', 'rtbhouse', 'voxus', 'yotpo', 'zanox',\n",
       "       'device_type', 'deviceSmartphone', 'deviceComputer', 'deviceTablet',\n",
       "       'deviceUnknown', 'cantVisitasAVP', 'maniana', 'tarde', 'noche',\n",
       "       'madrugada', 'cantDirect', 'cantEmail', 'cantOrganic', 'cantPaid',\n",
       "       'cantReferral', 'cantSocial', 'cantUnknown', 'cantVisitasDomingo',\n",
       "       'cantVisitasLunes', 'cantVisitasMartes', 'cantVisitasMiercoles',\n",
       "       'cantVisitasJueves', 'cantVisitasViernes', 'cantVisitasSabado',\n",
       "       'cantidadDeEventos', 'cantAdCampaignHit', 'cantBandListing',\n",
       "       'cantCheckout', 'cantGenericListing', 'cantLead', 'cantSearchEngineHit',\n",
       "       'cantSearchedProducts', 'cantStaticpage', 'cantViewedProduct',\n",
       "       'cantVisitedSite', 'visitaALaManiana', 'visitaALaNoche',\n",
       "       'visitaALaTarde', 'visitaALaMadrugada', 'canalDirect', 'canalEmail',\n",
       "       'canalOrganic', 'canalPaid', 'canalRefferal', 'canalSocial',\n",
       "       'adCampaignHit', 'bandListing', 'checkout', 'genericListing',\n",
       "       'searchEngineHit', 'searchedProducts', 'staticpage', 'viewedProduct',\n",
       "       'visitedSite', 'lead'],\n",
       "      dtype='object')"
      ]
     },
     "execution_count": 85,
     "metadata": {},
     "output_type": "execute_result"
    }
   ],
   "source": [
    "labels_f.columns"
   ]
  },
  {
   "cell_type": "code",
   "execution_count": 86,
   "metadata": {},
   "outputs": [
    {
     "data": {
      "text/plain": [
       "False    30719\n",
       "True      8110\n",
       "Name: visitaALaManiana, dtype: int64"
      ]
     },
     "execution_count": 86,
     "metadata": {},
     "output_type": "execute_result"
    }
   ],
   "source": [
    "labels_f.visitaALaManiana.value_counts()"
   ]
  },
  {
   "cell_type": "code",
   "execution_count": 87,
   "metadata": {},
   "outputs": [
    {
     "name": "stdout",
     "output_type": "stream",
     "text": [
      "<class 'pandas.core.frame.DataFrame'>\n",
      "Int64Index: 38829 entries, 0 to 38828\n",
      "Data columns (total 82 columns):\n",
      "person                  38829 non-null object\n",
      "esNuevo                 38829 non-null bool\n",
      "cantidadDeVisitas       38829 non-null float32\n",
      "ingresoPorPublicidad    38829 non-null bool\n",
      "Facebook                31900 non-null float64\n",
      "FacebookAds             31900 non-null float64\n",
      "FacebookSocial          31900 non-null float64\n",
      "MARKETING SOCIAL        31900 non-null float64\n",
      "afiliado                31900 non-null float64\n",
      "afilio                  31900 non-null float64\n",
      "bing                    31900 non-null float64\n",
      "blog                    31900 non-null float64\n",
      "buscape                 31900 non-null float64\n",
      "criteo                  31900 non-null float64\n",
      "datacrush               31900 non-null float64\n",
      "emblue                  31900 non-null float64\n",
      "gizmodo                 31900 non-null float64\n",
      "google                  31900 non-null float64\n",
      "indexa                  31900 non-null float64\n",
      "manifest                31900 non-null float64\n",
      "mercadopago             31900 non-null float64\n",
      "onsite                  31900 non-null float64\n",
      "rakuten                 31900 non-null float64\n",
      "rtbhouse                31900 non-null float64\n",
      "voxus                   31900 non-null float64\n",
      "yotpo                   31900 non-null float64\n",
      "zanox                   31900 non-null float64\n",
      "device_type             38829 non-null object\n",
      "deviceSmartphone        38829 non-null bool\n",
      "deviceComputer          38829 non-null bool\n",
      "deviceTablet            38829 non-null bool\n",
      "deviceUnknown           38829 non-null bool\n",
      "cantVisitasAVP          37130 non-null float64\n",
      "maniana                 38829 non-null float64\n",
      "tarde                   38829 non-null float64\n",
      "noche                   38829 non-null float64\n",
      "madrugada               38829 non-null float64\n",
      "cantDirect              38829 non-null float64\n",
      "cantEmail               38829 non-null float64\n",
      "cantOrganic             38829 non-null float64\n",
      "cantPaid                38829 non-null float64\n",
      "cantReferral            38829 non-null float64\n",
      "cantSocial              38829 non-null float64\n",
      "cantUnknown             38829 non-null float64\n",
      "cantVisitasDomingo      38829 non-null float64\n",
      "cantVisitasLunes        38829 non-null float64\n",
      "cantVisitasMartes       38829 non-null float64\n",
      "cantVisitasMiercoles    38829 non-null float64\n",
      "cantVisitasJueves       38829 non-null float64\n",
      "cantVisitasViernes      38829 non-null float64\n",
      "cantVisitasSabado       38829 non-null float64\n",
      "cantidadDeEventos       38829 non-null float64\n",
      "cantAdCampaignHit       38829 non-null float64\n",
      "cantBandListing         38829 non-null float64\n",
      "cantCheckout            38829 non-null float64\n",
      "cantGenericListing      38829 non-null float64\n",
      "cantLead                38829 non-null float64\n",
      "cantSearchEngineHit     38829 non-null float64\n",
      "cantSearchedProducts    38829 non-null float64\n",
      "cantStaticpage          38829 non-null float64\n",
      "cantViewedProduct       38829 non-null float64\n",
      "cantVisitedSite         38829 non-null float64\n",
      "visitaALaManiana        38829 non-null bool\n",
      "visitaALaNoche          38829 non-null bool\n",
      "visitaALaTarde          38829 non-null bool\n",
      "visitaALaMadrugada      38829 non-null bool\n",
      "canalDirect             38829 non-null float64\n",
      "canalEmail              38829 non-null float64\n",
      "canalOrganic            38829 non-null float64\n",
      "canalPaid               38829 non-null float64\n",
      "canalRefferal           38829 non-null float64\n",
      "canalSocial             38829 non-null float64\n",
      "adCampaignHit           38829 non-null bool\n",
      "bandListing             38829 non-null bool\n",
      "checkout                38829 non-null bool\n",
      "genericListing          38829 non-null bool\n",
      "searchEngineHit         38829 non-null bool\n",
      "searchedProducts        38829 non-null bool\n",
      "staticpage              38829 non-null bool\n",
      "viewedProduct           38829 non-null bool\n",
      "visitedSite             38829 non-null bool\n",
      "lead                    38829 non-null object\n",
      "dtypes: bool(19), float32(1), float64(59), object(3)\n",
      "memory usage: 19.5+ MB\n"
     ]
    }
   ],
   "source": [
    "labels_f.info()"
   ]
  },
  {
   "cell_type": "code",
   "execution_count": 88,
   "metadata": {},
   "outputs": [],
   "source": [
    "analisis = pd.merge(labels, labels_f, on = 'person', how = 'left' )"
   ]
  },
  {
   "cell_type": "code",
   "execution_count": 89,
   "metadata": {},
   "outputs": [
    {
     "data": {
      "text/plain": [
       "label  checkout\n",
       "0      True        16003\n",
       "       False        2431\n",
       "1      False         531\n",
       "       True          449\n",
       "Name: checkout, dtype: int64"
      ]
     },
     "execution_count": 89,
     "metadata": {},
     "output_type": "execute_result"
    }
   ],
   "source": [
    "analisis.groupby('label').checkout.value_counts()"
   ]
  },
  {
   "cell_type": "code",
   "execution_count": 90,
   "metadata": {},
   "outputs": [],
   "source": [
    "labels_f ['esNuevo'] = labels_f['esNuevo'].astype('bool')\n",
    "labels_f['visitaALaManiana']=labels_f['visitaALaManiana'].astype('bool')\n",
    "labels_f['visitaALaNoche']=labels_f['visitaALaNoche'].astype('bool')\n",
    "labels_f['visitaALaTarde']=labels_f['visitaALaTarde'].astype('bool')\n",
    "labels_f['visitaALaMadrugada']=labels_f['visitaALaMadrugada'].astype('bool')\n",
    "labels_f['canalDirect']=labels_f['canalDirect'].astype('bool')\n",
    "labels_f['canalEmail']=labels_f['canalEmail'].astype('bool')\n",
    "labels_f['canalOrganic']=labels_f['canalOrganic'].astype('bool')\n",
    "labels_f['canalPaid']=labels_f['canalPaid'].astype('bool')\n",
    "labels_f['canalRefferal']=labels_f['canalRefferal'].astype('bool')\n",
    "labels_f['canalSocial']=labels_f['canalSocial'].astype('bool')\n",
    "labels_f['adCampaignHit']=labels_f['adCampaignHit'].astype('bool')\n",
    "labels_f['bandListing']=labels_f['bandListing'].astype('bool')\n",
    "labels_f['checkout']=labels_f['checkout'].astype('bool')\n",
    "labels_f['genericListing']=labels_f['genericListing'].astype('bool')\n",
    "labels_f['searchEngineHit']=labels_f['searchEngineHit'].astype('bool')\n",
    "labels_f['searchedProducts']=labels_f['searchedProducts'].astype('bool')\n",
    "labels_f['staticpage']=labels_f['staticpage'].astype('bool')\n",
    "labels_f['viewedProduct']=labels_f['viewedProduct'].astype('bool')\n",
    "labels_f['visitedSite']=labels_f['visitedSite'].astype('bool')\n",
    "labels_f['lead']=labels_f['lead'].astype('bool')"
   ]
  },
  {
   "cell_type": "code",
   "execution_count": 91,
   "metadata": {},
   "outputs": [
    {
     "name": "stdout",
     "output_type": "stream",
     "text": [
      "<class 'pandas.core.frame.DataFrame'>\n",
      "Int64Index: 38829 entries, 0 to 38828\n",
      "Data columns (total 82 columns):\n",
      "person                  38829 non-null object\n",
      "esNuevo                 38829 non-null bool\n",
      "cantidadDeVisitas       38829 non-null float32\n",
      "ingresoPorPublicidad    38829 non-null bool\n",
      "Facebook                31900 non-null float64\n",
      "FacebookAds             31900 non-null float64\n",
      "FacebookSocial          31900 non-null float64\n",
      "MARKETING SOCIAL        31900 non-null float64\n",
      "afiliado                31900 non-null float64\n",
      "afilio                  31900 non-null float64\n",
      "bing                    31900 non-null float64\n",
      "blog                    31900 non-null float64\n",
      "buscape                 31900 non-null float64\n",
      "criteo                  31900 non-null float64\n",
      "datacrush               31900 non-null float64\n",
      "emblue                  31900 non-null float64\n",
      "gizmodo                 31900 non-null float64\n",
      "google                  31900 non-null float64\n",
      "indexa                  31900 non-null float64\n",
      "manifest                31900 non-null float64\n",
      "mercadopago             31900 non-null float64\n",
      "onsite                  31900 non-null float64\n",
      "rakuten                 31900 non-null float64\n",
      "rtbhouse                31900 non-null float64\n",
      "voxus                   31900 non-null float64\n",
      "yotpo                   31900 non-null float64\n",
      "zanox                   31900 non-null float64\n",
      "device_type             38829 non-null object\n",
      "deviceSmartphone        38829 non-null bool\n",
      "deviceComputer          38829 non-null bool\n",
      "deviceTablet            38829 non-null bool\n",
      "deviceUnknown           38829 non-null bool\n",
      "cantVisitasAVP          37130 non-null float64\n",
      "maniana                 38829 non-null float64\n",
      "tarde                   38829 non-null float64\n",
      "noche                   38829 non-null float64\n",
      "madrugada               38829 non-null float64\n",
      "cantDirect              38829 non-null float64\n",
      "cantEmail               38829 non-null float64\n",
      "cantOrganic             38829 non-null float64\n",
      "cantPaid                38829 non-null float64\n",
      "cantReferral            38829 non-null float64\n",
      "cantSocial              38829 non-null float64\n",
      "cantUnknown             38829 non-null float64\n",
      "cantVisitasDomingo      38829 non-null float64\n",
      "cantVisitasLunes        38829 non-null float64\n",
      "cantVisitasMartes       38829 non-null float64\n",
      "cantVisitasMiercoles    38829 non-null float64\n",
      "cantVisitasJueves       38829 non-null float64\n",
      "cantVisitasViernes      38829 non-null float64\n",
      "cantVisitasSabado       38829 non-null float64\n",
      "cantidadDeEventos       38829 non-null float64\n",
      "cantAdCampaignHit       38829 non-null float64\n",
      "cantBandListing         38829 non-null float64\n",
      "cantCheckout            38829 non-null float64\n",
      "cantGenericListing      38829 non-null float64\n",
      "cantLead                38829 non-null float64\n",
      "cantSearchEngineHit     38829 non-null float64\n",
      "cantSearchedProducts    38829 non-null float64\n",
      "cantStaticpage          38829 non-null float64\n",
      "cantViewedProduct       38829 non-null float64\n",
      "cantVisitedSite         38829 non-null float64\n",
      "visitaALaManiana        38829 non-null bool\n",
      "visitaALaNoche          38829 non-null bool\n",
      "visitaALaTarde          38829 non-null bool\n",
      "visitaALaMadrugada      38829 non-null bool\n",
      "canalDirect             38829 non-null bool\n",
      "canalEmail              38829 non-null bool\n",
      "canalOrganic            38829 non-null bool\n",
      "canalPaid               38829 non-null bool\n",
      "canalRefferal           38829 non-null bool\n",
      "canalSocial             38829 non-null bool\n",
      "adCampaignHit           38829 non-null bool\n",
      "bandListing             38829 non-null bool\n",
      "checkout                38829 non-null bool\n",
      "genericListing          38829 non-null bool\n",
      "searchEngineHit         38829 non-null bool\n",
      "searchedProducts        38829 non-null bool\n",
      "staticpage              38829 non-null bool\n",
      "viewedProduct           38829 non-null bool\n",
      "visitedSite             38829 non-null bool\n",
      "lead                    38829 non-null bool\n",
      "dtypes: bool(26), float32(1), float64(53), object(2)\n",
      "memory usage: 17.7+ MB\n"
     ]
    }
   ],
   "source": [
    "labels_f.info()"
   ]
  },
  {
   "cell_type": "code",
   "execution_count": 92,
   "metadata": {},
   "outputs": [
    {
     "data": {
      "text/html": [
       "<div>\n",
       "<style scoped>\n",
       "    .dataframe tbody tr th:only-of-type {\n",
       "        vertical-align: middle;\n",
       "    }\n",
       "\n",
       "    .dataframe tbody tr th {\n",
       "        vertical-align: top;\n",
       "    }\n",
       "\n",
       "    .dataframe thead th {\n",
       "        text-align: right;\n",
       "    }\n",
       "</style>\n",
       "<table border=\"1\" class=\"dataframe\">\n",
       "  <thead>\n",
       "    <tr style=\"text-align: right;\">\n",
       "      <th></th>\n",
       "      <th>person</th>\n",
       "      <th>esNuevo</th>\n",
       "      <th>cantidadDeVisitas</th>\n",
       "      <th>ingresoPorPublicidad</th>\n",
       "      <th>Facebook</th>\n",
       "      <th>FacebookAds</th>\n",
       "      <th>FacebookSocial</th>\n",
       "      <th>MARKETING SOCIAL</th>\n",
       "      <th>afiliado</th>\n",
       "      <th>afilio</th>\n",
       "      <th>...</th>\n",
       "      <th>adCampaignHit</th>\n",
       "      <th>bandListing</th>\n",
       "      <th>checkout</th>\n",
       "      <th>genericListing</th>\n",
       "      <th>searchEngineHit</th>\n",
       "      <th>searchedProducts</th>\n",
       "      <th>staticpage</th>\n",
       "      <th>viewedProduct</th>\n",
       "      <th>visitedSite</th>\n",
       "      <th>lead</th>\n",
       "    </tr>\n",
       "  </thead>\n",
       "  <tbody>\n",
       "    <tr>\n",
       "      <th>0</th>\n",
       "      <td>4886f805</td>\n",
       "      <td>True</td>\n",
       "      <td>1.0</td>\n",
       "      <td>False</td>\n",
       "      <td>NaN</td>\n",
       "      <td>NaN</td>\n",
       "      <td>NaN</td>\n",
       "      <td>NaN</td>\n",
       "      <td>NaN</td>\n",
       "      <td>NaN</td>\n",
       "      <td>...</td>\n",
       "      <td>False</td>\n",
       "      <td>False</td>\n",
       "      <td>True</td>\n",
       "      <td>True</td>\n",
       "      <td>True</td>\n",
       "      <td>True</td>\n",
       "      <td>False</td>\n",
       "      <td>True</td>\n",
       "      <td>True</td>\n",
       "      <td>False</td>\n",
       "    </tr>\n",
       "    <tr>\n",
       "      <th>1</th>\n",
       "      <td>ad93850f</td>\n",
       "      <td>False</td>\n",
       "      <td>5.0</td>\n",
       "      <td>True</td>\n",
       "      <td>0.0</td>\n",
       "      <td>0.0</td>\n",
       "      <td>0.0</td>\n",
       "      <td>0.0</td>\n",
       "      <td>0.0</td>\n",
       "      <td>0.0</td>\n",
       "      <td>...</td>\n",
       "      <td>True</td>\n",
       "      <td>True</td>\n",
       "      <td>True</td>\n",
       "      <td>True</td>\n",
       "      <td>True</td>\n",
       "      <td>False</td>\n",
       "      <td>False</td>\n",
       "      <td>True</td>\n",
       "      <td>True</td>\n",
       "      <td>False</td>\n",
       "    </tr>\n",
       "    <tr>\n",
       "      <th>2</th>\n",
       "      <td>0297fc1e</td>\n",
       "      <td>False</td>\n",
       "      <td>95.0</td>\n",
       "      <td>True</td>\n",
       "      <td>0.0</td>\n",
       "      <td>0.0</td>\n",
       "      <td>0.0</td>\n",
       "      <td>0.0</td>\n",
       "      <td>0.0</td>\n",
       "      <td>0.0</td>\n",
       "      <td>...</td>\n",
       "      <td>True</td>\n",
       "      <td>True</td>\n",
       "      <td>True</td>\n",
       "      <td>True</td>\n",
       "      <td>False</td>\n",
       "      <td>True</td>\n",
       "      <td>False</td>\n",
       "      <td>True</td>\n",
       "      <td>True</td>\n",
       "      <td>True</td>\n",
       "    </tr>\n",
       "    <tr>\n",
       "      <th>3</th>\n",
       "      <td>2d681dd8</td>\n",
       "      <td>False</td>\n",
       "      <td>2.0</td>\n",
       "      <td>True</td>\n",
       "      <td>0.0</td>\n",
       "      <td>0.0</td>\n",
       "      <td>0.0</td>\n",
       "      <td>0.0</td>\n",
       "      <td>0.0</td>\n",
       "      <td>0.0</td>\n",
       "      <td>...</td>\n",
       "      <td>True</td>\n",
       "      <td>True</td>\n",
       "      <td>True</td>\n",
       "      <td>True</td>\n",
       "      <td>True</td>\n",
       "      <td>True</td>\n",
       "      <td>False</td>\n",
       "      <td>True</td>\n",
       "      <td>True</td>\n",
       "      <td>False</td>\n",
       "    </tr>\n",
       "    <tr>\n",
       "      <th>4</th>\n",
       "      <td>cccea85e</td>\n",
       "      <td>False</td>\n",
       "      <td>22.0</td>\n",
       "      <td>True</td>\n",
       "      <td>0.0</td>\n",
       "      <td>0.0</td>\n",
       "      <td>0.0</td>\n",
       "      <td>0.0</td>\n",
       "      <td>0.0</td>\n",
       "      <td>0.0</td>\n",
       "      <td>...</td>\n",
       "      <td>True</td>\n",
       "      <td>True</td>\n",
       "      <td>True</td>\n",
       "      <td>True</td>\n",
       "      <td>True</td>\n",
       "      <td>True</td>\n",
       "      <td>True</td>\n",
       "      <td>True</td>\n",
       "      <td>True</td>\n",
       "      <td>False</td>\n",
       "    </tr>\n",
       "  </tbody>\n",
       "</table>\n",
       "<p>5 rows × 82 columns</p>\n",
       "</div>"
      ],
      "text/plain": [
       "     person  esNuevo  cantidadDeVisitas  ingresoPorPublicidad  Facebook  \\\n",
       "0  4886f805     True                1.0                 False       NaN   \n",
       "1  ad93850f    False                5.0                  True       0.0   \n",
       "2  0297fc1e    False               95.0                  True       0.0   \n",
       "3  2d681dd8    False                2.0                  True       0.0   \n",
       "4  cccea85e    False               22.0                  True       0.0   \n",
       "\n",
       "   FacebookAds  FacebookSocial  MARKETING SOCIAL  afiliado  afilio  ...    \\\n",
       "0          NaN             NaN               NaN       NaN     NaN  ...     \n",
       "1          0.0             0.0               0.0       0.0     0.0  ...     \n",
       "2          0.0             0.0               0.0       0.0     0.0  ...     \n",
       "3          0.0             0.0               0.0       0.0     0.0  ...     \n",
       "4          0.0             0.0               0.0       0.0     0.0  ...     \n",
       "\n",
       "   adCampaignHit  bandListing  checkout  genericListing  searchEngineHit  \\\n",
       "0          False        False      True            True             True   \n",
       "1           True         True      True            True             True   \n",
       "2           True         True      True            True            False   \n",
       "3           True         True      True            True             True   \n",
       "4           True         True      True            True             True   \n",
       "\n",
       "   searchedProducts  staticpage  viewedProduct  visitedSite   lead  \n",
       "0              True       False           True         True  False  \n",
       "1             False       False           True         True  False  \n",
       "2              True       False           True         True   True  \n",
       "3              True       False           True         True  False  \n",
       "4              True        True           True         True  False  \n",
       "\n",
       "[5 rows x 82 columns]"
      ]
     },
     "execution_count": 92,
     "metadata": {},
     "output_type": "execute_result"
    }
   ],
   "source": [
    "labels_f.head()"
   ]
  },
  {
   "cell_type": "code",
   "execution_count": 96,
   "metadata": {},
   "outputs": [
    {
     "name": "stdout",
     "output_type": "stream",
     "text": [
      "False    38829\n",
      "Name: person, dtype: int64\n",
      "False    38829\n",
      "Name: esNuevo, dtype: int64\n",
      "False    38829\n",
      "Name: cantidadDeVisitas, dtype: int64\n",
      "False    38829\n",
      "Name: ingresoPorPublicidad, dtype: int64\n",
      "False    31900\n",
      "True      6929\n",
      "Name: Facebook, dtype: int64\n",
      "False    31900\n",
      "True      6929\n",
      "Name: FacebookAds, dtype: int64\n",
      "False    31900\n",
      "True      6929\n",
      "Name: FacebookSocial, dtype: int64\n",
      "False    31900\n",
      "True      6929\n",
      "Name: MARKETING SOCIAL, dtype: int64\n",
      "False    31900\n",
      "True      6929\n",
      "Name: afiliado, dtype: int64\n",
      "False    31900\n",
      "True      6929\n",
      "Name: afilio, dtype: int64\n",
      "False    31900\n",
      "True      6929\n",
      "Name: bing, dtype: int64\n",
      "False    31900\n",
      "True      6929\n",
      "Name: blog, dtype: int64\n",
      "False    31900\n",
      "True      6929\n",
      "Name: buscape, dtype: int64\n",
      "False    31900\n",
      "True      6929\n",
      "Name: criteo, dtype: int64\n",
      "False    31900\n",
      "True      6929\n",
      "Name: datacrush, dtype: int64\n",
      "False    31900\n",
      "True      6929\n",
      "Name: emblue, dtype: int64\n",
      "False    31900\n",
      "True      6929\n",
      "Name: gizmodo, dtype: int64\n",
      "False    31900\n",
      "True      6929\n",
      "Name: google, dtype: int64\n",
      "False    31900\n",
      "True      6929\n",
      "Name: indexa, dtype: int64\n",
      "False    31900\n",
      "True      6929\n",
      "Name: manifest, dtype: int64\n",
      "False    31900\n",
      "True      6929\n",
      "Name: mercadopago, dtype: int64\n",
      "False    31900\n",
      "True      6929\n",
      "Name: onsite, dtype: int64\n",
      "False    31900\n",
      "True      6929\n",
      "Name: rakuten, dtype: int64\n",
      "False    31900\n",
      "True      6929\n",
      "Name: rtbhouse, dtype: int64\n",
      "False    31900\n",
      "True      6929\n",
      "Name: voxus, dtype: int64\n",
      "False    31900\n",
      "True      6929\n",
      "Name: yotpo, dtype: int64\n",
      "False    31900\n",
      "True      6929\n",
      "Name: zanox, dtype: int64\n",
      "False    38829\n",
      "Name: device_type, dtype: int64\n",
      "False    38829\n",
      "Name: deviceSmartphone, dtype: int64\n",
      "False    38829\n",
      "Name: deviceComputer, dtype: int64\n",
      "False    38829\n",
      "Name: deviceTablet, dtype: int64\n",
      "False    38829\n",
      "Name: deviceUnknown, dtype: int64\n",
      "False    37130\n",
      "True      1699\n",
      "Name: cantVisitasAVP, dtype: int64\n",
      "False    38829\n",
      "Name: maniana, dtype: int64\n",
      "False    38829\n",
      "Name: tarde, dtype: int64\n",
      "False    38829\n",
      "Name: noche, dtype: int64\n",
      "False    38829\n",
      "Name: madrugada, dtype: int64\n",
      "False    38829\n",
      "Name: cantDirect, dtype: int64\n",
      "False    38829\n",
      "Name: cantEmail, dtype: int64\n",
      "False    38829\n",
      "Name: cantOrganic, dtype: int64\n",
      "False    38829\n",
      "Name: cantPaid, dtype: int64\n",
      "False    38829\n",
      "Name: cantReferral, dtype: int64\n",
      "False    38829\n",
      "Name: cantSocial, dtype: int64\n",
      "False    38829\n",
      "Name: cantUnknown, dtype: int64\n",
      "False    38829\n",
      "Name: cantVisitasDomingo, dtype: int64\n",
      "False    38829\n",
      "Name: cantVisitasLunes, dtype: int64\n",
      "False    38829\n",
      "Name: cantVisitasMartes, dtype: int64\n",
      "False    38829\n",
      "Name: cantVisitasMiercoles, dtype: int64\n",
      "False    38829\n",
      "Name: cantVisitasJueves, dtype: int64\n",
      "False    38829\n",
      "Name: cantVisitasViernes, dtype: int64\n",
      "False    38829\n",
      "Name: cantVisitasSabado, dtype: int64\n",
      "False    38829\n",
      "Name: cantidadDeEventos, dtype: int64\n",
      "False    38829\n",
      "Name: cantAdCampaignHit, dtype: int64\n",
      "False    38829\n",
      "Name: cantBandListing, dtype: int64\n",
      "False    38829\n",
      "Name: cantCheckout, dtype: int64\n",
      "False    38829\n",
      "Name: cantGenericListing, dtype: int64\n",
      "False    38829\n",
      "Name: cantLead, dtype: int64\n",
      "False    38829\n",
      "Name: cantSearchEngineHit, dtype: int64\n",
      "False    38829\n",
      "Name: cantSearchedProducts, dtype: int64\n",
      "False    38829\n",
      "Name: cantStaticpage, dtype: int64\n",
      "False    38829\n",
      "Name: cantViewedProduct, dtype: int64\n",
      "False    38829\n",
      "Name: cantVisitedSite, dtype: int64\n",
      "False    38829\n",
      "Name: visitaALaManiana, dtype: int64\n",
      "False    38829\n",
      "Name: visitaALaNoche, dtype: int64\n",
      "False    38829\n",
      "Name: visitaALaTarde, dtype: int64\n",
      "False    38829\n",
      "Name: visitaALaMadrugada, dtype: int64\n",
      "False    38829\n",
      "Name: canalDirect, dtype: int64\n",
      "False    38829\n",
      "Name: canalEmail, dtype: int64\n",
      "False    38829\n",
      "Name: canalOrganic, dtype: int64\n",
      "False    38829\n",
      "Name: canalPaid, dtype: int64\n",
      "False    38829\n",
      "Name: canalRefferal, dtype: int64\n",
      "False    38829\n",
      "Name: canalSocial, dtype: int64\n",
      "False    38829\n",
      "Name: adCampaignHit, dtype: int64\n",
      "False    38829\n",
      "Name: bandListing, dtype: int64\n",
      "False    38829\n",
      "Name: checkout, dtype: int64\n",
      "False    38829\n",
      "Name: genericListing, dtype: int64\n",
      "False    38829\n",
      "Name: searchEngineHit, dtype: int64\n",
      "False    38829\n",
      "Name: searchedProducts, dtype: int64\n",
      "False    38829\n",
      "Name: staticpage, dtype: int64\n",
      "False    38829\n",
      "Name: viewedProduct, dtype: int64\n",
      "False    38829\n",
      "Name: visitedSite, dtype: int64\n",
      "False    38829\n",
      "Name: lead, dtype: int64\n"
     ]
    }
   ],
   "source": [
    "columnas = list(labels_f.columns)\n",
    "for columna in columnas: \n",
    "    print(labels_f[columna].isnull().value_counts())\n",
    "\n"
   ]
  },
  {
   "cell_type": "code",
   "execution_count": 102,
   "metadata": {},
   "outputs": [],
   "source": [
    "#las publicidades tenían null, completo con la moda. \n",
    "columnas_null = []\n",
    "for columna in columnas:\n",
    "    try:\n",
    "        cant_false,cant_true = labels_f[columna].isnull().value_counts()\n",
    "        if cant_true > 0:\n",
    "            columnas_null.append(columna)\n",
    "    except:\n",
    "        continue\n",
    "        \n",
    "for columna in columnas_null:\n",
    "    labels_f[columna] = labels_f[columna].fillna(labels_f[columna].mode().iloc[0])"
   ]
  },
  {
   "cell_type": "code",
   "execution_count": 110,
   "metadata": {},
   "outputs": [
    {
     "name": "stdout",
     "output_type": "stream",
     "text": [
      "False    38829\n",
      "Name: person, dtype: int64\n",
      "False    38829\n",
      "Name: esNuevo, dtype: int64\n",
      "False    38829\n",
      "Name: cantidadDeVisitas, dtype: int64\n",
      "False    38829\n",
      "Name: ingresoPorPublicidad, dtype: int64\n",
      "False    38829\n",
      "Name: Facebook, dtype: int64\n",
      "False    38829\n",
      "Name: FacebookAds, dtype: int64\n",
      "False    38829\n",
      "Name: FacebookSocial, dtype: int64\n",
      "False    38829\n",
      "Name: MARKETING SOCIAL, dtype: int64\n",
      "False    38829\n",
      "Name: afiliado, dtype: int64\n",
      "False    38829\n",
      "Name: afilio, dtype: int64\n",
      "False    38829\n",
      "Name: bing, dtype: int64\n",
      "False    38829\n",
      "Name: blog, dtype: int64\n",
      "False    38829\n",
      "Name: buscape, dtype: int64\n",
      "False    38829\n",
      "Name: criteo, dtype: int64\n",
      "False    38829\n",
      "Name: datacrush, dtype: int64\n",
      "False    38829\n",
      "Name: emblue, dtype: int64\n",
      "False    38829\n",
      "Name: gizmodo, dtype: int64\n",
      "False    38829\n",
      "Name: google, dtype: int64\n",
      "False    38829\n",
      "Name: indexa, dtype: int64\n",
      "False    38829\n",
      "Name: manifest, dtype: int64\n",
      "False    38829\n",
      "Name: mercadopago, dtype: int64\n",
      "False    38829\n",
      "Name: onsite, dtype: int64\n",
      "False    38829\n",
      "Name: rakuten, dtype: int64\n",
      "False    38829\n",
      "Name: rtbhouse, dtype: int64\n",
      "False    38829\n",
      "Name: voxus, dtype: int64\n",
      "False    38829\n",
      "Name: yotpo, dtype: int64\n",
      "False    38829\n",
      "Name: zanox, dtype: int64\n",
      "False    38829\n",
      "Name: device_type, dtype: int64\n",
      "False    38829\n",
      "Name: deviceSmartphone, dtype: int64\n",
      "False    38829\n",
      "Name: deviceComputer, dtype: int64\n",
      "False    38829\n",
      "Name: deviceTablet, dtype: int64\n",
      "False    38829\n",
      "Name: deviceUnknown, dtype: int64\n",
      "False    38829\n",
      "Name: cantVisitasAVP, dtype: int64\n",
      "False    38829\n",
      "Name: maniana, dtype: int64\n",
      "False    38829\n",
      "Name: tarde, dtype: int64\n",
      "False    38829\n",
      "Name: noche, dtype: int64\n",
      "False    38829\n",
      "Name: madrugada, dtype: int64\n",
      "False    38829\n",
      "Name: cantDirect, dtype: int64\n",
      "False    38829\n",
      "Name: cantEmail, dtype: int64\n",
      "False    38829\n",
      "Name: cantOrganic, dtype: int64\n",
      "False    38829\n",
      "Name: cantPaid, dtype: int64\n",
      "False    38829\n",
      "Name: cantReferral, dtype: int64\n",
      "False    38829\n",
      "Name: cantSocial, dtype: int64\n",
      "False    38829\n",
      "Name: cantUnknown, dtype: int64\n",
      "False    38829\n",
      "Name: cantVisitasDomingo, dtype: int64\n",
      "False    38829\n",
      "Name: cantVisitasLunes, dtype: int64\n",
      "False    38829\n",
      "Name: cantVisitasMartes, dtype: int64\n",
      "False    38829\n",
      "Name: cantVisitasMiercoles, dtype: int64\n",
      "False    38829\n",
      "Name: cantVisitasJueves, dtype: int64\n",
      "False    38829\n",
      "Name: cantVisitasViernes, dtype: int64\n",
      "False    38829\n",
      "Name: cantVisitasSabado, dtype: int64\n",
      "False    38829\n",
      "Name: cantidadDeEventos, dtype: int64\n",
      "False    38829\n",
      "Name: cantAdCampaignHit, dtype: int64\n",
      "False    38829\n",
      "Name: cantBandListing, dtype: int64\n",
      "False    38829\n",
      "Name: cantCheckout, dtype: int64\n",
      "False    38829\n",
      "Name: cantGenericListing, dtype: int64\n",
      "False    38829\n",
      "Name: cantLead, dtype: int64\n",
      "False    38829\n",
      "Name: cantSearchEngineHit, dtype: int64\n",
      "False    38829\n",
      "Name: cantSearchedProducts, dtype: int64\n",
      "False    38829\n",
      "Name: cantStaticpage, dtype: int64\n",
      "False    38829\n",
      "Name: cantViewedProduct, dtype: int64\n",
      "False    38829\n",
      "Name: cantVisitedSite, dtype: int64\n",
      "False    38829\n",
      "Name: visitaALaManiana, dtype: int64\n",
      "False    38829\n",
      "Name: visitaALaNoche, dtype: int64\n",
      "False    38829\n",
      "Name: visitaALaTarde, dtype: int64\n",
      "False    38829\n",
      "Name: visitaALaMadrugada, dtype: int64\n",
      "False    38829\n",
      "Name: canalDirect, dtype: int64\n",
      "False    38829\n",
      "Name: canalEmail, dtype: int64\n",
      "False    38829\n",
      "Name: canalOrganic, dtype: int64\n",
      "False    38829\n",
      "Name: canalPaid, dtype: int64\n",
      "False    38829\n",
      "Name: canalRefferal, dtype: int64\n",
      "False    38829\n",
      "Name: canalSocial, dtype: int64\n",
      "False    38829\n",
      "Name: adCampaignHit, dtype: int64\n",
      "False    38829\n",
      "Name: bandListing, dtype: int64\n",
      "False    38829\n",
      "Name: checkout, dtype: int64\n",
      "False    38829\n",
      "Name: genericListing, dtype: int64\n",
      "False    38829\n",
      "Name: searchEngineHit, dtype: int64\n",
      "False    38829\n",
      "Name: searchedProducts, dtype: int64\n",
      "False    38829\n",
      "Name: staticpage, dtype: int64\n",
      "False    38829\n",
      "Name: viewedProduct, dtype: int64\n",
      "False    38829\n",
      "Name: visitedSite, dtype: int64\n",
      "False    38829\n",
      "Name: lead, dtype: int64\n"
     ]
    }
   ],
   "source": [
    "for columna in columnas: \n",
    "    print(labels_f[columna].isnull().value_counts())\n"
   ]
  },
  {
   "cell_type": "markdown",
   "metadata": {},
   "source": [
    "### 16º el usuario ingresó por determinada publicidad###"
   ]
  },
  {
   "cell_type": "code",
   "execution_count": 111,
   "metadata": {},
   "outputs": [],
   "source": [
    "for columna in columnas_null:\n",
    "    labels_f['ingresoX'+columna] = labels_f[columna] > 0"
   ]
  },
  {
   "cell_type": "code",
   "execution_count": 115,
   "metadata": {},
   "outputs": [
    {
     "ename": "KeyError",
     "evalue": "\"labels ['ingresoXcantVisitasAVP'] not contained in axis\"",
     "output_type": "error",
     "traceback": [
      "\u001b[0;31m---------------------------------------------------------------------------\u001b[0m",
      "\u001b[0;31mKeyError\u001b[0m                                  Traceback (most recent call last)",
      "\u001b[0;32m<ipython-input-115-e383d1c76c6e>\u001b[0m in \u001b[0;36m<module>\u001b[0;34m()\u001b[0m\n\u001b[0;32m----> 1\u001b[0;31m \u001b[0mlabels_f\u001b[0m \u001b[0;34m=\u001b[0m \u001b[0mlabels_f\u001b[0m\u001b[0;34m.\u001b[0m\u001b[0mdrop\u001b[0m\u001b[0;34m(\u001b[0m\u001b[0;34m'ingresoXcantVisitasAVP'\u001b[0m\u001b[0;34m,\u001b[0m\u001b[0maxis\u001b[0m \u001b[0;34m=\u001b[0m \u001b[0;36m1\u001b[0m\u001b[0;34m)\u001b[0m\u001b[0;34m\u001b[0m\u001b[0m\n\u001b[0m\u001b[1;32m      2\u001b[0m \u001b[0mlabels_f\u001b[0m\u001b[0;34m.\u001b[0m\u001b[0mhead\u001b[0m\u001b[0;34m(\u001b[0m\u001b[0;34m)\u001b[0m\u001b[0;34m\u001b[0m\u001b[0m\n",
      "\u001b[0;32m/anaconda3/lib/python3.6/site-packages/pandas/core/frame.py\u001b[0m in \u001b[0;36mdrop\u001b[0;34m(self, labels, axis, index, columns, level, inplace, errors)\u001b[0m\n\u001b[1;32m   3692\u001b[0m                                            \u001b[0mindex\u001b[0m\u001b[0;34m=\u001b[0m\u001b[0mindex\u001b[0m\u001b[0;34m,\u001b[0m \u001b[0mcolumns\u001b[0m\u001b[0;34m=\u001b[0m\u001b[0mcolumns\u001b[0m\u001b[0;34m,\u001b[0m\u001b[0;34m\u001b[0m\u001b[0m\n\u001b[1;32m   3693\u001b[0m                                            \u001b[0mlevel\u001b[0m\u001b[0;34m=\u001b[0m\u001b[0mlevel\u001b[0m\u001b[0;34m,\u001b[0m \u001b[0minplace\u001b[0m\u001b[0;34m=\u001b[0m\u001b[0minplace\u001b[0m\u001b[0;34m,\u001b[0m\u001b[0;34m\u001b[0m\u001b[0m\n\u001b[0;32m-> 3694\u001b[0;31m                                            errors=errors)\n\u001b[0m\u001b[1;32m   3695\u001b[0m \u001b[0;34m\u001b[0m\u001b[0m\n\u001b[1;32m   3696\u001b[0m     @rewrite_axis_style_signature('mapper', [('copy', True),\n",
      "\u001b[0;32m/anaconda3/lib/python3.6/site-packages/pandas/core/generic.py\u001b[0m in \u001b[0;36mdrop\u001b[0;34m(self, labels, axis, index, columns, level, inplace, errors)\u001b[0m\n\u001b[1;32m   3106\u001b[0m         \u001b[0;32mfor\u001b[0m \u001b[0maxis\u001b[0m\u001b[0;34m,\u001b[0m \u001b[0mlabels\u001b[0m \u001b[0;32min\u001b[0m \u001b[0maxes\u001b[0m\u001b[0;34m.\u001b[0m\u001b[0mitems\u001b[0m\u001b[0;34m(\u001b[0m\u001b[0;34m)\u001b[0m\u001b[0;34m:\u001b[0m\u001b[0;34m\u001b[0m\u001b[0m\n\u001b[1;32m   3107\u001b[0m             \u001b[0;32mif\u001b[0m \u001b[0mlabels\u001b[0m \u001b[0;32mis\u001b[0m \u001b[0;32mnot\u001b[0m \u001b[0;32mNone\u001b[0m\u001b[0;34m:\u001b[0m\u001b[0;34m\u001b[0m\u001b[0m\n\u001b[0;32m-> 3108\u001b[0;31m                 \u001b[0mobj\u001b[0m \u001b[0;34m=\u001b[0m \u001b[0mobj\u001b[0m\u001b[0;34m.\u001b[0m\u001b[0m_drop_axis\u001b[0m\u001b[0;34m(\u001b[0m\u001b[0mlabels\u001b[0m\u001b[0;34m,\u001b[0m \u001b[0maxis\u001b[0m\u001b[0;34m,\u001b[0m \u001b[0mlevel\u001b[0m\u001b[0;34m=\u001b[0m\u001b[0mlevel\u001b[0m\u001b[0;34m,\u001b[0m \u001b[0merrors\u001b[0m\u001b[0;34m=\u001b[0m\u001b[0merrors\u001b[0m\u001b[0;34m)\u001b[0m\u001b[0;34m\u001b[0m\u001b[0m\n\u001b[0m\u001b[1;32m   3109\u001b[0m \u001b[0;34m\u001b[0m\u001b[0m\n\u001b[1;32m   3110\u001b[0m         \u001b[0;32mif\u001b[0m \u001b[0minplace\u001b[0m\u001b[0;34m:\u001b[0m\u001b[0;34m\u001b[0m\u001b[0m\n",
      "\u001b[0;32m/anaconda3/lib/python3.6/site-packages/pandas/core/generic.py\u001b[0m in \u001b[0;36m_drop_axis\u001b[0;34m(self, labels, axis, level, errors)\u001b[0m\n\u001b[1;32m   3138\u001b[0m                 \u001b[0mnew_axis\u001b[0m \u001b[0;34m=\u001b[0m \u001b[0maxis\u001b[0m\u001b[0;34m.\u001b[0m\u001b[0mdrop\u001b[0m\u001b[0;34m(\u001b[0m\u001b[0mlabels\u001b[0m\u001b[0;34m,\u001b[0m \u001b[0mlevel\u001b[0m\u001b[0;34m=\u001b[0m\u001b[0mlevel\u001b[0m\u001b[0;34m,\u001b[0m \u001b[0merrors\u001b[0m\u001b[0;34m=\u001b[0m\u001b[0merrors\u001b[0m\u001b[0;34m)\u001b[0m\u001b[0;34m\u001b[0m\u001b[0m\n\u001b[1;32m   3139\u001b[0m             \u001b[0;32melse\u001b[0m\u001b[0;34m:\u001b[0m\u001b[0;34m\u001b[0m\u001b[0m\n\u001b[0;32m-> 3140\u001b[0;31m                 \u001b[0mnew_axis\u001b[0m \u001b[0;34m=\u001b[0m \u001b[0maxis\u001b[0m\u001b[0;34m.\u001b[0m\u001b[0mdrop\u001b[0m\u001b[0;34m(\u001b[0m\u001b[0mlabels\u001b[0m\u001b[0;34m,\u001b[0m \u001b[0merrors\u001b[0m\u001b[0;34m=\u001b[0m\u001b[0merrors\u001b[0m\u001b[0;34m)\u001b[0m\u001b[0;34m\u001b[0m\u001b[0m\n\u001b[0m\u001b[1;32m   3141\u001b[0m             \u001b[0mdropped\u001b[0m \u001b[0;34m=\u001b[0m \u001b[0mself\u001b[0m\u001b[0;34m.\u001b[0m\u001b[0mreindex\u001b[0m\u001b[0;34m(\u001b[0m\u001b[0;34m**\u001b[0m\u001b[0;34m{\u001b[0m\u001b[0maxis_name\u001b[0m\u001b[0;34m:\u001b[0m \u001b[0mnew_axis\u001b[0m\u001b[0;34m}\u001b[0m\u001b[0;34m)\u001b[0m\u001b[0;34m\u001b[0m\u001b[0m\n\u001b[1;32m   3142\u001b[0m             \u001b[0;32mtry\u001b[0m\u001b[0;34m:\u001b[0m\u001b[0;34m\u001b[0m\u001b[0m\n",
      "\u001b[0;32m/anaconda3/lib/python3.6/site-packages/pandas/core/indexes/base.py\u001b[0m in \u001b[0;36mdrop\u001b[0;34m(self, labels, errors)\u001b[0m\n\u001b[1;32m   4385\u001b[0m             \u001b[0;32mif\u001b[0m \u001b[0merrors\u001b[0m \u001b[0;34m!=\u001b[0m \u001b[0;34m'ignore'\u001b[0m\u001b[0;34m:\u001b[0m\u001b[0;34m\u001b[0m\u001b[0m\n\u001b[1;32m   4386\u001b[0m                 raise KeyError(\n\u001b[0;32m-> 4387\u001b[0;31m                     'labels %s not contained in axis' % labels[mask])\n\u001b[0m\u001b[1;32m   4388\u001b[0m             \u001b[0mindexer\u001b[0m \u001b[0;34m=\u001b[0m \u001b[0mindexer\u001b[0m\u001b[0;34m[\u001b[0m\u001b[0;34m~\u001b[0m\u001b[0mmask\u001b[0m\u001b[0;34m]\u001b[0m\u001b[0;34m\u001b[0m\u001b[0m\n\u001b[1;32m   4389\u001b[0m         \u001b[0;32mreturn\u001b[0m \u001b[0mself\u001b[0m\u001b[0;34m.\u001b[0m\u001b[0mdelete\u001b[0m\u001b[0;34m(\u001b[0m\u001b[0mindexer\u001b[0m\u001b[0;34m)\u001b[0m\u001b[0;34m\u001b[0m\u001b[0m\n",
      "\u001b[0;31mKeyError\u001b[0m: \"labels ['ingresoXcantVisitasAVP'] not contained in axis\""
     ]
    }
   ],
   "source": [
    "labels_f = labels_f.drop('ingresoXcantVisitasAVP',axis = 1)\n"
   ]
  },
  {
   "cell_type": "code",
   "execution_count": 116,
   "metadata": {},
   "outputs": [
    {
     "data": {
      "text/html": [
       "<div>\n",
       "<style scoped>\n",
       "    .dataframe tbody tr th:only-of-type {\n",
       "        vertical-align: middle;\n",
       "    }\n",
       "\n",
       "    .dataframe tbody tr th {\n",
       "        vertical-align: top;\n",
       "    }\n",
       "\n",
       "    .dataframe thead th {\n",
       "        text-align: right;\n",
       "    }\n",
       "</style>\n",
       "<table border=\"1\" class=\"dataframe\">\n",
       "  <thead>\n",
       "    <tr style=\"text-align: right;\">\n",
       "      <th></th>\n",
       "      <th>person</th>\n",
       "      <th>esNuevo</th>\n",
       "      <th>cantidadDeVisitas</th>\n",
       "      <th>ingresoPorPublicidad</th>\n",
       "      <th>Facebook</th>\n",
       "      <th>FacebookAds</th>\n",
       "      <th>FacebookSocial</th>\n",
       "      <th>MARKETING SOCIAL</th>\n",
       "      <th>afiliado</th>\n",
       "      <th>afilio</th>\n",
       "      <th>...</th>\n",
       "      <th>ingresoXgoogle</th>\n",
       "      <th>ingresoXindexa</th>\n",
       "      <th>ingresoXmanifest</th>\n",
       "      <th>ingresoXmercadopago</th>\n",
       "      <th>ingresoXonsite</th>\n",
       "      <th>ingresoXrakuten</th>\n",
       "      <th>ingresoXrtbhouse</th>\n",
       "      <th>ingresoXvoxus</th>\n",
       "      <th>ingresoXyotpo</th>\n",
       "      <th>ingresoXzanox</th>\n",
       "    </tr>\n",
       "  </thead>\n",
       "  <tbody>\n",
       "    <tr>\n",
       "      <th>0</th>\n",
       "      <td>4886f805</td>\n",
       "      <td>True</td>\n",
       "      <td>1.0</td>\n",
       "      <td>False</td>\n",
       "      <td>0.0</td>\n",
       "      <td>0.0</td>\n",
       "      <td>0.0</td>\n",
       "      <td>0.0</td>\n",
       "      <td>0.0</td>\n",
       "      <td>0.0</td>\n",
       "      <td>...</td>\n",
       "      <td>True</td>\n",
       "      <td>False</td>\n",
       "      <td>False</td>\n",
       "      <td>False</td>\n",
       "      <td>False</td>\n",
       "      <td>False</td>\n",
       "      <td>False</td>\n",
       "      <td>False</td>\n",
       "      <td>False</td>\n",
       "      <td>False</td>\n",
       "    </tr>\n",
       "    <tr>\n",
       "      <th>1</th>\n",
       "      <td>ad93850f</td>\n",
       "      <td>False</td>\n",
       "      <td>5.0</td>\n",
       "      <td>True</td>\n",
       "      <td>0.0</td>\n",
       "      <td>0.0</td>\n",
       "      <td>0.0</td>\n",
       "      <td>0.0</td>\n",
       "      <td>0.0</td>\n",
       "      <td>0.0</td>\n",
       "      <td>...</td>\n",
       "      <td>True</td>\n",
       "      <td>False</td>\n",
       "      <td>False</td>\n",
       "      <td>False</td>\n",
       "      <td>False</td>\n",
       "      <td>False</td>\n",
       "      <td>False</td>\n",
       "      <td>False</td>\n",
       "      <td>False</td>\n",
       "      <td>False</td>\n",
       "    </tr>\n",
       "    <tr>\n",
       "      <th>2</th>\n",
       "      <td>0297fc1e</td>\n",
       "      <td>False</td>\n",
       "      <td>95.0</td>\n",
       "      <td>True</td>\n",
       "      <td>0.0</td>\n",
       "      <td>0.0</td>\n",
       "      <td>0.0</td>\n",
       "      <td>0.0</td>\n",
       "      <td>0.0</td>\n",
       "      <td>0.0</td>\n",
       "      <td>...</td>\n",
       "      <td>True</td>\n",
       "      <td>False</td>\n",
       "      <td>False</td>\n",
       "      <td>False</td>\n",
       "      <td>False</td>\n",
       "      <td>False</td>\n",
       "      <td>True</td>\n",
       "      <td>False</td>\n",
       "      <td>False</td>\n",
       "      <td>True</td>\n",
       "    </tr>\n",
       "    <tr>\n",
       "      <th>3</th>\n",
       "      <td>2d681dd8</td>\n",
       "      <td>False</td>\n",
       "      <td>2.0</td>\n",
       "      <td>True</td>\n",
       "      <td>0.0</td>\n",
       "      <td>0.0</td>\n",
       "      <td>0.0</td>\n",
       "      <td>0.0</td>\n",
       "      <td>0.0</td>\n",
       "      <td>0.0</td>\n",
       "      <td>...</td>\n",
       "      <td>True</td>\n",
       "      <td>False</td>\n",
       "      <td>False</td>\n",
       "      <td>False</td>\n",
       "      <td>False</td>\n",
       "      <td>False</td>\n",
       "      <td>False</td>\n",
       "      <td>False</td>\n",
       "      <td>False</td>\n",
       "      <td>False</td>\n",
       "    </tr>\n",
       "    <tr>\n",
       "      <th>4</th>\n",
       "      <td>cccea85e</td>\n",
       "      <td>False</td>\n",
       "      <td>22.0</td>\n",
       "      <td>True</td>\n",
       "      <td>0.0</td>\n",
       "      <td>0.0</td>\n",
       "      <td>0.0</td>\n",
       "      <td>0.0</td>\n",
       "      <td>0.0</td>\n",
       "      <td>0.0</td>\n",
       "      <td>...</td>\n",
       "      <td>True</td>\n",
       "      <td>False</td>\n",
       "      <td>False</td>\n",
       "      <td>False</td>\n",
       "      <td>False</td>\n",
       "      <td>False</td>\n",
       "      <td>True</td>\n",
       "      <td>False</td>\n",
       "      <td>False</td>\n",
       "      <td>False</td>\n",
       "    </tr>\n",
       "  </tbody>\n",
       "</table>\n",
       "<p>5 rows × 105 columns</p>\n",
       "</div>"
      ],
      "text/plain": [
       "     person  esNuevo  cantidadDeVisitas  ingresoPorPublicidad  Facebook  \\\n",
       "0  4886f805     True                1.0                 False       0.0   \n",
       "1  ad93850f    False                5.0                  True       0.0   \n",
       "2  0297fc1e    False               95.0                  True       0.0   \n",
       "3  2d681dd8    False                2.0                  True       0.0   \n",
       "4  cccea85e    False               22.0                  True       0.0   \n",
       "\n",
       "   FacebookAds  FacebookSocial  MARKETING SOCIAL  afiliado  afilio  \\\n",
       "0          0.0             0.0               0.0       0.0     0.0   \n",
       "1          0.0             0.0               0.0       0.0     0.0   \n",
       "2          0.0             0.0               0.0       0.0     0.0   \n",
       "3          0.0             0.0               0.0       0.0     0.0   \n",
       "4          0.0             0.0               0.0       0.0     0.0   \n",
       "\n",
       "       ...        ingresoXgoogle  ingresoXindexa  ingresoXmanifest  \\\n",
       "0      ...                  True           False             False   \n",
       "1      ...                  True           False             False   \n",
       "2      ...                  True           False             False   \n",
       "3      ...                  True           False             False   \n",
       "4      ...                  True           False             False   \n",
       "\n",
       "   ingresoXmercadopago  ingresoXonsite  ingresoXrakuten  ingresoXrtbhouse  \\\n",
       "0                False           False            False             False   \n",
       "1                False           False            False             False   \n",
       "2                False           False            False              True   \n",
       "3                False           False            False             False   \n",
       "4                False           False            False              True   \n",
       "\n",
       "   ingresoXvoxus  ingresoXyotpo  ingresoXzanox  \n",
       "0          False          False          False  \n",
       "1          False          False          False  \n",
       "2          False          False           True  \n",
       "3          False          False          False  \n",
       "4          False          False          False  \n",
       "\n",
       "[5 rows x 105 columns]"
      ]
     },
     "execution_count": 116,
     "metadata": {},
     "output_type": "execute_result"
    }
   ],
   "source": [
    "labels_f.head()"
   ]
  },
  {
   "cell_type": "code",
   "execution_count": 117,
   "metadata": {},
   "outputs": [],
   "source": [
    "labels_f.to_csv('featuresMagui.csv')"
   ]
  },
  {
   "cell_type": "code",
   "execution_count": null,
   "metadata": {},
   "outputs": [],
   "source": []
  },
  {
   "cell_type": "code",
   "execution_count": null,
   "metadata": {},
   "outputs": [],
   "source": []
  }
 ],
 "metadata": {
  "kernelspec": {
   "display_name": "Python 3",
   "language": "python",
   "name": "python3"
  },
  "language_info": {
   "codemirror_mode": {
    "name": "ipython",
    "version": 3
   },
   "file_extension": ".py",
   "mimetype": "text/x-python",
   "name": "python",
   "nbconvert_exporter": "python",
   "pygments_lexer": "ipython3",
   "version": "3.6.5"
  }
 },
 "nbformat": 4,
 "nbformat_minor": 2
}
