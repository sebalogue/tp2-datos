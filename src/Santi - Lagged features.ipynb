{
 "cells": [
  {
   "cell_type": "code",
   "execution_count": 1,
   "metadata": {},
   "outputs": [],
   "source": [
    "import pandas as pd  \n",
    "import numpy as np  \n",
    "import matplotlib.pyplot as plt \n",
    "%matplotlib inline\n",
    "\n",
    "from datetime import timedelta\n",
    "\n",
    "from sklearn.model_selection import train_test_split\n",
    "from sklearn.metrics import accuracy_score, roc_auc_score, mean_squared_error, confusion_matrix,\\\n",
    "                            f1_score,precision_score,recall_score,classification_report,cohen_kappa_score\n",
    "import xgboost as xgb\n",
    "from sklearn import preprocessing"
   ]
  },
  {
   "cell_type": "code",
   "execution_count": 2,
   "metadata": {
    "scrolled": true
   },
   "outputs": [],
   "source": [
    "# df_events información de eventos realizado en la plataforma para un conjunto de usuarios hasta el 31/05/2018\n",
    "df_events = pd.read_csv('../../data/events_up_to_01062018.csv',dtype=object)\n",
    "# df_train archivo labels_training_set.csv indica para un subconjunto de los usuarios incluidos en el set de \n",
    "# eventos events_up_to_01062018.csv si los mismos realizaron una conversión (columna label = 1) o no (columna \n",
    "# label = 0) desde el 01/06/2018 hasta el 15/06/2018\n",
    "df_labels = pd.read_csv('../../data/labels_training_set.csv',dtype=object)\n",
    "# Personas a predecir conversion.\n",
    "df_person = pd.read_csv('../../data/trocafone_kaggle_test.csv')"
   ]
  },
  {
   "cell_type": "code",
   "execution_count": 3,
   "metadata": {
    "scrolled": true
   },
   "outputs": [
    {
     "name": "stdout",
     "output_type": "stream",
     "text": [
      "<class 'pandas.core.frame.DataFrame'>\n",
      "RangeIndex: 19414 entries, 0 to 19413\n",
      "Data columns (total 2 columns):\n",
      "person    19414 non-null object\n",
      "label     19414 non-null int64\n",
      "dtypes: int64(1), object(1)\n",
      "memory usage: 303.4+ KB\n"
     ]
    }
   ],
   "source": [
    "df_labels['label'] = df_labels['label'].astype(int)\n",
    "df_labels.info()"
   ]
  },
  {
   "cell_type": "code",
   "execution_count": 4,
   "metadata": {
    "scrolled": true
   },
   "outputs": [],
   "source": [
    "df_events[\"timestamp\"] = pd.to_datetime(df_events[\"timestamp\"])\n",
    "df_events[\"month\"] = df_events[\"timestamp\"].dt.month\n",
    "df_events[\"day\"] = df_events[\"timestamp\"].dt.day\n",
    "df_events[\"day_of_week\"] = df_events['timestamp'].dt.weekday_name\n",
    "df_events['day_of_year'] = df_events['timestamp'].dt.dayofyear\n",
    "df_events['hour'] = df_events['timestamp'].dt.hour\n",
    "df_events['minute'] = df_events['timestamp'].dt.minute\n",
    "df_events['week_of_year'] = df_events['timestamp'].dt.weekofyear\n",
    "df_events['second'] = df_events['timestamp'].dt.second"
   ]
  },
  {
   "cell_type": "code",
   "execution_count": 5,
   "metadata": {
    "scrolled": false
   },
   "outputs": [
    {
     "data": {
      "text/plain": [
       "Index(['timestamp', 'event', 'person', 'url', 'sku', 'model', 'condition',\n",
       "       'storage', 'color', 'skus', 'search_term', 'staticpage',\n",
       "       'campaign_source', 'search_engine', 'channel', 'new_vs_returning',\n",
       "       'city', 'region', 'country', 'device_type', 'screen_resolution',\n",
       "       'operating_system_version', 'browser_version', 'month', 'day',\n",
       "       'day_of_week', 'day_of_year', 'hour', 'minute', 'week_of_year',\n",
       "       'second'],\n",
       "      dtype='object')"
      ]
     },
     "execution_count": 5,
     "metadata": {},
     "output_type": "execute_result"
    }
   ],
   "source": [
    "df_events.columns"
   ]
  },
  {
   "cell_type": "code",
   "execution_count": 6,
   "metadata": {},
   "outputs": [],
   "source": [
    "df_todas_las_personas = df_events[['person']].drop_duplicates()"
   ]
  },
  {
   "cell_type": "code",
   "execution_count": 7,
   "metadata": {},
   "outputs": [],
   "source": [
    "# Me quedo solo con los users que tienen label.\n",
    "df_events_con_labels = pd.merge(df_events,df_labels,on = 'person',how = 'inner')"
   ]
  },
  {
   "cell_type": "markdown",
   "metadata": {},
   "source": [
    "# Features\n",
    "* Tiempo que esta en promedio cada vez que entra.\n",
    "* Tratar de sacar cuanto tiempo estuvo la ultima vez que entro\n",
    "    * Fecha de ultima conversion\n",
    "    * Fecha de ultimo checkout\n",
    "    * Fecha de ultima vez que accedio\n",
    "    * Cada cuanto hace checkouts\n",
    "    * Cada cuanto hace compras  \t\t\t (promedio o mediana)\n",
    "* Cada cuanto visita celulares\n",
    "    * Cada cuanto hace eventos. # promedio de diferencia entre fechas consecutivas<\n",
    "* Cada cuanto ve distintos celulares\n",
    "probar con mes semana dia hora minuto\n",
    "\n",
    "* epoch\n",
    "* mas features usando columnas con eventos\n",
    "* cada cuanto hace una busqueda?\n",
    "* cada cuanto clickea una publcidad? \n",
    "* distancia promedio entre epochs consecutivo"
   ]
  },
  {
   "cell_type": "markdown",
   "metadata": {},
   "source": [
    "## Cada cuanto hace eventos"
   ]
  },
  {
   "cell_type": "markdown",
   "metadata": {},
   "source": [
    "#### Cada cuantos dias hace eventos (promedio) "
   ]
  },
  {
   "cell_type": "code",
   "execution_count": 8,
   "metadata": {},
   "outputs": [],
   "source": [
    "df_cadaCuantosDiasHaceEventos = df_events[['person','timestamp','month','day']]"
   ]
  },
  {
   "cell_type": "code",
   "execution_count": 9,
   "metadata": {},
   "outputs": [],
   "source": [
    "df_cadaCuantosDiasHaceEventos = df_cadaCuantosDiasHaceEventos.drop_duplicates(['month','day','person'])\\\n",
    "                                .sort_values('timestamp')"
   ]
  },
  {
   "cell_type": "code",
   "execution_count": 10,
   "metadata": {},
   "outputs": [],
   "source": [
    "# Funcion de agregacion para poder calcular la diferencia entre 2 ingresos consecutivos pero para una persona.\n",
    "def promedioCadaCuantosDiasVuelve(S):\n",
    "    if(len(S) == 1): return 0\n",
    "    return round(np.mean((S - S.shift()).dropna().dt.days))"
   ]
  },
  {
   "cell_type": "code",
   "execution_count": 11,
   "metadata": {
    "scrolled": true
   },
   "outputs": [],
   "source": [
    "df_cadaCuantosDiasHaceEventos = (df_cadaCuantosDiasHaceEventos.groupby('person')['timestamp']\\\n",
    "                                 .agg(promedioCadaCuantosDiasVuelve)).to_frame().reset_index()\n",
    "df_cadaCuantosDiasHaceEventos.columns = ['person','promedioCadaCuantosDiasVuelve']"
   ]
  },
  {
   "cell_type": "code",
   "execution_count": 12,
   "metadata": {
    "scrolled": false
   },
   "outputs": [
    {
     "data": {
      "text/html": [
       "<div>\n",
       "<style scoped>\n",
       "    .dataframe tbody tr th:only-of-type {\n",
       "        vertical-align: middle;\n",
       "    }\n",
       "\n",
       "    .dataframe tbody tr th {\n",
       "        vertical-align: top;\n",
       "    }\n",
       "\n",
       "    .dataframe thead th {\n",
       "        text-align: right;\n",
       "    }\n",
       "</style>\n",
       "<table border=\"1\" class=\"dataframe\">\n",
       "  <thead>\n",
       "    <tr style=\"text-align: right;\">\n",
       "      <th></th>\n",
       "      <th>person</th>\n",
       "      <th>promedioCadaCuantosDiasVuelve</th>\n",
       "    </tr>\n",
       "  </thead>\n",
       "  <tbody>\n",
       "    <tr>\n",
       "      <th>0</th>\n",
       "      <td>0008ed71</td>\n",
       "      <td>0</td>\n",
       "    </tr>\n",
       "    <tr>\n",
       "      <th>1</th>\n",
       "      <td>00091926</td>\n",
       "      <td>1</td>\n",
       "    </tr>\n",
       "    <tr>\n",
       "      <th>2</th>\n",
       "      <td>00091a7a</td>\n",
       "      <td>0</td>\n",
       "    </tr>\n",
       "    <tr>\n",
       "      <th>3</th>\n",
       "      <td>000ba417</td>\n",
       "      <td>4</td>\n",
       "    </tr>\n",
       "    <tr>\n",
       "      <th>4</th>\n",
       "      <td>000c79fe</td>\n",
       "      <td>0</td>\n",
       "    </tr>\n",
       "  </tbody>\n",
       "</table>\n",
       "</div>"
      ],
      "text/plain": [
       "     person  promedioCadaCuantosDiasVuelve\n",
       "0  0008ed71                              0\n",
       "1  00091926                              1\n",
       "2  00091a7a                              0\n",
       "3  000ba417                              4\n",
       "4  000c79fe                              0"
      ]
     },
     "execution_count": 12,
     "metadata": {},
     "output_type": "execute_result"
    }
   ],
   "source": [
    "df_cadaCuantosDiasHaceEventos.head()"
   ]
  },
  {
   "cell_type": "code",
   "execution_count": null,
   "metadata": {},
   "outputs": [],
   "source": [
    "import matplotlib.pyplot as plt\n",
    "import six\n",
    "\n",
    "def render_mpl_table(data, col_width=3.0, row_height=0.625, font_size=14,\n",
    "                     header_color='#40466e', row_colors=['#f1f1f2', 'w'], edge_color='w',\n",
    "                     bbox=[0, 0, 1, 1], header_columns=0,\n",
    "                     ax=None, **kwargs):\n",
    "    if ax is None:\n",
    "        size = (np.array(data.shape[::-1]) + np.array([0, 1])) * np.array([col_width, row_height])\n",
    "        fig, ax = plt.subplots(figsize=size)\n",
    "        ax.axis('off')\n",
    "\n",
    "    mpl_table = ax.table(cellText=data.values, bbox=bbox, colLabels=data.columns, **kwargs)\n",
    "\n",
    "    mpl_table.auto_set_font_size(False)\n",
    "    mpl_table.set_fontsize(font_size)\n",
    "\n",
    "    for k, cell in  six.iteritems(mpl_table._cells):\n",
    "        cell.set_edgecolor(edge_color)\n",
    "        if k[0] == 0 or k[1] < header_columns:\n",
    "            cell.set_text_props(weight='bold', color='w')\n",
    "            cell.set_facecolor(header_color)\n",
    "        else:\n",
    "            cell.set_facecolor(row_colors[k[0]%len(row_colors) ])\n",
    "    return ax\n",
    "\n",
    "render_mpl_table(df, header_columns=0, col_width=2.0)\n"
   ]
  },
  {
   "cell_type": "markdown",
   "metadata": {},
   "source": [
    "Con one hot encoding"
   ]
  },
  {
   "cell_type": "code",
   "execution_count": 227,
   "metadata": {
    "scrolled": true
   },
   "outputs": [
    {
     "data": {
      "text/html": [
       "<div>\n",
       "<style scoped>\n",
       "    .dataframe tbody tr th:only-of-type {\n",
       "        vertical-align: middle;\n",
       "    }\n",
       "\n",
       "    .dataframe tbody tr th {\n",
       "        vertical-align: top;\n",
       "    }\n",
       "\n",
       "    .dataframe thead th {\n",
       "        text-align: right;\n",
       "    }\n",
       "</style>\n",
       "<table border=\"1\" class=\"dataframe\">\n",
       "  <thead>\n",
       "    <tr style=\"text-align: right;\">\n",
       "      <th></th>\n",
       "      <th>neg</th>\n",
       "      <th>pos</th>\n",
       "      <th>dif</th>\n",
       "    </tr>\n",
       "    <tr>\n",
       "      <th>promedioCadaCuantosDiasVuelve</th>\n",
       "      <th></th>\n",
       "      <th></th>\n",
       "      <th></th>\n",
       "    </tr>\n",
       "  </thead>\n",
       "  <tbody>\n",
       "    <tr>\n",
       "      <th>0</th>\n",
       "      <td>0.541554</td>\n",
       "      <td>0.328571</td>\n",
       "      <td>0.212982</td>\n",
       "    </tr>\n",
       "    <tr>\n",
       "      <th>4</th>\n",
       "      <td>0.039655</td>\n",
       "      <td>0.073469</td>\n",
       "      <td>0.033814</td>\n",
       "    </tr>\n",
       "    <tr>\n",
       "      <th>2</th>\n",
       "      <td>0.080015</td>\n",
       "      <td>0.103061</td>\n",
       "      <td>0.023046</td>\n",
       "    </tr>\n",
       "    <tr>\n",
       "      <th>9</th>\n",
       "      <td>0.011446</td>\n",
       "      <td>0.027551</td>\n",
       "      <td>0.016105</td>\n",
       "    </tr>\n",
       "    <tr>\n",
       "      <th>1</th>\n",
       "      <td>0.083813</td>\n",
       "      <td>0.098980</td>\n",
       "      <td>0.015167</td>\n",
       "    </tr>\n",
       "  </tbody>\n",
       "</table>\n",
       "</div>"
      ],
      "text/plain": [
       "                                    neg       pos       dif\n",
       "promedioCadaCuantosDiasVuelve                              \n",
       "0                              0.541554  0.328571  0.212982\n",
       "4                              0.039655  0.073469  0.033814\n",
       "2                              0.080015  0.103061  0.023046\n",
       "9                              0.011446  0.027551  0.016105\n",
       "1                              0.083813  0.098980  0.015167"
      ]
     },
     "execution_count": 227,
     "metadata": {},
     "output_type": "execute_result"
    }
   ],
   "source": [
    "a = pd.merge(df_labels,df_cadaCuantosDiasHaceEventos,on = 'person', how = 'inner')\n",
    "a = a.groupby(['promedioCadaCuantosDiasVuelve','label']).count().unstack()\n",
    "a.columns = ['neg','pos']\n",
    "a['neg'] = a['neg'] / a['neg'].sum()\n",
    "a['pos'] = a['pos'] / a['pos'].sum()\n",
    "a['dif'] = np.abs(a['pos'] - a['neg'])\n",
    "a.sort_values('dif',ascending = False, inplace = True)\n",
    "a.head()"
   ]
  },
  {
   "cell_type": "code",
   "execution_count": 228,
   "metadata": {},
   "outputs": [],
   "source": [
    "K = 15\n",
    "top_columnas = list(a.head(K).index)\n",
    "top_columnas2 = list(df_cadaCuantosDiasHaceEventos['promedioCadaCuantosDiasVuelve'].value_counts().head(K).index)\n",
    "df_cadaCuantosDiasHaceEventos_conOneHot = pd.concat([df_cadaCuantosDiasHaceEventos['person'],pd.get_dummies(df_cadaCuantosDiasHaceEventos['promedioCadaCuantosDiasVuelve'])[top_columnas]],axis = 1)"
   ]
  },
  {
   "cell_type": "code",
   "execution_count": 229,
   "metadata": {},
   "outputs": [],
   "source": [
    "nombres_columnas = ['cadaCuantosDiasHaceEventos_'+str(columna) for columna in df_cadaCuantosDiasHaceEventos_conOneHot.columns]\n",
    "nombres_columnas[0] = 'person'\n",
    "df_cadaCuantosDiasHaceEventos_conOneHot.columns = nombres_columnas"
   ]
  },
  {
   "cell_type": "code",
   "execution_count": 230,
   "metadata": {
    "scrolled": false
   },
   "outputs": [
    {
     "data": {
      "text/html": [
       "<div>\n",
       "<style scoped>\n",
       "    .dataframe tbody tr th:only-of-type {\n",
       "        vertical-align: middle;\n",
       "    }\n",
       "\n",
       "    .dataframe tbody tr th {\n",
       "        vertical-align: top;\n",
       "    }\n",
       "\n",
       "    .dataframe thead th {\n",
       "        text-align: right;\n",
       "    }\n",
       "</style>\n",
       "<table border=\"1\" class=\"dataframe\">\n",
       "  <thead>\n",
       "    <tr style=\"text-align: right;\">\n",
       "      <th></th>\n",
       "      <th>person</th>\n",
       "      <th>cadaCuantosDiasHaceEventos_0</th>\n",
       "      <th>cadaCuantosDiasHaceEventos_4</th>\n",
       "      <th>cadaCuantosDiasHaceEventos_2</th>\n",
       "      <th>cadaCuantosDiasHaceEventos_9</th>\n",
       "      <th>cadaCuantosDiasHaceEventos_1</th>\n",
       "      <th>cadaCuantosDiasHaceEventos_6</th>\n",
       "      <th>cadaCuantosDiasHaceEventos_8</th>\n",
       "      <th>cadaCuantosDiasHaceEventos_5</th>\n",
       "      <th>cadaCuantosDiasHaceEventos_11</th>\n",
       "      <th>cadaCuantosDiasHaceEventos_7</th>\n",
       "      <th>cadaCuantosDiasHaceEventos_13</th>\n",
       "      <th>cadaCuantosDiasHaceEventos_10</th>\n",
       "      <th>cadaCuantosDiasHaceEventos_3</th>\n",
       "      <th>cadaCuantosDiasHaceEventos_16</th>\n",
       "      <th>cadaCuantosDiasHaceEventos_14</th>\n",
       "    </tr>\n",
       "  </thead>\n",
       "  <tbody>\n",
       "    <tr>\n",
       "      <th>0</th>\n",
       "      <td>0008ed71</td>\n",
       "      <td>1</td>\n",
       "      <td>0</td>\n",
       "      <td>0</td>\n",
       "      <td>0</td>\n",
       "      <td>0</td>\n",
       "      <td>0</td>\n",
       "      <td>0</td>\n",
       "      <td>0</td>\n",
       "      <td>0</td>\n",
       "      <td>0</td>\n",
       "      <td>0</td>\n",
       "      <td>0</td>\n",
       "      <td>0</td>\n",
       "      <td>0</td>\n",
       "      <td>0</td>\n",
       "    </tr>\n",
       "    <tr>\n",
       "      <th>1</th>\n",
       "      <td>00091926</td>\n",
       "      <td>0</td>\n",
       "      <td>0</td>\n",
       "      <td>0</td>\n",
       "      <td>0</td>\n",
       "      <td>1</td>\n",
       "      <td>0</td>\n",
       "      <td>0</td>\n",
       "      <td>0</td>\n",
       "      <td>0</td>\n",
       "      <td>0</td>\n",
       "      <td>0</td>\n",
       "      <td>0</td>\n",
       "      <td>0</td>\n",
       "      <td>0</td>\n",
       "      <td>0</td>\n",
       "    </tr>\n",
       "    <tr>\n",
       "      <th>2</th>\n",
       "      <td>00091a7a</td>\n",
       "      <td>1</td>\n",
       "      <td>0</td>\n",
       "      <td>0</td>\n",
       "      <td>0</td>\n",
       "      <td>0</td>\n",
       "      <td>0</td>\n",
       "      <td>0</td>\n",
       "      <td>0</td>\n",
       "      <td>0</td>\n",
       "      <td>0</td>\n",
       "      <td>0</td>\n",
       "      <td>0</td>\n",
       "      <td>0</td>\n",
       "      <td>0</td>\n",
       "      <td>0</td>\n",
       "    </tr>\n",
       "    <tr>\n",
       "      <th>3</th>\n",
       "      <td>000ba417</td>\n",
       "      <td>0</td>\n",
       "      <td>1</td>\n",
       "      <td>0</td>\n",
       "      <td>0</td>\n",
       "      <td>0</td>\n",
       "      <td>0</td>\n",
       "      <td>0</td>\n",
       "      <td>0</td>\n",
       "      <td>0</td>\n",
       "      <td>0</td>\n",
       "      <td>0</td>\n",
       "      <td>0</td>\n",
       "      <td>0</td>\n",
       "      <td>0</td>\n",
       "      <td>0</td>\n",
       "    </tr>\n",
       "    <tr>\n",
       "      <th>4</th>\n",
       "      <td>000c79fe</td>\n",
       "      <td>1</td>\n",
       "      <td>0</td>\n",
       "      <td>0</td>\n",
       "      <td>0</td>\n",
       "      <td>0</td>\n",
       "      <td>0</td>\n",
       "      <td>0</td>\n",
       "      <td>0</td>\n",
       "      <td>0</td>\n",
       "      <td>0</td>\n",
       "      <td>0</td>\n",
       "      <td>0</td>\n",
       "      <td>0</td>\n",
       "      <td>0</td>\n",
       "      <td>0</td>\n",
       "    </tr>\n",
       "  </tbody>\n",
       "</table>\n",
       "</div>"
      ],
      "text/plain": [
       "     person  cadaCuantosDiasHaceEventos_0  cadaCuantosDiasHaceEventos_4  \\\n",
       "0  0008ed71                             1                             0   \n",
       "1  00091926                             0                             0   \n",
       "2  00091a7a                             1                             0   \n",
       "3  000ba417                             0                             1   \n",
       "4  000c79fe                             1                             0   \n",
       "\n",
       "   cadaCuantosDiasHaceEventos_2  cadaCuantosDiasHaceEventos_9  \\\n",
       "0                             0                             0   \n",
       "1                             0                             0   \n",
       "2                             0                             0   \n",
       "3                             0                             0   \n",
       "4                             0                             0   \n",
       "\n",
       "   cadaCuantosDiasHaceEventos_1  cadaCuantosDiasHaceEventos_6  \\\n",
       "0                             0                             0   \n",
       "1                             1                             0   \n",
       "2                             0                             0   \n",
       "3                             0                             0   \n",
       "4                             0                             0   \n",
       "\n",
       "   cadaCuantosDiasHaceEventos_8  cadaCuantosDiasHaceEventos_5  \\\n",
       "0                             0                             0   \n",
       "1                             0                             0   \n",
       "2                             0                             0   \n",
       "3                             0                             0   \n",
       "4                             0                             0   \n",
       "\n",
       "   cadaCuantosDiasHaceEventos_11  cadaCuantosDiasHaceEventos_7  \\\n",
       "0                              0                             0   \n",
       "1                              0                             0   \n",
       "2                              0                             0   \n",
       "3                              0                             0   \n",
       "4                              0                             0   \n",
       "\n",
       "   cadaCuantosDiasHaceEventos_13  cadaCuantosDiasHaceEventos_10  \\\n",
       "0                              0                              0   \n",
       "1                              0                              0   \n",
       "2                              0                              0   \n",
       "3                              0                              0   \n",
       "4                              0                              0   \n",
       "\n",
       "   cadaCuantosDiasHaceEventos_3  cadaCuantosDiasHaceEventos_16  \\\n",
       "0                             0                              0   \n",
       "1                             0                              0   \n",
       "2                             0                              0   \n",
       "3                             0                              0   \n",
       "4                             0                              0   \n",
       "\n",
       "   cadaCuantosDiasHaceEventos_14  \n",
       "0                              0  \n",
       "1                              0  \n",
       "2                              0  \n",
       "3                              0  \n",
       "4                              0  "
      ]
     },
     "execution_count": 230,
     "metadata": {},
     "output_type": "execute_result"
    }
   ],
   "source": [
    "df_cadaCuantosDiasHaceEventos_conOneHot.head()"
   ]
  },
  {
   "cell_type": "markdown",
   "metadata": {},
   "source": [
    "#### Cada cuantas horas hace eventos (promedio)"
   ]
  },
  {
   "cell_type": "code",
   "execution_count": 231,
   "metadata": {},
   "outputs": [],
   "source": [
    "df_cadaCuantasHorasHaceEventos = df_events[['person','timestamp','month','day','hour']]"
   ]
  },
  {
   "cell_type": "code",
   "execution_count": 232,
   "metadata": {},
   "outputs": [],
   "source": [
    "df_cadaCuantasHorasHaceEventos = df_cadaCuantasHorasHaceEventos.drop_duplicates(['month','day','hour','person'])\\\n",
    "                                .sort_values('timestamp')"
   ]
  },
  {
   "cell_type": "code",
   "execution_count": 233,
   "metadata": {},
   "outputs": [],
   "source": [
    "def secToHours(seconds):\n",
    "    return seconds//3600\n",
    "def secToMinutes(seconds):\n",
    "    return (seconds//60)"
   ]
  },
  {
   "cell_type": "code",
   "execution_count": 234,
   "metadata": {},
   "outputs": [],
   "source": [
    "# Funcion de agregacion para poder calcular la diferencia entre 2 ingresos consecutivos pero para una persona.w\n",
    "def promedioCadaCuantasHorasHaceEventos(S):\n",
    "    if(len(S) == 1): return 0\n",
    "    return round(np.mean(((S - S.shift()).dropna().dt.total_seconds()).apply(secToHours)))"
   ]
  },
  {
   "cell_type": "code",
   "execution_count": 235,
   "metadata": {
    "scrolled": false
   },
   "outputs": [],
   "source": [
    "df_cadaCuantasHorasHaceEventos = (df_cadaCuantasHorasHaceEventos.groupby('person')['timestamp']\\\n",
    "                                 .agg(promedioCadaCuantasHorasHaceEventos)).to_frame().reset_index()\n",
    "df_cadaCuantasHorasHaceEventos.columns = ['person','cadaCuantasHorasHaceEventos']"
   ]
  },
  {
   "cell_type": "code",
   "execution_count": 236,
   "metadata": {
    "scrolled": true
   },
   "outputs": [
    {
     "data": {
      "text/html": [
       "<div>\n",
       "<style scoped>\n",
       "    .dataframe tbody tr th:only-of-type {\n",
       "        vertical-align: middle;\n",
       "    }\n",
       "\n",
       "    .dataframe tbody tr th {\n",
       "        vertical-align: top;\n",
       "    }\n",
       "\n",
       "    .dataframe thead th {\n",
       "        text-align: right;\n",
       "    }\n",
       "</style>\n",
       "<table border=\"1\" class=\"dataframe\">\n",
       "  <thead>\n",
       "    <tr style=\"text-align: right;\">\n",
       "      <th></th>\n",
       "      <th>person</th>\n",
       "      <th>cadaCuantasHorasHaceEventos</th>\n",
       "    </tr>\n",
       "  </thead>\n",
       "  <tbody>\n",
       "    <tr>\n",
       "      <th>0</th>\n",
       "      <td>0008ed71</td>\n",
       "      <td>2</td>\n",
       "    </tr>\n",
       "    <tr>\n",
       "      <th>1</th>\n",
       "      <td>00091926</td>\n",
       "      <td>18</td>\n",
       "    </tr>\n",
       "    <tr>\n",
       "      <th>2</th>\n",
       "      <td>00091a7a</td>\n",
       "      <td>0</td>\n",
       "    </tr>\n",
       "    <tr>\n",
       "      <th>3</th>\n",
       "      <td>000ba417</td>\n",
       "      <td>27</td>\n",
       "    </tr>\n",
       "    <tr>\n",
       "      <th>4</th>\n",
       "      <td>000c79fe</td>\n",
       "      <td>0</td>\n",
       "    </tr>\n",
       "  </tbody>\n",
       "</table>\n",
       "</div>"
      ],
      "text/plain": [
       "     person  cadaCuantasHorasHaceEventos\n",
       "0  0008ed71                            2\n",
       "1  00091926                           18\n",
       "2  00091a7a                            0\n",
       "3  000ba417                           27\n",
       "4  000c79fe                            0"
      ]
     },
     "execution_count": 236,
     "metadata": {},
     "output_type": "execute_result"
    }
   ],
   "source": [
    "df_cadaCuantasHorasHaceEventos.head()"
   ]
  },
  {
   "cell_type": "markdown",
   "metadata": {},
   "source": [
    "Con one hot encoding"
   ]
  },
  {
   "cell_type": "code",
   "execution_count": 237,
   "metadata": {
    "scrolled": true
   },
   "outputs": [
    {
     "data": {
      "text/html": [
       "<div>\n",
       "<style scoped>\n",
       "    .dataframe tbody tr th:only-of-type {\n",
       "        vertical-align: middle;\n",
       "    }\n",
       "\n",
       "    .dataframe tbody tr th {\n",
       "        vertical-align: top;\n",
       "    }\n",
       "\n",
       "    .dataframe thead th {\n",
       "        text-align: right;\n",
       "    }\n",
       "</style>\n",
       "<table border=\"1\" class=\"dataframe\">\n",
       "  <thead>\n",
       "    <tr style=\"text-align: right;\">\n",
       "      <th></th>\n",
       "      <th>neg</th>\n",
       "      <th>pos</th>\n",
       "      <th>dif</th>\n",
       "    </tr>\n",
       "    <tr>\n",
       "      <th>cadaCuantasHorasHaceEventos</th>\n",
       "      <th></th>\n",
       "      <th></th>\n",
       "      <th></th>\n",
       "    </tr>\n",
       "  </thead>\n",
       "  <tbody>\n",
       "    <tr>\n",
       "      <th>0</th>\n",
       "      <td>0.420256</td>\n",
       "      <td>0.230612</td>\n",
       "      <td>0.189644</td>\n",
       "    </tr>\n",
       "    <tr>\n",
       "      <th>12</th>\n",
       "      <td>0.011012</td>\n",
       "      <td>0.005102</td>\n",
       "      <td>0.005910</td>\n",
       "    </tr>\n",
       "    <tr>\n",
       "      <th>130</th>\n",
       "      <td>0.001302</td>\n",
       "      <td>0.007143</td>\n",
       "      <td>0.005841</td>\n",
       "    </tr>\n",
       "    <tr>\n",
       "      <th>24</th>\n",
       "      <td>0.007812</td>\n",
       "      <td>0.013265</td>\n",
       "      <td>0.005454</td>\n",
       "    </tr>\n",
       "    <tr>\n",
       "      <th>1</th>\n",
       "      <td>0.017630</td>\n",
       "      <td>0.012245</td>\n",
       "      <td>0.005386</td>\n",
       "    </tr>\n",
       "  </tbody>\n",
       "</table>\n",
       "</div>"
      ],
      "text/plain": [
       "                                  neg       pos       dif\n",
       "cadaCuantasHorasHaceEventos                              \n",
       "0                            0.420256  0.230612  0.189644\n",
       "12                           0.011012  0.005102  0.005910\n",
       "130                          0.001302  0.007143  0.005841\n",
       "24                           0.007812  0.013265  0.005454\n",
       "1                            0.017630  0.012245  0.005386"
      ]
     },
     "execution_count": 237,
     "metadata": {},
     "output_type": "execute_result"
    }
   ],
   "source": [
    "a = pd.merge(df_labels,df_cadaCuantasHorasHaceEventos,on = 'person', how = 'inner')\n",
    "a = a.groupby(['cadaCuantasHorasHaceEventos','label']).count().unstack()\n",
    "a.columns = ['neg','pos']\n",
    "a['neg'] = a['neg'] / a['neg'].sum()\n",
    "a['pos'] = a['pos'] / a['pos'].sum()\n",
    "a['dif'] = np.abs(a['pos'] - a['neg'])\n",
    "a.sort_values('dif',ascending = False, inplace = True)\n",
    "a.head()"
   ]
  },
  {
   "cell_type": "code",
   "execution_count": 238,
   "metadata": {},
   "outputs": [],
   "source": [
    "K = 15\n",
    "top_columnas = list(a.head(K).index)\n",
    "top_columnas2 = list(df_cadaCuantasHorasHaceEventos['cadaCuantasHorasHaceEventos'].value_counts().head(K).index)\n",
    "df_cadaCuantasHorasHaceEventos_conOneHot = pd.concat([df_cadaCuantasHorasHaceEventos['person'],pd.get_dummies(df_cadaCuantasHorasHaceEventos['cadaCuantasHorasHaceEventos'])[top_columnas]],axis = 1)"
   ]
  },
  {
   "cell_type": "code",
   "execution_count": 239,
   "metadata": {},
   "outputs": [],
   "source": [
    "nombres_columnas = ['cadaCuantasHorasHaceEventos_'+str(columna) for columna in df_cadaCuantasHorasHaceEventos_conOneHot.columns]\n",
    "nombres_columnas[0] = 'person'\n",
    "df_cadaCuantasHorasHaceEventos_conOneHot.columns = nombres_columnas"
   ]
  },
  {
   "cell_type": "code",
   "execution_count": 240,
   "metadata": {
    "scrolled": false
   },
   "outputs": [
    {
     "data": {
      "text/html": [
       "<div>\n",
       "<style scoped>\n",
       "    .dataframe tbody tr th:only-of-type {\n",
       "        vertical-align: middle;\n",
       "    }\n",
       "\n",
       "    .dataframe tbody tr th {\n",
       "        vertical-align: top;\n",
       "    }\n",
       "\n",
       "    .dataframe thead th {\n",
       "        text-align: right;\n",
       "    }\n",
       "</style>\n",
       "<table border=\"1\" class=\"dataframe\">\n",
       "  <thead>\n",
       "    <tr style=\"text-align: right;\">\n",
       "      <th></th>\n",
       "      <th>person</th>\n",
       "      <th>cadaCuantasHorasHaceEventos_0</th>\n",
       "      <th>cadaCuantasHorasHaceEventos_12</th>\n",
       "      <th>cadaCuantasHorasHaceEventos_130</th>\n",
       "      <th>cadaCuantasHorasHaceEventos_24</th>\n",
       "      <th>cadaCuantasHorasHaceEventos_1</th>\n",
       "      <th>cadaCuantasHorasHaceEventos_39</th>\n",
       "      <th>cadaCuantasHorasHaceEventos_4</th>\n",
       "      <th>cadaCuantasHorasHaceEventos_28</th>\n",
       "      <th>cadaCuantasHorasHaceEventos_2</th>\n",
       "      <th>cadaCuantasHorasHaceEventos_170</th>\n",
       "      <th>cadaCuantasHorasHaceEventos_37</th>\n",
       "      <th>cadaCuantasHorasHaceEventos_8</th>\n",
       "      <th>cadaCuantasHorasHaceEventos_143</th>\n",
       "      <th>cadaCuantasHorasHaceEventos_30</th>\n",
       "      <th>cadaCuantasHorasHaceEventos_23</th>\n",
       "    </tr>\n",
       "  </thead>\n",
       "  <tbody>\n",
       "    <tr>\n",
       "      <th>0</th>\n",
       "      <td>0008ed71</td>\n",
       "      <td>0</td>\n",
       "      <td>0</td>\n",
       "      <td>0</td>\n",
       "      <td>0</td>\n",
       "      <td>0</td>\n",
       "      <td>0</td>\n",
       "      <td>0</td>\n",
       "      <td>0</td>\n",
       "      <td>1</td>\n",
       "      <td>0</td>\n",
       "      <td>0</td>\n",
       "      <td>0</td>\n",
       "      <td>0</td>\n",
       "      <td>0</td>\n",
       "      <td>0</td>\n",
       "    </tr>\n",
       "    <tr>\n",
       "      <th>1</th>\n",
       "      <td>00091926</td>\n",
       "      <td>0</td>\n",
       "      <td>0</td>\n",
       "      <td>0</td>\n",
       "      <td>0</td>\n",
       "      <td>0</td>\n",
       "      <td>0</td>\n",
       "      <td>0</td>\n",
       "      <td>0</td>\n",
       "      <td>0</td>\n",
       "      <td>0</td>\n",
       "      <td>0</td>\n",
       "      <td>0</td>\n",
       "      <td>0</td>\n",
       "      <td>0</td>\n",
       "      <td>0</td>\n",
       "    </tr>\n",
       "    <tr>\n",
       "      <th>2</th>\n",
       "      <td>00091a7a</td>\n",
       "      <td>1</td>\n",
       "      <td>0</td>\n",
       "      <td>0</td>\n",
       "      <td>0</td>\n",
       "      <td>0</td>\n",
       "      <td>0</td>\n",
       "      <td>0</td>\n",
       "      <td>0</td>\n",
       "      <td>0</td>\n",
       "      <td>0</td>\n",
       "      <td>0</td>\n",
       "      <td>0</td>\n",
       "      <td>0</td>\n",
       "      <td>0</td>\n",
       "      <td>0</td>\n",
       "    </tr>\n",
       "    <tr>\n",
       "      <th>3</th>\n",
       "      <td>000ba417</td>\n",
       "      <td>0</td>\n",
       "      <td>0</td>\n",
       "      <td>0</td>\n",
       "      <td>0</td>\n",
       "      <td>0</td>\n",
       "      <td>0</td>\n",
       "      <td>0</td>\n",
       "      <td>0</td>\n",
       "      <td>0</td>\n",
       "      <td>0</td>\n",
       "      <td>0</td>\n",
       "      <td>0</td>\n",
       "      <td>0</td>\n",
       "      <td>0</td>\n",
       "      <td>0</td>\n",
       "    </tr>\n",
       "    <tr>\n",
       "      <th>4</th>\n",
       "      <td>000c79fe</td>\n",
       "      <td>1</td>\n",
       "      <td>0</td>\n",
       "      <td>0</td>\n",
       "      <td>0</td>\n",
       "      <td>0</td>\n",
       "      <td>0</td>\n",
       "      <td>0</td>\n",
       "      <td>0</td>\n",
       "      <td>0</td>\n",
       "      <td>0</td>\n",
       "      <td>0</td>\n",
       "      <td>0</td>\n",
       "      <td>0</td>\n",
       "      <td>0</td>\n",
       "      <td>0</td>\n",
       "    </tr>\n",
       "  </tbody>\n",
       "</table>\n",
       "</div>"
      ],
      "text/plain": [
       "     person  cadaCuantasHorasHaceEventos_0  cadaCuantasHorasHaceEventos_12  \\\n",
       "0  0008ed71                              0                               0   \n",
       "1  00091926                              0                               0   \n",
       "2  00091a7a                              1                               0   \n",
       "3  000ba417                              0                               0   \n",
       "4  000c79fe                              1                               0   \n",
       "\n",
       "   cadaCuantasHorasHaceEventos_130  cadaCuantasHorasHaceEventos_24  \\\n",
       "0                                0                               0   \n",
       "1                                0                               0   \n",
       "2                                0                               0   \n",
       "3                                0                               0   \n",
       "4                                0                               0   \n",
       "\n",
       "   cadaCuantasHorasHaceEventos_1  cadaCuantasHorasHaceEventos_39  \\\n",
       "0                              0                               0   \n",
       "1                              0                               0   \n",
       "2                              0                               0   \n",
       "3                              0                               0   \n",
       "4                              0                               0   \n",
       "\n",
       "   cadaCuantasHorasHaceEventos_4  cadaCuantasHorasHaceEventos_28  \\\n",
       "0                              0                               0   \n",
       "1                              0                               0   \n",
       "2                              0                               0   \n",
       "3                              0                               0   \n",
       "4                              0                               0   \n",
       "\n",
       "   cadaCuantasHorasHaceEventos_2  cadaCuantasHorasHaceEventos_170  \\\n",
       "0                              1                                0   \n",
       "1                              0                                0   \n",
       "2                              0                                0   \n",
       "3                              0                                0   \n",
       "4                              0                                0   \n",
       "\n",
       "   cadaCuantasHorasHaceEventos_37  cadaCuantasHorasHaceEventos_8  \\\n",
       "0                               0                              0   \n",
       "1                               0                              0   \n",
       "2                               0                              0   \n",
       "3                               0                              0   \n",
       "4                               0                              0   \n",
       "\n",
       "   cadaCuantasHorasHaceEventos_143  cadaCuantasHorasHaceEventos_30  \\\n",
       "0                                0                               0   \n",
       "1                                0                               0   \n",
       "2                                0                               0   \n",
       "3                                0                               0   \n",
       "4                                0                               0   \n",
       "\n",
       "   cadaCuantasHorasHaceEventos_23  \n",
       "0                               0  \n",
       "1                               0  \n",
       "2                               0  \n",
       "3                               0  \n",
       "4                               0  "
      ]
     },
     "execution_count": 240,
     "metadata": {},
     "output_type": "execute_result"
    }
   ],
   "source": [
    "df_cadaCuantasHorasHaceEventos_conOneHot.head()"
   ]
  },
  {
   "cell_type": "markdown",
   "metadata": {},
   "source": [
    "#### Cada cuantos minutos hace eventos (promedio)"
   ]
  },
  {
   "cell_type": "code",
   "execution_count": 241,
   "metadata": {},
   "outputs": [],
   "source": [
    "df_cadaCuantosMinutosHaceEventos = df_events[['person','timestamp','month','day','hour','minute']]"
   ]
  },
  {
   "cell_type": "code",
   "execution_count": 242,
   "metadata": {},
   "outputs": [],
   "source": [
    "df_cadaCuantosMinutosHaceEventos = df_cadaCuantosMinutosHaceEventos.drop_duplicates(['month','day','hour','person','minute'])\\\n",
    "                                .sort_values('timestamp')"
   ]
  },
  {
   "cell_type": "code",
   "execution_count": 243,
   "metadata": {},
   "outputs": [],
   "source": [
    "# Funcion de agregacion para poder calcular la diferencia entre 2 ingresos consecutivos pero para una persona.\n",
    "def promedioCadaCuantosMinutosHaceEventos(S):\n",
    "    if(len(S) == 1): return 0\n",
    "    return round(np.mean(((S - S.shift()).dropna().dt.total_seconds()).apply(secToMinutes)))"
   ]
  },
  {
   "cell_type": "code",
   "execution_count": 244,
   "metadata": {
    "scrolled": true
   },
   "outputs": [],
   "source": [
    "df_cadaCuantosMinutosHaceEventos = (df_cadaCuantosMinutosHaceEventos.groupby('person')['timestamp']\\\n",
    "                                 .agg(promedioCadaCuantosMinutosHaceEventos)).to_frame().reset_index()\n",
    "df_cadaCuantosMinutosHaceEventos.columns = ['person','cadaCuantosMinutosHaceEventos']"
   ]
  },
  {
   "cell_type": "code",
   "execution_count": 245,
   "metadata": {
    "scrolled": false
   },
   "outputs": [
    {
     "data": {
      "text/html": [
       "<div>\n",
       "<style scoped>\n",
       "    .dataframe tbody tr th:only-of-type {\n",
       "        vertical-align: middle;\n",
       "    }\n",
       "\n",
       "    .dataframe tbody tr th {\n",
       "        vertical-align: top;\n",
       "    }\n",
       "\n",
       "    .dataframe thead th {\n",
       "        text-align: right;\n",
       "    }\n",
       "</style>\n",
       "<table border=\"1\" class=\"dataframe\">\n",
       "  <thead>\n",
       "    <tr style=\"text-align: right;\">\n",
       "      <th></th>\n",
       "      <th>person</th>\n",
       "      <th>cadaCuantosMinutosHaceEventos</th>\n",
       "    </tr>\n",
       "  </thead>\n",
       "  <tbody>\n",
       "    <tr>\n",
       "      <th>0</th>\n",
       "      <td>0008ed71</td>\n",
       "      <td>48</td>\n",
       "    </tr>\n",
       "    <tr>\n",
       "      <th>1</th>\n",
       "      <td>00091926</td>\n",
       "      <td>340</td>\n",
       "    </tr>\n",
       "    <tr>\n",
       "      <th>2</th>\n",
       "      <td>00091a7a</td>\n",
       "      <td>2</td>\n",
       "    </tr>\n",
       "    <tr>\n",
       "      <th>3</th>\n",
       "      <td>000ba417</td>\n",
       "      <td>167</td>\n",
       "    </tr>\n",
       "    <tr>\n",
       "      <th>4</th>\n",
       "      <td>000c79fe</td>\n",
       "      <td>1</td>\n",
       "    </tr>\n",
       "  </tbody>\n",
       "</table>\n",
       "</div>"
      ],
      "text/plain": [
       "     person  cadaCuantosMinutosHaceEventos\n",
       "0  0008ed71                             48\n",
       "1  00091926                            340\n",
       "2  00091a7a                              2\n",
       "3  000ba417                            167\n",
       "4  000c79fe                              1"
      ]
     },
     "execution_count": 245,
     "metadata": {},
     "output_type": "execute_result"
    }
   ],
   "source": [
    "df_cadaCuantosMinutosHaceEventos.head()"
   ]
  },
  {
   "cell_type": "markdown",
   "metadata": {},
   "source": [
    "Con one hot encoding"
   ]
  },
  {
   "cell_type": "code",
   "execution_count": 246,
   "metadata": {
    "scrolled": true
   },
   "outputs": [
    {
     "data": {
      "text/html": [
       "<div>\n",
       "<style scoped>\n",
       "    .dataframe tbody tr th:only-of-type {\n",
       "        vertical-align: middle;\n",
       "    }\n",
       "\n",
       "    .dataframe tbody tr th {\n",
       "        vertical-align: top;\n",
       "    }\n",
       "\n",
       "    .dataframe thead th {\n",
       "        text-align: right;\n",
       "    }\n",
       "</style>\n",
       "<table border=\"1\" class=\"dataframe\">\n",
       "  <thead>\n",
       "    <tr style=\"text-align: right;\">\n",
       "      <th></th>\n",
       "      <th>neg</th>\n",
       "      <th>pos</th>\n",
       "      <th>dif</th>\n",
       "    </tr>\n",
       "    <tr>\n",
       "      <th>cadaCuantosMinutosHaceEventos</th>\n",
       "      <th></th>\n",
       "      <th></th>\n",
       "      <th></th>\n",
       "    </tr>\n",
       "  </thead>\n",
       "  <tbody>\n",
       "    <tr>\n",
       "      <th>0</th>\n",
       "      <td>0.185689</td>\n",
       "      <td>0.104082</td>\n",
       "      <td>0.081608</td>\n",
       "    </tr>\n",
       "    <tr>\n",
       "      <th>1</th>\n",
       "      <td>0.107139</td>\n",
       "      <td>0.056122</td>\n",
       "      <td>0.051017</td>\n",
       "    </tr>\n",
       "    <tr>\n",
       "      <th>2</th>\n",
       "      <td>0.050993</td>\n",
       "      <td>0.037755</td>\n",
       "      <td>0.013238</td>\n",
       "    </tr>\n",
       "    <tr>\n",
       "      <th>3</th>\n",
       "      <td>0.020397</td>\n",
       "      <td>0.011224</td>\n",
       "      <td>0.009173</td>\n",
       "    </tr>\n",
       "    <tr>\n",
       "      <th>4</th>\n",
       "      <td>0.015569</td>\n",
       "      <td>0.008163</td>\n",
       "      <td>0.007406</td>\n",
       "    </tr>\n",
       "  </tbody>\n",
       "</table>\n",
       "</div>"
      ],
      "text/plain": [
       "                                    neg       pos       dif\n",
       "cadaCuantosMinutosHaceEventos                              \n",
       "0                              0.185689  0.104082  0.081608\n",
       "1                              0.107139  0.056122  0.051017\n",
       "2                              0.050993  0.037755  0.013238\n",
       "3                              0.020397  0.011224  0.009173\n",
       "4                              0.015569  0.008163  0.007406"
      ]
     },
     "execution_count": 246,
     "metadata": {},
     "output_type": "execute_result"
    }
   ],
   "source": [
    "a = pd.merge(df_labels,df_cadaCuantosMinutosHaceEventos,on = 'person', how = 'inner')\n",
    "a = a.groupby(['cadaCuantosMinutosHaceEventos','label']).count().unstack()\n",
    "a.columns = ['neg','pos']\n",
    "a['neg'] = a['neg'] / a['neg'].sum()\n",
    "a['pos'] = a['pos'] / a['pos'].sum()\n",
    "a['dif'] = np.abs(a['pos'] - a['neg'])\n",
    "a.sort_values('dif',ascending = False, inplace = True)\n",
    "a.head()"
   ]
  },
  {
   "cell_type": "code",
   "execution_count": 247,
   "metadata": {},
   "outputs": [],
   "source": [
    "K = 15\n",
    "top_columnas = list(a.head(K).index)\n",
    "top_columnas2 = list(df_cadaCuantosMinutosHaceEventos['cadaCuantosMinutosHaceEventos'].value_counts().head(K).index)\n",
    "df_cadaCuantosMinutosHaceEventos_conOneHot = pd.concat([df_cadaCuantosMinutosHaceEventos['person'],pd.get_dummies(df_cadaCuantosMinutosHaceEventos['cadaCuantosMinutosHaceEventos'])[top_columnas]],axis = 1)"
   ]
  },
  {
   "cell_type": "code",
   "execution_count": 248,
   "metadata": {},
   "outputs": [],
   "source": [
    "nombres_columnas = ['cadaCuantosMinutosHaceEventos_'+str(columna) for columna in df_cadaCuantosMinutosHaceEventos_conOneHot.columns]\n",
    "nombres_columnas[0] = 'person'\n",
    "df_cadaCuantosMinutosHaceEventos_conOneHot.columns = nombres_columnas"
   ]
  },
  {
   "cell_type": "code",
   "execution_count": 249,
   "metadata": {
    "scrolled": true
   },
   "outputs": [
    {
     "data": {
      "text/html": [
       "<div>\n",
       "<style scoped>\n",
       "    .dataframe tbody tr th:only-of-type {\n",
       "        vertical-align: middle;\n",
       "    }\n",
       "\n",
       "    .dataframe tbody tr th {\n",
       "        vertical-align: top;\n",
       "    }\n",
       "\n",
       "    .dataframe thead th {\n",
       "        text-align: right;\n",
       "    }\n",
       "</style>\n",
       "<table border=\"1\" class=\"dataframe\">\n",
       "  <thead>\n",
       "    <tr style=\"text-align: right;\">\n",
       "      <th></th>\n",
       "      <th>person</th>\n",
       "      <th>cadaCuantosMinutosHaceEventos_0</th>\n",
       "      <th>cadaCuantosMinutosHaceEventos_1</th>\n",
       "      <th>cadaCuantosMinutosHaceEventos_2</th>\n",
       "      <th>cadaCuantosMinutosHaceEventos_3</th>\n",
       "      <th>cadaCuantosMinutosHaceEventos_4</th>\n",
       "      <th>cadaCuantosMinutosHaceEventos_5</th>\n",
       "      <th>cadaCuantosMinutosHaceEventos_6</th>\n",
       "      <th>cadaCuantosMinutosHaceEventos_8</th>\n",
       "      <th>cadaCuantosMinutosHaceEventos_1992</th>\n",
       "      <th>cadaCuantosMinutosHaceEventos_273</th>\n",
       "      <th>cadaCuantosMinutosHaceEventos_284</th>\n",
       "      <th>cadaCuantosMinutosHaceEventos_205</th>\n",
       "      <th>cadaCuantosMinutosHaceEventos_9</th>\n",
       "      <th>cadaCuantosMinutosHaceEventos_476</th>\n",
       "      <th>cadaCuantosMinutosHaceEventos_320</th>\n",
       "    </tr>\n",
       "  </thead>\n",
       "  <tbody>\n",
       "    <tr>\n",
       "      <th>0</th>\n",
       "      <td>0008ed71</td>\n",
       "      <td>0</td>\n",
       "      <td>0</td>\n",
       "      <td>0</td>\n",
       "      <td>0</td>\n",
       "      <td>0</td>\n",
       "      <td>0</td>\n",
       "      <td>0</td>\n",
       "      <td>0</td>\n",
       "      <td>0</td>\n",
       "      <td>0</td>\n",
       "      <td>0</td>\n",
       "      <td>0</td>\n",
       "      <td>0</td>\n",
       "      <td>0</td>\n",
       "      <td>0</td>\n",
       "    </tr>\n",
       "    <tr>\n",
       "      <th>1</th>\n",
       "      <td>00091926</td>\n",
       "      <td>0</td>\n",
       "      <td>0</td>\n",
       "      <td>0</td>\n",
       "      <td>0</td>\n",
       "      <td>0</td>\n",
       "      <td>0</td>\n",
       "      <td>0</td>\n",
       "      <td>0</td>\n",
       "      <td>0</td>\n",
       "      <td>0</td>\n",
       "      <td>0</td>\n",
       "      <td>0</td>\n",
       "      <td>0</td>\n",
       "      <td>0</td>\n",
       "      <td>0</td>\n",
       "    </tr>\n",
       "    <tr>\n",
       "      <th>2</th>\n",
       "      <td>00091a7a</td>\n",
       "      <td>0</td>\n",
       "      <td>0</td>\n",
       "      <td>1</td>\n",
       "      <td>0</td>\n",
       "      <td>0</td>\n",
       "      <td>0</td>\n",
       "      <td>0</td>\n",
       "      <td>0</td>\n",
       "      <td>0</td>\n",
       "      <td>0</td>\n",
       "      <td>0</td>\n",
       "      <td>0</td>\n",
       "      <td>0</td>\n",
       "      <td>0</td>\n",
       "      <td>0</td>\n",
       "    </tr>\n",
       "    <tr>\n",
       "      <th>3</th>\n",
       "      <td>000ba417</td>\n",
       "      <td>0</td>\n",
       "      <td>0</td>\n",
       "      <td>0</td>\n",
       "      <td>0</td>\n",
       "      <td>0</td>\n",
       "      <td>0</td>\n",
       "      <td>0</td>\n",
       "      <td>0</td>\n",
       "      <td>0</td>\n",
       "      <td>0</td>\n",
       "      <td>0</td>\n",
       "      <td>0</td>\n",
       "      <td>0</td>\n",
       "      <td>0</td>\n",
       "      <td>0</td>\n",
       "    </tr>\n",
       "    <tr>\n",
       "      <th>4</th>\n",
       "      <td>000c79fe</td>\n",
       "      <td>0</td>\n",
       "      <td>1</td>\n",
       "      <td>0</td>\n",
       "      <td>0</td>\n",
       "      <td>0</td>\n",
       "      <td>0</td>\n",
       "      <td>0</td>\n",
       "      <td>0</td>\n",
       "      <td>0</td>\n",
       "      <td>0</td>\n",
       "      <td>0</td>\n",
       "      <td>0</td>\n",
       "      <td>0</td>\n",
       "      <td>0</td>\n",
       "      <td>0</td>\n",
       "    </tr>\n",
       "  </tbody>\n",
       "</table>\n",
       "</div>"
      ],
      "text/plain": [
       "     person  cadaCuantosMinutosHaceEventos_0  cadaCuantosMinutosHaceEventos_1  \\\n",
       "0  0008ed71                                0                                0   \n",
       "1  00091926                                0                                0   \n",
       "2  00091a7a                                0                                0   \n",
       "3  000ba417                                0                                0   \n",
       "4  000c79fe                                0                                1   \n",
       "\n",
       "   cadaCuantosMinutosHaceEventos_2  cadaCuantosMinutosHaceEventos_3  \\\n",
       "0                                0                                0   \n",
       "1                                0                                0   \n",
       "2                                1                                0   \n",
       "3                                0                                0   \n",
       "4                                0                                0   \n",
       "\n",
       "   cadaCuantosMinutosHaceEventos_4  cadaCuantosMinutosHaceEventos_5  \\\n",
       "0                                0                                0   \n",
       "1                                0                                0   \n",
       "2                                0                                0   \n",
       "3                                0                                0   \n",
       "4                                0                                0   \n",
       "\n",
       "   cadaCuantosMinutosHaceEventos_6  cadaCuantosMinutosHaceEventos_8  \\\n",
       "0                                0                                0   \n",
       "1                                0                                0   \n",
       "2                                0                                0   \n",
       "3                                0                                0   \n",
       "4                                0                                0   \n",
       "\n",
       "   cadaCuantosMinutosHaceEventos_1992  cadaCuantosMinutosHaceEventos_273  \\\n",
       "0                                   0                                  0   \n",
       "1                                   0                                  0   \n",
       "2                                   0                                  0   \n",
       "3                                   0                                  0   \n",
       "4                                   0                                  0   \n",
       "\n",
       "   cadaCuantosMinutosHaceEventos_284  cadaCuantosMinutosHaceEventos_205  \\\n",
       "0                                  0                                  0   \n",
       "1                                  0                                  0   \n",
       "2                                  0                                  0   \n",
       "3                                  0                                  0   \n",
       "4                                  0                                  0   \n",
       "\n",
       "   cadaCuantosMinutosHaceEventos_9  cadaCuantosMinutosHaceEventos_476  \\\n",
       "0                                0                                  0   \n",
       "1                                0                                  0   \n",
       "2                                0                                  0   \n",
       "3                                0                                  0   \n",
       "4                                0                                  0   \n",
       "\n",
       "   cadaCuantosMinutosHaceEventos_320  \n",
       "0                                  0  \n",
       "1                                  0  \n",
       "2                                  0  \n",
       "3                                  0  \n",
       "4                                  0  "
      ]
     },
     "execution_count": 249,
     "metadata": {},
     "output_type": "execute_result"
    }
   ],
   "source": [
    "df_cadaCuantosMinutosHaceEventos_conOneHot.head()"
   ]
  },
  {
   "cell_type": "markdown",
   "metadata": {},
   "source": [
    "#### Cada cuantos dias hace eventos en el mes 5 (promedio)"
   ]
  },
  {
   "cell_type": "code",
   "execution_count": 250,
   "metadata": {},
   "outputs": [],
   "source": [
    "df_cadaCuantosDiasEnMes5HaceEventos = df_events[df_events['month'] == 5]"
   ]
  },
  {
   "cell_type": "code",
   "execution_count": 251,
   "metadata": {},
   "outputs": [],
   "source": [
    "df_cadaCuantosDiasEnMes5HaceEventos = df_cadaCuantosDiasEnMes5HaceEventos[['person','day']]"
   ]
  },
  {
   "cell_type": "code",
   "execution_count": 252,
   "metadata": {},
   "outputs": [],
   "source": [
    "df_cadaCuantosDiasEnMes5HaceEventos = df_cadaCuantosDiasEnMes5HaceEventos.drop_duplicates()\\\n",
    "                                .sort_values('day')"
   ]
  },
  {
   "cell_type": "code",
   "execution_count": 253,
   "metadata": {},
   "outputs": [],
   "source": [
    "# Funcion de agregacion para poder calcular la diferencia entre 2 ingresos consecutivos pero para una persona.\n",
    "def cadaCuantosDiasEnMes5HaceEventos(S):\n",
    "    if(len(S) == 1): return 0\n",
    "    return round(np.mean((S - S.shift()).dropna()))"
   ]
  },
  {
   "cell_type": "code",
   "execution_count": 254,
   "metadata": {
    "scrolled": true
   },
   "outputs": [],
   "source": [
    "df_cadaCuantosDiasEnMes5HaceEventos = (df_cadaCuantosDiasEnMes5HaceEventos.groupby('person')['day']\\\n",
    "                                 .agg(cadaCuantosDiasEnMes5HaceEventos)).to_frame().reset_index()\n",
    "df_cadaCuantosDiasEnMes5HaceEventos.columns = ['person','cadaCuantosDiasEnMes5HaceEventos']"
   ]
  },
  {
   "cell_type": "code",
   "execution_count": 255,
   "metadata": {
    "scrolled": true
   },
   "outputs": [
    {
     "data": {
      "text/html": [
       "<div>\n",
       "<style scoped>\n",
       "    .dataframe tbody tr th:only-of-type {\n",
       "        vertical-align: middle;\n",
       "    }\n",
       "\n",
       "    .dataframe tbody tr th {\n",
       "        vertical-align: top;\n",
       "    }\n",
       "\n",
       "    .dataframe thead th {\n",
       "        text-align: right;\n",
       "    }\n",
       "</style>\n",
       "<table border=\"1\" class=\"dataframe\">\n",
       "  <thead>\n",
       "    <tr style=\"text-align: right;\">\n",
       "      <th></th>\n",
       "      <th>person</th>\n",
       "      <th>cadaCuantosDiasEnMes5HaceEventos</th>\n",
       "    </tr>\n",
       "  </thead>\n",
       "  <tbody>\n",
       "    <tr>\n",
       "      <th>0</th>\n",
       "      <td>0008ed71</td>\n",
       "      <td>0</td>\n",
       "    </tr>\n",
       "    <tr>\n",
       "      <th>1</th>\n",
       "      <td>00091926</td>\n",
       "      <td>1</td>\n",
       "    </tr>\n",
       "    <tr>\n",
       "      <th>2</th>\n",
       "      <td>000ba417</td>\n",
       "      <td>4</td>\n",
       "    </tr>\n",
       "    <tr>\n",
       "      <th>3</th>\n",
       "      <td>000c79fe</td>\n",
       "      <td>0</td>\n",
       "    </tr>\n",
       "    <tr>\n",
       "      <th>4</th>\n",
       "      <td>000e4d9e</td>\n",
       "      <td>2</td>\n",
       "    </tr>\n",
       "  </tbody>\n",
       "</table>\n",
       "</div>"
      ],
      "text/plain": [
       "     person  cadaCuantosDiasEnMes5HaceEventos\n",
       "0  0008ed71                                 0\n",
       "1  00091926                                 1\n",
       "2  000ba417                                 4\n",
       "3  000c79fe                                 0\n",
       "4  000e4d9e                                 2"
      ]
     },
     "execution_count": 255,
     "metadata": {},
     "output_type": "execute_result"
    }
   ],
   "source": [
    "df_cadaCuantosDiasEnMes5HaceEventos.head()"
   ]
  },
  {
   "cell_type": "code",
   "execution_count": 256,
   "metadata": {},
   "outputs": [],
   "source": [
    "df_cadaCuantosDiasEnMes5HaceEventos = pd.merge(df_todas_las_personas,df_cadaCuantosDiasEnMes5HaceEventos\\\n",
    "                                               ,how = 'left', on = 'person')"
   ]
  },
  {
   "cell_type": "code",
   "execution_count": 257,
   "metadata": {},
   "outputs": [],
   "source": [
    "# persona no entro en mes 5 -> -1\n",
    "# persona entro una dia en mes 5 -> 0\n",
    "df_cadaCuantosDiasEnMes5HaceEventos = df_cadaCuantosDiasEnMes5HaceEventos.fillna(-1)"
   ]
  },
  {
   "cell_type": "code",
   "execution_count": 258,
   "metadata": {
    "scrolled": true
   },
   "outputs": [
    {
     "data": {
      "text/html": [
       "<div>\n",
       "<style scoped>\n",
       "    .dataframe tbody tr th:only-of-type {\n",
       "        vertical-align: middle;\n",
       "    }\n",
       "\n",
       "    .dataframe tbody tr th {\n",
       "        vertical-align: top;\n",
       "    }\n",
       "\n",
       "    .dataframe thead th {\n",
       "        text-align: right;\n",
       "    }\n",
       "</style>\n",
       "<table border=\"1\" class=\"dataframe\">\n",
       "  <thead>\n",
       "    <tr style=\"text-align: right;\">\n",
       "      <th></th>\n",
       "      <th>person</th>\n",
       "      <th>cadaCuantosDiasEnMes5HaceEventos</th>\n",
       "    </tr>\n",
       "  </thead>\n",
       "  <tbody>\n",
       "    <tr>\n",
       "      <th>0</th>\n",
       "      <td>4886f805</td>\n",
       "      <td>0.0</td>\n",
       "    </tr>\n",
       "    <tr>\n",
       "      <th>1</th>\n",
       "      <td>ad93850f</td>\n",
       "      <td>3.0</td>\n",
       "    </tr>\n",
       "    <tr>\n",
       "      <th>2</th>\n",
       "      <td>0297fc1e</td>\n",
       "      <td>2.0</td>\n",
       "    </tr>\n",
       "    <tr>\n",
       "      <th>3</th>\n",
       "      <td>2d681dd8</td>\n",
       "      <td>9.0</td>\n",
       "    </tr>\n",
       "    <tr>\n",
       "      <th>4</th>\n",
       "      <td>cccea85e</td>\n",
       "      <td>2.0</td>\n",
       "    </tr>\n",
       "  </tbody>\n",
       "</table>\n",
       "</div>"
      ],
      "text/plain": [
       "     person  cadaCuantosDiasEnMes5HaceEventos\n",
       "0  4886f805                               0.0\n",
       "1  ad93850f                               3.0\n",
       "2  0297fc1e                               2.0\n",
       "3  2d681dd8                               9.0\n",
       "4  cccea85e                               2.0"
      ]
     },
     "execution_count": 258,
     "metadata": {},
     "output_type": "execute_result"
    }
   ],
   "source": [
    "df_cadaCuantosDiasEnMes5HaceEventos.head()"
   ]
  },
  {
   "cell_type": "markdown",
   "metadata": {},
   "source": [
    "Con one hot encoding"
   ]
  },
  {
   "cell_type": "code",
   "execution_count": 259,
   "metadata": {
    "scrolled": true
   },
   "outputs": [
    {
     "data": {
      "text/html": [
       "<div>\n",
       "<style scoped>\n",
       "    .dataframe tbody tr th:only-of-type {\n",
       "        vertical-align: middle;\n",
       "    }\n",
       "\n",
       "    .dataframe tbody tr th {\n",
       "        vertical-align: top;\n",
       "    }\n",
       "\n",
       "    .dataframe thead th {\n",
       "        text-align: right;\n",
       "    }\n",
       "</style>\n",
       "<table border=\"1\" class=\"dataframe\">\n",
       "  <thead>\n",
       "    <tr style=\"text-align: right;\">\n",
       "      <th></th>\n",
       "      <th>neg</th>\n",
       "      <th>pos</th>\n",
       "      <th>dif</th>\n",
       "    </tr>\n",
       "    <tr>\n",
       "      <th>cadaCuantosDiasEnMes5HaceEventos</th>\n",
       "      <th></th>\n",
       "      <th></th>\n",
       "      <th></th>\n",
       "    </tr>\n",
       "  </thead>\n",
       "  <tbody>\n",
       "    <tr>\n",
       "      <th>0.0</th>\n",
       "      <td>0.490886</td>\n",
       "      <td>0.287755</td>\n",
       "      <td>0.203131</td>\n",
       "    </tr>\n",
       "    <tr>\n",
       "      <th>-1.0</th>\n",
       "      <td>0.037648</td>\n",
       "      <td>0.161224</td>\n",
       "      <td>0.123577</td>\n",
       "    </tr>\n",
       "    <tr>\n",
       "      <th>3.0</th>\n",
       "      <td>0.057231</td>\n",
       "      <td>0.071429</td>\n",
       "      <td>0.014197</td>\n",
       "    </tr>\n",
       "    <tr>\n",
       "      <th>2.0</th>\n",
       "      <td>0.111425</td>\n",
       "      <td>0.125510</td>\n",
       "      <td>0.014086</td>\n",
       "    </tr>\n",
       "    <tr>\n",
       "      <th>4.0</th>\n",
       "      <td>0.052349</td>\n",
       "      <td>0.062245</td>\n",
       "      <td>0.009896</td>\n",
       "    </tr>\n",
       "  </tbody>\n",
       "</table>\n",
       "</div>"
      ],
      "text/plain": [
       "                                       neg       pos       dif\n",
       "cadaCuantosDiasEnMes5HaceEventos                              \n",
       " 0.0                              0.490886  0.287755  0.203131\n",
       "-1.0                              0.037648  0.161224  0.123577\n",
       " 3.0                              0.057231  0.071429  0.014197\n",
       " 2.0                              0.111425  0.125510  0.014086\n",
       " 4.0                              0.052349  0.062245  0.009896"
      ]
     },
     "execution_count": 259,
     "metadata": {},
     "output_type": "execute_result"
    }
   ],
   "source": [
    "a = pd.merge(df_labels,df_cadaCuantosDiasEnMes5HaceEventos,on = 'person', how = 'inner')\n",
    "a = a.groupby(['cadaCuantosDiasEnMes5HaceEventos','label']).count().unstack()\n",
    "a.columns = ['neg','pos']\n",
    "a['neg'] = a['neg'] / a['neg'].sum()\n",
    "a['pos'] = a['pos'] / a['pos'].sum()\n",
    "a['dif'] = np.abs(a['pos'] - a['neg'])\n",
    "a.sort_values('dif',ascending = False, inplace = True)\n",
    "a.head()"
   ]
  },
  {
   "cell_type": "code",
   "execution_count": 260,
   "metadata": {
    "scrolled": true
   },
   "outputs": [],
   "source": [
    "K = 31\n",
    "top_columnas = list(a.head(K).index)\n",
    "top_columnas2 = list(df_cadaCuantosDiasEnMes5HaceEventos['cadaCuantosDiasEnMes5HaceEventos'].value_counts().head(K).index)\n",
    "df_cadaCuantosDiasEnMes5HaceEventos_conOneHot = pd.concat([df_cadaCuantosDiasEnMes5HaceEventos['person'],pd.get_dummies(df_cadaCuantosDiasEnMes5HaceEventos['cadaCuantosDiasEnMes5HaceEventos'])[top_columnas]],axis = 1)"
   ]
  },
  {
   "cell_type": "code",
   "execution_count": 261,
   "metadata": {},
   "outputs": [],
   "source": [
    "nombres_columnas = ['cadaCuantosDiasEnMes5HaceEventos_'+str(columna) for columna in df_cadaCuantosDiasEnMes5HaceEventos_conOneHot.columns]\n",
    "nombres_columnas[0] = 'person'\n",
    "df_cadaCuantosDiasEnMes5HaceEventos_conOneHot.columns = nombres_columnas"
   ]
  },
  {
   "cell_type": "code",
   "execution_count": 262,
   "metadata": {
    "scrolled": true
   },
   "outputs": [
    {
     "data": {
      "text/html": [
       "<div>\n",
       "<style scoped>\n",
       "    .dataframe tbody tr th:only-of-type {\n",
       "        vertical-align: middle;\n",
       "    }\n",
       "\n",
       "    .dataframe tbody tr th {\n",
       "        vertical-align: top;\n",
       "    }\n",
       "\n",
       "    .dataframe thead th {\n",
       "        text-align: right;\n",
       "    }\n",
       "</style>\n",
       "<table border=\"1\" class=\"dataframe\">\n",
       "  <thead>\n",
       "    <tr style=\"text-align: right;\">\n",
       "      <th></th>\n",
       "      <th>person</th>\n",
       "      <th>cadaCuantosDiasEnMes5HaceEventos_0.0</th>\n",
       "      <th>cadaCuantosDiasEnMes5HaceEventos_-1.0</th>\n",
       "      <th>cadaCuantosDiasEnMes5HaceEventos_3.0</th>\n",
       "      <th>cadaCuantosDiasEnMes5HaceEventos_2.0</th>\n",
       "      <th>cadaCuantosDiasEnMes5HaceEventos_4.0</th>\n",
       "      <th>cadaCuantosDiasEnMes5HaceEventos_6.0</th>\n",
       "      <th>cadaCuantosDiasEnMes5HaceEventos_9.0</th>\n",
       "      <th>cadaCuantosDiasEnMes5HaceEventos_7.0</th>\n",
       "      <th>cadaCuantosDiasEnMes5HaceEventos_13.0</th>\n",
       "      <th>...</th>\n",
       "      <th>cadaCuantosDiasEnMes5HaceEventos_16.0</th>\n",
       "      <th>cadaCuantosDiasEnMes5HaceEventos_14.0</th>\n",
       "      <th>cadaCuantosDiasEnMes5HaceEventos_21.0</th>\n",
       "      <th>cadaCuantosDiasEnMes5HaceEventos_19.0</th>\n",
       "      <th>cadaCuantosDiasEnMes5HaceEventos_23.0</th>\n",
       "      <th>cadaCuantosDiasEnMes5HaceEventos_24.0</th>\n",
       "      <th>cadaCuantosDiasEnMes5HaceEventos_26.0</th>\n",
       "      <th>cadaCuantosDiasEnMes5HaceEventos_27.0</th>\n",
       "      <th>cadaCuantosDiasEnMes5HaceEventos_28.0</th>\n",
       "      <th>cadaCuantosDiasEnMes5HaceEventos_29.0</th>\n",
       "    </tr>\n",
       "  </thead>\n",
       "  <tbody>\n",
       "    <tr>\n",
       "      <th>0</th>\n",
       "      <td>4886f805</td>\n",
       "      <td>1</td>\n",
       "      <td>0</td>\n",
       "      <td>0</td>\n",
       "      <td>0</td>\n",
       "      <td>0</td>\n",
       "      <td>0</td>\n",
       "      <td>0</td>\n",
       "      <td>0</td>\n",
       "      <td>0</td>\n",
       "      <td>...</td>\n",
       "      <td>0</td>\n",
       "      <td>0</td>\n",
       "      <td>0</td>\n",
       "      <td>0</td>\n",
       "      <td>0</td>\n",
       "      <td>0</td>\n",
       "      <td>0</td>\n",
       "      <td>0</td>\n",
       "      <td>0</td>\n",
       "      <td>0</td>\n",
       "    </tr>\n",
       "    <tr>\n",
       "      <th>1</th>\n",
       "      <td>ad93850f</td>\n",
       "      <td>0</td>\n",
       "      <td>0</td>\n",
       "      <td>1</td>\n",
       "      <td>0</td>\n",
       "      <td>0</td>\n",
       "      <td>0</td>\n",
       "      <td>0</td>\n",
       "      <td>0</td>\n",
       "      <td>0</td>\n",
       "      <td>...</td>\n",
       "      <td>0</td>\n",
       "      <td>0</td>\n",
       "      <td>0</td>\n",
       "      <td>0</td>\n",
       "      <td>0</td>\n",
       "      <td>0</td>\n",
       "      <td>0</td>\n",
       "      <td>0</td>\n",
       "      <td>0</td>\n",
       "      <td>0</td>\n",
       "    </tr>\n",
       "    <tr>\n",
       "      <th>2</th>\n",
       "      <td>0297fc1e</td>\n",
       "      <td>0</td>\n",
       "      <td>0</td>\n",
       "      <td>0</td>\n",
       "      <td>1</td>\n",
       "      <td>0</td>\n",
       "      <td>0</td>\n",
       "      <td>0</td>\n",
       "      <td>0</td>\n",
       "      <td>0</td>\n",
       "      <td>...</td>\n",
       "      <td>0</td>\n",
       "      <td>0</td>\n",
       "      <td>0</td>\n",
       "      <td>0</td>\n",
       "      <td>0</td>\n",
       "      <td>0</td>\n",
       "      <td>0</td>\n",
       "      <td>0</td>\n",
       "      <td>0</td>\n",
       "      <td>0</td>\n",
       "    </tr>\n",
       "    <tr>\n",
       "      <th>3</th>\n",
       "      <td>2d681dd8</td>\n",
       "      <td>0</td>\n",
       "      <td>0</td>\n",
       "      <td>0</td>\n",
       "      <td>0</td>\n",
       "      <td>0</td>\n",
       "      <td>0</td>\n",
       "      <td>1</td>\n",
       "      <td>0</td>\n",
       "      <td>0</td>\n",
       "      <td>...</td>\n",
       "      <td>0</td>\n",
       "      <td>0</td>\n",
       "      <td>0</td>\n",
       "      <td>0</td>\n",
       "      <td>0</td>\n",
       "      <td>0</td>\n",
       "      <td>0</td>\n",
       "      <td>0</td>\n",
       "      <td>0</td>\n",
       "      <td>0</td>\n",
       "    </tr>\n",
       "    <tr>\n",
       "      <th>4</th>\n",
       "      <td>cccea85e</td>\n",
       "      <td>0</td>\n",
       "      <td>0</td>\n",
       "      <td>0</td>\n",
       "      <td>1</td>\n",
       "      <td>0</td>\n",
       "      <td>0</td>\n",
       "      <td>0</td>\n",
       "      <td>0</td>\n",
       "      <td>0</td>\n",
       "      <td>...</td>\n",
       "      <td>0</td>\n",
       "      <td>0</td>\n",
       "      <td>0</td>\n",
       "      <td>0</td>\n",
       "      <td>0</td>\n",
       "      <td>0</td>\n",
       "      <td>0</td>\n",
       "      <td>0</td>\n",
       "      <td>0</td>\n",
       "      <td>0</td>\n",
       "    </tr>\n",
       "  </tbody>\n",
       "</table>\n",
       "<p>5 rows × 32 columns</p>\n",
       "</div>"
      ],
      "text/plain": [
       "     person  cadaCuantosDiasEnMes5HaceEventos_0.0  \\\n",
       "0  4886f805                                     1   \n",
       "1  ad93850f                                     0   \n",
       "2  0297fc1e                                     0   \n",
       "3  2d681dd8                                     0   \n",
       "4  cccea85e                                     0   \n",
       "\n",
       "   cadaCuantosDiasEnMes5HaceEventos_-1.0  \\\n",
       "0                                      0   \n",
       "1                                      0   \n",
       "2                                      0   \n",
       "3                                      0   \n",
       "4                                      0   \n",
       "\n",
       "   cadaCuantosDiasEnMes5HaceEventos_3.0  cadaCuantosDiasEnMes5HaceEventos_2.0  \\\n",
       "0                                     0                                     0   \n",
       "1                                     1                                     0   \n",
       "2                                     0                                     1   \n",
       "3                                     0                                     0   \n",
       "4                                     0                                     1   \n",
       "\n",
       "   cadaCuantosDiasEnMes5HaceEventos_4.0  cadaCuantosDiasEnMes5HaceEventos_6.0  \\\n",
       "0                                     0                                     0   \n",
       "1                                     0                                     0   \n",
       "2                                     0                                     0   \n",
       "3                                     0                                     0   \n",
       "4                                     0                                     0   \n",
       "\n",
       "   cadaCuantosDiasEnMes5HaceEventos_9.0  cadaCuantosDiasEnMes5HaceEventos_7.0  \\\n",
       "0                                     0                                     0   \n",
       "1                                     0                                     0   \n",
       "2                                     0                                     0   \n",
       "3                                     1                                     0   \n",
       "4                                     0                                     0   \n",
       "\n",
       "   cadaCuantosDiasEnMes5HaceEventos_13.0  \\\n",
       "0                                      0   \n",
       "1                                      0   \n",
       "2                                      0   \n",
       "3                                      0   \n",
       "4                                      0   \n",
       "\n",
       "                   ...                    \\\n",
       "0                  ...                     \n",
       "1                  ...                     \n",
       "2                  ...                     \n",
       "3                  ...                     \n",
       "4                  ...                     \n",
       "\n",
       "   cadaCuantosDiasEnMes5HaceEventos_16.0  \\\n",
       "0                                      0   \n",
       "1                                      0   \n",
       "2                                      0   \n",
       "3                                      0   \n",
       "4                                      0   \n",
       "\n",
       "   cadaCuantosDiasEnMes5HaceEventos_14.0  \\\n",
       "0                                      0   \n",
       "1                                      0   \n",
       "2                                      0   \n",
       "3                                      0   \n",
       "4                                      0   \n",
       "\n",
       "   cadaCuantosDiasEnMes5HaceEventos_21.0  \\\n",
       "0                                      0   \n",
       "1                                      0   \n",
       "2                                      0   \n",
       "3                                      0   \n",
       "4                                      0   \n",
       "\n",
       "   cadaCuantosDiasEnMes5HaceEventos_19.0  \\\n",
       "0                                      0   \n",
       "1                                      0   \n",
       "2                                      0   \n",
       "3                                      0   \n",
       "4                                      0   \n",
       "\n",
       "   cadaCuantosDiasEnMes5HaceEventos_23.0  \\\n",
       "0                                      0   \n",
       "1                                      0   \n",
       "2                                      0   \n",
       "3                                      0   \n",
       "4                                      0   \n",
       "\n",
       "   cadaCuantosDiasEnMes5HaceEventos_24.0  \\\n",
       "0                                      0   \n",
       "1                                      0   \n",
       "2                                      0   \n",
       "3                                      0   \n",
       "4                                      0   \n",
       "\n",
       "   cadaCuantosDiasEnMes5HaceEventos_26.0  \\\n",
       "0                                      0   \n",
       "1                                      0   \n",
       "2                                      0   \n",
       "3                                      0   \n",
       "4                                      0   \n",
       "\n",
       "   cadaCuantosDiasEnMes5HaceEventos_27.0  \\\n",
       "0                                      0   \n",
       "1                                      0   \n",
       "2                                      0   \n",
       "3                                      0   \n",
       "4                                      0   \n",
       "\n",
       "   cadaCuantosDiasEnMes5HaceEventos_28.0  \\\n",
       "0                                      0   \n",
       "1                                      0   \n",
       "2                                      0   \n",
       "3                                      0   \n",
       "4                                      0   \n",
       "\n",
       "   cadaCuantosDiasEnMes5HaceEventos_29.0  \n",
       "0                                      0  \n",
       "1                                      0  \n",
       "2                                      0  \n",
       "3                                      0  \n",
       "4                                      0  \n",
       "\n",
       "[5 rows x 32 columns]"
      ]
     },
     "execution_count": 262,
     "metadata": {},
     "output_type": "execute_result"
    }
   ],
   "source": [
    "df_cadaCuantosDiasEnMes5HaceEventos_conOneHot.head()"
   ]
  },
  {
   "cell_type": "markdown",
   "metadata": {},
   "source": [
    "#### Cada cuantas horas hace eventos en un dia del mes 5"
   ]
  },
  {
   "cell_type": "code",
   "execution_count": 263,
   "metadata": {},
   "outputs": [],
   "source": [
    "df_cadaCuantasHorasEnUnDiaDelMes5HaceEventos = df_events[df_events['month'] == 5]"
   ]
  },
  {
   "cell_type": "code",
   "execution_count": 264,
   "metadata": {},
   "outputs": [],
   "source": [
    "df_cadaCuantasHorasEnUnDiaDelMes5HaceEventos = df_cadaCuantasHorasEnUnDiaDelMes5HaceEventos[['person','day','hour']]"
   ]
  },
  {
   "cell_type": "code",
   "execution_count": 265,
   "metadata": {},
   "outputs": [],
   "source": [
    "df_cadaCuantasHorasEnUnDiaDelMes5HaceEventos = df_cadaCuantasHorasEnUnDiaDelMes5HaceEventos.drop_duplicates()\\\n",
    "                                .sort_values(['day','hour'])"
   ]
  },
  {
   "cell_type": "code",
   "execution_count": 266,
   "metadata": {},
   "outputs": [],
   "source": [
    "# Funcion de agregacion para poder calcular la diferencia entre 2 ingresos consecutivos pero para una persona.\n",
    "def cadaCuantasHorasEnUnDiaDelMes5HaceEventos(S):\n",
    "    if(len(S) == 1): return 0\n",
    "    return round(np.mean((S - S.shift()).dropna()))"
   ]
  },
  {
   "cell_type": "code",
   "execution_count": 267,
   "metadata": {
    "scrolled": true
   },
   "outputs": [],
   "source": [
    "df_cadaCuantasHorasEnUnDiaDelMes5HaceEventos = (df_cadaCuantasHorasEnUnDiaDelMes5HaceEventos\\\n",
    "        .groupby(['person','day'])['hour'].agg(cadaCuantasHorasEnUnDiaDelMes5HaceEventos)).to_frame()\n"
   ]
  },
  {
   "cell_type": "code",
   "execution_count": 268,
   "metadata": {},
   "outputs": [],
   "source": [
    "df_cadaCuantasHorasEnUnDiaDelMes5HaceEventos = df_cadaCuantasHorasEnUnDiaDelMes5HaceEventos\\\n",
    "                .groupby('person')['hour'].mean().to_frame().reset_index()\n",
    "df_cadaCuantasHorasEnUnDiaDelMes5HaceEventos['hour'] = df_cadaCuantasHorasEnUnDiaDelMes5HaceEventos['hour'].apply(round)"
   ]
  },
  {
   "cell_type": "code",
   "execution_count": 269,
   "metadata": {
    "scrolled": true
   },
   "outputs": [],
   "source": [
    "df_cadaCuantasHorasEnUnDiaDelMes5HaceEventos.columns = ['person','cadaCuantasHorasEnUnDiaDelMes5HaceEventos']"
   ]
  },
  {
   "cell_type": "code",
   "execution_count": 270,
   "metadata": {},
   "outputs": [],
   "source": [
    "df_cadaCuantasHorasEnUnDiaDelMes5HaceEventos = pd.merge(df_todas_las_personas,df_cadaCuantasHorasEnUnDiaDelMes5HaceEventos\\\n",
    "                                                       ,on = 'person', how = 'left')\n"
   ]
  },
  {
   "cell_type": "code",
   "execution_count": 271,
   "metadata": {},
   "outputs": [],
   "source": [
    "df_cadaCuantasHorasEnUnDiaDelMes5HaceEventos = df_cadaCuantasHorasEnUnDiaDelMes5HaceEventos.fillna(-1)"
   ]
  },
  {
   "cell_type": "code",
   "execution_count": 272,
   "metadata": {},
   "outputs": [
    {
     "data": {
      "text/html": [
       "<div>\n",
       "<style scoped>\n",
       "    .dataframe tbody tr th:only-of-type {\n",
       "        vertical-align: middle;\n",
       "    }\n",
       "\n",
       "    .dataframe tbody tr th {\n",
       "        vertical-align: top;\n",
       "    }\n",
       "\n",
       "    .dataframe thead th {\n",
       "        text-align: right;\n",
       "    }\n",
       "</style>\n",
       "<table border=\"1\" class=\"dataframe\">\n",
       "  <thead>\n",
       "    <tr style=\"text-align: right;\">\n",
       "      <th></th>\n",
       "      <th>person</th>\n",
       "      <th>cadaCuantasHorasEnUnDiaDelMes5HaceEventos</th>\n",
       "    </tr>\n",
       "  </thead>\n",
       "  <tbody>\n",
       "    <tr>\n",
       "      <th>0</th>\n",
       "      <td>4886f805</td>\n",
       "      <td>0.0</td>\n",
       "    </tr>\n",
       "    <tr>\n",
       "      <th>1</th>\n",
       "      <td>ad93850f</td>\n",
       "      <td>6.0</td>\n",
       "    </tr>\n",
       "    <tr>\n",
       "      <th>2</th>\n",
       "      <td>0297fc1e</td>\n",
       "      <td>5.0</td>\n",
       "    </tr>\n",
       "    <tr>\n",
       "      <th>3</th>\n",
       "      <td>2d681dd8</td>\n",
       "      <td>0.0</td>\n",
       "    </tr>\n",
       "    <tr>\n",
       "      <th>4</th>\n",
       "      <td>cccea85e</td>\n",
       "      <td>4.0</td>\n",
       "    </tr>\n",
       "  </tbody>\n",
       "</table>\n",
       "</div>"
      ],
      "text/plain": [
       "     person  cadaCuantasHorasEnUnDiaDelMes5HaceEventos\n",
       "0  4886f805                                        0.0\n",
       "1  ad93850f                                        6.0\n",
       "2  0297fc1e                                        5.0\n",
       "3  2d681dd8                                        0.0\n",
       "4  cccea85e                                        4.0"
      ]
     },
     "execution_count": 272,
     "metadata": {},
     "output_type": "execute_result"
    }
   ],
   "source": [
    "df_cadaCuantasHorasEnUnDiaDelMes5HaceEventos.head()"
   ]
  },
  {
   "cell_type": "markdown",
   "metadata": {},
   "source": [
    "Con one hot encoding"
   ]
  },
  {
   "cell_type": "code",
   "execution_count": 273,
   "metadata": {
    "scrolled": true
   },
   "outputs": [
    {
     "data": {
      "text/html": [
       "<div>\n",
       "<style scoped>\n",
       "    .dataframe tbody tr th:only-of-type {\n",
       "        vertical-align: middle;\n",
       "    }\n",
       "\n",
       "    .dataframe tbody tr th {\n",
       "        vertical-align: top;\n",
       "    }\n",
       "\n",
       "    .dataframe thead th {\n",
       "        text-align: right;\n",
       "    }\n",
       "</style>\n",
       "<table border=\"1\" class=\"dataframe\">\n",
       "  <thead>\n",
       "    <tr style=\"text-align: right;\">\n",
       "      <th></th>\n",
       "      <th>neg</th>\n",
       "      <th>pos</th>\n",
       "      <th>dif</th>\n",
       "    </tr>\n",
       "    <tr>\n",
       "      <th>cadaCuantasHorasEnUnDiaDelMes5HaceEventos</th>\n",
       "      <th></th>\n",
       "      <th></th>\n",
       "      <th></th>\n",
       "    </tr>\n",
       "  </thead>\n",
       "  <tbody>\n",
       "    <tr>\n",
       "      <th>0.0</th>\n",
       "      <td>0.589509</td>\n",
       "      <td>0.429592</td>\n",
       "      <td>0.159917</td>\n",
       "    </tr>\n",
       "    <tr>\n",
       "      <th>-1.0</th>\n",
       "      <td>0.037648</td>\n",
       "      <td>0.161224</td>\n",
       "      <td>0.123577</td>\n",
       "    </tr>\n",
       "    <tr>\n",
       "      <th>2.0</th>\n",
       "      <td>0.080449</td>\n",
       "      <td>0.115306</td>\n",
       "      <td>0.034857</td>\n",
       "    </tr>\n",
       "    <tr>\n",
       "      <th>1.0</th>\n",
       "      <td>0.155799</td>\n",
       "      <td>0.133673</td>\n",
       "      <td>0.022126</td>\n",
       "    </tr>\n",
       "    <tr>\n",
       "      <th>4.0</th>\n",
       "      <td>0.035478</td>\n",
       "      <td>0.046939</td>\n",
       "      <td>0.011461</td>\n",
       "    </tr>\n",
       "  </tbody>\n",
       "</table>\n",
       "</div>"
      ],
      "text/plain": [
       "                                                neg       pos       dif\n",
       "cadaCuantasHorasEnUnDiaDelMes5HaceEventos                              \n",
       " 0.0                                       0.589509  0.429592  0.159917\n",
       "-1.0                                       0.037648  0.161224  0.123577\n",
       " 2.0                                       0.080449  0.115306  0.034857\n",
       " 1.0                                       0.155799  0.133673  0.022126\n",
       " 4.0                                       0.035478  0.046939  0.011461"
      ]
     },
     "execution_count": 273,
     "metadata": {},
     "output_type": "execute_result"
    }
   ],
   "source": [
    "a = pd.merge(df_labels,df_cadaCuantasHorasEnUnDiaDelMes5HaceEventos,on = 'person', how = 'inner')\n",
    "a = a.groupby(['cadaCuantasHorasEnUnDiaDelMes5HaceEventos','label']).count().unstack()\n",
    "a.columns = ['neg','pos']\n",
    "a['neg'] = a['neg'] / a['neg'].sum()\n",
    "a['pos'] = a['pos'] / a['pos'].sum()\n",
    "a['dif'] = np.abs(a['pos'] - a['neg'])\n",
    "a.sort_values('dif',ascending = False, inplace = True)\n",
    "a.head()"
   ]
  },
  {
   "cell_type": "code",
   "execution_count": 274,
   "metadata": {
    "scrolled": true
   },
   "outputs": [],
   "source": [
    "K = 24\n",
    "top_columnas = list(a.head(K).index)\n",
    "top_columnas2 = list(df_cadaCuantasHorasEnUnDiaDelMes5HaceEventos['cadaCuantasHorasEnUnDiaDelMes5HaceEventos'].value_counts().head(K).index)\n",
    "df_cadaCuantasHorasEnUnDiaDelMes5HaceEventos_conOneHot = pd.concat([df_cadaCuantasHorasEnUnDiaDelMes5HaceEventos['person'],pd.get_dummies(df_cadaCuantasHorasEnUnDiaDelMes5HaceEventos['cadaCuantasHorasEnUnDiaDelMes5HaceEventos'])[top_columnas]],axis = 1)"
   ]
  },
  {
   "cell_type": "code",
   "execution_count": 275,
   "metadata": {},
   "outputs": [],
   "source": [
    "nombres_columnas = ['cadaCuantasHorasEnUnDiaDelMes5HaceEventos_'+str(columna) for columna in df_cadaCuantasHorasEnUnDiaDelMes5HaceEventos_conOneHot.columns]\n",
    "nombres_columnas[0] = 'person'\n",
    "df_cadaCuantasHorasEnUnDiaDelMes5HaceEventos_conOneHot.columns = nombres_columnas"
   ]
  },
  {
   "cell_type": "code",
   "execution_count": 276,
   "metadata": {
    "scrolled": false
   },
   "outputs": [
    {
     "data": {
      "text/html": [
       "<div>\n",
       "<style scoped>\n",
       "    .dataframe tbody tr th:only-of-type {\n",
       "        vertical-align: middle;\n",
       "    }\n",
       "\n",
       "    .dataframe tbody tr th {\n",
       "        vertical-align: top;\n",
       "    }\n",
       "\n",
       "    .dataframe thead th {\n",
       "        text-align: right;\n",
       "    }\n",
       "</style>\n",
       "<table border=\"1\" class=\"dataframe\">\n",
       "  <thead>\n",
       "    <tr style=\"text-align: right;\">\n",
       "      <th></th>\n",
       "      <th>person</th>\n",
       "      <th>cadaCuantasHorasEnUnDiaDelMes5HaceEventos_0.0</th>\n",
       "      <th>cadaCuantasHorasEnUnDiaDelMes5HaceEventos_-1.0</th>\n",
       "      <th>cadaCuantasHorasEnUnDiaDelMes5HaceEventos_2.0</th>\n",
       "      <th>cadaCuantasHorasEnUnDiaDelMes5HaceEventos_1.0</th>\n",
       "      <th>cadaCuantasHorasEnUnDiaDelMes5HaceEventos_4.0</th>\n",
       "      <th>cadaCuantasHorasEnUnDiaDelMes5HaceEventos_3.0</th>\n",
       "      <th>cadaCuantasHorasEnUnDiaDelMes5HaceEventos_5.0</th>\n",
       "      <th>cadaCuantasHorasEnUnDiaDelMes5HaceEventos_8.0</th>\n",
       "      <th>cadaCuantasHorasEnUnDiaDelMes5HaceEventos_6.0</th>\n",
       "      <th>...</th>\n",
       "      <th>cadaCuantasHorasEnUnDiaDelMes5HaceEventos_17.0</th>\n",
       "      <th>cadaCuantasHorasEnUnDiaDelMes5HaceEventos_12.0</th>\n",
       "      <th>cadaCuantasHorasEnUnDiaDelMes5HaceEventos_7.0</th>\n",
       "      <th>cadaCuantasHorasEnUnDiaDelMes5HaceEventos_9.0</th>\n",
       "      <th>cadaCuantasHorasEnUnDiaDelMes5HaceEventos_13.0</th>\n",
       "      <th>cadaCuantasHorasEnUnDiaDelMes5HaceEventos_16.0</th>\n",
       "      <th>cadaCuantasHorasEnUnDiaDelMes5HaceEventos_18.0</th>\n",
       "      <th>cadaCuantasHorasEnUnDiaDelMes5HaceEventos_19.0</th>\n",
       "      <th>cadaCuantasHorasEnUnDiaDelMes5HaceEventos_20.0</th>\n",
       "      <th>cadaCuantasHorasEnUnDiaDelMes5HaceEventos_21.0</th>\n",
       "    </tr>\n",
       "  </thead>\n",
       "  <tbody>\n",
       "    <tr>\n",
       "      <th>0</th>\n",
       "      <td>4886f805</td>\n",
       "      <td>1</td>\n",
       "      <td>0</td>\n",
       "      <td>0</td>\n",
       "      <td>0</td>\n",
       "      <td>0</td>\n",
       "      <td>0</td>\n",
       "      <td>0</td>\n",
       "      <td>0</td>\n",
       "      <td>0</td>\n",
       "      <td>...</td>\n",
       "      <td>0</td>\n",
       "      <td>0</td>\n",
       "      <td>0</td>\n",
       "      <td>0</td>\n",
       "      <td>0</td>\n",
       "      <td>0</td>\n",
       "      <td>0</td>\n",
       "      <td>0</td>\n",
       "      <td>0</td>\n",
       "      <td>0</td>\n",
       "    </tr>\n",
       "    <tr>\n",
       "      <th>1</th>\n",
       "      <td>ad93850f</td>\n",
       "      <td>0</td>\n",
       "      <td>0</td>\n",
       "      <td>0</td>\n",
       "      <td>0</td>\n",
       "      <td>0</td>\n",
       "      <td>0</td>\n",
       "      <td>0</td>\n",
       "      <td>0</td>\n",
       "      <td>1</td>\n",
       "      <td>...</td>\n",
       "      <td>0</td>\n",
       "      <td>0</td>\n",
       "      <td>0</td>\n",
       "      <td>0</td>\n",
       "      <td>0</td>\n",
       "      <td>0</td>\n",
       "      <td>0</td>\n",
       "      <td>0</td>\n",
       "      <td>0</td>\n",
       "      <td>0</td>\n",
       "    </tr>\n",
       "    <tr>\n",
       "      <th>2</th>\n",
       "      <td>0297fc1e</td>\n",
       "      <td>0</td>\n",
       "      <td>0</td>\n",
       "      <td>0</td>\n",
       "      <td>0</td>\n",
       "      <td>0</td>\n",
       "      <td>0</td>\n",
       "      <td>1</td>\n",
       "      <td>0</td>\n",
       "      <td>0</td>\n",
       "      <td>...</td>\n",
       "      <td>0</td>\n",
       "      <td>0</td>\n",
       "      <td>0</td>\n",
       "      <td>0</td>\n",
       "      <td>0</td>\n",
       "      <td>0</td>\n",
       "      <td>0</td>\n",
       "      <td>0</td>\n",
       "      <td>0</td>\n",
       "      <td>0</td>\n",
       "    </tr>\n",
       "    <tr>\n",
       "      <th>3</th>\n",
       "      <td>2d681dd8</td>\n",
       "      <td>1</td>\n",
       "      <td>0</td>\n",
       "      <td>0</td>\n",
       "      <td>0</td>\n",
       "      <td>0</td>\n",
       "      <td>0</td>\n",
       "      <td>0</td>\n",
       "      <td>0</td>\n",
       "      <td>0</td>\n",
       "      <td>...</td>\n",
       "      <td>0</td>\n",
       "      <td>0</td>\n",
       "      <td>0</td>\n",
       "      <td>0</td>\n",
       "      <td>0</td>\n",
       "      <td>0</td>\n",
       "      <td>0</td>\n",
       "      <td>0</td>\n",
       "      <td>0</td>\n",
       "      <td>0</td>\n",
       "    </tr>\n",
       "    <tr>\n",
       "      <th>4</th>\n",
       "      <td>cccea85e</td>\n",
       "      <td>0</td>\n",
       "      <td>0</td>\n",
       "      <td>0</td>\n",
       "      <td>0</td>\n",
       "      <td>1</td>\n",
       "      <td>0</td>\n",
       "      <td>0</td>\n",
       "      <td>0</td>\n",
       "      <td>0</td>\n",
       "      <td>...</td>\n",
       "      <td>0</td>\n",
       "      <td>0</td>\n",
       "      <td>0</td>\n",
       "      <td>0</td>\n",
       "      <td>0</td>\n",
       "      <td>0</td>\n",
       "      <td>0</td>\n",
       "      <td>0</td>\n",
       "      <td>0</td>\n",
       "      <td>0</td>\n",
       "    </tr>\n",
       "  </tbody>\n",
       "</table>\n",
       "<p>5 rows × 25 columns</p>\n",
       "</div>"
      ],
      "text/plain": [
       "     person  cadaCuantasHorasEnUnDiaDelMes5HaceEventos_0.0  \\\n",
       "0  4886f805                                              1   \n",
       "1  ad93850f                                              0   \n",
       "2  0297fc1e                                              0   \n",
       "3  2d681dd8                                              1   \n",
       "4  cccea85e                                              0   \n",
       "\n",
       "   cadaCuantasHorasEnUnDiaDelMes5HaceEventos_-1.0  \\\n",
       "0                                               0   \n",
       "1                                               0   \n",
       "2                                               0   \n",
       "3                                               0   \n",
       "4                                               0   \n",
       "\n",
       "   cadaCuantasHorasEnUnDiaDelMes5HaceEventos_2.0  \\\n",
       "0                                              0   \n",
       "1                                              0   \n",
       "2                                              0   \n",
       "3                                              0   \n",
       "4                                              0   \n",
       "\n",
       "   cadaCuantasHorasEnUnDiaDelMes5HaceEventos_1.0  \\\n",
       "0                                              0   \n",
       "1                                              0   \n",
       "2                                              0   \n",
       "3                                              0   \n",
       "4                                              0   \n",
       "\n",
       "   cadaCuantasHorasEnUnDiaDelMes5HaceEventos_4.0  \\\n",
       "0                                              0   \n",
       "1                                              0   \n",
       "2                                              0   \n",
       "3                                              0   \n",
       "4                                              1   \n",
       "\n",
       "   cadaCuantasHorasEnUnDiaDelMes5HaceEventos_3.0  \\\n",
       "0                                              0   \n",
       "1                                              0   \n",
       "2                                              0   \n",
       "3                                              0   \n",
       "4                                              0   \n",
       "\n",
       "   cadaCuantasHorasEnUnDiaDelMes5HaceEventos_5.0  \\\n",
       "0                                              0   \n",
       "1                                              0   \n",
       "2                                              1   \n",
       "3                                              0   \n",
       "4                                              0   \n",
       "\n",
       "   cadaCuantasHorasEnUnDiaDelMes5HaceEventos_8.0  \\\n",
       "0                                              0   \n",
       "1                                              0   \n",
       "2                                              0   \n",
       "3                                              0   \n",
       "4                                              0   \n",
       "\n",
       "   cadaCuantasHorasEnUnDiaDelMes5HaceEventos_6.0  \\\n",
       "0                                              0   \n",
       "1                                              1   \n",
       "2                                              0   \n",
       "3                                              0   \n",
       "4                                              0   \n",
       "\n",
       "                        ...                        \\\n",
       "0                       ...                         \n",
       "1                       ...                         \n",
       "2                       ...                         \n",
       "3                       ...                         \n",
       "4                       ...                         \n",
       "\n",
       "   cadaCuantasHorasEnUnDiaDelMes5HaceEventos_17.0  \\\n",
       "0                                               0   \n",
       "1                                               0   \n",
       "2                                               0   \n",
       "3                                               0   \n",
       "4                                               0   \n",
       "\n",
       "   cadaCuantasHorasEnUnDiaDelMes5HaceEventos_12.0  \\\n",
       "0                                               0   \n",
       "1                                               0   \n",
       "2                                               0   \n",
       "3                                               0   \n",
       "4                                               0   \n",
       "\n",
       "   cadaCuantasHorasEnUnDiaDelMes5HaceEventos_7.0  \\\n",
       "0                                              0   \n",
       "1                                              0   \n",
       "2                                              0   \n",
       "3                                              0   \n",
       "4                                              0   \n",
       "\n",
       "   cadaCuantasHorasEnUnDiaDelMes5HaceEventos_9.0  \\\n",
       "0                                              0   \n",
       "1                                              0   \n",
       "2                                              0   \n",
       "3                                              0   \n",
       "4                                              0   \n",
       "\n",
       "   cadaCuantasHorasEnUnDiaDelMes5HaceEventos_13.0  \\\n",
       "0                                               0   \n",
       "1                                               0   \n",
       "2                                               0   \n",
       "3                                               0   \n",
       "4                                               0   \n",
       "\n",
       "   cadaCuantasHorasEnUnDiaDelMes5HaceEventos_16.0  \\\n",
       "0                                               0   \n",
       "1                                               0   \n",
       "2                                               0   \n",
       "3                                               0   \n",
       "4                                               0   \n",
       "\n",
       "   cadaCuantasHorasEnUnDiaDelMes5HaceEventos_18.0  \\\n",
       "0                                               0   \n",
       "1                                               0   \n",
       "2                                               0   \n",
       "3                                               0   \n",
       "4                                               0   \n",
       "\n",
       "   cadaCuantasHorasEnUnDiaDelMes5HaceEventos_19.0  \\\n",
       "0                                               0   \n",
       "1                                               0   \n",
       "2                                               0   \n",
       "3                                               0   \n",
       "4                                               0   \n",
       "\n",
       "   cadaCuantasHorasEnUnDiaDelMes5HaceEventos_20.0  \\\n",
       "0                                               0   \n",
       "1                                               0   \n",
       "2                                               0   \n",
       "3                                               0   \n",
       "4                                               0   \n",
       "\n",
       "   cadaCuantasHorasEnUnDiaDelMes5HaceEventos_21.0  \n",
       "0                                               0  \n",
       "1                                               0  \n",
       "2                                               0  \n",
       "3                                               0  \n",
       "4                                               0  \n",
       "\n",
       "[5 rows x 25 columns]"
      ]
     },
     "execution_count": 276,
     "metadata": {},
     "output_type": "execute_result"
    }
   ],
   "source": [
    "df_cadaCuantasHorasEnUnDiaDelMes5HaceEventos_conOneHot.head()"
   ]
  },
  {
   "cell_type": "markdown",
   "metadata": {},
   "source": [
    "#### Cada cuantos minutos hace eventos en un dia y hora del mes 5"
   ]
  },
  {
   "cell_type": "code",
   "execution_count": 277,
   "metadata": {},
   "outputs": [],
   "source": [
    "df_cadaCuantosMinutosHaceEventosEnUnDiaYHoraDelMes5 = df_events[df_events['month'] == 5]"
   ]
  },
  {
   "cell_type": "code",
   "execution_count": 278,
   "metadata": {},
   "outputs": [],
   "source": [
    "df_cadaCuantosMinutosHaceEventosEnUnDiaYHoraDelMes5 = df_cadaCuantosMinutosHaceEventosEnUnDiaYHoraDelMes5[['person','day','hour','minute']]"
   ]
  },
  {
   "cell_type": "code",
   "execution_count": 279,
   "metadata": {},
   "outputs": [],
   "source": [
    "df_cadaCuantosMinutosHaceEventosEnUnDiaYHoraDelMes5 = df_cadaCuantosMinutosHaceEventosEnUnDiaYHoraDelMes5.drop_duplicates()\\\n",
    "                                .sort_values(['day','hour','minute'])"
   ]
  },
  {
   "cell_type": "code",
   "execution_count": 280,
   "metadata": {},
   "outputs": [],
   "source": [
    "# Funcion de agregacion para poder calcular la diferencia entre 2 ingresos consecutivos pero para una persona.\n",
    "def cadaCuantosMinutosHaceEventosEnUnDiaYHoraDelMes5(S):\n",
    "    if(len(S) == 1): return 0\n",
    "    return round(np.mean((S - S.shift()).dropna()))"
   ]
  },
  {
   "cell_type": "code",
   "execution_count": 281,
   "metadata": {
    "scrolled": true
   },
   "outputs": [],
   "source": [
    "df_cadaCuantosMinutosHaceEventosEnUnDiaYHoraDelMes5 = (df_cadaCuantosMinutosHaceEventosEnUnDiaYHoraDelMes5\\\n",
    "        .groupby(['person','day','hour'])['minute'].agg(cadaCuantosMinutosHaceEventosEnUnDiaYHoraDelMes5)).to_frame()\n"
   ]
  },
  {
   "cell_type": "code",
   "execution_count": 282,
   "metadata": {},
   "outputs": [],
   "source": [
    "df_cadaCuantosMinutosHaceEventosEnUnDiaYHoraDelMes5 = df_cadaCuantosMinutosHaceEventosEnUnDiaYHoraDelMes5\\\n",
    "                .groupby('person')['minute'].mean().to_frame().reset_index()\n",
    "df_cadaCuantosMinutosHaceEventosEnUnDiaYHoraDelMes5['minute'] = df_cadaCuantosMinutosHaceEventosEnUnDiaYHoraDelMes5['minute'].apply(round)"
   ]
  },
  {
   "cell_type": "code",
   "execution_count": 283,
   "metadata": {
    "scrolled": true
   },
   "outputs": [],
   "source": [
    "df_cadaCuantosMinutosHaceEventosEnUnDiaYHoraDelMes5.columns = ['person','cadaCuantosMinutosHaceEventosEnUnDiaYHoraDelMes5']"
   ]
  },
  {
   "cell_type": "code",
   "execution_count": 284,
   "metadata": {},
   "outputs": [],
   "source": [
    "df_cadaCuantosMinutosHaceEventosEnUnDiaYHoraDelMes5 = pd.merge(df_todas_las_personas,df_cadaCuantosMinutosHaceEventosEnUnDiaYHoraDelMes5\\\n",
    "                                                       ,on = 'person', how = 'left')\n"
   ]
  },
  {
   "cell_type": "code",
   "execution_count": 285,
   "metadata": {},
   "outputs": [],
   "source": [
    "df_cadaCuantosMinutosHaceEventosEnUnDiaYHoraDelMes5 = df_cadaCuantosMinutosHaceEventosEnUnDiaYHoraDelMes5.fillna(-1)"
   ]
  },
  {
   "cell_type": "code",
   "execution_count": 286,
   "metadata": {},
   "outputs": [
    {
     "data": {
      "text/html": [
       "<div>\n",
       "<style scoped>\n",
       "    .dataframe tbody tr th:only-of-type {\n",
       "        vertical-align: middle;\n",
       "    }\n",
       "\n",
       "    .dataframe tbody tr th {\n",
       "        vertical-align: top;\n",
       "    }\n",
       "\n",
       "    .dataframe thead th {\n",
       "        text-align: right;\n",
       "    }\n",
       "</style>\n",
       "<table border=\"1\" class=\"dataframe\">\n",
       "  <thead>\n",
       "    <tr style=\"text-align: right;\">\n",
       "      <th></th>\n",
       "      <th>person</th>\n",
       "      <th>cadaCuantosMinutosHaceEventosEnUnDiaYHoraDelMes5</th>\n",
       "    </tr>\n",
       "  </thead>\n",
       "  <tbody>\n",
       "    <tr>\n",
       "      <th>0</th>\n",
       "      <td>4886f805</td>\n",
       "      <td>8.0</td>\n",
       "    </tr>\n",
       "    <tr>\n",
       "      <th>1</th>\n",
       "      <td>ad93850f</td>\n",
       "      <td>3.0</td>\n",
       "    </tr>\n",
       "    <tr>\n",
       "      <th>2</th>\n",
       "      <td>0297fc1e</td>\n",
       "      <td>3.0</td>\n",
       "    </tr>\n",
       "    <tr>\n",
       "      <th>3</th>\n",
       "      <td>2d681dd8</td>\n",
       "      <td>2.0</td>\n",
       "    </tr>\n",
       "    <tr>\n",
       "      <th>4</th>\n",
       "      <td>cccea85e</td>\n",
       "      <td>3.0</td>\n",
       "    </tr>\n",
       "  </tbody>\n",
       "</table>\n",
       "</div>"
      ],
      "text/plain": [
       "     person  cadaCuantosMinutosHaceEventosEnUnDiaYHoraDelMes5\n",
       "0  4886f805                                               8.0\n",
       "1  ad93850f                                               3.0\n",
       "2  0297fc1e                                               3.0\n",
       "3  2d681dd8                                               2.0\n",
       "4  cccea85e                                               3.0"
      ]
     },
     "execution_count": 286,
     "metadata": {},
     "output_type": "execute_result"
    }
   ],
   "source": [
    "df_cadaCuantosMinutosHaceEventosEnUnDiaYHoraDelMes5.head()"
   ]
  },
  {
   "cell_type": "code",
   "execution_count": 287,
   "metadata": {},
   "outputs": [
    {
     "data": {
      "text/plain": [
       "(38829, 2)"
      ]
     },
     "execution_count": 287,
     "metadata": {},
     "output_type": "execute_result"
    }
   ],
   "source": [
    "df_cadaCuantosMinutosHaceEventosEnUnDiaYHoraDelMes5.shape"
   ]
  },
  {
   "cell_type": "markdown",
   "metadata": {},
   "source": [
    "Con one hot encoding"
   ]
  },
  {
   "cell_type": "code",
   "execution_count": 288,
   "metadata": {
    "scrolled": true
   },
   "outputs": [
    {
     "data": {
      "text/html": [
       "<div>\n",
       "<style scoped>\n",
       "    .dataframe tbody tr th:only-of-type {\n",
       "        vertical-align: middle;\n",
       "    }\n",
       "\n",
       "    .dataframe tbody tr th {\n",
       "        vertical-align: top;\n",
       "    }\n",
       "\n",
       "    .dataframe thead th {\n",
       "        text-align: right;\n",
       "    }\n",
       "</style>\n",
       "<table border=\"1\" class=\"dataframe\">\n",
       "  <thead>\n",
       "    <tr style=\"text-align: right;\">\n",
       "      <th></th>\n",
       "      <th>neg</th>\n",
       "      <th>pos</th>\n",
       "      <th>dif</th>\n",
       "    </tr>\n",
       "    <tr>\n",
       "      <th>cadaCuantosMinutosHaceEventosEnUnDiaYHoraDelMes5</th>\n",
       "      <th></th>\n",
       "      <th></th>\n",
       "      <th></th>\n",
       "    </tr>\n",
       "  </thead>\n",
       "  <tbody>\n",
       "    <tr>\n",
       "      <th>-1.0</th>\n",
       "      <td>0.037648</td>\n",
       "      <td>0.161224</td>\n",
       "      <td>0.123577</td>\n",
       "    </tr>\n",
       "    <tr>\n",
       "      <th>1.0</th>\n",
       "      <td>0.366442</td>\n",
       "      <td>0.292857</td>\n",
       "      <td>0.073585</td>\n",
       "    </tr>\n",
       "    <tr>\n",
       "      <th>0.0</th>\n",
       "      <td>0.174569</td>\n",
       "      <td>0.129592</td>\n",
       "      <td>0.044977</td>\n",
       "    </tr>\n",
       "    <tr>\n",
       "      <th>3.0</th>\n",
       "      <td>0.068515</td>\n",
       "      <td>0.090816</td>\n",
       "      <td>0.022302</td>\n",
       "    </tr>\n",
       "    <tr>\n",
       "      <th>2.0</th>\n",
       "      <td>0.248345</td>\n",
       "      <td>0.228571</td>\n",
       "      <td>0.019774</td>\n",
       "    </tr>\n",
       "  </tbody>\n",
       "</table>\n",
       "</div>"
      ],
      "text/plain": [
       "                                                       neg       pos       dif\n",
       "cadaCuantosMinutosHaceEventosEnUnDiaYHoraDelMes5                              \n",
       "-1.0                                              0.037648  0.161224  0.123577\n",
       " 1.0                                              0.366442  0.292857  0.073585\n",
       " 0.0                                              0.174569  0.129592  0.044977\n",
       " 3.0                                              0.068515  0.090816  0.022302\n",
       " 2.0                                              0.248345  0.228571  0.019774"
      ]
     },
     "execution_count": 288,
     "metadata": {},
     "output_type": "execute_result"
    }
   ],
   "source": [
    "a = pd.merge(df_labels,df_cadaCuantosMinutosHaceEventosEnUnDiaYHoraDelMes5,on = 'person', how = 'inner')\n",
    "a = a.groupby(['cadaCuantosMinutosHaceEventosEnUnDiaYHoraDelMes5','label']).count().unstack()\n",
    "a.columns = ['neg','pos']\n",
    "a['neg'] = a['neg'] / a['neg'].sum()\n",
    "a['pos'] = a['pos'] / a['pos'].sum()\n",
    "a['dif'] = np.abs(a['pos'] - a['neg'])\n",
    "a.sort_values('dif',ascending = False, inplace = True)\n",
    "a.head()"
   ]
  },
  {
   "cell_type": "code",
   "execution_count": 289,
   "metadata": {
    "scrolled": true
   },
   "outputs": [],
   "source": [
    "K = 15\n",
    "top_columnas = list(a.head(K).index)\n",
    "top_columnas2 = list(df_cadaCuantosMinutosHaceEventosEnUnDiaYHoraDelMes5['cadaCuantosMinutosHaceEventosEnUnDiaYHoraDelMes5'].value_counts().head(K).index)\n",
    "df_cadaCuantosMinutosHaceEventosEnUnDiaYHoraDelMes5_conOneHot = pd.concat([df_cadaCuantosMinutosHaceEventosEnUnDiaYHoraDelMes5['person'],pd.get_dummies(df_cadaCuantosMinutosHaceEventosEnUnDiaYHoraDelMes5['cadaCuantosMinutosHaceEventosEnUnDiaYHoraDelMes5'])[top_columnas]],axis = 1)"
   ]
  },
  {
   "cell_type": "code",
   "execution_count": 290,
   "metadata": {},
   "outputs": [],
   "source": [
    "nombres_columnas = ['cadaCuantosMinutosHaceEventosEnUnDiaYHoraDelMes5_'+str(columna) for columna in df_cadaCuantosMinutosHaceEventosEnUnDiaYHoraDelMes5_conOneHot.columns]\n",
    "nombres_columnas[0] = 'person'\n",
    "df_cadaCuantosMinutosHaceEventosEnUnDiaYHoraDelMes5_conOneHot.columns = nombres_columnas"
   ]
  },
  {
   "cell_type": "code",
   "execution_count": 291,
   "metadata": {
    "scrolled": true
   },
   "outputs": [
    {
     "data": {
      "text/html": [
       "<div>\n",
       "<style scoped>\n",
       "    .dataframe tbody tr th:only-of-type {\n",
       "        vertical-align: middle;\n",
       "    }\n",
       "\n",
       "    .dataframe tbody tr th {\n",
       "        vertical-align: top;\n",
       "    }\n",
       "\n",
       "    .dataframe thead th {\n",
       "        text-align: right;\n",
       "    }\n",
       "</style>\n",
       "<table border=\"1\" class=\"dataframe\">\n",
       "  <thead>\n",
       "    <tr style=\"text-align: right;\">\n",
       "      <th></th>\n",
       "      <th>person</th>\n",
       "      <th>cadaCuantosMinutosHaceEventosEnUnDiaYHoraDelMes5_-1.0</th>\n",
       "      <th>cadaCuantosMinutosHaceEventosEnUnDiaYHoraDelMes5_1.0</th>\n",
       "      <th>cadaCuantosMinutosHaceEventosEnUnDiaYHoraDelMes5_0.0</th>\n",
       "      <th>cadaCuantosMinutosHaceEventosEnUnDiaYHoraDelMes5_3.0</th>\n",
       "      <th>cadaCuantosMinutosHaceEventosEnUnDiaYHoraDelMes5_2.0</th>\n",
       "      <th>cadaCuantosMinutosHaceEventosEnUnDiaYHoraDelMes5_6.0</th>\n",
       "      <th>cadaCuantosMinutosHaceEventosEnUnDiaYHoraDelMes5_4.0</th>\n",
       "      <th>cadaCuantosMinutosHaceEventosEnUnDiaYHoraDelMes5_7.0</th>\n",
       "      <th>cadaCuantosMinutosHaceEventosEnUnDiaYHoraDelMes5_5.0</th>\n",
       "      <th>cadaCuantosMinutosHaceEventosEnUnDiaYHoraDelMes5_8.0</th>\n",
       "      <th>cadaCuantosMinutosHaceEventosEnUnDiaYHoraDelMes5_9.0</th>\n",
       "      <th>cadaCuantosMinutosHaceEventosEnUnDiaYHoraDelMes5_12.0</th>\n",
       "      <th>cadaCuantosMinutosHaceEventosEnUnDiaYHoraDelMes5_17.0</th>\n",
       "      <th>cadaCuantosMinutosHaceEventosEnUnDiaYHoraDelMes5_16.0</th>\n",
       "      <th>cadaCuantosMinutosHaceEventosEnUnDiaYHoraDelMes5_10.0</th>\n",
       "    </tr>\n",
       "  </thead>\n",
       "  <tbody>\n",
       "    <tr>\n",
       "      <th>0</th>\n",
       "      <td>4886f805</td>\n",
       "      <td>0</td>\n",
       "      <td>0</td>\n",
       "      <td>0</td>\n",
       "      <td>0</td>\n",
       "      <td>0</td>\n",
       "      <td>0</td>\n",
       "      <td>0</td>\n",
       "      <td>0</td>\n",
       "      <td>0</td>\n",
       "      <td>1</td>\n",
       "      <td>0</td>\n",
       "      <td>0</td>\n",
       "      <td>0</td>\n",
       "      <td>0</td>\n",
       "      <td>0</td>\n",
       "    </tr>\n",
       "    <tr>\n",
       "      <th>1</th>\n",
       "      <td>ad93850f</td>\n",
       "      <td>0</td>\n",
       "      <td>0</td>\n",
       "      <td>0</td>\n",
       "      <td>1</td>\n",
       "      <td>0</td>\n",
       "      <td>0</td>\n",
       "      <td>0</td>\n",
       "      <td>0</td>\n",
       "      <td>0</td>\n",
       "      <td>0</td>\n",
       "      <td>0</td>\n",
       "      <td>0</td>\n",
       "      <td>0</td>\n",
       "      <td>0</td>\n",
       "      <td>0</td>\n",
       "    </tr>\n",
       "    <tr>\n",
       "      <th>2</th>\n",
       "      <td>0297fc1e</td>\n",
       "      <td>0</td>\n",
       "      <td>0</td>\n",
       "      <td>0</td>\n",
       "      <td>1</td>\n",
       "      <td>0</td>\n",
       "      <td>0</td>\n",
       "      <td>0</td>\n",
       "      <td>0</td>\n",
       "      <td>0</td>\n",
       "      <td>0</td>\n",
       "      <td>0</td>\n",
       "      <td>0</td>\n",
       "      <td>0</td>\n",
       "      <td>0</td>\n",
       "      <td>0</td>\n",
       "    </tr>\n",
       "    <tr>\n",
       "      <th>3</th>\n",
       "      <td>2d681dd8</td>\n",
       "      <td>0</td>\n",
       "      <td>0</td>\n",
       "      <td>0</td>\n",
       "      <td>0</td>\n",
       "      <td>1</td>\n",
       "      <td>0</td>\n",
       "      <td>0</td>\n",
       "      <td>0</td>\n",
       "      <td>0</td>\n",
       "      <td>0</td>\n",
       "      <td>0</td>\n",
       "      <td>0</td>\n",
       "      <td>0</td>\n",
       "      <td>0</td>\n",
       "      <td>0</td>\n",
       "    </tr>\n",
       "    <tr>\n",
       "      <th>4</th>\n",
       "      <td>cccea85e</td>\n",
       "      <td>0</td>\n",
       "      <td>0</td>\n",
       "      <td>0</td>\n",
       "      <td>1</td>\n",
       "      <td>0</td>\n",
       "      <td>0</td>\n",
       "      <td>0</td>\n",
       "      <td>0</td>\n",
       "      <td>0</td>\n",
       "      <td>0</td>\n",
       "      <td>0</td>\n",
       "      <td>0</td>\n",
       "      <td>0</td>\n",
       "      <td>0</td>\n",
       "      <td>0</td>\n",
       "    </tr>\n",
       "  </tbody>\n",
       "</table>\n",
       "</div>"
      ],
      "text/plain": [
       "     person  cadaCuantosMinutosHaceEventosEnUnDiaYHoraDelMes5_-1.0  \\\n",
       "0  4886f805                                                  0       \n",
       "1  ad93850f                                                  0       \n",
       "2  0297fc1e                                                  0       \n",
       "3  2d681dd8                                                  0       \n",
       "4  cccea85e                                                  0       \n",
       "\n",
       "   cadaCuantosMinutosHaceEventosEnUnDiaYHoraDelMes5_1.0  \\\n",
       "0                                                  0      \n",
       "1                                                  0      \n",
       "2                                                  0      \n",
       "3                                                  0      \n",
       "4                                                  0      \n",
       "\n",
       "   cadaCuantosMinutosHaceEventosEnUnDiaYHoraDelMes5_0.0  \\\n",
       "0                                                  0      \n",
       "1                                                  0      \n",
       "2                                                  0      \n",
       "3                                                  0      \n",
       "4                                                  0      \n",
       "\n",
       "   cadaCuantosMinutosHaceEventosEnUnDiaYHoraDelMes5_3.0  \\\n",
       "0                                                  0      \n",
       "1                                                  1      \n",
       "2                                                  1      \n",
       "3                                                  0      \n",
       "4                                                  1      \n",
       "\n",
       "   cadaCuantosMinutosHaceEventosEnUnDiaYHoraDelMes5_2.0  \\\n",
       "0                                                  0      \n",
       "1                                                  0      \n",
       "2                                                  0      \n",
       "3                                                  1      \n",
       "4                                                  0      \n",
       "\n",
       "   cadaCuantosMinutosHaceEventosEnUnDiaYHoraDelMes5_6.0  \\\n",
       "0                                                  0      \n",
       "1                                                  0      \n",
       "2                                                  0      \n",
       "3                                                  0      \n",
       "4                                                  0      \n",
       "\n",
       "   cadaCuantosMinutosHaceEventosEnUnDiaYHoraDelMes5_4.0  \\\n",
       "0                                                  0      \n",
       "1                                                  0      \n",
       "2                                                  0      \n",
       "3                                                  0      \n",
       "4                                                  0      \n",
       "\n",
       "   cadaCuantosMinutosHaceEventosEnUnDiaYHoraDelMes5_7.0  \\\n",
       "0                                                  0      \n",
       "1                                                  0      \n",
       "2                                                  0      \n",
       "3                                                  0      \n",
       "4                                                  0      \n",
       "\n",
       "   cadaCuantosMinutosHaceEventosEnUnDiaYHoraDelMes5_5.0  \\\n",
       "0                                                  0      \n",
       "1                                                  0      \n",
       "2                                                  0      \n",
       "3                                                  0      \n",
       "4                                                  0      \n",
       "\n",
       "   cadaCuantosMinutosHaceEventosEnUnDiaYHoraDelMes5_8.0  \\\n",
       "0                                                  1      \n",
       "1                                                  0      \n",
       "2                                                  0      \n",
       "3                                                  0      \n",
       "4                                                  0      \n",
       "\n",
       "   cadaCuantosMinutosHaceEventosEnUnDiaYHoraDelMes5_9.0  \\\n",
       "0                                                  0      \n",
       "1                                                  0      \n",
       "2                                                  0      \n",
       "3                                                  0      \n",
       "4                                                  0      \n",
       "\n",
       "   cadaCuantosMinutosHaceEventosEnUnDiaYHoraDelMes5_12.0  \\\n",
       "0                                                  0       \n",
       "1                                                  0       \n",
       "2                                                  0       \n",
       "3                                                  0       \n",
       "4                                                  0       \n",
       "\n",
       "   cadaCuantosMinutosHaceEventosEnUnDiaYHoraDelMes5_17.0  \\\n",
       "0                                                  0       \n",
       "1                                                  0       \n",
       "2                                                  0       \n",
       "3                                                  0       \n",
       "4                                                  0       \n",
       "\n",
       "   cadaCuantosMinutosHaceEventosEnUnDiaYHoraDelMes5_16.0  \\\n",
       "0                                                  0       \n",
       "1                                                  0       \n",
       "2                                                  0       \n",
       "3                                                  0       \n",
       "4                                                  0       \n",
       "\n",
       "   cadaCuantosMinutosHaceEventosEnUnDiaYHoraDelMes5_10.0  \n",
       "0                                                  0      \n",
       "1                                                  0      \n",
       "2                                                  0      \n",
       "3                                                  0      \n",
       "4                                                  0      "
      ]
     },
     "execution_count": 291,
     "metadata": {},
     "output_type": "execute_result"
    }
   ],
   "source": [
    "df_cadaCuantosMinutosHaceEventosEnUnDiaYHoraDelMes5_conOneHot.head()"
   ]
  },
  {
   "cell_type": "markdown",
   "metadata": {},
   "source": [
    "#### Cada cuantos segundos hace eventos en un dia y hora mes 5"
   ]
  },
  {
   "cell_type": "code",
   "execution_count": 292,
   "metadata": {},
   "outputs": [],
   "source": [
    "df_cadaCuantosSegundosHaceEventosEnUnDiaYHoraDelMes5 = df_events[df_events['month'] == 5]"
   ]
  },
  {
   "cell_type": "code",
   "execution_count": 293,
   "metadata": {},
   "outputs": [],
   "source": [
    "df_cadaCuantosSegundosHaceEventosEnUnDiaYHoraDelMes5 = df_cadaCuantosSegundosHaceEventosEnUnDiaYHoraDelMes5[['person','timestamp','day','hour']]"
   ]
  },
  {
   "cell_type": "code",
   "execution_count": 294,
   "metadata": {},
   "outputs": [],
   "source": [
    "df_cadaCuantosSegundosHaceEventosEnUnDiaYHoraDelMes5 = df_cadaCuantosSegundosHaceEventosEnUnDiaYHoraDelMes5.drop_duplicates()\\\n",
    "                                .sort_values(['timestamp'])"
   ]
  },
  {
   "cell_type": "code",
   "execution_count": 295,
   "metadata": {},
   "outputs": [],
   "source": [
    "# Funcion de agregacion para poder calcular la diferencia entre 2 ingresos consecutivos pero para una persona.\n",
    "def cadaCuantosSegundosHaceEventosEnUnDiaYHoraDelMes5(S):\n",
    "    if(len(S) == 1): return 0\n",
    "    return round(np.mean((S - S.shift()).dropna().dt.total_seconds()))"
   ]
  },
  {
   "cell_type": "code",
   "execution_count": 296,
   "metadata": {
    "scrolled": true
   },
   "outputs": [],
   "source": [
    "df_cadaCuantosSegundosHaceEventosEnUnDiaYHoraDelMes5 = (df_cadaCuantosSegundosHaceEventosEnUnDiaYHoraDelMes5\\\n",
    "        .groupby(['person','day','hour'])['timestamp'].agg(cadaCuantosSegundosHaceEventosEnUnDiaYHoraDelMes5)).to_frame()\n"
   ]
  },
  {
   "cell_type": "code",
   "execution_count": 297,
   "metadata": {},
   "outputs": [],
   "source": [
    "df_cadaCuantosSegundosHaceEventosEnUnDiaYHoraDelMes5 = df_cadaCuantosSegundosHaceEventosEnUnDiaYHoraDelMes5\\\n",
    "                .groupby('person')['timestamp'].mean().to_frame().reset_index()\n",
    "df_cadaCuantosSegundosHaceEventosEnUnDiaYHoraDelMes5['timestamp'] = df_cadaCuantosSegundosHaceEventosEnUnDiaYHoraDelMes5['timestamp'].apply(round)"
   ]
  },
  {
   "cell_type": "code",
   "execution_count": 298,
   "metadata": {
    "scrolled": true
   },
   "outputs": [],
   "source": [
    "df_cadaCuantosSegundosHaceEventosEnUnDiaYHoraDelMes5.columns = ['person','cadaCuantosSegundosHaceEventosEnUnDiaYHoraDelMes5']"
   ]
  },
  {
   "cell_type": "code",
   "execution_count": 299,
   "metadata": {},
   "outputs": [],
   "source": [
    "df_cadaCuantosSegundosHaceEventosEnUnDiaYHoraDelMes5 = pd.merge(df_todas_las_personas,df_cadaCuantosSegundosHaceEventosEnUnDiaYHoraDelMes5\\\n",
    "                                                       ,on = 'person', how = 'left')\n"
   ]
  },
  {
   "cell_type": "code",
   "execution_count": 300,
   "metadata": {},
   "outputs": [],
   "source": [
    "df_cadaCuantosSegundosHaceEventosEnUnDiaYHoraDelMes5 = df_cadaCuantosSegundosHaceEventosEnUnDiaYHoraDelMes5.fillna(-1)"
   ]
  },
  {
   "cell_type": "code",
   "execution_count": 301,
   "metadata": {
    "scrolled": false
   },
   "outputs": [
    {
     "data": {
      "text/html": [
       "<div>\n",
       "<style scoped>\n",
       "    .dataframe tbody tr th:only-of-type {\n",
       "        vertical-align: middle;\n",
       "    }\n",
       "\n",
       "    .dataframe tbody tr th {\n",
       "        vertical-align: top;\n",
       "    }\n",
       "\n",
       "    .dataframe thead th {\n",
       "        text-align: right;\n",
       "    }\n",
       "</style>\n",
       "<table border=\"1\" class=\"dataframe\">\n",
       "  <thead>\n",
       "    <tr style=\"text-align: right;\">\n",
       "      <th></th>\n",
       "      <th>person</th>\n",
       "      <th>cadaCuantosSegundosHaceEventosEnUnDiaYHoraDelMes5</th>\n",
       "    </tr>\n",
       "  </thead>\n",
       "  <tbody>\n",
       "    <tr>\n",
       "      <th>0</th>\n",
       "      <td>4886f805</td>\n",
       "      <td>198.0</td>\n",
       "    </tr>\n",
       "    <tr>\n",
       "      <th>1</th>\n",
       "      <td>ad93850f</td>\n",
       "      <td>69.0</td>\n",
       "    </tr>\n",
       "    <tr>\n",
       "      <th>2</th>\n",
       "      <td>0297fc1e</td>\n",
       "      <td>62.0</td>\n",
       "    </tr>\n",
       "    <tr>\n",
       "      <th>3</th>\n",
       "      <td>2d681dd8</td>\n",
       "      <td>27.0</td>\n",
       "    </tr>\n",
       "    <tr>\n",
       "      <th>4</th>\n",
       "      <td>cccea85e</td>\n",
       "      <td>41.0</td>\n",
       "    </tr>\n",
       "  </tbody>\n",
       "</table>\n",
       "</div>"
      ],
      "text/plain": [
       "     person  cadaCuantosSegundosHaceEventosEnUnDiaYHoraDelMes5\n",
       "0  4886f805                                              198.0\n",
       "1  ad93850f                                               69.0\n",
       "2  0297fc1e                                               62.0\n",
       "3  2d681dd8                                               27.0\n",
       "4  cccea85e                                               41.0"
      ]
     },
     "execution_count": 301,
     "metadata": {},
     "output_type": "execute_result"
    }
   ],
   "source": [
    "df_cadaCuantosSegundosHaceEventosEnUnDiaYHoraDelMes5.head()"
   ]
  },
  {
   "cell_type": "code",
   "execution_count": 302,
   "metadata": {},
   "outputs": [
    {
     "data": {
      "text/plain": [
       "(38829, 2)"
      ]
     },
     "execution_count": 302,
     "metadata": {},
     "output_type": "execute_result"
    }
   ],
   "source": [
    "df_cadaCuantosSegundosHaceEventosEnUnDiaYHoraDelMes5.shape"
   ]
  },
  {
   "cell_type": "markdown",
   "metadata": {},
   "source": [
    "Con one hot encoding"
   ]
  },
  {
   "cell_type": "code",
   "execution_count": 303,
   "metadata": {
    "scrolled": true
   },
   "outputs": [
    {
     "data": {
      "text/html": [
       "<div>\n",
       "<style scoped>\n",
       "    .dataframe tbody tr th:only-of-type {\n",
       "        vertical-align: middle;\n",
       "    }\n",
       "\n",
       "    .dataframe tbody tr th {\n",
       "        vertical-align: top;\n",
       "    }\n",
       "\n",
       "    .dataframe thead th {\n",
       "        text-align: right;\n",
       "    }\n",
       "</style>\n",
       "<table border=\"1\" class=\"dataframe\">\n",
       "  <thead>\n",
       "    <tr style=\"text-align: right;\">\n",
       "      <th></th>\n",
       "      <th>neg</th>\n",
       "      <th>pos</th>\n",
       "      <th>dif</th>\n",
       "    </tr>\n",
       "    <tr>\n",
       "      <th>cadaCuantosSegundosHaceEventosEnUnDiaYHoraDelMes5</th>\n",
       "      <th></th>\n",
       "      <th></th>\n",
       "      <th></th>\n",
       "    </tr>\n",
       "  </thead>\n",
       "  <tbody>\n",
       "    <tr>\n",
       "      <th>-1.0</th>\n",
       "      <td>0.037648</td>\n",
       "      <td>0.161224</td>\n",
       "      <td>0.123577</td>\n",
       "    </tr>\n",
       "    <tr>\n",
       "      <th>10.0</th>\n",
       "      <td>0.022513</td>\n",
       "      <td>0.008163</td>\n",
       "      <td>0.014349</td>\n",
       "    </tr>\n",
       "    <tr>\n",
       "      <th>16.0</th>\n",
       "      <td>0.023706</td>\n",
       "      <td>0.011224</td>\n",
       "      <td>0.012482</td>\n",
       "    </tr>\n",
       "    <tr>\n",
       "      <th>22.0</th>\n",
       "      <td>0.021591</td>\n",
       "      <td>0.010204</td>\n",
       "      <td>0.011386</td>\n",
       "    </tr>\n",
       "    <tr>\n",
       "      <th>6.0</th>\n",
       "      <td>0.019204</td>\n",
       "      <td>0.009184</td>\n",
       "      <td>0.010020</td>\n",
       "    </tr>\n",
       "  </tbody>\n",
       "</table>\n",
       "</div>"
      ],
      "text/plain": [
       "                                                        neg       pos  \\\n",
       "cadaCuantosSegundosHaceEventosEnUnDiaYHoraDelMes5                       \n",
       "-1.0                                               0.037648  0.161224   \n",
       " 10.0                                              0.022513  0.008163   \n",
       " 16.0                                              0.023706  0.011224   \n",
       " 22.0                                              0.021591  0.010204   \n",
       " 6.0                                               0.019204  0.009184   \n",
       "\n",
       "                                                        dif  \n",
       "cadaCuantosSegundosHaceEventosEnUnDiaYHoraDelMes5            \n",
       "-1.0                                               0.123577  \n",
       " 10.0                                              0.014349  \n",
       " 16.0                                              0.012482  \n",
       " 22.0                                              0.011386  \n",
       " 6.0                                               0.010020  "
      ]
     },
     "execution_count": 303,
     "metadata": {},
     "output_type": "execute_result"
    }
   ],
   "source": [
    "a = pd.merge(df_labels,df_cadaCuantosSegundosHaceEventosEnUnDiaYHoraDelMes5,on = 'person', how = 'inner')\n",
    "a = a.groupby(['cadaCuantosSegundosHaceEventosEnUnDiaYHoraDelMes5','label']).count().unstack()\n",
    "a.columns = ['neg','pos']\n",
    "a['neg'] = a['neg'] / a['neg'].sum()\n",
    "a['pos'] = a['pos'] / a['pos'].sum()\n",
    "a['dif'] = np.abs(a['pos'] - a['neg'])\n",
    "a.sort_values('dif',ascending = False, inplace = True)\n",
    "a.head()"
   ]
  },
  {
   "cell_type": "code",
   "execution_count": 305,
   "metadata": {
    "scrolled": true
   },
   "outputs": [],
   "source": [
    "K = 15\n",
    "top_columnas = list(a.head(K).index)\n",
    "top_columnas2 = list(df_cadaCuantosSegundosHaceEventosEnUnDiaYHoraDelMes5['cadaCuantosSegundosHaceEventosEnUnDiaYHoraDelMes5'].value_counts().head(K).index)\n",
    "df_cadaCuantosSegundosHaceEventosEnUnDiaYHoraDelMes5_conOneHot = pd.concat([df_cadaCuantosSegundosHaceEventosEnUnDiaYHoraDelMes5['person'],pd.get_dummies(df_cadaCuantosSegundosHaceEventosEnUnDiaYHoraDelMes5['cadaCuantosSegundosHaceEventosEnUnDiaYHoraDelMes5'])[top_columnas]],axis = 1)"
   ]
  },
  {
   "cell_type": "code",
   "execution_count": 306,
   "metadata": {},
   "outputs": [],
   "source": [
    "nombres_columnas = ['cadaCuantosSegundosHaceEventosEnUnDiaYHoraDelMes5_'+str(columna) for columna in df_cadaCuantosSegundosHaceEventosEnUnDiaYHoraDelMes5_conOneHot.columns]\n",
    "nombres_columnas[0] = 'person'\n",
    "df_cadaCuantosSegundosHaceEventosEnUnDiaYHoraDelMes5_conOneHot.columns = nombres_columnas"
   ]
  },
  {
   "cell_type": "code",
   "execution_count": 307,
   "metadata": {
    "scrolled": true
   },
   "outputs": [
    {
     "data": {
      "text/html": [
       "<div>\n",
       "<style scoped>\n",
       "    .dataframe tbody tr th:only-of-type {\n",
       "        vertical-align: middle;\n",
       "    }\n",
       "\n",
       "    .dataframe tbody tr th {\n",
       "        vertical-align: top;\n",
       "    }\n",
       "\n",
       "    .dataframe thead th {\n",
       "        text-align: right;\n",
       "    }\n",
       "</style>\n",
       "<table border=\"1\" class=\"dataframe\">\n",
       "  <thead>\n",
       "    <tr style=\"text-align: right;\">\n",
       "      <th></th>\n",
       "      <th>person</th>\n",
       "      <th>cadaCuantosSegundosHaceEventosEnUnDiaYHoraDelMes5_-1.0</th>\n",
       "      <th>cadaCuantosSegundosHaceEventosEnUnDiaYHoraDelMes5_10.0</th>\n",
       "      <th>cadaCuantosSegundosHaceEventosEnUnDiaYHoraDelMes5_16.0</th>\n",
       "      <th>cadaCuantosSegundosHaceEventosEnUnDiaYHoraDelMes5_22.0</th>\n",
       "      <th>cadaCuantosSegundosHaceEventosEnUnDiaYHoraDelMes5_6.0</th>\n",
       "      <th>cadaCuantosSegundosHaceEventosEnUnDiaYHoraDelMes5_1.0</th>\n",
       "      <th>cadaCuantosSegundosHaceEventosEnUnDiaYHoraDelMes5_7.0</th>\n",
       "      <th>cadaCuantosSegundosHaceEventosEnUnDiaYHoraDelMes5_17.0</th>\n",
       "      <th>cadaCuantosSegundosHaceEventosEnUnDiaYHoraDelMes5_28.0</th>\n",
       "      <th>cadaCuantosSegundosHaceEventosEnUnDiaYHoraDelMes5_8.0</th>\n",
       "      <th>cadaCuantosSegundosHaceEventosEnUnDiaYHoraDelMes5_23.0</th>\n",
       "      <th>cadaCuantosSegundosHaceEventosEnUnDiaYHoraDelMes5_71.0</th>\n",
       "      <th>cadaCuantosSegundosHaceEventosEnUnDiaYHoraDelMes5_15.0</th>\n",
       "      <th>cadaCuantosSegundosHaceEventosEnUnDiaYHoraDelMes5_13.0</th>\n",
       "      <th>cadaCuantosSegundosHaceEventosEnUnDiaYHoraDelMes5_44.0</th>\n",
       "    </tr>\n",
       "  </thead>\n",
       "  <tbody>\n",
       "    <tr>\n",
       "      <th>0</th>\n",
       "      <td>4886f805</td>\n",
       "      <td>0</td>\n",
       "      <td>0</td>\n",
       "      <td>0</td>\n",
       "      <td>0</td>\n",
       "      <td>0</td>\n",
       "      <td>0</td>\n",
       "      <td>0</td>\n",
       "      <td>0</td>\n",
       "      <td>0</td>\n",
       "      <td>0</td>\n",
       "      <td>0</td>\n",
       "      <td>0</td>\n",
       "      <td>0</td>\n",
       "      <td>0</td>\n",
       "      <td>0</td>\n",
       "    </tr>\n",
       "    <tr>\n",
       "      <th>1</th>\n",
       "      <td>ad93850f</td>\n",
       "      <td>0</td>\n",
       "      <td>0</td>\n",
       "      <td>0</td>\n",
       "      <td>0</td>\n",
       "      <td>0</td>\n",
       "      <td>0</td>\n",
       "      <td>0</td>\n",
       "      <td>0</td>\n",
       "      <td>0</td>\n",
       "      <td>0</td>\n",
       "      <td>0</td>\n",
       "      <td>0</td>\n",
       "      <td>0</td>\n",
       "      <td>0</td>\n",
       "      <td>0</td>\n",
       "    </tr>\n",
       "    <tr>\n",
       "      <th>2</th>\n",
       "      <td>0297fc1e</td>\n",
       "      <td>0</td>\n",
       "      <td>0</td>\n",
       "      <td>0</td>\n",
       "      <td>0</td>\n",
       "      <td>0</td>\n",
       "      <td>0</td>\n",
       "      <td>0</td>\n",
       "      <td>0</td>\n",
       "      <td>0</td>\n",
       "      <td>0</td>\n",
       "      <td>0</td>\n",
       "      <td>0</td>\n",
       "      <td>0</td>\n",
       "      <td>0</td>\n",
       "      <td>0</td>\n",
       "    </tr>\n",
       "    <tr>\n",
       "      <th>3</th>\n",
       "      <td>2d681dd8</td>\n",
       "      <td>0</td>\n",
       "      <td>0</td>\n",
       "      <td>0</td>\n",
       "      <td>0</td>\n",
       "      <td>0</td>\n",
       "      <td>0</td>\n",
       "      <td>0</td>\n",
       "      <td>0</td>\n",
       "      <td>0</td>\n",
       "      <td>0</td>\n",
       "      <td>0</td>\n",
       "      <td>0</td>\n",
       "      <td>0</td>\n",
       "      <td>0</td>\n",
       "      <td>0</td>\n",
       "    </tr>\n",
       "    <tr>\n",
       "      <th>4</th>\n",
       "      <td>cccea85e</td>\n",
       "      <td>0</td>\n",
       "      <td>0</td>\n",
       "      <td>0</td>\n",
       "      <td>0</td>\n",
       "      <td>0</td>\n",
       "      <td>0</td>\n",
       "      <td>0</td>\n",
       "      <td>0</td>\n",
       "      <td>0</td>\n",
       "      <td>0</td>\n",
       "      <td>0</td>\n",
       "      <td>0</td>\n",
       "      <td>0</td>\n",
       "      <td>0</td>\n",
       "      <td>0</td>\n",
       "    </tr>\n",
       "  </tbody>\n",
       "</table>\n",
       "</div>"
      ],
      "text/plain": [
       "     person  cadaCuantosSegundosHaceEventosEnUnDiaYHoraDelMes5_-1.0  \\\n",
       "0  4886f805                                                  0        \n",
       "1  ad93850f                                                  0        \n",
       "2  0297fc1e                                                  0        \n",
       "3  2d681dd8                                                  0        \n",
       "4  cccea85e                                                  0        \n",
       "\n",
       "   cadaCuantosSegundosHaceEventosEnUnDiaYHoraDelMes5_10.0  \\\n",
       "0                                                  0        \n",
       "1                                                  0        \n",
       "2                                                  0        \n",
       "3                                                  0        \n",
       "4                                                  0        \n",
       "\n",
       "   cadaCuantosSegundosHaceEventosEnUnDiaYHoraDelMes5_16.0  \\\n",
       "0                                                  0        \n",
       "1                                                  0        \n",
       "2                                                  0        \n",
       "3                                                  0        \n",
       "4                                                  0        \n",
       "\n",
       "   cadaCuantosSegundosHaceEventosEnUnDiaYHoraDelMes5_22.0  \\\n",
       "0                                                  0        \n",
       "1                                                  0        \n",
       "2                                                  0        \n",
       "3                                                  0        \n",
       "4                                                  0        \n",
       "\n",
       "   cadaCuantosSegundosHaceEventosEnUnDiaYHoraDelMes5_6.0  \\\n",
       "0                                                  0       \n",
       "1                                                  0       \n",
       "2                                                  0       \n",
       "3                                                  0       \n",
       "4                                                  0       \n",
       "\n",
       "   cadaCuantosSegundosHaceEventosEnUnDiaYHoraDelMes5_1.0  \\\n",
       "0                                                  0       \n",
       "1                                                  0       \n",
       "2                                                  0       \n",
       "3                                                  0       \n",
       "4                                                  0       \n",
       "\n",
       "   cadaCuantosSegundosHaceEventosEnUnDiaYHoraDelMes5_7.0  \\\n",
       "0                                                  0       \n",
       "1                                                  0       \n",
       "2                                                  0       \n",
       "3                                                  0       \n",
       "4                                                  0       \n",
       "\n",
       "   cadaCuantosSegundosHaceEventosEnUnDiaYHoraDelMes5_17.0  \\\n",
       "0                                                  0        \n",
       "1                                                  0        \n",
       "2                                                  0        \n",
       "3                                                  0        \n",
       "4                                                  0        \n",
       "\n",
       "   cadaCuantosSegundosHaceEventosEnUnDiaYHoraDelMes5_28.0  \\\n",
       "0                                                  0        \n",
       "1                                                  0        \n",
       "2                                                  0        \n",
       "3                                                  0        \n",
       "4                                                  0        \n",
       "\n",
       "   cadaCuantosSegundosHaceEventosEnUnDiaYHoraDelMes5_8.0  \\\n",
       "0                                                  0       \n",
       "1                                                  0       \n",
       "2                                                  0       \n",
       "3                                                  0       \n",
       "4                                                  0       \n",
       "\n",
       "   cadaCuantosSegundosHaceEventosEnUnDiaYHoraDelMes5_23.0  \\\n",
       "0                                                  0        \n",
       "1                                                  0        \n",
       "2                                                  0        \n",
       "3                                                  0        \n",
       "4                                                  0        \n",
       "\n",
       "   cadaCuantosSegundosHaceEventosEnUnDiaYHoraDelMes5_71.0  \\\n",
       "0                                                  0        \n",
       "1                                                  0        \n",
       "2                                                  0        \n",
       "3                                                  0        \n",
       "4                                                  0        \n",
       "\n",
       "   cadaCuantosSegundosHaceEventosEnUnDiaYHoraDelMes5_15.0  \\\n",
       "0                                                  0        \n",
       "1                                                  0        \n",
       "2                                                  0        \n",
       "3                                                  0        \n",
       "4                                                  0        \n",
       "\n",
       "   cadaCuantosSegundosHaceEventosEnUnDiaYHoraDelMes5_13.0  \\\n",
       "0                                                  0        \n",
       "1                                                  0        \n",
       "2                                                  0        \n",
       "3                                                  0        \n",
       "4                                                  0        \n",
       "\n",
       "   cadaCuantosSegundosHaceEventosEnUnDiaYHoraDelMes5_44.0  \n",
       "0                                                  0       \n",
       "1                                                  0       \n",
       "2                                                  0       \n",
       "3                                                  0       \n",
       "4                                                  0       "
      ]
     },
     "execution_count": 307,
     "metadata": {},
     "output_type": "execute_result"
    }
   ],
   "source": [
    "df_cadaCuantosSegundosHaceEventosEnUnDiaYHoraDelMes5_conOneHot.head()"
   ]
  },
  {
   "cell_type": "markdown",
   "metadata": {},
   "source": [
    "#### Cada cuantas horas hace eventos en su ultima conexion (dia) en el mes 5"
   ]
  },
  {
   "cell_type": "code",
   "execution_count": 308,
   "metadata": {},
   "outputs": [],
   "source": [
    "df_cadaCuantasHorasHaceEventosEnSuUltimaConexionDelMes5 = df_events[df_events['month'] == 5]"
   ]
  },
  {
   "cell_type": "code",
   "execution_count": 309,
   "metadata": {},
   "outputs": [],
   "source": [
    "df_cadaCuantasHorasHaceEventosEnSuUltimaConexionDelMes5 = df_cadaCuantasHorasHaceEventosEnSuUltimaConexionDelMes5[['person','day','hour']]"
   ]
  },
  {
   "cell_type": "code",
   "execution_count": 310,
   "metadata": {},
   "outputs": [],
   "source": [
    "df_cadaCuantasHorasHaceEventosEnSuUltimaConexionDelMes5 = df_cadaCuantasHorasHaceEventosEnSuUltimaConexionDelMes5.drop_duplicates()\\\n",
    "                                .sort_values(['day','hour'])"
   ]
  },
  {
   "cell_type": "code",
   "execution_count": 311,
   "metadata": {},
   "outputs": [],
   "source": [
    "# Funcion de agregacion para poder calcular la diferencia entre 2 ingresos consecutivos pero para una persona.\n",
    "def cadaCuantasHorasHaceEventosEnSuUltimaConexionDelMes5(S):\n",
    "    if(len(S) == 1): return 0\n",
    "    return round(np.mean((S - S.shift()).dropna()))"
   ]
  },
  {
   "cell_type": "code",
   "execution_count": 312,
   "metadata": {
    "scrolled": true
   },
   "outputs": [],
   "source": [
    "df_cadaCuantasHorasHaceEventosEnSuUltimaConexionDelMes5 = (df_cadaCuantasHorasHaceEventosEnSuUltimaConexionDelMes5\\\n",
    "        .groupby(['person','day'])['hour'].agg(cadaCuantasHorasHaceEventosEnSuUltimaConexionDelMes5)).to_frame()\n"
   ]
  },
  {
   "cell_type": "code",
   "execution_count": 313,
   "metadata": {
    "scrolled": true
   },
   "outputs": [],
   "source": [
    "df_cadaCuantasHorasHaceEventosEnSuUltimaConexionDelMes5 = df_cadaCuantasHorasHaceEventosEnSuUltimaConexionDelMes5\\\n",
    "                .groupby('person').last().reset_index()"
   ]
  },
  {
   "cell_type": "code",
   "execution_count": 314,
   "metadata": {
    "scrolled": true
   },
   "outputs": [],
   "source": [
    "df_cadaCuantasHorasHaceEventosEnSuUltimaConexionDelMes5.columns = ['person','cadaCuantasHorasHaceEventosEnSuUltimaConexionDelMes5']"
   ]
  },
  {
   "cell_type": "code",
   "execution_count": 315,
   "metadata": {},
   "outputs": [],
   "source": [
    "df_cadaCuantasHorasHaceEventosEnSuUltimaConexionDelMes5 = pd.merge(df_todas_las_personas,df_cadaCuantasHorasHaceEventosEnSuUltimaConexionDelMes5\\\n",
    "                                                       ,on = 'person', how = 'left')\n"
   ]
  },
  {
   "cell_type": "code",
   "execution_count": 316,
   "metadata": {},
   "outputs": [],
   "source": [
    "df_cadaCuantasHorasHaceEventosEnSuUltimaConexionDelMes5 = df_cadaCuantasHorasHaceEventosEnSuUltimaConexionDelMes5.fillna(-1)"
   ]
  },
  {
   "cell_type": "code",
   "execution_count": 317,
   "metadata": {
    "scrolled": true
   },
   "outputs": [
    {
     "data": {
      "text/html": [
       "<div>\n",
       "<style scoped>\n",
       "    .dataframe tbody tr th:only-of-type {\n",
       "        vertical-align: middle;\n",
       "    }\n",
       "\n",
       "    .dataframe tbody tr th {\n",
       "        vertical-align: top;\n",
       "    }\n",
       "\n",
       "    .dataframe thead th {\n",
       "        text-align: right;\n",
       "    }\n",
       "</style>\n",
       "<table border=\"1\" class=\"dataframe\">\n",
       "  <thead>\n",
       "    <tr style=\"text-align: right;\">\n",
       "      <th></th>\n",
       "      <th>person</th>\n",
       "      <th>cadaCuantasHorasHaceEventosEnSuUltimaConexionDelMes5</th>\n",
       "    </tr>\n",
       "  </thead>\n",
       "  <tbody>\n",
       "    <tr>\n",
       "      <th>0</th>\n",
       "      <td>4886f805</td>\n",
       "      <td>0.0</td>\n",
       "    </tr>\n",
       "    <tr>\n",
       "      <th>1</th>\n",
       "      <td>ad93850f</td>\n",
       "      <td>0.0</td>\n",
       "    </tr>\n",
       "    <tr>\n",
       "      <th>2</th>\n",
       "      <td>0297fc1e</td>\n",
       "      <td>0.0</td>\n",
       "    </tr>\n",
       "    <tr>\n",
       "      <th>3</th>\n",
       "      <td>2d681dd8</td>\n",
       "      <td>0.0</td>\n",
       "    </tr>\n",
       "    <tr>\n",
       "      <th>4</th>\n",
       "      <td>cccea85e</td>\n",
       "      <td>5.0</td>\n",
       "    </tr>\n",
       "  </tbody>\n",
       "</table>\n",
       "</div>"
      ],
      "text/plain": [
       "     person  cadaCuantasHorasHaceEventosEnSuUltimaConexionDelMes5\n",
       "0  4886f805                                                0.0   \n",
       "1  ad93850f                                                0.0   \n",
       "2  0297fc1e                                                0.0   \n",
       "3  2d681dd8                                                0.0   \n",
       "4  cccea85e                                                5.0   "
      ]
     },
     "execution_count": 317,
     "metadata": {},
     "output_type": "execute_result"
    }
   ],
   "source": [
    "df_cadaCuantasHorasHaceEventosEnSuUltimaConexionDelMes5.head()"
   ]
  },
  {
   "cell_type": "markdown",
   "metadata": {},
   "source": [
    "Con one hot encoding"
   ]
  },
  {
   "cell_type": "code",
   "execution_count": 318,
   "metadata": {
    "scrolled": true
   },
   "outputs": [
    {
     "data": {
      "text/html": [
       "<div>\n",
       "<style scoped>\n",
       "    .dataframe tbody tr th:only-of-type {\n",
       "        vertical-align: middle;\n",
       "    }\n",
       "\n",
       "    .dataframe tbody tr th {\n",
       "        vertical-align: top;\n",
       "    }\n",
       "\n",
       "    .dataframe thead th {\n",
       "        text-align: right;\n",
       "    }\n",
       "</style>\n",
       "<table border=\"1\" class=\"dataframe\">\n",
       "  <thead>\n",
       "    <tr style=\"text-align: right;\">\n",
       "      <th></th>\n",
       "      <th>neg</th>\n",
       "      <th>pos</th>\n",
       "      <th>dif</th>\n",
       "    </tr>\n",
       "    <tr>\n",
       "      <th>cadaCuantasHorasHaceEventosEnSuUltimaConexionDelMes5</th>\n",
       "      <th></th>\n",
       "      <th></th>\n",
       "      <th></th>\n",
       "    </tr>\n",
       "  </thead>\n",
       "  <tbody>\n",
       "    <tr>\n",
       "      <th>0.0</th>\n",
       "      <td>0.674948</td>\n",
       "      <td>0.522449</td>\n",
       "      <td>0.152499</td>\n",
       "    </tr>\n",
       "    <tr>\n",
       "      <th>-1.0</th>\n",
       "      <td>0.037648</td>\n",
       "      <td>0.161224</td>\n",
       "      <td>0.123577</td>\n",
       "    </tr>\n",
       "    <tr>\n",
       "      <th>1.0</th>\n",
       "      <td>0.141098</td>\n",
       "      <td>0.123469</td>\n",
       "      <td>0.017629</td>\n",
       "    </tr>\n",
       "    <tr>\n",
       "      <th>4.0</th>\n",
       "      <td>0.018173</td>\n",
       "      <td>0.027551</td>\n",
       "      <td>0.009378</td>\n",
       "    </tr>\n",
       "    <tr>\n",
       "      <th>6.0</th>\n",
       "      <td>0.012857</td>\n",
       "      <td>0.021429</td>\n",
       "      <td>0.008572</td>\n",
       "    </tr>\n",
       "  </tbody>\n",
       "</table>\n",
       "</div>"
      ],
      "text/plain": [
       "                                                         neg       pos  \\\n",
       "cadaCuantasHorasHaceEventosEnSuUltimaConexionDe...                       \n",
       " 0.0                                                0.674948  0.522449   \n",
       "-1.0                                                0.037648  0.161224   \n",
       " 1.0                                                0.141098  0.123469   \n",
       " 4.0                                                0.018173  0.027551   \n",
       " 6.0                                                0.012857  0.021429   \n",
       "\n",
       "                                                         dif  \n",
       "cadaCuantasHorasHaceEventosEnSuUltimaConexionDe...            \n",
       " 0.0                                                0.152499  \n",
       "-1.0                                                0.123577  \n",
       " 1.0                                                0.017629  \n",
       " 4.0                                                0.009378  \n",
       " 6.0                                                0.008572  "
      ]
     },
     "execution_count": 318,
     "metadata": {},
     "output_type": "execute_result"
    }
   ],
   "source": [
    "a = pd.merge(df_labels,df_cadaCuantasHorasHaceEventosEnSuUltimaConexionDelMes5,on = 'person', how = 'inner')\n",
    "a = a.groupby(['cadaCuantasHorasHaceEventosEnSuUltimaConexionDelMes5','label']).count().unstack()\n",
    "a.columns = ['neg','pos']\n",
    "a['neg'] = a['neg'] / a['neg'].sum()\n",
    "a['pos'] = a['pos'] / a['pos'].sum()\n",
    "a['dif'] = np.abs(a['pos'] - a['neg'])\n",
    "a.sort_values('dif',ascending = False, inplace = True)\n",
    "a.head()"
   ]
  },
  {
   "cell_type": "code",
   "execution_count": 319,
   "metadata": {
    "scrolled": true
   },
   "outputs": [],
   "source": [
    "K = 15\n",
    "top_columnas = list(a.head(K).index)\n",
    "top_columnas2 = list(df_cadaCuantasHorasHaceEventosEnSuUltimaConexionDelMes5['cadaCuantasHorasHaceEventosEnSuUltimaConexionDelMes5'].value_counts().head(K).index)\n",
    "df_cadaCuantasHorasHaceEventosEnSuUltimaConexionDelMes5_conOneHot = pd.concat([df_cadaCuantasHorasHaceEventosEnSuUltimaConexionDelMes5['person'],pd.get_dummies(df_cadaCuantasHorasHaceEventosEnSuUltimaConexionDelMes5['cadaCuantasHorasHaceEventosEnSuUltimaConexionDelMes5'])[top_columnas]],axis = 1)"
   ]
  },
  {
   "cell_type": "code",
   "execution_count": 320,
   "metadata": {},
   "outputs": [],
   "source": [
    "nombres_columnas = ['cadaCuantasHorasHaceEventosEnSuUltimaConexionDelMes5_'+str(columna) for columna in df_cadaCuantasHorasHaceEventosEnSuUltimaConexionDelMes5_conOneHot.columns]\n",
    "nombres_columnas[0] = 'person'\n",
    "df_cadaCuantasHorasHaceEventosEnSuUltimaConexionDelMes5_conOneHot.columns = nombres_columnas"
   ]
  },
  {
   "cell_type": "code",
   "execution_count": 321,
   "metadata": {
    "scrolled": true
   },
   "outputs": [
    {
     "data": {
      "text/html": [
       "<div>\n",
       "<style scoped>\n",
       "    .dataframe tbody tr th:only-of-type {\n",
       "        vertical-align: middle;\n",
       "    }\n",
       "\n",
       "    .dataframe tbody tr th {\n",
       "        vertical-align: top;\n",
       "    }\n",
       "\n",
       "    .dataframe thead th {\n",
       "        text-align: right;\n",
       "    }\n",
       "</style>\n",
       "<table border=\"1\" class=\"dataframe\">\n",
       "  <thead>\n",
       "    <tr style=\"text-align: right;\">\n",
       "      <th></th>\n",
       "      <th>person</th>\n",
       "      <th>cadaCuantasHorasHaceEventosEnSuUltimaConexionDelMes5_0.0</th>\n",
       "      <th>cadaCuantasHorasHaceEventosEnSuUltimaConexionDelMes5_-1.0</th>\n",
       "      <th>cadaCuantasHorasHaceEventosEnSuUltimaConexionDelMes5_1.0</th>\n",
       "      <th>cadaCuantasHorasHaceEventosEnSuUltimaConexionDelMes5_4.0</th>\n",
       "      <th>cadaCuantasHorasHaceEventosEnSuUltimaConexionDelMes5_6.0</th>\n",
       "      <th>cadaCuantasHorasHaceEventosEnSuUltimaConexionDelMes5_2.0</th>\n",
       "      <th>cadaCuantasHorasHaceEventosEnSuUltimaConexionDelMes5_8.0</th>\n",
       "      <th>cadaCuantasHorasHaceEventosEnSuUltimaConexionDelMes5_7.0</th>\n",
       "      <th>cadaCuantasHorasHaceEventosEnSuUltimaConexionDelMes5_15.0</th>\n",
       "      <th>cadaCuantasHorasHaceEventosEnSuUltimaConexionDelMes5_19.0</th>\n",
       "      <th>cadaCuantasHorasHaceEventosEnSuUltimaConexionDelMes5_13.0</th>\n",
       "      <th>cadaCuantasHorasHaceEventosEnSuUltimaConexionDelMes5_23.0</th>\n",
       "      <th>cadaCuantasHorasHaceEventosEnSuUltimaConexionDelMes5_10.0</th>\n",
       "      <th>cadaCuantasHorasHaceEventosEnSuUltimaConexionDelMes5_12.0</th>\n",
       "      <th>cadaCuantasHorasHaceEventosEnSuUltimaConexionDelMes5_14.0</th>\n",
       "    </tr>\n",
       "  </thead>\n",
       "  <tbody>\n",
       "    <tr>\n",
       "      <th>0</th>\n",
       "      <td>4886f805</td>\n",
       "      <td>1</td>\n",
       "      <td>0</td>\n",
       "      <td>0</td>\n",
       "      <td>0</td>\n",
       "      <td>0</td>\n",
       "      <td>0</td>\n",
       "      <td>0</td>\n",
       "      <td>0</td>\n",
       "      <td>0</td>\n",
       "      <td>0</td>\n",
       "      <td>0</td>\n",
       "      <td>0</td>\n",
       "      <td>0</td>\n",
       "      <td>0</td>\n",
       "      <td>0</td>\n",
       "    </tr>\n",
       "    <tr>\n",
       "      <th>1</th>\n",
       "      <td>ad93850f</td>\n",
       "      <td>1</td>\n",
       "      <td>0</td>\n",
       "      <td>0</td>\n",
       "      <td>0</td>\n",
       "      <td>0</td>\n",
       "      <td>0</td>\n",
       "      <td>0</td>\n",
       "      <td>0</td>\n",
       "      <td>0</td>\n",
       "      <td>0</td>\n",
       "      <td>0</td>\n",
       "      <td>0</td>\n",
       "      <td>0</td>\n",
       "      <td>0</td>\n",
       "      <td>0</td>\n",
       "    </tr>\n",
       "    <tr>\n",
       "      <th>2</th>\n",
       "      <td>0297fc1e</td>\n",
       "      <td>1</td>\n",
       "      <td>0</td>\n",
       "      <td>0</td>\n",
       "      <td>0</td>\n",
       "      <td>0</td>\n",
       "      <td>0</td>\n",
       "      <td>0</td>\n",
       "      <td>0</td>\n",
       "      <td>0</td>\n",
       "      <td>0</td>\n",
       "      <td>0</td>\n",
       "      <td>0</td>\n",
       "      <td>0</td>\n",
       "      <td>0</td>\n",
       "      <td>0</td>\n",
       "    </tr>\n",
       "    <tr>\n",
       "      <th>3</th>\n",
       "      <td>2d681dd8</td>\n",
       "      <td>1</td>\n",
       "      <td>0</td>\n",
       "      <td>0</td>\n",
       "      <td>0</td>\n",
       "      <td>0</td>\n",
       "      <td>0</td>\n",
       "      <td>0</td>\n",
       "      <td>0</td>\n",
       "      <td>0</td>\n",
       "      <td>0</td>\n",
       "      <td>0</td>\n",
       "      <td>0</td>\n",
       "      <td>0</td>\n",
       "      <td>0</td>\n",
       "      <td>0</td>\n",
       "    </tr>\n",
       "    <tr>\n",
       "      <th>4</th>\n",
       "      <td>cccea85e</td>\n",
       "      <td>0</td>\n",
       "      <td>0</td>\n",
       "      <td>0</td>\n",
       "      <td>0</td>\n",
       "      <td>0</td>\n",
       "      <td>0</td>\n",
       "      <td>0</td>\n",
       "      <td>0</td>\n",
       "      <td>0</td>\n",
       "      <td>0</td>\n",
       "      <td>0</td>\n",
       "      <td>0</td>\n",
       "      <td>0</td>\n",
       "      <td>0</td>\n",
       "      <td>0</td>\n",
       "    </tr>\n",
       "  </tbody>\n",
       "</table>\n",
       "</div>"
      ],
      "text/plain": [
       "     person  cadaCuantasHorasHaceEventosEnSuUltimaConexionDelMes5_0.0  \\\n",
       "0  4886f805                                                  1          \n",
       "1  ad93850f                                                  1          \n",
       "2  0297fc1e                                                  1          \n",
       "3  2d681dd8                                                  1          \n",
       "4  cccea85e                                                  0          \n",
       "\n",
       "   cadaCuantasHorasHaceEventosEnSuUltimaConexionDelMes5_-1.0  \\\n",
       "0                                                  0           \n",
       "1                                                  0           \n",
       "2                                                  0           \n",
       "3                                                  0           \n",
       "4                                                  0           \n",
       "\n",
       "   cadaCuantasHorasHaceEventosEnSuUltimaConexionDelMes5_1.0  \\\n",
       "0                                                  0          \n",
       "1                                                  0          \n",
       "2                                                  0          \n",
       "3                                                  0          \n",
       "4                                                  0          \n",
       "\n",
       "   cadaCuantasHorasHaceEventosEnSuUltimaConexionDelMes5_4.0  \\\n",
       "0                                                  0          \n",
       "1                                                  0          \n",
       "2                                                  0          \n",
       "3                                                  0          \n",
       "4                                                  0          \n",
       "\n",
       "   cadaCuantasHorasHaceEventosEnSuUltimaConexionDelMes5_6.0  \\\n",
       "0                                                  0          \n",
       "1                                                  0          \n",
       "2                                                  0          \n",
       "3                                                  0          \n",
       "4                                                  0          \n",
       "\n",
       "   cadaCuantasHorasHaceEventosEnSuUltimaConexionDelMes5_2.0  \\\n",
       "0                                                  0          \n",
       "1                                                  0          \n",
       "2                                                  0          \n",
       "3                                                  0          \n",
       "4                                                  0          \n",
       "\n",
       "   cadaCuantasHorasHaceEventosEnSuUltimaConexionDelMes5_8.0  \\\n",
       "0                                                  0          \n",
       "1                                                  0          \n",
       "2                                                  0          \n",
       "3                                                  0          \n",
       "4                                                  0          \n",
       "\n",
       "   cadaCuantasHorasHaceEventosEnSuUltimaConexionDelMes5_7.0  \\\n",
       "0                                                  0          \n",
       "1                                                  0          \n",
       "2                                                  0          \n",
       "3                                                  0          \n",
       "4                                                  0          \n",
       "\n",
       "   cadaCuantasHorasHaceEventosEnSuUltimaConexionDelMes5_15.0  \\\n",
       "0                                                  0           \n",
       "1                                                  0           \n",
       "2                                                  0           \n",
       "3                                                  0           \n",
       "4                                                  0           \n",
       "\n",
       "   cadaCuantasHorasHaceEventosEnSuUltimaConexionDelMes5_19.0  \\\n",
       "0                                                  0           \n",
       "1                                                  0           \n",
       "2                                                  0           \n",
       "3                                                  0           \n",
       "4                                                  0           \n",
       "\n",
       "   cadaCuantasHorasHaceEventosEnSuUltimaConexionDelMes5_13.0  \\\n",
       "0                                                  0           \n",
       "1                                                  0           \n",
       "2                                                  0           \n",
       "3                                                  0           \n",
       "4                                                  0           \n",
       "\n",
       "   cadaCuantasHorasHaceEventosEnSuUltimaConexionDelMes5_23.0  \\\n",
       "0                                                  0           \n",
       "1                                                  0           \n",
       "2                                                  0           \n",
       "3                                                  0           \n",
       "4                                                  0           \n",
       "\n",
       "   cadaCuantasHorasHaceEventosEnSuUltimaConexionDelMes5_10.0  \\\n",
       "0                                                  0           \n",
       "1                                                  0           \n",
       "2                                                  0           \n",
       "3                                                  0           \n",
       "4                                                  0           \n",
       "\n",
       "   cadaCuantasHorasHaceEventosEnSuUltimaConexionDelMes5_12.0  \\\n",
       "0                                                  0           \n",
       "1                                                  0           \n",
       "2                                                  0           \n",
       "3                                                  0           \n",
       "4                                                  0           \n",
       "\n",
       "   cadaCuantasHorasHaceEventosEnSuUltimaConexionDelMes5_14.0  \n",
       "0                                                  0          \n",
       "1                                                  0          \n",
       "2                                                  0          \n",
       "3                                                  0          \n",
       "4                                                  0          "
      ]
     },
     "execution_count": 321,
     "metadata": {},
     "output_type": "execute_result"
    }
   ],
   "source": [
    "df_cadaCuantasHorasHaceEventosEnSuUltimaConexionDelMes5_conOneHot.head()"
   ]
  },
  {
   "cell_type": "markdown",
   "metadata": {},
   "source": [
    "#### Cada cuantos minutos hace eventos en su ultima conexion (dia) en el mes 5"
   ]
  },
  {
   "cell_type": "code",
   "execution_count": 322,
   "metadata": {},
   "outputs": [],
   "source": [
    "df_cadaCuantosMinutosHaceEventosEnSuUltimaConexionDelMes5 = df_events[df_events['month'] == 5]"
   ]
  },
  {
   "cell_type": "code",
   "execution_count": 323,
   "metadata": {},
   "outputs": [],
   "source": [
    "df_cadaCuantosMinutosHaceEventosEnSuUltimaConexionDelMes5 = df_cadaCuantosMinutosHaceEventosEnSuUltimaConexionDelMes5[['person','day','hour','minute']]"
   ]
  },
  {
   "cell_type": "code",
   "execution_count": 324,
   "metadata": {},
   "outputs": [],
   "source": [
    "df_cadaCuantosMinutosHaceEventosEnSuUltimaConexionDelMes5 = df_cadaCuantosMinutosHaceEventosEnSuUltimaConexionDelMes5.drop_duplicates()\\\n",
    "                                .sort_values(['day','hour','minute'])"
   ]
  },
  {
   "cell_type": "code",
   "execution_count": 325,
   "metadata": {},
   "outputs": [],
   "source": [
    "# Funcion de agregacion para poder calcular la diferencia entre 2 ingresos consecutivos pero para una persona.\n",
    "def cadaCuantosMinutosHaceEventosEnSuUltimaConexionDelMes5(S):\n",
    "    if(len(S) == 1): return 0\n",
    "    return round(np.mean((S - S.shift()).dropna()))"
   ]
  },
  {
   "cell_type": "code",
   "execution_count": 326,
   "metadata": {
    "scrolled": true
   },
   "outputs": [],
   "source": [
    "df_cadaCuantosMinutosHaceEventosEnSuUltimaConexionDelMes5 = (df_cadaCuantosMinutosHaceEventosEnSuUltimaConexionDelMes5\\\n",
    "        .groupby(['person','day','hour'])['minute'].agg(cadaCuantosMinutosHaceEventosEnSuUltimaConexionDelMes5)).to_frame()\n"
   ]
  },
  {
   "cell_type": "code",
   "execution_count": 327,
   "metadata": {},
   "outputs": [],
   "source": [
    "df_cadaCuantosMinutosHaceEventosEnSuUltimaConexionDelMes5 = df_cadaCuantosMinutosHaceEventosEnSuUltimaConexionDelMes5\\\n",
    "            .groupby(['person','day']).mean().groupby('person').last().reset_index()"
   ]
  },
  {
   "cell_type": "code",
   "execution_count": 328,
   "metadata": {
    "scrolled": true
   },
   "outputs": [],
   "source": [
    "df_cadaCuantosMinutosHaceEventosEnSuUltimaConexionDelMes5.columns = ['person','cadaCuantosMinutosHaceEventosEnSuUltimaConexionDelMes5']"
   ]
  },
  {
   "cell_type": "code",
   "execution_count": 329,
   "metadata": {},
   "outputs": [],
   "source": [
    "df_cadaCuantosMinutosHaceEventosEnSuUltimaConexionDelMes5 = pd.merge(df_todas_las_personas,df_cadaCuantosMinutosHaceEventosEnSuUltimaConexionDelMes5\\\n",
    "                                                       ,on = 'person', how = 'left')\n"
   ]
  },
  {
   "cell_type": "code",
   "execution_count": 330,
   "metadata": {},
   "outputs": [],
   "source": [
    "df_cadaCuantosMinutosHaceEventosEnSuUltimaConexionDelMes5 = df_cadaCuantosMinutosHaceEventosEnSuUltimaConexionDelMes5.fillna(-1)"
   ]
  },
  {
   "cell_type": "code",
   "execution_count": 331,
   "metadata": {
    "scrolled": false
   },
   "outputs": [
    {
     "data": {
      "text/html": [
       "<div>\n",
       "<style scoped>\n",
       "    .dataframe tbody tr th:only-of-type {\n",
       "        vertical-align: middle;\n",
       "    }\n",
       "\n",
       "    .dataframe tbody tr th {\n",
       "        vertical-align: top;\n",
       "    }\n",
       "\n",
       "    .dataframe thead th {\n",
       "        text-align: right;\n",
       "    }\n",
       "</style>\n",
       "<table border=\"1\" class=\"dataframe\">\n",
       "  <thead>\n",
       "    <tr style=\"text-align: right;\">\n",
       "      <th></th>\n",
       "      <th>person</th>\n",
       "      <th>cadaCuantosMinutosHaceEventosEnSuUltimaConexionDelMes5</th>\n",
       "    </tr>\n",
       "  </thead>\n",
       "  <tbody>\n",
       "    <tr>\n",
       "      <th>0</th>\n",
       "      <td>4886f805</td>\n",
       "      <td>8.00</td>\n",
       "    </tr>\n",
       "    <tr>\n",
       "      <th>1</th>\n",
       "      <td>ad93850f</td>\n",
       "      <td>9.00</td>\n",
       "    </tr>\n",
       "    <tr>\n",
       "      <th>2</th>\n",
       "      <td>0297fc1e</td>\n",
       "      <td>1.00</td>\n",
       "    </tr>\n",
       "    <tr>\n",
       "      <th>3</th>\n",
       "      <td>2d681dd8</td>\n",
       "      <td>1.00</td>\n",
       "    </tr>\n",
       "    <tr>\n",
       "      <th>4</th>\n",
       "      <td>cccea85e</td>\n",
       "      <td>9.75</td>\n",
       "    </tr>\n",
       "  </tbody>\n",
       "</table>\n",
       "</div>"
      ],
      "text/plain": [
       "     person  cadaCuantosMinutosHaceEventosEnSuUltimaConexionDelMes5\n",
       "0  4886f805                                               8.00     \n",
       "1  ad93850f                                               9.00     \n",
       "2  0297fc1e                                               1.00     \n",
       "3  2d681dd8                                               1.00     \n",
       "4  cccea85e                                               9.75     "
      ]
     },
     "execution_count": 331,
     "metadata": {},
     "output_type": "execute_result"
    }
   ],
   "source": [
    "df_cadaCuantosMinutosHaceEventosEnSuUltimaConexionDelMes5.head()"
   ]
  },
  {
   "cell_type": "markdown",
   "metadata": {},
   "source": [
    "Con one hot encoding"
   ]
  },
  {
   "cell_type": "code",
   "execution_count": 332,
   "metadata": {
    "scrolled": true
   },
   "outputs": [
    {
     "data": {
      "text/html": [
       "<div>\n",
       "<style scoped>\n",
       "    .dataframe tbody tr th:only-of-type {\n",
       "        vertical-align: middle;\n",
       "    }\n",
       "\n",
       "    .dataframe tbody tr th {\n",
       "        vertical-align: top;\n",
       "    }\n",
       "\n",
       "    .dataframe thead th {\n",
       "        text-align: right;\n",
       "    }\n",
       "</style>\n",
       "<table border=\"1\" class=\"dataframe\">\n",
       "  <thead>\n",
       "    <tr style=\"text-align: right;\">\n",
       "      <th></th>\n",
       "      <th>neg</th>\n",
       "      <th>pos</th>\n",
       "      <th>dif</th>\n",
       "    </tr>\n",
       "    <tr>\n",
       "      <th>cadaCuantosMinutosHaceEventosEnSuUltimaConexionDelMes5</th>\n",
       "      <th></th>\n",
       "      <th></th>\n",
       "      <th></th>\n",
       "    </tr>\n",
       "  </thead>\n",
       "  <tbody>\n",
       "    <tr>\n",
       "      <th>-1.0</th>\n",
       "      <td>0.037648</td>\n",
       "      <td>0.161224</td>\n",
       "      <td>0.123577</td>\n",
       "    </tr>\n",
       "    <tr>\n",
       "      <th>1.0</th>\n",
       "      <td>0.304329</td>\n",
       "      <td>0.229592</td>\n",
       "      <td>0.074737</td>\n",
       "    </tr>\n",
       "    <tr>\n",
       "      <th>0.0</th>\n",
       "      <td>0.242215</td>\n",
       "      <td>0.192857</td>\n",
       "      <td>0.049358</td>\n",
       "    </tr>\n",
       "    <tr>\n",
       "      <th>2.0</th>\n",
       "      <td>0.139850</td>\n",
       "      <td>0.113265</td>\n",
       "      <td>0.026585</td>\n",
       "    </tr>\n",
       "    <tr>\n",
       "      <th>3.0</th>\n",
       "      <td>0.042639</td>\n",
       "      <td>0.055102</td>\n",
       "      <td>0.012463</td>\n",
       "    </tr>\n",
       "  </tbody>\n",
       "</table>\n",
       "</div>"
      ],
      "text/plain": [
       "                                                         neg       pos  \\\n",
       "cadaCuantosMinutosHaceEventosEnSuUltimaConexion...                       \n",
       "-1.0                                                0.037648  0.161224   \n",
       " 1.0                                                0.304329  0.229592   \n",
       " 0.0                                                0.242215  0.192857   \n",
       " 2.0                                                0.139850  0.113265   \n",
       " 3.0                                                0.042639  0.055102   \n",
       "\n",
       "                                                         dif  \n",
       "cadaCuantosMinutosHaceEventosEnSuUltimaConexion...            \n",
       "-1.0                                                0.123577  \n",
       " 1.0                                                0.074737  \n",
       " 0.0                                                0.049358  \n",
       " 2.0                                                0.026585  \n",
       " 3.0                                                0.012463  "
      ]
     },
     "execution_count": 332,
     "metadata": {},
     "output_type": "execute_result"
    }
   ],
   "source": [
    "a = pd.merge(df_labels,df_cadaCuantosMinutosHaceEventosEnSuUltimaConexionDelMes5,on = 'person', how = 'inner')\n",
    "a = a.groupby(['cadaCuantosMinutosHaceEventosEnSuUltimaConexionDelMes5','label']).count().unstack()\n",
    "a.columns = ['neg','pos']\n",
    "a['neg'] = a['neg'] / a['neg'].sum()\n",
    "a['pos'] = a['pos'] / a['pos'].sum()\n",
    "a['dif'] = np.abs(a['pos'] - a['neg'])\n",
    "a.sort_values('dif',ascending = False, inplace = True)\n",
    "a.head()"
   ]
  },
  {
   "cell_type": "code",
   "execution_count": 333,
   "metadata": {
    "scrolled": true
   },
   "outputs": [],
   "source": [
    "K = 15\n",
    "top_columnas = list(a.head(K).index)\n",
    "top_columnas2 = list(df_cadaCuantosMinutosHaceEventosEnSuUltimaConexionDelMes5['cadaCuantosMinutosHaceEventosEnSuUltimaConexionDelMes5'].value_counts().head(K).index)\n",
    "df_cadaCuantosMinutosHaceEventosEnSuUltimaConexionDelMes5_conOneHot = pd.concat([df_cadaCuantosMinutosHaceEventosEnSuUltimaConexionDelMes5['person'],pd.get_dummies(df_cadaCuantosMinutosHaceEventosEnSuUltimaConexionDelMes5['cadaCuantosMinutosHaceEventosEnSuUltimaConexionDelMes5'])[top_columnas]],axis = 1)"
   ]
  },
  {
   "cell_type": "code",
   "execution_count": 334,
   "metadata": {},
   "outputs": [],
   "source": [
    "nombres_columnas = ['cadaCuantosMinutosHaceEventosEnSuUltimaConexionDelMes5_'+str(columna) for columna in df_cadaCuantosMinutosHaceEventosEnSuUltimaConexionDelMes5_conOneHot.columns]\n",
    "nombres_columnas[0] = 'person'\n",
    "df_cadaCuantosMinutosHaceEventosEnSuUltimaConexionDelMes5_conOneHot.columns = nombres_columnas"
   ]
  },
  {
   "cell_type": "code",
   "execution_count": 335,
   "metadata": {
    "scrolled": false
   },
   "outputs": [
    {
     "data": {
      "text/html": [
       "<div>\n",
       "<style scoped>\n",
       "    .dataframe tbody tr th:only-of-type {\n",
       "        vertical-align: middle;\n",
       "    }\n",
       "\n",
       "    .dataframe tbody tr th {\n",
       "        vertical-align: top;\n",
       "    }\n",
       "\n",
       "    .dataframe thead th {\n",
       "        text-align: right;\n",
       "    }\n",
       "</style>\n",
       "<table border=\"1\" class=\"dataframe\">\n",
       "  <thead>\n",
       "    <tr style=\"text-align: right;\">\n",
       "      <th></th>\n",
       "      <th>person</th>\n",
       "      <th>cadaCuantosMinutosHaceEventosEnSuUltimaConexionDelMes5_-1.0</th>\n",
       "      <th>cadaCuantosMinutosHaceEventosEnSuUltimaConexionDelMes5_1.0</th>\n",
       "      <th>cadaCuantosMinutosHaceEventosEnSuUltimaConexionDelMes5_0.0</th>\n",
       "      <th>cadaCuantosMinutosHaceEventosEnSuUltimaConexionDelMes5_2.0</th>\n",
       "      <th>cadaCuantosMinutosHaceEventosEnSuUltimaConexionDelMes5_3.0</th>\n",
       "      <th>cadaCuantosMinutosHaceEventosEnSuUltimaConexionDelMes5_3.5</th>\n",
       "      <th>cadaCuantosMinutosHaceEventosEnSuUltimaConexionDelMes5_1.5</th>\n",
       "      <th>cadaCuantosMinutosHaceEventosEnSuUltimaConexionDelMes5_0.5</th>\n",
       "      <th>cadaCuantosMinutosHaceEventosEnSuUltimaConexionDelMes5_5.0</th>\n",
       "      <th>cadaCuantosMinutosHaceEventosEnSuUltimaConexionDelMes5_6.0</th>\n",
       "      <th>cadaCuantosMinutosHaceEventosEnSuUltimaConexionDelMes5_4.0</th>\n",
       "      <th>cadaCuantosMinutosHaceEventosEnSuUltimaConexionDelMes5_1.3333333333333333</th>\n",
       "      <th>cadaCuantosMinutosHaceEventosEnSuUltimaConexionDelMes5_3.6666666666666665</th>\n",
       "      <th>cadaCuantosMinutosHaceEventosEnSuUltimaConexionDelMes5_0.3333333333333333</th>\n",
       "      <th>cadaCuantosMinutosHaceEventosEnSuUltimaConexionDelMes5_1.6666666666666667</th>\n",
       "    </tr>\n",
       "  </thead>\n",
       "  <tbody>\n",
       "    <tr>\n",
       "      <th>0</th>\n",
       "      <td>4886f805</td>\n",
       "      <td>0</td>\n",
       "      <td>0</td>\n",
       "      <td>0</td>\n",
       "      <td>0</td>\n",
       "      <td>0</td>\n",
       "      <td>0</td>\n",
       "      <td>0</td>\n",
       "      <td>0</td>\n",
       "      <td>0</td>\n",
       "      <td>0</td>\n",
       "      <td>0</td>\n",
       "      <td>0</td>\n",
       "      <td>0</td>\n",
       "      <td>0</td>\n",
       "      <td>0</td>\n",
       "    </tr>\n",
       "    <tr>\n",
       "      <th>1</th>\n",
       "      <td>ad93850f</td>\n",
       "      <td>0</td>\n",
       "      <td>0</td>\n",
       "      <td>0</td>\n",
       "      <td>0</td>\n",
       "      <td>0</td>\n",
       "      <td>0</td>\n",
       "      <td>0</td>\n",
       "      <td>0</td>\n",
       "      <td>0</td>\n",
       "      <td>0</td>\n",
       "      <td>0</td>\n",
       "      <td>0</td>\n",
       "      <td>0</td>\n",
       "      <td>0</td>\n",
       "      <td>0</td>\n",
       "    </tr>\n",
       "    <tr>\n",
       "      <th>2</th>\n",
       "      <td>0297fc1e</td>\n",
       "      <td>0</td>\n",
       "      <td>1</td>\n",
       "      <td>0</td>\n",
       "      <td>0</td>\n",
       "      <td>0</td>\n",
       "      <td>0</td>\n",
       "      <td>0</td>\n",
       "      <td>0</td>\n",
       "      <td>0</td>\n",
       "      <td>0</td>\n",
       "      <td>0</td>\n",
       "      <td>0</td>\n",
       "      <td>0</td>\n",
       "      <td>0</td>\n",
       "      <td>0</td>\n",
       "    </tr>\n",
       "    <tr>\n",
       "      <th>3</th>\n",
       "      <td>2d681dd8</td>\n",
       "      <td>0</td>\n",
       "      <td>1</td>\n",
       "      <td>0</td>\n",
       "      <td>0</td>\n",
       "      <td>0</td>\n",
       "      <td>0</td>\n",
       "      <td>0</td>\n",
       "      <td>0</td>\n",
       "      <td>0</td>\n",
       "      <td>0</td>\n",
       "      <td>0</td>\n",
       "      <td>0</td>\n",
       "      <td>0</td>\n",
       "      <td>0</td>\n",
       "      <td>0</td>\n",
       "    </tr>\n",
       "    <tr>\n",
       "      <th>4</th>\n",
       "      <td>cccea85e</td>\n",
       "      <td>0</td>\n",
       "      <td>0</td>\n",
       "      <td>0</td>\n",
       "      <td>0</td>\n",
       "      <td>0</td>\n",
       "      <td>0</td>\n",
       "      <td>0</td>\n",
       "      <td>0</td>\n",
       "      <td>0</td>\n",
       "      <td>0</td>\n",
       "      <td>0</td>\n",
       "      <td>0</td>\n",
       "      <td>0</td>\n",
       "      <td>0</td>\n",
       "      <td>0</td>\n",
       "    </tr>\n",
       "  </tbody>\n",
       "</table>\n",
       "</div>"
      ],
      "text/plain": [
       "     person  cadaCuantosMinutosHaceEventosEnSuUltimaConexionDelMes5_-1.0  \\\n",
       "0  4886f805                                                  0             \n",
       "1  ad93850f                                                  0             \n",
       "2  0297fc1e                                                  0             \n",
       "3  2d681dd8                                                  0             \n",
       "4  cccea85e                                                  0             \n",
       "\n",
       "   cadaCuantosMinutosHaceEventosEnSuUltimaConexionDelMes5_1.0  \\\n",
       "0                                                  0            \n",
       "1                                                  0            \n",
       "2                                                  1            \n",
       "3                                                  1            \n",
       "4                                                  0            \n",
       "\n",
       "   cadaCuantosMinutosHaceEventosEnSuUltimaConexionDelMes5_0.0  \\\n",
       "0                                                  0            \n",
       "1                                                  0            \n",
       "2                                                  0            \n",
       "3                                                  0            \n",
       "4                                                  0            \n",
       "\n",
       "   cadaCuantosMinutosHaceEventosEnSuUltimaConexionDelMes5_2.0  \\\n",
       "0                                                  0            \n",
       "1                                                  0            \n",
       "2                                                  0            \n",
       "3                                                  0            \n",
       "4                                                  0            \n",
       "\n",
       "   cadaCuantosMinutosHaceEventosEnSuUltimaConexionDelMes5_3.0  \\\n",
       "0                                                  0            \n",
       "1                                                  0            \n",
       "2                                                  0            \n",
       "3                                                  0            \n",
       "4                                                  0            \n",
       "\n",
       "   cadaCuantosMinutosHaceEventosEnSuUltimaConexionDelMes5_3.5  \\\n",
       "0                                                  0            \n",
       "1                                                  0            \n",
       "2                                                  0            \n",
       "3                                                  0            \n",
       "4                                                  0            \n",
       "\n",
       "   cadaCuantosMinutosHaceEventosEnSuUltimaConexionDelMes5_1.5  \\\n",
       "0                                                  0            \n",
       "1                                                  0            \n",
       "2                                                  0            \n",
       "3                                                  0            \n",
       "4                                                  0            \n",
       "\n",
       "   cadaCuantosMinutosHaceEventosEnSuUltimaConexionDelMes5_0.5  \\\n",
       "0                                                  0            \n",
       "1                                                  0            \n",
       "2                                                  0            \n",
       "3                                                  0            \n",
       "4                                                  0            \n",
       "\n",
       "   cadaCuantosMinutosHaceEventosEnSuUltimaConexionDelMes5_5.0  \\\n",
       "0                                                  0            \n",
       "1                                                  0            \n",
       "2                                                  0            \n",
       "3                                                  0            \n",
       "4                                                  0            \n",
       "\n",
       "   cadaCuantosMinutosHaceEventosEnSuUltimaConexionDelMes5_6.0  \\\n",
       "0                                                  0            \n",
       "1                                                  0            \n",
       "2                                                  0            \n",
       "3                                                  0            \n",
       "4                                                  0            \n",
       "\n",
       "   cadaCuantosMinutosHaceEventosEnSuUltimaConexionDelMes5_4.0  \\\n",
       "0                                                  0            \n",
       "1                                                  0            \n",
       "2                                                  0            \n",
       "3                                                  0            \n",
       "4                                                  0            \n",
       "\n",
       "   cadaCuantosMinutosHaceEventosEnSuUltimaConexionDelMes5_1.3333333333333333  \\\n",
       "0                                                  0                           \n",
       "1                                                  0                           \n",
       "2                                                  0                           \n",
       "3                                                  0                           \n",
       "4                                                  0                           \n",
       "\n",
       "   cadaCuantosMinutosHaceEventosEnSuUltimaConexionDelMes5_3.6666666666666665  \\\n",
       "0                                                  0                           \n",
       "1                                                  0                           \n",
       "2                                                  0                           \n",
       "3                                                  0                           \n",
       "4                                                  0                           \n",
       "\n",
       "   cadaCuantosMinutosHaceEventosEnSuUltimaConexionDelMes5_0.3333333333333333  \\\n",
       "0                                                  0                           \n",
       "1                                                  0                           \n",
       "2                                                  0                           \n",
       "3                                                  0                           \n",
       "4                                                  0                           \n",
       "\n",
       "   cadaCuantosMinutosHaceEventosEnSuUltimaConexionDelMes5_1.6666666666666667  \n",
       "0                                                  0                          \n",
       "1                                                  0                          \n",
       "2                                                  0                          \n",
       "3                                                  0                          \n",
       "4                                                  0                          "
      ]
     },
     "execution_count": 335,
     "metadata": {},
     "output_type": "execute_result"
    }
   ],
   "source": [
    "df_cadaCuantosMinutosHaceEventosEnSuUltimaConexionDelMes5_conOneHot.head()"
   ]
  },
  {
   "cell_type": "markdown",
   "metadata": {},
   "source": [
    "#### Cada cuantos segundos (en cada hora)  hace eventos en su ultima conexion del mes 5 "
   ]
  },
  {
   "cell_type": "code",
   "execution_count": 336,
   "metadata": {},
   "outputs": [],
   "source": [
    "df_cadaCuantosSegundosHaceEventosEnSuUltimaConexionDelMes5 = df_events[df_events['month'] == 5]"
   ]
  },
  {
   "cell_type": "code",
   "execution_count": 337,
   "metadata": {},
   "outputs": [],
   "source": [
    "df_cadaCuantosSegundosHaceEventosEnSuUltimaConexionDelMes5 = df_cadaCuantosSegundosHaceEventosEnSuUltimaConexionDelMes5[['person','timestamp','day','hour']]"
   ]
  },
  {
   "cell_type": "code",
   "execution_count": 338,
   "metadata": {},
   "outputs": [],
   "source": [
    "df_cadaCuantosSegundosHaceEventosEnSuUltimaConexionDelMes5 = df_cadaCuantosSegundosHaceEventosEnSuUltimaConexionDelMes5.drop_duplicates()\\\n",
    "                                .sort_values(['timestamp'])"
   ]
  },
  {
   "cell_type": "code",
   "execution_count": 339,
   "metadata": {},
   "outputs": [],
   "source": [
    "# Funcion de agregacion para poder calcular la diferencia entre 2 ingresos consecutivos pero para una persona.\n",
    "def cadaCuantosSegundosHaceEventosEnSuUltimaConexionDelMes5(S):\n",
    "    if(len(S) == 1): return 0\n",
    "    return round(np.mean((S - S.shift()).dropna().dt.total_seconds()))"
   ]
  },
  {
   "cell_type": "code",
   "execution_count": 340,
   "metadata": {
    "scrolled": true
   },
   "outputs": [],
   "source": [
    "df_cadaCuantosSegundosHaceEventosEnSuUltimaConexionDelMes5 = (df_cadaCuantosSegundosHaceEventosEnSuUltimaConexionDelMes5\\\n",
    "        .groupby(['person','day','hour'])['timestamp'].agg(cadaCuantosSegundosHaceEventosEnSuUltimaConexionDelMes5)).to_frame()\n"
   ]
  },
  {
   "cell_type": "code",
   "execution_count": 341,
   "metadata": {
    "scrolled": true
   },
   "outputs": [],
   "source": [
    "df_cadaCuantosSegundosHaceEventosEnSuUltimaConexionDelMes5 = df_cadaCuantosSegundosHaceEventosEnSuUltimaConexionDelMes5\\\n",
    "    .groupby(['person','day']).mean().groupby('person').last().reset_index()"
   ]
  },
  {
   "cell_type": "code",
   "execution_count": 342,
   "metadata": {
    "scrolled": true
   },
   "outputs": [],
   "source": [
    "df_cadaCuantosSegundosHaceEventosEnSuUltimaConexionDelMes5.columns = ['person','cadaCuantosSegundosHaceEventosEnSuUltimaConexionDelMes5']"
   ]
  },
  {
   "cell_type": "code",
   "execution_count": 343,
   "metadata": {},
   "outputs": [],
   "source": [
    "df_cadaCuantosSegundosHaceEventosEnSuUltimaConexionDelMes5 = pd.merge(df_todas_las_personas,df_cadaCuantosSegundosHaceEventosEnSuUltimaConexionDelMes5\\\n",
    "                                                       ,on = 'person', how = 'left')\n"
   ]
  },
  {
   "cell_type": "code",
   "execution_count": 344,
   "metadata": {},
   "outputs": [],
   "source": [
    "df_cadaCuantosSegundosHaceEventosEnSuUltimaConexionDelMes5 = df_cadaCuantosSegundosHaceEventosEnSuUltimaConexionDelMes5.fillna(-1)"
   ]
  },
  {
   "cell_type": "code",
   "execution_count": 345,
   "metadata": {},
   "outputs": [
    {
     "data": {
      "text/plain": [
       "(38829, 2)"
      ]
     },
     "execution_count": 345,
     "metadata": {},
     "output_type": "execute_result"
    }
   ],
   "source": [
    "df_cadaCuantosSegundosHaceEventosEnSuUltimaConexionDelMes5.shape"
   ]
  },
  {
   "cell_type": "markdown",
   "metadata": {},
   "source": [
    "Con one hot encoding"
   ]
  },
  {
   "cell_type": "code",
   "execution_count": 346,
   "metadata": {
    "scrolled": true
   },
   "outputs": [
    {
     "data": {
      "text/html": [
       "<div>\n",
       "<style scoped>\n",
       "    .dataframe tbody tr th:only-of-type {\n",
       "        vertical-align: middle;\n",
       "    }\n",
       "\n",
       "    .dataframe tbody tr th {\n",
       "        vertical-align: top;\n",
       "    }\n",
       "\n",
       "    .dataframe thead th {\n",
       "        text-align: right;\n",
       "    }\n",
       "</style>\n",
       "<table border=\"1\" class=\"dataframe\">\n",
       "  <thead>\n",
       "    <tr style=\"text-align: right;\">\n",
       "      <th></th>\n",
       "      <th>neg</th>\n",
       "      <th>pos</th>\n",
       "      <th>dif</th>\n",
       "    </tr>\n",
       "    <tr>\n",
       "      <th>cadaCuantosSegundosHaceEventosEnSuUltimaConexionDelMes5</th>\n",
       "      <th></th>\n",
       "      <th></th>\n",
       "      <th></th>\n",
       "    </tr>\n",
       "  </thead>\n",
       "  <tbody>\n",
       "    <tr>\n",
       "      <th>-1.0</th>\n",
       "      <td>0.037648</td>\n",
       "      <td>0.161224</td>\n",
       "      <td>0.123577</td>\n",
       "    </tr>\n",
       "    <tr>\n",
       "      <th>6.0</th>\n",
       "      <td>0.018227</td>\n",
       "      <td>0.007143</td>\n",
       "      <td>0.011084</td>\n",
       "    </tr>\n",
       "    <tr>\n",
       "      <th>14.0</th>\n",
       "      <td>0.016437</td>\n",
       "      <td>0.006122</td>\n",
       "      <td>0.010315</td>\n",
       "    </tr>\n",
       "    <tr>\n",
       "      <th>10.0</th>\n",
       "      <td>0.017956</td>\n",
       "      <td>0.009184</td>\n",
       "      <td>0.008772</td>\n",
       "    </tr>\n",
       "    <tr>\n",
       "      <th>12.0</th>\n",
       "      <td>0.017088</td>\n",
       "      <td>0.010204</td>\n",
       "      <td>0.006884</td>\n",
       "    </tr>\n",
       "  </tbody>\n",
       "</table>\n",
       "</div>"
      ],
      "text/plain": [
       "                                                         neg       pos  \\\n",
       "cadaCuantosSegundosHaceEventosEnSuUltimaConexio...                       \n",
       "-1.0                                                0.037648  0.161224   \n",
       " 6.0                                                0.018227  0.007143   \n",
       " 14.0                                               0.016437  0.006122   \n",
       " 10.0                                               0.017956  0.009184   \n",
       " 12.0                                               0.017088  0.010204   \n",
       "\n",
       "                                                         dif  \n",
       "cadaCuantosSegundosHaceEventosEnSuUltimaConexio...            \n",
       "-1.0                                                0.123577  \n",
       " 6.0                                                0.011084  \n",
       " 14.0                                               0.010315  \n",
       " 10.0                                               0.008772  \n",
       " 12.0                                               0.006884  "
      ]
     },
     "execution_count": 346,
     "metadata": {},
     "output_type": "execute_result"
    }
   ],
   "source": [
    "a = pd.merge(df_labels,df_cadaCuantosSegundosHaceEventosEnSuUltimaConexionDelMes5,on = 'person', how = 'inner')\n",
    "a = a.groupby(['cadaCuantosSegundosHaceEventosEnSuUltimaConexionDelMes5','label']).count().unstack()\n",
    "a.columns = ['neg','pos']\n",
    "a['neg'] = a['neg'] / a['neg'].sum()\n",
    "a['pos'] = a['pos'] / a['pos'].sum()\n",
    "a['dif'] = np.abs(a['pos'] - a['neg'])\n",
    "a.sort_values('dif',ascending = False, inplace = True)\n",
    "a.head()"
   ]
  },
  {
   "cell_type": "code",
   "execution_count": 347,
   "metadata": {
    "scrolled": true
   },
   "outputs": [],
   "source": [
    "K = 15\n",
    "top_columnas = list(a.head(K).index)\n",
    "top_columnas2 = list(df_cadaCuantosSegundosHaceEventosEnSuUltimaConexionDelMes5['cadaCuantosSegundosHaceEventosEnSuUltimaConexionDelMes5'].value_counts().head(K).index)\n",
    "df_cadaCuantosSegundosHaceEventosEnSuUltimaConexionDelMes5_conOneHot = pd.concat([df_cadaCuantosSegundosHaceEventosEnSuUltimaConexionDelMes5['person'],pd.get_dummies(df_cadaCuantosSegundosHaceEventosEnSuUltimaConexionDelMes5['cadaCuantosSegundosHaceEventosEnSuUltimaConexionDelMes5'])[top_columnas]],axis = 1)"
   ]
  },
  {
   "cell_type": "code",
   "execution_count": 348,
   "metadata": {},
   "outputs": [],
   "source": [
    "nombres_columnas = ['cadaCuantosSegundosHaceEventosEnSuUltimaConexionDelMes5_'+str(columna) for columna in df_cadaCuantosSegundosHaceEventosEnSuUltimaConexionDelMes5_conOneHot.columns]\n",
    "nombres_columnas[0] = 'person'\n",
    "df_cadaCuantosSegundosHaceEventosEnSuUltimaConexionDelMes5_conOneHot.columns = nombres_columnas"
   ]
  },
  {
   "cell_type": "code",
   "execution_count": 349,
   "metadata": {
    "scrolled": false
   },
   "outputs": [
    {
     "data": {
      "text/html": [
       "<div>\n",
       "<style scoped>\n",
       "    .dataframe tbody tr th:only-of-type {\n",
       "        vertical-align: middle;\n",
       "    }\n",
       "\n",
       "    .dataframe tbody tr th {\n",
       "        vertical-align: top;\n",
       "    }\n",
       "\n",
       "    .dataframe thead th {\n",
       "        text-align: right;\n",
       "    }\n",
       "</style>\n",
       "<table border=\"1\" class=\"dataframe\">\n",
       "  <thead>\n",
       "    <tr style=\"text-align: right;\">\n",
       "      <th></th>\n",
       "      <th>person</th>\n",
       "      <th>cadaCuantosSegundosHaceEventosEnSuUltimaConexionDelMes5_-1.0</th>\n",
       "      <th>cadaCuantosSegundosHaceEventosEnSuUltimaConexionDelMes5_6.0</th>\n",
       "      <th>cadaCuantosSegundosHaceEventosEnSuUltimaConexionDelMes5_14.0</th>\n",
       "      <th>cadaCuantosSegundosHaceEventosEnSuUltimaConexionDelMes5_10.0</th>\n",
       "      <th>cadaCuantosSegundosHaceEventosEnSuUltimaConexionDelMes5_12.0</th>\n",
       "      <th>cadaCuantosSegundosHaceEventosEnSuUltimaConexionDelMes5_16.0</th>\n",
       "      <th>cadaCuantosSegundosHaceEventosEnSuUltimaConexionDelMes5_21.0</th>\n",
       "      <th>cadaCuantosSegundosHaceEventosEnSuUltimaConexionDelMes5_31.0</th>\n",
       "      <th>cadaCuantosSegundosHaceEventosEnSuUltimaConexionDelMes5_24.0</th>\n",
       "      <th>cadaCuantosSegundosHaceEventosEnSuUltimaConexionDelMes5_18.0</th>\n",
       "      <th>cadaCuantosSegundosHaceEventosEnSuUltimaConexionDelMes5_41.0</th>\n",
       "      <th>cadaCuantosSegundosHaceEventosEnSuUltimaConexionDelMes5_8.0</th>\n",
       "      <th>cadaCuantosSegundosHaceEventosEnSuUltimaConexionDelMes5_23.0</th>\n",
       "      <th>cadaCuantosSegundosHaceEventosEnSuUltimaConexionDelMes5_7.0</th>\n",
       "      <th>cadaCuantosSegundosHaceEventosEnSuUltimaConexionDelMes5_9.0</th>\n",
       "    </tr>\n",
       "  </thead>\n",
       "  <tbody>\n",
       "    <tr>\n",
       "      <th>0</th>\n",
       "      <td>4886f805</td>\n",
       "      <td>0</td>\n",
       "      <td>0</td>\n",
       "      <td>0</td>\n",
       "      <td>0</td>\n",
       "      <td>0</td>\n",
       "      <td>0</td>\n",
       "      <td>0</td>\n",
       "      <td>0</td>\n",
       "      <td>0</td>\n",
       "      <td>0</td>\n",
       "      <td>0</td>\n",
       "      <td>0</td>\n",
       "      <td>0</td>\n",
       "      <td>0</td>\n",
       "      <td>0</td>\n",
       "    </tr>\n",
       "    <tr>\n",
       "      <th>1</th>\n",
       "      <td>ad93850f</td>\n",
       "      <td>0</td>\n",
       "      <td>0</td>\n",
       "      <td>0</td>\n",
       "      <td>0</td>\n",
       "      <td>0</td>\n",
       "      <td>0</td>\n",
       "      <td>0</td>\n",
       "      <td>0</td>\n",
       "      <td>0</td>\n",
       "      <td>0</td>\n",
       "      <td>0</td>\n",
       "      <td>0</td>\n",
       "      <td>0</td>\n",
       "      <td>0</td>\n",
       "      <td>0</td>\n",
       "    </tr>\n",
       "    <tr>\n",
       "      <th>2</th>\n",
       "      <td>0297fc1e</td>\n",
       "      <td>0</td>\n",
       "      <td>0</td>\n",
       "      <td>0</td>\n",
       "      <td>0</td>\n",
       "      <td>1</td>\n",
       "      <td>0</td>\n",
       "      <td>0</td>\n",
       "      <td>0</td>\n",
       "      <td>0</td>\n",
       "      <td>0</td>\n",
       "      <td>0</td>\n",
       "      <td>0</td>\n",
       "      <td>0</td>\n",
       "      <td>0</td>\n",
       "      <td>0</td>\n",
       "    </tr>\n",
       "    <tr>\n",
       "      <th>3</th>\n",
       "      <td>2d681dd8</td>\n",
       "      <td>0</td>\n",
       "      <td>0</td>\n",
       "      <td>0</td>\n",
       "      <td>0</td>\n",
       "      <td>0</td>\n",
       "      <td>0</td>\n",
       "      <td>0</td>\n",
       "      <td>0</td>\n",
       "      <td>0</td>\n",
       "      <td>0</td>\n",
       "      <td>0</td>\n",
       "      <td>0</td>\n",
       "      <td>0</td>\n",
       "      <td>0</td>\n",
       "      <td>0</td>\n",
       "    </tr>\n",
       "    <tr>\n",
       "      <th>4</th>\n",
       "      <td>cccea85e</td>\n",
       "      <td>0</td>\n",
       "      <td>0</td>\n",
       "      <td>0</td>\n",
       "      <td>0</td>\n",
       "      <td>0</td>\n",
       "      <td>0</td>\n",
       "      <td>0</td>\n",
       "      <td>0</td>\n",
       "      <td>0</td>\n",
       "      <td>0</td>\n",
       "      <td>0</td>\n",
       "      <td>0</td>\n",
       "      <td>0</td>\n",
       "      <td>0</td>\n",
       "      <td>0</td>\n",
       "    </tr>\n",
       "  </tbody>\n",
       "</table>\n",
       "</div>"
      ],
      "text/plain": [
       "     person  cadaCuantosSegundosHaceEventosEnSuUltimaConexionDelMes5_-1.0  \\\n",
       "0  4886f805                                                  0              \n",
       "1  ad93850f                                                  0              \n",
       "2  0297fc1e                                                  0              \n",
       "3  2d681dd8                                                  0              \n",
       "4  cccea85e                                                  0              \n",
       "\n",
       "   cadaCuantosSegundosHaceEventosEnSuUltimaConexionDelMes5_6.0  \\\n",
       "0                                                  0             \n",
       "1                                                  0             \n",
       "2                                                  0             \n",
       "3                                                  0             \n",
       "4                                                  0             \n",
       "\n",
       "   cadaCuantosSegundosHaceEventosEnSuUltimaConexionDelMes5_14.0  \\\n",
       "0                                                  0              \n",
       "1                                                  0              \n",
       "2                                                  0              \n",
       "3                                                  0              \n",
       "4                                                  0              \n",
       "\n",
       "   cadaCuantosSegundosHaceEventosEnSuUltimaConexionDelMes5_10.0  \\\n",
       "0                                                  0              \n",
       "1                                                  0              \n",
       "2                                                  0              \n",
       "3                                                  0              \n",
       "4                                                  0              \n",
       "\n",
       "   cadaCuantosSegundosHaceEventosEnSuUltimaConexionDelMes5_12.0  \\\n",
       "0                                                  0              \n",
       "1                                                  0              \n",
       "2                                                  1              \n",
       "3                                                  0              \n",
       "4                                                  0              \n",
       "\n",
       "   cadaCuantosSegundosHaceEventosEnSuUltimaConexionDelMes5_16.0  \\\n",
       "0                                                  0              \n",
       "1                                                  0              \n",
       "2                                                  0              \n",
       "3                                                  0              \n",
       "4                                                  0              \n",
       "\n",
       "   cadaCuantosSegundosHaceEventosEnSuUltimaConexionDelMes5_21.0  \\\n",
       "0                                                  0              \n",
       "1                                                  0              \n",
       "2                                                  0              \n",
       "3                                                  0              \n",
       "4                                                  0              \n",
       "\n",
       "   cadaCuantosSegundosHaceEventosEnSuUltimaConexionDelMes5_31.0  \\\n",
       "0                                                  0              \n",
       "1                                                  0              \n",
       "2                                                  0              \n",
       "3                                                  0              \n",
       "4                                                  0              \n",
       "\n",
       "   cadaCuantosSegundosHaceEventosEnSuUltimaConexionDelMes5_24.0  \\\n",
       "0                                                  0              \n",
       "1                                                  0              \n",
       "2                                                  0              \n",
       "3                                                  0              \n",
       "4                                                  0              \n",
       "\n",
       "   cadaCuantosSegundosHaceEventosEnSuUltimaConexionDelMes5_18.0  \\\n",
       "0                                                  0              \n",
       "1                                                  0              \n",
       "2                                                  0              \n",
       "3                                                  0              \n",
       "4                                                  0              \n",
       "\n",
       "   cadaCuantosSegundosHaceEventosEnSuUltimaConexionDelMes5_41.0  \\\n",
       "0                                                  0              \n",
       "1                                                  0              \n",
       "2                                                  0              \n",
       "3                                                  0              \n",
       "4                                                  0              \n",
       "\n",
       "   cadaCuantosSegundosHaceEventosEnSuUltimaConexionDelMes5_8.0  \\\n",
       "0                                                  0             \n",
       "1                                                  0             \n",
       "2                                                  0             \n",
       "3                                                  0             \n",
       "4                                                  0             \n",
       "\n",
       "   cadaCuantosSegundosHaceEventosEnSuUltimaConexionDelMes5_23.0  \\\n",
       "0                                                  0              \n",
       "1                                                  0              \n",
       "2                                                  0              \n",
       "3                                                  0              \n",
       "4                                                  0              \n",
       "\n",
       "   cadaCuantosSegundosHaceEventosEnSuUltimaConexionDelMes5_7.0  \\\n",
       "0                                                  0             \n",
       "1                                                  0             \n",
       "2                                                  0             \n",
       "3                                                  0             \n",
       "4                                                  0             \n",
       "\n",
       "   cadaCuantosSegundosHaceEventosEnSuUltimaConexionDelMes5_9.0  \n",
       "0                                                  0            \n",
       "1                                                  0            \n",
       "2                                                  0            \n",
       "3                                                  0            \n",
       "4                                                  0            "
      ]
     },
     "execution_count": 349,
     "metadata": {},
     "output_type": "execute_result"
    }
   ],
   "source": [
    "df_cadaCuantosSegundosHaceEventosEnSuUltimaConexionDelMes5_conOneHot.head()"
   ]
  },
  {
   "cell_type": "markdown",
   "metadata": {},
   "source": [
    "##  Cada cuanto hace conversion"
   ]
  },
  {
   "cell_type": "markdown",
   "metadata": {},
   "source": [
    "#### Cada cuantos dias hace conversion"
   ]
  },
  {
   "cell_type": "code",
   "execution_count": 350,
   "metadata": {},
   "outputs": [],
   "source": [
    "df_cadaCuantosDiasHaceConversion = df_events[df_events['event'] == 'conversion']"
   ]
  },
  {
   "cell_type": "code",
   "execution_count": 351,
   "metadata": {},
   "outputs": [],
   "source": [
    "df_cadaCuantosDiasHaceConversion = df_cadaCuantosDiasHaceConversion[['person','timestamp','month','day']]"
   ]
  },
  {
   "cell_type": "code",
   "execution_count": 352,
   "metadata": {},
   "outputs": [],
   "source": [
    "df_cadaCuantosDiasHaceConversion = df_cadaCuantosDiasHaceConversion.drop_duplicates(['month','day','person'])\\\n",
    "                                .sort_values('timestamp')"
   ]
  },
  {
   "cell_type": "code",
   "execution_count": 353,
   "metadata": {},
   "outputs": [],
   "source": [
    "# Funcion de agregacion para poder calcular la diferencia entre 2 ingresos consecutivos pero para una persona.\n",
    "def cadaCuantosDiasHaceConversion(S):\n",
    "    if(len(S) == 1): return 0\n",
    "    return round(np.mean((S - S.shift()).dropna().dt.days))"
   ]
  },
  {
   "cell_type": "code",
   "execution_count": 354,
   "metadata": {
    "scrolled": true
   },
   "outputs": [],
   "source": [
    "df_cadaCuantosDiasHaceConversion = (df_cadaCuantosDiasHaceConversion.groupby('person')['timestamp']\\\n",
    "                                 .agg(cadaCuantosDiasHaceConversion)).to_frame().reset_index()\n",
    "df_cadaCuantosDiasHaceConversion.columns = ['person','cadaCuantosDiasHaceConversion']"
   ]
  },
  {
   "cell_type": "code",
   "execution_count": 355,
   "metadata": {},
   "outputs": [],
   "source": [
    "df_cadaCuantosDiasHaceConversion = pd.merge(df_todas_las_personas,df_cadaCuantosDiasHaceConversion\\\n",
    "                                                       ,on = 'person', how = 'left')"
   ]
  },
  {
   "cell_type": "code",
   "execution_count": 356,
   "metadata": {},
   "outputs": [],
   "source": [
    "df_cadaCuantosDiasHaceConversion = df_cadaCuantosDiasHaceConversion.fillna(-1)"
   ]
  },
  {
   "cell_type": "code",
   "execution_count": 357,
   "metadata": {},
   "outputs": [
    {
     "data": {
      "text/html": [
       "<div>\n",
       "<style scoped>\n",
       "    .dataframe tbody tr th:only-of-type {\n",
       "        vertical-align: middle;\n",
       "    }\n",
       "\n",
       "    .dataframe tbody tr th {\n",
       "        vertical-align: top;\n",
       "    }\n",
       "\n",
       "    .dataframe thead th {\n",
       "        text-align: right;\n",
       "    }\n",
       "</style>\n",
       "<table border=\"1\" class=\"dataframe\">\n",
       "  <thead>\n",
       "    <tr style=\"text-align: right;\">\n",
       "      <th></th>\n",
       "      <th>person</th>\n",
       "      <th>cadaCuantosDiasHaceConversion</th>\n",
       "    </tr>\n",
       "  </thead>\n",
       "  <tbody>\n",
       "    <tr>\n",
       "      <th>0</th>\n",
       "      <td>4886f805</td>\n",
       "      <td>-1.0</td>\n",
       "    </tr>\n",
       "    <tr>\n",
       "      <th>1</th>\n",
       "      <td>ad93850f</td>\n",
       "      <td>-1.0</td>\n",
       "    </tr>\n",
       "    <tr>\n",
       "      <th>2</th>\n",
       "      <td>0297fc1e</td>\n",
       "      <td>-1.0</td>\n",
       "    </tr>\n",
       "    <tr>\n",
       "      <th>3</th>\n",
       "      <td>2d681dd8</td>\n",
       "      <td>-1.0</td>\n",
       "    </tr>\n",
       "    <tr>\n",
       "      <th>4</th>\n",
       "      <td>cccea85e</td>\n",
       "      <td>-1.0</td>\n",
       "    </tr>\n",
       "  </tbody>\n",
       "</table>\n",
       "</div>"
      ],
      "text/plain": [
       "     person  cadaCuantosDiasHaceConversion\n",
       "0  4886f805                           -1.0\n",
       "1  ad93850f                           -1.0\n",
       "2  0297fc1e                           -1.0\n",
       "3  2d681dd8                           -1.0\n",
       "4  cccea85e                           -1.0"
      ]
     },
     "execution_count": 357,
     "metadata": {},
     "output_type": "execute_result"
    }
   ],
   "source": [
    "df_cadaCuantosDiasHaceConversion.head()"
   ]
  },
  {
   "cell_type": "code",
   "execution_count": 358,
   "metadata": {},
   "outputs": [
    {
     "data": {
      "text/plain": [
       "(38829, 2)"
      ]
     },
     "execution_count": 358,
     "metadata": {},
     "output_type": "execute_result"
    }
   ],
   "source": [
    "df_cadaCuantosDiasHaceConversion.shape"
   ]
  },
  {
   "cell_type": "markdown",
   "metadata": {},
   "source": [
    "Con one hot encoding"
   ]
  },
  {
   "cell_type": "code",
   "execution_count": 359,
   "metadata": {
    "scrolled": true
   },
   "outputs": [
    {
     "data": {
      "text/html": [
       "<div>\n",
       "<style scoped>\n",
       "    .dataframe tbody tr th:only-of-type {\n",
       "        vertical-align: middle;\n",
       "    }\n",
       "\n",
       "    .dataframe tbody tr th {\n",
       "        vertical-align: top;\n",
       "    }\n",
       "\n",
       "    .dataframe thead th {\n",
       "        text-align: right;\n",
       "    }\n",
       "</style>\n",
       "<table border=\"1\" class=\"dataframe\">\n",
       "  <thead>\n",
       "    <tr style=\"text-align: right;\">\n",
       "      <th></th>\n",
       "      <th>neg</th>\n",
       "      <th>pos</th>\n",
       "      <th>dif</th>\n",
       "    </tr>\n",
       "    <tr>\n",
       "      <th>cadaCuantosDiasHaceConversion</th>\n",
       "      <th></th>\n",
       "      <th></th>\n",
       "      <th></th>\n",
       "    </tr>\n",
       "  </thead>\n",
       "  <tbody>\n",
       "    <tr>\n",
       "      <th>-1.0</th>\n",
       "      <td>0.893295</td>\n",
       "      <td>0.798980</td>\n",
       "      <td>0.094315</td>\n",
       "    </tr>\n",
       "    <tr>\n",
       "      <th>0.0</th>\n",
       "      <td>0.091027</td>\n",
       "      <td>0.143878</td>\n",
       "      <td>0.052850</td>\n",
       "    </tr>\n",
       "    <tr>\n",
       "      <th>1.0</th>\n",
       "      <td>0.002387</td>\n",
       "      <td>0.012245</td>\n",
       "      <td>0.009858</td>\n",
       "    </tr>\n",
       "    <tr>\n",
       "      <th>3.0</th>\n",
       "      <td>0.000542</td>\n",
       "      <td>0.005102</td>\n",
       "      <td>0.004560</td>\n",
       "    </tr>\n",
       "    <tr>\n",
       "      <th>34.0</th>\n",
       "      <td>0.000217</td>\n",
       "      <td>0.004082</td>\n",
       "      <td>0.003865</td>\n",
       "    </tr>\n",
       "  </tbody>\n",
       "</table>\n",
       "</div>"
      ],
      "text/plain": [
       "                                    neg       pos       dif\n",
       "cadaCuantosDiasHaceConversion                              \n",
       "-1.0                           0.893295  0.798980  0.094315\n",
       " 0.0                           0.091027  0.143878  0.052850\n",
       " 1.0                           0.002387  0.012245  0.009858\n",
       " 3.0                           0.000542  0.005102  0.004560\n",
       " 34.0                          0.000217  0.004082  0.003865"
      ]
     },
     "execution_count": 359,
     "metadata": {},
     "output_type": "execute_result"
    }
   ],
   "source": [
    "a = pd.merge(df_labels,df_cadaCuantosDiasHaceConversion,on = 'person', how = 'inner')\n",
    "a = a.groupby(['cadaCuantosDiasHaceConversion','label']).count().unstack()\n",
    "a.columns = ['neg','pos']\n",
    "a['neg'] = a['neg'] / a['neg'].sum()\n",
    "a['pos'] = a['pos'] / a['pos'].sum()\n",
    "a['dif'] = np.abs(a['pos'] - a['neg'])\n",
    "a.sort_values('dif',ascending = False, inplace = True)\n",
    "a.head()"
   ]
  },
  {
   "cell_type": "code",
   "execution_count": 360,
   "metadata": {},
   "outputs": [],
   "source": [
    "K = 15\n",
    "top_columnas = list(a.head(K).index)\n",
    "top_columnas2 = list(df_cadaCuantosDiasHaceConversion['cadaCuantosDiasHaceConversion'].value_counts().head(K).index)\n",
    "df_cadaCuantosDiasHaceConversion_conOneHot = pd.concat([df_cadaCuantosDiasHaceConversion['person'],pd.get_dummies(df_cadaCuantosDiasHaceConversion['cadaCuantosDiasHaceConversion'])[top_columnas]],axis = 1)"
   ]
  },
  {
   "cell_type": "code",
   "execution_count": 361,
   "metadata": {},
   "outputs": [],
   "source": [
    "nombres_columnas = ['cadaCuantosDiasHaceConversion_'+str(columna) for columna in df_cadaCuantosDiasHaceConversion_conOneHot.columns]\n",
    "nombres_columnas[0] = 'person'\n",
    "df_cadaCuantosDiasHaceConversion_conOneHot.columns = nombres_columnas"
   ]
  },
  {
   "cell_type": "code",
   "execution_count": 362,
   "metadata": {
    "scrolled": false
   },
   "outputs": [
    {
     "data": {
      "text/html": [
       "<div>\n",
       "<style scoped>\n",
       "    .dataframe tbody tr th:only-of-type {\n",
       "        vertical-align: middle;\n",
       "    }\n",
       "\n",
       "    .dataframe tbody tr th {\n",
       "        vertical-align: top;\n",
       "    }\n",
       "\n",
       "    .dataframe thead th {\n",
       "        text-align: right;\n",
       "    }\n",
       "</style>\n",
       "<table border=\"1\" class=\"dataframe\">\n",
       "  <thead>\n",
       "    <tr style=\"text-align: right;\">\n",
       "      <th></th>\n",
       "      <th>person</th>\n",
       "      <th>cadaCuantosDiasHaceConversion_-1.0</th>\n",
       "      <th>cadaCuantosDiasHaceConversion_0.0</th>\n",
       "      <th>cadaCuantosDiasHaceConversion_1.0</th>\n",
       "      <th>cadaCuantosDiasHaceConversion_3.0</th>\n",
       "      <th>cadaCuantosDiasHaceConversion_34.0</th>\n",
       "      <th>cadaCuantosDiasHaceConversion_4.0</th>\n",
       "      <th>cadaCuantosDiasHaceConversion_20.0</th>\n",
       "      <th>cadaCuantosDiasHaceConversion_9.0</th>\n",
       "      <th>cadaCuantosDiasHaceConversion_2.0</th>\n",
       "      <th>cadaCuantosDiasHaceConversion_12.0</th>\n",
       "      <th>cadaCuantosDiasHaceConversion_6.0</th>\n",
       "      <th>cadaCuantosDiasHaceConversion_33.0</th>\n",
       "      <th>cadaCuantosDiasHaceConversion_35.0</th>\n",
       "      <th>cadaCuantosDiasHaceConversion_38.0</th>\n",
       "      <th>cadaCuantosDiasHaceConversion_41.0</th>\n",
       "    </tr>\n",
       "  </thead>\n",
       "  <tbody>\n",
       "    <tr>\n",
       "      <th>0</th>\n",
       "      <td>4886f805</td>\n",
       "      <td>1</td>\n",
       "      <td>0</td>\n",
       "      <td>0</td>\n",
       "      <td>0</td>\n",
       "      <td>0</td>\n",
       "      <td>0</td>\n",
       "      <td>0</td>\n",
       "      <td>0</td>\n",
       "      <td>0</td>\n",
       "      <td>0</td>\n",
       "      <td>0</td>\n",
       "      <td>0</td>\n",
       "      <td>0</td>\n",
       "      <td>0</td>\n",
       "      <td>0</td>\n",
       "    </tr>\n",
       "    <tr>\n",
       "      <th>1</th>\n",
       "      <td>ad93850f</td>\n",
       "      <td>1</td>\n",
       "      <td>0</td>\n",
       "      <td>0</td>\n",
       "      <td>0</td>\n",
       "      <td>0</td>\n",
       "      <td>0</td>\n",
       "      <td>0</td>\n",
       "      <td>0</td>\n",
       "      <td>0</td>\n",
       "      <td>0</td>\n",
       "      <td>0</td>\n",
       "      <td>0</td>\n",
       "      <td>0</td>\n",
       "      <td>0</td>\n",
       "      <td>0</td>\n",
       "    </tr>\n",
       "    <tr>\n",
       "      <th>2</th>\n",
       "      <td>0297fc1e</td>\n",
       "      <td>1</td>\n",
       "      <td>0</td>\n",
       "      <td>0</td>\n",
       "      <td>0</td>\n",
       "      <td>0</td>\n",
       "      <td>0</td>\n",
       "      <td>0</td>\n",
       "      <td>0</td>\n",
       "      <td>0</td>\n",
       "      <td>0</td>\n",
       "      <td>0</td>\n",
       "      <td>0</td>\n",
       "      <td>0</td>\n",
       "      <td>0</td>\n",
       "      <td>0</td>\n",
       "    </tr>\n",
       "    <tr>\n",
       "      <th>3</th>\n",
       "      <td>2d681dd8</td>\n",
       "      <td>1</td>\n",
       "      <td>0</td>\n",
       "      <td>0</td>\n",
       "      <td>0</td>\n",
       "      <td>0</td>\n",
       "      <td>0</td>\n",
       "      <td>0</td>\n",
       "      <td>0</td>\n",
       "      <td>0</td>\n",
       "      <td>0</td>\n",
       "      <td>0</td>\n",
       "      <td>0</td>\n",
       "      <td>0</td>\n",
       "      <td>0</td>\n",
       "      <td>0</td>\n",
       "    </tr>\n",
       "    <tr>\n",
       "      <th>4</th>\n",
       "      <td>cccea85e</td>\n",
       "      <td>1</td>\n",
       "      <td>0</td>\n",
       "      <td>0</td>\n",
       "      <td>0</td>\n",
       "      <td>0</td>\n",
       "      <td>0</td>\n",
       "      <td>0</td>\n",
       "      <td>0</td>\n",
       "      <td>0</td>\n",
       "      <td>0</td>\n",
       "      <td>0</td>\n",
       "      <td>0</td>\n",
       "      <td>0</td>\n",
       "      <td>0</td>\n",
       "      <td>0</td>\n",
       "    </tr>\n",
       "  </tbody>\n",
       "</table>\n",
       "</div>"
      ],
      "text/plain": [
       "     person  cadaCuantosDiasHaceConversion_-1.0  \\\n",
       "0  4886f805                                   1   \n",
       "1  ad93850f                                   1   \n",
       "2  0297fc1e                                   1   \n",
       "3  2d681dd8                                   1   \n",
       "4  cccea85e                                   1   \n",
       "\n",
       "   cadaCuantosDiasHaceConversion_0.0  cadaCuantosDiasHaceConversion_1.0  \\\n",
       "0                                  0                                  0   \n",
       "1                                  0                                  0   \n",
       "2                                  0                                  0   \n",
       "3                                  0                                  0   \n",
       "4                                  0                                  0   \n",
       "\n",
       "   cadaCuantosDiasHaceConversion_3.0  cadaCuantosDiasHaceConversion_34.0  \\\n",
       "0                                  0                                   0   \n",
       "1                                  0                                   0   \n",
       "2                                  0                                   0   \n",
       "3                                  0                                   0   \n",
       "4                                  0                                   0   \n",
       "\n",
       "   cadaCuantosDiasHaceConversion_4.0  cadaCuantosDiasHaceConversion_20.0  \\\n",
       "0                                  0                                   0   \n",
       "1                                  0                                   0   \n",
       "2                                  0                                   0   \n",
       "3                                  0                                   0   \n",
       "4                                  0                                   0   \n",
       "\n",
       "   cadaCuantosDiasHaceConversion_9.0  cadaCuantosDiasHaceConversion_2.0  \\\n",
       "0                                  0                                  0   \n",
       "1                                  0                                  0   \n",
       "2                                  0                                  0   \n",
       "3                                  0                                  0   \n",
       "4                                  0                                  0   \n",
       "\n",
       "   cadaCuantosDiasHaceConversion_12.0  cadaCuantosDiasHaceConversion_6.0  \\\n",
       "0                                   0                                  0   \n",
       "1                                   0                                  0   \n",
       "2                                   0                                  0   \n",
       "3                                   0                                  0   \n",
       "4                                   0                                  0   \n",
       "\n",
       "   cadaCuantosDiasHaceConversion_33.0  cadaCuantosDiasHaceConversion_35.0  \\\n",
       "0                                   0                                   0   \n",
       "1                                   0                                   0   \n",
       "2                                   0                                   0   \n",
       "3                                   0                                   0   \n",
       "4                                   0                                   0   \n",
       "\n",
       "   cadaCuantosDiasHaceConversion_38.0  cadaCuantosDiasHaceConversion_41.0  \n",
       "0                                   0                                   0  \n",
       "1                                   0                                   0  \n",
       "2                                   0                                   0  \n",
       "3                                   0                                   0  \n",
       "4                                   0                                   0  "
      ]
     },
     "execution_count": 362,
     "metadata": {},
     "output_type": "execute_result"
    }
   ],
   "source": [
    "df_cadaCuantosDiasHaceConversion_conOneHot.head()"
   ]
  },
  {
   "cell_type": "markdown",
   "metadata": {},
   "source": [
    "##  Cada cuanto hace checkout"
   ]
  },
  {
   "cell_type": "markdown",
   "metadata": {},
   "source": [
    "#### Cada cuantos dias hace checkout"
   ]
  },
  {
   "cell_type": "code",
   "execution_count": 363,
   "metadata": {},
   "outputs": [],
   "source": [
    "df_cadaCuantosDiasHaceCheckout = df_events[df_events['event'] == 'checkout']"
   ]
  },
  {
   "cell_type": "code",
   "execution_count": 364,
   "metadata": {},
   "outputs": [],
   "source": [
    "df_cadaCuantosDiasHaceCheckout = df_cadaCuantosDiasHaceCheckout[['person','timestamp','month','day']]"
   ]
  },
  {
   "cell_type": "code",
   "execution_count": 365,
   "metadata": {},
   "outputs": [],
   "source": [
    "df_cadaCuantosDiasHaceCheckout = df_cadaCuantosDiasHaceCheckout.drop_duplicates(['month','day','person'])\\\n",
    "                                .sort_values('timestamp')"
   ]
  },
  {
   "cell_type": "code",
   "execution_count": 366,
   "metadata": {},
   "outputs": [],
   "source": [
    "# Funcion de agregacion para poder calcular la diferencia entre 2 ingresos consecutivos pero para una persona.\n",
    "def cadaCuantosDiasHaceCheckout(S):\n",
    "    if(len(S) == 1): return 0\n",
    "    return round(np.mean((S - S.shift()).dropna().dt.days))"
   ]
  },
  {
   "cell_type": "code",
   "execution_count": 367,
   "metadata": {
    "scrolled": true
   },
   "outputs": [],
   "source": [
    "df_cadaCuantosDiasHaceCheckout = (df_cadaCuantosDiasHaceCheckout.groupby('person')['timestamp']\\\n",
    "                                 .agg(cadaCuantosDiasHaceCheckout)).to_frame().reset_index()\n",
    "df_cadaCuantosDiasHaceCheckout.columns = ['person','cadaCuantosDiasHaceCheckout']"
   ]
  },
  {
   "cell_type": "code",
   "execution_count": 368,
   "metadata": {},
   "outputs": [],
   "source": [
    "df_cadaCuantosDiasHaceCheckout = pd.merge(df_todas_las_personas,df_cadaCuantosDiasHaceCheckout\\\n",
    "                                                       ,on = 'person', how = 'left')"
   ]
  },
  {
   "cell_type": "code",
   "execution_count": 369,
   "metadata": {},
   "outputs": [],
   "source": [
    "df_cadaCuantosDiasHaceCheckout = df_cadaCuantosDiasHaceCheckout.fillna(-1)"
   ]
  },
  {
   "cell_type": "code",
   "execution_count": 370,
   "metadata": {
    "scrolled": true
   },
   "outputs": [
    {
     "data": {
      "text/html": [
       "<div>\n",
       "<style scoped>\n",
       "    .dataframe tbody tr th:only-of-type {\n",
       "        vertical-align: middle;\n",
       "    }\n",
       "\n",
       "    .dataframe tbody tr th {\n",
       "        vertical-align: top;\n",
       "    }\n",
       "\n",
       "    .dataframe thead th {\n",
       "        text-align: right;\n",
       "    }\n",
       "</style>\n",
       "<table border=\"1\" class=\"dataframe\">\n",
       "  <thead>\n",
       "    <tr style=\"text-align: right;\">\n",
       "      <th></th>\n",
       "      <th>person</th>\n",
       "      <th>cadaCuantosDiasHaceCheckout</th>\n",
       "    </tr>\n",
       "  </thead>\n",
       "  <tbody>\n",
       "    <tr>\n",
       "      <th>0</th>\n",
       "      <td>4886f805</td>\n",
       "      <td>0.0</td>\n",
       "    </tr>\n",
       "    <tr>\n",
       "      <th>1</th>\n",
       "      <td>ad93850f</td>\n",
       "      <td>0.0</td>\n",
       "    </tr>\n",
       "    <tr>\n",
       "      <th>2</th>\n",
       "      <td>0297fc1e</td>\n",
       "      <td>24.0</td>\n",
       "    </tr>\n",
       "    <tr>\n",
       "      <th>3</th>\n",
       "      <td>2d681dd8</td>\n",
       "      <td>0.0</td>\n",
       "    </tr>\n",
       "    <tr>\n",
       "      <th>4</th>\n",
       "      <td>cccea85e</td>\n",
       "      <td>0.0</td>\n",
       "    </tr>\n",
       "  </tbody>\n",
       "</table>\n",
       "</div>"
      ],
      "text/plain": [
       "     person  cadaCuantosDiasHaceCheckout\n",
       "0  4886f805                          0.0\n",
       "1  ad93850f                          0.0\n",
       "2  0297fc1e                         24.0\n",
       "3  2d681dd8                          0.0\n",
       "4  cccea85e                          0.0"
      ]
     },
     "execution_count": 370,
     "metadata": {},
     "output_type": "execute_result"
    }
   ],
   "source": [
    "df_cadaCuantosDiasHaceCheckout.head()"
   ]
  },
  {
   "cell_type": "code",
   "execution_count": 371,
   "metadata": {},
   "outputs": [
    {
     "data": {
      "text/plain": [
       "(38829, 2)"
      ]
     },
     "execution_count": 371,
     "metadata": {},
     "output_type": "execute_result"
    }
   ],
   "source": [
    "df_cadaCuantosDiasHaceCheckout.shape"
   ]
  },
  {
   "cell_type": "markdown",
   "metadata": {},
   "source": [
    "Con one hot encoding"
   ]
  },
  {
   "cell_type": "code",
   "execution_count": 372,
   "metadata": {
    "scrolled": true
   },
   "outputs": [
    {
     "data": {
      "text/html": [
       "<div>\n",
       "<style scoped>\n",
       "    .dataframe tbody tr th:only-of-type {\n",
       "        vertical-align: middle;\n",
       "    }\n",
       "\n",
       "    .dataframe tbody tr th {\n",
       "        vertical-align: top;\n",
       "    }\n",
       "\n",
       "    .dataframe thead th {\n",
       "        text-align: right;\n",
       "    }\n",
       "</style>\n",
       "<table border=\"1\" class=\"dataframe\">\n",
       "  <thead>\n",
       "    <tr style=\"text-align: right;\">\n",
       "      <th></th>\n",
       "      <th>neg</th>\n",
       "      <th>pos</th>\n",
       "      <th>dif</th>\n",
       "    </tr>\n",
       "    <tr>\n",
       "      <th>cadaCuantosDiasHaceCheckout</th>\n",
       "      <th></th>\n",
       "      <th></th>\n",
       "      <th></th>\n",
       "    </tr>\n",
       "  </thead>\n",
       "  <tbody>\n",
       "    <tr>\n",
       "      <th>0.0</th>\n",
       "      <td>0.740263</td>\n",
       "      <td>0.277551</td>\n",
       "      <td>0.462712</td>\n",
       "    </tr>\n",
       "    <tr>\n",
       "      <th>-1.0</th>\n",
       "      <td>0.131876</td>\n",
       "      <td>0.541837</td>\n",
       "      <td>0.409961</td>\n",
       "    </tr>\n",
       "    <tr>\n",
       "      <th>20.0</th>\n",
       "      <td>0.001790</td>\n",
       "      <td>0.009184</td>\n",
       "      <td>0.007394</td>\n",
       "    </tr>\n",
       "    <tr>\n",
       "      <th>2.0</th>\n",
       "      <td>0.012043</td>\n",
       "      <td>0.018367</td>\n",
       "      <td>0.006324</td>\n",
       "    </tr>\n",
       "    <tr>\n",
       "      <th>9.0</th>\n",
       "      <td>0.002929</td>\n",
       "      <td>0.008163</td>\n",
       "      <td>0.005234</td>\n",
       "    </tr>\n",
       "  </tbody>\n",
       "</table>\n",
       "</div>"
      ],
      "text/plain": [
       "                                  neg       pos       dif\n",
       "cadaCuantosDiasHaceCheckout                              \n",
       " 0.0                         0.740263  0.277551  0.462712\n",
       "-1.0                         0.131876  0.541837  0.409961\n",
       " 20.0                        0.001790  0.009184  0.007394\n",
       " 2.0                         0.012043  0.018367  0.006324\n",
       " 9.0                         0.002929  0.008163  0.005234"
      ]
     },
     "execution_count": 372,
     "metadata": {},
     "output_type": "execute_result"
    }
   ],
   "source": [
    "a = pd.merge(df_labels,df_cadaCuantosDiasHaceCheckout,on = 'person', how = 'inner')\n",
    "a = a.groupby(['cadaCuantosDiasHaceCheckout','label']).count().unstack()\n",
    "a.columns = ['neg','pos']\n",
    "a['neg'] = a['neg'] / a['neg'].sum()\n",
    "a['pos'] = a['pos'] / a['pos'].sum()\n",
    "a['dif'] = np.abs(a['pos'] - a['neg'])\n",
    "a.sort_values('dif',ascending = False, inplace = True)\n",
    "a.head()"
   ]
  },
  {
   "cell_type": "code",
   "execution_count": 373,
   "metadata": {},
   "outputs": [],
   "source": [
    "K = 15\n",
    "top_columnas = list(a.head(K).index)\n",
    "top_columnas2 = list(df_cadaCuantosDiasHaceCheckout['cadaCuantosDiasHaceCheckout'].value_counts().head(K).index)\n",
    "df_cadaCuantosDiasHaceCheckout_conOneHot = pd.concat([df_cadaCuantosDiasHaceCheckout['person'],pd.get_dummies(df_cadaCuantosDiasHaceCheckout['cadaCuantosDiasHaceCheckout'])[top_columnas]],axis = 1)"
   ]
  },
  {
   "cell_type": "code",
   "execution_count": 374,
   "metadata": {},
   "outputs": [],
   "source": [
    "nombres_columnas = ['cadaCuantosDiasHaceCheckout_'+str(columna) for columna in df_cadaCuantosDiasHaceCheckout_conOneHot.columns]\n",
    "nombres_columnas[0] = 'person'\n",
    "df_cadaCuantosDiasHaceCheckout_conOneHot.columns = nombres_columnas"
   ]
  },
  {
   "cell_type": "code",
   "execution_count": 375,
   "metadata": {
    "scrolled": false
   },
   "outputs": [
    {
     "data": {
      "text/html": [
       "<div>\n",
       "<style scoped>\n",
       "    .dataframe tbody tr th:only-of-type {\n",
       "        vertical-align: middle;\n",
       "    }\n",
       "\n",
       "    .dataframe tbody tr th {\n",
       "        vertical-align: top;\n",
       "    }\n",
       "\n",
       "    .dataframe thead th {\n",
       "        text-align: right;\n",
       "    }\n",
       "</style>\n",
       "<table border=\"1\" class=\"dataframe\">\n",
       "  <thead>\n",
       "    <tr style=\"text-align: right;\">\n",
       "      <th></th>\n",
       "      <th>person</th>\n",
       "      <th>cadaCuantosDiasHaceCheckout_0.0</th>\n",
       "      <th>cadaCuantosDiasHaceCheckout_-1.0</th>\n",
       "      <th>cadaCuantosDiasHaceCheckout_20.0</th>\n",
       "      <th>cadaCuantosDiasHaceCheckout_2.0</th>\n",
       "      <th>cadaCuantosDiasHaceCheckout_9.0</th>\n",
       "      <th>cadaCuantosDiasHaceCheckout_30.0</th>\n",
       "      <th>cadaCuantosDiasHaceCheckout_5.0</th>\n",
       "      <th>cadaCuantosDiasHaceCheckout_3.0</th>\n",
       "      <th>cadaCuantosDiasHaceCheckout_14.0</th>\n",
       "      <th>cadaCuantosDiasHaceCheckout_4.0</th>\n",
       "      <th>cadaCuantosDiasHaceCheckout_22.0</th>\n",
       "      <th>cadaCuantosDiasHaceCheckout_1.0</th>\n",
       "      <th>cadaCuantosDiasHaceCheckout_31.0</th>\n",
       "      <th>cadaCuantosDiasHaceCheckout_23.0</th>\n",
       "      <th>cadaCuantosDiasHaceCheckout_12.0</th>\n",
       "    </tr>\n",
       "  </thead>\n",
       "  <tbody>\n",
       "    <tr>\n",
       "      <th>0</th>\n",
       "      <td>4886f805</td>\n",
       "      <td>1</td>\n",
       "      <td>0</td>\n",
       "      <td>0</td>\n",
       "      <td>0</td>\n",
       "      <td>0</td>\n",
       "      <td>0</td>\n",
       "      <td>0</td>\n",
       "      <td>0</td>\n",
       "      <td>0</td>\n",
       "      <td>0</td>\n",
       "      <td>0</td>\n",
       "      <td>0</td>\n",
       "      <td>0</td>\n",
       "      <td>0</td>\n",
       "      <td>0</td>\n",
       "    </tr>\n",
       "    <tr>\n",
       "      <th>1</th>\n",
       "      <td>ad93850f</td>\n",
       "      <td>1</td>\n",
       "      <td>0</td>\n",
       "      <td>0</td>\n",
       "      <td>0</td>\n",
       "      <td>0</td>\n",
       "      <td>0</td>\n",
       "      <td>0</td>\n",
       "      <td>0</td>\n",
       "      <td>0</td>\n",
       "      <td>0</td>\n",
       "      <td>0</td>\n",
       "      <td>0</td>\n",
       "      <td>0</td>\n",
       "      <td>0</td>\n",
       "      <td>0</td>\n",
       "    </tr>\n",
       "    <tr>\n",
       "      <th>2</th>\n",
       "      <td>0297fc1e</td>\n",
       "      <td>0</td>\n",
       "      <td>0</td>\n",
       "      <td>0</td>\n",
       "      <td>0</td>\n",
       "      <td>0</td>\n",
       "      <td>0</td>\n",
       "      <td>0</td>\n",
       "      <td>0</td>\n",
       "      <td>0</td>\n",
       "      <td>0</td>\n",
       "      <td>0</td>\n",
       "      <td>0</td>\n",
       "      <td>0</td>\n",
       "      <td>0</td>\n",
       "      <td>0</td>\n",
       "    </tr>\n",
       "    <tr>\n",
       "      <th>3</th>\n",
       "      <td>2d681dd8</td>\n",
       "      <td>1</td>\n",
       "      <td>0</td>\n",
       "      <td>0</td>\n",
       "      <td>0</td>\n",
       "      <td>0</td>\n",
       "      <td>0</td>\n",
       "      <td>0</td>\n",
       "      <td>0</td>\n",
       "      <td>0</td>\n",
       "      <td>0</td>\n",
       "      <td>0</td>\n",
       "      <td>0</td>\n",
       "      <td>0</td>\n",
       "      <td>0</td>\n",
       "      <td>0</td>\n",
       "    </tr>\n",
       "    <tr>\n",
       "      <th>4</th>\n",
       "      <td>cccea85e</td>\n",
       "      <td>1</td>\n",
       "      <td>0</td>\n",
       "      <td>0</td>\n",
       "      <td>0</td>\n",
       "      <td>0</td>\n",
       "      <td>0</td>\n",
       "      <td>0</td>\n",
       "      <td>0</td>\n",
       "      <td>0</td>\n",
       "      <td>0</td>\n",
       "      <td>0</td>\n",
       "      <td>0</td>\n",
       "      <td>0</td>\n",
       "      <td>0</td>\n",
       "      <td>0</td>\n",
       "    </tr>\n",
       "  </tbody>\n",
       "</table>\n",
       "</div>"
      ],
      "text/plain": [
       "     person  cadaCuantosDiasHaceCheckout_0.0  \\\n",
       "0  4886f805                                1   \n",
       "1  ad93850f                                1   \n",
       "2  0297fc1e                                0   \n",
       "3  2d681dd8                                1   \n",
       "4  cccea85e                                1   \n",
       "\n",
       "   cadaCuantosDiasHaceCheckout_-1.0  cadaCuantosDiasHaceCheckout_20.0  \\\n",
       "0                                 0                                 0   \n",
       "1                                 0                                 0   \n",
       "2                                 0                                 0   \n",
       "3                                 0                                 0   \n",
       "4                                 0                                 0   \n",
       "\n",
       "   cadaCuantosDiasHaceCheckout_2.0  cadaCuantosDiasHaceCheckout_9.0  \\\n",
       "0                                0                                0   \n",
       "1                                0                                0   \n",
       "2                                0                                0   \n",
       "3                                0                                0   \n",
       "4                                0                                0   \n",
       "\n",
       "   cadaCuantosDiasHaceCheckout_30.0  cadaCuantosDiasHaceCheckout_5.0  \\\n",
       "0                                 0                                0   \n",
       "1                                 0                                0   \n",
       "2                                 0                                0   \n",
       "3                                 0                                0   \n",
       "4                                 0                                0   \n",
       "\n",
       "   cadaCuantosDiasHaceCheckout_3.0  cadaCuantosDiasHaceCheckout_14.0  \\\n",
       "0                                0                                 0   \n",
       "1                                0                                 0   \n",
       "2                                0                                 0   \n",
       "3                                0                                 0   \n",
       "4                                0                                 0   \n",
       "\n",
       "   cadaCuantosDiasHaceCheckout_4.0  cadaCuantosDiasHaceCheckout_22.0  \\\n",
       "0                                0                                 0   \n",
       "1                                0                                 0   \n",
       "2                                0                                 0   \n",
       "3                                0                                 0   \n",
       "4                                0                                 0   \n",
       "\n",
       "   cadaCuantosDiasHaceCheckout_1.0  cadaCuantosDiasHaceCheckout_31.0  \\\n",
       "0                                0                                 0   \n",
       "1                                0                                 0   \n",
       "2                                0                                 0   \n",
       "3                                0                                 0   \n",
       "4                                0                                 0   \n",
       "\n",
       "   cadaCuantosDiasHaceCheckout_23.0  cadaCuantosDiasHaceCheckout_12.0  \n",
       "0                                 0                                 0  \n",
       "1                                 0                                 0  \n",
       "2                                 0                                 0  \n",
       "3                                 0                                 0  \n",
       "4                                 0                                 0  "
      ]
     },
     "execution_count": 375,
     "metadata": {},
     "output_type": "execute_result"
    }
   ],
   "source": [
    "df_cadaCuantosDiasHaceCheckout_conOneHot.head()"
   ]
  },
  {
   "cell_type": "markdown",
   "metadata": {},
   "source": [
    "#### -----------------------------------------------------------------------------------------------------------------------------"
   ]
  },
  {
   "cell_type": "code",
   "execution_count": 522,
   "metadata": {},
   "outputs": [],
   "source": [
    "df_train2 = pd.merge(df_cadaCuantosDiasHaceEventos,df_cadaCuantasHorasHaceEventos\\\n",
    "                    , on = 'person', how = 'inner')\n",
    "df_train2 = pd.merge(df_train2,df_cadaCuantosMinutosHaceEventos\\\n",
    "                    , on = 'person', how = 'inner')\n",
    "df_train2 = pd.merge(df_train2,df_cadaCuantosDiasEnMes5HaceEventos\\\n",
    "                    , on = 'person', how = 'inner')\n",
    "df_train2 = pd.merge(df_train2,df_cadaCuantasHorasEnUnDiaDelMes5HaceEventos\\\n",
    "                    , on = 'person', how = 'inner')\n",
    "df_train2 = pd.merge(df_train2,df_cadaCuantosMinutosHaceEventosEnUnDiaYHoraDelMes5\\\n",
    "                    , on = 'person', how = 'inner')\n",
    "df_train2 = pd.merge(df_train2,df_cadaCuantosSegundosHaceEventosEnUnDiaYHoraDelMes5\\\n",
    "                    , on = 'person', how = 'inner')\n",
    "df_train2 = pd.merge(df_train2,df_cadaCuantasHorasHaceEventosEnSuUltimaConexionDelMes5\\\n",
    "                    , on = 'person', how = 'inner')\n",
    "df_train2 = pd.merge(df_train2,df_cadaCuantosMinutosHaceEventosEnSuUltimaConexionDelMes5\\\n",
    "                    , on = 'person', how = 'inner')\n",
    "df_train2 = pd.merge(df_train2,df_cadaCuantosSegundosHaceEventosEnSuUltimaConexionDelMes5\\\n",
    "                    , on = 'person', how = 'inner')\n",
    "df_train2 = pd.merge(df_train2,df_cadaCuantosDiasHaceConversion\\\n",
    "                    , on = 'person', how = 'inner')\n",
    "df_train2 = pd.merge(df_train2,df_cadaCuantosDiasHaceCheckout\\\n",
    "                    , on = 'person', how = 'inner')"
   ]
  },
  {
   "cell_type": "code",
   "execution_count": 427,
   "metadata": {},
   "outputs": [],
   "source": [
    "santi_time = pd.read_csv(\"santi_timefeatures.csv\")\n",
    "santi_time.drop(columns = ['Unnamed: 0'], inplace = True)"
   ]
  },
  {
   "cell_type": "code",
   "execution_count": 428,
   "metadata": {},
   "outputs": [],
   "source": [
    "santi_eventos = pd.read_csv(\"Santi_FeaturesConEventos.csv\")\n",
    "santi_eventos.drop(columns = ['Unnamed: 0'], inplace = True)"
   ]
  },
  {
   "cell_type": "code",
   "execution_count": 394,
   "metadata": {},
   "outputs": [],
   "source": [
    "seba = pd.read_csv(\"../features_varios.csv\")"
   ]
  },
  {
   "cell_type": "code",
   "execution_count": 536,
   "metadata": {},
   "outputs": [],
   "source": [
    "magui = pd.read_csv(\"featuresMagui.csv\")\n",
    "magui.drop(columns = ['Unnamed: 0','device_type'], inplace = True)"
   ]
  },
  {
   "cell_type": "code",
   "execution_count": null,
   "metadata": {},
   "outputs": [],
   "source": []
  },
  {
   "cell_type": "code",
   "execution_count": null,
   "metadata": {},
   "outputs": [],
   "source": [
    "# https://www.kaggle.com/tilii7/hyperparameter-grid-search-with-xgboost"
   ]
  },
  {
   "cell_type": "code",
   "execution_count": 552,
   "metadata": {},
   "outputs": [],
   "source": [
    "# Solo para contar cuanto tarda en entrenar.\n",
    "def timer(start_time=None):\n",
    "    if not start_time:\n",
    "        start_time = datetime.now()\n",
    "        return start_time\n",
    "    elif start_time:\n",
    "        thour, temp_sec = divmod((datetime.now() - start_time).total_seconds(), 3600)\n",
    "        tmin, tsec = divmod(temp_sec, 60)\n",
    "        print('\\n Time taken: %i hours %i minutes and %s seconds.' % (thour, tmin, round(tsec, 2)))"
   ]
  },
  {
   "cell_type": "code",
   "execution_count": 553,
   "metadata": {},
   "outputs": [],
   "source": [
    "from sklearn.model_selection import RandomizedSearchCV, GridSearchCV\n",
    "from sklearn.model_selection import StratifiedKFold"
   ]
  },
  {
   "cell_type": "code",
   "execution_count": 554,
   "metadata": {},
   "outputs": [],
   "source": [
    "params = {\n",
    "        'min_child_weight': [1, 5, 10],\n",
    "        'gamma': [0.5, 1, 1.5, 2, 5],\n",
    "        'subsample': [0.6, 0.8, 1.0],\n",
    "        'colsample_bytree': [0.6, 0.8, 1.0],\n",
    "        'max_depth': [3, 4, 5]\n",
    "        }"
   ]
  },
  {
   "cell_type": "code",
   "execution_count": 617,
   "metadata": {},
   "outputs": [],
   "source": [
    "df_train_con_labels = pd.merge(df_train,df_labels,how = 'inner', on ='person')"
   ]
  },
  {
   "cell_type": "code",
   "execution_count": 618,
   "metadata": {},
   "outputs": [],
   "source": [
    "df_train_con_labels.drop(columns = ['person'],inplace = True)"
   ]
  },
  {
   "cell_type": "code",
   "execution_count": 619,
   "metadata": {},
   "outputs": [],
   "source": [
    "X, y = df_train_con_labels.iloc[:,:-1],df_train_con_labels.iloc[:,-1]"
   ]
  },
  {
   "cell_type": "code",
   "execution_count": 620,
   "metadata": {},
   "outputs": [],
   "source": [
    "X_train, X_test, y_train, y_test = train_test_split(X, y, test_size=0.20, random_state=123)"
   ]
  },
  {
   "cell_type": "code",
   "execution_count": 621,
   "metadata": {},
   "outputs": [],
   "source": [
    "xg = xgb.XGBClassifier(learning_rate=0.02, n_estimators=600, objective='binary:logistic',\n",
    "                    silent=True, nthread=1)"
   ]
  },
  {
   "cell_type": "markdown",
   "metadata": {},
   "source": [
    "Stratification seeks to ensure that each fold is representative of all strata of the data. Generally this is done in a supervised way for classification and aims to ensure each class is (approximately) equally represented across each test fold (which are of course combined in a complementary way to form training folds)."
   ]
  },
  {
   "cell_type": "code",
   "execution_count": 610,
   "metadata": {
    "scrolled": true
   },
   "outputs": [],
   "source": [
    "y_train = y_train.reset_index(drop = True)"
   ]
  },
  {
   "cell_type": "code",
   "execution_count": 611,
   "metadata": {},
   "outputs": [],
   "source": [
    "X_train = X_train.reset_index(drop=True)"
   ]
  },
  {
   "cell_type": "code",
   "execution_count": 577,
   "metadata": {},
   "outputs": [],
   "source": [
    "from datetime import timedelta, datetime"
   ]
  },
  {
   "cell_type": "code",
   "execution_count": 642,
   "metadata": {},
   "outputs": [
    {
     "name": "stdout",
     "output_type": "stream",
     "text": [
      "Fitting 10 folds for each of 5 candidates, totalling 50 fits\n"
     ]
    },
    {
     "name": "stderr",
     "output_type": "stream",
     "text": [
      "[Parallel(n_jobs=4)]: Using backend LokyBackend with 4 concurrent workers.\n",
      "[Parallel(n_jobs=4)]: Done  24 tasks      | elapsed:  3.0min\n",
      "[Parallel(n_jobs=4)]: Done  50 out of  50 | elapsed:  6.1min finished\n"
     ]
    },
    {
     "name": "stdout",
     "output_type": "stream",
     "text": [
      "\n",
      " Time taken: 0 hours 6 minutes and 28.13 seconds.\n"
     ]
    }
   ],
   "source": [
    "folds = 10\n",
    "param_comb = 5\n",
    "\n",
    "skf = StratifiedKFold(n_splits=folds, shuffle = True, random_state = 1001)\n",
    "\n",
    "random_search = RandomizedSearchCV(xg, param_distributions=params, n_iter=param_comb, scoring='balanced_accuracy', n_jobs=4, cv=skf.split(X_train,y_train), verbose=3, random_state=1001 )\n",
    "#grid = GridSearchCV(estimator=xg, param_grid=params, scoring='roc_auc', n_jobs=4, cv=skf.split(X,y), verbose=3 )\n",
    "\n",
    "start_time = timer(None) # timing starts from this point for \"start_time\" variable\n",
    "random_search.fit(X_train, y_train)\n",
    "#grid.fit(X, y)\n",
    "timer(start_time) # timing ends here for \"start_time\" variable"
   ]
  },
  {
   "cell_type": "code",
   "execution_count": 648,
   "metadata": {},
   "outputs": [],
   "source": [
    "xg = random_search.best_estimator_\n",
    "#xg = grid.best_estimator_"
   ]
  },
  {
   "cell_type": "code",
   "execution_count": 359,
   "metadata": {
    "scrolled": true
   },
   "outputs": [
    {
     "data": {
      "text/plain": [
       "{'colsample_bytree': 1.0,\n",
       " 'gamma': 5,\n",
       " 'max_depth': 3,\n",
       " 'min_child_weight': 5,\n",
       " 'subsample': 0.6}"
      ]
     },
     "execution_count": 359,
     "metadata": {},
     "output_type": "execute_result"
    }
   ],
   "source": [
    "grid.best_params_"
   ]
  },
  {
   "cell_type": "code",
   "execution_count": null,
   "metadata": {},
   "outputs": [],
   "source": []
  },
  {
   "cell_type": "code",
   "execution_count": null,
   "metadata": {},
   "outputs": [],
   "source": []
  },
  {
   "cell_type": "markdown",
   "metadata": {},
   "source": [
    "#### pruebita "
   ]
  },
  {
   "cell_type": "code",
   "execution_count": 574,
   "metadata": {},
   "outputs": [],
   "source": [
    "df_train = df_cadaCuantosDiasHaceEventos2"
   ]
  },
  {
   "cell_type": "code",
   "execution_count": 537,
   "metadata": {},
   "outputs": [],
   "source": [
    "df_train_con_labels = pd.merge(df_train,df_labels,how = 'inner', on ='person')"
   ]
  },
  {
   "cell_type": "code",
   "execution_count": 538,
   "metadata": {},
   "outputs": [],
   "source": [
    "df_train_con_labels.drop(columns = ['person'],inplace = True)"
   ]
  },
  {
   "cell_type": "code",
   "execution_count": 539,
   "metadata": {},
   "outputs": [],
   "source": [
    "X, y = df_train_con_labels.iloc[:,:-1],df_train_con_labels.iloc[:,-1]"
   ]
  },
  {
   "cell_type": "code",
   "execution_count": 540,
   "metadata": {
    "scrolled": true
   },
   "outputs": [],
   "source": [
    "xg = xgb.XGBClassifier(objective ='binary:logistic', \n",
    "                colsample_bytree = 0.8, learning_rate = 0.1,\n",
    "                max_depth = 5, n_estimators = 6, scale_pos_weight = 9.5, min_child_weight=1)"
   ]
  },
  {
   "cell_type": "code",
   "execution_count": 541,
   "metadata": {},
   "outputs": [],
   "source": [
    "X_train, X_test, y_train, y_test = train_test_split(X, y, test_size=0.20, random_state=123)"
   ]
  },
  {
   "cell_type": "code",
   "execution_count": 649,
   "metadata": {
    "scrolled": false
   },
   "outputs": [
    {
     "data": {
      "text/plain": [
       "XGBClassifier(base_score=0.5, booster='gbtree', colsample_bylevel=1,\n",
       "       colsample_bytree=1.0, gamma=1, learning_rate=0.02, max_delta_step=0,\n",
       "       max_depth=4, min_child_weight=1, missing=None, n_estimators=600,\n",
       "       n_jobs=1, nthread=1, objective='binary:logistic', random_state=0,\n",
       "       reg_alpha=0, reg_lambda=1, scale_pos_weight=1, seed=None,\n",
       "       silent=True, subsample=0.8)"
      ]
     },
     "execution_count": 649,
     "metadata": {},
     "output_type": "execute_result"
    }
   ],
   "source": [
    "xg.fit(X_train,y_train)"
   ]
  },
  {
   "cell_type": "code",
   "execution_count": 650,
   "metadata": {
    "scrolled": true
   },
   "outputs": [],
   "source": [
    "predsProb1 = pd.DataFrame(xg.predict_proba(X_test))[1]"
   ]
  },
  {
   "cell_type": "code",
   "execution_count": 651,
   "metadata": {},
   "outputs": [],
   "source": [
    "predsLabel = pd.Series(xg.predict(X_test))"
   ]
  },
  {
   "cell_type": "code",
   "execution_count": 40,
   "metadata": {
    "scrolled": true
   },
   "outputs": [],
   "source": [
    "#trainAccuracy = accuracy_score(y_train, pd.Series(xg.predict(X_train)))\n",
    "#testAccuracy = accuracy_score(y_test, predsLabel)\n",
    "\n",
    "cohenKappaScore = cohen_kappa_score(y_test, predsLabel)\n",
    "classificationReport = classification_report(y_test, predsLabel)\n",
    "precisionScore = precision_score(y_test, predsLabel)\n",
    "recallScore = recall_score(y_test, predsLabel)\n",
    "f1Score = f1_score(y_test, predsLabel)\n",
    "matrizDeConfusion = confusion_matrix(y_test, predsLabel)\n",
    "\n",
    "meanSquaredError = mean_squared_error(y_test, predsProb1)\n",
    "areaDebajoDeCurva = roc_auc_score(y_test, predsProb1)"
   ]
  },
  {
   "cell_type": "code",
   "execution_count": 42,
   "metadata": {
    "scrolled": true
   },
   "outputs": [
    {
     "name": "stdout",
     "output_type": "stream",
     "text": [
      "\n",
      "Metricas con Labels:\n",
      "\n",
      "\n",
      "Classification Report:\n",
      "              precision    recall  f1-score   support\n",
      "\n",
      "           0       0.95      1.00      0.97      3692\n",
      "           1       1.00      0.01      0.01       191\n",
      "\n",
      "   micro avg       0.95      0.95      0.95      3883\n",
      "   macro avg       0.98      0.50      0.49      3883\n",
      "weighted avg       0.95      0.95      0.93      3883\n",
      "\n",
      "\n",
      "Precision Score:  1.0\n",
      "Recall Score:  0.005235602094240838\n",
      "F1 Score:  0.010416666666666668\n",
      "Cohen Kappa Score:  0.009909361017991003\n",
      "\n",
      "Confusion matrix: \n",
      "[[3692    0]\n",
      " [ 190    1]]\n",
      "\n",
      "Metricas sin Labels:\n",
      "\n",
      "ROC auc score:  0.6299612009552279\n",
      "Mean squared error:  0.046719752675264896\n"
     ]
    }
   ],
   "source": [
    "# Pruebo todas las metricas.\n",
    "# accuracy_score, roc_auc_score, mean_squared_error, confusion_matrix,\n",
    "# f1_score,precision_score,recall_score,classification_report,cohen_kappa_score\n",
    "# brierScoreLoss.\n",
    "# Hay metricas para la probabilidad de que sea 1 y otras metricas para las predicciones de los labels.\n",
    "\n",
    "\n",
    "# Metricas con LABELS.\n",
    "\n",
    "print()\n",
    "print(\"Metricas con Labels:\")\n",
    "print()\n",
    "\n",
    "print(\"Train accuracy: \", trainAccuracy)\n",
    "print(\"Test acuracy: \", testAccuracy)\n",
    "print()\n",
    "print(\"Classification Report:\")\n",
    "print(classificationReport)\n",
    "print()\n",
    "print(\"Precision Score: \",precisionScore)\n",
    "print(\"Recall Score: \",recallScore)\n",
    "print(\"F1 Score: \",f1Score)\n",
    "print(\"Cohen Kappa Score: \",cohenKappaScore)\n",
    "print()\n",
    "print(\"Confusion matrix: \")\n",
    "print(matrizDeConfusion)\n",
    "\n",
    "# Metricas con PROBABILIDADES. \n",
    "\n",
    "print()\n",
    "print(\"Metricas sin Labels:\")\n",
    "print()\n",
    "\n",
    "print(\"ROC auc score: \", areaDebajoDeCurva)\n",
    "print(\"Mean squared error: \", meanSquaredError)"
   ]
  }
 ],
 "metadata": {
  "kernelspec": {
   "display_name": "Python 3",
   "language": "python",
   "name": "python3"
  },
  "language_info": {
   "codemirror_mode": {
    "name": "ipython",
    "version": 3
   },
   "file_extension": ".py",
   "mimetype": "text/x-python",
   "name": "python",
   "nbconvert_exporter": "python",
   "pygments_lexer": "ipython3",
   "version": "3.6.5"
  }
 },
 "nbformat": 4,
 "nbformat_minor": 2
}
