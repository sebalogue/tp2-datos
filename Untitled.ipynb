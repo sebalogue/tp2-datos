{
 "cells": [
  {
   "cell_type": "code",
   "execution_count": null,
   "metadata": {},
   "outputs": [],
   "source": []
  },
  {
   "cell_type": "code",
   "execution_count": 64,
   "metadata": {},
   "outputs": [],
   "source": [
    "labels_f['cantidadDeVisitas'] = labels_f['cantidadDeVisitas'].astype('float64')"
   ]
  },
  {
   "cell_type": "code",
   "execution_count": 65,
   "metadata": {},
   "outputs": [
    {
     "name": "stdout",
     "output_type": "stream",
     "text": [
      "<class 'pandas.core.frame.DataFrame'>\n",
      "Int64Index: 19126 entries, 0 to 19125\n",
      "Data columns (total 58 columns):\n",
      "person                  19126 non-null object\n",
      "label                   19126 non-null int64\n",
      "esNuevo                 19126 non-null bool\n",
      "cantidadDeVisitas       19126 non-null float64\n",
      "ingresoPorPublicidad    19126 non-null bool\n",
      "deviceSmartphone        19126 non-null bool\n",
      "deviceComputer          19126 non-null bool\n",
      "deviceTablet            19126 non-null bool\n",
      "deviceUnknown           19126 non-null bool\n",
      "cantVisitasAVP          19126 non-null float64\n",
      "maniana                 19126 non-null float64\n",
      "tarde                   19126 non-null float64\n",
      "noche                   19126 non-null float64\n",
      "madrugada               19126 non-null float64\n",
      "cantDirect              19126 non-null float64\n",
      "cantEmail               19126 non-null float64\n",
      "cantOrganic             19126 non-null float64\n",
      "cantPaid                19126 non-null float64\n",
      "cantReferral            19126 non-null float64\n",
      "cantSocial              19126 non-null float64\n",
      "cantUnknown             19126 non-null float64\n",
      "cantVisitasDomingo      19126 non-null float64\n",
      "cantVisitasLunes        19126 non-null float64\n",
      "cantVisitasMartes       19126 non-null float64\n",
      "cantVisitasMiercoles    19126 non-null float64\n",
      "cantVisitasJueves       19126 non-null float64\n",
      "cantVisitasViernes      19126 non-null float64\n",
      "cantVisitasSabado       19126 non-null float64\n",
      "cantidadDeEventos       19126 non-null int64\n",
      "cantAdCampaignHit       19126 non-null float64\n",
      "cantBandListing         19126 non-null float64\n",
      "cantCheckout            19126 non-null float64\n",
      "cantGenericListing      19126 non-null float64\n",
      "cantLead                19126 non-null float64\n",
      "cantSearchEngineHit     19126 non-null float64\n",
      "cantSearchedProducts    19126 non-null float64\n",
      "cantStaticpage          19126 non-null float64\n",
      "cantViewedProduct       19126 non-null float64\n",
      "cantVisitedSite         19126 non-null float64\n",
      "visitaALaMañana         19126 non-null bool\n",
      "visitaALaNoche          19126 non-null bool\n",
      "visitaALaTarde          19126 non-null bool\n",
      "visitaALaMadrugada      19126 non-null bool\n",
      "canalDirect             19126 non-null bool\n",
      "canalEmail              19126 non-null bool\n",
      "canalOrganic            19126 non-null bool\n",
      "canalPaid               19126 non-null bool\n",
      "canalRefferal           19126 non-null bool\n",
      "canalSocial             19126 non-null bool\n",
      "adCampaignHit           19126 non-null bool\n",
      "bandListing             19126 non-null bool\n",
      "checkout                19126 non-null bool\n",
      "genericListing          19126 non-null bool\n",
      "searchEngineHit         19126 non-null bool\n",
      "searchedProducts        19126 non-null bool\n",
      "staticpage              19126 non-null bool\n",
      "viewedProduct           19126 non-null bool\n",
      "visitedSite             19126 non-null bool\n",
      "dtypes: bool(25), float64(30), int64(2), object(1)\n",
      "memory usage: 5.4+ MB\n"
     ]
    }
   ],
   "source": [
    "labels_f.info()"
   ]
  },
  {
   "cell_type": "code",
   "execution_count": 66,
   "metadata": {},
   "outputs": [
    {
     "data": {
      "text/plain": [
       "Index(['person', 'label', 'esNuevo', 'cantidadDeVisitas',\n",
       "       'ingresoPorPublicidad', 'deviceSmartphone', 'deviceComputer',\n",
       "       'deviceTablet', 'deviceUnknown', 'cantVisitasAVP', 'maniana', 'tarde',\n",
       "       'noche', 'madrugada', 'cantDirect', 'cantEmail', 'cantOrganic',\n",
       "       'cantPaid', 'cantReferral', 'cantSocial', 'cantUnknown',\n",
       "       'cantVisitasDomingo', 'cantVisitasLunes', 'cantVisitasMartes',\n",
       "       'cantVisitasMiercoles', 'cantVisitasJueves', 'cantVisitasViernes',\n",
       "       'cantVisitasSabado', 'cantidadDeEventos', 'cantAdCampaignHit',\n",
       "       'cantBandListing', 'cantCheckout', 'cantGenericListing', 'cantLead',\n",
       "       'cantSearchEngineHit', 'cantSearchedProducts', 'cantStaticpage',\n",
       "       'cantViewedProduct', 'cantVisitedSite', 'visitaALaMañana',\n",
       "       'visitaALaNoche', 'visitaALaTarde', 'visitaALaMadrugada', 'canalDirect',\n",
       "       'canalEmail', 'canalOrganic', 'canalPaid', 'canalRefferal',\n",
       "       'canalSocial', 'adCampaignHit', 'bandListing', 'checkout',\n",
       "       'genericListing', 'searchEngineHit', 'searchedProducts', 'staticpage',\n",
       "       'viewedProduct', 'visitedSite'],\n",
       "      dtype='object')"
      ]
     },
     "execution_count": 66,
     "metadata": {},
     "output_type": "execute_result"
    }
   ],
   "source": [
    "labels_f.columns"
   ]
  },
  {
   "cell_type": "markdown",
   "metadata": {},
   "source": [
    "### Random Forest ###"
   ]
  },
  {
   "cell_type": "code",
   "execution_count": 83,
   "metadata": {},
   "outputs": [
    {
     "ename": "TypeError",
     "evalue": "aplicarRandomForest() missing 1 required positional argument: 'printInfo'",
     "output_type": "error",
     "traceback": [
      "\u001b[0;31m---------------------------------------------------------------------------\u001b[0m",
      "\u001b[0;31mTypeError\u001b[0m                                 Traceback (most recent call last)",
      "\u001b[0;32m<ipython-input-83-e27da4c8b9ee>\u001b[0m in \u001b[0;36m<module>\u001b[0;34m()\u001b[0m\n\u001b[1;32m     22\u001b[0m \u001b[0mX_train\u001b[0m\u001b[0;34m,\u001b[0m \u001b[0mX_test\u001b[0m\u001b[0;34m,\u001b[0m \u001b[0my_train\u001b[0m\u001b[0;34m,\u001b[0m \u001b[0my_test\u001b[0m \u001b[0;34m=\u001b[0m \u001b[0mtrain_test_split\u001b[0m\u001b[0;34m(\u001b[0m\u001b[0mX\u001b[0m\u001b[0;34m,\u001b[0m \u001b[0my\u001b[0m\u001b[0;34m,\u001b[0m \u001b[0mtest_size\u001b[0m\u001b[0;34m=\u001b[0m\u001b[0;36m0.20\u001b[0m\u001b[0;34m,\u001b[0m \u001b[0mrandom_state\u001b[0m\u001b[0;34m=\u001b[0m\u001b[0;36m123\u001b[0m\u001b[0;34m)\u001b[0m\u001b[0;34m\u001b[0m\u001b[0m\n\u001b[1;32m     23\u001b[0m \u001b[0;34m\u001b[0m\u001b[0m\n\u001b[0;32m---> 24\u001b[0;31m \u001b[0maplicarRandomForest\u001b[0m\u001b[0;34m(\u001b[0m\u001b[0mX_train\u001b[0m\u001b[0;34m,\u001b[0m \u001b[0mX_test\u001b[0m\u001b[0;34m,\u001b[0m \u001b[0my_train\u001b[0m\u001b[0;34m,\u001b[0m \u001b[0my_test\u001b[0m\u001b[0;34m,\u001b[0m\u001b[0;36m800\u001b[0m\u001b[0;34m)\u001b[0m\u001b[0;34m\u001b[0m\u001b[0m\n\u001b[0m\u001b[1;32m     25\u001b[0m \u001b[0maplicarXGBOOST\u001b[0m\u001b[0;34m(\u001b[0m\u001b[0mX_train\u001b[0m\u001b[0;34m,\u001b[0m \u001b[0mX_test\u001b[0m\u001b[0;34m,\u001b[0m \u001b[0my_train\u001b[0m\u001b[0;34m,\u001b[0m \u001b[0my_test\u001b[0m\u001b[0;34m)\u001b[0m\u001b[0;34m\u001b[0m\u001b[0m\n\u001b[1;32m     26\u001b[0m \u001b[0;31m#aplicarKNN(X_train, X_test, y_train, y_test)\u001b[0m\u001b[0;34m\u001b[0m\u001b[0;34m\u001b[0m\u001b[0m\n",
      "\u001b[0;31mTypeError\u001b[0m: aplicarRandomForest() missing 1 required positional argument: 'printInfo'"
     ]
    }
   ],
   "source": [
    "X = labels_f.loc[:,['esNuevo', 'cantidadDeVisitas',\n",
    "       'ingresoPorPublicidad', 'deviceSmartphone', 'deviceComputer',\n",
    "       'deviceTablet', 'deviceUnknown', 'cantVisitasAVP', 'maniana', 'tarde',\n",
    "       'noche', 'madrugada', 'cantDirect', 'cantEmail', 'cantOrganic',\n",
    "       'cantPaid', 'cantReferral', 'cantSocial', 'cantUnknown',\n",
    "       'cantVisitasDomingo', 'cantVisitasLunes', 'cantVisitasMartes',\n",
    "       'cantVisitasMiercoles', 'cantVisitasJueves', 'cantVisitasViernes',\n",
    "       'cantVisitasSabado', 'cantidadDeEventos', 'cantAdCampaignHit',\n",
    "       'cantBandListing', 'cantCheckout', 'cantGenericListing', 'cantLead',\n",
    "       'cantSearchEngineHit', 'cantSearchedProducts', 'cantStaticpage',\n",
    "       'cantViewedProduct', 'cantVisitedSite', 'visitaALaMañana',\n",
    "       'visitaALaNoche', 'visitaALaTarde', 'visitaALaMadrugada', 'canalDirect',\n",
    "       'canalEmail', 'canalOrganic', 'canalPaid', 'canalRefferal',\n",
    "       'canalSocial', 'adCampaignHit', 'bandListing', 'checkout',\n",
    "       'genericListing', 'searchEngineHit', 'searchedProducts', 'staticpage',\n",
    "       'viewedProduct', 'visitedSite']]\n",
    "\n",
    "\n",
    "\n",
    "y =labels_f.loc[:,'label']\n",
    "\n",
    "X_train, X_test, y_train, y_test = train_test_split(X, y, test_size=0.20, random_state=123)\n",
    "\n",
    "aplicarRandomForest(X_train, X_test, y_train, y_test,800)\n",
    "aplicarXGBOOST(X_train, X_test, y_train, y_test)\n",
    "#aplicarKNN(X_train, X_test, y_train, y_test)"
   ]
  },
  {
   "cell_type": "code",
   "execution_count": 82,
   "metadata": {},
   "outputs": [],
   "source": [
    "def aplicarRandomForest(X_train,X_test,y_train, y_test,estimators,printInfo):\n",
    "    clf = RandomForestClassifier(bootstrap= True,n_estimators= estimators)\n",
    "    clf.fit(X_train,y_train)\n",
    "\n",
    "#pred = clf.predict(X_test)\n",
    "#print(accuracy_score(y_test, pred))\n",
    "    preds = clf.predict(X_test)\n",
    "    train_accuracy = accuracy_score(y_train, clf.predict(X_train))\n",
    "    test_accuracy = accuracy_score(y_test, preds)\n",
    "    matriz_de_confusion = confusion_matrix(y_test, preds)\n",
    "    area_debajo_de_curva = roc_auc_score(y_test, preds)\n",
    "    if(printInfo):\n",
    "        print('RANDOM FOREST \\n')\n",
    "        print(\"Train accuracy: \", train_accuracy)\n",
    "        print(\"Test acuracy: \", test_accuracy)\n",
    "        print(\"ROC auc score: \", area_debajo_de_curva)\n",
    "        print(\"Confusion matrix: \")\n",
    "        print(matriz_de_confusion)\n",
    "        print(X.head(0))\n",
    "    return(area_debajo_de_curva)"
   ]
  },
  {
   "cell_type": "markdown",
   "metadata": {},
   "source": []
  },
  {
   "cell_type": "markdown",
   "metadata": {},
   "source": [
    "### XGBOOST ###"
   ]
  },
  {
   "cell_type": "code",
   "execution_count": 68,
   "metadata": {},
   "outputs": [],
   "source": [
    "def aplicarXGBOOST(X_train,X_test,y_train, y_test, printInfo):\n",
    "    data_dmatrix = xgb.DMatrix(data=X,label=y)\n",
    "    X_train, X_test, y_train, y_test = train_test_split(X, y, test_size=0.1, random_state=19937)\n",
    "    xg_reg = xgb.XGBRegressor(objective ='binary:logistic',colsample_bytree = 0.8, learning_rate = 0.1,\n",
    "                max_depth = 5, n_estimators = 6, scale_pos_weight = 0.95, min_child_weight=1)\n",
    "    xg_reg.fit(X_train,y_train)\n",
    "    preds = xg_reg.predict_prob(X_test)\n",
    "    train_accuracy = accuracy_score(y_train, xg_reg.predict(X_train))\n",
    "    test_accuracy = accuracy_score(y_test, preds)\n",
    "    matriz_de_confusion = confusion_matrix(y_test, preds)\n",
    "    area_debajo_de_curva = roc_auc_score(y_test, preds)\n",
    "    if(printInfo):\n",
    "        print('XGBOOST \\n')\n",
    "        print(\"Train accuracy: \", train_accuracy)\n",
    "        print(\"Test acuracy: \", test_accuracy)\n",
    "        print(\"ROC auc score: \", area_debajo_de_curva)\n",
    "        print(\"Confusion matrix: \")\n",
    "        print(matriz_de_confusion)\n",
    "        print(X_train.head(0))\n",
    "    return(area_debajo_de_curva)"
   ]
  },
  {
   "cell_type": "markdown",
   "metadata": {},
   "source": [
    "### KNN###\n"
   ]
  },
  {
   "cell_type": "code",
   "execution_count": 72,
   "metadata": {
    "scrolled": true
   },
   "outputs": [],
   "source": [
    "def aplicarKNN(X_train,X_test,y_train, y_test, k, printInfo):\n",
    "    \n",
    "    knn = KNeighborsClassifier(n_neighbors = k)\n",
    "\n",
    "    # FIT (this does nothing in normal KNN)\n",
    "    knn.fit(X_train, y_train)\n",
    "\n",
    "    # predict the response \n",
    "    preds = knn.predict(X_test)\n",
    "\n",
    "    train_accuracy = accuracy_score(y_train, knn.predict(X_train))\n",
    "    test_accuracy = accuracy_score(y_test, preds)\n",
    "    matriz_de_confusion = confusion_matrix(y_test, preds)\n",
    "    area_debajo_de_curva = roc_auc_score(y_test, preds)\n",
    "\n",
    "    if(printInfo):\n",
    "        print('KNN \\n')\n",
    "        print(\"Train accuracy: \", train_accuracy)\n",
    "        print(\"Test acuracy: \", test_accuracy)\n",
    "        print(\"ROC auc score: \", area_debajo_de_curva)\n",
    "        print(\"Confusion matrix: \")\n",
    "        print(matriz_de_confusion)\n",
    "        print(X_train.head(0))\n",
    "    return(area_debajo_de_curva)"
   ]
  },
  {
   "cell_type": "code",
   "execution_count": null,
   "metadata": {},
   "outputs": [],
   "source": []
  },
  {
   "cell_type": "code",
   "execution_count": null,
   "metadata": {},
   "outputs": [],
   "source": [
    "X = labels_f.loc[:,['esNuevo', 'cantidadDeVisitas',\n",
    "       'ingresoPorPublicidad', 'deviceSmartphone', 'deviceComputer',\n",
    "       'deviceTablet', 'deviceUnknown', 'cantVisitasAVP', 'maniana', 'tarde',\n",
    "       'noche', 'madrugada', 'cantDirect', 'cantEmail', 'cantOrganic',\n",
    "       'cantPaid', 'cantReferral', 'cantSocial', 'cantUnknown',\n",
    "       'cantVisitasDomingo', 'cantVisitasLunes', 'cantVisitasMartes',\n",
    "       'cantVisitasMiercoles', 'cantVisitasJueves', 'cantVisitasViernes',\n",
    "       'cantVisitasSabado', 'cantidadDeEventos', 'cantAdCampaignHit',\n",
    "       'cantBandListing', 'cantCheckout', 'cantGenericListing', 'cantLead',\n",
    "       'cantSearchEngineHit', 'cantSearchedProducts', 'cantStaticpage',\n",
    "       'cantViewedProduct', 'cantVisitedSite', 'visitaALaMañana',\n",
    "       'visitaALaNoche', 'visitaALaTarde', 'visitaALaMadrugada', 'canalDirect',\n",
    "       'canalEmail', 'canalOrganic', 'canalPaid', 'canalRefferal',\n",
    "       'canalSocial', 'adCampaignHit', 'bandListing', 'checkout',\n",
    "       'genericListing', 'searchEngineHit', 'searchedProducts', 'staticpage',\n",
    "       'viewedProduct', 'visitedSite']]\n",
    "\n",
    "\n",
    "labels = ['person','label','esNuevo', 'cantidadDeVisitas',\n",
    "       'ingresoPorPublicidad', 'deviceSmartphone', 'deviceComputer',\n",
    "       'deviceTablet', 'deviceUnknown', 'cantVisitasAVP', 'maniana', 'tarde',\n",
    "       'noche', 'madrugada', 'cantDirect', 'cantEmail', 'cantOrganic',\n",
    "       'cantPaid', 'cantReferral', 'cantSocial', 'cantUnknown',\n",
    "       'cantVisitasDomingo', 'cantVisitasLunes', 'cantVisitasMartes',\n",
    "       'cantVisitasMiercoles', 'cantVisitasJueves', 'cantVisitasViernes',\n",
    "       'cantVisitasSabado', 'cantidadDeEventos', 'cantAdCampaignHit',\n",
    "       'cantBandListing', 'cantCheckout', 'cantGenericListing', 'cantLead',\n",
    "       'cantSearchEngineHit', 'cantSearchedProducts', 'cantStaticpage',\n",
    "       'cantViewedProduct', 'cantVisitedSite', 'visitaALaMañana',\n",
    "       'visitaALaNoche', 'visitaALaTarde', 'visitaALaMadrugada', 'canalDirect',\n",
    "       'canalEmail', 'canalOrganic', 'canalPaid', 'canalRefferal',\n",
    "       'canalSocial', 'adCampaignHit', 'bandListing', 'checkout',\n",
    "       'genericListing', 'searchEngineHit', 'searchedProducts', 'staticpage',\n",
    "       'viewedProduct', 'visitedSite']\n",
    "\n",
    "y =labels_f.loc[:,'label']\n",
    "\n",
    "print('XGBOOST')\n",
    "scoreFeaturesIndivididuales = {}\n",
    "featuresMasSignificativas = []\n",
    "for i in range (2,58):\n",
    "    X = labels_f.iloc[:,i:i+1]\n",
    "    X_train, X_test, y_train, y_test = train_test_split(X, y, test_size=0.20, random_state=123)\n",
    "    scoreFeaturesIndivididuales[labels[i]] = aplicarXGBOOST(X_train, X_test, y_train, y_test,False)\n",
    "\n",
    "\n",
    "for feature in scoreFeaturesIndivididuales: \n",
    "    #print(feature,\"=\",scoreFeaturesIndivididuales[feature])\n",
    "    if(scoreFeaturesIndivididuales[feature] > 0.51):\n",
    "        featuresMasSignificativas.append(feature)\n",
    "\n",
    "#print(featuresMasSignificativas)\n"
   ]
  },
  {
   "cell_type": "code",
   "execution_count": null,
   "metadata": {},
   "outputs": [],
   "source": [
    "X = labels_f.loc[:,featuresMasSignificativas]\n",
    "X_train, X_test, y_train, y_test = train_test_split(X, y, test_size=0.20, random_state=2000)\n",
    "aplicarXGBOOST(X_train, X_test, y_train, y_test,True)\n"
   ]
  },
  {
   "cell_type": "code",
   "execution_count": null,
   "metadata": {},
   "outputs": [],
   "source": [
    "X = labels_f.loc[:,featuresMasSignificativas]\n",
    "porcentajes = [0.01, 0.02,0.03, 0.04, 0.05, 0.06,0.07, 0.08,0.09, 0.11, 0.12,0.03, 0.14, 0.15, 0.16,0.17, 0.18,0.19, \\\n",
    "              0.21, 0.22,0.23, 0.24, 0.25, 0.26,0.27, 0.28,0.29, \\\n",
    "              0.31, 0.32,0.33, 0.34, 0.35, 0.36,0.37, 0.38,0.39, \\\n",
    "              0.41, 0.42,0.43, 0.44, 0.45, 0.46,0.47, 0.48,0.49, \\\n",
    "              0.51, 0.52,0.53, 0.54, 0.55, 0.56,0.57, 0.58,0.59, \\\n",
    "              0.61, 0.62,0.63, 0.64, 0.65, 0.66,0.67, 0.68,0.69, \\\n",
    "              0.71, 0.72,0.73, 0.74, 0.75, 0.76,0.77, 0.78,0.79, \\\n",
    "              0.81, 0.82,0.83, 0.84, 0.85, 0.86,0.87, 0.88,0.89]\n",
    "xg_reg = xgb.XGBRegressor(objective ='binary:hinge',colsample_bytree = 0.8, learning_rate = 0.1,\n",
    "                max_depth = 5, n_estimators = 6, scale_pos_weight = 0.95, min_child_weight=1)\n",
    "for i in porcentajes:    \n",
    "    data_dmatrix = xgb.DMatrix(data=X,label=y)\n",
    "    X_train, X_test, y_train, y_test = train_test_split(X, y, test_size= float(i), random_state=19937)\n",
    "    \n",
    "    xg_reg.fit(X_train,y_train)\n",
    "preds = xg_reg.predict(X_test)\n",
    "train_accuracy = accuracy_score(y_train, xg_reg.predict(X_train))\n",
    "print(train_accuracy)\n",
    "test_accuracy = accuracy_score(y_test, preds)\n",
    "print(test_accuracy)\n",
    "matriz_de_confusion = confusion_matrix(y_test, preds)\n",
    "print(matriz_de_confusion)\n",
    "area_debajo_de_curva = roc_auc_score(y_test, preds)\n",
    "print(area_debajo_de_curva)"
   ]
  },
  {
   "cell_type": "code",
   "execution_count": null,
   "metadata": {},
   "outputs": [],
   "source": [
    "X = labels_f.loc[:,['esNuevo', 'cantidadDeVisitas',\n",
    "       'ingresoPorPublicidad', 'deviceSmartphone', 'deviceComputer',\n",
    "       'deviceTablet', 'deviceUnknown', 'cantVisitasAVP', 'maniana', 'tarde',\n",
    "       'noche', 'madrugada', 'cantDirect', 'cantEmail', 'cantOrganic',\n",
    "       'cantPaid', 'cantReferral', 'cantSocial', 'cantUnknown',\n",
    "       'cantVisitasDomingo', 'cantVisitasLunes', 'cantVisitasMartes',\n",
    "       'cantVisitasMiercoles', 'cantVisitasJueves', 'cantVisitasViernes',\n",
    "       'cantVisitasSabado', 'cantidadDeEventos', 'cantAdCampaignHit',\n",
    "       'cantBandListing', 'cantCheckout', 'cantGenericListing', 'cantLead',\n",
    "       'cantSearchEngineHit', 'cantSearchedProducts', 'cantStaticpage',\n",
    "       'cantViewedProduct', 'cantVisitedSite', 'visitaALaMañana',\n",
    "       'visitaALaNoche', 'visitaALaTarde', 'visitaALaMadrugada', 'canalDirect',\n",
    "       'canalEmail', 'canalOrganic', 'canalPaid', 'canalRefferal',\n",
    "       'canalSocial', 'adCampaignHit', 'bandListing', 'checkout',\n",
    "       'genericListing', 'searchEngineHit', 'searchedProducts', 'staticpage',\n",
    "       'viewedProduct', 'visitedSite']]\n",
    "import random\n",
    "xg_reg = xgb.XGBRegressor(objective ='binary:hinge',colsample_bytree = 0.8, learning_rate = 0.1,\n",
    "                max_depth = 5, n_estimators = 6, scale_pos_weight = 0.95, min_child_weight=1)\n",
    "for i in range(350):    \n",
    "    data_dmatrix = xgb.DMatrix(data=X,label=y)\n",
    "    n = (random.randint(1000,2500))\n",
    "    X_train, X_test, y_train, y_test = train_test_split(X, y, test_size= 0.1, random_state= n)\n",
    "    xg_reg.fit(X_train,y_train)\n",
    "preds = xg_reg.predict(X_test)\n",
    "train_accuracy = accuracy_score(y_train, xg_reg.predict(X_train))\n",
    "print(train_accuracy)\n",
    "test_accuracy = accuracy_score(y_test, preds)\n",
    "print(test_accuracy)\n",
    "matriz_de_confusion = confusion_matrix(y_test, preds)\n",
    "print(matriz_de_confusion)\n",
    "area_debajo_de_curva = roc_auc_score(y_test, preds)\n",
    "print(area_debajo_de_curva)"
   ]
  },
  {
   "cell_type": "code",
   "execution_count": 69,
   "metadata": {},
   "outputs": [
    {
     "name": "stdout",
     "output_type": "stream",
     "text": [
      "6\n",
      "0.8093301574391448\n",
      "0.8133821223209619\n",
      "[[1488  333]\n",
      " [  24   68]]\n",
      "0.7781319389728529\n",
      "\n"
     ]
    },
    {
     "ename": "KeyboardInterrupt",
     "evalue": "",
     "output_type": "error",
     "traceback": [
      "\u001b[0;31m---------------------------------------------------------------------------\u001b[0m",
      "\u001b[0;31mKeyboardInterrupt\u001b[0m                         Traceback (most recent call last)",
      "\u001b[0;32m<ipython-input-69-5b2874433750>\u001b[0m in \u001b[0;36m<module>\u001b[0;34m()\u001b[0m\n\u001b[1;32m     21\u001b[0m     max_depth = 5, n_estimators = i, scale_pos_weight = 0.95, min_child_weight=1)\n\u001b[1;32m     22\u001b[0m     \u001b[0mX_train\u001b[0m\u001b[0;34m,\u001b[0m \u001b[0mX_test\u001b[0m\u001b[0;34m,\u001b[0m \u001b[0my_train\u001b[0m\u001b[0;34m,\u001b[0m \u001b[0my_test\u001b[0m \u001b[0;34m=\u001b[0m \u001b[0mtrain_test_split\u001b[0m\u001b[0;34m(\u001b[0m\u001b[0mX\u001b[0m\u001b[0;34m,\u001b[0m \u001b[0my\u001b[0m\u001b[0;34m,\u001b[0m \u001b[0mtest_size\u001b[0m\u001b[0;34m=\u001b[0m \u001b[0;36m0.1\u001b[0m\u001b[0;34m,\u001b[0m \u001b[0mrandom_state\u001b[0m\u001b[0;34m=\u001b[0m \u001b[0;36m123\u001b[0m\u001b[0;34m)\u001b[0m\u001b[0;34m\u001b[0m\u001b[0m\n\u001b[0;32m---> 23\u001b[0;31m     \u001b[0mxg_reg\u001b[0m\u001b[0;34m.\u001b[0m\u001b[0mfit\u001b[0m\u001b[0;34m(\u001b[0m\u001b[0mX_train\u001b[0m\u001b[0;34m,\u001b[0m\u001b[0my_train\u001b[0m\u001b[0;34m)\u001b[0m\u001b[0;34m\u001b[0m\u001b[0m\n\u001b[0m\u001b[1;32m     24\u001b[0m     \u001b[0mpreds\u001b[0m \u001b[0;34m=\u001b[0m \u001b[0mxg_reg\u001b[0m\u001b[0;34m.\u001b[0m\u001b[0mpredict\u001b[0m\u001b[0;34m(\u001b[0m\u001b[0mX_test\u001b[0m\u001b[0;34m)\u001b[0m\u001b[0;34m\u001b[0m\u001b[0m\n\u001b[1;32m     25\u001b[0m     \u001b[0mtrain_accuracy\u001b[0m \u001b[0;34m=\u001b[0m \u001b[0maccuracy_score\u001b[0m\u001b[0;34m(\u001b[0m\u001b[0my_train\u001b[0m\u001b[0;34m,\u001b[0m \u001b[0mxg_reg\u001b[0m\u001b[0;34m.\u001b[0m\u001b[0mpredict\u001b[0m\u001b[0;34m(\u001b[0m\u001b[0mX_train\u001b[0m\u001b[0;34m)\u001b[0m\u001b[0;34m)\u001b[0m\u001b[0;34m\u001b[0m\u001b[0m\n",
      "\u001b[0;32m/anaconda3/lib/python3.6/site-packages/xgboost/sklearn.py\u001b[0m in \u001b[0;36mfit\u001b[0;34m(self, X, y, sample_weight, eval_set, eval_metric, early_stopping_rounds, verbose, xgb_model, sample_weight_eval_set, callbacks)\u001b[0m\n\u001b[1;32m    371\u001b[0m                               \u001b[0mevals_result\u001b[0m\u001b[0;34m=\u001b[0m\u001b[0mevals_result\u001b[0m\u001b[0;34m,\u001b[0m \u001b[0mobj\u001b[0m\u001b[0;34m=\u001b[0m\u001b[0mobj\u001b[0m\u001b[0;34m,\u001b[0m \u001b[0mfeval\u001b[0m\u001b[0;34m=\u001b[0m\u001b[0mfeval\u001b[0m\u001b[0;34m,\u001b[0m\u001b[0;34m\u001b[0m\u001b[0m\n\u001b[1;32m    372\u001b[0m                               \u001b[0mverbose_eval\u001b[0m\u001b[0;34m=\u001b[0m\u001b[0mverbose\u001b[0m\u001b[0;34m,\u001b[0m \u001b[0mxgb_model\u001b[0m\u001b[0;34m=\u001b[0m\u001b[0mxgb_model\u001b[0m\u001b[0;34m,\u001b[0m\u001b[0;34m\u001b[0m\u001b[0m\n\u001b[0;32m--> 373\u001b[0;31m                               callbacks=callbacks)\n\u001b[0m\u001b[1;32m    374\u001b[0m \u001b[0;34m\u001b[0m\u001b[0m\n\u001b[1;32m    375\u001b[0m         \u001b[0;32mif\u001b[0m \u001b[0mevals_result\u001b[0m\u001b[0;34m:\u001b[0m\u001b[0;34m\u001b[0m\u001b[0m\n",
      "\u001b[0;32m/anaconda3/lib/python3.6/site-packages/xgboost/training.py\u001b[0m in \u001b[0;36mtrain\u001b[0;34m(params, dtrain, num_boost_round, evals, obj, feval, maximize, early_stopping_rounds, evals_result, verbose_eval, xgb_model, callbacks, learning_rates)\u001b[0m\n\u001b[1;32m    214\u001b[0m                            \u001b[0mevals\u001b[0m\u001b[0;34m=\u001b[0m\u001b[0mevals\u001b[0m\u001b[0;34m,\u001b[0m\u001b[0;34m\u001b[0m\u001b[0m\n\u001b[1;32m    215\u001b[0m                            \u001b[0mobj\u001b[0m\u001b[0;34m=\u001b[0m\u001b[0mobj\u001b[0m\u001b[0;34m,\u001b[0m \u001b[0mfeval\u001b[0m\u001b[0;34m=\u001b[0m\u001b[0mfeval\u001b[0m\u001b[0;34m,\u001b[0m\u001b[0;34m\u001b[0m\u001b[0m\n\u001b[0;32m--> 216\u001b[0;31m                            xgb_model=xgb_model, callbacks=callbacks)\n\u001b[0m\u001b[1;32m    217\u001b[0m \u001b[0;34m\u001b[0m\u001b[0m\n\u001b[1;32m    218\u001b[0m \u001b[0;34m\u001b[0m\u001b[0m\n",
      "\u001b[0;32m/anaconda3/lib/python3.6/site-packages/xgboost/training.py\u001b[0m in \u001b[0;36m_train_internal\u001b[0;34m(params, dtrain, num_boost_round, evals, obj, feval, xgb_model, callbacks)\u001b[0m\n\u001b[1;32m     72\u001b[0m         \u001b[0;31m# Skip the first update if it is a recovery step.\u001b[0m\u001b[0;34m\u001b[0m\u001b[0;34m\u001b[0m\u001b[0m\n\u001b[1;32m     73\u001b[0m         \u001b[0;32mif\u001b[0m \u001b[0mversion\u001b[0m \u001b[0;34m%\u001b[0m \u001b[0;36m2\u001b[0m \u001b[0;34m==\u001b[0m \u001b[0;36m0\u001b[0m\u001b[0;34m:\u001b[0m\u001b[0;34m\u001b[0m\u001b[0m\n\u001b[0;32m---> 74\u001b[0;31m             \u001b[0mbst\u001b[0m\u001b[0;34m.\u001b[0m\u001b[0mupdate\u001b[0m\u001b[0;34m(\u001b[0m\u001b[0mdtrain\u001b[0m\u001b[0;34m,\u001b[0m \u001b[0mi\u001b[0m\u001b[0;34m,\u001b[0m \u001b[0mobj\u001b[0m\u001b[0;34m)\u001b[0m\u001b[0;34m\u001b[0m\u001b[0m\n\u001b[0m\u001b[1;32m     75\u001b[0m             \u001b[0mbst\u001b[0m\u001b[0;34m.\u001b[0m\u001b[0msave_rabit_checkpoint\u001b[0m\u001b[0;34m(\u001b[0m\u001b[0;34m)\u001b[0m\u001b[0;34m\u001b[0m\u001b[0m\n\u001b[1;32m     76\u001b[0m             \u001b[0mversion\u001b[0m \u001b[0;34m+=\u001b[0m \u001b[0;36m1\u001b[0m\u001b[0;34m\u001b[0m\u001b[0m\n",
      "\u001b[0;32m/anaconda3/lib/python3.6/site-packages/xgboost/core.py\u001b[0m in \u001b[0;36mupdate\u001b[0;34m(self, dtrain, iteration, fobj)\u001b[0m\n\u001b[1;32m   1043\u001b[0m         \u001b[0;32mif\u001b[0m \u001b[0mfobj\u001b[0m \u001b[0;32mis\u001b[0m \u001b[0;32mNone\u001b[0m\u001b[0;34m:\u001b[0m\u001b[0;34m\u001b[0m\u001b[0m\n\u001b[1;32m   1044\u001b[0m             _check_call(_LIB.XGBoosterUpdateOneIter(self.handle, ctypes.c_int(iteration),\n\u001b[0;32m-> 1045\u001b[0;31m                                                     dtrain.handle))\n\u001b[0m\u001b[1;32m   1046\u001b[0m         \u001b[0;32melse\u001b[0m\u001b[0;34m:\u001b[0m\u001b[0;34m\u001b[0m\u001b[0m\n\u001b[1;32m   1047\u001b[0m             \u001b[0mpred\u001b[0m \u001b[0;34m=\u001b[0m \u001b[0mself\u001b[0m\u001b[0;34m.\u001b[0m\u001b[0mpredict\u001b[0m\u001b[0;34m(\u001b[0m\u001b[0mdtrain\u001b[0m\u001b[0;34m)\u001b[0m\u001b[0;34m\u001b[0m\u001b[0m\n",
      "\u001b[0;31mKeyboardInterrupt\u001b[0m: "
     ]
    }
   ],
   "source": [
    "X = labels_f.loc[:,['esNuevo', 'cantidadDeVisitas',\n",
    "       'ingresoPorPublicidad', 'deviceSmartphone', 'deviceComputer',\n",
    "       'deviceTablet', 'deviceUnknown', 'cantVisitasAVP', 'maniana', 'tarde',\n",
    "       'noche', 'madrugada', 'cantDirect', 'cantEmail', 'cantOrganic',\n",
    "       'cantPaid', 'cantReferral', 'cantSocial', 'cantUnknown',\n",
    "       'cantVisitasDomingo', 'cantVisitasLunes', 'cantVisitasMartes',\n",
    "       'cantVisitasMiercoles', 'cantVisitasJueves', 'cantVisitasViernes',\n",
    "       'cantVisitasSabado', 'cantidadDeEventos', 'cantAdCampaignHit',\n",
    "       'cantBandListing', 'cantCheckout', 'cantGenericListing', 'cantLead',\n",
    "       'cantSearchEngineHit', 'cantSearchedProducts', 'cantStaticpage',\n",
    "       'cantViewedProduct', 'cantVisitedSite', 'visitaALaMañana',\n",
    "       'visitaALaNoche', 'visitaALaTarde', 'visitaALaMadrugada', 'canalDirect',\n",
    "       'canalEmail', 'canalOrganic', 'canalPaid', 'canalRefferal',\n",
    "       'canalSocial', 'adCampaignHit', 'bandListing', 'checkout',\n",
    "       'genericListing', 'searchEngineHit', 'searchedProducts', 'staticpage',\n",
    "       'viewedProduct', 'visitedSite']]\n",
    "y = labels_f.loc[:,'label']\n",
    "for i in range(123):    \n",
    "    data_dmatrix = xgb.DMatrix(data=X,label=y)\n",
    "    xg_reg = xgb.XGBRegressor(objective ='binary:hinge',colsample_bytree = 0.8, learning_rate = 0.1,\n",
    "    max_depth = 5, n_estimators = i, scale_pos_weight = 0.95, min_child_weight=1)\n",
    "    X_train, X_test, y_train, y_test = train_test_split(X, y, test_size= 0.1, random_state= 123)\n",
    "    xg_reg.fit(X_train,y_train)\n",
    "    preds = xg_reg.predict(X_test)\n",
    "    train_accuracy = accuracy_score(y_train, xg_reg.predict(X_train))\n",
    "    test_accuracy = accuracy_score(y_test, preds)\n",
    "    area_debajo_de_curva = roc_auc_score(y_test, preds)\n",
    "    if(area_debajo_de_curva > 0.76):\n",
    "        print(i)\n",
    "        print(train_accuracy)\n",
    "       \n",
    "        print(test_accuracy)\n",
    "        matriz_de_confusion = confusion_matrix(y_test, preds)\n",
    "        print(matriz_de_confusion)\n",
    "\n",
    "        print(area_debajo_de_curva)\n",
    "        print()"
   ]
  },
  {
   "cell_type": "code",
   "execution_count": null,
   "metadata": {
    "scrolled": true
   },
   "outputs": [],
   "source": [
    "\n",
    "print('Random Forest')\n",
    "scoreFeaturesIndivididuales = {}\n",
    "for i in range (2,58):\n",
    "    X = labels_f.iloc[:,i:i+1]\n",
    "    X_train, X_test, y_train, y_test = train_test_split(X, y, test_size=0.20, random_state=123)\n",
    "    scoreFeaturesIndivididuales[labels[i]] = aplicarRandomForest(X_train, X_test, y_train, y_test,300,False)\n",
    "\n",
    "for feature in scoreFeaturesIndivididuales: \n",
    "    print(feature,\"=\",scoreFeaturesIndivididuales[feature])\n",
    "\n"
   ]
  },
  {
   "cell_type": "code",
   "execution_count": null,
   "metadata": {},
   "outputs": [],
   "source": [
    "#NO CORRER ESTO\n",
    "print('KNN')\n",
    "scoreFeaturesIndivididuales = {}\n",
    "for i in range (2,58):\n",
    "    X = labels_f.iloc[:,i:i+1]\n",
    "    X_train, X_test, y_train, y_test = train_test_split(X, y, test_size=0.20, random_state=123)\n",
    "    scoreFeaturesIndivididuales[labels[i]] = aplicarKNN(X_train, X_test, y_train, y_test,1000,False)\n",
    "\n",
    "for feature in scoreFeaturesIndivididuales: \n",
    "    print(feature,\"=\",scoreFeaturesIndivididuales[feature])\n",
    "\n"
   ]
  }
 ],
 "metadata": {
  "kernelspec": {
   "display_name": "Python 3",
   "language": "python",
   "name": "python3"
  },
  "language_info": {
   "codemirror_mode": {
    "name": "ipython",
    "version": 3
   },
   "file_extension": ".py",
   "mimetype": "text/x-python",
   "name": "python",
   "nbconvert_exporter": "python",
   "pygments_lexer": "ipython3",
   "version": "3.6.5"
  }
 },
 "nbformat": 4,
 "nbformat_minor": 2
}
